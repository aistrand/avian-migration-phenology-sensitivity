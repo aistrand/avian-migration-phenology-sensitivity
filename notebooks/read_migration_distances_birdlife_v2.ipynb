{
 "cells": [
  {
   "cell_type": "code",
   "execution_count": 1,
   "metadata": {},
   "outputs": [],
   "source": [
    "import os\n",
    "import pandas as pd\n",
    "import matplotlib.pyplot as plt\n",
    "import numpy as np"
   ]
  },
  {
   "cell_type": "code",
   "execution_count": 2,
   "metadata": {},
   "outputs": [
    {
     "data": {
      "text/plain": [
       "'/Users/alvastrand/Documents/OU/Research/notebooks'"
      ]
     },
     "execution_count": 2,
     "metadata": {},
     "output_type": "execute_result"
    }
   ],
   "source": [
    "os.getcwd()"
   ]
  },
  {
   "cell_type": "code",
   "execution_count": 3,
   "metadata": {},
   "outputs": [],
   "source": [
    "path = '/Users/alvastrand/Documents/OU/Research/'\n",
    "os.chdir(path)"
   ]
  },
  {
   "cell_type": "code",
   "execution_count": 4,
   "metadata": {},
   "outputs": [
    {
     "data": {
      "text/plain": [
       "'/Users/alvastrand/Documents/OU/Research'"
      ]
     },
     "execution_count": 4,
     "metadata": {},
     "output_type": "execute_result"
    }
   ],
   "source": [
    "os.getcwd()"
   ]
  },
  {
   "cell_type": "code",
   "execution_count": 5,
   "metadata": {},
   "outputs": [],
   "source": [
    "pd.set_option('max_columns', 100)\n",
    "pd.set_option('max_rows', 100)"
   ]
  },
  {
   "cell_type": "code",
   "execution_count": 6,
   "metadata": {},
   "outputs": [],
   "source": [
    "subdir = 'data/BirdLife/'\n",
    "filename = 'migration_distance_birdlife_west-hem.txt'\n",
    "df_b = pd.read_csv(subdir + filename, sep='\\t')"
   ]
  },
  {
   "cell_type": "code",
   "execution_count": 7,
   "metadata": {},
   "outputs": [
    {
     "data": {
      "text/html": [
       "<div>\n",
       "<style scoped>\n",
       "    .dataframe tbody tr th:only-of-type {\n",
       "        vertical-align: middle;\n",
       "    }\n",
       "\n",
       "    .dataframe tbody tr th {\n",
       "        vertical-align: top;\n",
       "    }\n",
       "\n",
       "    .dataframe thead th {\n",
       "        text-align: right;\n",
       "    }\n",
       "</style>\n",
       "<table border=\"1\" class=\"dataframe\">\n",
       "  <thead>\n",
       "    <tr style=\"text-align: right;\">\n",
       "      <th></th>\n",
       "      <th>scientific</th>\n",
       "      <th>LON.b</th>\n",
       "      <th>LAT.b</th>\n",
       "      <th>LON.nb</th>\n",
       "      <th>LAT.nb</th>\n",
       "      <th>MAX.LAT.nb</th>\n",
       "      <th>distance</th>\n",
       "      <th>intersect</th>\n",
       "    </tr>\n",
       "  </thead>\n",
       "  <tbody>\n",
       "    <tr>\n",
       "      <th>0</th>\n",
       "      <td>Abeillia abeillei</td>\n",
       "      <td>-90.500000</td>\n",
       "      <td>15.543646</td>\n",
       "      <td>-90.500000</td>\n",
       "      <td>15.543646</td>\n",
       "      <td>19.849085</td>\n",
       "      <td>0.0</td>\n",
       "      <td>1.0</td>\n",
       "    </tr>\n",
       "    <tr>\n",
       "      <th>1</th>\n",
       "      <td>Aburria aburri</td>\n",
       "      <td>-75.227941</td>\n",
       "      <td>-1.987264</td>\n",
       "      <td>-75.227941</td>\n",
       "      <td>-1.987264</td>\n",
       "      <td>11.022187</td>\n",
       "      <td>0.0</td>\n",
       "      <td>1.0</td>\n",
       "    </tr>\n",
       "  </tbody>\n",
       "</table>\n",
       "</div>"
      ],
      "text/plain": [
       "          scientific      LON.b      LAT.b     LON.nb     LAT.nb  MAX.LAT.nb  \\\n",
       "0  Abeillia abeillei -90.500000  15.543646 -90.500000  15.543646   19.849085   \n",
       "1     Aburria aburri -75.227941  -1.987264 -75.227941  -1.987264   11.022187   \n",
       "\n",
       "   distance  intersect  \n",
       "0       0.0        1.0  \n",
       "1       0.0        1.0  "
      ]
     },
     "execution_count": 7,
     "metadata": {},
     "output_type": "execute_result"
    }
   ],
   "source": [
    "df_b.head(2)"
   ]
  },
  {
   "cell_type": "code",
   "execution_count": 8,
   "metadata": {},
   "outputs": [],
   "source": [
    "df_b = df_b.rename(columns={'scientific': 'scientific_name'})"
   ]
  },
  {
   "cell_type": "code",
   "execution_count": 9,
   "metadata": {
    "scrolled": true
   },
   "outputs": [],
   "source": [
    "# subdir = 'data/checklists/'\n",
    "# filename = 'Clements-Checklist-v2019-August-2019.csv'\n",
    "# df_c = pd.read_csv(subdir + filename)"
   ]
  },
  {
   "cell_type": "code",
   "execution_count": 10,
   "metadata": {},
   "outputs": [],
   "source": [
    "# subdir = 'data/checklists/'\n",
    "# filename = 'eBird_Taxonomy_v2019.csv'\n",
    "# df_e = pd.read_csv(subdir + filename)"
   ]
  },
  {
   "cell_type": "code",
   "execution_count": 11,
   "metadata": {
    "scrolled": true
   },
   "outputs": [],
   "source": [
    "# df_e.head(2)"
   ]
  },
  {
   "cell_type": "code",
   "execution_count": 12,
   "metadata": {},
   "outputs": [],
   "source": [
    "# df_e = df_e.rename(columns={'SCI_NAME': 'scientific_name'})"
   ]
  },
  {
   "cell_type": "code",
   "execution_count": 13,
   "metadata": {
    "scrolled": true
   },
   "outputs": [],
   "source": [
    "# subdir = 'data/checklists/'\n",
    "# filename = 'eBird-Clements-v2019-integrated-checklist-August-2019.csv'\n",
    "# df_e_c = pd.read_csv(subdir + filename)"
   ]
  },
  {
   "cell_type": "code",
   "execution_count": 14,
   "metadata": {},
   "outputs": [],
   "source": [
    "subdir = 'data/checklists/'\n",
    "filename = 'NACC_list_species.csv'\n",
    "df_n = pd.read_csv(subdir + filename)"
   ]
  },
  {
   "cell_type": "code",
   "execution_count": 15,
   "metadata": {},
   "outputs": [
    {
     "data": {
      "text/html": [
       "<div>\n",
       "<style scoped>\n",
       "    .dataframe tbody tr th:only-of-type {\n",
       "        vertical-align: middle;\n",
       "    }\n",
       "\n",
       "    .dataframe tbody tr th {\n",
       "        vertical-align: top;\n",
       "    }\n",
       "\n",
       "    .dataframe thead th {\n",
       "        text-align: right;\n",
       "    }\n",
       "</style>\n",
       "<table border=\"1\" class=\"dataframe\">\n",
       "  <thead>\n",
       "    <tr style=\"text-align: right;\">\n",
       "      <th></th>\n",
       "      <th>id</th>\n",
       "      <th>avibase id</th>\n",
       "      <th>rank</th>\n",
       "      <th>common_name</th>\n",
       "      <th>french_name</th>\n",
       "      <th>order</th>\n",
       "      <th>family</th>\n",
       "      <th>subfamily</th>\n",
       "      <th>genus</th>\n",
       "      <th>species</th>\n",
       "      <th>annotation</th>\n",
       "      <th>status_accidental</th>\n",
       "      <th>status_hawaiian</th>\n",
       "      <th>status_introduced</th>\n",
       "      <th>status_nonbreeding</th>\n",
       "      <th>status_extinct</th>\n",
       "      <th>status_misplaced</th>\n",
       "    </tr>\n",
       "  </thead>\n",
       "  <tbody>\n",
       "    <tr>\n",
       "      <th>0</th>\n",
       "      <td>2</td>\n",
       "      <td>66C31E09F8C285D6</td>\n",
       "      <td>species</td>\n",
       "      <td>Highland Tinamou</td>\n",
       "      <td>Tinamou de Bonaparte</td>\n",
       "      <td>Tinamiformes</td>\n",
       "      <td>Tinamidae</td>\n",
       "      <td>NaN</td>\n",
       "      <td>Nothocercus</td>\n",
       "      <td>Nothocercus bonapartei</td>\n",
       "      <td>NaN</td>\n",
       "      <td>NaN</td>\n",
       "      <td>NaN</td>\n",
       "      <td>NaN</td>\n",
       "      <td>NaN</td>\n",
       "      <td>NaN</td>\n",
       "      <td>NaN</td>\n",
       "    </tr>\n",
       "    <tr>\n",
       "      <th>1</th>\n",
       "      <td>1</td>\n",
       "      <td>42D72AE118D2DE82</td>\n",
       "      <td>species</td>\n",
       "      <td>Great Tinamou</td>\n",
       "      <td>Grand Tinamou</td>\n",
       "      <td>Tinamiformes</td>\n",
       "      <td>Tinamidae</td>\n",
       "      <td>NaN</td>\n",
       "      <td>Tinamus</td>\n",
       "      <td>Tinamus major</td>\n",
       "      <td>NaN</td>\n",
       "      <td>NaN</td>\n",
       "      <td>NaN</td>\n",
       "      <td>NaN</td>\n",
       "      <td>NaN</td>\n",
       "      <td>NaN</td>\n",
       "      <td>NaN</td>\n",
       "    </tr>\n",
       "  </tbody>\n",
       "</table>\n",
       "</div>"
      ],
      "text/plain": [
       "   id        avibase id     rank       common_name           french_name  \\\n",
       "0   2  66C31E09F8C285D6  species  Highland Tinamou  Tinamou de Bonaparte   \n",
       "1   1  42D72AE118D2DE82  species     Great Tinamou         Grand Tinamou   \n",
       "\n",
       "          order     family subfamily        genus                 species  \\\n",
       "0  Tinamiformes  Tinamidae       NaN  Nothocercus  Nothocercus bonapartei   \n",
       "1  Tinamiformes  Tinamidae       NaN      Tinamus           Tinamus major   \n",
       "\n",
       "  annotation status_accidental status_hawaiian status_introduced  \\\n",
       "0        NaN               NaN             NaN               NaN   \n",
       "1        NaN               NaN             NaN               NaN   \n",
       "\n",
       "  status_nonbreeding status_extinct status_misplaced  \n",
       "0                NaN            NaN              NaN  \n",
       "1                NaN            NaN              NaN  "
      ]
     },
     "execution_count": 15,
     "metadata": {},
     "output_type": "execute_result"
    }
   ],
   "source": [
    "df_n.head(2)"
   ]
  },
  {
   "cell_type": "code",
   "execution_count": 16,
   "metadata": {},
   "outputs": [],
   "source": [
    "df_n = df_n.rename(columns={'species': 'scientific_name'})"
   ]
  },
  {
   "cell_type": "code",
   "execution_count": null,
   "metadata": {},
   "outputs": [],
   "source": []
  },
  {
   "cell_type": "code",
   "execution_count": 17,
   "metadata": {},
   "outputs": [],
   "source": [
    "# path_output = 'data/Handbook/'\n",
    "path_output = 'data/output/'\n",
    "\n",
    "# filename = 'migratory_species.csv'\n",
    "# Body masses that I calculated\n",
    "filename = 'all_obligate_aerial_insectivores_body_masses.csv'\n",
    "\n",
    "df_h = pd.read_csv(path_output + filename)"
   ]
  },
  {
   "cell_type": "code",
   "execution_count": 18,
   "metadata": {},
   "outputs": [
    {
     "data": {
      "text/plain": [
       "38"
      ]
     },
     "execution_count": 18,
     "metadata": {},
     "output_type": "execute_result"
    }
   ],
   "source": [
    "len(df_h)"
   ]
  },
  {
   "cell_type": "code",
   "execution_count": 19,
   "metadata": {},
   "outputs": [
    {
     "data": {
      "text/html": [
       "<div>\n",
       "<style scoped>\n",
       "    .dataframe tbody tr th:only-of-type {\n",
       "        vertical-align: middle;\n",
       "    }\n",
       "\n",
       "    .dataframe tbody tr th {\n",
       "        vertical-align: top;\n",
       "    }\n",
       "\n",
       "    .dataframe thead th {\n",
       "        text-align: right;\n",
       "    }\n",
       "</style>\n",
       "<table border=\"1\" class=\"dataframe\">\n",
       "  <thead>\n",
       "    <tr style=\"text-align: right;\">\n",
       "      <th></th>\n",
       "      <th>scientific_name</th>\n",
       "      <th>common_name</th>\n",
       "      <th>scientific_name_handbook</th>\n",
       "      <th>common_name_handbook</th>\n",
       "      <th>sex</th>\n",
       "      <th>n</th>\n",
       "      <th>mean</th>\n",
       "      <th>sum_products_n_mean</th>\n",
       "      <th>sum_n</th>\n",
       "      <th>weighted_mean</th>\n",
       "      <th>mean_all</th>\n",
       "      <th>mean_reported_by_kyle_horton</th>\n",
       "      <th>error</th>\n",
       "    </tr>\n",
       "  </thead>\n",
       "  <tbody>\n",
       "    <tr>\n",
       "      <th>0</th>\n",
       "      <td>Aeronautes saxatalis</td>\n",
       "      <td>White-throated Swift</td>\n",
       "      <td>Aeronautes saxatalis</td>\n",
       "      <td>White-throated Swift</td>\n",
       "      <td>U</td>\n",
       "      <td>20.0</td>\n",
       "      <td>32.1</td>\n",
       "      <td>NaN</td>\n",
       "      <td>NaN</td>\n",
       "      <td>32.1</td>\n",
       "      <td>32.1</td>\n",
       "      <td>32.1</td>\n",
       "      <td>NaN</td>\n",
       "    </tr>\n",
       "    <tr>\n",
       "      <th>1</th>\n",
       "      <td>Chaetura pelagica</td>\n",
       "      <td>Chimney Swift</td>\n",
       "      <td>Chaetura pelagica</td>\n",
       "      <td>Chimney Swift</td>\n",
       "      <td>U</td>\n",
       "      <td>1805.0</td>\n",
       "      <td>23.6</td>\n",
       "      <td>NaN</td>\n",
       "      <td>NaN</td>\n",
       "      <td>23.6</td>\n",
       "      <td>23.6</td>\n",
       "      <td>23.6</td>\n",
       "      <td>NaN</td>\n",
       "    </tr>\n",
       "  </tbody>\n",
       "</table>\n",
       "</div>"
      ],
      "text/plain": [
       "        scientific_name           common_name scientific_name_handbook  \\\n",
       "0  Aeronautes saxatalis  White-throated Swift     Aeronautes saxatalis   \n",
       "1     Chaetura pelagica         Chimney Swift        Chaetura pelagica   \n",
       "\n",
       "   common_name_handbook sex       n  mean  sum_products_n_mean  sum_n  \\\n",
       "0  White-throated Swift   U    20.0  32.1                  NaN    NaN   \n",
       "1         Chimney Swift   U  1805.0  23.6                  NaN    NaN   \n",
       "\n",
       "   weighted_mean  mean_all  mean_reported_by_kyle_horton  error  \n",
       "0           32.1      32.1                          32.1    NaN  \n",
       "1           23.6      23.6                          23.6    NaN  "
      ]
     },
     "execution_count": 19,
     "metadata": {},
     "output_type": "execute_result"
    }
   ],
   "source": [
    "df_h.head(2)"
   ]
  },
  {
   "cell_type": "code",
   "execution_count": 20,
   "metadata": {},
   "outputs": [],
   "source": [
    "# df_h = df_h.rename(columns={'Scientific': 'scientific_name'})"
   ]
  },
  {
   "cell_type": "code",
   "execution_count": 21,
   "metadata": {},
   "outputs": [],
   "source": [
    "df_h = df_h.dropna(subset=['weighted_mean'])"
   ]
  },
  {
   "cell_type": "code",
   "execution_count": 22,
   "metadata": {},
   "outputs": [],
   "source": [
    "df_h = df_h[['scientific_name', 'common_name', 'weighted_mean']]"
   ]
  },
  {
   "cell_type": "code",
   "execution_count": 23,
   "metadata": {},
   "outputs": [],
   "source": [
    "df_h = df_h.rename(columns={'weighted_mean': 'body_mass'})"
   ]
  },
  {
   "cell_type": "code",
   "execution_count": 24,
   "metadata": {},
   "outputs": [
    {
     "data": {
      "text/html": [
       "<div>\n",
       "<style scoped>\n",
       "    .dataframe tbody tr th:only-of-type {\n",
       "        vertical-align: middle;\n",
       "    }\n",
       "\n",
       "    .dataframe tbody tr th {\n",
       "        vertical-align: top;\n",
       "    }\n",
       "\n",
       "    .dataframe thead th {\n",
       "        text-align: right;\n",
       "    }\n",
       "</style>\n",
       "<table border=\"1\" class=\"dataframe\">\n",
       "  <thead>\n",
       "    <tr style=\"text-align: right;\">\n",
       "      <th></th>\n",
       "      <th>scientific_name</th>\n",
       "      <th>common_name</th>\n",
       "      <th>body_mass</th>\n",
       "    </tr>\n",
       "  </thead>\n",
       "  <tbody>\n",
       "    <tr>\n",
       "      <th>0</th>\n",
       "      <td>Aeronautes saxatalis</td>\n",
       "      <td>White-throated Swift</td>\n",
       "      <td>32.1</td>\n",
       "    </tr>\n",
       "    <tr>\n",
       "      <th>1</th>\n",
       "      <td>Chaetura pelagica</td>\n",
       "      <td>Chimney Swift</td>\n",
       "      <td>23.6</td>\n",
       "    </tr>\n",
       "  </tbody>\n",
       "</table>\n",
       "</div>"
      ],
      "text/plain": [
       "        scientific_name           common_name  body_mass\n",
       "0  Aeronautes saxatalis  White-throated Swift       32.1\n",
       "1     Chaetura pelagica         Chimney Swift       23.6"
      ]
     },
     "execution_count": 24,
     "metadata": {},
     "output_type": "execute_result"
    }
   ],
   "source": [
    "df_h.head(2)"
   ]
  },
  {
   "cell_type": "code",
   "execution_count": null,
   "metadata": {},
   "outputs": [],
   "source": []
  },
  {
   "cell_type": "code",
   "execution_count": 25,
   "metadata": {},
   "outputs": [],
   "source": [
    "df_b_n = df_b.merge(df_n, on='scientific_name')"
   ]
  },
  {
   "cell_type": "code",
   "execution_count": 26,
   "metadata": {},
   "outputs": [
    {
     "name": "stdout",
     "output_type": "stream",
     "text": [
      "4785\n",
      "2154\n",
      "1794\n",
      "2991\n"
     ]
    }
   ],
   "source": [
    "print(len(df_b))\n",
    "print(len(df_n))\n",
    "print(len(df_b_n))\n",
    "\n",
    "print(len(df_b)-len(df_b_n))\n",
    "# There are 2,991 species that are not in the Birds of North and Middle America Checklist (produced by the North \n",
    "# American Classification and Nomenclature Committee (NACC)). These could be South American species."
   ]
  },
  {
   "cell_type": "code",
   "execution_count": 27,
   "metadata": {},
   "outputs": [
    {
     "data": {
      "text/html": [
       "<div>\n",
       "<style scoped>\n",
       "    .dataframe tbody tr th:only-of-type {\n",
       "        vertical-align: middle;\n",
       "    }\n",
       "\n",
       "    .dataframe tbody tr th {\n",
       "        vertical-align: top;\n",
       "    }\n",
       "\n",
       "    .dataframe thead th {\n",
       "        text-align: right;\n",
       "    }\n",
       "</style>\n",
       "<table border=\"1\" class=\"dataframe\">\n",
       "  <thead>\n",
       "    <tr style=\"text-align: right;\">\n",
       "      <th></th>\n",
       "      <th>scientific_name</th>\n",
       "      <th>LON.b</th>\n",
       "      <th>LAT.b</th>\n",
       "      <th>LON.nb</th>\n",
       "      <th>LAT.nb</th>\n",
       "      <th>MAX.LAT.nb</th>\n",
       "      <th>distance</th>\n",
       "      <th>intersect</th>\n",
       "      <th>id</th>\n",
       "      <th>avibase id</th>\n",
       "      <th>rank</th>\n",
       "      <th>common_name</th>\n",
       "      <th>french_name</th>\n",
       "      <th>order</th>\n",
       "      <th>family</th>\n",
       "      <th>subfamily</th>\n",
       "      <th>genus</th>\n",
       "      <th>annotation</th>\n",
       "      <th>status_accidental</th>\n",
       "      <th>status_hawaiian</th>\n",
       "      <th>status_introduced</th>\n",
       "      <th>status_nonbreeding</th>\n",
       "      <th>status_extinct</th>\n",
       "      <th>status_misplaced</th>\n",
       "    </tr>\n",
       "  </thead>\n",
       "  <tbody>\n",
       "    <tr>\n",
       "      <th>0</th>\n",
       "      <td>Abeillia abeillei</td>\n",
       "      <td>-90.50</td>\n",
       "      <td>15.543646</td>\n",
       "      <td>-90.50</td>\n",
       "      <td>15.543646</td>\n",
       "      <td>19.849085</td>\n",
       "      <td>0.0</td>\n",
       "      <td>1.0</td>\n",
       "      <td>788</td>\n",
       "      <td>B3F5E5E222C2694B</td>\n",
       "      <td>species</td>\n",
       "      <td>Emerald-chinned Hummingbird</td>\n",
       "      <td>Colibri d'Abeillé</td>\n",
       "      <td>Apodiformes</td>\n",
       "      <td>Trochilidae</td>\n",
       "      <td>Trochilinae</td>\n",
       "      <td>Abeillia</td>\n",
       "      <td>NaN</td>\n",
       "      <td>NaN</td>\n",
       "      <td>NaN</td>\n",
       "      <td>NaN</td>\n",
       "      <td>NaN</td>\n",
       "      <td>NaN</td>\n",
       "      <td>NaN</td>\n",
       "    </tr>\n",
       "    <tr>\n",
       "      <th>1</th>\n",
       "      <td>Acanthidops bairdi</td>\n",
       "      <td>-83.75</td>\n",
       "      <td>9.751677</td>\n",
       "      <td>-83.75</td>\n",
       "      <td>9.751677</td>\n",
       "      <td>10.513218</td>\n",
       "      <td>0.0</td>\n",
       "      <td>1.0</td>\n",
       "      <td>1976</td>\n",
       "      <td>5CCF7540501E4A68</td>\n",
       "      <td>species</td>\n",
       "      <td>Peg-billed Finch</td>\n",
       "      <td>Bec-en-cheville gris</td>\n",
       "      <td>Passeriformes</td>\n",
       "      <td>Thraupidae</td>\n",
       "      <td>Diglossinae</td>\n",
       "      <td>Acanthidops</td>\n",
       "      <td>Monotypic.</td>\n",
       "      <td>NaN</td>\n",
       "      <td>NaN</td>\n",
       "      <td>NaN</td>\n",
       "      <td>NaN</td>\n",
       "      <td>NaN</td>\n",
       "      <td>*</td>\n",
       "    </tr>\n",
       "  </tbody>\n",
       "</table>\n",
       "</div>"
      ],
      "text/plain": [
       "      scientific_name  LON.b      LAT.b  LON.nb     LAT.nb  MAX.LAT.nb  \\\n",
       "0   Abeillia abeillei -90.50  15.543646  -90.50  15.543646   19.849085   \n",
       "1  Acanthidops bairdi -83.75   9.751677  -83.75   9.751677   10.513218   \n",
       "\n",
       "   distance  intersect    id        avibase id     rank  \\\n",
       "0       0.0        1.0   788  B3F5E5E222C2694B  species   \n",
       "1       0.0        1.0  1976  5CCF7540501E4A68  species   \n",
       "\n",
       "                   common_name           french_name          order  \\\n",
       "0  Emerald-chinned Hummingbird     Colibri d'Abeillé    Apodiformes   \n",
       "1             Peg-billed Finch  Bec-en-cheville gris  Passeriformes   \n",
       "\n",
       "        family    subfamily        genus  annotation status_accidental  \\\n",
       "0  Trochilidae  Trochilinae     Abeillia         NaN               NaN   \n",
       "1   Thraupidae  Diglossinae  Acanthidops  Monotypic.               NaN   \n",
       "\n",
       "  status_hawaiian status_introduced status_nonbreeding status_extinct  \\\n",
       "0             NaN               NaN                NaN            NaN   \n",
       "1             NaN               NaN                NaN            NaN   \n",
       "\n",
       "  status_misplaced  \n",
       "0              NaN  \n",
       "1                *  "
      ]
     },
     "execution_count": 27,
     "metadata": {},
     "output_type": "execute_result"
    }
   ],
   "source": [
    "df_b_n.head(2)"
   ]
  },
  {
   "cell_type": "code",
   "execution_count": 28,
   "metadata": {},
   "outputs": [],
   "source": [
    "# df_b_e = df_b.merge(df_e, on='scientific_name')\n",
    "\n",
    "# print(len(df_b))\n",
    "# print(len(df_e))\n",
    "# print(len(df_b_e))\n",
    "\n",
    "# print(len(df_b)-len(df_b_e))\n",
    "# # Why are 510 species missing from the 2019 eBird taxonomy?\n",
    "\n",
    "# df_b_e = df_b_e.rename(columns={'FAMILY': 'family'})"
   ]
  },
  {
   "cell_type": "code",
   "execution_count": 29,
   "metadata": {},
   "outputs": [],
   "source": [
    "# print(len(df_b_n[df_b_n['family'].str.contains('Caprimulgidae')]))\n",
    "# print(len(df_b_n[df_b_n['family'].str.contains('Apodidae')]))\n",
    "# print(len(df_b_n[df_b_n['family'].str.contains('Hirundinidae')]))"
   ]
  },
  {
   "cell_type": "code",
   "execution_count": null,
   "metadata": {},
   "outputs": [],
   "source": []
  },
  {
   "cell_type": "code",
   "execution_count": 30,
   "metadata": {},
   "outputs": [],
   "source": [
    "subdir = 'data/Birds_of_North_America/'\n",
    "filename = 'obligate_aerial_insectivores_birds_of_north_america.csv'\n",
    "df_bna = pd.read_csv(subdir + filename)"
   ]
  },
  {
   "cell_type": "markdown",
   "metadata": {},
   "source": [
    "I scraped these data off of Birds of North America (now Birds of the World)."
   ]
  },
  {
   "cell_type": "code",
   "execution_count": 31,
   "metadata": {},
   "outputs": [],
   "source": [
    "df_bna.rename(columns={'order': 'order_birds_of_north_america'}, inplace=True)"
   ]
  },
  {
   "cell_type": "code",
   "execution_count": 32,
   "metadata": {},
   "outputs": [
    {
     "data": {
      "text/plain": [
       "21"
      ]
     },
     "execution_count": 32,
     "metadata": {},
     "output_type": "execute_result"
    }
   ],
   "source": [
    "len(df_bna)"
   ]
  },
  {
   "cell_type": "code",
   "execution_count": 33,
   "metadata": {},
   "outputs": [
    {
     "data": {
      "text/html": [
       "<div>\n",
       "<style scoped>\n",
       "    .dataframe tbody tr th:only-of-type {\n",
       "        vertical-align: middle;\n",
       "    }\n",
       "\n",
       "    .dataframe tbody tr th {\n",
       "        vertical-align: top;\n",
       "    }\n",
       "\n",
       "    .dataframe thead th {\n",
       "        text-align: right;\n",
       "    }\n",
       "</style>\n",
       "<table border=\"1\" class=\"dataframe\">\n",
       "  <thead>\n",
       "    <tr style=\"text-align: right;\">\n",
       "      <th></th>\n",
       "      <th>order_birds_of_north_america</th>\n",
       "      <th>family</th>\n",
       "      <th>common_name</th>\n",
       "      <th>scientific_name</th>\n",
       "    </tr>\n",
       "  </thead>\n",
       "  <tbody>\n",
       "    <tr>\n",
       "      <th>0</th>\n",
       "      <td>Caprimulgiformes</td>\n",
       "      <td>Caprimulgidae</td>\n",
       "      <td>Lesser Nighthawk</td>\n",
       "      <td>Chordeiles acutipennis</td>\n",
       "    </tr>\n",
       "    <tr>\n",
       "      <th>1</th>\n",
       "      <td>Caprimulgiformes</td>\n",
       "      <td>Caprimulgidae</td>\n",
       "      <td>Common Nighthawk</td>\n",
       "      <td>Chordeiles minor</td>\n",
       "    </tr>\n",
       "  </tbody>\n",
       "</table>\n",
       "</div>"
      ],
      "text/plain": [
       "  order_birds_of_north_america         family       common_name  \\\n",
       "0             Caprimulgiformes  Caprimulgidae  Lesser Nighthawk   \n",
       "1             Caprimulgiformes  Caprimulgidae  Common Nighthawk   \n",
       "\n",
       "          scientific_name  \n",
       "0  Chordeiles acutipennis  \n",
       "1        Chordeiles minor  "
      ]
     },
     "execution_count": 33,
     "metadata": {},
     "output_type": "execute_result"
    }
   ],
   "source": [
    "df_bna.head(2)"
   ]
  },
  {
   "cell_type": "code",
   "execution_count": 34,
   "metadata": {},
   "outputs": [],
   "source": [
    "df_b_n_bna = df_b_n.merge(df_bna, on=['scientific_name', 'common_name', 'family'])"
   ]
  },
  {
   "cell_type": "code",
   "execution_count": 35,
   "metadata": {},
   "outputs": [
    {
     "data": {
      "text/plain": [
       "21"
      ]
     },
     "execution_count": 35,
     "metadata": {},
     "output_type": "execute_result"
    }
   ],
   "source": [
    "len(df_b_n_bna)"
   ]
  },
  {
   "cell_type": "code",
   "execution_count": 36,
   "metadata": {},
   "outputs": [
    {
     "data": {
      "text/html": [
       "<div>\n",
       "<style scoped>\n",
       "    .dataframe tbody tr th:only-of-type {\n",
       "        vertical-align: middle;\n",
       "    }\n",
       "\n",
       "    .dataframe tbody tr th {\n",
       "        vertical-align: top;\n",
       "    }\n",
       "\n",
       "    .dataframe thead th {\n",
       "        text-align: right;\n",
       "    }\n",
       "</style>\n",
       "<table border=\"1\" class=\"dataframe\">\n",
       "  <thead>\n",
       "    <tr style=\"text-align: right;\">\n",
       "      <th></th>\n",
       "      <th>scientific_name</th>\n",
       "      <th>LON.b</th>\n",
       "      <th>LAT.b</th>\n",
       "      <th>LON.nb</th>\n",
       "      <th>LAT.nb</th>\n",
       "      <th>MAX.LAT.nb</th>\n",
       "      <th>distance</th>\n",
       "      <th>intersect</th>\n",
       "      <th>id</th>\n",
       "      <th>avibase id</th>\n",
       "      <th>rank</th>\n",
       "      <th>common_name</th>\n",
       "      <th>french_name</th>\n",
       "      <th>order</th>\n",
       "      <th>family</th>\n",
       "      <th>subfamily</th>\n",
       "      <th>genus</th>\n",
       "      <th>annotation</th>\n",
       "      <th>status_accidental</th>\n",
       "      <th>status_hawaiian</th>\n",
       "      <th>status_introduced</th>\n",
       "      <th>status_nonbreeding</th>\n",
       "      <th>status_extinct</th>\n",
       "      <th>status_misplaced</th>\n",
       "      <th>order_birds_of_north_america</th>\n",
       "    </tr>\n",
       "  </thead>\n",
       "  <tbody>\n",
       "    <tr>\n",
       "      <th>0</th>\n",
       "      <td>Aeronautes saxatalis</td>\n",
       "      <td>-108.698701</td>\n",
       "      <td>32.448050</td>\n",
       "      <td>-105.931063</td>\n",
       "      <td>26.265097</td>\n",
       "      <td>39.513228</td>\n",
       "      <td>736.046352</td>\n",
       "      <td>0.586364</td>\n",
       "      <td>755</td>\n",
       "      <td>B401C2DDB3ED732D</td>\n",
       "      <td>species</td>\n",
       "      <td>White-throated Swift</td>\n",
       "      <td>Martinet à gorge blanche</td>\n",
       "      <td>Apodiformes</td>\n",
       "      <td>Apodidae</td>\n",
       "      <td>Apodinae</td>\n",
       "      <td>Aeronautes</td>\n",
       "      <td>NaN</td>\n",
       "      <td>NaN</td>\n",
       "      <td>NaN</td>\n",
       "      <td>NaN</td>\n",
       "      <td>NaN</td>\n",
       "      <td>NaN</td>\n",
       "      <td>NaN</td>\n",
       "      <td>Caprimulgiformes</td>\n",
       "    </tr>\n",
       "    <tr>\n",
       "      <th>1</th>\n",
       "      <td>Antrostomus arizonae</td>\n",
       "      <td>-103.398915</td>\n",
       "      <td>24.849878</td>\n",
       "      <td>-100.202682</td>\n",
       "      <td>20.712022</td>\n",
       "      <td>28.631368</td>\n",
       "      <td>563.581341</td>\n",
       "      <td>0.625247</td>\n",
       "      <td>2061</td>\n",
       "      <td>CED2468C3EF9B42C</td>\n",
       "      <td>species</td>\n",
       "      <td>Mexican Whip-poor-will</td>\n",
       "      <td>Engoulevent d'Arizona</td>\n",
       "      <td>Caprimulgiformes</td>\n",
       "      <td>Caprimulgidae</td>\n",
       "      <td>Caprimulginae</td>\n",
       "      <td>Antrostomus</td>\n",
       "      <td>NaN</td>\n",
       "      <td>NaN</td>\n",
       "      <td>NaN</td>\n",
       "      <td>NaN</td>\n",
       "      <td>NaN</td>\n",
       "      <td>NaN</td>\n",
       "      <td>NaN</td>\n",
       "      <td>Caprimulgiformes</td>\n",
       "    </tr>\n",
       "  </tbody>\n",
       "</table>\n",
       "</div>"
      ],
      "text/plain": [
       "        scientific_name       LON.b      LAT.b      LON.nb     LAT.nb  \\\n",
       "0  Aeronautes saxatalis -108.698701  32.448050 -105.931063  26.265097   \n",
       "1  Antrostomus arizonae -103.398915  24.849878 -100.202682  20.712022   \n",
       "\n",
       "   MAX.LAT.nb    distance  intersect    id        avibase id     rank  \\\n",
       "0   39.513228  736.046352   0.586364   755  B401C2DDB3ED732D  species   \n",
       "1   28.631368  563.581341   0.625247  2061  CED2468C3EF9B42C  species   \n",
       "\n",
       "              common_name               french_name             order  \\\n",
       "0    White-throated Swift  Martinet à gorge blanche       Apodiformes   \n",
       "1  Mexican Whip-poor-will     Engoulevent d'Arizona  Caprimulgiformes   \n",
       "\n",
       "          family      subfamily        genus annotation status_accidental  \\\n",
       "0       Apodidae       Apodinae   Aeronautes        NaN               NaN   \n",
       "1  Caprimulgidae  Caprimulginae  Antrostomus        NaN               NaN   \n",
       "\n",
       "  status_hawaiian status_introduced status_nonbreeding status_extinct  \\\n",
       "0             NaN               NaN                NaN            NaN   \n",
       "1             NaN               NaN                NaN            NaN   \n",
       "\n",
       "  status_misplaced order_birds_of_north_america  \n",
       "0              NaN             Caprimulgiformes  \n",
       "1              NaN             Caprimulgiformes  "
      ]
     },
     "execution_count": 36,
     "metadata": {},
     "output_type": "execute_result"
    }
   ],
   "source": [
    "df_b_n_bna.head(2)"
   ]
  },
  {
   "cell_type": "code",
   "execution_count": 37,
   "metadata": {},
   "outputs": [
    {
     "data": {
      "text/html": [
       "<div>\n",
       "<style scoped>\n",
       "    .dataframe tbody tr th:only-of-type {\n",
       "        vertical-align: middle;\n",
       "    }\n",
       "\n",
       "    .dataframe tbody tr th {\n",
       "        vertical-align: top;\n",
       "    }\n",
       "\n",
       "    .dataframe thead th {\n",
       "        text-align: right;\n",
       "    }\n",
       "</style>\n",
       "<table border=\"1\" class=\"dataframe\">\n",
       "  <thead>\n",
       "    <tr style=\"text-align: right;\">\n",
       "      <th></th>\n",
       "      <th>scientific_name</th>\n",
       "      <th>common_name</th>\n",
       "      <th>order</th>\n",
       "      <th>order_birds_of_north_america</th>\n",
       "    </tr>\n",
       "  </thead>\n",
       "  <tbody>\n",
       "    <tr>\n",
       "      <th>0</th>\n",
       "      <td>Aeronautes saxatalis</td>\n",
       "      <td>White-throated Swift</td>\n",
       "      <td>Apodiformes</td>\n",
       "      <td>Caprimulgiformes</td>\n",
       "    </tr>\n",
       "    <tr>\n",
       "      <th>5</th>\n",
       "      <td>Chaetura pelagica</td>\n",
       "      <td>Chimney Swift</td>\n",
       "      <td>Apodiformes</td>\n",
       "      <td>Caprimulgiformes</td>\n",
       "    </tr>\n",
       "    <tr>\n",
       "      <th>6</th>\n",
       "      <td>Chaetura vauxi</td>\n",
       "      <td>Vaux's Swift</td>\n",
       "      <td>Apodiformes</td>\n",
       "      <td>Caprimulgiformes</td>\n",
       "    </tr>\n",
       "    <tr>\n",
       "      <th>10</th>\n",
       "      <td>Cypseloides niger</td>\n",
       "      <td>Black Swift</td>\n",
       "      <td>Apodiformes</td>\n",
       "      <td>Caprimulgiformes</td>\n",
       "    </tr>\n",
       "  </tbody>\n",
       "</table>\n",
       "</div>"
      ],
      "text/plain": [
       "         scientific_name           common_name        order  \\\n",
       "0   Aeronautes saxatalis  White-throated Swift  Apodiformes   \n",
       "5      Chaetura pelagica         Chimney Swift  Apodiformes   \n",
       "6         Chaetura vauxi          Vaux's Swift  Apodiformes   \n",
       "10     Cypseloides niger           Black Swift  Apodiformes   \n",
       "\n",
       "   order_birds_of_north_america  \n",
       "0              Caprimulgiformes  \n",
       "5              Caprimulgiformes  \n",
       "6              Caprimulgiformes  \n",
       "10             Caprimulgiformes  "
      ]
     },
     "execution_count": 37,
     "metadata": {},
     "output_type": "execute_result"
    }
   ],
   "source": [
    "df_b_n_bna[\n",
    "    df_b_n_bna['order'] != df_b_n_bna['order_birds_of_north_america']][['scientific_name', 'common_name', 'order', \n",
    "                                                                        'order_birds_of_north_america']]"
   ]
  },
  {
   "cell_type": "code",
   "execution_count": 38,
   "metadata": {},
   "outputs": [],
   "source": [
    "df_a_i_na = df_b_n_bna[df_b_n_bna['distance'] > 0]"
   ]
  },
  {
   "cell_type": "code",
   "execution_count": 39,
   "metadata": {},
   "outputs": [
    {
     "data": {
      "text/plain": [
       "19"
      ]
     },
     "execution_count": 39,
     "metadata": {},
     "output_type": "execute_result"
    }
   ],
   "source": [
    "len(df_a_i_na)"
   ]
  },
  {
   "cell_type": "code",
   "execution_count": 40,
   "metadata": {},
   "outputs": [
    {
     "data": {
      "text/html": [
       "<div>\n",
       "<style scoped>\n",
       "    .dataframe tbody tr th:only-of-type {\n",
       "        vertical-align: middle;\n",
       "    }\n",
       "\n",
       "    .dataframe tbody tr th {\n",
       "        vertical-align: top;\n",
       "    }\n",
       "\n",
       "    .dataframe thead th {\n",
       "        text-align: right;\n",
       "    }\n",
       "</style>\n",
       "<table border=\"1\" class=\"dataframe\">\n",
       "  <thead>\n",
       "    <tr style=\"text-align: right;\">\n",
       "      <th></th>\n",
       "      <th>scientific_name</th>\n",
       "      <th>LON.b</th>\n",
       "      <th>LAT.b</th>\n",
       "      <th>LON.nb</th>\n",
       "      <th>LAT.nb</th>\n",
       "      <th>MAX.LAT.nb</th>\n",
       "      <th>distance</th>\n",
       "      <th>intersect</th>\n",
       "      <th>id</th>\n",
       "      <th>avibase id</th>\n",
       "      <th>rank</th>\n",
       "      <th>common_name</th>\n",
       "      <th>french_name</th>\n",
       "      <th>order</th>\n",
       "      <th>family</th>\n",
       "      <th>subfamily</th>\n",
       "      <th>genus</th>\n",
       "      <th>annotation</th>\n",
       "      <th>status_accidental</th>\n",
       "      <th>status_hawaiian</th>\n",
       "      <th>status_introduced</th>\n",
       "      <th>status_nonbreeding</th>\n",
       "      <th>status_extinct</th>\n",
       "      <th>status_misplaced</th>\n",
       "      <th>order_birds_of_north_america</th>\n",
       "    </tr>\n",
       "  </thead>\n",
       "  <tbody>\n",
       "    <tr>\n",
       "      <th>0</th>\n",
       "      <td>Aeronautes saxatalis</td>\n",
       "      <td>-108.698701</td>\n",
       "      <td>32.448050</td>\n",
       "      <td>-105.931063</td>\n",
       "      <td>26.265097</td>\n",
       "      <td>39.513228</td>\n",
       "      <td>736.046352</td>\n",
       "      <td>0.586364</td>\n",
       "      <td>755</td>\n",
       "      <td>B401C2DDB3ED732D</td>\n",
       "      <td>species</td>\n",
       "      <td>White-throated Swift</td>\n",
       "      <td>Martinet à gorge blanche</td>\n",
       "      <td>Apodiformes</td>\n",
       "      <td>Apodidae</td>\n",
       "      <td>Apodinae</td>\n",
       "      <td>Aeronautes</td>\n",
       "      <td>NaN</td>\n",
       "      <td>NaN</td>\n",
       "      <td>NaN</td>\n",
       "      <td>NaN</td>\n",
       "      <td>NaN</td>\n",
       "      <td>NaN</td>\n",
       "      <td>NaN</td>\n",
       "      <td>Caprimulgiformes</td>\n",
       "    </tr>\n",
       "    <tr>\n",
       "      <th>1</th>\n",
       "      <td>Antrostomus arizonae</td>\n",
       "      <td>-103.398915</td>\n",
       "      <td>24.849878</td>\n",
       "      <td>-100.202682</td>\n",
       "      <td>20.712022</td>\n",
       "      <td>28.631368</td>\n",
       "      <td>563.581341</td>\n",
       "      <td>0.625247</td>\n",
       "      <td>2061</td>\n",
       "      <td>CED2468C3EF9B42C</td>\n",
       "      <td>species</td>\n",
       "      <td>Mexican Whip-poor-will</td>\n",
       "      <td>Engoulevent d'Arizona</td>\n",
       "      <td>Caprimulgiformes</td>\n",
       "      <td>Caprimulgidae</td>\n",
       "      <td>Caprimulginae</td>\n",
       "      <td>Antrostomus</td>\n",
       "      <td>NaN</td>\n",
       "      <td>NaN</td>\n",
       "      <td>NaN</td>\n",
       "      <td>NaN</td>\n",
       "      <td>NaN</td>\n",
       "      <td>NaN</td>\n",
       "      <td>NaN</td>\n",
       "      <td>Caprimulgiformes</td>\n",
       "    </tr>\n",
       "  </tbody>\n",
       "</table>\n",
       "</div>"
      ],
      "text/plain": [
       "        scientific_name       LON.b      LAT.b      LON.nb     LAT.nb  \\\n",
       "0  Aeronautes saxatalis -108.698701  32.448050 -105.931063  26.265097   \n",
       "1  Antrostomus arizonae -103.398915  24.849878 -100.202682  20.712022   \n",
       "\n",
       "   MAX.LAT.nb    distance  intersect    id        avibase id     rank  \\\n",
       "0   39.513228  736.046352   0.586364   755  B401C2DDB3ED732D  species   \n",
       "1   28.631368  563.581341   0.625247  2061  CED2468C3EF9B42C  species   \n",
       "\n",
       "              common_name               french_name             order  \\\n",
       "0    White-throated Swift  Martinet à gorge blanche       Apodiformes   \n",
       "1  Mexican Whip-poor-will     Engoulevent d'Arizona  Caprimulgiformes   \n",
       "\n",
       "          family      subfamily        genus annotation status_accidental  \\\n",
       "0       Apodidae       Apodinae   Aeronautes        NaN               NaN   \n",
       "1  Caprimulgidae  Caprimulginae  Antrostomus        NaN               NaN   \n",
       "\n",
       "  status_hawaiian status_introduced status_nonbreeding status_extinct  \\\n",
       "0             NaN               NaN                NaN            NaN   \n",
       "1             NaN               NaN                NaN            NaN   \n",
       "\n",
       "  status_misplaced order_birds_of_north_america  \n",
       "0              NaN             Caprimulgiformes  \n",
       "1              NaN             Caprimulgiformes  "
      ]
     },
     "execution_count": 40,
     "metadata": {},
     "output_type": "execute_result"
    }
   ],
   "source": [
    "# Species that migrate.\n",
    "df_a_i_na.head(2)"
   ]
  },
  {
   "cell_type": "code",
   "execution_count": 41,
   "metadata": {},
   "outputs": [
    {
     "data": {
      "text/plain": [
       "['Common Pauraque', 'Antillean Nighthawk']"
      ]
     },
     "execution_count": 41,
     "metadata": {},
     "output_type": "execute_result"
    }
   ],
   "source": [
    "# Species that do not migrate.\n",
    "list(set(df_b_n_bna['common_name']).difference(df_a_i_na['common_name']))"
   ]
  },
  {
   "cell_type": "code",
   "execution_count": 42,
   "metadata": {},
   "outputs": [],
   "source": [
    "# subdir = 'data/output/'\n",
    "# filename = 'all_obligate_aerial_insectivores_birdlife_nacc_north_america.csv'\n",
    "# df_b_n_bna.to_csv(subdir + filename, index=False)"
   ]
  },
  {
   "cell_type": "code",
   "execution_count": 43,
   "metadata": {},
   "outputs": [],
   "source": [
    "# subdir = 'data/output/'\n",
    "# filename = 'obligate_aerial_insectivores_birdlife_nacc_north_america.csv'\n",
    "# df_a_i_na.to_csv(subdir + filename, index=False)"
   ]
  },
  {
   "cell_type": "code",
   "execution_count": null,
   "metadata": {},
   "outputs": [],
   "source": []
  },
  {
   "cell_type": "code",
   "execution_count": 44,
   "metadata": {},
   "outputs": [],
   "source": [
    "def plot_dist_lat(df):\n",
    "    # Plot histogram of migration distances.\n",
    "    df['distance'].hist()\n",
    "    plt.title('Histogram of migration distances')\n",
    "    plt.show()\n",
    "    # Plot migration distance as a function of the latitude of the centroid of the wintering range.\n",
    "    df = df.rename(columns={'LAT.nb': 'Latitude of the centroid of the wintering range', \n",
    "                       'distance': 'Migration distance (km)'})\n",
    "    df.plot('Latitude of the centroid of the wintering range', 'Migration distance (km)', kind='scatter')\n",
    "    plt.title('Migration distance as a function of the latitude of the centroid of the wintering range')\n",
    "    plt.show()\n",
    "    df = df.rename(columns={'Latitude of the centroid of the wintering range': 'LAT.nb', \n",
    "                       'Migration distance (km)': 'distance'})"
   ]
  },
  {
   "cell_type": "code",
   "execution_count": 45,
   "metadata": {},
   "outputs": [
    {
     "data": {
      "image/png": "[encoded data removed]",
      "text/plain": [
       "<Figure size 432x288 with 1 Axes>"
      ]
     },
     "metadata": {
      "needs_background": "light"
     },
     "output_type": "display_data"
    },
    {
     "data": {
      "image/png": "[encoded data removed]",
      "text/plain": [
       "<Figure size 432x288 with 1 Axes>"
      ]
     },
     "metadata": {
      "needs_background": "light"
     },
     "output_type": "display_data"
    }
   ],
   "source": [
    "# Aerial insectivores in North America\n",
    "plot_dist_lat(df_a_i_na)"
   ]
  },
  {
   "cell_type": "code",
   "execution_count": 46,
   "metadata": {
    "scrolled": true
   },
   "outputs": [
    {
     "data": {
      "text/html": [
       "<div>\n",
       "<style scoped>\n",
       "    .dataframe tbody tr th:only-of-type {\n",
       "        vertical-align: middle;\n",
       "    }\n",
       "\n",
       "    .dataframe tbody tr th {\n",
       "        vertical-align: top;\n",
       "    }\n",
       "\n",
       "    .dataframe thead th {\n",
       "        text-align: right;\n",
       "    }\n",
       "</style>\n",
       "<table border=\"1\" class=\"dataframe\">\n",
       "  <thead>\n",
       "    <tr style=\"text-align: right;\">\n",
       "      <th></th>\n",
       "      <th>scientific_name</th>\n",
       "      <th>LON.b</th>\n",
       "      <th>LAT.b</th>\n",
       "      <th>LON.nb</th>\n",
       "      <th>LAT.nb</th>\n",
       "      <th>MAX.LAT.nb</th>\n",
       "      <th>distance</th>\n",
       "      <th>intersect</th>\n",
       "      <th>id</th>\n",
       "      <th>avibase id</th>\n",
       "      <th>rank</th>\n",
       "      <th>common_name</th>\n",
       "      <th>french_name</th>\n",
       "      <th>order</th>\n",
       "      <th>family</th>\n",
       "      <th>subfamily</th>\n",
       "      <th>genus</th>\n",
       "      <th>annotation</th>\n",
       "      <th>status_accidental</th>\n",
       "      <th>status_hawaiian</th>\n",
       "      <th>status_introduced</th>\n",
       "      <th>status_nonbreeding</th>\n",
       "      <th>status_extinct</th>\n",
       "      <th>status_misplaced</th>\n",
       "      <th>order_birds_of_north_america</th>\n",
       "    </tr>\n",
       "  </thead>\n",
       "  <tbody>\n",
       "    <tr>\n",
       "      <th>7</th>\n",
       "      <td>Chordeiles acutipennis</td>\n",
       "      <td>-69.084039</td>\n",
       "      <td>2.992658</td>\n",
       "      <td>-63.094887</td>\n",
       "      <td>-1.430223</td>\n",
       "      <td>28.063228</td>\n",
       "      <td>826.667796</td>\n",
       "      <td>0.858728</td>\n",
       "      <td>708</td>\n",
       "      <td>9690689D23AEC109</td>\n",
       "      <td>species</td>\n",
       "      <td>Lesser Nighthawk</td>\n",
       "      <td>Engoulevent minime</td>\n",
       "      <td>Caprimulgiformes</td>\n",
       "      <td>Caprimulgidae</td>\n",
       "      <td>Chordeilinae</td>\n",
       "      <td>Chordeiles</td>\n",
       "      <td>NaN</td>\n",
       "      <td>NaN</td>\n",
       "      <td>NaN</td>\n",
       "      <td>NaN</td>\n",
       "      <td>NaN</td>\n",
       "      <td>NaN</td>\n",
       "      <td>NaN</td>\n",
       "      <td>Caprimulgiformes</td>\n",
       "    </tr>\n",
       "  </tbody>\n",
       "</table>\n",
       "</div>"
      ],
      "text/plain": [
       "          scientific_name      LON.b     LAT.b     LON.nb    LAT.nb  \\\n",
       "7  Chordeiles acutipennis -69.084039  2.992658 -63.094887 -1.430223   \n",
       "\n",
       "   MAX.LAT.nb    distance  intersect   id        avibase id     rank  \\\n",
       "7   28.063228  826.667796   0.858728  708  9690689D23AEC109  species   \n",
       "\n",
       "        common_name         french_name             order         family  \\\n",
       "7  Lesser Nighthawk  Engoulevent minime  Caprimulgiformes  Caprimulgidae   \n",
       "\n",
       "      subfamily       genus annotation status_accidental status_hawaiian  \\\n",
       "7  Chordeilinae  Chordeiles        NaN               NaN             NaN   \n",
       "\n",
       "  status_introduced status_nonbreeding status_extinct status_misplaced  \\\n",
       "7               NaN                NaN            NaN              NaN   \n",
       "\n",
       "  order_birds_of_north_america  \n",
       "7             Caprimulgiformes  "
      ]
     },
     "execution_count": 46,
     "metadata": {},
     "output_type": "execute_result"
    }
   ],
   "source": [
    "# Lesser Nighthawk is an outlier.\n",
    "df_a_i_na[(df_a_i_na['LAT.nb'] < 0) & (df_a_i_na['distance'] < 2000)]"
   ]
  },
  {
   "cell_type": "code",
   "execution_count": null,
   "metadata": {},
   "outputs": [],
   "source": []
  },
  {
   "cell_type": "code",
   "execution_count": 47,
   "metadata": {},
   "outputs": [],
   "source": [
    "# field_names = ['scientific_name']\n",
    "field_names = ['scientific_name', 'common_name']\n",
    "\n",
    "df_a_i_na_h = df_a_i_na.merge(df_h, on=field_names)"
   ]
  },
  {
   "cell_type": "code",
   "execution_count": 48,
   "metadata": {},
   "outputs": [
    {
     "name": "stdout",
     "output_type": "stream",
     "text": [
      "19\n",
      "20\n",
      "18\n",
      "1\n"
     ]
    }
   ],
   "source": [
    "# North America\n",
    "print(len(df_a_i_na))\n",
    "print(len(df_h))\n",
    "print(len(df_a_i_na_h))\n",
    "\n",
    "print(len(df_a_i_na)-len(df_a_i_na_h))"
   ]
  },
  {
   "cell_type": "code",
   "execution_count": 49,
   "metadata": {},
   "outputs": [
    {
     "data": {
      "text/html": [
       "<div>\n",
       "<style scoped>\n",
       "    .dataframe tbody tr th:only-of-type {\n",
       "        vertical-align: middle;\n",
       "    }\n",
       "\n",
       "    .dataframe tbody tr th {\n",
       "        vertical-align: top;\n",
       "    }\n",
       "\n",
       "    .dataframe thead th {\n",
       "        text-align: right;\n",
       "    }\n",
       "</style>\n",
       "<table border=\"1\" class=\"dataframe\">\n",
       "  <thead>\n",
       "    <tr style=\"text-align: right;\">\n",
       "      <th></th>\n",
       "      <th>scientific_name</th>\n",
       "      <th>LON.b</th>\n",
       "      <th>LAT.b</th>\n",
       "      <th>LON.nb</th>\n",
       "      <th>LAT.nb</th>\n",
       "      <th>MAX.LAT.nb</th>\n",
       "      <th>distance</th>\n",
       "      <th>intersect</th>\n",
       "      <th>id</th>\n",
       "      <th>avibase id</th>\n",
       "      <th>rank</th>\n",
       "      <th>common_name</th>\n",
       "      <th>french_name</th>\n",
       "      <th>order</th>\n",
       "      <th>family</th>\n",
       "      <th>subfamily</th>\n",
       "      <th>genus</th>\n",
       "      <th>annotation</th>\n",
       "      <th>status_accidental</th>\n",
       "      <th>status_hawaiian</th>\n",
       "      <th>status_introduced</th>\n",
       "      <th>status_nonbreeding</th>\n",
       "      <th>status_extinct</th>\n",
       "      <th>status_misplaced</th>\n",
       "      <th>order_birds_of_north_america</th>\n",
       "      <th>body_mass</th>\n",
       "    </tr>\n",
       "  </thead>\n",
       "  <tbody>\n",
       "    <tr>\n",
       "      <th>0</th>\n",
       "      <td>Aeronautes saxatalis</td>\n",
       "      <td>-108.698701</td>\n",
       "      <td>32.448050</td>\n",
       "      <td>-105.931063</td>\n",
       "      <td>26.265097</td>\n",
       "      <td>39.513228</td>\n",
       "      <td>736.046352</td>\n",
       "      <td>0.586364</td>\n",
       "      <td>755</td>\n",
       "      <td>B401C2DDB3ED732D</td>\n",
       "      <td>species</td>\n",
       "      <td>White-throated Swift</td>\n",
       "      <td>Martinet à gorge blanche</td>\n",
       "      <td>Apodiformes</td>\n",
       "      <td>Apodidae</td>\n",
       "      <td>Apodinae</td>\n",
       "      <td>Aeronautes</td>\n",
       "      <td>NaN</td>\n",
       "      <td>NaN</td>\n",
       "      <td>NaN</td>\n",
       "      <td>NaN</td>\n",
       "      <td>NaN</td>\n",
       "      <td>NaN</td>\n",
       "      <td>NaN</td>\n",
       "      <td>Caprimulgiformes</td>\n",
       "      <td>32.1</td>\n",
       "    </tr>\n",
       "    <tr>\n",
       "      <th>1</th>\n",
       "      <td>Antrostomus carolinensis</td>\n",
       "      <td>-88.058904</td>\n",
       "      <td>34.063816</td>\n",
       "      <td>-83.140011</td>\n",
       "      <td>16.459749</td>\n",
       "      <td>30.354784</td>\n",
       "      <td>2011.374172</td>\n",
       "      <td>0.049623</td>\n",
       "      <td>718</td>\n",
       "      <td>8D3E887123F5C670</td>\n",
       "      <td>species</td>\n",
       "      <td>Chuck-will's-widow</td>\n",
       "      <td>Engoulevent de Caroline</td>\n",
       "      <td>Caprimulgiformes</td>\n",
       "      <td>Caprimulgidae</td>\n",
       "      <td>Caprimulginae</td>\n",
       "      <td>Antrostomus</td>\n",
       "      <td>Monotypic.</td>\n",
       "      <td>NaN</td>\n",
       "      <td>NaN</td>\n",
       "      <td>NaN</td>\n",
       "      <td>NaN</td>\n",
       "      <td>NaN</td>\n",
       "      <td>NaN</td>\n",
       "      <td>Caprimulgiformes</td>\n",
       "      <td>109.0</td>\n",
       "    </tr>\n",
       "  </tbody>\n",
       "</table>\n",
       "</div>"
      ],
      "text/plain": [
       "            scientific_name       LON.b      LAT.b      LON.nb     LAT.nb  \\\n",
       "0      Aeronautes saxatalis -108.698701  32.448050 -105.931063  26.265097   \n",
       "1  Antrostomus carolinensis  -88.058904  34.063816  -83.140011  16.459749   \n",
       "\n",
       "   MAX.LAT.nb     distance  intersect   id        avibase id     rank  \\\n",
       "0   39.513228   736.046352   0.586364  755  B401C2DDB3ED732D  species   \n",
       "1   30.354784  2011.374172   0.049623  718  8D3E887123F5C670  species   \n",
       "\n",
       "            common_name               french_name             order  \\\n",
       "0  White-throated Swift  Martinet à gorge blanche       Apodiformes   \n",
       "1    Chuck-will's-widow   Engoulevent de Caroline  Caprimulgiformes   \n",
       "\n",
       "          family      subfamily        genus  annotation status_accidental  \\\n",
       "0       Apodidae       Apodinae   Aeronautes         NaN               NaN   \n",
       "1  Caprimulgidae  Caprimulginae  Antrostomus  Monotypic.               NaN   \n",
       "\n",
       "  status_hawaiian status_introduced status_nonbreeding status_extinct  \\\n",
       "0             NaN               NaN                NaN            NaN   \n",
       "1             NaN               NaN                NaN            NaN   \n",
       "\n",
       "  status_misplaced order_birds_of_north_america  body_mass  \n",
       "0              NaN             Caprimulgiformes       32.1  \n",
       "1              NaN             Caprimulgiformes      109.0  "
      ]
     },
     "execution_count": 49,
     "metadata": {},
     "output_type": "execute_result"
    }
   ],
   "source": [
    "df_a_i_na_h.head(2)"
   ]
  },
  {
   "cell_type": "code",
   "execution_count": 50,
   "metadata": {},
   "outputs": [
    {
     "data": {
      "text/plain": [
       "['Common Pauraque', 'Antillean Nighthawk']"
      ]
     },
     "execution_count": 50,
     "metadata": {},
     "output_type": "execute_result"
    }
   ],
   "source": [
    "list(set(df_h['common_name'].unique()).difference(df_a_i_na['common_name']))"
   ]
  },
  {
   "cell_type": "code",
   "execution_count": 51,
   "metadata": {},
   "outputs": [
    {
     "data": {
      "text/plain": [
       "['Mexican Whip-poor-will']"
      ]
     },
     "execution_count": 51,
     "metadata": {},
     "output_type": "execute_result"
    }
   ],
   "source": [
    "list(set(df_a_i_na['common_name'].unique()).difference(df_h['common_name']))"
   ]
  },
  {
   "cell_type": "code",
   "execution_count": 52,
   "metadata": {},
   "outputs": [
    {
     "data": {
      "text/plain": [
       "Index(['scientific_name', 'LON.b', 'LAT.b', 'LON.nb', 'LAT.nb', 'MAX.LAT.nb',\n",
       "       'distance', 'intersect', 'id', 'avibase id', 'rank', 'common_name',\n",
       "       'french_name', 'order', 'family', 'subfamily', 'genus', 'annotation',\n",
       "       'status_accidental', 'status_hawaiian', 'status_introduced',\n",
       "       'status_nonbreeding', 'status_extinct', 'status_misplaced',\n",
       "       'order_birds_of_north_america', 'body_mass'],\n",
       "      dtype='object')"
      ]
     },
     "execution_count": 52,
     "metadata": {},
     "output_type": "execute_result"
    }
   ],
   "source": [
    "df_a_i_na_h.columns\n",
    "\n",
    "# migratory_species.csv:\n",
    "# What does SpecLevel mean?"
   ]
  },
  {
   "cell_type": "code",
   "execution_count": 53,
   "metadata": {
    "scrolled": true
   },
   "outputs": [
    {
     "data": {
      "text/html": [
       "<div>\n",
       "<style scoped>\n",
       "    .dataframe tbody tr th:only-of-type {\n",
       "        vertical-align: middle;\n",
       "    }\n",
       "\n",
       "    .dataframe tbody tr th {\n",
       "        vertical-align: top;\n",
       "    }\n",
       "\n",
       "    .dataframe thead th {\n",
       "        text-align: right;\n",
       "    }\n",
       "</style>\n",
       "<table border=\"1\" class=\"dataframe\">\n",
       "  <thead>\n",
       "    <tr style=\"text-align: right;\">\n",
       "      <th></th>\n",
       "      <th>common_name</th>\n",
       "      <th>body_mass</th>\n",
       "    </tr>\n",
       "  </thead>\n",
       "  <tbody>\n",
       "    <tr>\n",
       "      <th>1</th>\n",
       "      <td>Chuck-will's-widow</td>\n",
       "      <td>109.000000</td>\n",
       "    </tr>\n",
       "    <tr>\n",
       "      <th>7</th>\n",
       "      <td>Common Nighthawk</td>\n",
       "      <td>79.300000</td>\n",
       "    </tr>\n",
       "    <tr>\n",
       "      <th>13</th>\n",
       "      <td>Purple Martin</td>\n",
       "      <td>53.814439</td>\n",
       "    </tr>\n",
       "    <tr>\n",
       "      <th>3</th>\n",
       "      <td>Eastern Whip-poor-will</td>\n",
       "      <td>53.400000</td>\n",
       "    </tr>\n",
       "    <tr>\n",
       "      <th>12</th>\n",
       "      <td>Common Poorwill</td>\n",
       "      <td>48.120000</td>\n",
       "    </tr>\n",
       "    <tr>\n",
       "      <th>2</th>\n",
       "      <td>Buff-collared Nightjar</td>\n",
       "      <td>48.000000</td>\n",
       "    </tr>\n",
       "    <tr>\n",
       "      <th>6</th>\n",
       "      <td>Lesser Nighthawk</td>\n",
       "      <td>47.754000</td>\n",
       "    </tr>\n",
       "    <tr>\n",
       "      <th>8</th>\n",
       "      <td>Black Swift</td>\n",
       "      <td>41.368657</td>\n",
       "    </tr>\n",
       "    <tr>\n",
       "      <th>0</th>\n",
       "      <td>White-throated Swift</td>\n",
       "      <td>32.100000</td>\n",
       "    </tr>\n",
       "    <tr>\n",
       "      <th>10</th>\n",
       "      <td>Cave Swallow</td>\n",
       "      <td>24.127511</td>\n",
       "    </tr>\n",
       "    <tr>\n",
       "      <th>4</th>\n",
       "      <td>Chimney Swift</td>\n",
       "      <td>23.600000</td>\n",
       "    </tr>\n",
       "    <tr>\n",
       "      <th>11</th>\n",
       "      <td>Cliff Swallow</td>\n",
       "      <td>21.600000</td>\n",
       "    </tr>\n",
       "    <tr>\n",
       "      <th>16</th>\n",
       "      <td>Tree Swallow</td>\n",
       "      <td>21.200000</td>\n",
       "    </tr>\n",
       "    <tr>\n",
       "      <th>9</th>\n",
       "      <td>Barn Swallow</td>\n",
       "      <td>17.282981</td>\n",
       "    </tr>\n",
       "    <tr>\n",
       "      <th>5</th>\n",
       "      <td>Vaux's Swift</td>\n",
       "      <td>17.100000</td>\n",
       "    </tr>\n",
       "    <tr>\n",
       "      <th>15</th>\n",
       "      <td>Northern Rough-winged Swallow</td>\n",
       "      <td>15.854717</td>\n",
       "    </tr>\n",
       "    <tr>\n",
       "      <th>17</th>\n",
       "      <td>Violet-green Swallow</td>\n",
       "      <td>14.158065</td>\n",
       "    </tr>\n",
       "    <tr>\n",
       "      <th>14</th>\n",
       "      <td>Bank Swallow</td>\n",
       "      <td>13.273347</td>\n",
       "    </tr>\n",
       "  </tbody>\n",
       "</table>\n",
       "</div>"
      ],
      "text/plain": [
       "                      common_name   body_mass\n",
       "1              Chuck-will's-widow  109.000000\n",
       "7                Common Nighthawk   79.300000\n",
       "13                  Purple Martin   53.814439\n",
       "3          Eastern Whip-poor-will   53.400000\n",
       "12                Common Poorwill   48.120000\n",
       "2          Buff-collared Nightjar   48.000000\n",
       "6                Lesser Nighthawk   47.754000\n",
       "8                     Black Swift   41.368657\n",
       "0            White-throated Swift   32.100000\n",
       "10                   Cave Swallow   24.127511\n",
       "4                   Chimney Swift   23.600000\n",
       "11                  Cliff Swallow   21.600000\n",
       "16                   Tree Swallow   21.200000\n",
       "9                    Barn Swallow   17.282981\n",
       "5                    Vaux's Swift   17.100000\n",
       "15  Northern Rough-winged Swallow   15.854717\n",
       "17           Violet-green Swallow   14.158065\n",
       "14                   Bank Swallow   13.273347"
      ]
     },
     "execution_count": 53,
     "metadata": {},
     "output_type": "execute_result"
    }
   ],
   "source": [
    "# body_mass_field_name = 'BodyMass.Value'\n",
    "body_mass_field_name = 'body_mass'\n",
    "\n",
    "df_a_i_na_h[['common_name', body_mass_field_name]].sort_values(by=body_mass_field_name, ascending=False)"
   ]
  },
  {
   "cell_type": "code",
   "execution_count": 54,
   "metadata": {},
   "outputs": [],
   "source": [
    "def plot_dist_lat_masses(df):\n",
    "    # Plot histogram of body masses.\n",
    "    df[body_mass_field_name].hist()\n",
    "    plt.title('Histogram of body masses')\n",
    "    plt.show()\n",
    "    # Plot migration distance as a function of body mass.\n",
    "    df.rename(columns={body_mass_field_name: 'Body mass (g)', 'distance': 'Migration distance (km)'}, inplace=True)\n",
    "    df.plot.scatter('Body mass (g)', 'Migration distance (km)', s=50)\n",
    "    plt.title('Migration distance as a function of body mass')\n",
    "    plt.show()\n",
    "    # Plot migration distance as a function of the latitude of the centroid of the wintering range.\n",
    "    df.rename(columns={'LAT.nb': 'Latitude of the centroid of the wintering range'}, inplace=True)\n",
    "    df.plot.scatter('Latitude of the centroid of the wintering range', 'Migration distance (km)', s=50, \n",
    "                    c='Body mass (g)', \n",
    "                    colormap='viridis', sharex=False)\n",
    "    plt.title('Migration distance as a function of the latitude of the centroid of the wintering range')\n",
    "    plt.show()\n",
    "    df.rename(columns={'Body mass (g)': body_mass_field_name, 'Migration distance (km)': 'distance', \n",
    "                       'Latitude of the centroid of the wintering range': 'LAT.nb'}, inplace=True)"
   ]
  },
  {
   "cell_type": "code",
   "execution_count": 55,
   "metadata": {},
   "outputs": [
    {
     "data": {
      "image/png": "[encoded data removed]",
      "text/plain": [
       "<Figure size 432x288 with 1 Axes>"
      ]
     },
     "metadata": {
      "needs_background": "light"
     },
     "output_type": "display_data"
    },
    {
     "data": {
      "image/png": "[encoded data removed]",
      "text/plain": [
       "<Figure size 432x288 with 1 Axes>"
      ]
     },
     "metadata": {
      "needs_background": "light"
     },
     "output_type": "display_data"
    },
    {
     "data": {
      "image/png": "[encoded data removed]",
      "text/plain": [
       "<Figure size 432x288 with 2 Axes>"
      ]
     },
     "metadata": {
      "needs_background": "light"
     },
     "output_type": "display_data"
    }
   ],
   "source": [
    "plot_dist_lat_masses(df_a_i_na_h)"
   ]
  },
  {
   "cell_type": "code",
   "execution_count": null,
   "metadata": {},
   "outputs": [],
   "source": []
  },
  {
   "cell_type": "code",
   "execution_count": 56,
   "metadata": {},
   "outputs": [],
   "source": [
    "df_not_in_h_na = df_a_i_na[df_a_i_na['common_name'].isin(\n",
    "    list(set(list(df_a_i_na['common_name'])) - set(list(df_a_i_na_h['common_name'])))\n",
    ")]\n",
    "\n",
    "# .reset_index(drop=True)"
   ]
  },
  {
   "cell_type": "code",
   "execution_count": 57,
   "metadata": {},
   "outputs": [
    {
     "data": {
      "text/html": [
       "<div>\n",
       "<style scoped>\n",
       "    .dataframe tbody tr th:only-of-type {\n",
       "        vertical-align: middle;\n",
       "    }\n",
       "\n",
       "    .dataframe tbody tr th {\n",
       "        vertical-align: top;\n",
       "    }\n",
       "\n",
       "    .dataframe thead th {\n",
       "        text-align: right;\n",
       "    }\n",
       "</style>\n",
       "<table border=\"1\" class=\"dataframe\">\n",
       "  <thead>\n",
       "    <tr style=\"text-align: right;\">\n",
       "      <th></th>\n",
       "      <th>scientific_name</th>\n",
       "      <th>LON.b</th>\n",
       "      <th>LAT.b</th>\n",
       "      <th>LON.nb</th>\n",
       "      <th>LAT.nb</th>\n",
       "      <th>MAX.LAT.nb</th>\n",
       "      <th>distance</th>\n",
       "      <th>intersect</th>\n",
       "      <th>id</th>\n",
       "      <th>avibase id</th>\n",
       "      <th>rank</th>\n",
       "      <th>common_name</th>\n",
       "      <th>french_name</th>\n",
       "      <th>order</th>\n",
       "      <th>family</th>\n",
       "      <th>subfamily</th>\n",
       "      <th>genus</th>\n",
       "      <th>annotation</th>\n",
       "      <th>status_accidental</th>\n",
       "      <th>status_hawaiian</th>\n",
       "      <th>status_introduced</th>\n",
       "      <th>status_nonbreeding</th>\n",
       "      <th>status_extinct</th>\n",
       "      <th>status_misplaced</th>\n",
       "      <th>order_birds_of_north_america</th>\n",
       "    </tr>\n",
       "  </thead>\n",
       "  <tbody>\n",
       "    <tr>\n",
       "      <th>1</th>\n",
       "      <td>Antrostomus arizonae</td>\n",
       "      <td>-103.398915</td>\n",
       "      <td>24.849878</td>\n",
       "      <td>-100.202682</td>\n",
       "      <td>20.712022</td>\n",
       "      <td>28.631368</td>\n",
       "      <td>563.581341</td>\n",
       "      <td>0.625247</td>\n",
       "      <td>2061</td>\n",
       "      <td>CED2468C3EF9B42C</td>\n",
       "      <td>species</td>\n",
       "      <td>Mexican Whip-poor-will</td>\n",
       "      <td>Engoulevent d'Arizona</td>\n",
       "      <td>Caprimulgiformes</td>\n",
       "      <td>Caprimulgidae</td>\n",
       "      <td>Caprimulginae</td>\n",
       "      <td>Antrostomus</td>\n",
       "      <td>NaN</td>\n",
       "      <td>NaN</td>\n",
       "      <td>NaN</td>\n",
       "      <td>NaN</td>\n",
       "      <td>NaN</td>\n",
       "      <td>NaN</td>\n",
       "      <td>NaN</td>\n",
       "      <td>Caprimulgiformes</td>\n",
       "    </tr>\n",
       "  </tbody>\n",
       "</table>\n",
       "</div>"
      ],
      "text/plain": [
       "        scientific_name       LON.b      LAT.b      LON.nb     LAT.nb  \\\n",
       "1  Antrostomus arizonae -103.398915  24.849878 -100.202682  20.712022   \n",
       "\n",
       "   MAX.LAT.nb    distance  intersect    id        avibase id     rank  \\\n",
       "1   28.631368  563.581341   0.625247  2061  CED2468C3EF9B42C  species   \n",
       "\n",
       "              common_name            french_name             order  \\\n",
       "1  Mexican Whip-poor-will  Engoulevent d'Arizona  Caprimulgiformes   \n",
       "\n",
       "          family      subfamily        genus annotation status_accidental  \\\n",
       "1  Caprimulgidae  Caprimulginae  Antrostomus        NaN               NaN   \n",
       "\n",
       "  status_hawaiian status_introduced status_nonbreeding status_extinct  \\\n",
       "1             NaN               NaN                NaN            NaN   \n",
       "\n",
       "  status_misplaced order_birds_of_north_america  \n",
       "1              NaN             Caprimulgiformes  "
      ]
     },
     "execution_count": 57,
     "metadata": {},
     "output_type": "execute_result"
    }
   ],
   "source": [
    "df_not_in_h_na"
   ]
  },
  {
   "cell_type": "code",
   "execution_count": 58,
   "metadata": {},
   "outputs": [],
   "source": [
    "# migratory_species.csv\n",
    "\n",
    "# Calculated a weighted average when body masses were reported for both males and females.\n",
    "# (50.3+56.5)/2\n",
    "# (15*47.2+10*49.5)/(15+10)\n",
    "\n",
    "# list_masses_not_in_h_na = [np.nan, 109, 48, 53.4, 48.12]\n",
    "list_masses_not_in_h_na = [np.nan]"
   ]
  },
  {
   "cell_type": "code",
   "execution_count": 59,
   "metadata": {},
   "outputs": [
    {
     "name": "stderr",
     "output_type": "stream",
     "text": [
      "/Users/alvastrand/opt/anaconda3/lib/python3.7/site-packages/ipykernel_launcher.py:1: SettingWithCopyWarning: \n",
      "A value is trying to be set on a copy of a slice from a DataFrame.\n",
      "Try using .loc[row_indexer,col_indexer] = value instead\n",
      "\n",
      "See the caveats in the documentation: https://pandas.pydata.org/pandas-docs/stable/user_guide/indexing.html#returning-a-view-versus-a-copy\n",
      "  \"\"\"Entry point for launching an IPython kernel.\n"
     ]
    }
   ],
   "source": [
    "df_not_in_h_na[body_mass_field_name] = list_masses_not_in_h_na"
   ]
  },
  {
   "cell_type": "code",
   "execution_count": 60,
   "metadata": {
    "scrolled": true
   },
   "outputs": [
    {
     "data": {
      "text/html": [
       "<div>\n",
       "<style scoped>\n",
       "    .dataframe tbody tr th:only-of-type {\n",
       "        vertical-align: middle;\n",
       "    }\n",
       "\n",
       "    .dataframe tbody tr th {\n",
       "        vertical-align: top;\n",
       "    }\n",
       "\n",
       "    .dataframe thead th {\n",
       "        text-align: right;\n",
       "    }\n",
       "</style>\n",
       "<table border=\"1\" class=\"dataframe\">\n",
       "  <thead>\n",
       "    <tr style=\"text-align: right;\">\n",
       "      <th></th>\n",
       "      <th>common_name</th>\n",
       "      <th>scientific_name</th>\n",
       "      <th>body_mass</th>\n",
       "    </tr>\n",
       "  </thead>\n",
       "  <tbody>\n",
       "    <tr>\n",
       "      <th>1</th>\n",
       "      <td>Mexican Whip-poor-will</td>\n",
       "      <td>Antrostomus arizonae</td>\n",
       "      <td>NaN</td>\n",
       "    </tr>\n",
       "  </tbody>\n",
       "</table>\n",
       "</div>"
      ],
      "text/plain": [
       "              common_name       scientific_name  body_mass\n",
       "1  Mexican Whip-poor-will  Antrostomus arizonae        NaN"
      ]
     },
     "execution_count": 60,
     "metadata": {},
     "output_type": "execute_result"
    }
   ],
   "source": [
    "df_not_in_h_na[['common_name', 'scientific_name', body_mass_field_name]]"
   ]
  },
  {
   "cell_type": "code",
   "execution_count": 61,
   "metadata": {},
   "outputs": [],
   "source": [
    "# df_a_i_na_h_fewer = df_a_i_na.merge(df_h[['scientific_name', body_mass_field_name]], on='scientific_name')"
   ]
  },
  {
   "cell_type": "code",
   "execution_count": 62,
   "metadata": {},
   "outputs": [],
   "source": [
    "# df_a_i_na_h_added = df_a_i_na_h_fewer.append(df_not_in_h_na)\n",
    "df_a_i_na_h_added = df_a_i_na_h.append(df_not_in_h_na)"
   ]
  },
  {
   "cell_type": "code",
   "execution_count": 63,
   "metadata": {},
   "outputs": [
    {
     "data": {
      "text/plain": [
       "19"
      ]
     },
     "execution_count": 63,
     "metadata": {},
     "output_type": "execute_result"
    }
   ],
   "source": [
    "len(df_a_i_na_h_added)"
   ]
  },
  {
   "cell_type": "code",
   "execution_count": 64,
   "metadata": {
    "scrolled": true
   },
   "outputs": [
    {
     "data": {
      "text/html": [
       "<div>\n",
       "<style scoped>\n",
       "    .dataframe tbody tr th:only-of-type {\n",
       "        vertical-align: middle;\n",
       "    }\n",
       "\n",
       "    .dataframe tbody tr th {\n",
       "        vertical-align: top;\n",
       "    }\n",
       "\n",
       "    .dataframe thead th {\n",
       "        text-align: right;\n",
       "    }\n",
       "</style>\n",
       "<table border=\"1\" class=\"dataframe\">\n",
       "  <thead>\n",
       "    <tr style=\"text-align: right;\">\n",
       "      <th></th>\n",
       "      <th>common_name</th>\n",
       "      <th>body_mass</th>\n",
       "    </tr>\n",
       "  </thead>\n",
       "  <tbody>\n",
       "    <tr>\n",
       "      <th>1</th>\n",
       "      <td>Chuck-will's-widow</td>\n",
       "      <td>109.000000</td>\n",
       "    </tr>\n",
       "    <tr>\n",
       "      <th>7</th>\n",
       "      <td>Common Nighthawk</td>\n",
       "      <td>79.300000</td>\n",
       "    </tr>\n",
       "    <tr>\n",
       "      <th>13</th>\n",
       "      <td>Purple Martin</td>\n",
       "      <td>53.814439</td>\n",
       "    </tr>\n",
       "    <tr>\n",
       "      <th>3</th>\n",
       "      <td>Eastern Whip-poor-will</td>\n",
       "      <td>53.400000</td>\n",
       "    </tr>\n",
       "    <tr>\n",
       "      <th>12</th>\n",
       "      <td>Common Poorwill</td>\n",
       "      <td>48.120000</td>\n",
       "    </tr>\n",
       "    <tr>\n",
       "      <th>2</th>\n",
       "      <td>Buff-collared Nightjar</td>\n",
       "      <td>48.000000</td>\n",
       "    </tr>\n",
       "    <tr>\n",
       "      <th>6</th>\n",
       "      <td>Lesser Nighthawk</td>\n",
       "      <td>47.754000</td>\n",
       "    </tr>\n",
       "    <tr>\n",
       "      <th>8</th>\n",
       "      <td>Black Swift</td>\n",
       "      <td>41.368657</td>\n",
       "    </tr>\n",
       "    <tr>\n",
       "      <th>0</th>\n",
       "      <td>White-throated Swift</td>\n",
       "      <td>32.100000</td>\n",
       "    </tr>\n",
       "    <tr>\n",
       "      <th>10</th>\n",
       "      <td>Cave Swallow</td>\n",
       "      <td>24.127511</td>\n",
       "    </tr>\n",
       "    <tr>\n",
       "      <th>4</th>\n",
       "      <td>Chimney Swift</td>\n",
       "      <td>23.600000</td>\n",
       "    </tr>\n",
       "    <tr>\n",
       "      <th>11</th>\n",
       "      <td>Cliff Swallow</td>\n",
       "      <td>21.600000</td>\n",
       "    </tr>\n",
       "    <tr>\n",
       "      <th>16</th>\n",
       "      <td>Tree Swallow</td>\n",
       "      <td>21.200000</td>\n",
       "    </tr>\n",
       "    <tr>\n",
       "      <th>9</th>\n",
       "      <td>Barn Swallow</td>\n",
       "      <td>17.282981</td>\n",
       "    </tr>\n",
       "    <tr>\n",
       "      <th>5</th>\n",
       "      <td>Vaux's Swift</td>\n",
       "      <td>17.100000</td>\n",
       "    </tr>\n",
       "    <tr>\n",
       "      <th>15</th>\n",
       "      <td>Northern Rough-winged Swallow</td>\n",
       "      <td>15.854717</td>\n",
       "    </tr>\n",
       "    <tr>\n",
       "      <th>17</th>\n",
       "      <td>Violet-green Swallow</td>\n",
       "      <td>14.158065</td>\n",
       "    </tr>\n",
       "    <tr>\n",
       "      <th>14</th>\n",
       "      <td>Bank Swallow</td>\n",
       "      <td>13.273347</td>\n",
       "    </tr>\n",
       "    <tr>\n",
       "      <th>1</th>\n",
       "      <td>Mexican Whip-poor-will</td>\n",
       "      <td>NaN</td>\n",
       "    </tr>\n",
       "  </tbody>\n",
       "</table>\n",
       "</div>"
      ],
      "text/plain": [
       "                      common_name   body_mass\n",
       "1              Chuck-will's-widow  109.000000\n",
       "7                Common Nighthawk   79.300000\n",
       "13                  Purple Martin   53.814439\n",
       "3          Eastern Whip-poor-will   53.400000\n",
       "12                Common Poorwill   48.120000\n",
       "2          Buff-collared Nightjar   48.000000\n",
       "6                Lesser Nighthawk   47.754000\n",
       "8                     Black Swift   41.368657\n",
       "0            White-throated Swift   32.100000\n",
       "10                   Cave Swallow   24.127511\n",
       "4                   Chimney Swift   23.600000\n",
       "11                  Cliff Swallow   21.600000\n",
       "16                   Tree Swallow   21.200000\n",
       "9                    Barn Swallow   17.282981\n",
       "5                    Vaux's Swift   17.100000\n",
       "15  Northern Rough-winged Swallow   15.854717\n",
       "17           Violet-green Swallow   14.158065\n",
       "14                   Bank Swallow   13.273347\n",
       "1          Mexican Whip-poor-will         NaN"
      ]
     },
     "execution_count": 64,
     "metadata": {},
     "output_type": "execute_result"
    }
   ],
   "source": [
    "df_a_i_na_h_added[['common_name', body_mass_field_name]].sort_values(by=body_mass_field_name, ascending=False)"
   ]
  },
  {
   "cell_type": "code",
   "execution_count": 65,
   "metadata": {},
   "outputs": [
    {
     "name": "stdout",
     "output_type": "stream",
     "text": [
      "37.83631754277779\n",
      "28.11375536\n"
     ]
    }
   ],
   "source": [
    "print(df_a_i_na_h_added[body_mass_field_name].mean())\n",
    "print(df_a_i_na_h_added[body_mass_field_name].median())"
   ]
  },
  {
   "cell_type": "code",
   "execution_count": 66,
   "metadata": {
    "scrolled": false
   },
   "outputs": [
    {
     "data": {
      "image/png": "[encoded data removed]",
      "text/plain": [
       "<Figure size 432x288 with 1 Axes>"
      ]
     },
     "metadata": {
      "needs_background": "light"
     },
     "output_type": "display_data"
    },
    {
     "data": {
      "image/png": "[encoded data removed]",
      "text/plain": [
       "<Figure size 432x288 with 1 Axes>"
      ]
     },
     "metadata": {
      "needs_background": "light"
     },
     "output_type": "display_data"
    },
    {
     "data": {
      "image/png": "[encoded data removed]",
      "text/plain": [
       "<Figure size 432x288 with 2 Axes>"
      ]
     },
     "metadata": {
      "needs_background": "light"
     },
     "output_type": "display_data"
    }
   ],
   "source": [
    "# Added\n",
    "plot_dist_lat_masses(df_a_i_na_h_added)"
   ]
  },
  {
   "cell_type": "code",
   "execution_count": 67,
   "metadata": {},
   "outputs": [
    {
     "name": "stdout",
     "output_type": "stream",
     "text": [
      "3487.6775703937096\n",
      "2656.17059769071\n"
     ]
    }
   ],
   "source": [
    "print(df_a_i_na_h_added['distance'].mean())\n",
    "print(df_a_i_na_h_added['distance'].median())"
   ]
  },
  {
   "cell_type": "code",
   "execution_count": 68,
   "metadata": {
    "scrolled": true
   },
   "outputs": [
    {
     "data": {
      "text/html": [
       "<div>\n",
       "<style scoped>\n",
       "    .dataframe tbody tr th:only-of-type {\n",
       "        vertical-align: middle;\n",
       "    }\n",
       "\n",
       "    .dataframe tbody tr th {\n",
       "        vertical-align: top;\n",
       "    }\n",
       "\n",
       "    .dataframe thead th {\n",
       "        text-align: right;\n",
       "    }\n",
       "</style>\n",
       "<table border=\"1\" class=\"dataframe\">\n",
       "  <thead>\n",
       "    <tr style=\"text-align: right;\">\n",
       "      <th></th>\n",
       "      <th>common_name</th>\n",
       "      <th>distance</th>\n",
       "    </tr>\n",
       "  </thead>\n",
       "  <tbody>\n",
       "    <tr>\n",
       "      <th>11</th>\n",
       "      <td>Cliff Swallow</td>\n",
       "      <td>8972.354593</td>\n",
       "    </tr>\n",
       "    <tr>\n",
       "      <th>14</th>\n",
       "      <td>Bank Swallow</td>\n",
       "      <td>8056.133802</td>\n",
       "    </tr>\n",
       "    <tr>\n",
       "      <th>13</th>\n",
       "      <td>Purple Martin</td>\n",
       "      <td>7924.070970</td>\n",
       "    </tr>\n",
       "    <tr>\n",
       "      <th>9</th>\n",
       "      <td>Barn Swallow</td>\n",
       "      <td>7363.729821</td>\n",
       "    </tr>\n",
       "    <tr>\n",
       "      <th>7</th>\n",
       "      <td>Common Nighthawk</td>\n",
       "      <td>7111.696950</td>\n",
       "    </tr>\n",
       "    <tr>\n",
       "      <th>4</th>\n",
       "      <td>Chimney Swift</td>\n",
       "      <td>5124.885184</td>\n",
       "    </tr>\n",
       "    <tr>\n",
       "      <th>16</th>\n",
       "      <td>Tree Swallow</td>\n",
       "      <td>3201.426202</td>\n",
       "    </tr>\n",
       "    <tr>\n",
       "      <th>8</th>\n",
       "      <td>Black Swift</td>\n",
       "      <td>2771.573029</td>\n",
       "    </tr>\n",
       "    <tr>\n",
       "      <th>17</th>\n",
       "      <td>Violet-green Swallow</td>\n",
       "      <td>2707.419196</td>\n",
       "    </tr>\n",
       "    <tr>\n",
       "      <th>3</th>\n",
       "      <td>Eastern Whip-poor-will</td>\n",
       "      <td>2656.170598</td>\n",
       "    </tr>\n",
       "    <tr>\n",
       "      <th>5</th>\n",
       "      <td>Vaux's Swift</td>\n",
       "      <td>2374.265067</td>\n",
       "    </tr>\n",
       "    <tr>\n",
       "      <th>15</th>\n",
       "      <td>Northern Rough-winged Swallow</td>\n",
       "      <td>2067.633734</td>\n",
       "    </tr>\n",
       "    <tr>\n",
       "      <th>1</th>\n",
       "      <td>Chuck-will's-widow</td>\n",
       "      <td>2011.374172</td>\n",
       "    </tr>\n",
       "    <tr>\n",
       "      <th>12</th>\n",
       "      <td>Common Poorwill</td>\n",
       "      <td>843.876615</td>\n",
       "    </tr>\n",
       "    <tr>\n",
       "      <th>6</th>\n",
       "      <td>Lesser Nighthawk</td>\n",
       "      <td>826.667796</td>\n",
       "    </tr>\n",
       "    <tr>\n",
       "      <th>0</th>\n",
       "      <td>White-throated Swift</td>\n",
       "      <td>736.046352</td>\n",
       "    </tr>\n",
       "    <tr>\n",
       "      <th>1</th>\n",
       "      <td>Mexican Whip-poor-will</td>\n",
       "      <td>563.581341</td>\n",
       "    </tr>\n",
       "    <tr>\n",
       "      <th>10</th>\n",
       "      <td>Cave Swallow</td>\n",
       "      <td>540.502974</td>\n",
       "    </tr>\n",
       "    <tr>\n",
       "      <th>2</th>\n",
       "      <td>Buff-collared Nightjar</td>\n",
       "      <td>412.465442</td>\n",
       "    </tr>\n",
       "  </tbody>\n",
       "</table>\n",
       "</div>"
      ],
      "text/plain": [
       "                      common_name     distance\n",
       "11                  Cliff Swallow  8972.354593\n",
       "14                   Bank Swallow  8056.133802\n",
       "13                  Purple Martin  7924.070970\n",
       "9                    Barn Swallow  7363.729821\n",
       "7                Common Nighthawk  7111.696950\n",
       "4                   Chimney Swift  5124.885184\n",
       "16                   Tree Swallow  3201.426202\n",
       "8                     Black Swift  2771.573029\n",
       "17           Violet-green Swallow  2707.419196\n",
       "3          Eastern Whip-poor-will  2656.170598\n",
       "5                    Vaux's Swift  2374.265067\n",
       "15  Northern Rough-winged Swallow  2067.633734\n",
       "1              Chuck-will's-widow  2011.374172\n",
       "12                Common Poorwill   843.876615\n",
       "6                Lesser Nighthawk   826.667796\n",
       "0            White-throated Swift   736.046352\n",
       "1          Mexican Whip-poor-will   563.581341\n",
       "10                   Cave Swallow   540.502974\n",
       "2          Buff-collared Nightjar   412.465442"
      ]
     },
     "execution_count": 68,
     "metadata": {},
     "output_type": "execute_result"
    }
   ],
   "source": [
    "df_a_i_na_h_added[['common_name', 'distance']].sort_values(by='distance', ascending=False)"
   ]
  },
  {
   "cell_type": "code",
   "execution_count": 69,
   "metadata": {},
   "outputs": [
    {
     "data": {
      "text/html": [
       "<div>\n",
       "<style scoped>\n",
       "    .dataframe tbody tr th:only-of-type {\n",
       "        vertical-align: middle;\n",
       "    }\n",
       "\n",
       "    .dataframe tbody tr th {\n",
       "        vertical-align: top;\n",
       "    }\n",
       "\n",
       "    .dataframe thead th {\n",
       "        text-align: right;\n",
       "    }\n",
       "</style>\n",
       "<table border=\"1\" class=\"dataframe\">\n",
       "  <thead>\n",
       "    <tr style=\"text-align: right;\">\n",
       "      <th></th>\n",
       "      <th>scientific_name</th>\n",
       "      <th>LON.b</th>\n",
       "      <th>LAT.b</th>\n",
       "      <th>LON.nb</th>\n",
       "      <th>LAT.nb</th>\n",
       "      <th>MAX.LAT.nb</th>\n",
       "      <th>distance</th>\n",
       "      <th>intersect</th>\n",
       "      <th>id</th>\n",
       "      <th>avibase id</th>\n",
       "      <th>rank</th>\n",
       "      <th>common_name</th>\n",
       "      <th>french_name</th>\n",
       "      <th>order</th>\n",
       "      <th>family</th>\n",
       "      <th>subfamily</th>\n",
       "      <th>genus</th>\n",
       "      <th>annotation</th>\n",
       "      <th>status_accidental</th>\n",
       "      <th>status_hawaiian</th>\n",
       "      <th>status_introduced</th>\n",
       "      <th>status_nonbreeding</th>\n",
       "      <th>status_extinct</th>\n",
       "      <th>status_misplaced</th>\n",
       "      <th>order_birds_of_north_america</th>\n",
       "      <th>body_mass</th>\n",
       "    </tr>\n",
       "  </thead>\n",
       "  <tbody>\n",
       "    <tr>\n",
       "      <th>0</th>\n",
       "      <td>Aeronautes saxatalis</td>\n",
       "      <td>-108.698701</td>\n",
       "      <td>32.448050</td>\n",
       "      <td>-105.931063</td>\n",
       "      <td>26.265097</td>\n",
       "      <td>39.513228</td>\n",
       "      <td>736.046352</td>\n",
       "      <td>0.586364</td>\n",
       "      <td>755</td>\n",
       "      <td>B401C2DDB3ED732D</td>\n",
       "      <td>species</td>\n",
       "      <td>White-throated Swift</td>\n",
       "      <td>Martinet à gorge blanche</td>\n",
       "      <td>Apodiformes</td>\n",
       "      <td>Apodidae</td>\n",
       "      <td>Apodinae</td>\n",
       "      <td>Aeronautes</td>\n",
       "      <td>NaN</td>\n",
       "      <td>NaN</td>\n",
       "      <td>NaN</td>\n",
       "      <td>NaN</td>\n",
       "      <td>NaN</td>\n",
       "      <td>NaN</td>\n",
       "      <td>NaN</td>\n",
       "      <td>Caprimulgiformes</td>\n",
       "      <td>32.1</td>\n",
       "    </tr>\n",
       "    <tr>\n",
       "      <th>1</th>\n",
       "      <td>Antrostomus carolinensis</td>\n",
       "      <td>-88.058904</td>\n",
       "      <td>34.063816</td>\n",
       "      <td>-83.140011</td>\n",
       "      <td>16.459749</td>\n",
       "      <td>30.354784</td>\n",
       "      <td>2011.374172</td>\n",
       "      <td>0.049623</td>\n",
       "      <td>718</td>\n",
       "      <td>8D3E887123F5C670</td>\n",
       "      <td>species</td>\n",
       "      <td>Chuck-will's-widow</td>\n",
       "      <td>Engoulevent de Caroline</td>\n",
       "      <td>Caprimulgiformes</td>\n",
       "      <td>Caprimulgidae</td>\n",
       "      <td>Caprimulginae</td>\n",
       "      <td>Antrostomus</td>\n",
       "      <td>Monotypic.</td>\n",
       "      <td>NaN</td>\n",
       "      <td>NaN</td>\n",
       "      <td>NaN</td>\n",
       "      <td>NaN</td>\n",
       "      <td>NaN</td>\n",
       "      <td>NaN</td>\n",
       "      <td>Caprimulgiformes</td>\n",
       "      <td>109.0</td>\n",
       "    </tr>\n",
       "  </tbody>\n",
       "</table>\n",
       "</div>"
      ],
      "text/plain": [
       "            scientific_name       LON.b      LAT.b      LON.nb     LAT.nb  \\\n",
       "0      Aeronautes saxatalis -108.698701  32.448050 -105.931063  26.265097   \n",
       "1  Antrostomus carolinensis  -88.058904  34.063816  -83.140011  16.459749   \n",
       "\n",
       "   MAX.LAT.nb     distance  intersect   id        avibase id     rank  \\\n",
       "0   39.513228   736.046352   0.586364  755  B401C2DDB3ED732D  species   \n",
       "1   30.354784  2011.374172   0.049623  718  8D3E887123F5C670  species   \n",
       "\n",
       "            common_name               french_name             order  \\\n",
       "0  White-throated Swift  Martinet à gorge blanche       Apodiformes   \n",
       "1    Chuck-will's-widow   Engoulevent de Caroline  Caprimulgiformes   \n",
       "\n",
       "          family      subfamily        genus  annotation status_accidental  \\\n",
       "0       Apodidae       Apodinae   Aeronautes         NaN               NaN   \n",
       "1  Caprimulgidae  Caprimulginae  Antrostomus  Monotypic.               NaN   \n",
       "\n",
       "  status_hawaiian status_introduced status_nonbreeding status_extinct  \\\n",
       "0             NaN               NaN                NaN            NaN   \n",
       "1             NaN               NaN                NaN            NaN   \n",
       "\n",
       "  status_misplaced order_birds_of_north_america  body_mass  \n",
       "0              NaN             Caprimulgiformes       32.1  \n",
       "1              NaN             Caprimulgiformes      109.0  "
      ]
     },
     "execution_count": 69,
     "metadata": {},
     "output_type": "execute_result"
    }
   ],
   "source": [
    "df_a_i_na_h_added.head(2)"
   ]
  },
  {
   "cell_type": "code",
   "execution_count": 70,
   "metadata": {},
   "outputs": [],
   "source": [
    "df_a_i_na_h_added_fewer_fields = df_a_i_na_h_added[\n",
    "    ['common_name', 'scientific_name', 'order_birds_of_north_america', 'family', 'body_mass', 'distance']]"
   ]
  },
  {
   "cell_type": "code",
   "execution_count": 71,
   "metadata": {
    "scrolled": true
   },
   "outputs": [
    {
     "name": "stderr",
     "output_type": "stream",
     "text": [
      "/Users/alvastrand/opt/anaconda3/lib/python3.7/site-packages/ipykernel_launcher.py:1: SettingWithCopyWarning: \n",
      "A value is trying to be set on a copy of a slice from a DataFrame.\n",
      "Try using .loc[row_indexer,col_indexer] = value instead\n",
      "\n",
      "See the caveats in the documentation: https://pandas.pydata.org/pandas-docs/stable/user_guide/indexing.html#returning-a-view-versus-a-copy\n",
      "  \"\"\"Entry point for launching an IPython kernel.\n",
      "/Users/alvastrand/opt/anaconda3/lib/python3.7/site-packages/ipykernel_launcher.py:2: SettingWithCopyWarning: \n",
      "A value is trying to be set on a copy of a slice from a DataFrame.\n",
      "Try using .loc[row_indexer,col_indexer] = value instead\n",
      "\n",
      "See the caveats in the documentation: https://pandas.pydata.org/pandas-docs/stable/user_guide/indexing.html#returning-a-view-versus-a-copy\n",
      "  \n"
     ]
    }
   ],
   "source": [
    "df_a_i_na_h_added_fewer_fields['body_mass'] = df_a_i_na_h_added_fewer_fields['body_mass'].round(1)\n",
    "df_a_i_na_h_added_fewer_fields['distance'] = df_a_i_na_h_added_fewer_fields['distance'].round().astype(int)"
   ]
  },
  {
   "cell_type": "code",
   "execution_count": 72,
   "metadata": {},
   "outputs": [],
   "source": [
    "df_a_i_na_h_added_fewer_fields = df_a_i_na_h_added_fewer_fields.rename(\n",
    "    columns={'common_name': 'Common Name', 'scientific_name': 'Scientific Name', \n",
    "             'order_birds_of_north_america': 'Order', 'family': 'Family', \n",
    "             'body_mass': 'Body Mass (g)', 'distance': 'Migration distance (km)'})"
   ]
  },
  {
   "cell_type": "code",
   "execution_count": 73,
   "metadata": {},
   "outputs": [],
   "source": [
    "df_a_i_na_h_added_fewer_fields = df_a_i_na_h_added_fewer_fields.sort_values(\n",
    "    by=['Order', 'Family', 'Scientific Name'])"
   ]
  },
  {
   "cell_type": "code",
   "execution_count": 74,
   "metadata": {},
   "outputs": [
    {
     "data": {
      "text/html": [
       "<div>\n",
       "<style scoped>\n",
       "    .dataframe tbody tr th:only-of-type {\n",
       "        vertical-align: middle;\n",
       "    }\n",
       "\n",
       "    .dataframe tbody tr th {\n",
       "        vertical-align: top;\n",
       "    }\n",
       "\n",
       "    .dataframe thead th {\n",
       "        text-align: right;\n",
       "    }\n",
       "</style>\n",
       "<table border=\"1\" class=\"dataframe\">\n",
       "  <thead>\n",
       "    <tr style=\"text-align: right;\">\n",
       "      <th></th>\n",
       "      <th>Common Name</th>\n",
       "      <th>Scientific Name</th>\n",
       "      <th>Order</th>\n",
       "      <th>Family</th>\n",
       "      <th>Body Mass (g)</th>\n",
       "      <th>Migration distance (km)</th>\n",
       "    </tr>\n",
       "  </thead>\n",
       "  <tbody>\n",
       "    <tr>\n",
       "      <th>0</th>\n",
       "      <td>White-throated Swift</td>\n",
       "      <td>Aeronautes saxatalis</td>\n",
       "      <td>Caprimulgiformes</td>\n",
       "      <td>Apodidae</td>\n",
       "      <td>32.1</td>\n",
       "      <td>736</td>\n",
       "    </tr>\n",
       "    <tr>\n",
       "      <th>4</th>\n",
       "      <td>Chimney Swift</td>\n",
       "      <td>Chaetura pelagica</td>\n",
       "      <td>Caprimulgiformes</td>\n",
       "      <td>Apodidae</td>\n",
       "      <td>23.6</td>\n",
       "      <td>5125</td>\n",
       "    </tr>\n",
       "  </tbody>\n",
       "</table>\n",
       "</div>"
      ],
      "text/plain": [
       "            Common Name       Scientific Name             Order    Family  \\\n",
       "0  White-throated Swift  Aeronautes saxatalis  Caprimulgiformes  Apodidae   \n",
       "4         Chimney Swift     Chaetura pelagica  Caprimulgiformes  Apodidae   \n",
       "\n",
       "   Body Mass (g)  Migration distance (km)  \n",
       "0           32.1                      736  \n",
       "4           23.6                     5125  "
      ]
     },
     "execution_count": 74,
     "metadata": {},
     "output_type": "execute_result"
    }
   ],
   "source": [
    "df_a_i_na_h_added_fewer_fields.head(2)"
   ]
  },
  {
   "cell_type": "code",
   "execution_count": 75,
   "metadata": {
    "scrolled": true
   },
   "outputs": [
    {
     "data": {
      "text/html": [
       "<div>\n",
       "<style scoped>\n",
       "    .dataframe tbody tr th:only-of-type {\n",
       "        vertical-align: middle;\n",
       "    }\n",
       "\n",
       "    .dataframe tbody tr th {\n",
       "        vertical-align: top;\n",
       "    }\n",
       "\n",
       "    .dataframe thead th {\n",
       "        text-align: right;\n",
       "    }\n",
       "</style>\n",
       "<table border=\"1\" class=\"dataframe\">\n",
       "  <thead>\n",
       "    <tr style=\"text-align: right;\">\n",
       "      <th></th>\n",
       "      <th>Common Name</th>\n",
       "      <th>Scientific Name</th>\n",
       "      <th>Order</th>\n",
       "      <th>Family</th>\n",
       "      <th>Body Mass (g)</th>\n",
       "      <th>Migration distance (km)</th>\n",
       "    </tr>\n",
       "  </thead>\n",
       "  <tbody>\n",
       "    <tr>\n",
       "      <th>0</th>\n",
       "      <td>White-throated Swift</td>\n",
       "      <td>Aeronautes saxatalis</td>\n",
       "      <td>Caprimulgiformes</td>\n",
       "      <td>Apodidae</td>\n",
       "      <td>32.1</td>\n",
       "      <td>736</td>\n",
       "    </tr>\n",
       "    <tr>\n",
       "      <th>4</th>\n",
       "      <td>Chimney Swift</td>\n",
       "      <td>Chaetura pelagica</td>\n",
       "      <td>Caprimulgiformes</td>\n",
       "      <td>Apodidae</td>\n",
       "      <td>23.6</td>\n",
       "      <td>5125</td>\n",
       "    </tr>\n",
       "    <tr>\n",
       "      <th>5</th>\n",
       "      <td>Vaux's Swift</td>\n",
       "      <td>Chaetura vauxi</td>\n",
       "      <td>Caprimulgiformes</td>\n",
       "      <td>Apodidae</td>\n",
       "      <td>17.1</td>\n",
       "      <td>2374</td>\n",
       "    </tr>\n",
       "    <tr>\n",
       "      <th>8</th>\n",
       "      <td>Black Swift</td>\n",
       "      <td>Cypseloides niger</td>\n",
       "      <td>Caprimulgiformes</td>\n",
       "      <td>Apodidae</td>\n",
       "      <td>41.4</td>\n",
       "      <td>2772</td>\n",
       "    </tr>\n",
       "    <tr>\n",
       "      <th>1</th>\n",
       "      <td>Mexican Whip-poor-will</td>\n",
       "      <td>Antrostomus arizonae</td>\n",
       "      <td>Caprimulgiformes</td>\n",
       "      <td>Caprimulgidae</td>\n",
       "      <td>NaN</td>\n",
       "      <td>564</td>\n",
       "    </tr>\n",
       "    <tr>\n",
       "      <th>1</th>\n",
       "      <td>Chuck-will's-widow</td>\n",
       "      <td>Antrostomus carolinensis</td>\n",
       "      <td>Caprimulgiformes</td>\n",
       "      <td>Caprimulgidae</td>\n",
       "      <td>109.0</td>\n",
       "      <td>2011</td>\n",
       "    </tr>\n",
       "    <tr>\n",
       "      <th>2</th>\n",
       "      <td>Buff-collared Nightjar</td>\n",
       "      <td>Antrostomus ridgwayi</td>\n",
       "      <td>Caprimulgiformes</td>\n",
       "      <td>Caprimulgidae</td>\n",
       "      <td>48.0</td>\n",
       "      <td>412</td>\n",
       "    </tr>\n",
       "    <tr>\n",
       "      <th>3</th>\n",
       "      <td>Eastern Whip-poor-will</td>\n",
       "      <td>Antrostomus vociferus</td>\n",
       "      <td>Caprimulgiformes</td>\n",
       "      <td>Caprimulgidae</td>\n",
       "      <td>53.4</td>\n",
       "      <td>2656</td>\n",
       "    </tr>\n",
       "    <tr>\n",
       "      <th>6</th>\n",
       "      <td>Lesser Nighthawk</td>\n",
       "      <td>Chordeiles acutipennis</td>\n",
       "      <td>Caprimulgiformes</td>\n",
       "      <td>Caprimulgidae</td>\n",
       "      <td>47.8</td>\n",
       "      <td>827</td>\n",
       "    </tr>\n",
       "    <tr>\n",
       "      <th>7</th>\n",
       "      <td>Common Nighthawk</td>\n",
       "      <td>Chordeiles minor</td>\n",
       "      <td>Caprimulgiformes</td>\n",
       "      <td>Caprimulgidae</td>\n",
       "      <td>79.3</td>\n",
       "      <td>7112</td>\n",
       "    </tr>\n",
       "    <tr>\n",
       "      <th>12</th>\n",
       "      <td>Common Poorwill</td>\n",
       "      <td>Phalaenoptilus nuttallii</td>\n",
       "      <td>Caprimulgiformes</td>\n",
       "      <td>Caprimulgidae</td>\n",
       "      <td>48.1</td>\n",
       "      <td>844</td>\n",
       "    </tr>\n",
       "    <tr>\n",
       "      <th>9</th>\n",
       "      <td>Barn Swallow</td>\n",
       "      <td>Hirundo rustica</td>\n",
       "      <td>Passeriformes</td>\n",
       "      <td>Hirundinidae</td>\n",
       "      <td>17.3</td>\n",
       "      <td>7364</td>\n",
       "    </tr>\n",
       "    <tr>\n",
       "      <th>10</th>\n",
       "      <td>Cave Swallow</td>\n",
       "      <td>Petrochelidon fulva</td>\n",
       "      <td>Passeriformes</td>\n",
       "      <td>Hirundinidae</td>\n",
       "      <td>24.1</td>\n",
       "      <td>541</td>\n",
       "    </tr>\n",
       "    <tr>\n",
       "      <th>11</th>\n",
       "      <td>Cliff Swallow</td>\n",
       "      <td>Petrochelidon pyrrhonota</td>\n",
       "      <td>Passeriformes</td>\n",
       "      <td>Hirundinidae</td>\n",
       "      <td>21.6</td>\n",
       "      <td>8972</td>\n",
       "    </tr>\n",
       "    <tr>\n",
       "      <th>13</th>\n",
       "      <td>Purple Martin</td>\n",
       "      <td>Progne subis</td>\n",
       "      <td>Passeriformes</td>\n",
       "      <td>Hirundinidae</td>\n",
       "      <td>53.8</td>\n",
       "      <td>7924</td>\n",
       "    </tr>\n",
       "    <tr>\n",
       "      <th>14</th>\n",
       "      <td>Bank Swallow</td>\n",
       "      <td>Riparia riparia</td>\n",
       "      <td>Passeriformes</td>\n",
       "      <td>Hirundinidae</td>\n",
       "      <td>13.3</td>\n",
       "      <td>8056</td>\n",
       "    </tr>\n",
       "    <tr>\n",
       "      <th>15</th>\n",
       "      <td>Northern Rough-winged Swallow</td>\n",
       "      <td>Stelgidopteryx serripennis</td>\n",
       "      <td>Passeriformes</td>\n",
       "      <td>Hirundinidae</td>\n",
       "      <td>15.9</td>\n",
       "      <td>2068</td>\n",
       "    </tr>\n",
       "    <tr>\n",
       "      <th>16</th>\n",
       "      <td>Tree Swallow</td>\n",
       "      <td>Tachycineta bicolor</td>\n",
       "      <td>Passeriformes</td>\n",
       "      <td>Hirundinidae</td>\n",
       "      <td>21.2</td>\n",
       "      <td>3201</td>\n",
       "    </tr>\n",
       "    <tr>\n",
       "      <th>17</th>\n",
       "      <td>Violet-green Swallow</td>\n",
       "      <td>Tachycineta thalassina</td>\n",
       "      <td>Passeriformes</td>\n",
       "      <td>Hirundinidae</td>\n",
       "      <td>14.2</td>\n",
       "      <td>2707</td>\n",
       "    </tr>\n",
       "  </tbody>\n",
       "</table>\n",
       "</div>"
      ],
      "text/plain": [
       "                      Common Name             Scientific Name  \\\n",
       "0            White-throated Swift        Aeronautes saxatalis   \n",
       "4                   Chimney Swift           Chaetura pelagica   \n",
       "5                    Vaux's Swift              Chaetura vauxi   \n",
       "8                     Black Swift           Cypseloides niger   \n",
       "1          Mexican Whip-poor-will        Antrostomus arizonae   \n",
       "1              Chuck-will's-widow    Antrostomus carolinensis   \n",
       "2          Buff-collared Nightjar        Antrostomus ridgwayi   \n",
       "3          Eastern Whip-poor-will       Antrostomus vociferus   \n",
       "6                Lesser Nighthawk      Chordeiles acutipennis   \n",
       "7                Common Nighthawk            Chordeiles minor   \n",
       "12                Common Poorwill    Phalaenoptilus nuttallii   \n",
       "9                    Barn Swallow             Hirundo rustica   \n",
       "10                   Cave Swallow         Petrochelidon fulva   \n",
       "11                  Cliff Swallow    Petrochelidon pyrrhonota   \n",
       "13                  Purple Martin                Progne subis   \n",
       "14                   Bank Swallow             Riparia riparia   \n",
       "15  Northern Rough-winged Swallow  Stelgidopteryx serripennis   \n",
       "16                   Tree Swallow         Tachycineta bicolor   \n",
       "17           Violet-green Swallow      Tachycineta thalassina   \n",
       "\n",
       "               Order         Family  Body Mass (g)  Migration distance (km)  \n",
       "0   Caprimulgiformes       Apodidae           32.1                      736  \n",
       "4   Caprimulgiformes       Apodidae           23.6                     5125  \n",
       "5   Caprimulgiformes       Apodidae           17.1                     2374  \n",
       "8   Caprimulgiformes       Apodidae           41.4                     2772  \n",
       "1   Caprimulgiformes  Caprimulgidae            NaN                      564  \n",
       "1   Caprimulgiformes  Caprimulgidae          109.0                     2011  \n",
       "2   Caprimulgiformes  Caprimulgidae           48.0                      412  \n",
       "3   Caprimulgiformes  Caprimulgidae           53.4                     2656  \n",
       "6   Caprimulgiformes  Caprimulgidae           47.8                      827  \n",
       "7   Caprimulgiformes  Caprimulgidae           79.3                     7112  \n",
       "12  Caprimulgiformes  Caprimulgidae           48.1                      844  \n",
       "9      Passeriformes   Hirundinidae           17.3                     7364  \n",
       "10     Passeriformes   Hirundinidae           24.1                      541  \n",
       "11     Passeriformes   Hirundinidae           21.6                     8972  \n",
       "13     Passeriformes   Hirundinidae           53.8                     7924  \n",
       "14     Passeriformes   Hirundinidae           13.3                     8056  \n",
       "15     Passeriformes   Hirundinidae           15.9                     2068  \n",
       "16     Passeriformes   Hirundinidae           21.2                     3201  \n",
       "17     Passeriformes   Hirundinidae           14.2                     2707  "
      ]
     },
     "execution_count": 75,
     "metadata": {},
     "output_type": "execute_result"
    }
   ],
   "source": [
    "df_a_i_na_h_added_fewer_fields"
   ]
  },
  {
   "cell_type": "code",
   "execution_count": 76,
   "metadata": {},
   "outputs": [],
   "source": [
    "subdir = 'data/output/'\n",
    "\n",
    "# filename = 'obligate_aerial_insectivores_birdlife_nacc_north_america_handbook_added.csv'\n",
    "filename = 'aerial_insectivores_migration_distances_mean_weighted_body_masses.csv'\n",
    "\n",
    "df_a_i_na_h_added.to_csv(subdir + filename, index=False)"
   ]
  },
  {
   "cell_type": "code",
   "execution_count": 77,
   "metadata": {},
   "outputs": [],
   "source": [
    "subdir = 'data/output/'\n",
    "\n",
    "filename = 'aerial_insectivores_migration_distances_mean_weighted_body_masses_proposal.csv'\n",
    "\n",
    "df_a_i_na_h_added_fewer_fields.to_csv(subdir + filename, index=False)"
   ]
  },
  {
   "cell_type": "code",
   "execution_count": 78,
   "metadata": {},
   "outputs": [],
   "source": [
    "# subdir = 'data/output/'\n",
    "# filename = 'obligate_aerial_insectivores_birdlife_nacc_north_america_handbook_added.csv'\n",
    "# df_a_i_na_h_added = pd.read_csv(subdir + filename)"
   ]
  }
 ],
 "metadata": {
  "kernelspec": {
   "display_name": "Python 3",
   "language": "python",
   "name": "python3"
  },
  "language_info": {
   "codemirror_mode": {
    "name": "ipython",
    "version": 3
   },
   "file_extension": ".py",
   "mimetype": "text/x-python",
   "name": "python",
   "nbconvert_exporter": "python",
   "pygments_lexer": "ipython3",
   "version": "3.7.7"
  }
 },
 "nbformat": 4,
 "nbformat_minor": 2
}
