{
 "cells": [
  {
   "cell_type": "markdown",
   "metadata": {},
   "source": [
    "# Description:\n",
    "Create grid and assign eBird checklists to cells in the grid."
   ]
  },
  {
   "cell_type": "code",
   "execution_count": null,
   "metadata": {},
   "outputs": [],
   "source": [
    "import os\n",
    "import pandas as pd\n",
    "import numpy as np\n",
    "import math"
   ]
  },
  {
   "cell_type": "code",
   "execution_count": null,
   "metadata": {},
   "outputs": [],
   "source": [
    "pd.set_option('max_columns', 100)\n",
    "pd.set_option('max_rows', 100)"
   ]
  },
  {
   "cell_type": "code",
   "execution_count": null,
   "metadata": {},
   "outputs": [],
   "source": [
    "os.getcwd()"
   ]
  },
  {
   "cell_type": "code",
   "execution_count": null,
   "metadata": {},
   "outputs": [],
   "source": [
    "path = '/Users/alvastrand/Documents/OU/Research/data/'\n",
    "# Change current working directory\n",
    "os.chdir(path)"
   ]
  },
  {
   "cell_type": "code",
   "execution_count": null,
   "metadata": {},
   "outputs": [],
   "source": [
    "os.getcwd()"
   ]
  },
  {
   "cell_type": "code",
   "execution_count": null,
   "metadata": {},
   "outputs": [],
   "source": [
    "start_date = '0101'\n",
    "end_date = '0731'\n",
    "month = 'Apr'\n",
    "year = '2020'\n",
    "countries_states = 'US_states_east_Mississippi'"
   ]
  },
  {
   "cell_type": "code",
   "execution_count": null,
   "metadata": {},
   "outputs": [],
   "source": [
    "subdir = 'output/'\n",
    "filename = 'obligate_aerial_insectivores_ebird_species_codes.csv'\n",
    "\n",
    "df = pd.read_csv(subdir + filename)\n",
    "\n",
    "print(len(df))"
   ]
  },
  {
   "cell_type": "code",
   "execution_count": null,
   "metadata": {},
   "outputs": [],
   "source": [
    "df.head(2)"
   ]
  },
  {
   "cell_type": "code",
   "execution_count": null,
   "metadata": {},
   "outputs": [],
   "source": [
    "min_lat = math.floor(23.88817)\n",
    "print(min_lat)\n",
    "# 23\n",
    "max_lat = math.ceil(48.2235)\n",
    "print(max_lat)\n",
    "# 49\n",
    "min_lon = math.floor(-92.88799)\n",
    "print(min_lon)\n",
    "# -93\n",
    "max_lon = math.ceil(-66.94957) + 1\n",
    "# -66.9502\n",
    "print(max_lon)\n",
    "# -65\n",
    "\n",
    "# Create list of latitudes\n",
    "list_lat = range(min_lat, max_lat, 2)\n",
    "print(list_lat)\n",
    "# range(23, 49, 2)\n",
    "# Get length of the list\n",
    "print(len(list_lat))\n",
    "# 13\n",
    "\n",
    "# Create list of longitudes\n",
    "list_lon = range(min_lon, max_lon, 2)\n",
    "print(list_lon)\n",
    "# range(-93, -65, 2)\n",
    "# Get length of the list\n",
    "print(len(list_lon))\n",
    "# 14"
   ]
  },
  {
   "cell_type": "code",
   "execution_count": null,
   "metadata": {},
   "outputs": [],
   "source": [
    "def get_grid_cell_ids(start_date, end_date, month, year, *args):\n",
    "    \n",
    "    list_grid_cell_ids = []\n",
    "    list_min_lat = []\n",
    "    list_max_lat = []\n",
    "    list_min_lon = []\n",
    "    list_max_lon = []\n",
    "\n",
    "    ID = 0\n",
    "\n",
    "    for i in range(len(list_lat)):\n",
    "        for j in range(len(list_lon)):\n",
    "\n",
    "            # If we've reached the index of the last element of the list of latitudes\n",
    "            if i == len(list_lat) - 1:\n",
    "                bounding_lat = list_lat[i] + 2\n",
    "            else:\n",
    "                bounding_lat = list_lat[i + 1]\n",
    "\n",
    "            # If we've reached the index of the last element of the list of longitudes\n",
    "            if j == len(list_lon) - 1:\n",
    "                bounding_lon = list_lon[j] + 2\n",
    "            else:\n",
    "                bounding_lon = list_lon[j + 1]\n",
    "\n",
    "            print(ID)\n",
    "            print(list_lat[i], bounding_lat)\n",
    "            print(list_lon[j], bounding_lon)\n",
    "\n",
    "            list_grid_cell_ids.append(ID)\n",
    "            list_min_lat.append(list_lat[i])\n",
    "            list_max_lat.append(bounding_lat)\n",
    "            list_min_lon.append(list_lon[j])\n",
    "            list_max_lon.append(bounding_lon)\n",
    "\n",
    "            ID += 1\n",
    "\n",
    "    df_ids = pd.DataFrame(data={'grid_cell': list_grid_cell_ids, 'min_lat': list_min_lat, 'max_lat': list_max_lat, \n",
    "                                'min_lon': list_min_lon, 'max_lon': list_max_lon})\n",
    "\n",
    "    print(df_ids.shape)\n",
    "    \n",
    "    subdir = 'eBird/ebd_output/'\n",
    "    \n",
    "    if args != ():\n",
    "        \n",
    "        countries_states = args[0]\n",
    "\n",
    "        filename = 'ebd_' + countries_states + '_' + start_date + '_' + end_date + \\\n",
    "        '_complete_zerofilled_grid_cell_ids_rel' + month + '-' + year + '.csv'\n",
    "        print(filename)\n",
    "    \n",
    "    df_ids.to_csv(subdir + filename, index=False)\n",
    "    \n",
    "    return df_ids"
   ]
  },
  {
   "cell_type": "code",
   "execution_count": null,
   "metadata": {},
   "outputs": [],
   "source": [
    "def name_of_function(species, start_date, end_date, month, year, *args):\n",
    "    \n",
    "    subdir = 'eBird/ebd_output/'\n",
    "    \n",
    "    if args != ():\n",
    "        \n",
    "        countries_states = args[0]\n",
    "        \n",
    "        filename = 'ebd_' + countries_states + '_' + species + '_' + start_date + '_' + end_date + \\\n",
    "        '_complete_zerofilled_rel' + month + '-' + year + '.csv'\n",
    "        print(filename)\n",
    "    \n",
    "    df = pd.read_csv(subdir + filename)\n",
    "\n",
    "    print(df.shape)\n",
    "    # (7459806, 34)\n",
    "\n",
    "    df['grid_cell'] = np.nan\n",
    "\n",
    "    print(df.shape)\n",
    "    # (7459806, 35)\n",
    "\n",
    "    ID = 0\n",
    "    \n",
    "    for i in range(len(list_lat)):\n",
    "        for j in range(len(list_lon)):\n",
    "            \n",
    "            # If we've reached the index of the last element of the list of latitudes\n",
    "            if i == len(list_lat) - 1:\n",
    "                bounding_lat = list_lat[i] + 2\n",
    "            else:\n",
    "                bounding_lat = list_lat[i + 1]\n",
    "            \n",
    "            # If we've reached the index of the last element of the list of longitudes\n",
    "            if j == len(list_lon) - 1:\n",
    "                bounding_lon = list_lon[j] + 2\n",
    "            else:\n",
    "                bounding_lon = list_lon[j + 1]\n",
    "            \n",
    "            # Assign the ID to the grid_cell column on rows that meet conditions\n",
    "            df.loc[(df['latitude'] > list_lat[i]) & \n",
    "                   (df['latitude'] <= bounding_lat) & \n",
    "                   (df['longitude'] > list_lon[j]) & \n",
    "                   (df['longitude'] <= bounding_lon), 'grid_cell'] = ID\n",
    "            \n",
    "            print(ID)\n",
    "            print(list_lat[i], bounding_lat)\n",
    "            print(list_lon[j], bounding_lon)\n",
    "            \n",
    "            ID += 1\n",
    "\n",
    "    df['grid_cell'] = df['grid_cell'].astype(int)\n",
    "    \n",
    "    print(df['grid_cell'].isnull().values.any())\n",
    "    \n",
    "    print(df['grid_cell'].min())\n",
    "    # 4\n",
    "    print(df['grid_cell'].max())\n",
    "    # 180\n",
    "    # Get number of unique grid cells\n",
    "    print(len(df['grid_cell'].unique()))\n",
    "    # 108\n",
    "    \n",
    "    if args != ():\n",
    "        \n",
    "        countries_states = args[0]\n",
    "        \n",
    "        filename = 'ebd_' + countries_states + '_' + species + '_' + start_date + '_' + end_date + \\\n",
    "        '_complete_zerofilled_grid_cells_rel' + month + '-' + year + '.csv'\n",
    "        print(filename)\n",
    "        \n",
    "    df.to_csv(subdir + filename, index=False)\n",
    "    \n",
    "    return df"
   ]
  },
  {
   "cell_type": "code",
   "execution_count": null,
   "metadata": {},
   "outputs": [],
   "source": [
    "# df_ids = get_grid_cell_ids(start_date, end_date, month, year, countries_states)"
   ]
  },
  {
   "cell_type": "code",
   "execution_count": null,
   "metadata": {},
   "outputs": [],
   "source": [
    "# df_ids.head(2)"
   ]
  },
  {
   "cell_type": "code",
   "execution_count": null,
   "metadata": {},
   "outputs": [],
   "source": [
    "# species = 'barswa'\n",
    "\n",
    "# df_grid_cells = name_of_function(species, start_date, end_date, month, year, countries_states)"
   ]
  },
  {
   "cell_type": "code",
   "execution_count": null,
   "metadata": {},
   "outputs": [],
   "source": [
    "# df_grid_cells.head(2)"
   ]
  },
  {
   "cell_type": "code",
   "execution_count": null,
   "metadata": {},
   "outputs": [],
   "source": [
    "species_cnt = 0\n",
    "\n",
    "for i in range(len(df)):\n",
    "    \n",
    "    print(i)\n",
    "  \n",
    "    species = df['species_code'].iloc[i]\n",
    "    print(species)\n",
    "    \n",
    "    if ((species == 'souwpw1') | (species == 'bucnig') | (species == 'compoo') | (species == 'whtswi') | \n",
    "        (species == \"blkswi\") | (species == 'barswa')):\n",
    "        continue\n",
    "    \n",
    "    df_grid_cells = name_of_function(species, start_date, end_date, month, year, countries_states)\n",
    "    \n",
    "    species_cnt += 1"
   ]
  },
  {
   "cell_type": "code",
   "execution_count": null,
   "metadata": {},
   "outputs": [],
   "source": [
    "print(species_cnt)"
   ]
  }
 ],
 "metadata": {
  "kernelspec": {
   "display_name": "Python 3",
   "language": "python",
   "name": "python3"
  },
  "language_info": {
   "codemirror_mode": {
    "name": "ipython",
    "version": 3
   },
   "file_extension": ".py",
   "mimetype": "text/x-python",
   "name": "python",
   "nbconvert_exporter": "python",
   "pygments_lexer": "ipython3",
   "version": "3.7.7"
  }
 },
 "nbformat": 4,
 "nbformat_minor": 2
}
