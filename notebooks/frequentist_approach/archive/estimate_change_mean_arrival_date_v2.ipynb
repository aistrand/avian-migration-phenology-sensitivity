{
 "cells": [
  {
   "cell_type": "code",
   "execution_count": null,
   "metadata": {},
   "outputs": [],
   "source": [
    "import os\n",
    "import pandas as pd\n",
    "import numpy as np\n",
    "import matplotlib.pyplot as plt\n",
    "import scipy.stats\n",
    "import geopandas\n",
    "import matplotlib"
   ]
  },
  {
   "cell_type": "code",
   "execution_count": null,
   "metadata": {},
   "outputs": [],
   "source": [
    "pd.set_option('max_columns', 100)\n",
    "pd.set_option('max_rows', 100)"
   ]
  },
  {
   "cell_type": "code",
   "execution_count": null,
   "metadata": {},
   "outputs": [],
   "source": [
    "os.getcwd()"
   ]
  },
  {
   "cell_type": "code",
   "execution_count": null,
   "metadata": {},
   "outputs": [],
   "source": [
    "path = '/Users/alvastrand/'\n",
    "os.chdir(path)"
   ]
  },
  {
   "cell_type": "code",
   "execution_count": null,
   "metadata": {},
   "outputs": [],
   "source": [
    "os.getcwd()"
   ]
  },
  {
   "cell_type": "code",
   "execution_count": null,
   "metadata": {},
   "outputs": [],
   "source": [
    "filename = 'ebd_US_barswa_201001_202001_mad_relJan-2020_v2.csv'\n",
    "df = pd.read_csv(filename)"
   ]
  },
  {
   "cell_type": "code",
   "execution_count": null,
   "metadata": {},
   "outputs": [],
   "source": [
    "df['mad'] = pd.to_datetime(df['mad'])"
   ]
  },
  {
   "cell_type": "code",
   "execution_count": null,
   "metadata": {},
   "outputs": [],
   "source": [
    "filename = 'ebd_US_barswa_201001_202001_relJan-2020_grid_cell_ids_v2.csv'\n",
    "df_grid_cells = pd.read_csv(filename)"
   ]
  },
  {
   "cell_type": "code",
   "execution_count": null,
   "metadata": {},
   "outputs": [],
   "source": [
    "filename = 'ebd_US_barswa_201001_202001_first_of_season_relJan-2020_v2.csv'\n",
    "df_first_of = pd.read_csv(filename)"
   ]
  },
  {
   "cell_type": "code",
   "execution_count": null,
   "metadata": {},
   "outputs": [],
   "source": [
    "df_first_of.rename(columns={'t_mad': 'first_of_season_arrival_day', 'mad': 'first_of_season_arrival_date'}, \n",
    "                   inplace=True)"
   ]
  },
  {
   "cell_type": "code",
   "execution_count": null,
   "metadata": {},
   "outputs": [],
   "source": [
    "df_first_of['first_of_season_arrival_date'] = pd.to_datetime(df_first_of['first_of_season_arrival_date'])"
   ]
  },
  {
   "cell_type": "code",
   "execution_count": null,
   "metadata": {},
   "outputs": [],
   "source": [
    "print(len(df))\n",
    "# 809\n",
    "print(len(df_grid_cells))\n",
    "print(len(df_first_of))"
   ]
  },
  {
   "cell_type": "code",
   "execution_count": null,
   "metadata": {},
   "outputs": [],
   "source": [
    "print(len(df['grid_cell'].unique()))\n",
    "# 88\n",
    "print(len(df_first_of['grid_cell'].unique()))"
   ]
  },
  {
   "cell_type": "code",
   "execution_count": null,
   "metadata": {},
   "outputs": [],
   "source": [
    "df.head(2)"
   ]
  },
  {
   "cell_type": "code",
   "execution_count": null,
   "metadata": {},
   "outputs": [],
   "source": [
    "df_grid_cells.head(2)"
   ]
  },
  {
   "cell_type": "code",
   "execution_count": null,
   "metadata": {},
   "outputs": [],
   "source": [
    "df_first_of.head(2)"
   ]
  },
  {
   "cell_type": "code",
   "execution_count": null,
   "metadata": {},
   "outputs": [],
   "source": [
    "df_comp = df.merge(df_first_of, on=['grid_cell', 'year', 'nb_prop'])"
   ]
  },
  {
   "cell_type": "code",
   "execution_count": null,
   "metadata": {},
   "outputs": [],
   "source": [
    "df_comp.plot('t_mad', 'first_of_season_arrival_day', kind='scatter')\n",
    "plt.show()"
   ]
  },
  {
   "cell_type": "markdown",
   "metadata": {},
   "source": [
    "Slope?\n",
    "Residuals?"
   ]
  },
  {
   "cell_type": "code",
   "execution_count": null,
   "metadata": {},
   "outputs": [],
   "source": []
  },
  {
   "cell_type": "code",
   "execution_count": null,
   "metadata": {},
   "outputs": [],
   "source": [
    "print(df['r_squared'].mean())\n",
    "print(df['r_squared'].median())\n",
    "print(df['r_squared'].min())\n",
    "print(df['r_squared'].max())"
   ]
  },
  {
   "cell_type": "code",
   "execution_count": null,
   "metadata": {},
   "outputs": [],
   "source": []
  },
  {
   "cell_type": "code",
   "execution_count": null,
   "metadata": {},
   "outputs": [],
   "source": [
    "def function_name(df, arrival_day_field_name):\n",
    "\n",
    "    df_cnt = df[['grid_cell', 'year']].groupby(['grid_cell']).count()\n",
    "    df_cnt.reset_index(inplace=True)\n",
    "    df_cnt.rename(columns={'year': 'nb_years'}, inplace=True)\n",
    "\n",
    "    print(len(df_cnt))\n",
    "\n",
    "#     print(df_cnt.head(2))\n",
    "\n",
    "    list_grid_cells = list(df_cnt[df_cnt['nb_years'] >= 5]['grid_cell'])\n",
    "    print(len(list_grid_cells))\n",
    "\n",
    "    df = df[df['grid_cell'].isin(list_grid_cells)]\n",
    "\n",
    "    print(len(df))\n",
    "\n",
    "    list_means_days = []\n",
    "    list_std_days = []\n",
    "    list_days = []\n",
    "    list_days_excluded = []\n",
    "    list_slopes = []\n",
    "    list_intercepts = []\n",
    "    list_r_values = []\n",
    "    list_p_values = []\n",
    "    list_std_err = []\n",
    "\n",
    "    for i in range(len(list_grid_cells)):\n",
    "        df_subset = df[df['grid_cell'] == list_grid_cells[i]]\n",
    "        linregress = scipy.stats.linregress(df_subset['year'], df_subset[arrival_day_field_name])\n",
    "        mean_day = df_subset[arrival_day_field_name].mean()\n",
    "        list_means_days.append(mean_day)\n",
    "        std_day = df_subset[arrival_day_field_name].std()\n",
    "        list_std_days.append(std_day)\n",
    "        df_subset['day_excluded'] = np.where((df_subset[arrival_day_field_name] > mean_day + 2*std_day) | \n",
    "                                             (df_subset[arrival_day_field_name] < mean_day - 2*std_day), 1, 0)\n",
    "        list_days.append(df_subset[[arrival_day_field_name, 'day_excluded']])\n",
    "        if 1 in list(df_subset['day_excluded']):\n",
    "            list_days_excluded.append(1)\n",
    "        else:\n",
    "            list_days_excluded.append(0)\n",
    "        list_slopes.append(linregress[0])\n",
    "        list_intercepts.append(linregress[1])\n",
    "        list_r_values.append(linregress[2])\n",
    "        list_p_values.append(linregress[3])\n",
    "        list_std_err.append(linregress[4])\n",
    "    #     plt.figure(figsize=(12.0, 4.0))\n",
    "    #     plt.scatter(df_subset['year'], df_subset[arrival_day_field_name])\n",
    "    #     plt.show()\n",
    "\n",
    "    df_r = pd.DataFrame(data={'grid_cell': list_grid_cells, 'slope': list_slopes, 'intercept': list_intercepts, \n",
    "                              'r_value': list_r_values, 'p_value': list_p_values, 'std_err': list_std_err, \n",
    "                              'mean_day': list_means_days, 'std_day': list_std_days, \n",
    "                              'day_excluded': list_days_excluded})\n",
    "\n",
    "    df_r = df_r.merge(df_grid_cells, on='grid_cell')\n",
    "\n",
    "    print(len(df_r))\n",
    "\n",
    "    df_r = df_r[df_r['day_excluded'] == 0]\n",
    "\n",
    "    print(len(df_r))\n",
    "\n",
    "    df['lat_band'] = np.nan\n",
    "\n",
    "    list_lat_band_boundaries = range(20, 55, 5)\n",
    "\n",
    "    for i in range(len(list_lat_band_boundaries)):\n",
    "        if i == len(list_lat_band_boundaries) - 1:\n",
    "            bounding_lat = list_lat_band_boundaries[i] + 5\n",
    "        else:\n",
    "            bounding_lat = list_lat_band_boundaries[i+1]\n",
    "        df_r.loc[(df_r['min_lat'] > list_lat_band_boundaries[i]) & \n",
    "             (df_r['min_lat'] <= bounding_lat), 'lat_band'] = bounding_lat\n",
    "\n",
    "    df_r['lat_band'] = df_r['lat_band'].astype(int)\n",
    "\n",
    "#     print(df_r.head(2))\n",
    "\n",
    "    list_lat_bands = list(df_r['lat_band'].unique())\n",
    "\n",
    "    for i in range(len(list_lat_bands)):\n",
    "        print(list_lat_bands[i])\n",
    "        df_subset = df_r[df_r['lat_band'] == list_lat_bands[i]]\n",
    "        print(df_subset['slope'].mean())\n",
    "        print(df_subset['slope'].median())\n",
    "    #     print(df_subset['slope'].std())\n",
    "\n",
    "    print(scipy.stats.linregress(df_r['min_lat'], df_r['slope']))\n",
    "    print(scipy.stats.linregress(df_r['max_lat'], df_r['slope']))\n",
    "    print(scipy.stats.linregress(df_r['min_lon'], df_r['slope']))\n",
    "    print(scipy.stats.linregress(df_r['max_lon'], df_r['slope']))\n",
    "\n",
    "    plt.scatter(df_r['min_lat'], df_r['slope'])\n",
    "    plt.show()\n",
    "\n",
    "    plt.scatter(df_r['max_lat'], df_r['slope'])\n",
    "    plt.show()\n",
    "\n",
    "    plt.scatter(df_r['min_lon'], df_r['slope'])\n",
    "    plt.show()\n",
    "\n",
    "    plt.scatter(df_r['max_lon'], df_r['slope'])\n",
    "    plt.show()\n",
    "\n",
    "#     print(df.head(2))\n",
    "\n",
    "#     print(df_r.head(2))\n",
    "\n",
    "    print(len(df_r['grid_cell'].unique()))\n",
    "\n",
    "    df_days_year = df[['grid_cell', 'year', arrival_day_field_name]].merge(df_r, on=['grid_cell'])\n",
    "\n",
    "#     print(df_days_year.head(2))\n",
    "\n",
    "    plt.scatter(df_days_year['year'], df_days_year[arrival_day_field_name])\n",
    "    plt.xlabel('Year')\n",
    "    plt.show()\n",
    "\n",
    "    print(scipy.stats.linregress(df_days_year['year'], df_days_year[arrival_day_field_name]))\n",
    "\n",
    "#     print(df_r.head(2))\n",
    "\n",
    "    df_r['mean_lat'] = (df_r['min_lat'] + df_r['max_lat'])/2\n",
    "    df_r['mean_lon'] = (df_r['min_lon'] + df_r['max_lon'])/2\n",
    "\n",
    "    df_r['abs_slope'] = df_r['slope'].abs()*100\n",
    "\n",
    "#     print(df_r.head(2))\n",
    "\n",
    "    df_g = geopandas.GeoDataFrame(df_r, geometry=geopandas.points_from_xy(df_r['mean_lon'], df_r['mean_lat']))\n",
    "\n",
    "#     print(df_g.head(2))\n",
    "\n",
    "    print(df_g['slope'].min())\n",
    "    print(np.floor(df_g['slope'].min()))\n",
    "    print(df_g['slope'].max())\n",
    "    print(np.ceil(df_g['slope'].max()))\n",
    "    \n",
    "    abs_floor_min_slope = np.absolute(np.floor(df_g['slope'].min()))\n",
    "    abs_ceil_max_slope = np.absolute(np.ceil(df_g['slope'].max()))\n",
    "    \n",
    "    print(abs_floor_min_slope)\n",
    "    print(abs_ceil_max_slope)\n",
    "    \n",
    "    greatest_abs = max([abs_floor_min_slope, abs_ceil_max_slope])\n",
    "    \n",
    "    v_min = -greatest_abs\n",
    "    v_max = greatest_abs\n",
    "    \n",
    "#     v_min = -4\n",
    "#     v_max = 4\n",
    "\n",
    "    norm = matplotlib.colors.Normalize(vmin=v_min, vmax=v_max)\n",
    "\n",
    "    matplotlib.rcParams['font.size'] = 15\n",
    "\n",
    "    world = geopandas.read_file(geopandas.datasets.get_path('naturalearth_lowres'))\n",
    "\n",
    "    ax = world[world['iso_a3'] == 'USA'].plot(\n",
    "        color='white', edgecolor='black', figsize=(20.0, 15.0))\n",
    "\n",
    "    sc = plt.scatter('mean_lon', 'mean_lat', s=250, c='slope', alpha=0.5, cmap='RdBu_r', data=df_g, norm=norm, \n",
    "                     edgecolor='black', marker='o')\n",
    "    # sc = plt.scatter('mean_lon', 'mean_lat', s='abs_slope', c='slope', alpha=0.5, cmap='RdBu', data=df_g)\n",
    "    # plt.colorbar(sc, cax=ax)\n",
    "    plt.colorbar(sc, fraction=0.0241, pad=0.015)\n",
    "    plt.xlabel('Longitude')\n",
    "    plt.ylabel('Latitude')\n",
    "    plt.title('Slopes of mean arrival date as a function of time shown as bubbles on a map of the United States')\n",
    "    plt.show()\n",
    "\n",
    "    # world[world['iso_a3'] == 'USA']"
   ]
  },
  {
   "cell_type": "code",
   "execution_count": null,
   "metadata": {},
   "outputs": [],
   "source": [
    "arrival_day_field_name = 'first_of_season_arrival_day'\n",
    "# arrival_day_field_name = t_mad"
   ]
  },
  {
   "cell_type": "code",
   "execution_count": null,
   "metadata": {},
   "outputs": [],
   "source": [
    "function_name(df_first_of, arrival_day_field_name)"
   ]
  },
  {
   "cell_type": "code",
   "execution_count": null,
   "metadata": {},
   "outputs": [],
   "source": []
  },
  {
   "cell_type": "code",
   "execution_count": null,
   "metadata": {
    "scrolled": true
   },
   "outputs": [],
   "source": [
    "r_squared = 0.1\n",
    "# r_squared = 0.2\n",
    "df = df[df['r_squared'] >= r_squared]"
   ]
  },
  {
   "cell_type": "code",
   "execution_count": null,
   "metadata": {},
   "outputs": [],
   "source": [
    "len(df)\n",
    "# 762"
   ]
  },
  {
   "cell_type": "code",
   "execution_count": null,
   "metadata": {
    "scrolled": true
   },
   "outputs": [],
   "source": [
    "len(df['grid_cell'].unique())\n",
    "# 85"
   ]
  },
  {
   "cell_type": "code",
   "execution_count": null,
   "metadata": {},
   "outputs": [],
   "source": [
    "df_cnt = df[['grid_cell', 'year']].groupby(['grid_cell']).count()\n",
    "df_cnt.reset_index(inplace=True)\n",
    "df_cnt.rename(columns={'year': 'nb_years'}, inplace=True)"
   ]
  },
  {
   "cell_type": "code",
   "execution_count": null,
   "metadata": {},
   "outputs": [],
   "source": [
    "len(df_cnt)\n",
    "# 85"
   ]
  },
  {
   "cell_type": "code",
   "execution_count": null,
   "metadata": {},
   "outputs": [],
   "source": [
    "df_cnt.head(2)"
   ]
  },
  {
   "cell_type": "code",
   "execution_count": null,
   "metadata": {
    "scrolled": true
   },
   "outputs": [],
   "source": [
    "list_grid_cells = list(df_cnt[df_cnt['nb_years'] >= 5]['grid_cell'])\n",
    "print(len(list_grid_cells))\n",
    "# 78"
   ]
  },
  {
   "cell_type": "code",
   "execution_count": null,
   "metadata": {},
   "outputs": [],
   "source": [
    "df = df[df['grid_cell'].isin(list_grid_cells)]"
   ]
  },
  {
   "cell_type": "code",
   "execution_count": null,
   "metadata": {},
   "outputs": [],
   "source": [
    "len(df)\n",
    "# 744"
   ]
  },
  {
   "cell_type": "code",
   "execution_count": null,
   "metadata": {},
   "outputs": [],
   "source": [
    "list_means_t_mad = []\n",
    "list_std_t_mad = []\n",
    "list_t_mad = []\n",
    "list_t_mad_excluded = []\n",
    "list_slopes = []\n",
    "list_intercepts = []\n",
    "list_r_values = []\n",
    "list_p_values = []\n",
    "list_std_err = []\n",
    "for i in range(len(list_grid_cells)):\n",
    "    df_subset = df[df['grid_cell'] == list_grid_cells[i]]\n",
    "    linregress = scipy.stats.linregress(df_subset['year'], df_subset['t_mad'])\n",
    "    mean_t_mad = df_subset['t_mad'].mean()\n",
    "    list_means_t_mad.append(mean_t_mad)\n",
    "    std_t_mad = df_subset['t_mad'].std()\n",
    "    list_std_t_mad.append(std_t_mad)\n",
    "    df_subset['t_mad_excluded'] = np.where((df_subset['t_mad'] > mean_t_mad + 2*std_t_mad) | \n",
    "                                                 (df_subset['t_mad'] < mean_t_mad - 2*std_t_mad), 1, 0)\n",
    "    list_t_mad.append(df_subset[['t_mad', 't_mad_excluded']])\n",
    "    if 1 in list(df_subset['t_mad_excluded']):\n",
    "        list_t_mad_excluded.append(1)\n",
    "    else:\n",
    "        list_t_mad_excluded.append(0)\n",
    "    list_slopes.append(linregress[0])\n",
    "    list_intercepts.append(linregress[1])\n",
    "    list_r_values.append(linregress[2])\n",
    "    list_p_values.append(linregress[3])\n",
    "    list_std_err.append(linregress[4])\n",
    "#     plt.figure(figsize=(12.0, 4.0))\n",
    "#     plt.scatter(df_subset['year'], df_subset['t_mad'])\n",
    "#     plt.show()"
   ]
  },
  {
   "cell_type": "code",
   "execution_count": null,
   "metadata": {},
   "outputs": [],
   "source": [
    "df_r = pd.DataFrame(data={'grid_cell': list_grid_cells, 'slope': list_slopes, 'intercept': list_intercepts, \n",
    "                          'r_value': list_r_values, 'p_value': list_p_values, 'std_err': list_std_err, \n",
    "                          'mean_t_mad': list_means_t_mad, 'std_t_mad': list_std_t_mad, \n",
    "                          't_mad_excluded': list_t_mad_excluded})"
   ]
  },
  {
   "cell_type": "code",
   "execution_count": null,
   "metadata": {},
   "outputs": [],
   "source": [
    "df_r = df_r.merge(df_grid_cells, on='grid_cell')"
   ]
  },
  {
   "cell_type": "code",
   "execution_count": null,
   "metadata": {},
   "outputs": [],
   "source": [
    "len(df_r)"
   ]
  },
  {
   "cell_type": "code",
   "execution_count": null,
   "metadata": {},
   "outputs": [],
   "source": [
    "df_r = df_r[df_r['t_mad_excluded'] == 0]"
   ]
  },
  {
   "cell_type": "code",
   "execution_count": null,
   "metadata": {},
   "outputs": [],
   "source": [
    "len(df_r)"
   ]
  },
  {
   "cell_type": "code",
   "execution_count": null,
   "metadata": {},
   "outputs": [],
   "source": [
    "df['lat_band'] = np.nan"
   ]
  },
  {
   "cell_type": "code",
   "execution_count": null,
   "metadata": {},
   "outputs": [],
   "source": [
    "list_lat_band_boundaries = range(20, 55, 5)\n",
    "\n",
    "for i in range(len(list_lat_band_boundaries)):\n",
    "    if i == len(list_lat_band_boundaries) - 1:\n",
    "        bounding_lat = list_lat_band_boundaries[i] + 5\n",
    "    else:\n",
    "        bounding_lat = list_lat_band_boundaries[i+1]\n",
    "    df_r.loc[(df_r['min_lat'] > list_lat_band_boundaries[i]) & \n",
    "         (df_r['min_lat'] <= bounding_lat), 'lat_band'] = bounding_lat"
   ]
  },
  {
   "cell_type": "code",
   "execution_count": null,
   "metadata": {},
   "outputs": [],
   "source": [
    "df_r['lat_band'] = df_r['lat_band'].astype(int)"
   ]
  },
  {
   "cell_type": "code",
   "execution_count": null,
   "metadata": {},
   "outputs": [],
   "source": [
    "df_r.head(2)"
   ]
  },
  {
   "cell_type": "code",
   "execution_count": null,
   "metadata": {},
   "outputs": [],
   "source": [
    "list_lat_bands = list(df_r['lat_band'].unique())\n",
    "\n",
    "for i in range(len(list_lat_bands)):\n",
    "    print(list_lat_bands[i])\n",
    "    df_subset = df_r[df_r['lat_band'] == list_lat_bands[i]]\n",
    "    print(df_subset['slope'].mean())\n",
    "    print(df_subset['slope'].median())\n",
    "#     print(df_subset['slope'].std())"
   ]
  },
  {
   "cell_type": "code",
   "execution_count": null,
   "metadata": {},
   "outputs": [],
   "source": [
    "print(scipy.stats.linregress(df_r['min_lat'], df_r['slope']))\n",
    "print(scipy.stats.linregress(df_r['max_lat'], df_r['slope']))\n",
    "print(scipy.stats.linregress(df_r['min_lon'], df_r['slope']))\n",
    "print(scipy.stats.linregress(df_r['max_lon'], df_r['slope']))"
   ]
  },
  {
   "cell_type": "code",
   "execution_count": null,
   "metadata": {},
   "outputs": [],
   "source": [
    "plt.scatter(df_r['min_lat'], df_r['slope'])\n",
    "plt.show()"
   ]
  },
  {
   "cell_type": "code",
   "execution_count": null,
   "metadata": {},
   "outputs": [],
   "source": [
    "plt.scatter(df_r['max_lat'], df_r['slope'])\n",
    "plt.show()"
   ]
  },
  {
   "cell_type": "code",
   "execution_count": null,
   "metadata": {},
   "outputs": [],
   "source": [
    "plt.scatter(df_r['min_lon'], df_r['slope'])\n",
    "plt.show()"
   ]
  },
  {
   "cell_type": "code",
   "execution_count": null,
   "metadata": {},
   "outputs": [],
   "source": [
    "plt.scatter(df_r['max_lon'], df_r['slope'])\n",
    "plt.show()"
   ]
  },
  {
   "cell_type": "code",
   "execution_count": null,
   "metadata": {},
   "outputs": [],
   "source": [
    "df.head(2)"
   ]
  },
  {
   "cell_type": "code",
   "execution_count": null,
   "metadata": {},
   "outputs": [],
   "source": [
    "df_r.head(2)"
   ]
  },
  {
   "cell_type": "code",
   "execution_count": null,
   "metadata": {},
   "outputs": [],
   "source": [
    "len(df_r['grid_cell'].unique())"
   ]
  },
  {
   "cell_type": "code",
   "execution_count": null,
   "metadata": {},
   "outputs": [],
   "source": [
    "df_t_mad_year = df[['grid_cell', 'year', 't_mad']].merge(df_r, on=['grid_cell'])"
   ]
  },
  {
   "cell_type": "code",
   "execution_count": null,
   "metadata": {},
   "outputs": [],
   "source": [
    "df_t_mad_year.head(2)"
   ]
  },
  {
   "cell_type": "code",
   "execution_count": null,
   "metadata": {},
   "outputs": [],
   "source": [
    "plt.scatter(df_t_mad_year['year'], df_t_mad_year['t_mad'])\n",
    "plt.xlabel('Year')\n",
    "plt.show()"
   ]
  },
  {
   "cell_type": "code",
   "execution_count": null,
   "metadata": {},
   "outputs": [],
   "source": [
    "print(scipy.stats.linregress(df_t_mad_year['year'], df_t_mad_year['t_mad']))"
   ]
  },
  {
   "cell_type": "code",
   "execution_count": null,
   "metadata": {},
   "outputs": [],
   "source": [
    "df_r.head(2)"
   ]
  },
  {
   "cell_type": "code",
   "execution_count": null,
   "metadata": {},
   "outputs": [],
   "source": [
    "df_r['mean_lat'] = (df_r['min_lat'] + df_r['max_lat'])/2\n",
    "df_r['mean_lon'] = (df_r['min_lon'] + df_r['max_lon'])/2"
   ]
  },
  {
   "cell_type": "code",
   "execution_count": null,
   "metadata": {},
   "outputs": [],
   "source": [
    "df_r['abs_slope'] = df_r['slope'].abs()*100"
   ]
  },
  {
   "cell_type": "code",
   "execution_count": null,
   "metadata": {},
   "outputs": [],
   "source": [
    "df_r.head(2)"
   ]
  },
  {
   "cell_type": "code",
   "execution_count": null,
   "metadata": {},
   "outputs": [],
   "source": [
    "df_g = geopandas.GeoDataFrame(df_r, geometry=geopandas.points_from_xy(df_r['mean_lon'], df_r['mean_lat']))"
   ]
  },
  {
   "cell_type": "code",
   "execution_count": null,
   "metadata": {
    "scrolled": true
   },
   "outputs": [],
   "source": [
    "df_g.head(2)"
   ]
  },
  {
   "cell_type": "code",
   "execution_count": null,
   "metadata": {},
   "outputs": [],
   "source": [
    "print(df_g['slope'].min())\n",
    "print(np.floor(df_g['slope'].min()))\n",
    "print(df_g['slope'].max())\n",
    "print(np.ceil(df_g['slope'].max()))"
   ]
  },
  {
   "cell_type": "code",
   "execution_count": null,
   "metadata": {},
   "outputs": [],
   "source": [
    "# from mpl_toolkits.axes_grid1 import make_axes_locatable"
   ]
  },
  {
   "cell_type": "code",
   "execution_count": null,
   "metadata": {},
   "outputs": [],
   "source": [
    "norm = matplotlib.colors.Normalize(vmin=-4, vmax=4)"
   ]
  },
  {
   "cell_type": "code",
   "execution_count": null,
   "metadata": {},
   "outputs": [],
   "source": [
    "matplotlib.rcParams['font.size'] = 15"
   ]
  },
  {
   "cell_type": "code",
   "execution_count": null,
   "metadata": {},
   "outputs": [],
   "source": [
    "world = geopandas.read_file(geopandas.datasets.get_path('naturalearth_lowres'))\n",
    "\n",
    "ax = world[world['iso_a3'] == 'USA'].plot(\n",
    "    color='white', edgecolor='black', figsize=(20.0, 15.0))\n",
    "\n",
    "sc = plt.scatter('mean_lon', 'mean_lat', s=250, c='slope', alpha=0.5, cmap='RdBu_r', data=df_g, norm=norm, \n",
    "                 edgecolor='black', marker='o')\n",
    "# sc = plt.scatter('mean_lon', 'mean_lat', s='abs_slope', c='slope', alpha=0.5, cmap='RdBu', data=df_g)\n",
    "# plt.colorbar(sc, cax=ax)\n",
    "plt.colorbar(sc, fraction=0.0241, pad=0.015)\n",
    "plt.xlabel('Longitude')\n",
    "plt.ylabel('Latitude')\n",
    "plt.title('Slopes of mean arrival date as a function of time shown as bubbles on a map of the United States')\n",
    "plt.show()"
   ]
  },
  {
   "cell_type": "code",
   "execution_count": null,
   "metadata": {},
   "outputs": [],
   "source": [
    "# world[world['iso_a3'] == 'USA']"
   ]
  }
 ],
 "metadata": {
  "kernelspec": {
   "display_name": "Python 3",
   "language": "python",
   "name": "python3"
  },
  "language_info": {
   "codemirror_mode": {
    "name": "ipython",
    "version": 3
   },
   "file_extension": ".py",
   "mimetype": "text/x-python",
   "name": "python",
   "nbconvert_exporter": "python",
   "pygments_lexer": "ipython3",
   "version": "3.7.4"
  }
 },
 "nbformat": 4,
 "nbformat_minor": 2
}
