{
 "cells": [
  {
   "cell_type": "markdown",
   "metadata": {},
   "source": [
    "# Description\n",
    "Calculate the proportion of checklists with at least Barn Swallow observation for each grid cell and year."
   ]
  },
  {
   "cell_type": "code",
   "execution_count": null,
   "metadata": {},
   "outputs": [],
   "source": [
    "import os\n",
    "import pandas as pd\n",
    "import numpy as np\n",
    "import matplotlib.pyplot as plt"
   ]
  },
  {
   "cell_type": "code",
   "execution_count": null,
   "metadata": {},
   "outputs": [],
   "source": [
    "os.getcwd()"
   ]
  },
  {
   "cell_type": "code",
   "execution_count": null,
   "metadata": {},
   "outputs": [],
   "source": [
    "path = '/Users/alvastrand/Documents/OU/Research/data/'\n",
    "os.chdir(path)"
   ]
  },
  {
   "cell_type": "code",
   "execution_count": null,
   "metadata": {},
   "outputs": [],
   "source": [
    "os.getcwd()"
   ]
  },
  {
   "cell_type": "code",
   "execution_count": null,
   "metadata": {},
   "outputs": [],
   "source": [
    "pd.set_option('max_columns', 100)\n",
    "pd.set_option('max_rows', 100)"
   ]
  },
  {
   "cell_type": "code",
   "execution_count": null,
   "metadata": {},
   "outputs": [],
   "source": [
    "start_date = '0101'\n",
    "end_date = '0731'\n",
    "month = 'Apr'\n",
    "year = '2020'\n",
    "countries_states = 'US_states_east_Mississippi'"
   ]
  },
  {
   "cell_type": "code",
   "execution_count": null,
   "metadata": {},
   "outputs": [],
   "source": [
    "subdir = 'output/'\n",
    "filename = \"obligate_aerial_insectivores_ebird_species_codes.csv\"\n",
    "\n",
    "df = pd.read_csv(subdir + filename)\n",
    "\n",
    "print(len(df))"
   ]
  },
  {
   "cell_type": "code",
   "execution_count": null,
   "metadata": {},
   "outputs": [],
   "source": [
    "df.head(2)"
   ]
  },
  {
   "cell_type": "code",
   "execution_count": null,
   "metadata": {},
   "outputs": [],
   "source": [
    "def name_of_function(species, start_date, end_date, month, year, *args):\n",
    "    \n",
    "    subdir = 'eBird/ebd_output/'\n",
    "    \n",
    "    if args != ():\n",
    "        \n",
    "        countries_states = args[0]\n",
    "        \n",
    "        filename = 'ebd_' + countries_states + '_' + species + '_' + start_date + '_' + end_date + \\\n",
    "        '_complete_zerofilled_grid_cells_rel' + month + '-' + year + '.csv'\n",
    "        print(filename)\n",
    "    \n",
    "    df = pd.read_csv(subdir + filename)\n",
    "\n",
    "    print(df['species_observed'].value_counts())\n",
    "    # False: 6,657,547 checklists that do not have a Barn Swallow observation.\n",
    "    # True: 802,259 checklists that have at least one Barn Swallow observation.\n",
    "\n",
    "    df['species_observed_binary_values'] = np.where(df['species_observed'] == True, 1.0, 0.0)\n",
    "\n",
    "    print(df.shape)\n",
    "    # (7,459,806, 36)\n",
    "\n",
    "    # Calculate the total number of checklists for each grid cell and date\n",
    "    df_cnt = df[['checklist_id', 'grid_cell', 'observation_date']].groupby(['grid_cell', 'observation_date']).count()\n",
    "    df_cnt.rename(columns={'checklist_id': 'nb_checklists'}, inplace=True)\n",
    "    print(df_cnt.shape)\n",
    "    # (272,264, 1)\n",
    "\n",
    "    # Calculate the number of checklists with at least one Barn Swallow observation for each grid cell and date\n",
    "    df_sum = df[['species_observed_binary_values', 'grid_cell', 'observation_date']].groupby([\n",
    "        'grid_cell', 'observation_date']).sum()\n",
    "    df_sum.rename(columns={'species_observed_binary_values': 'nb_checklists_species'}, inplace=True)\n",
    "    print(df_sum.shape)\n",
    "    # (272,264, 1)\n",
    "\n",
    "    df_grp = df_cnt.merge(df_sum, left_index=True, right_index=True)\n",
    "    print(df_grp.shape)\n",
    "    # (272,264, 2)\n",
    "\n",
    "    # Calculate the proportion of checklists with at least one Barn Swallow observation for each grid cell and date\n",
    "    df_grp['prop'] = df_grp['nb_checklists_species']/df_grp['nb_checklists']\n",
    "    df_grp.reset_index(inplace=True)\n",
    "    print(df_grp.shape)\n",
    "    # (272,264, 5)\n",
    "    # Number of combinations of grid cells and dates that have a proportion equal to 0\n",
    "    print(len(df_grp[df_grp['prop'] == 0]))\n",
    "    # 195,710\n",
    "    # Number of combinations of grid cells and dates that have a proportion greater than 0\n",
    "    print(len(df_grp[df_grp['prop'] > 0]))\n",
    "    # 76,554\n",
    "    df_grp['observation_date_dt'] = pd.to_datetime(df_grp['observation_date'])\n",
    "    df_grp['year'] = df_grp['observation_date'].astype(str).str[:4]\n",
    "    print(df_grp.shape)\n",
    "    # (272,264, 7)\n",
    "\n",
    "    df_prop_greater_than = df_grp[df_grp['prop'] > 0]\n",
    "    # Number of grid cells that have at least one proportion that is greater than 0\n",
    "    print(len(df_prop_greater_than['grid_cell'].unique()))\n",
    "    # 94\n",
    "    print(df_prop_greater_than.shape)\n",
    "    # (76,554, 7)\n",
    "    # 76,554 combinations of grid cells and dates have a proportion that is greater than 0.\n",
    "\n",
    "    # Calculate the number of proportions greater than 0 for each grid cell and date\n",
    "    df_prop_greater_than_cnt = df_prop_greater_than[['grid_cell', 'year', 'prop']].groupby([\n",
    "        'grid_cell', 'year']).count()\n",
    "    df_prop_greater_than_cnt.reset_index(inplace=True)\n",
    "    df_prop_greater_than_cnt.rename(columns={'prop': 'nb_prop'}, inplace=True)\n",
    "    print(df_prop_greater_than_cnt.shape)\n",
    "    # (918, 3)\n",
    "    # 918 combinations of grid cells and years have at least one proportion that is greater than 0.\n",
    "\n",
    "    df_nb_prop = df_prop_greater_than_cnt['nb_prop'].value_counts().to_frame().reset_index()\n",
    "    df_nb_prop.rename(columns={'index': 'nb_prop', 'nb_prop': 'count'}, inplace=True)\n",
    "\n",
    "    # df_nb_prop.head(2)\n",
    "    # *-03-20 - *-06-29: 33 combinations of grid cells and years have 89 proportions greater than 0 (largest number \n",
    "    # of combinations)\n",
    "\n",
    "    # Smallest number of proportions greater than 0 encountered for a given grid cell and year\n",
    "    print(min(df_nb_prop['nb_prop']))\n",
    "    # 1\n",
    "    # Largest number of proportions greater than 0 encountered for a given grid cell and year\n",
    "    print(max(df_nb_prop['nb_prop']))\n",
    "    # 151\n",
    "    \n",
    "    if args != ():\n",
    "        \n",
    "        countries_states = args[0]\n",
    "        \n",
    "        filename = 'ebd_' + countries_states + '_' + species + '_' + start_date + '_' + end_date + \\\n",
    "        '_complete_zerofilled_grid_cells_proportions_rel' + month + '-' + year + '.csv'\n",
    "        print(filename)\n",
    "\n",
    "    df_grp.to_csv(subdir + filename, index=False)\n",
    "    \n",
    "    return df, df_cnt, df_sum, df_prop_greater_than, df_prop_greater_than_cnt, df_nb_prop, df_grp"
   ]
  },
  {
   "cell_type": "code",
   "execution_count": null,
   "metadata": {},
   "outputs": [],
   "source": [
    "# species = 'barswa'\n",
    "\n",
    "# df_grid_cells, df_cnt, df_sum, df_prop_greater_than, df_prop_greater_than_cnt, df_nb_prop, \\\n",
    "# df_grp = name_of_function(species, start_date, end_date, month, year, countries_states)"
   ]
  },
  {
   "cell_type": "code",
   "execution_count": null,
   "metadata": {},
   "outputs": [],
   "source": [
    "# df_grid_cells.head(2)"
   ]
  },
  {
   "cell_type": "code",
   "execution_count": null,
   "metadata": {},
   "outputs": [],
   "source": [
    "# df_cnt.head(2)"
   ]
  },
  {
   "cell_type": "code",
   "execution_count": null,
   "metadata": {},
   "outputs": [],
   "source": [
    "# df_sum.head(2)"
   ]
  },
  {
   "cell_type": "code",
   "execution_count": null,
   "metadata": {},
   "outputs": [],
   "source": [
    "# df_prop_greater_than.head(2)"
   ]
  },
  {
   "cell_type": "code",
   "execution_count": null,
   "metadata": {},
   "outputs": [],
   "source": [
    "# df_prop_greater_than_cnt.head(2)\n",
    "\n",
    "# 1964? 1976?"
   ]
  },
  {
   "cell_type": "code",
   "execution_count": null,
   "metadata": {},
   "outputs": [],
   "source": [
    "# df_nb_prop.head(2)"
   ]
  },
  {
   "cell_type": "code",
   "execution_count": null,
   "metadata": {},
   "outputs": [],
   "source": [
    "# df_grp.head(2)"
   ]
  },
  {
   "cell_type": "code",
   "execution_count": null,
   "metadata": {},
   "outputs": [],
   "source": [
    "species_cnt = 0\n",
    "\n",
    "for i in range(len(df)):\n",
    "    \n",
    "    print(i)\n",
    "  \n",
    "    species = df['species_code'].iloc[i]\n",
    "    print(species)\n",
    "    \n",
    "    if ((species == 'souwpw1') | (species == 'bucnig') | (species == 'compoo') | (species == 'whtswi') | \n",
    "        (species == \"blkswi\") | (species == 'barswa')):\n",
    "        continue\n",
    "    \n",
    "    df_grid_cells, df_cnt, df_sum, df_prop_greater_than, df_prop_greater_than_cnt, df_nb_prop, \\\n",
    "    df_grp = name_of_function(species, start_date, end_date, month, year, countries_states)\n",
    "    \n",
    "    species_cnt += 1"
   ]
  },
  {
   "cell_type": "code",
   "execution_count": null,
   "metadata": {},
   "outputs": [],
   "source": [
    "print(species_cnt)"
   ]
  }
 ],
 "metadata": {
  "kernelspec": {
   "display_name": "Python 3",
   "language": "python",
   "name": "python3"
  },
  "language_info": {
   "codemirror_mode": {
    "name": "ipython",
    "version": 3
   },
   "file_extension": ".py",
   "mimetype": "text/x-python",
   "name": "python",
   "nbconvert_exporter": "python",
   "pygments_lexer": "ipython3",
   "version": "3.7.7"
  }
 },
 "nbformat": 4,
 "nbformat_minor": 2
}
