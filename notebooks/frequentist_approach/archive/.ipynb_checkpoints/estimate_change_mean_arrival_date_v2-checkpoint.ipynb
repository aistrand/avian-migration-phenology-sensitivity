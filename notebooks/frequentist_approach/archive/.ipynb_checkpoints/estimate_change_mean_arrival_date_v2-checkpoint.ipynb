{
 "cells": [
  {
   "cell_type": "code",
   "execution_count": 1,
   "metadata": {},
   "outputs": [],
   "source": [
    "import os\n",
    "import pandas as pd\n",
    "import numpy as np\n",
    "import matplotlib.pyplot as plt\n",
    "import scipy.stats\n",
    "import geopandas"
   ]
  },
  {
   "cell_type": "code",
   "execution_count": 2,
   "metadata": {},
   "outputs": [],
   "source": [
    "pd.set_option('max_columns', 100)\n",
    "pd.set_option('max_rows', 100)"
   ]
  },
  {
   "cell_type": "code",
   "execution_count": 3,
   "metadata": {},
   "outputs": [
    {
     "data": {
      "text/plain": [
       "'/Users/alvastrand/Documents/OU/Research/notebooks/calculate_arrival_date'"
      ]
     },
     "execution_count": 3,
     "metadata": {},
     "output_type": "execute_result"
    }
   ],
   "source": [
    "os.getcwd()"
   ]
  },
  {
   "cell_type": "code",
   "execution_count": 4,
   "metadata": {},
   "outputs": [],
   "source": [
    "path = '/Users/alvastrand/'\n",
    "os.chdir(path)"
   ]
  },
  {
   "cell_type": "code",
   "execution_count": 5,
   "metadata": {},
   "outputs": [
    {
     "data": {
      "text/plain": [
       "'/Users/alvastrand'"
      ]
     },
     "execution_count": 5,
     "metadata": {},
     "output_type": "execute_result"
    }
   ],
   "source": [
    "os.getcwd()"
   ]
  },
  {
   "cell_type": "code",
   "execution_count": 6,
   "metadata": {},
   "outputs": [],
   "source": [
    "filename = 'ebd_US_barswa_201001_202001_mad_relJan-2020_v2.csv'\n",
    "df = pd.read_csv(filename)"
   ]
  },
  {
   "cell_type": "code",
   "execution_count": 7,
   "metadata": {},
   "outputs": [],
   "source": [
    "filename = 'ebd_US_barswa_201001_202001_relJan-2020_grid_cell_ids_v2.csv'\n",
    "df_grid_cells = pd.read_csv(filename)"
   ]
  },
  {
   "cell_type": "code",
   "execution_count": 8,
   "metadata": {},
   "outputs": [
    {
     "data": {
      "text/plain": [
       "809"
      ]
     },
     "execution_count": 8,
     "metadata": {},
     "output_type": "execute_result"
    }
   ],
   "source": [
    "len(df)\n",
    "# 809"
   ]
  },
  {
   "cell_type": "code",
   "execution_count": 9,
   "metadata": {},
   "outputs": [
    {
     "data": {
      "text/plain": [
       "182"
      ]
     },
     "execution_count": 9,
     "metadata": {},
     "output_type": "execute_result"
    }
   ],
   "source": [
    "len(df_grid_cells)"
   ]
  },
  {
   "cell_type": "code",
   "execution_count": 10,
   "metadata": {},
   "outputs": [
    {
     "data": {
      "text/html": [
       "<div>\n",
       "<style scoped>\n",
       "    .dataframe tbody tr th:only-of-type {\n",
       "        vertical-align: middle;\n",
       "    }\n",
       "\n",
       "    .dataframe tbody tr th {\n",
       "        vertical-align: top;\n",
       "    }\n",
       "\n",
       "    .dataframe thead th {\n",
       "        text-align: right;\n",
       "    }\n",
       "</style>\n",
       "<table border=\"1\" class=\"dataframe\">\n",
       "  <thead>\n",
       "    <tr style=\"text-align: right;\">\n",
       "      <th></th>\n",
       "      <th>grid_cell</th>\n",
       "      <th>year</th>\n",
       "      <th>nb_prop</th>\n",
       "      <th>r_squared</th>\n",
       "      <th>t_mad</th>\n",
       "      <th>mad</th>\n",
       "      <th>ci_nb_days</th>\n",
       "    </tr>\n",
       "  </thead>\n",
       "  <tbody>\n",
       "    <tr>\n",
       "      <td>0</td>\n",
       "      <td>5</td>\n",
       "      <td>2010</td>\n",
       "      <td>19</td>\n",
       "      <td>0.118339</td>\n",
       "      <td>77.548667</td>\n",
       "      <td>2010-03-19</td>\n",
       "      <td>58.094665</td>\n",
       "    </tr>\n",
       "    <tr>\n",
       "      <td>1</td>\n",
       "      <td>5</td>\n",
       "      <td>2011</td>\n",
       "      <td>21</td>\n",
       "      <td>0.099887</td>\n",
       "      <td>43.949711</td>\n",
       "      <td>2011-02-13</td>\n",
       "      <td>36.750439</td>\n",
       "    </tr>\n",
       "  </tbody>\n",
       "</table>\n",
       "</div>"
      ],
      "text/plain": [
       "   grid_cell  year  nb_prop  r_squared      t_mad         mad  ci_nb_days\n",
       "0          5  2010       19   0.118339  77.548667  2010-03-19   58.094665\n",
       "1          5  2011       21   0.099887  43.949711  2011-02-13   36.750439"
      ]
     },
     "execution_count": 10,
     "metadata": {},
     "output_type": "execute_result"
    }
   ],
   "source": [
    "df.head(2)"
   ]
  },
  {
   "cell_type": "code",
   "execution_count": 11,
   "metadata": {},
   "outputs": [
    {
     "data": {
      "text/html": [
       "<div>\n",
       "<style scoped>\n",
       "    .dataframe tbody tr th:only-of-type {\n",
       "        vertical-align: middle;\n",
       "    }\n",
       "\n",
       "    .dataframe tbody tr th {\n",
       "        vertical-align: top;\n",
       "    }\n",
       "\n",
       "    .dataframe thead th {\n",
       "        text-align: right;\n",
       "    }\n",
       "</style>\n",
       "<table border=\"1\" class=\"dataframe\">\n",
       "  <thead>\n",
       "    <tr style=\"text-align: right;\">\n",
       "      <th></th>\n",
       "      <th>grid_cell</th>\n",
       "      <th>min_lat</th>\n",
       "      <th>max_lat</th>\n",
       "      <th>min_lon</th>\n",
       "      <th>max_lon</th>\n",
       "    </tr>\n",
       "  </thead>\n",
       "  <tbody>\n",
       "    <tr>\n",
       "      <td>0</td>\n",
       "      <td>0</td>\n",
       "      <td>23</td>\n",
       "      <td>25</td>\n",
       "      <td>-93</td>\n",
       "      <td>-91</td>\n",
       "    </tr>\n",
       "    <tr>\n",
       "      <td>1</td>\n",
       "      <td>1</td>\n",
       "      <td>23</td>\n",
       "      <td>25</td>\n",
       "      <td>-91</td>\n",
       "      <td>-89</td>\n",
       "    </tr>\n",
       "    <tr>\n",
       "      <td>2</td>\n",
       "      <td>2</td>\n",
       "      <td>23</td>\n",
       "      <td>25</td>\n",
       "      <td>-89</td>\n",
       "      <td>-87</td>\n",
       "    </tr>\n",
       "    <tr>\n",
       "      <td>3</td>\n",
       "      <td>3</td>\n",
       "      <td>23</td>\n",
       "      <td>25</td>\n",
       "      <td>-87</td>\n",
       "      <td>-85</td>\n",
       "    </tr>\n",
       "    <tr>\n",
       "      <td>4</td>\n",
       "      <td>4</td>\n",
       "      <td>23</td>\n",
       "      <td>25</td>\n",
       "      <td>-85</td>\n",
       "      <td>-83</td>\n",
       "    </tr>\n",
       "    <tr>\n",
       "      <td>5</td>\n",
       "      <td>5</td>\n",
       "      <td>23</td>\n",
       "      <td>25</td>\n",
       "      <td>-83</td>\n",
       "      <td>-81</td>\n",
       "    </tr>\n",
       "  </tbody>\n",
       "</table>\n",
       "</div>"
      ],
      "text/plain": [
       "   grid_cell  min_lat  max_lat  min_lon  max_lon\n",
       "0          0       23       25      -93      -91\n",
       "1          1       23       25      -91      -89\n",
       "2          2       23       25      -89      -87\n",
       "3          3       23       25      -87      -85\n",
       "4          4       23       25      -85      -83\n",
       "5          5       23       25      -83      -81"
      ]
     },
     "execution_count": 11,
     "metadata": {},
     "output_type": "execute_result"
    }
   ],
   "source": [
    "df_grid_cells.head(6)"
   ]
  },
  {
   "cell_type": "code",
   "execution_count": 12,
   "metadata": {},
   "outputs": [],
   "source": [
    "df['mad'] = pd.to_datetime(df['mad'])"
   ]
  },
  {
   "cell_type": "code",
   "execution_count": 13,
   "metadata": {},
   "outputs": [
    {
     "data": {
      "text/plain": [
       "88"
      ]
     },
     "execution_count": 13,
     "metadata": {},
     "output_type": "execute_result"
    }
   ],
   "source": [
    "len(df['grid_cell'].unique())\n",
    "# 88"
   ]
  },
  {
   "cell_type": "code",
   "execution_count": 14,
   "metadata": {
    "scrolled": true
   },
   "outputs": [],
   "source": [
    "r_squared = 0.1\n",
    "# r_squared = 0.2\n",
    "df = df[df['r_squared'] >= r_squared]"
   ]
  },
  {
   "cell_type": "code",
   "execution_count": 15,
   "metadata": {},
   "outputs": [
    {
     "data": {
      "text/plain": [
       "762"
      ]
     },
     "execution_count": 15,
     "metadata": {},
     "output_type": "execute_result"
    }
   ],
   "source": [
    "len(df)\n",
    "# 762"
   ]
  },
  {
   "cell_type": "code",
   "execution_count": 16,
   "metadata": {
    "scrolled": true
   },
   "outputs": [
    {
     "data": {
      "text/plain": [
       "85"
      ]
     },
     "execution_count": 16,
     "metadata": {},
     "output_type": "execute_result"
    }
   ],
   "source": [
    "len(df['grid_cell'].unique())\n",
    "# 85"
   ]
  },
  {
   "cell_type": "code",
   "execution_count": 17,
   "metadata": {},
   "outputs": [],
   "source": [
    "df_cnt = df[['grid_cell', 'year']].groupby(['grid_cell']).count()"
   ]
  },
  {
   "cell_type": "code",
   "execution_count": 18,
   "metadata": {},
   "outputs": [],
   "source": [
    "df_cnt.reset_index(inplace=True)"
   ]
  },
  {
   "cell_type": "code",
   "execution_count": 19,
   "metadata": {},
   "outputs": [],
   "source": [
    "df_cnt.rename(columns={'year': 'nb_years'}, inplace=True)"
   ]
  },
  {
   "cell_type": "code",
   "execution_count": 20,
   "metadata": {},
   "outputs": [
    {
     "data": {
      "text/plain": [
       "85"
      ]
     },
     "execution_count": 20,
     "metadata": {},
     "output_type": "execute_result"
    }
   ],
   "source": [
    "len(df_cnt)\n",
    "# 85"
   ]
  },
  {
   "cell_type": "code",
   "execution_count": 21,
   "metadata": {},
   "outputs": [
    {
     "data": {
      "text/html": [
       "<div>\n",
       "<style scoped>\n",
       "    .dataframe tbody tr th:only-of-type {\n",
       "        vertical-align: middle;\n",
       "    }\n",
       "\n",
       "    .dataframe tbody tr th {\n",
       "        vertical-align: top;\n",
       "    }\n",
       "\n",
       "    .dataframe thead th {\n",
       "        text-align: right;\n",
       "    }\n",
       "</style>\n",
       "<table border=\"1\" class=\"dataframe\">\n",
       "  <thead>\n",
       "    <tr style=\"text-align: right;\">\n",
       "      <th></th>\n",
       "      <th>grid_cell</th>\n",
       "      <th>nb_years</th>\n",
       "    </tr>\n",
       "  </thead>\n",
       "  <tbody>\n",
       "    <tr>\n",
       "      <td>0</td>\n",
       "      <td>5</td>\n",
       "      <td>8</td>\n",
       "    </tr>\n",
       "    <tr>\n",
       "      <td>1</td>\n",
       "      <td>19</td>\n",
       "      <td>4</td>\n",
       "    </tr>\n",
       "  </tbody>\n",
       "</table>\n",
       "</div>"
      ],
      "text/plain": [
       "   grid_cell  nb_years\n",
       "0          5         8\n",
       "1         19         4"
      ]
     },
     "execution_count": 21,
     "metadata": {},
     "output_type": "execute_result"
    }
   ],
   "source": [
    "df_cnt.head(2)"
   ]
  },
  {
   "cell_type": "code",
   "execution_count": 22,
   "metadata": {
    "scrolled": true
   },
   "outputs": [
    {
     "name": "stdout",
     "output_type": "stream",
     "text": [
      "78\n"
     ]
    }
   ],
   "source": [
    "list_grid_cells = list(df_cnt[df_cnt['nb_years'] >= 5]['grid_cell'])\n",
    "print(len(list_grid_cells))\n",
    "# 78"
   ]
  },
  {
   "cell_type": "code",
   "execution_count": 23,
   "metadata": {},
   "outputs": [],
   "source": [
    "df = df[df['grid_cell'].isin(list_grid_cells)]"
   ]
  },
  {
   "cell_type": "code",
   "execution_count": 24,
   "metadata": {},
   "outputs": [
    {
     "data": {
      "text/plain": [
       "744"
      ]
     },
     "execution_count": 24,
     "metadata": {},
     "output_type": "execute_result"
    }
   ],
   "source": [
    "len(df)\n",
    "# 744"
   ]
  },
  {
   "cell_type": "code",
   "execution_count": 25,
   "metadata": {},
   "outputs": [
    {
     "name": "stderr",
     "output_type": "stream",
     "text": [
      "/Users/alvastrand/opt/anaconda3/lib/python3.7/site-packages/ipykernel_launcher.py:18: SettingWithCopyWarning: \n",
      "A value is trying to be set on a copy of a slice from a DataFrame.\n",
      "Try using .loc[row_indexer,col_indexer] = value instead\n",
      "\n",
      "See the caveats in the documentation: http://pandas.pydata.org/pandas-docs/stable/user_guide/indexing.html#returning-a-view-versus-a-copy\n"
     ]
    }
   ],
   "source": [
    "list_means_t_mad = []\n",
    "list_std_t_mad = []\n",
    "list_t_mad = []\n",
    "list_t_mad_excluded = []\n",
    "list_slopes = []\n",
    "list_intercepts = []\n",
    "list_r_values = []\n",
    "list_p_values = []\n",
    "list_std_err = []\n",
    "for i in range(len(list_grid_cells)):\n",
    "    df_subset = df[df['grid_cell'] == list_grid_cells[i]]\n",
    "    linregress = scipy.stats.linregress(df_subset['year'], df_subset['t_mad'])\n",
    "    mean_t_mad = df_subset['t_mad'].mean()\n",
    "    list_means_t_mad.append(mean_t_mad)\n",
    "    std_t_mad = df_subset['t_mad'].std()\n",
    "    list_std_t_mad.append(std_t_mad)\n",
    "    df_subset['t_mad_excluded'] = np.where((df_subset['t_mad'] > mean_t_mad + 2*std_t_mad) | \n",
    "                                                 (df_subset['t_mad'] < mean_t_mad - 2*std_t_mad), 1, 0)\n",
    "    list_t_mad.append(df_subset[['t_mad', 't_mad_excluded']])\n",
    "    if 1 in list(df_subset['t_mad_excluded']):\n",
    "        list_t_mad_excluded.append(1)\n",
    "    else:\n",
    "        list_t_mad_excluded.append(0)\n",
    "    list_slopes.append(linregress[0])\n",
    "    list_intercepts.append(linregress[1])\n",
    "    list_r_values.append(linregress[2])\n",
    "    list_p_values.append(linregress[3])\n",
    "    list_std_err.append(linregress[4])\n",
    "#     plt.figure(figsize=(12.0, 4.0))\n",
    "#     plt.scatter(df_subset['year'], df_subset['t_mad'])\n",
    "#     plt.show()"
   ]
  },
  {
   "cell_type": "code",
   "execution_count": 26,
   "metadata": {},
   "outputs": [],
   "source": [
    "df_r = pd.DataFrame(data={'grid_cell': list_grid_cells, 'slope': list_slopes, 'intercept': list_intercepts, \n",
    "                          'r_value': list_r_values, 'p_value': list_p_values, 'std_err': list_std_err, \n",
    "                          'mean_t_mad': list_means_t_mad, 'std_t_mad': list_std_t_mad, \n",
    "                          't_mad_excluded': list_t_mad_excluded})"
   ]
  },
  {
   "cell_type": "code",
   "execution_count": 27,
   "metadata": {},
   "outputs": [],
   "source": [
    "df_r = df_r.merge(df_grid_cells, on='grid_cell')"
   ]
  },
  {
   "cell_type": "code",
   "execution_count": 28,
   "metadata": {},
   "outputs": [
    {
     "data": {
      "text/plain": [
       "78"
      ]
     },
     "execution_count": 28,
     "metadata": {},
     "output_type": "execute_result"
    }
   ],
   "source": [
    "len(df_r)"
   ]
  },
  {
   "cell_type": "code",
   "execution_count": 29,
   "metadata": {},
   "outputs": [],
   "source": [
    "df_r = df_r[df_r['t_mad_excluded'] == 0]"
   ]
  },
  {
   "cell_type": "code",
   "execution_count": 30,
   "metadata": {},
   "outputs": [
    {
     "data": {
      "text/plain": [
       "44"
      ]
     },
     "execution_count": 30,
     "metadata": {},
     "output_type": "execute_result"
    }
   ],
   "source": [
    "len(df_r)"
   ]
  },
  {
   "cell_type": "code",
   "execution_count": 31,
   "metadata": {},
   "outputs": [],
   "source": [
    "df['lat_band'] = np.nan"
   ]
  },
  {
   "cell_type": "code",
   "execution_count": 32,
   "metadata": {},
   "outputs": [],
   "source": [
    "list_lat_band_boundaries = range(20, 55, 5)\n",
    "\n",
    "for i in range(len(list_lat_band_boundaries)):\n",
    "    if i == len(list_lat_band_boundaries) - 1:\n",
    "        bounding_lat = list_lat_band_boundaries[i] + 5\n",
    "    else:\n",
    "        bounding_lat = list_lat_band_boundaries[i+1]\n",
    "    df_r.loc[(df_r['min_lat'] > list_lat_band_boundaries[i]) & \n",
    "         (df_r['min_lat'] <= bounding_lat), 'lat_band'] = bounding_lat"
   ]
  },
  {
   "cell_type": "code",
   "execution_count": 33,
   "metadata": {},
   "outputs": [],
   "source": [
    "df_r['lat_band'] = df_r['lat_band'].astype(int)"
   ]
  },
  {
   "cell_type": "code",
   "execution_count": 34,
   "metadata": {},
   "outputs": [
    {
     "data": {
      "text/html": [
       "<div>\n",
       "<style scoped>\n",
       "    .dataframe tbody tr th:only-of-type {\n",
       "        vertical-align: middle;\n",
       "    }\n",
       "\n",
       "    .dataframe tbody tr th {\n",
       "        vertical-align: top;\n",
       "    }\n",
       "\n",
       "    .dataframe thead th {\n",
       "        text-align: right;\n",
       "    }\n",
       "</style>\n",
       "<table border=\"1\" class=\"dataframe\">\n",
       "  <thead>\n",
       "    <tr style=\"text-align: right;\">\n",
       "      <th></th>\n",
       "      <th>grid_cell</th>\n",
       "      <th>slope</th>\n",
       "      <th>intercept</th>\n",
       "      <th>r_value</th>\n",
       "      <th>p_value</th>\n",
       "      <th>std_err</th>\n",
       "      <th>mean_t_mad</th>\n",
       "      <th>std_t_mad</th>\n",
       "      <th>t_mad_excluded</th>\n",
       "      <th>min_lat</th>\n",
       "      <th>max_lat</th>\n",
       "      <th>min_lon</th>\n",
       "      <th>max_lon</th>\n",
       "      <th>lat_band</th>\n",
       "    </tr>\n",
       "  </thead>\n",
       "  <tbody>\n",
       "    <tr>\n",
       "      <td>0</td>\n",
       "      <td>5</td>\n",
       "      <td>-0.620499</td>\n",
       "      <td>1319.013549</td>\n",
       "      <td>-0.366001</td>\n",
       "      <td>0.372570</td>\n",
       "      <td>0.644099</td>\n",
       "      <td>68.551940</td>\n",
       "      <td>4.942744</td>\n",
       "      <td>0</td>\n",
       "      <td>23</td>\n",
       "      <td>25</td>\n",
       "      <td>-83</td>\n",
       "      <td>-81</td>\n",
       "      <td>25</td>\n",
       "    </tr>\n",
       "    <tr>\n",
       "      <td>1</td>\n",
       "      <td>33</td>\n",
       "      <td>-0.332203</td>\n",
       "      <td>740.907167</td>\n",
       "      <td>-0.256802</td>\n",
       "      <td>0.504751</td>\n",
       "      <td>0.472544</td>\n",
       "      <td>71.517287</td>\n",
       "      <td>3.542717</td>\n",
       "      <td>0</td>\n",
       "      <td>27</td>\n",
       "      <td>29</td>\n",
       "      <td>-83</td>\n",
       "      <td>-81</td>\n",
       "      <td>30</td>\n",
       "    </tr>\n",
       "  </tbody>\n",
       "</table>\n",
       "</div>"
      ],
      "text/plain": [
       "   grid_cell     slope    intercept   r_value   p_value   std_err  mean_t_mad  \\\n",
       "0          5 -0.620499  1319.013549 -0.366001  0.372570  0.644099   68.551940   \n",
       "1         33 -0.332203   740.907167 -0.256802  0.504751  0.472544   71.517287   \n",
       "\n",
       "   std_t_mad  t_mad_excluded  min_lat  max_lat  min_lon  max_lon  lat_band  \n",
       "0   4.942744               0       23       25      -83      -81        25  \n",
       "1   3.542717               0       27       29      -83      -81        30  "
      ]
     },
     "execution_count": 34,
     "metadata": {},
     "output_type": "execute_result"
    }
   ],
   "source": [
    "df_r.head(2)"
   ]
  },
  {
   "cell_type": "code",
   "execution_count": 35,
   "metadata": {},
   "outputs": [
    {
     "name": "stdout",
     "output_type": "stream",
     "text": [
      "25\n",
      "-0.6204994960090333\n",
      "-0.6204994960090333\n",
      "30\n",
      "0.2266534966649721\n",
      "0.27958000264752764\n",
      "35\n",
      "0.9460217814715832\n",
      "0.9540699636499833\n",
      "40\n",
      "0.20811196172838994\n",
      "0.021690115399791345\n",
      "45\n",
      "0.19284053665737766\n",
      "-0.16137889706413983\n"
     ]
    }
   ],
   "source": [
    "list_lat_bands = list(df_r['lat_band'].unique())\n",
    "\n",
    "for i in range(len(list_lat_bands)):\n",
    "    print(list_lat_bands[i])\n",
    "    df_subset = df_r[df_r['lat_band'] == list_lat_bands[i]]\n",
    "    print(df_subset['slope'].mean())\n",
    "    print(df_subset['slope'].median())\n",
    "#     print(df_subset['slope'].std())"
   ]
  },
  {
   "cell_type": "code",
   "execution_count": 36,
   "metadata": {},
   "outputs": [
    {
     "name": "stdout",
     "output_type": "stream",
     "text": [
      "LinregressResult(slope=-0.00938289979830564, intercept=0.6982973687064418, rvalue=-0.0628611517614234, pvalue=0.6852047810748765, stderr=0.02298636702223487)\n",
      "LinregressResult(slope=-0.00938289979830564, intercept=0.7170631683030531, rvalue=-0.0628611517614234, pvalue=0.6852047810748765, stderr=0.02298636702223487)\n",
      "LinregressResult(slope=-0.026252121423636234, intercept=-1.8216571945808222, rvalue=-0.17438985307476162, pvalue=0.25756226353101913, stderr=0.022872424536868573)\n",
      "LinregressResult(slope=-0.026252121423636234, intercept=-1.7691529517335498, rvalue=-0.17438985307476162, pvalue=0.25756226353101913, stderr=0.022872424536868573)\n"
     ]
    }
   ],
   "source": [
    "print(scipy.stats.linregress(df_r['min_lat'], df_r['slope']))\n",
    "print(scipy.stats.linregress(df_r['max_lat'], df_r['slope']))\n",
    "print(scipy.stats.linregress(df_r['min_lon'], df_r['slope']))\n",
    "print(scipy.stats.linregress(df_r['max_lon'], df_r['slope']))"
   ]
  },
  {
   "cell_type": "code",
   "execution_count": 37,
   "metadata": {},
   "outputs": [
    {
     "data": {
      "image/png": "[encoded data removed]",
      "text/plain": [
       "<Figure size 432x288 with 1 Axes>"
      ]
     },
     "metadata": {
      "needs_background": "light"
     },
     "output_type": "display_data"
    }
   ],
   "source": [
    "plt.scatter(df_r['min_lat'], df_r['slope'])\n",
    "plt.show()"
   ]
  },
  {
   "cell_type": "code",
   "execution_count": 38,
   "metadata": {},
   "outputs": [
    {
     "data": {
      "image/png": "[encoded data removed]",
      "text/plain": [
       "<Figure size 432x288 with 1 Axes>"
      ]
     },
     "metadata": {
      "needs_background": "light"
     },
     "output_type": "display_data"
    }
   ],
   "source": [
    "plt.scatter(df_r['max_lat'], df_r['slope'])\n",
    "plt.show()"
   ]
  },
  {
   "cell_type": "code",
   "execution_count": 39,
   "metadata": {},
   "outputs": [
    {
     "data": {
      "image/png": "[encoded data removed]",
      "text/plain": [
       "<Figure size 432x288 with 1 Axes>"
      ]
     },
     "metadata": {
      "needs_background": "light"
     },
     "output_type": "display_data"
    }
   ],
   "source": [
    "plt.scatter(df_r['min_lon'], df_r['slope'])\n",
    "plt.show()"
   ]
  },
  {
   "cell_type": "code",
   "execution_count": 40,
   "metadata": {},
   "outputs": [
    {
     "data": {
      "image/png": "[encoded data removed]",
      "text/plain": [
       "<Figure size 432x288 with 1 Axes>"
      ]
     },
     "metadata": {
      "needs_background": "light"
     },
     "output_type": "display_data"
    }
   ],
   "source": [
    "plt.scatter(df_r['max_lon'], df_r['slope'])\n",
    "plt.show()"
   ]
  },
  {
   "cell_type": "code",
   "execution_count": 41,
   "metadata": {},
   "outputs": [
    {
     "data": {
      "text/html": [
       "<div>\n",
       "<style scoped>\n",
       "    .dataframe tbody tr th:only-of-type {\n",
       "        vertical-align: middle;\n",
       "    }\n",
       "\n",
       "    .dataframe tbody tr th {\n",
       "        vertical-align: top;\n",
       "    }\n",
       "\n",
       "    .dataframe thead th {\n",
       "        text-align: right;\n",
       "    }\n",
       "</style>\n",
       "<table border=\"1\" class=\"dataframe\">\n",
       "  <thead>\n",
       "    <tr style=\"text-align: right;\">\n",
       "      <th></th>\n",
       "      <th>grid_cell</th>\n",
       "      <th>year</th>\n",
       "      <th>nb_prop</th>\n",
       "      <th>r_squared</th>\n",
       "      <th>t_mad</th>\n",
       "      <th>mad</th>\n",
       "      <th>ci_nb_days</th>\n",
       "      <th>lat_band</th>\n",
       "    </tr>\n",
       "  </thead>\n",
       "  <tbody>\n",
       "    <tr>\n",
       "      <td>0</td>\n",
       "      <td>5</td>\n",
       "      <td>2010</td>\n",
       "      <td>19</td>\n",
       "      <td>0.118339</td>\n",
       "      <td>77.548667</td>\n",
       "      <td>2010-03-19</td>\n",
       "      <td>58.094665</td>\n",
       "      <td>NaN</td>\n",
       "    </tr>\n",
       "    <tr>\n",
       "      <td>3</td>\n",
       "      <td>5</td>\n",
       "      <td>2013</td>\n",
       "      <td>52</td>\n",
       "      <td>0.102184</td>\n",
       "      <td>61.653699</td>\n",
       "      <td>2013-03-03</td>\n",
       "      <td>51.452375</td>\n",
       "      <td>NaN</td>\n",
       "    </tr>\n",
       "  </tbody>\n",
       "</table>\n",
       "</div>"
      ],
      "text/plain": [
       "   grid_cell  year  nb_prop  r_squared      t_mad        mad  ci_nb_days  \\\n",
       "0          5  2010       19   0.118339  77.548667 2010-03-19   58.094665   \n",
       "3          5  2013       52   0.102184  61.653699 2013-03-03   51.452375   \n",
       "\n",
       "   lat_band  \n",
       "0       NaN  \n",
       "3       NaN  "
      ]
     },
     "execution_count": 41,
     "metadata": {},
     "output_type": "execute_result"
    }
   ],
   "source": [
    "df.head(2)"
   ]
  },
  {
   "cell_type": "code",
   "execution_count": 42,
   "metadata": {},
   "outputs": [
    {
     "data": {
      "text/html": [
       "<div>\n",
       "<style scoped>\n",
       "    .dataframe tbody tr th:only-of-type {\n",
       "        vertical-align: middle;\n",
       "    }\n",
       "\n",
       "    .dataframe tbody tr th {\n",
       "        vertical-align: top;\n",
       "    }\n",
       "\n",
       "    .dataframe thead th {\n",
       "        text-align: right;\n",
       "    }\n",
       "</style>\n",
       "<table border=\"1\" class=\"dataframe\">\n",
       "  <thead>\n",
       "    <tr style=\"text-align: right;\">\n",
       "      <th></th>\n",
       "      <th>grid_cell</th>\n",
       "      <th>slope</th>\n",
       "      <th>intercept</th>\n",
       "      <th>r_value</th>\n",
       "      <th>p_value</th>\n",
       "      <th>std_err</th>\n",
       "      <th>mean_t_mad</th>\n",
       "      <th>std_t_mad</th>\n",
       "      <th>t_mad_excluded</th>\n",
       "      <th>min_lat</th>\n",
       "      <th>max_lat</th>\n",
       "      <th>min_lon</th>\n",
       "      <th>max_lon</th>\n",
       "      <th>lat_band</th>\n",
       "    </tr>\n",
       "  </thead>\n",
       "  <tbody>\n",
       "    <tr>\n",
       "      <td>0</td>\n",
       "      <td>5</td>\n",
       "      <td>-0.620499</td>\n",
       "      <td>1319.013549</td>\n",
       "      <td>-0.366001</td>\n",
       "      <td>0.372570</td>\n",
       "      <td>0.644099</td>\n",
       "      <td>68.551940</td>\n",
       "      <td>4.942744</td>\n",
       "      <td>0</td>\n",
       "      <td>23</td>\n",
       "      <td>25</td>\n",
       "      <td>-83</td>\n",
       "      <td>-81</td>\n",
       "      <td>25</td>\n",
       "    </tr>\n",
       "    <tr>\n",
       "      <td>1</td>\n",
       "      <td>33</td>\n",
       "      <td>-0.332203</td>\n",
       "      <td>740.907167</td>\n",
       "      <td>-0.256802</td>\n",
       "      <td>0.504751</td>\n",
       "      <td>0.472544</td>\n",
       "      <td>71.517287</td>\n",
       "      <td>3.542717</td>\n",
       "      <td>0</td>\n",
       "      <td>27</td>\n",
       "      <td>29</td>\n",
       "      <td>-83</td>\n",
       "      <td>-81</td>\n",
       "      <td>30</td>\n",
       "    </tr>\n",
       "  </tbody>\n",
       "</table>\n",
       "</div>"
      ],
      "text/plain": [
       "   grid_cell     slope    intercept   r_value   p_value   std_err  mean_t_mad  \\\n",
       "0          5 -0.620499  1319.013549 -0.366001  0.372570  0.644099   68.551940   \n",
       "1         33 -0.332203   740.907167 -0.256802  0.504751  0.472544   71.517287   \n",
       "\n",
       "   std_t_mad  t_mad_excluded  min_lat  max_lat  min_lon  max_lon  lat_band  \n",
       "0   4.942744               0       23       25      -83      -81        25  \n",
       "1   3.542717               0       27       29      -83      -81        30  "
      ]
     },
     "execution_count": 42,
     "metadata": {},
     "output_type": "execute_result"
    }
   ],
   "source": [
    "df_r.head(2)"
   ]
  },
  {
   "cell_type": "code",
   "execution_count": 43,
   "metadata": {},
   "outputs": [
    {
     "data": {
      "text/plain": [
       "44"
      ]
     },
     "execution_count": 43,
     "metadata": {},
     "output_type": "execute_result"
    }
   ],
   "source": [
    "len(df_r['grid_cell'].unique())"
   ]
  },
  {
   "cell_type": "code",
   "execution_count": 44,
   "metadata": {},
   "outputs": [],
   "source": [
    "df_t_mad_year = df[['grid_cell', 'year', 't_mad']].merge(df_r, on=['grid_cell'])"
   ]
  },
  {
   "cell_type": "code",
   "execution_count": 45,
   "metadata": {},
   "outputs": [
    {
     "data": {
      "text/html": [
       "<div>\n",
       "<style scoped>\n",
       "    .dataframe tbody tr th:only-of-type {\n",
       "        vertical-align: middle;\n",
       "    }\n",
       "\n",
       "    .dataframe tbody tr th {\n",
       "        vertical-align: top;\n",
       "    }\n",
       "\n",
       "    .dataframe thead th {\n",
       "        text-align: right;\n",
       "    }\n",
       "</style>\n",
       "<table border=\"1\" class=\"dataframe\">\n",
       "  <thead>\n",
       "    <tr style=\"text-align: right;\">\n",
       "      <th></th>\n",
       "      <th>grid_cell</th>\n",
       "      <th>year</th>\n",
       "      <th>t_mad</th>\n",
       "      <th>slope</th>\n",
       "      <th>intercept</th>\n",
       "      <th>r_value</th>\n",
       "      <th>p_value</th>\n",
       "      <th>std_err</th>\n",
       "      <th>mean_t_mad</th>\n",
       "      <th>std_t_mad</th>\n",
       "      <th>t_mad_excluded</th>\n",
       "      <th>min_lat</th>\n",
       "      <th>max_lat</th>\n",
       "      <th>min_lon</th>\n",
       "      <th>max_lon</th>\n",
       "      <th>lat_band</th>\n",
       "    </tr>\n",
       "  </thead>\n",
       "  <tbody>\n",
       "    <tr>\n",
       "      <td>0</td>\n",
       "      <td>5</td>\n",
       "      <td>2010</td>\n",
       "      <td>77.548667</td>\n",
       "      <td>-0.620499</td>\n",
       "      <td>1319.013549</td>\n",
       "      <td>-0.366001</td>\n",
       "      <td>0.37257</td>\n",
       "      <td>0.644099</td>\n",
       "      <td>68.55194</td>\n",
       "      <td>4.942744</td>\n",
       "      <td>0</td>\n",
       "      <td>23</td>\n",
       "      <td>25</td>\n",
       "      <td>-83</td>\n",
       "      <td>-81</td>\n",
       "      <td>25</td>\n",
       "    </tr>\n",
       "    <tr>\n",
       "      <td>1</td>\n",
       "      <td>5</td>\n",
       "      <td>2013</td>\n",
       "      <td>61.653699</td>\n",
       "      <td>-0.620499</td>\n",
       "      <td>1319.013549</td>\n",
       "      <td>-0.366001</td>\n",
       "      <td>0.37257</td>\n",
       "      <td>0.644099</td>\n",
       "      <td>68.55194</td>\n",
       "      <td>4.942744</td>\n",
       "      <td>0</td>\n",
       "      <td>23</td>\n",
       "      <td>25</td>\n",
       "      <td>-83</td>\n",
       "      <td>-81</td>\n",
       "      <td>25</td>\n",
       "    </tr>\n",
       "  </tbody>\n",
       "</table>\n",
       "</div>"
      ],
      "text/plain": [
       "   grid_cell  year      t_mad     slope    intercept   r_value  p_value  \\\n",
       "0          5  2010  77.548667 -0.620499  1319.013549 -0.366001  0.37257   \n",
       "1          5  2013  61.653699 -0.620499  1319.013549 -0.366001  0.37257   \n",
       "\n",
       "    std_err  mean_t_mad  std_t_mad  t_mad_excluded  min_lat  max_lat  min_lon  \\\n",
       "0  0.644099    68.55194   4.942744               0       23       25      -83   \n",
       "1  0.644099    68.55194   4.942744               0       23       25      -83   \n",
       "\n",
       "   max_lon  lat_band  \n",
       "0      -81        25  \n",
       "1      -81        25  "
      ]
     },
     "execution_count": 45,
     "metadata": {},
     "output_type": "execute_result"
    }
   ],
   "source": [
    "df_t_mad_year.head(2)"
   ]
  },
  {
   "cell_type": "code",
   "execution_count": 46,
   "metadata": {},
   "outputs": [
    {
     "data": {
      "image/png": "[encoded data removed]",
      "text/plain": [
       "<Figure size 432x288 with 1 Axes>"
      ]
     },
     "metadata": {
      "needs_background": "light"
     },
     "output_type": "display_data"
    }
   ],
   "source": [
    "plt.scatter(df_t_mad_year['year'], df_t_mad_year['t_mad'])\n",
    "plt.xlabel('Year')\n",
    "\n",
    "plt.show()"
   ]
  },
  {
   "cell_type": "code",
   "execution_count": 47,
   "metadata": {},
   "outputs": [
    {
     "name": "stdout",
     "output_type": "stream",
     "text": [
      "LinregressResult(slope=0.2725099753222891, intercept=-447.196617928365, rvalue=0.04499488591140155, pvalue=0.36171886085898486, stderr=0.29844085097243206)\n"
     ]
    }
   ],
   "source": [
    "print(scipy.stats.linregress(df_t_mad_year['year'], df_t_mad_year['t_mad']))"
   ]
  },
  {
   "cell_type": "code",
   "execution_count": 48,
   "metadata": {},
   "outputs": [
    {
     "data": {
      "text/html": [
       "<div>\n",
       "<style scoped>\n",
       "    .dataframe tbody tr th:only-of-type {\n",
       "        vertical-align: middle;\n",
       "    }\n",
       "\n",
       "    .dataframe tbody tr th {\n",
       "        vertical-align: top;\n",
       "    }\n",
       "\n",
       "    .dataframe thead th {\n",
       "        text-align: right;\n",
       "    }\n",
       "</style>\n",
       "<table border=\"1\" class=\"dataframe\">\n",
       "  <thead>\n",
       "    <tr style=\"text-align: right;\">\n",
       "      <th></th>\n",
       "      <th>grid_cell</th>\n",
       "      <th>slope</th>\n",
       "      <th>intercept</th>\n",
       "      <th>r_value</th>\n",
       "      <th>p_value</th>\n",
       "      <th>std_err</th>\n",
       "      <th>mean_t_mad</th>\n",
       "      <th>std_t_mad</th>\n",
       "      <th>t_mad_excluded</th>\n",
       "      <th>min_lat</th>\n",
       "      <th>max_lat</th>\n",
       "      <th>min_lon</th>\n",
       "      <th>max_lon</th>\n",
       "      <th>lat_band</th>\n",
       "    </tr>\n",
       "  </thead>\n",
       "  <tbody>\n",
       "    <tr>\n",
       "      <td>0</td>\n",
       "      <td>5</td>\n",
       "      <td>-0.620499</td>\n",
       "      <td>1319.013549</td>\n",
       "      <td>-0.366001</td>\n",
       "      <td>0.372570</td>\n",
       "      <td>0.644099</td>\n",
       "      <td>68.551940</td>\n",
       "      <td>4.942744</td>\n",
       "      <td>0</td>\n",
       "      <td>23</td>\n",
       "      <td>25</td>\n",
       "      <td>-83</td>\n",
       "      <td>-81</td>\n",
       "      <td>25</td>\n",
       "    </tr>\n",
       "    <tr>\n",
       "      <td>1</td>\n",
       "      <td>33</td>\n",
       "      <td>-0.332203</td>\n",
       "      <td>740.907167</td>\n",
       "      <td>-0.256802</td>\n",
       "      <td>0.504751</td>\n",
       "      <td>0.472544</td>\n",
       "      <td>71.517287</td>\n",
       "      <td>3.542717</td>\n",
       "      <td>0</td>\n",
       "      <td>27</td>\n",
       "      <td>29</td>\n",
       "      <td>-83</td>\n",
       "      <td>-81</td>\n",
       "      <td>30</td>\n",
       "    </tr>\n",
       "  </tbody>\n",
       "</table>\n",
       "</div>"
      ],
      "text/plain": [
       "   grid_cell     slope    intercept   r_value   p_value   std_err  mean_t_mad  \\\n",
       "0          5 -0.620499  1319.013549 -0.366001  0.372570  0.644099   68.551940   \n",
       "1         33 -0.332203   740.907167 -0.256802  0.504751  0.472544   71.517287   \n",
       "\n",
       "   std_t_mad  t_mad_excluded  min_lat  max_lat  min_lon  max_lon  lat_band  \n",
       "0   4.942744               0       23       25      -83      -81        25  \n",
       "1   3.542717               0       27       29      -83      -81        30  "
      ]
     },
     "execution_count": 48,
     "metadata": {},
     "output_type": "execute_result"
    }
   ],
   "source": [
    "df_r.head(2)"
   ]
  },
  {
   "cell_type": "code",
   "execution_count": 49,
   "metadata": {},
   "outputs": [],
   "source": [
    "df_r['mean_lat'] = (df_r['min_lat'] + df_r['max_lat'])/2\n",
    "df_r['mean_lon'] = (df_r['min_lon'] + df_r['max_lon'])/2"
   ]
  },
  {
   "cell_type": "code",
   "execution_count": 50,
   "metadata": {},
   "outputs": [],
   "source": [
    "df_r['abs_slope'] = df_r['slope'].abs()*100"
   ]
  },
  {
   "cell_type": "code",
   "execution_count": 51,
   "metadata": {},
   "outputs": [
    {
     "data": {
      "text/html": [
       "<div>\n",
       "<style scoped>\n",
       "    .dataframe tbody tr th:only-of-type {\n",
       "        vertical-align: middle;\n",
       "    }\n",
       "\n",
       "    .dataframe tbody tr th {\n",
       "        vertical-align: top;\n",
       "    }\n",
       "\n",
       "    .dataframe thead th {\n",
       "        text-align: right;\n",
       "    }\n",
       "</style>\n",
       "<table border=\"1\" class=\"dataframe\">\n",
       "  <thead>\n",
       "    <tr style=\"text-align: right;\">\n",
       "      <th></th>\n",
       "      <th>grid_cell</th>\n",
       "      <th>slope</th>\n",
       "      <th>intercept</th>\n",
       "      <th>r_value</th>\n",
       "      <th>p_value</th>\n",
       "      <th>std_err</th>\n",
       "      <th>mean_t_mad</th>\n",
       "      <th>std_t_mad</th>\n",
       "      <th>t_mad_excluded</th>\n",
       "      <th>min_lat</th>\n",
       "      <th>max_lat</th>\n",
       "      <th>min_lon</th>\n",
       "      <th>max_lon</th>\n",
       "      <th>lat_band</th>\n",
       "      <th>mean_lat</th>\n",
       "      <th>mean_lon</th>\n",
       "      <th>abs_slope</th>\n",
       "    </tr>\n",
       "  </thead>\n",
       "  <tbody>\n",
       "    <tr>\n",
       "      <td>0</td>\n",
       "      <td>5</td>\n",
       "      <td>-0.620499</td>\n",
       "      <td>1319.013549</td>\n",
       "      <td>-0.366001</td>\n",
       "      <td>0.372570</td>\n",
       "      <td>0.644099</td>\n",
       "      <td>68.551940</td>\n",
       "      <td>4.942744</td>\n",
       "      <td>0</td>\n",
       "      <td>23</td>\n",
       "      <td>25</td>\n",
       "      <td>-83</td>\n",
       "      <td>-81</td>\n",
       "      <td>25</td>\n",
       "      <td>24.0</td>\n",
       "      <td>-82.0</td>\n",
       "      <td>62.049950</td>\n",
       "    </tr>\n",
       "    <tr>\n",
       "      <td>1</td>\n",
       "      <td>33</td>\n",
       "      <td>-0.332203</td>\n",
       "      <td>740.907167</td>\n",
       "      <td>-0.256802</td>\n",
       "      <td>0.504751</td>\n",
       "      <td>0.472544</td>\n",
       "      <td>71.517287</td>\n",
       "      <td>3.542717</td>\n",
       "      <td>0</td>\n",
       "      <td>27</td>\n",
       "      <td>29</td>\n",
       "      <td>-83</td>\n",
       "      <td>-81</td>\n",
       "      <td>30</td>\n",
       "      <td>28.0</td>\n",
       "      <td>-82.0</td>\n",
       "      <td>33.220341</td>\n",
       "    </tr>\n",
       "  </tbody>\n",
       "</table>\n",
       "</div>"
      ],
      "text/plain": [
       "   grid_cell     slope    intercept   r_value   p_value   std_err  mean_t_mad  \\\n",
       "0          5 -0.620499  1319.013549 -0.366001  0.372570  0.644099   68.551940   \n",
       "1         33 -0.332203   740.907167 -0.256802  0.504751  0.472544   71.517287   \n",
       "\n",
       "   std_t_mad  t_mad_excluded  min_lat  max_lat  min_lon  max_lon  lat_band  \\\n",
       "0   4.942744               0       23       25      -83      -81        25   \n",
       "1   3.542717               0       27       29      -83      -81        30   \n",
       "\n",
       "   mean_lat  mean_lon  abs_slope  \n",
       "0      24.0     -82.0  62.049950  \n",
       "1      28.0     -82.0  33.220341  "
      ]
     },
     "execution_count": 51,
     "metadata": {},
     "output_type": "execute_result"
    }
   ],
   "source": [
    "df_r.head(2)"
   ]
  },
  {
   "cell_type": "code",
   "execution_count": 52,
   "metadata": {},
   "outputs": [],
   "source": [
    "df_g = geopandas.GeoDataFrame(df_r, geometry=geopandas.points_from_xy(df_r['mean_lon'], df_r['mean_lat']))"
   ]
  },
  {
   "cell_type": "code",
   "execution_count": 53,
   "metadata": {
    "scrolled": true
   },
   "outputs": [
    {
     "data": {
      "text/html": [
       "<div>\n",
       "<style scoped>\n",
       "    .dataframe tbody tr th:only-of-type {\n",
       "        vertical-align: middle;\n",
       "    }\n",
       "\n",
       "    .dataframe tbody tr th {\n",
       "        vertical-align: top;\n",
       "    }\n",
       "\n",
       "    .dataframe thead th {\n",
       "        text-align: right;\n",
       "    }\n",
       "</style>\n",
       "<table border=\"1\" class=\"dataframe\">\n",
       "  <thead>\n",
       "    <tr style=\"text-align: right;\">\n",
       "      <th></th>\n",
       "      <th>grid_cell</th>\n",
       "      <th>slope</th>\n",
       "      <th>intercept</th>\n",
       "      <th>r_value</th>\n",
       "      <th>p_value</th>\n",
       "      <th>std_err</th>\n",
       "      <th>mean_t_mad</th>\n",
       "      <th>std_t_mad</th>\n",
       "      <th>t_mad_excluded</th>\n",
       "      <th>min_lat</th>\n",
       "      <th>max_lat</th>\n",
       "      <th>min_lon</th>\n",
       "      <th>max_lon</th>\n",
       "      <th>lat_band</th>\n",
       "      <th>mean_lat</th>\n",
       "      <th>mean_lon</th>\n",
       "      <th>abs_slope</th>\n",
       "      <th>geometry</th>\n",
       "    </tr>\n",
       "  </thead>\n",
       "  <tbody>\n",
       "    <tr>\n",
       "      <td>0</td>\n",
       "      <td>5</td>\n",
       "      <td>-0.620499</td>\n",
       "      <td>1319.013549</td>\n",
       "      <td>-0.366001</td>\n",
       "      <td>0.372570</td>\n",
       "      <td>0.644099</td>\n",
       "      <td>68.551940</td>\n",
       "      <td>4.942744</td>\n",
       "      <td>0</td>\n",
       "      <td>23</td>\n",
       "      <td>25</td>\n",
       "      <td>-83</td>\n",
       "      <td>-81</td>\n",
       "      <td>25</td>\n",
       "      <td>24.0</td>\n",
       "      <td>-82.0</td>\n",
       "      <td>62.049950</td>\n",
       "      <td>POINT (-82.00000 24.00000)</td>\n",
       "    </tr>\n",
       "    <tr>\n",
       "      <td>1</td>\n",
       "      <td>33</td>\n",
       "      <td>-0.332203</td>\n",
       "      <td>740.907167</td>\n",
       "      <td>-0.256802</td>\n",
       "      <td>0.504751</td>\n",
       "      <td>0.472544</td>\n",
       "      <td>71.517287</td>\n",
       "      <td>3.542717</td>\n",
       "      <td>0</td>\n",
       "      <td>27</td>\n",
       "      <td>29</td>\n",
       "      <td>-83</td>\n",
       "      <td>-81</td>\n",
       "      <td>30</td>\n",
       "      <td>28.0</td>\n",
       "      <td>-82.0</td>\n",
       "      <td>33.220341</td>\n",
       "      <td>POINT (-82.00000 28.00000)</td>\n",
       "    </tr>\n",
       "  </tbody>\n",
       "</table>\n",
       "</div>"
      ],
      "text/plain": [
       "   grid_cell     slope    intercept   r_value   p_value   std_err  mean_t_mad  \\\n",
       "0          5 -0.620499  1319.013549 -0.366001  0.372570  0.644099   68.551940   \n",
       "1         33 -0.332203   740.907167 -0.256802  0.504751  0.472544   71.517287   \n",
       "\n",
       "   std_t_mad  t_mad_excluded  min_lat  max_lat  min_lon  max_lon  lat_band  \\\n",
       "0   4.942744               0       23       25      -83      -81        25   \n",
       "1   3.542717               0       27       29      -83      -81        30   \n",
       "\n",
       "   mean_lat  mean_lon  abs_slope                    geometry  \n",
       "0      24.0     -82.0  62.049950  POINT (-82.00000 24.00000)  \n",
       "1      28.0     -82.0  33.220341  POINT (-82.00000 28.00000)  "
      ]
     },
     "execution_count": 53,
     "metadata": {},
     "output_type": "execute_result"
    }
   ],
   "source": [
    "df_g.head(2)"
   ]
  },
  {
   "cell_type": "code",
   "execution_count": 54,
   "metadata": {},
   "outputs": [
    {
     "name": "stdout",
     "output_type": "stream",
     "text": [
      "-1.0348394109769914\n",
      "-2.0\n",
      "3.2786388863493174\n",
      "4.0\n"
     ]
    }
   ],
   "source": [
    "print(df_g['slope'].min())\n",
    "print(np.floor(df_g['slope'].min()))\n",
    "print(df_g['slope'].max())\n",
    "print(np.ceil(df_g['slope'].max()))"
   ]
  },
  {
   "cell_type": "code",
   "execution_count": 55,
   "metadata": {},
   "outputs": [],
   "source": [
    "from mpl_toolkits.axes_grid1 import make_axes_locatable\n",
    "import matplotlib as mpl"
   ]
  },
  {
   "cell_type": "code",
   "execution_count": 56,
   "metadata": {},
   "outputs": [],
   "source": [
    "norm = mpl.colors.Normalize(vmin=-4, vmax=4)"
   ]
  },
  {
   "cell_type": "code",
   "execution_count": 57,
   "metadata": {},
   "outputs": [],
   "source": [
    "mpl.rcParams['font.size'] = 15"
   ]
  },
  {
   "cell_type": "code",
   "execution_count": 58,
   "metadata": {},
   "outputs": [
    {
     "data": {
      "image/png": "[encoded data removed]",
      "text/plain": [
       "<Figure size 1440x1080 with 2 Axes>"
      ]
     },
     "metadata": {
      "needs_background": "light"
     },
     "output_type": "display_data"
    }
   ],
   "source": [
    "world = geopandas.read_file(geopandas.datasets.get_path('naturalearth_lowres'))\n",
    "\n",
    "ax = world[world['iso_a3'] == 'USA'].plot(\n",
    "    color='white', edgecolor='black', figsize=(20.0, 15.0))\n",
    "\n",
    "sc = plt.scatter('mean_lon', 'mean_lat', s=250, c='slope', alpha=0.5, cmap='RdBu_r', data=df_g, norm=norm, \n",
    "                 edgecolor='black', marker='o')\n",
    "# sc = plt.scatter('mean_lon', 'mean_lat', s='abs_slope', c='slope', alpha=0.5, cmap='RdBu', data=df_g)\n",
    "# plt.colorbar(sc, cax=ax)\n",
    "plt.colorbar(sc, fraction=0.0241, pad=0.015)\n",
    "plt.xlabel('Longitude')\n",
    "plt.ylabel('Latitude')\n",
    "plt.title('Slopes of mean arrival date as a function of time shown as bubbles on a map of the United States')\n",
    "plt.show()"
   ]
  },
  {
   "cell_type": "code",
   "execution_count": 59,
   "metadata": {},
   "outputs": [
    {
     "data": {
      "text/html": [
       "<div>\n",
       "<style scoped>\n",
       "    .dataframe tbody tr th:only-of-type {\n",
       "        vertical-align: middle;\n",
       "    }\n",
       "\n",
       "    .dataframe tbody tr th {\n",
       "        vertical-align: top;\n",
       "    }\n",
       "\n",
       "    .dataframe thead th {\n",
       "        text-align: right;\n",
       "    }\n",
       "</style>\n",
       "<table border=\"1\" class=\"dataframe\">\n",
       "  <thead>\n",
       "    <tr style=\"text-align: right;\">\n",
       "      <th></th>\n",
       "      <th>pop_est</th>\n",
       "      <th>continent</th>\n",
       "      <th>name</th>\n",
       "      <th>iso_a3</th>\n",
       "      <th>gdp_md_est</th>\n",
       "      <th>geometry</th>\n",
       "    </tr>\n",
       "  </thead>\n",
       "  <tbody>\n",
       "    <tr>\n",
       "      <td>4</td>\n",
       "      <td>326625791</td>\n",
       "      <td>North America</td>\n",
       "      <td>United States of America</td>\n",
       "      <td>USA</td>\n",
       "      <td>18560000.0</td>\n",
       "      <td>MULTIPOLYGON (((-122.84000 49.00000, -120.0000...</td>\n",
       "    </tr>\n",
       "  </tbody>\n",
       "</table>\n",
       "</div>"
      ],
      "text/plain": [
       "     pop_est      continent                      name iso_a3  gdp_md_est  \\\n",
       "4  326625791  North America  United States of America    USA  18560000.0   \n",
       "\n",
       "                                            geometry  \n",
       "4  MULTIPOLYGON (((-122.84000 49.00000, -120.0000...  "
      ]
     },
     "execution_count": 59,
     "metadata": {},
     "output_type": "execute_result"
    }
   ],
   "source": [
    "world[world['iso_a3'] == 'USA']"
   ]
  }
 ],
 "metadata": {
  "kernelspec": {
   "display_name": "Python 3",
   "language": "python",
   "name": "python3"
  },
  "language_info": {
   "codemirror_mode": {
    "name": "ipython",
    "version": 3
   },
   "file_extension": ".py",
   "mimetype": "text/x-python",
   "name": "python",
   "nbconvert_exporter": "python",
   "pygments_lexer": "ipython3",
   "version": "3.7.4"
  }
 },
 "nbformat": 4,
 "nbformat_minor": 2
}
