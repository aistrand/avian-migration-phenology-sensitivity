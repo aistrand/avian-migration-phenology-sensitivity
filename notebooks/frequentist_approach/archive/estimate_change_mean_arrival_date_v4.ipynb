{
 "cells": [
  {
   "cell_type": "code",
   "execution_count": null,
   "metadata": {},
   "outputs": [],
   "source": [
    "import os\n",
    "import pandas as pd\n",
    "import numpy as np\n",
    "import matplotlib.pyplot as plt\n",
    "import scipy.stats\n",
    "import geopandas\n",
    "import matplotlib"
   ]
  },
  {
   "cell_type": "code",
   "execution_count": null,
   "metadata": {},
   "outputs": [],
   "source": [
    "os.getcwd()"
   ]
  },
  {
   "cell_type": "code",
   "execution_count": null,
   "metadata": {},
   "outputs": [],
   "source": [
    "path = '/Users/alvastrand/Documents/OU/Research/data/'\n",
    "os.chdir(path)"
   ]
  },
  {
   "cell_type": "code",
   "execution_count": null,
   "metadata": {},
   "outputs": [],
   "source": [
    "os.getcwd()"
   ]
  },
  {
   "cell_type": "code",
   "execution_count": null,
   "metadata": {},
   "outputs": [],
   "source": [
    "pd.set_option('max_columns', 100)\n",
    "pd.set_option('max_rows', 100)"
   ]
  },
  {
   "cell_type": "code",
   "execution_count": null,
   "metadata": {},
   "outputs": [],
   "source": [
    "start_date = '0101'\n",
    "end_date = '0731'\n",
    "month = 'Apr'\n",
    "year = '2020'\n",
    "countries_states = 'US_states_east_Mississippi'"
   ]
  },
  {
   "cell_type": "code",
   "execution_count": null,
   "metadata": {},
   "outputs": [],
   "source": [
    "subdir = 'output/'\n",
    "filename = 'obligate_aerial_insectivores_ebird_species_codes.csv'\n",
    "\n",
    "df = pd.read_csv(subdir + filename)\n",
    "\n",
    "print(len(df))"
   ]
  },
  {
   "cell_type": "code",
   "execution_count": null,
   "metadata": {},
   "outputs": [],
   "source": [
    "df.head(2)"
   ]
  },
  {
   "cell_type": "code",
   "execution_count": null,
   "metadata": {},
   "outputs": [],
   "source": [
    "for i in range(len(df)):\n",
    "      \n",
    "    print(i, df['species_code'].iloc[i], df['common_name'].iloc[i])"
   ]
  },
  {
   "cell_type": "code",
   "execution_count": null,
   "metadata": {},
   "outputs": [],
   "source": [
    "def name_of_function(df, arrival_day_field_name, df_grid_cells, *args):\n",
    "    \n",
    "    if arrival_day_field_name == 't_mad':\n",
    "        \n",
    "        r_squared = args[0]\n",
    "        print('r_squared:', r_squared)\n",
    "        \n",
    "        # Filter\n",
    "        \n",
    "        df = df[df['r_squared'] >= r_squared]\n",
    "        print('len(df):', len(df))\n",
    "        \n",
    "        print(\"len(df['grid_cell'].unique()):\", len(df['grid_cell'].unique()))\n",
    "        \n",
    "    if len(df) == 0:\n",
    "        df_r = pd.DataFrame()\n",
    "        \n",
    "    else:\n",
    "        df_cnt = df[['grid_cell', 'year']].groupby(['grid_cell']).count()\n",
    "        df_cnt.reset_index(inplace=True)\n",
    "        df_cnt = df_cnt.rename(columns={'year': 'nb_years'})\n",
    "        print('len(df_cnt):', len(df_cnt))\n",
    "\n",
    "        list_grid_cells = list(df_cnt[df_cnt['nb_years'] >= 5]['grid_cell'])\n",
    "        print('len(list_grid_cells):', len(list_grid_cells))\n",
    "        \n",
    "        if len(list_grid_cells) == 0:\n",
    "            df_r = pd.DataFrame()\n",
    "            \n",
    "        else:\n",
    "\n",
    "            df = df[df['grid_cell'].isin(list_grid_cells)]\n",
    "\n",
    "            # Filter\n",
    "\n",
    "            print('len(df):', len(df))\n",
    "\n",
    "            list_means_days = []\n",
    "            list_std_days = []\n",
    "            list_days = []\n",
    "            list_days_excluded = []\n",
    "            list_slopes = []\n",
    "            list_intercepts = []\n",
    "            list_r_values = []\n",
    "            list_p_values = []\n",
    "            list_std_err = []\n",
    "\n",
    "            for i in range(len(list_grid_cells)):\n",
    "                df_subset = df[df['grid_cell'] == list_grid_cells[i]]\n",
    "                linregress = scipy.stats.linregress(df_subset['year'], df_subset[arrival_day_field_name])\n",
    "                mean_day = df_subset[arrival_day_field_name].mean()\n",
    "                list_means_days.append(mean_day)\n",
    "                std_day = df_subset[arrival_day_field_name].std()\n",
    "                list_std_days.append(std_day)\n",
    "                df_subset['day_excluded'] = np.where((df_subset[arrival_day_field_name] > mean_day + 2*std_day) | \n",
    "                                                     (df_subset[arrival_day_field_name] < mean_day - 2*std_day), 1, 0)\n",
    "                list_days.append(df_subset[[arrival_day_field_name, 'day_excluded']])\n",
    "                if 1 in list(df_subset['day_excluded']):\n",
    "                    list_days_excluded.append(1)\n",
    "                else:\n",
    "                    list_days_excluded.append(0)\n",
    "                list_slopes.append(linregress[0])\n",
    "                list_intercepts.append(linregress[1])\n",
    "                list_r_values.append(linregress[2])\n",
    "                list_p_values.append(linregress[3])\n",
    "                list_std_err.append(linregress[4])\n",
    "            #     plt.figure(figsize=(12.0, 4.0))\n",
    "            #     plt.scatter(df_subset['year'], df_subset[arrival_day_field_name])\n",
    "            #     plt.show()\n",
    "\n",
    "            df_r = pd.DataFrame(data={'grid_cell': list_grid_cells, 'slope': list_slopes, \n",
    "                                      'intercept': list_intercepts, 'r_value': list_r_values, \n",
    "                                      'p_value': list_p_values, 'std_err': list_std_err, \n",
    "                                      'mean_day': list_means_days, 'std_day': list_std_days, \n",
    "                                      'day_excluded': list_days_excluded})\n",
    "\n",
    "            df_r = df_r.merge(df_grid_cells, on='grid_cell')\n",
    "\n",
    "            print('len(df_r):', len(df_r))\n",
    "            \n",
    "            # Filter\n",
    "\n",
    "            df_r = df_r[df_r['day_excluded'] == 0]\n",
    "            \n",
    "            print('len(df_r):', len(df_r))\n",
    "\n",
    "            df['lat_band'] = np.nan\n",
    "\n",
    "            list_lat_band_boundaries = range(20, 55, 5)\n",
    "\n",
    "            for i in range(len(list_lat_band_boundaries)):\n",
    "                if i == len(list_lat_band_boundaries) - 1:\n",
    "                    bounding_lat = list_lat_band_boundaries[i] + 5\n",
    "                else:\n",
    "                    bounding_lat = list_lat_band_boundaries[i+1]\n",
    "                df_r.loc[(df_r['min_lat'] > list_lat_band_boundaries[i]) & \n",
    "                     (df_r['min_lat'] <= bounding_lat), 'lat_band'] = bounding_lat\n",
    "\n",
    "            df_r['lat_band'] = df_r['lat_band'].astype(int)\n",
    "\n",
    "            list_lat_bands = list(df_r['lat_band'].unique())\n",
    "\n",
    "            for i in range(len(list_lat_bands)):\n",
    "                print('list_lat_bands[i]:', list_lat_bands[i])\n",
    "                df_subset = df_r[df_r['lat_band'] == list_lat_bands[i]]\n",
    "                print(\"df_subset['slope'].mean():\", df_subset['slope'].mean())\n",
    "                print(\"df_subset['slope'].median():\", df_subset['slope'].median())\n",
    "            #     print(df_subset['slope'].std())\n",
    "\n",
    "            print(\"scipy.stats.linregress(df_r['min_lat'], df_r['slope']):\", \n",
    "                  scipy.stats.linregress(df_r['min_lat'], df_r['slope']))\n",
    "            print(\"scipy.stats.linregress(df_r['max_lat'], df_r['slope']):\", \n",
    "                  scipy.stats.linregress(df_r['max_lat'], df_r['slope']))\n",
    "            print(\"scipy.stats.linregress(df_r['min_lon'], df_r['slope']):\", \n",
    "                  scipy.stats.linregress(df_r['min_lon'], df_r['slope']))\n",
    "            print(\"scipy.stats.linregress(df_r['max_lon'], df_r['slope']):\", \n",
    "                  scipy.stats.linregress(df_r['max_lon'], df_r['slope']))\n",
    "\n",
    "            plt.scatter(df_r['min_lat'], df_r['slope'])\n",
    "            plt.show()\n",
    "\n",
    "            plt.scatter(df_r['max_lat'], df_r['slope'])\n",
    "            plt.show()\n",
    "\n",
    "            plt.scatter(df_r['min_lon'], df_r['slope'])\n",
    "            plt.show()\n",
    "\n",
    "            plt.scatter(df_r['max_lon'], df_r['slope'])\n",
    "            plt.show()\n",
    "\n",
    "            print(\"len(df_r['grid_cell'].unique()):\", len(df_r['grid_cell'].unique()))\n",
    "\n",
    "            df_days_year = df[['grid_cell', 'year', arrival_day_field_name]].merge(df_r, on=['grid_cell'])\n",
    "\n",
    "            plt.scatter(df_days_year['year'], df_days_year[arrival_day_field_name])\n",
    "            plt.xlabel('Year')\n",
    "            plt.show()\n",
    "\n",
    "            print(\"scipy.stats.linregress(df_days_year['year'], df_days_year[arrival_day_field_name]):\", \n",
    "                  scipy.stats.linregress(df_days_year['year'], df_days_year[arrival_day_field_name]))\n",
    "\n",
    "            df_r['mean_lat'] = (df_r['min_lat'] + df_r['max_lat'])/2\n",
    "            df_r['mean_lon'] = (df_r['min_lon'] + df_r['max_lon'])/2\n",
    "\n",
    "            df_r['abs_slope'] = df_r['slope'].abs()*100\n",
    "\n",
    "            df_g = geopandas.GeoDataFrame(df_r, geometry=geopandas.points_from_xy(df_r['mean_lon'], df_r['mean_lat']))\n",
    "\n",
    "            print(\"df_g['slope'].min():\", df_g['slope'].min())\n",
    "            print(\"np.floor(df_g['slope'].min()):\", np.floor(df_g['slope'].min()))\n",
    "            print(\"df_g['slope'].max():\", df_g['slope'].max())\n",
    "            print(\"np.ceil(df_g['slope'].max()):\", np.ceil(df_g['slope'].max()))\n",
    "\n",
    "            abs_floor_min_slope = np.absolute(np.floor(df_g['slope'].min()))\n",
    "            abs_ceil_max_slope = np.absolute(np.ceil(df_g['slope'].max()))\n",
    "\n",
    "            print('abs_floor_min_slope:', abs_floor_min_slope)\n",
    "            print('abs_ceil_max_slope:', abs_ceil_max_slope)\n",
    "\n",
    "            greatest_abs = max([abs_floor_min_slope, abs_ceil_max_slope])\n",
    "\n",
    "        #     v_min = -greatest_abs\n",
    "        #     v_max = greatest_abs\n",
    "\n",
    "            v_min = -4\n",
    "            v_max = 4\n",
    "\n",
    "            norm = matplotlib.colors.Normalize(vmin=v_min, vmax=v_max)\n",
    "\n",
    "            matplotlib.rcParams['font.size'] = 15\n",
    "\n",
    "            world = geopandas.read_file(geopandas.datasets.get_path('naturalearth_lowres'))\n",
    "\n",
    "            ax = world[world['iso_a3'] == 'USA'].plot(\n",
    "                color='white', edgecolor='black', figsize=(20.0, 15.0))\n",
    "\n",
    "            sc = plt.scatter('mean_lon', 'mean_lat', s=250, c='slope', alpha=0.5, cmap='RdBu_r', data=df_g, \n",
    "                             norm=norm, edgecolor='black', marker='o')\n",
    "            # sc = plt.scatter('mean_lon', 'mean_lat', s='abs_slope', c='slope', alpha=0.5, cmap='RdBu', data=df_g)\n",
    "            # plt.colorbar(sc, cax=ax)\n",
    "            plt.colorbar(sc, fraction=0.0241, pad=0.015)\n",
    "            plt.xlabel('Longitude')\n",
    "            plt.ylabel('Latitude')\n",
    "            plt.title(\n",
    "                'Slopes of mean arrival date as a function of time shown as bubbles on a map of the United States')\n",
    "            plt.show()\n",
    "\n",
    "            # world[world['iso_a3'] == 'USA']\n",
    "\n",
    "    return df_r"
   ]
  },
  {
   "cell_type": "code",
   "execution_count": null,
   "metadata": {},
   "outputs": [],
   "source": [
    "def main_function(species, start_date, end_date, month, year, *args):\n",
    "    \n",
    "    subdir = 'eBird/ebd_output/'\n",
    "\n",
    "    if args != ():\n",
    "\n",
    "        countries_states = args[0]\n",
    "        \n",
    "        filename_mean = 'ebd_' + countries_states + '_' + species + '_' + start_date + '_' + end_date + \\\n",
    "        '_complete_zerofilled_grid_cells_proportions_mean_rel' + month + '-' + year + '.csv'\n",
    "        print(filename_mean)\n",
    "        \n",
    "        filename_grid_cell_ids = 'ebd_' + countries_states + '_' + start_date + '_' + end_date + \\\n",
    "        '_complete_zerofilled_grid_cell_ids_rel' + month + '-' + year + '.csv'\n",
    "        print(filename_grid_cell_ids)\n",
    "        \n",
    "        filename_first_of_season = 'ebd_' + countries_states + '_' + species + '_' + start_date + '_' + end_date + \\\n",
    "        '_complete_zerofilled_grid_cells_proportions_first_of_season_rel' + month + '-' + year + '.csv'\n",
    "        print(filename_first_of_season)\n",
    "\n",
    "    df = pd.read_csv(subdir + filename_mean)\n",
    "    df['mad'] = pd.to_datetime(df['mad'])\n",
    "\n",
    "    df_first_of = pd.read_csv(subdir + filename_first_of_season)\n",
    "#     df_first_of = df_first_of.rename(columns={'t_mad': 'first_of_season_arrival_day', \n",
    "#                                               'mad': 'first_of_season_arrival_date'})\n",
    "    df_first_of['first_of_season_arrival_date'] = pd.to_datetime(df_first_of['first_of_season_arrival_date'])\n",
    "    \n",
    "    df_grid_cells = pd.read_csv(subdir + filename_grid_cell_ids)\n",
    "\n",
    "    print('len(df):', len(df))\n",
    "    print('len(df_first_of):', len(df_first_of))\n",
    "    print('len(df_grid_cells):', len(df_grid_cells))\n",
    "    print(\"len(df['grid_cell'].unique()):\", len(df['grid_cell'].unique()))\n",
    "    print(\"len(df_first_of['grid_cell'].unique()):\", len(df_first_of['grid_cell'].unique()))\n",
    "\n",
    "    return df, df_first_of, df_grid_cells\n",
    "\n",
    "#     df_comp = df.merge(df_first_of, on=['grid_cell', 'year', 'nb_prop'])\n",
    "\n",
    "#     df_comp.plot('t_mad', 'first_of_season_arrival_day', kind='scatter')\n",
    "#     plt.show()\n",
    "\n",
    "#     print(\"df['r_squared'].mean():\", df['r_squared'].mean())\n",
    "#     print(\"df['r_squared'].std():\", df['r_squared'].std())\n",
    "#     print(\"df['r_squared'].median():\", df['r_squared'].median())\n",
    "#     print(\"df['r_squared'].min():\", df['r_squared'].min())\n",
    "#     print(\"df['r_squared'].max():\", df['r_squared'].max())\n",
    "\n",
    "#     arrival_day_field_name = 'first_of_season_arrival_day'\n",
    "    \n",
    "#     df_r_first_of = name_of_function(df_first_of, arrival_day_field_name, df_grid_cells)\n",
    "#     df_r_first_of = df_r_first_of.rename(columns={'slope': 'slope_first_of_season'})\n",
    "#     df_r_first_of['species_code'] = species\n",
    "#     print('len(df_r_first_of):', len(df_r_first_of))\n",
    "    \n",
    "#     list_df_r_mean = []\n",
    "#     list_df_r_comp = []\n",
    "    \n",
    "#     arrival_day_field_name = 't_mad'\n",
    "\n",
    "#     r_squared = 0.1\n",
    "\n",
    "#     df_r_mean = name_of_function(df, arrival_day_field_name, df_grid_cells, r_squared)\n",
    "    \n",
    "#     if len(df_r_mean) == 0:\n",
    "        \n",
    "#         list_df_r_mean.append(pd.DataFrame())\n",
    "#         list_df_r_comp.append(pd.DataFrame())\n",
    "        \n",
    "#     else:\n",
    "        \n",
    "#         df_r_mean = df_r_mean.rename(columns={'slope': 'slope_mean'})\n",
    "#         df_r_mean['species_code'] = species\n",
    "\n",
    "#         df_r_comp = df_r_first_of[['grid_cell', 'slope_first_of_season', 'species_code']].merge(\n",
    "#             df_r_mean[['grid_cell', 'slope_mean', 'species_code']], on=['grid_cell', 'species_code'])\n",
    "\n",
    "#         print('len(df_r_mean):', len(df_r_mean))\n",
    "#         print('len(df_r_comp):', len(df_r_comp))\n",
    "\n",
    "#         if len(df_r_comp.index) > 0:\n",
    "#             df_r_comp.plot('slope_mean', 'slope_first_of_season', kind='scatter')\n",
    "#             plt.show()\n",
    "\n",
    "#         list_df_r_mean.append(df_r_mean)\n",
    "#         list_df_r_comp.append(df_r_comp)\n",
    "        \n",
    "#     r_squared = 0.5\n",
    "#     print('r_squared:', r_squared)\n",
    "\n",
    "#     df_r_mean = name_of_function(df, arrival_day_field_name, df_grid_cells, r_squared)\n",
    "    \n",
    "#     if len(df_r_mean) == 0:\n",
    "        \n",
    "#         list_df_r_mean.append(pd.DataFrame())\n",
    "#         list_df_r_comp.append(pd.DataFrame())\n",
    "        \n",
    "#     else:\n",
    "        \n",
    "#         df_r_mean = df_r_mean.rename(columns={'slope': 'slope_mean'})\n",
    "#         df_r_mean['species_code'] = species\n",
    "\n",
    "#         df_r_comp = df_r_first_of[['grid_cell', 'slope_first_of_season', 'species_code']].merge(\n",
    "#             df_r_mean[['grid_cell', 'slope_mean', 'species_code']], on=['grid_cell', 'species_code'])\n",
    "\n",
    "#         print('len(df_r_mean):', len(df_r_mean))\n",
    "#         print('len(df_r_comp):', len(df_r_comp))\n",
    "        \n",
    "#         if len(df_r_comp) > 0:\n",
    "#             df_r_comp.plot('slope_mean', 'slope_first_of_season', kind='scatter')\n",
    "#             plt.show()\n",
    "\n",
    "#         list_df_r_mean.append(df_r_mean)\n",
    "#         list_df_r_comp.append(df_r_comp)\n",
    "        \n",
    "#     r_squared = 0.8\n",
    "# #     r_squared = df['r_squared'].mean() + df['r_squared'].std()\n",
    "#     print('r_squared:', r_squared)\n",
    "\n",
    "#     df_r_mean = name_of_function(df, arrival_day_field_name, df_grid_cells, r_squared)\n",
    "    \n",
    "#     if len(df_r_mean) == 0:\n",
    "        \n",
    "#         list_df_r_mean.append(pd.DataFrame())\n",
    "#         list_df_r_comp.append(pd.DataFrame())\n",
    "        \n",
    "#     else:\n",
    "        \n",
    "#         df_r_mean = df_r_mean.rename(columns={'slope': 'slope_mean'})\n",
    "#         df_r_mean['species_code'] = species\n",
    "\n",
    "#         df_r_comp = df_r_first_of[['grid_cell', 'slope_first_of_season', 'species_code']].merge(\n",
    "#             df_r_mean[['grid_cell', 'slope_mean', 'species_code']], on=['grid_cell', 'species_code'])\n",
    "\n",
    "#         print('len(df_r_mean):', len(df_r_mean))\n",
    "#         print('len(df_r_comp):', len(df_r_comp))\n",
    "\n",
    "#         print(\"len(df_r_comp['slope_mean']):\", len(df_r_comp['slope_mean']))\n",
    "\n",
    "#         if len(df_r_comp.index) > 0:\n",
    "#             df_r_comp.plot('slope_mean', 'slope_first_of_season', kind='scatter')\n",
    "#             plt.show()\n",
    "\n",
    "#         list_df_r_mean.append(df_r_mean)\n",
    "#         list_df_r_comp.append(df_r_comp)\n",
    "\n",
    "#     return df, df_first_of, df_grid_cells, df_r_first_of, list_df_r_mean, list_df_r_comp"
   ]
  },
  {
   "cell_type": "code",
   "execution_count": null,
   "metadata": {
    "scrolled": true
   },
   "outputs": [],
   "source": [
    "species = 'treswa'\n",
    "\n",
    "# df_mean, df_first_of, df_grid_cells, df_r_first_of, list_df_r_mean, list_df_r_comp = main_function(\n",
    "#     species, start_date, end_date, month, year, countries_states)\n",
    "\n",
    "df_mean, df_first_of, df_grid_cells = main_function(species, start_date, end_date, month, year, countries_states)"
   ]
  },
  {
   "cell_type": "code",
   "execution_count": null,
   "metadata": {},
   "outputs": [],
   "source": [
    "df_mean.head(2)"
   ]
  },
  {
   "cell_type": "code",
   "execution_count": null,
   "metadata": {},
   "outputs": [],
   "source": [
    "df_first_of.head(2)"
   ]
  },
  {
   "cell_type": "code",
   "execution_count": null,
   "metadata": {},
   "outputs": [],
   "source": [
    "df_grid_cells.head(2)"
   ]
  },
  {
   "cell_type": "code",
   "execution_count": null,
   "metadata": {},
   "outputs": [],
   "source": [
    "# df_r_first_of.head(2)"
   ]
  },
  {
   "cell_type": "code",
   "execution_count": null,
   "metadata": {},
   "outputs": [],
   "source": [
    "species_cnt = 0\n",
    "\n",
    "df_first_of_species = pd.DataFrame()\n",
    "df_mean_min_r_squared_species = pd.DataFrame()\n",
    "df_mean_mean_r_squared_species = pd.DataFrame()\n",
    "df_mean_std_mean_r_squared_species = pd.DataFrame()\n",
    "\n",
    "for i in range(len(df)):\n",
    "    \n",
    "    print(i)\n",
    "  \n",
    "    species = df['species_code'].iloc[i]\n",
    "    print(species)\n",
    "    \n",
    "    if ((species == 'souwpw1') | (species == 'bucnig') | (species == 'compoo') | (species == 'whtswi') | \n",
    "        (species == \"blkswi\") | (species == 'vigswa')):\n",
    "        continue\n",
    "        \n",
    "    # lesnig\n",
    "    \n",
    "    df_mean, df_first_of, df_grid_cells, df_r_first_of, list_df_r_mean, list_df_r_comp = main_function(\n",
    "        species, start_date, end_date, month, year, countries_states)\n",
    "    \n",
    "    if len(df_r_first_of) > 0:\n",
    "        \n",
    "        df_first_of_species = df_first_of_species.append(df_r_first_of)\n",
    "            \n",
    "    if len(list_df_r_mean[0]) > 0:\n",
    "\n",
    "        df_mean_min_r_squared_species = df_mean_min_r_squared_species.append(list_df_r_mean[0])\n",
    "            \n",
    "    if len(list_df_r_mean[1]) > 0:\n",
    "\n",
    "        df_mean_mean_r_squared_species = df_mean_mean_r_squared_species.append(list_df_r_mean[1])\n",
    "            \n",
    "    if len(list_df_r_mean[2]) > 0:\n",
    "\n",
    "        df_mean_std_mean_r_squared_species = df_mean_std_mean_r_squared_species.append(list_df_r_mean[2])\n",
    "    \n",
    "    species_cnt += 1"
   ]
  },
  {
   "cell_type": "code",
   "execution_count": null,
   "metadata": {},
   "outputs": [],
   "source": [
    "len(list_df_r_mean)"
   ]
  },
  {
   "cell_type": "code",
   "execution_count": null,
   "metadata": {},
   "outputs": [],
   "source": [
    "print(species_cnt)"
   ]
  },
  {
   "cell_type": "code",
   "execution_count": null,
   "metadata": {},
   "outputs": [],
   "source": [
    "print(len(df_first_of_species))\n",
    "print(len(df_mean_min_r_squared_species))\n",
    "print(len(df_mean_mean_r_squared_species))\n",
    "print(len(df_mean_std_mean_r_squared_species))"
   ]
  },
  {
   "cell_type": "code",
   "execution_count": null,
   "metadata": {},
   "outputs": [],
   "source": [
    "df_first_of_species.head(2)"
   ]
  },
  {
   "cell_type": "code",
   "execution_count": null,
   "metadata": {},
   "outputs": [],
   "source": [
    "df_mean_min_r_squared_species.head(2)"
   ]
  },
  {
   "cell_type": "code",
   "execution_count": null,
   "metadata": {},
   "outputs": [],
   "source": [
    "df_mean_mean_r_squared_species.head(2)"
   ]
  },
  {
   "cell_type": "code",
   "execution_count": null,
   "metadata": {},
   "outputs": [],
   "source": [
    "df_mean_std_mean_r_squared_species.head(2)"
   ]
  },
  {
   "cell_type": "code",
   "execution_count": null,
   "metadata": {},
   "outputs": [],
   "source": [
    "subdir = 'output/'\n",
    "filename = 'all_obligate_aerial_insectivores_ebirdst_weighted_mean_body_masses.csv'\n",
    "\n",
    "df_o_a_i_masses = pd.read_csv(subdir + filename)\n",
    "\n",
    "print(len(df_o_a_i_masses))"
   ]
  },
  {
   "cell_type": "code",
   "execution_count": null,
   "metadata": {},
   "outputs": [],
   "source": [
    "df_o_a_i_masses.head(2)"
   ]
  },
  {
   "cell_type": "code",
   "execution_count": null,
   "metadata": {},
   "outputs": [],
   "source": [
    "subdir = 'output/'\n",
    "filename = 'obligate_aerial_insectivores_birdlife_nacc_north_america_handbook_added.csv'\n",
    "\n",
    "df_a_i_na_h_added = pd.read_csv(subdir + filename)"
   ]
  },
  {
   "cell_type": "code",
   "execution_count": null,
   "metadata": {},
   "outputs": [],
   "source": [
    "def plot_slopes(df_species, field_name):\n",
    "\n",
    "    df_merged = df_species.merge(df[['scientific_name', 'common_name', 'species_code']], on=['species_code'])\n",
    "    \n",
    "    len_df_merged_before = len(df_merged)\n",
    "    print(len_df_merged_before)\n",
    "\n",
    "    df_merged = df_merged.merge(df_o_a_i_masses[['scientific_name', 'common_name', 'body_mass']], \n",
    "                                on=['scientific_name', 'common_name'])\n",
    "    \n",
    "    assert(len(df_merged) == len_df_merged_before)\n",
    "    \n",
    "    df_merged['body_mass_mg'] = df_merged['BodyMass.Value']*1000\n",
    "    df_merged['log_body_mass_mg'] = np.log(df_merged['body_mass_mg'])\n",
    "    \n",
    "    print(len(df_merged['species_code'].unique()))\n",
    "    \n",
    "    color_values = matplotlib.cm.rainbow(np.linspace(0, 1, len(df_merged['species_code'].unique())))\n",
    "    colors = dict(zip(df_merged['species_code'].unique(), color_values))\n",
    "    \n",
    "    body_mass_field_name = 'log_body_mass_mg'\n",
    "#     body_mass_field_name = 'body_mass_mg'\n",
    "\n",
    "    fig, ax = plt.subplots()\n",
    "\n",
    "    for species in list(df_merged['species_code'].unique()):\n",
    "        df_subset = df_merged[df_merged['species_code'] == species]\n",
    "        df_subset.plot(ax=ax, kind='scatter', x=body_mass_field_name, y=field_name, label=species, \n",
    "                       color=colors[species], figsize=(15,10))\n",
    "    \n",
    "#     plt.scatter(df_merged[body_mass_field_name], df_merged[field_name], \n",
    "#                 c=df_merged['species_code'].apply(lambda x: colors[x]), label=df_merged['species_code'])\n",
    "    plt.legend(loc='best')\n",
    "    plt.axhline(y=0, color='r', linestyle='-')\n",
    "    plt.xlabel('Natural logarithm of body mass (mg)')\n",
    "    plt.ylabel('Slope of arrival day as a function of year')\n",
    "    plt.show()\n",
    "    \n",
    "    return df_merged"
   ]
  },
  {
   "cell_type": "code",
   "execution_count": null,
   "metadata": {},
   "outputs": [],
   "source": [
    "field_name = 'slope_first_of_season'\n",
    "df_first_of_species_merged = plot_slopes(df_first_of_species, field_name)"
   ]
  },
  {
   "cell_type": "code",
   "execution_count": null,
   "metadata": {},
   "outputs": [],
   "source": [
    "len(df_first_of_species[df_first_of_species['species_code'] == 'purmar'])"
   ]
  },
  {
   "cell_type": "code",
   "execution_count": null,
   "metadata": {
    "scrolled": true
   },
   "outputs": [],
   "source": [
    "df_first_of_species[df_first_of_species['species_code'] == 'purmar'].sort_values(by='slope_first_of_season', \n",
    "                                                                                 ascending=False)"
   ]
  },
  {
   "cell_type": "code",
   "execution_count": null,
   "metadata": {},
   "outputs": [],
   "source": [
    "field_name = 'slope_mean'\n",
    "df_mean_min_r_squared_species_merged = plot_slopes(df_mean_min_r_squared_species, field_name)"
   ]
  },
  {
   "cell_type": "code",
   "execution_count": null,
   "metadata": {},
   "outputs": [],
   "source": [
    "field_name = 'slope_mean'\n",
    "df_mean_mean_r_squared_species_merged = plot_slopes(df_mean_mean_r_squared_species, field_name)"
   ]
  },
  {
   "cell_type": "code",
   "execution_count": null,
   "metadata": {},
   "outputs": [],
   "source": [
    "field_name = 'slope_mean'\n",
    "df_mean_std_mean_r_squared_species_merged = plot_slopes(df_mean_std_mean_r_squared_species, field_name)"
   ]
  },
  {
   "cell_type": "code",
   "execution_count": null,
   "metadata": {},
   "outputs": [],
   "source": [
    "df_comp_species = df_first_of_species[['grid_cell', 'slope_first_of_season', 'species_code']].merge(\n",
    "    df_mean_min_r_squared_species[['grid_cell', 'slope_mean', 'species_code']], \n",
    "    on=['grid_cell', 'species_code'])\n",
    "\n",
    "print('len(df_comp_species):', len(df_comp_species))\n",
    "\n",
    "if len(df_comp_species.index) > 0:\n",
    "    df_comp_species.plot('slope_mean', 'slope_first_of_season', kind='scatter')\n",
    "    plt.show()"
   ]
  },
  {
   "cell_type": "code",
   "execution_count": null,
   "metadata": {},
   "outputs": [],
   "source": [
    "subdir = 'Elske/'\n",
    "filename = 'pheno_all.csv'\n",
    "\n",
    "df_insects = pd.read_csv(subdir + filename)\n",
    "\n",
    "print(len(df_insects))"
   ]
  },
  {
   "cell_type": "code",
   "execution_count": null,
   "metadata": {},
   "outputs": [],
   "source": [
    "df_insects = df_insects.rename(columns={'body_size_mg': 'body_mass_mg'})\n",
    "df_insects['log_body_mass_mg'] = np.log(df_insects['body_mass_mg'])"
   ]
  },
  {
   "cell_type": "code",
   "execution_count": null,
   "metadata": {},
   "outputs": [],
   "source": [
    "df_insects.head(2)"
   ]
  },
  {
   "cell_type": "code",
   "execution_count": null,
   "metadata": {},
   "outputs": [],
   "source": [
    "df_first_of_species_merged.head(2)"
   ]
  },
  {
   "cell_type": "code",
   "execution_count": null,
   "metadata": {},
   "outputs": [],
   "source": [
    "df_insects_fewer_cols = df_insects[['state', 'scientific_name', 'common_name', 'body_mass_mg', 'log_body_mass_mg', \n",
    "                                    'slope_year']]\n",
    "df_insects_fewer_cols = df_insects_fewer_cols.rename(columns={'state': 'location'})\n",
    "df_insects_fewer_cols = df_insects_fewer_cols.rename(columns={'slope_year': 'slope_arrival_day_year'})\n",
    "df_insects_fewer_cols['log_body_mass_mg'] = np.log(df_insects_fewer_cols['body_mass_mg'])"
   ]
  },
  {
   "cell_type": "code",
   "execution_count": null,
   "metadata": {},
   "outputs": [],
   "source": [
    "df_first_of_species_fewer_cols = df_first_of_species_merged[[\n",
    "    'grid_cell', 'scientific_name', 'common_name', 'body_mass_mg', 'log_body_mass_mg', 'slope_first_of_season']]\n",
    "df_first_of_species_fewer_cols = df_first_of_species_fewer_cols.rename(columns={'grid_cell': 'location'})\n",
    "df_first_of_species_fewer_cols = df_first_of_species_fewer_cols.rename(\n",
    "    columns={'slope_first_of_season': 'slope_arrival_day_year'})"
   ]
  },
  {
   "cell_type": "code",
   "execution_count": null,
   "metadata": {},
   "outputs": [],
   "source": [
    "df_insects_fewer_cols.head(2)"
   ]
  },
  {
   "cell_type": "code",
   "execution_count": null,
   "metadata": {},
   "outputs": [],
   "source": [
    "df_first_of_species_fewer_cols.head(2)"
   ]
  },
  {
   "cell_type": "code",
   "execution_count": null,
   "metadata": {},
   "outputs": [],
   "source": [
    "df_first_of_migratory_o_a_i_insects = df_first_of_species_fewer_cols.append(df_insects_fewer_cols)"
   ]
  },
  {
   "cell_type": "code",
   "execution_count": null,
   "metadata": {},
   "outputs": [],
   "source": [
    "len(df_first_of_migratory_o_a_i_insects)"
   ]
  },
  {
   "cell_type": "code",
   "execution_count": null,
   "metadata": {},
   "outputs": [],
   "source": [
    "assert(len(df_first_of_migratory_o_a_i_insects == len(df_first_of_species_fewer_cols) + len(df_insects_fewer_cols)))"
   ]
  },
  {
   "cell_type": "code",
   "execution_count": null,
   "metadata": {},
   "outputs": [],
   "source": [
    "df_first_of_migratory_o_a_i_insects = df_first_of_migratory_o_a_i_insects.sort_values(by='body_mass_mg', \n",
    "                                                                                      ascending=False)"
   ]
  },
  {
   "cell_type": "code",
   "execution_count": null,
   "metadata": {},
   "outputs": [],
   "source": [
    "df_first_of_migratory_o_a_i_insects.head(2)"
   ]
  },
  {
   "cell_type": "code",
   "execution_count": null,
   "metadata": {},
   "outputs": [],
   "source": [
    "def plot_slopes_across_taxa(df):\n",
    "    \n",
    "    print(len(df['common_name'].unique()))\n",
    "    \n",
    "    color_values = matplotlib.cm.rainbow(np.linspace(0, 1, len(df['common_name'].unique())))\n",
    "    colors = dict(zip(df['common_name'].unique(), color_values))\n",
    "    \n",
    "    body_mass_field_name = 'log_body_mass_mg'\n",
    "#     body_mass_field_name = 'body_mass_mg'\n",
    "\n",
    "    fig, ax = plt.subplots()\n",
    "\n",
    "    for species in list(df['common_name'].unique()):\n",
    "        df_subset = df[df['common_name'] == species]\n",
    "        df_subset.plot(ax=ax, kind='scatter', x=body_mass_field_name, y='slope_arrival_day_year', label=species, \n",
    "                       color=colors[species], figsize=(15,10))\n",
    "    \n",
    "#     plt.legend(loc='best')\n",
    "    plt.legend(loc='center left', bbox_to_anchor=(1, 0.5))\n",
    "    plt.axhline(y=0, color='r', linestyle='-')\n",
    "    plt.xlabel('Natural logarithm of body mass (mg)')\n",
    "    plt.ylabel('Slope of arrival day as a function of year')\n",
    "    plt.show()"
   ]
  },
  {
   "cell_type": "code",
   "execution_count": null,
   "metadata": {},
   "outputs": [],
   "source": [
    "plot_slopes_across_taxa(df_first_of_migratory_o_a_i_insects)"
   ]
  },
  {
   "cell_type": "code",
   "execution_count": null,
   "metadata": {},
   "outputs": [],
   "source": [
    "# os.system(\"printf '\\a'\")"
   ]
  },
  {
   "cell_type": "markdown",
   "metadata": {},
   "source": [
    "Slope?\n",
    "Residuals?"
   ]
  }
 ],
 "metadata": {
  "kernelspec": {
   "display_name": "Python 3",
   "language": "python",
   "name": "python3"
  },
  "language_info": {
   "codemirror_mode": {
    "name": "ipython",
    "version": 3
   },
   "file_extension": ".py",
   "mimetype": "text/x-python",
   "name": "python",
   "nbconvert_exporter": "python",
   "pygments_lexer": "ipython3",
   "version": "3.7.4"
  }
 },
 "nbformat": 4,
 "nbformat_minor": 2
}
