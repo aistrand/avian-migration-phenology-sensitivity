{
 "cells": [
  {
   "cell_type": "markdown",
   "metadata": {},
   "source": [
    "# Description\n",
    "Calculate the proportion of checklists with at least one observation of a given species for each grid cell and year."
   ]
  },
  {
   "cell_type": "code",
   "execution_count": 1,
   "metadata": {},
   "outputs": [],
   "source": [
    "import os\n",
    "import pandas as pd\n",
    "import numpy as np\n",
    "from datetime import date, timedelta\n",
    "import math\n",
    "import matplotlib.pyplot as plt"
   ]
  },
  {
   "cell_type": "code",
   "execution_count": 2,
   "metadata": {},
   "outputs": [
    {
     "data": {
      "text/plain": [
       "'/Users/alvastrand/Documents/OU/Research/notebooks/calculate_arrival_date/archive'"
      ]
     },
     "execution_count": 2,
     "metadata": {},
     "output_type": "execute_result"
    }
   ],
   "source": [
    "os.getcwd()"
   ]
  },
  {
   "cell_type": "code",
   "execution_count": 3,
   "metadata": {},
   "outputs": [],
   "source": [
    "path = '/Users/alvastrand/Documents/OU/Research/data/'\n",
    "os.chdir(path)"
   ]
  },
  {
   "cell_type": "code",
   "execution_count": 4,
   "metadata": {},
   "outputs": [
    {
     "data": {
      "text/plain": [
       "'/Users/alvastrand/Documents/OU/Research/data'"
      ]
     },
     "execution_count": 4,
     "metadata": {},
     "output_type": "execute_result"
    }
   ],
   "source": [
    "os.getcwd()"
   ]
  },
  {
   "cell_type": "code",
   "execution_count": 5,
   "metadata": {},
   "outputs": [],
   "source": [
    "pd.set_option('max_columns', 100)\n",
    "pd.set_option('max_rows', 100)"
   ]
  },
  {
   "cell_type": "code",
   "execution_count": 6,
   "metadata": {},
   "outputs": [],
   "source": [
    "start_date = '0101'\n",
    "end_date = '0731'\n",
    "month = 'Apr'\n",
    "year = '2020'\n",
    "countries_states = 'US_states_east_Mississippi'"
   ]
  },
  {
   "cell_type": "code",
   "execution_count": 7,
   "metadata": {},
   "outputs": [
    {
     "name": "stdout",
     "output_type": "stream",
     "text": [
      "19\n"
     ]
    }
   ],
   "source": [
    "subdir = 'output/'\n",
    "filename = \"obligate_aerial_insectivores_ebird_species_codes.csv\"\n",
    "\n",
    "df = pd.read_csv(subdir + filename)\n",
    "\n",
    "print(len(df))"
   ]
  },
  {
   "cell_type": "code",
   "execution_count": 8,
   "metadata": {},
   "outputs": [
    {
     "data": {
      "text/html": [
       "<div>\n",
       "<style scoped>\n",
       "    .dataframe tbody tr th:only-of-type {\n",
       "        vertical-align: middle;\n",
       "    }\n",
       "\n",
       "    .dataframe tbody tr th {\n",
       "        vertical-align: top;\n",
       "    }\n",
       "\n",
       "    .dataframe thead th {\n",
       "        text-align: right;\n",
       "    }\n",
       "</style>\n",
       "<table border=\"1\" class=\"dataframe\">\n",
       "  <thead>\n",
       "    <tr style=\"text-align: right;\">\n",
       "      <th></th>\n",
       "      <th>scientific_name</th>\n",
       "      <th>common_name</th>\n",
       "      <th>species_code</th>\n",
       "      <th>category</th>\n",
       "      <th>taxon_order</th>\n",
       "      <th>order</th>\n",
       "      <th>family</th>\n",
       "      <th>report_as</th>\n",
       "    </tr>\n",
       "  </thead>\n",
       "  <tbody>\n",
       "    <tr>\n",
       "      <th>0</th>\n",
       "      <td>Antrostomus arizonae</td>\n",
       "      <td>Mexican Whip-poor-will</td>\n",
       "      <td>souwpw1</td>\n",
       "      <td>species</td>\n",
       "      <td>3533</td>\n",
       "      <td>Caprimulgiformes</td>\n",
       "      <td>Caprimulgidae</td>\n",
       "      <td>NaN</td>\n",
       "    </tr>\n",
       "    <tr>\n",
       "      <th>1</th>\n",
       "      <td>Antrostomus carolinensis</td>\n",
       "      <td>Chuck-will's-widow</td>\n",
       "      <td>chwwid</td>\n",
       "      <td>species</td>\n",
       "      <td>3510</td>\n",
       "      <td>Caprimulgiformes</td>\n",
       "      <td>Caprimulgidae</td>\n",
       "      <td>NaN</td>\n",
       "    </tr>\n",
       "  </tbody>\n",
       "</table>\n",
       "</div>"
      ],
      "text/plain": [
       "            scientific_name             common_name species_code category  \\\n",
       "0      Antrostomus arizonae  Mexican Whip-poor-will      souwpw1  species   \n",
       "1  Antrostomus carolinensis      Chuck-will's-widow       chwwid  species   \n",
       "\n",
       "   taxon_order             order         family  report_as  \n",
       "0         3533  Caprimulgiformes  Caprimulgidae        NaN  \n",
       "1         3510  Caprimulgiformes  Caprimulgidae        NaN  "
      ]
     },
     "execution_count": 8,
     "metadata": {},
     "output_type": "execute_result"
    }
   ],
   "source": [
    "df.head(2)"
   ]
  },
  {
   "cell_type": "code",
   "execution_count": 9,
   "metadata": {},
   "outputs": [],
   "source": [
    "def name_of_function(species, start_date, end_date, month, year, *args):\n",
    "    \n",
    "    subdir = 'eBird/ebd_output/'\n",
    "    \n",
    "    if args != ():\n",
    "        \n",
    "        countries_states = args[0]\n",
    "        \n",
    "        filename = 'ebd_' + countries_states + '_' + species + '_' + start_date + '_' + end_date + \\\n",
    "        '_complete_zerofilled_grid_cells_rel' + month + '-' + year + '.csv'\n",
    "        print(filename)\n",
    "    \n",
    "    df = pd.read_csv(subdir + filename)\n",
    "    print('len(df):', len(df))\n",
    "    \n",
    "    df['species_observed_binary_values'] = np.where(df['species_observed'] == True, 1.0, 0.0)\n",
    "    df['year'] = df['observation_date'].astype(str).str[:4]\n",
    "    df['year'] = pd.to_numeric(df['year'])\n",
    "    df['day'] = df['observation_date'].astype(str).str[5:]\n",
    "    \n",
    "    # Filter\n",
    "\n",
    "    df = df[df['year'] != 2020]\n",
    "    print('len(df):', len(df))\n",
    "    \n",
    "#     for start_year in range(2002, 2003):\n",
    "    for start_year in range(2003, 2004):\n",
    "        \n",
    "        print('start_year:', start_year)\n",
    "        \n",
    "        # Filter\n",
    "\n",
    "        df = df[df['year'] >= start_year]\n",
    "        print('len(df):', len(df))\n",
    "\n",
    "        df_cnt = df[['checklist_id', 'grid_cell', 'day', 'observation_date']].groupby(\n",
    "            ['grid_cell', 'day', 'observation_date']).count()\n",
    "        df_cnt = df_cnt.rename(columns={'checklist_id': 'nb_checklists'})\n",
    "        df_cnt = df_cnt.reset_index()\n",
    "        print('len(df_cnt):', len(df_cnt))\n",
    "        print(\"len(df_cnt['grid_cell'].unique()):\", len(df_cnt['grid_cell'].unique()))\n",
    "\n",
    "        start_month = 1\n",
    "        start_day = 1\n",
    "\n",
    "        end_month = 7\n",
    "        end_day = 31\n",
    "\n",
    "        start_date_dt = date(2020, start_month, start_day)\n",
    "        end_date_dt = date(2020, end_month, end_day)\n",
    "\n",
    "        list_dates = [start_date_dt + timedelta(days=i) for i in range((end_date_dt - start_date_dt).days + 1)]\n",
    "        assert(len(list_dates) == 213)\n",
    "\n",
    "        list_days = [i.strftime('%m-%d') for i in list_dates]\n",
    "        assert(len(list_days) == 213)\n",
    "\n",
    "        list_dates = [str(i) + '-' + j for j in list_days for i in range(start_year, 2020)]\n",
    "        assert(len(list_dates) == len(range(start_year, 2020)) * 213)\n",
    "\n",
    "        list_dates_repeated = list_dates * len(df_cnt['grid_cell'].unique())\n",
    "        assert(len(list_dates_repeated) == len(df_cnt['grid_cell'].unique()) * len(list_dates))\n",
    "\n",
    "        list_grid_cells_repeated = list(df_cnt['grid_cell'].unique()) * len(list_dates)\n",
    "        list_grid_cells_repeated = sorted(list_grid_cells_repeated)\n",
    "        assert(len(list_grid_cells_repeated) == len(list_dates_repeated))\n",
    "\n",
    "        df_grid_cells_dates = pd.DataFrame({'grid_cell': list_grid_cells_repeated, \n",
    "                                            'observation_date': list_dates_repeated})\n",
    "        df_grid_cells_dates['day'] = df_grid_cells_dates['observation_date'].astype(str).str[5:]\n",
    "        df_grid_cells_dates = df_grid_cells_dates[['grid_cell', 'day', 'observation_date']]\n",
    "        assert(len(df_grid_cells_dates) == len(list_grid_cells_repeated))\n",
    "\n",
    "        df_cnt_grid_cells_dates = df_grid_cells_dates.merge(\n",
    "            df_cnt, how='left', on=['grid_cell', 'day', 'observation_date'])\n",
    "        df_cnt_grid_cells_dates['nb_checklists'] = df_cnt_grid_cells_dates['nb_checklists'].fillna(0)\n",
    "        assert(len(df_cnt_grid_cells_dates) == len(df_grid_cells_dates))\n",
    "\n",
    "        df_min_cnt_grid_cells_dates = df_cnt_grid_cells_dates[['grid_cell', 'day', 'nb_checklists']].groupby(\n",
    "            ['grid_cell', 'day']).min()\n",
    "        df_min_cnt_grid_cells_dates = df_min_cnt_grid_cells_dates.rename(\n",
    "            columns={'nb_checklists': 'min_nb_checklists'})\n",
    "        df_min_cnt_grid_cells_dates = df_min_cnt_grid_cells_dates.reset_index()\n",
    "        df_min_cnt_grid_cells_dates['min_nb_checklists'] = \\\n",
    "        df_min_cnt_grid_cells_dates['min_nb_checklists'].astype(int)\n",
    "        assert(len(df_min_cnt_grid_cells_dates) == len(df_cnt['grid_cell'].unique()) * len(list_days))\n",
    "\n",
    "        df_cnt_zero = df_min_cnt_grid_cells_dates[['grid_cell', 'min_nb_checklists']].groupby(\n",
    "            ['grid_cell']).agg(lambda x: x.eq(0).sum())\n",
    "        df_cnt_zero = df_cnt_zero.rename(columns={'min_nb_checklists': 'cnt_zero'})\n",
    "        df_cnt_zero = df_cnt_zero.reset_index()\n",
    "        assert(len(df_cnt_zero) == len(df_cnt['grid_cell'].unique()))\n",
    "        \n",
    "        threshold = 212/2\n",
    "        \n",
    "        # Filter\n",
    "        \n",
    "        list_grid_cells = list(df_cnt_zero[df_cnt_zero['cnt_zero'] < threshold]['grid_cell'])\n",
    "        print('len(list_grid_cells):', len(list_grid_cells))\n",
    "#         print(len(list_grid_cells)/len(df_cnt['grid_cell'].unique()))\n",
    "        \n",
    "        df_dates = pd.DataFrame({'observation_date': list_dates})\n",
    "        df_dates['day'] = df_dates['observation_date'].astype(str).str[5:]\n",
    "        df_dates = df_dates[['day', 'observation_date']]\n",
    "        assert(len(df_dates) == len(range(start_year, 2020)) * 213)\n",
    "        \n",
    "        df_sampled = pd.DataFrame()\n",
    "        \n",
    "#         for i in range(len(list_grid_cells)):\n",
    "\n",
    "        i = 0\n",
    "            \n",
    "        print('i =', i)\n",
    "\n",
    "        grid_cell_threshold = list_grid_cells[i]\n",
    "\n",
    "        df_grid_cell = df[df['grid_cell'] == grid_cell_threshold]\n",
    "        print('len(df_grid_cell):', len(df_grid_cell))\n",
    "\n",
    "        df_min_cnt_grid_cell = df_min_cnt_grid_cells_dates[\n",
    "            df_min_cnt_grid_cells_dates['grid_cell'] == grid_cell_threshold]\n",
    "        df_min_cnt_grid_cell = df_min_cnt_grid_cell.drop(columns=['grid_cell'])\n",
    "        assert(len(df_min_cnt_grid_cell) == 213)\n",
    "\n",
    "        df_min_cnt_greater_than_grid_cell = df_min_cnt_grid_cell[df_min_cnt_grid_cell['min_nb_checklists'] > 0]\n",
    "\n",
    "        len_df_min_cnt_greater_than_grid_cell = len(df_min_cnt_greater_than_grid_cell)\n",
    "\n",
    "        print('len(df_min_cnt_greater_than_grid_cell) =', len_df_min_cnt_greater_than_grid_cell)\n",
    "\n",
    "        df_min_cnt_greater_than_grid_cell = df_dates.merge(df_min_cnt_greater_than_grid_cell, on=['day'])\n",
    "        assert(len(df_min_cnt_greater_than_grid_cell) == len_df_min_cnt_greater_than_grid_cell * \n",
    "               len(range(start_year, 2020)))\n",
    "\n",
    "        list_dates_grid_cell = list(df_min_cnt_greater_than_grid_cell['observation_date'])\n",
    "        list_min_cnt_grid_cell = list(df_min_cnt_greater_than_grid_cell['min_nb_checklists'])\n",
    "            \n",
    "    return df, df_cnt, df_cnt_grid_cells_dates, df_min_cnt_grid_cells_dates, df_cnt_zero, df_dates, \\\n",
    "df_min_cnt_grid_cell, df_min_cnt_greater_than_grid_cell\n",
    "            \n",
    "#             for j in range(len(list_dates_grid_cell)):\n",
    "\n",
    "#                 df_grid_cell_date = df_grid_cell[df_grid_cell['observation_date'] == list_dates_grid_cell[j]]\n",
    "#                 df_grid_cell_date = df_grid_cell_date.sample(list_min_cnt_grid_cell[j], random_state=1)\n",
    "#                 df_sampled = df_sampled.append(df_grid_cell_date)\n",
    "            \n",
    "#         print('len(df_sampled):', len(df_sampled))\n",
    "                \n",
    "#         # Calculate the number of checklists for each grid cell and date\n",
    "#         df_cnt_sampled = df_sampled[['checklist_id', 'grid_cell', 'observation_date']].groupby(\n",
    "#             ['grid_cell', 'observation_date']).count()\n",
    "#         df_cnt_sampled = df_cnt_sampled.rename(columns={'checklist_id': 'nb_checklists'})\n",
    "#         print(len(df_cnt_sampled))\n",
    "\n",
    "#         # Calculate the number of checklists with at least one observation of the species of interest for each grid \n",
    "#         # cell and date\n",
    "#         df_sum_sampled = df_sampled[['species_observed_binary_values', 'grid_cell', 'observation_date']].groupby([\n",
    "#             'grid_cell', 'observation_date']).sum()\n",
    "#         df_sum_sampled = df_sum_sampled.rename(columns={'species_observed_binary_values': 'nb_checklists_species'})\n",
    "#         assert(len(df_sum_sampled) == len(df_cnt_sampled))\n",
    "\n",
    "#         df_grp_sampled = df_cnt_sampled.merge(df_sum_sampled, left_index=True, right_index=True)\n",
    "#         # Calculate the proportion of checklists with at least one observation of the species of interest for each \n",
    "#         # grid cell and date\n",
    "#         df_grp_sampled['prop'] = df_grp_sampled['nb_checklists_species']/df_grp_sampled['nb_checklists']\n",
    "#         df_grp_sampled = df_grp_sampled.reset_index()\n",
    "#     #     df_grp_sampled['observation_date_dt'] = pd.to_datetime(df_grp_sampled['observation_date'])\n",
    "#         df_grp_sampled['year'] = df_grp_sampled['observation_date'].astype(str).str[:4]\n",
    "#         assert(len(df_grp_sampled) == len(df_cnt_sampled))\n",
    "\n",
    "#         df_grid_cells_threshold = df[df['grid_cell'].isin(list_grid_cells)]\n",
    "#         print('len(df_grid_cells_threshold):', len(df_grid_cells_threshold))\n",
    "\n",
    "#         # Calculate the number of checklists for each grid cell and date\n",
    "#         df_cnt_not_sampled = df_grid_cells_threshold[['checklist_id', 'grid_cell', 'observation_date']].groupby(\n",
    "#             ['grid_cell', 'observation_date']).count()\n",
    "#         df_cnt_not_sampled = df_cnt_not_sampled.rename(columns={'checklist_id': 'nb_checklists'})\n",
    "#         print(len(df_cnt_not_sampled))\n",
    "\n",
    "#         # Calculate the number of checklists with at least one observation of the species of interest for each grid \n",
    "#         # cell and date\n",
    "#         df_sum_not_sampled = df_grid_cells_threshold[\n",
    "#             ['species_observed_binary_values', 'grid_cell', 'observation_date']].groupby(\n",
    "#             ['grid_cell', 'observation_date']).sum()\n",
    "#         df_sum_not_sampled = df_sum_not_sampled.rename(\n",
    "#             columns={'species_observed_binary_values': 'nb_checklists_species'})\n",
    "#         assert(len(df_sum_not_sampled) == len(df_cnt_not_sampled))\n",
    "\n",
    "#         df_grp_not_sampled = df_cnt_not_sampled.merge(df_sum_not_sampled, left_index=True, right_index=True)\n",
    "#         # Calculate the proportion of checklists with at least one observation of the species of interest for each \n",
    "#         # grid cell and date\n",
    "#         df_grp_not_sampled['prop'] = df_grp_not_sampled['nb_checklists_species']/df_grp_not_sampled['nb_checklists']\n",
    "#         df_grp_not_sampled = df_grp_not_sampled.reset_index()\n",
    "#         df_grp_not_sampled['year'] = df_grp_not_sampled['observation_date'].astype(str).str[:4]\n",
    "#         assert(len(df_grp_not_sampled) == len(df_cnt_not_sampled))\n",
    "        \n",
    "#         df_t_days = pd.DataFrame({'t': list(range(1, 214)), 'day': list_days})\n",
    "#         assert(len(df_t_days) == 213)\n",
    "\n",
    "#         df_t_days_dates_years = df_t_days.merge(df_dates, on=['day'])\n",
    "#         df_t_days_dates_years['year'] = df_t_days_dates_years['observation_date'].astype(str).str[:4]\n",
    "#         assert(len(df_t_days_dates_years) == len(range(start_year, 2020)) * 213)\n",
    "\n",
    "#         list_years_repeated = list(df_t_days_dates_years['year']) * len(list_grid_cells)\n",
    "#         assert(len(list_years_repeated) == len(df_t_days_dates_years) * len(list_grid_cells))\n",
    "\n",
    "#         list_t_repeated = list(df_t_days_dates_years['t']) * len(list_grid_cells)\n",
    "#         assert(len(list_t_repeated) == len(df_t_days_dates_years) * len(list_grid_cells))\n",
    "\n",
    "#         list_dates_threshold_repeated = list(df_t_days_dates_years['observation_date']) * len(list_grid_cells)\n",
    "#         assert(len(list_dates_threshold_repeated) == len(df_t_days_dates_years) * len(list_grid_cells))\n",
    "\n",
    "#         list_grid_cells_threshold_repeated = list_grid_cells * len(df_t_days_dates_years)\n",
    "#         list_grid_cells_threshold_repeated = sorted(list_grid_cells_threshold_repeated)\n",
    "#         assert(len(list_grid_cells_threshold_repeated) == len(df_t_days_dates_years) * len(list_grid_cells))\n",
    "        \n",
    "#         df_t_dates_years = pd.DataFrame({'grid_cell': list_grid_cells_threshold_repeated, \n",
    "#                                          'year': list_years_repeated, 't': list_t_repeated, \n",
    "#                                          'observation_date': list_dates_threshold_repeated})\n",
    "#         assert(len(df_t_dates_years) == len(list_grid_cells) * len(range(start_year, 2020)) * 213)\n",
    "        \n",
    "#         df_grp_sampled_dates = df_t_dates_years.merge(\n",
    "#             df_grp_sampled, how='left', on=['grid_cell', 'observation_date', 'year'])\n",
    "#         df_grp_sampled_dates = df_grp_sampled_dates[\n",
    "#             ['grid_cell', 'year', 't', 'observation_date', 'nb_checklists', 'nb_checklists_species', 'prop']]\n",
    "#         df_grp_sampled_dates = df_grp_sampled_dates.sort_values(by=['grid_cell', 'year', 't'])\n",
    "        \n",
    "#         # Perform arcsine transformation on the proportions\n",
    "#         df_grp_sampled_dates['prop_arcsine'] = df_grp_sampled_dates['prop'].apply(lambda x: np.arcsin(math.sqrt(x)))\n",
    "#         # ?\n",
    "        \n",
    "#         assert(len(df_grp_sampled_dates) == len(list_grid_cells) * len(range(start_year, 2020)) * 213)\n",
    "        \n",
    "#         df_grp_not_sampled_dates = df_t_dates_years.merge(\n",
    "#             df_grp_not_sampled, how='left', on=['grid_cell', 'observation_date', 'year'])\n",
    "#         df_grp_not_sampled_dates = df_grp_not_sampled_dates[\n",
    "#             ['grid_cell', 'year', 't', 'observation_date', 'nb_checklists', 'nb_checklists_species', 'prop']]\n",
    "#         df_grp_not_sampled_dates = df_grp_not_sampled_dates.sort_values(by=['grid_cell', 'year', 't'])\n",
    "        \n",
    "#         # Perform arcsine transformation on the proportions\n",
    "#         df_grp_not_sampled_dates['prop_arcsine'] = df_grp_not_sampled_dates['prop'].apply(\n",
    "#             lambda x: np.arcsin(math.sqrt(x)))\n",
    "#         # ?\n",
    "        \n",
    "#         assert(len(df_grp_not_sampled_dates) == len(list_grid_cells) * len(range(start_year, 2020)) * 213)\n",
    "        \n",
    "#         df_sum_prop_sampled = df_grp_sampled_dates[['grid_cell', 'year', 'prop']].groupby(\n",
    "#             ['grid_cell', 'year']).sum()\n",
    "#         df_sum_prop_sampled = df_sum_prop_sampled.reset_index()\n",
    "#         df_sum_prop_sampled = df_sum_prop_sampled.rename(columns={'prop': 'sum_prop'})\n",
    "#         assert(len(df_sum_prop_sampled) == len(list_grid_cells) * len(range(start_year, 2020)))\n",
    "        \n",
    "#         df_sum_prop_not_sampled = df_grp_not_sampled_dates[['grid_cell', 'year', 'prop']].groupby(\n",
    "#             ['grid_cell', 'year']).sum()\n",
    "#         df_sum_prop_not_sampled = df_sum_prop_not_sampled.reset_index()\n",
    "#         df_sum_prop_not_sampled = df_sum_prop_not_sampled.rename(columns={'prop': 'sum_prop'})\n",
    "#         assert(len(df_sum_prop_not_sampled) == len(list_grid_cells) * len(range(start_year, 2020)))\n",
    "        \n",
    "#         assert(len(df_sum_prop_sampled[df_sum_prop_sampled['sum_prop'] == 0]) == 0)\n",
    "#         assert(len(df_sum_prop_not_sampled[df_sum_prop_not_sampled['sum_prop'] == 0]) == 0)\n",
    "    \n",
    "#         if args != ():\n",
    "            \n",
    "#             end_year = 2019\n",
    "\n",
    "#             countries_states = args[0]\n",
    "\n",
    "#             filename_sampled = 'ebd_' + countries_states + '_' + species + '_' + start_date + '_' + end_date + \\\n",
    "#             '_complete_zerofilled_grid_cells_proportions_' + str(start_year) + '_' + str(end_year) + \\\n",
    "#             '_sampled_rel' + month + '-' + year + '.csv'\n",
    "#             print(filename_sampled)\n",
    "            \n",
    "#             filename_not_sampled = 'ebd_' + countries_states + '_' + species + '_' + start_date + '_' + end_date + \\\n",
    "#             '_complete_zerofilled_grid_cells_proportions_' + str(start_year) + '_' + str(end_year) + \\\n",
    "#             '_not_sampled_rel' + month + '-' + year + '.csv'\n",
    "#             print(filename_sampled)\n",
    "\n",
    "#         df_grp_sampled_dates.to_csv(subdir + filename_sampled, index=False)\n",
    "#         df_grp_not_sampled_dates.to_csv(subdir + filename_not_sampled, index=False)\n",
    "\n",
    "#     return df, df_cnt, df_cnt_grid_cells_dates, df_min_cnt_grid_cells_dates, df_cnt_zero, df_dates, \\\n",
    "# df_min_cnt_grid_cell, df_min_cnt_greater_than_grid_cell, df_grp_sampled, df_grp_not_sampled, df_t_days, \\\n",
    "# df_t_days_dates_years, df_t_dates_years, df_grp_sampled_dates, df_grp_not_sampled_dates, df_sum_prop_sampled, \\\n",
    "# df_sum_prop_not_sampled"
   ]
  },
  {
   "cell_type": "code",
   "execution_count": 10,
   "metadata": {
    "scrolled": true
   },
   "outputs": [
    {
     "name": "stdout",
     "output_type": "stream",
     "text": [
      "ebd_US_states_east_Mississippi_treswa_0101_0731_complete_zerofilled_grid_cells_relApr-2020.csv\n"
     ]
    },
    {
     "name": "stderr",
     "output_type": "stream",
     "text": [
      "/Users/alvastrand/opt/anaconda3/lib/python3.7/site-packages/IPython/core/interactiveshell.py:3263: DtypeWarning: Columns (11,29) have mixed types.Specify dtype option on import or set low_memory=False.\n",
      "  if (await self.run_code(code, result,  async_=asy)):\n"
     ]
    },
    {
     "name": "stdout",
     "output_type": "stream",
     "text": [
      "len(df): 8351771\n",
      "len(df): 7227884\n",
      "start_year: 2003\n",
      "len(df): 7148340\n",
      "len(df_cnt): 226213\n",
      "len(df_cnt['grid_cell'].unique()): 108\n",
      "len(list_grid_cells): 6\n",
      "i = 0\n",
      "len(df_grid_cell): 149274\n",
      "len(df_min_cnt_greater_than_grid_cell) = 174\n"
     ]
    }
   ],
   "source": [
    "species = 'treswa'\n",
    "\n",
    "df_grid_cells, df_cnt, df_cnt_grid_cells_dates, df_min_cnt_grid_cells_dates, df_cnt_zero, df_dates, \\\n",
    "df_min_cnt_grid_cell, df_min_cnt_greater_than_grid_cell = name_of_function(\n",
    "    species, start_date, end_date, month, year, countries_states)\n",
    "\n",
    "# df_grid_cells, df_cnt, df_cnt_grid_cells_dates, df_min_cnt_grid_cells_dates, df_cnt_zero, df_dates, \\\n",
    "# df_min_cnt_grid_cell, df_min_cnt_greater_than_grid_cell, df_grp_sampled, df_grp_not_sampled, df_t_days, \\\n",
    "# df_t_days_dates_years, df_t_dates_years, df_grp_sampled_dates, df_grp_not_sampled_dates, df_sum_prop_sampled, \\\n",
    "# df_sum_prop_not_sampled = name_of_function(species, start_date, end_date, month, year, countries_states)"
   ]
  },
  {
   "cell_type": "code",
   "execution_count": 11,
   "metadata": {},
   "outputs": [
    {
     "data": {
      "text/html": [
       "<div>\n",
       "<style scoped>\n",
       "    .dataframe tbody tr th:only-of-type {\n",
       "        vertical-align: middle;\n",
       "    }\n",
       "\n",
       "    .dataframe tbody tr th {\n",
       "        vertical-align: top;\n",
       "    }\n",
       "\n",
       "    .dataframe thead th {\n",
       "        text-align: right;\n",
       "    }\n",
       "</style>\n",
       "<table border=\"1\" class=\"dataframe\">\n",
       "  <thead>\n",
       "    <tr style=\"text-align: right;\">\n",
       "      <th></th>\n",
       "      <th>checklist_id</th>\n",
       "      <th>last_edited_date</th>\n",
       "      <th>country</th>\n",
       "      <th>country_code</th>\n",
       "      <th>state</th>\n",
       "      <th>state_code</th>\n",
       "      <th>county</th>\n",
       "      <th>county_code</th>\n",
       "      <th>iba_code</th>\n",
       "      <th>bcr_code</th>\n",
       "      <th>usfws_code</th>\n",
       "      <th>atlas_block</th>\n",
       "      <th>locality</th>\n",
       "      <th>locality_id</th>\n",
       "      <th>locality_type</th>\n",
       "      <th>latitude</th>\n",
       "      <th>longitude</th>\n",
       "      <th>observation_date</th>\n",
       "      <th>time_observations_started</th>\n",
       "      <th>observer_id</th>\n",
       "      <th>sampling_event_identifier</th>\n",
       "      <th>protocol_type</th>\n",
       "      <th>protocol_code</th>\n",
       "      <th>project_code</th>\n",
       "      <th>duration_minutes</th>\n",
       "      <th>effort_distance_km</th>\n",
       "      <th>effort_area_ha</th>\n",
       "      <th>number_observers</th>\n",
       "      <th>all_species_reported</th>\n",
       "      <th>group_identifier</th>\n",
       "      <th>trip_comments</th>\n",
       "      <th>scientific_name</th>\n",
       "      <th>observation_count</th>\n",
       "      <th>species_observed</th>\n",
       "      <th>grid_cell</th>\n",
       "      <th>species_observed_binary_values</th>\n",
       "      <th>year</th>\n",
       "      <th>day</th>\n",
       "    </tr>\n",
       "  </thead>\n",
       "  <tbody>\n",
       "    <tr>\n",
       "      <th>1</th>\n",
       "      <td>S1018111</td>\n",
       "      <td>2013-09-23 08:41:34</td>\n",
       "      <td>United States</td>\n",
       "      <td>US</td>\n",
       "      <td>Ohio</td>\n",
       "      <td>US-OH</td>\n",
       "      <td>Portage</td>\n",
       "      <td>US-OH-133</td>\n",
       "      <td>NaN</td>\n",
       "      <td>13.0</td>\n",
       "      <td>NaN</td>\n",
       "      <td>NaN</td>\n",
       "      <td>Mogadore Res - Sunnybrook Rd</td>\n",
       "      <td>L140837</td>\n",
       "      <td>P</td>\n",
       "      <td>41.063328</td>\n",
       "      <td>-81.373825</td>\n",
       "      <td>2003-01-04</td>\n",
       "      <td>14:15:00</td>\n",
       "      <td>obs18443</td>\n",
       "      <td>S1018111</td>\n",
       "      <td>Traveling</td>\n",
       "      <td>P22</td>\n",
       "      <td>EBIRD</td>\n",
       "      <td>30</td>\n",
       "      <td>0.402</td>\n",
       "      <td>NaN</td>\n",
       "      <td>1</td>\n",
       "      <td>True</td>\n",
       "      <td>NaN</td>\n",
       "      <td>NaN</td>\n",
       "      <td>Tachycineta bicolor</td>\n",
       "      <td>0</td>\n",
       "      <td>False</td>\n",
       "      <td>131</td>\n",
       "      <td>0.0</td>\n",
       "      <td>2003</td>\n",
       "      <td>01-04</td>\n",
       "    </tr>\n",
       "    <tr>\n",
       "      <th>2</th>\n",
       "      <td>S1018363</td>\n",
       "      <td>2016-06-26 17:20:27</td>\n",
       "      <td>United States</td>\n",
       "      <td>US</td>\n",
       "      <td>Illinois</td>\n",
       "      <td>US-IL</td>\n",
       "      <td>Lake</td>\n",
       "      <td>US-IL-097</td>\n",
       "      <td>NaN</td>\n",
       "      <td>22.0</td>\n",
       "      <td>NaN</td>\n",
       "      <td>NaN</td>\n",
       "      <td>Home</td>\n",
       "      <td>L132381</td>\n",
       "      <td>P</td>\n",
       "      <td>42.311466</td>\n",
       "      <td>-88.191399</td>\n",
       "      <td>2003-01-05</td>\n",
       "      <td>08:30:00</td>\n",
       "      <td>obs19231</td>\n",
       "      <td>S1018363</td>\n",
       "      <td>Stationary</td>\n",
       "      <td>P21</td>\n",
       "      <td>EBIRD</td>\n",
       "      <td>300</td>\n",
       "      <td>NaN</td>\n",
       "      <td>NaN</td>\n",
       "      <td>1</td>\n",
       "      <td>True</td>\n",
       "      <td>NaN</td>\n",
       "      <td>Snow fell last night, more today. A raw wet co...</td>\n",
       "      <td>Tachycineta bicolor</td>\n",
       "      <td>0</td>\n",
       "      <td>False</td>\n",
       "      <td>128</td>\n",
       "      <td>0.0</td>\n",
       "      <td>2003</td>\n",
       "      <td>01-05</td>\n",
       "    </tr>\n",
       "  </tbody>\n",
       "</table>\n",
       "</div>"
      ],
      "text/plain": [
       "  checklist_id     last_edited_date        country country_code     state  \\\n",
       "1     S1018111  2013-09-23 08:41:34  United States           US      Ohio   \n",
       "2     S1018363  2016-06-26 17:20:27  United States           US  Illinois   \n",
       "\n",
       "  state_code   county county_code iba_code  bcr_code usfws_code atlas_block  \\\n",
       "1      US-OH  Portage   US-OH-133      NaN      13.0        NaN         NaN   \n",
       "2      US-IL     Lake   US-IL-097      NaN      22.0        NaN         NaN   \n",
       "\n",
       "                       locality locality_id locality_type   latitude  \\\n",
       "1  Mogadore Res - Sunnybrook Rd     L140837             P  41.063328   \n",
       "2                          Home     L132381             P  42.311466   \n",
       "\n",
       "   longitude observation_date time_observations_started observer_id  \\\n",
       "1 -81.373825       2003-01-04                  14:15:00    obs18443   \n",
       "2 -88.191399       2003-01-05                  08:30:00    obs19231   \n",
       "\n",
       "  sampling_event_identifier protocol_type protocol_code project_code  \\\n",
       "1                  S1018111     Traveling           P22        EBIRD   \n",
       "2                  S1018363    Stationary           P21        EBIRD   \n",
       "\n",
       "   duration_minutes  effort_distance_km  effort_area_ha  number_observers  \\\n",
       "1                30               0.402             NaN                 1   \n",
       "2               300                 NaN             NaN                 1   \n",
       "\n",
       "   all_species_reported group_identifier  \\\n",
       "1                  True              NaN   \n",
       "2                  True              NaN   \n",
       "\n",
       "                                       trip_comments      scientific_name  \\\n",
       "1                                                NaN  Tachycineta bicolor   \n",
       "2  Snow fell last night, more today. A raw wet co...  Tachycineta bicolor   \n",
       "\n",
       "  observation_count  species_observed  grid_cell  \\\n",
       "1                 0             False        131   \n",
       "2                 0             False        128   \n",
       "\n",
       "   species_observed_binary_values  year    day  \n",
       "1                             0.0  2003  01-04  \n",
       "2                             0.0  2003  01-05  "
      ]
     },
     "execution_count": 11,
     "metadata": {},
     "output_type": "execute_result"
    }
   ],
   "source": [
    "df_grid_cells.head(2)"
   ]
  },
  {
   "cell_type": "code",
   "execution_count": 12,
   "metadata": {},
   "outputs": [
    {
     "data": {
      "text/html": [
       "<div>\n",
       "<style scoped>\n",
       "    .dataframe tbody tr th:only-of-type {\n",
       "        vertical-align: middle;\n",
       "    }\n",
       "\n",
       "    .dataframe tbody tr th {\n",
       "        vertical-align: top;\n",
       "    }\n",
       "\n",
       "    .dataframe thead th {\n",
       "        text-align: right;\n",
       "    }\n",
       "</style>\n",
       "<table border=\"1\" class=\"dataframe\">\n",
       "  <thead>\n",
       "    <tr style=\"text-align: right;\">\n",
       "      <th></th>\n",
       "      <th>grid_cell</th>\n",
       "      <th>day</th>\n",
       "      <th>observation_date</th>\n",
       "      <th>nb_checklists</th>\n",
       "    </tr>\n",
       "  </thead>\n",
       "  <tbody>\n",
       "    <tr>\n",
       "      <th>0</th>\n",
       "      <td>4</td>\n",
       "      <td>01-26</td>\n",
       "      <td>2014-01-26</td>\n",
       "      <td>1</td>\n",
       "    </tr>\n",
       "    <tr>\n",
       "      <th>1</th>\n",
       "      <td>4</td>\n",
       "      <td>02-02</td>\n",
       "      <td>2013-02-02</td>\n",
       "      <td>1</td>\n",
       "    </tr>\n",
       "  </tbody>\n",
       "</table>\n",
       "</div>"
      ],
      "text/plain": [
       "   grid_cell    day observation_date  nb_checklists\n",
       "0          4  01-26       2014-01-26              1\n",
       "1          4  02-02       2013-02-02              1"
      ]
     },
     "execution_count": 12,
     "metadata": {},
     "output_type": "execute_result"
    }
   ],
   "source": [
    "df_cnt.head(2)"
   ]
  },
  {
   "cell_type": "code",
   "execution_count": 13,
   "metadata": {
    "scrolled": true
   },
   "outputs": [
    {
     "data": {
      "text/html": [
       "<div>\n",
       "<style scoped>\n",
       "    .dataframe tbody tr th:only-of-type {\n",
       "        vertical-align: middle;\n",
       "    }\n",
       "\n",
       "    .dataframe tbody tr th {\n",
       "        vertical-align: top;\n",
       "    }\n",
       "\n",
       "    .dataframe thead th {\n",
       "        text-align: right;\n",
       "    }\n",
       "</style>\n",
       "<table border=\"1\" class=\"dataframe\">\n",
       "  <thead>\n",
       "    <tr style=\"text-align: right;\">\n",
       "      <th></th>\n",
       "      <th>grid_cell</th>\n",
       "      <th>day</th>\n",
       "      <th>observation_date</th>\n",
       "      <th>nb_checklists</th>\n",
       "    </tr>\n",
       "  </thead>\n",
       "  <tbody>\n",
       "    <tr>\n",
       "      <th>0</th>\n",
       "      <td>4</td>\n",
       "      <td>01-01</td>\n",
       "      <td>2003-01-01</td>\n",
       "      <td>0.0</td>\n",
       "    </tr>\n",
       "    <tr>\n",
       "      <th>1</th>\n",
       "      <td>4</td>\n",
       "      <td>01-01</td>\n",
       "      <td>2004-01-01</td>\n",
       "      <td>0.0</td>\n",
       "    </tr>\n",
       "  </tbody>\n",
       "</table>\n",
       "</div>"
      ],
      "text/plain": [
       "   grid_cell    day observation_date  nb_checklists\n",
       "0          4  01-01       2003-01-01            0.0\n",
       "1          4  01-01       2004-01-01            0.0"
      ]
     },
     "execution_count": 13,
     "metadata": {},
     "output_type": "execute_result"
    }
   ],
   "source": [
    "df_cnt_grid_cells_dates.head(2)"
   ]
  },
  {
   "cell_type": "code",
   "execution_count": 14,
   "metadata": {
    "scrolled": true
   },
   "outputs": [
    {
     "data": {
      "text/html": [
       "<div>\n",
       "<style scoped>\n",
       "    .dataframe tbody tr th:only-of-type {\n",
       "        vertical-align: middle;\n",
       "    }\n",
       "\n",
       "    .dataframe tbody tr th {\n",
       "        vertical-align: top;\n",
       "    }\n",
       "\n",
       "    .dataframe thead th {\n",
       "        text-align: right;\n",
       "    }\n",
       "</style>\n",
       "<table border=\"1\" class=\"dataframe\">\n",
       "  <thead>\n",
       "    <tr style=\"text-align: right;\">\n",
       "      <th></th>\n",
       "      <th>grid_cell</th>\n",
       "      <th>day</th>\n",
       "      <th>min_nb_checklists</th>\n",
       "    </tr>\n",
       "  </thead>\n",
       "  <tbody>\n",
       "    <tr>\n",
       "      <th>0</th>\n",
       "      <td>4</td>\n",
       "      <td>01-01</td>\n",
       "      <td>0</td>\n",
       "    </tr>\n",
       "    <tr>\n",
       "      <th>1</th>\n",
       "      <td>4</td>\n",
       "      <td>01-02</td>\n",
       "      <td>0</td>\n",
       "    </tr>\n",
       "  </tbody>\n",
       "</table>\n",
       "</div>"
      ],
      "text/plain": [
       "   grid_cell    day  min_nb_checklists\n",
       "0          4  01-01                  0\n",
       "1          4  01-02                  0"
      ]
     },
     "execution_count": 14,
     "metadata": {},
     "output_type": "execute_result"
    }
   ],
   "source": [
    "df_min_cnt_grid_cells_dates.head(2)"
   ]
  },
  {
   "cell_type": "code",
   "execution_count": 15,
   "metadata": {},
   "outputs": [
    {
     "data": {
      "text/html": [
       "<div>\n",
       "<style scoped>\n",
       "    .dataframe tbody tr th:only-of-type {\n",
       "        vertical-align: middle;\n",
       "    }\n",
       "\n",
       "    .dataframe tbody tr th {\n",
       "        vertical-align: top;\n",
       "    }\n",
       "\n",
       "    .dataframe thead th {\n",
       "        text-align: right;\n",
       "    }\n",
       "</style>\n",
       "<table border=\"1\" class=\"dataframe\">\n",
       "  <thead>\n",
       "    <tr style=\"text-align: right;\">\n",
       "      <th></th>\n",
       "      <th>grid_cell</th>\n",
       "      <th>cnt_zero</th>\n",
       "    </tr>\n",
       "  </thead>\n",
       "  <tbody>\n",
       "    <tr>\n",
       "      <th>0</th>\n",
       "      <td>4</td>\n",
       "      <td>213</td>\n",
       "    </tr>\n",
       "    <tr>\n",
       "      <th>1</th>\n",
       "      <td>5</td>\n",
       "      <td>213</td>\n",
       "    </tr>\n",
       "  </tbody>\n",
       "</table>\n",
       "</div>"
      ],
      "text/plain": [
       "   grid_cell  cnt_zero\n",
       "0          4       213\n",
       "1          5       213"
      ]
     },
     "execution_count": 15,
     "metadata": {},
     "output_type": "execute_result"
    }
   ],
   "source": [
    "df_cnt_zero.head(2)"
   ]
  },
  {
   "cell_type": "code",
   "execution_count": 16,
   "metadata": {},
   "outputs": [
    {
     "data": {
      "text/html": [
       "<div>\n",
       "<style scoped>\n",
       "    .dataframe tbody tr th:only-of-type {\n",
       "        vertical-align: middle;\n",
       "    }\n",
       "\n",
       "    .dataframe tbody tr th {\n",
       "        vertical-align: top;\n",
       "    }\n",
       "\n",
       "    .dataframe thead th {\n",
       "        text-align: right;\n",
       "    }\n",
       "</style>\n",
       "<table border=\"1\" class=\"dataframe\">\n",
       "  <thead>\n",
       "    <tr style=\"text-align: right;\">\n",
       "      <th></th>\n",
       "      <th>day</th>\n",
       "      <th>observation_date</th>\n",
       "    </tr>\n",
       "  </thead>\n",
       "  <tbody>\n",
       "    <tr>\n",
       "      <th>0</th>\n",
       "      <td>01-01</td>\n",
       "      <td>2003-01-01</td>\n",
       "    </tr>\n",
       "    <tr>\n",
       "      <th>1</th>\n",
       "      <td>01-01</td>\n",
       "      <td>2004-01-01</td>\n",
       "    </tr>\n",
       "  </tbody>\n",
       "</table>\n",
       "</div>"
      ],
      "text/plain": [
       "     day observation_date\n",
       "0  01-01       2003-01-01\n",
       "1  01-01       2004-01-01"
      ]
     },
     "execution_count": 16,
     "metadata": {},
     "output_type": "execute_result"
    }
   ],
   "source": [
    "df_dates.head(2)"
   ]
  },
  {
   "cell_type": "code",
   "execution_count": 17,
   "metadata": {},
   "outputs": [
    {
     "data": {
      "text/html": [
       "<div>\n",
       "<style scoped>\n",
       "    .dataframe tbody tr th:only-of-type {\n",
       "        vertical-align: middle;\n",
       "    }\n",
       "\n",
       "    .dataframe tbody tr th {\n",
       "        vertical-align: top;\n",
       "    }\n",
       "\n",
       "    .dataframe thead th {\n",
       "        text-align: right;\n",
       "    }\n",
       "</style>\n",
       "<table border=\"1\" class=\"dataframe\">\n",
       "  <thead>\n",
       "    <tr style=\"text-align: right;\">\n",
       "      <th></th>\n",
       "      <th>day</th>\n",
       "      <th>min_nb_checklists</th>\n",
       "    </tr>\n",
       "  </thead>\n",
       "  <tbody>\n",
       "    <tr>\n",
       "      <th>6177</th>\n",
       "      <td>01-01</td>\n",
       "      <td>1</td>\n",
       "    </tr>\n",
       "    <tr>\n",
       "      <th>6178</th>\n",
       "      <td>01-02</td>\n",
       "      <td>0</td>\n",
       "    </tr>\n",
       "  </tbody>\n",
       "</table>\n",
       "</div>"
      ],
      "text/plain": [
       "        day  min_nb_checklists\n",
       "6177  01-01                  1\n",
       "6178  01-02                  0"
      ]
     },
     "execution_count": 17,
     "metadata": {},
     "output_type": "execute_result"
    }
   ],
   "source": [
    "df_min_cnt_grid_cell.head(2)"
   ]
  },
  {
   "cell_type": "code",
   "execution_count": 18,
   "metadata": {},
   "outputs": [
    {
     "data": {
      "text/html": [
       "<div>\n",
       "<style scoped>\n",
       "    .dataframe tbody tr th:only-of-type {\n",
       "        vertical-align: middle;\n",
       "    }\n",
       "\n",
       "    .dataframe tbody tr th {\n",
       "        vertical-align: top;\n",
       "    }\n",
       "\n",
       "    .dataframe thead th {\n",
       "        text-align: right;\n",
       "    }\n",
       "</style>\n",
       "<table border=\"1\" class=\"dataframe\">\n",
       "  <thead>\n",
       "    <tr style=\"text-align: right;\">\n",
       "      <th></th>\n",
       "      <th>day</th>\n",
       "      <th>observation_date</th>\n",
       "      <th>min_nb_checklists</th>\n",
       "    </tr>\n",
       "  </thead>\n",
       "  <tbody>\n",
       "    <tr>\n",
       "      <th>0</th>\n",
       "      <td>01-01</td>\n",
       "      <td>2003-01-01</td>\n",
       "      <td>1</td>\n",
       "    </tr>\n",
       "    <tr>\n",
       "      <th>1</th>\n",
       "      <td>01-01</td>\n",
       "      <td>2004-01-01</td>\n",
       "      <td>1</td>\n",
       "    </tr>\n",
       "  </tbody>\n",
       "</table>\n",
       "</div>"
      ],
      "text/plain": [
       "     day observation_date  min_nb_checklists\n",
       "0  01-01       2003-01-01                  1\n",
       "1  01-01       2004-01-01                  1"
      ]
     },
     "execution_count": 18,
     "metadata": {},
     "output_type": "execute_result"
    }
   ],
   "source": [
    "df_min_cnt_greater_than_grid_cell.head(2)"
   ]
  },
  {
   "cell_type": "code",
   "execution_count": null,
   "metadata": {},
   "outputs": [],
   "source": [
    "df_grp_sampled.head(2)"
   ]
  },
  {
   "cell_type": "code",
   "execution_count": null,
   "metadata": {},
   "outputs": [],
   "source": [
    "df_grp_not_sampled.head(2)"
   ]
  },
  {
   "cell_type": "code",
   "execution_count": null,
   "metadata": {},
   "outputs": [],
   "source": [
    "df_t_days.head(2)"
   ]
  },
  {
   "cell_type": "code",
   "execution_count": null,
   "metadata": {},
   "outputs": [],
   "source": [
    "df_t_days_dates_years.head(2)"
   ]
  },
  {
   "cell_type": "code",
   "execution_count": null,
   "metadata": {},
   "outputs": [],
   "source": [
    "df_t_dates_years.head(2)"
   ]
  },
  {
   "cell_type": "code",
   "execution_count": null,
   "metadata": {},
   "outputs": [],
   "source": [
    "df_grp_sampled_dates.head(2)"
   ]
  },
  {
   "cell_type": "code",
   "execution_count": null,
   "metadata": {},
   "outputs": [],
   "source": [
    "df_grp_not_sampled_dates.head(2)"
   ]
  },
  {
   "cell_type": "code",
   "execution_count": null,
   "metadata": {},
   "outputs": [],
   "source": [
    "df_sum_prop_sampled.head(2)"
   ]
  },
  {
   "cell_type": "code",
   "execution_count": null,
   "metadata": {},
   "outputs": [],
   "source": [
    "df_sum_prop_not_sampled.head(2)"
   ]
  },
  {
   "cell_type": "code",
   "execution_count": null,
   "metadata": {},
   "outputs": [],
   "source": [
    "# df_grp_sampled['prop'].hist()\n",
    "# plt.show()"
   ]
  },
  {
   "cell_type": "code",
   "execution_count": null,
   "metadata": {},
   "outputs": [],
   "source": [
    "# df_grp_not_sampled['prop'].hist()\n",
    "# plt.show()"
   ]
  },
  {
   "cell_type": "code",
   "execution_count": null,
   "metadata": {},
   "outputs": [],
   "source": [
    "species_cnt = 0\n",
    "\n",
    "for i in range(len(df)):\n",
    "    \n",
    "    print(i)\n",
    "  \n",
    "    species = df['species_code'].iloc[i]\n",
    "    print(species)\n",
    "    \n",
    "    if ((species == 'souwpw1') | (species == 'bucnig') | (species == 'compoo') | (species == 'whtswi') | \n",
    "        (species == \"blkswi\") | (species == 'barswa')):\n",
    "        continue\n",
    "    \n",
    "    df_grid_cells, df_cnt, df_sum, df_prop_greater_than, df_prop_greater_than_cnt, df_nb_prop, \\\n",
    "    df_grp = name_of_function(species, start_date, end_date, month, year, countries_states)\n",
    "    \n",
    "    species_cnt += 1"
   ]
  },
  {
   "cell_type": "code",
   "execution_count": null,
   "metadata": {},
   "outputs": [],
   "source": [
    "print(species_cnt)"
   ]
  }
 ],
 "metadata": {
  "kernelspec": {
   "display_name": "Python 3",
   "language": "python",
   "name": "python3"
  },
  "language_info": {
   "codemirror_mode": {
    "name": "ipython",
    "version": 3
   },
   "file_extension": ".py",
   "mimetype": "text/x-python",
   "name": "python",
   "nbconvert_exporter": "python",
   "pygments_lexer": "ipython3",
   "version": "3.7.7"
  }
 },
 "nbformat": 4,
 "nbformat_minor": 2
}
