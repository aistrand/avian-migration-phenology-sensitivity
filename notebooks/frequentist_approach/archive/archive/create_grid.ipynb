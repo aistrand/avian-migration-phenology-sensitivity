{
 "cells": [
  {
   "cell_type": "markdown",
   "metadata": {},
   "source": [
    "# Description:\n",
    "Create grid and assign eBird checklists to a cell in the grid."
   ]
  },
  {
   "cell_type": "code",
   "execution_count": 1,
   "metadata": {},
   "outputs": [],
   "source": [
    "import os\n",
    "import pandas as pd\n",
    "import numpy as np\n",
    "import math\n",
    "import matplotlib.pyplot as plt"
   ]
  },
  {
   "cell_type": "code",
   "execution_count": 2,
   "metadata": {},
   "outputs": [],
   "source": [
    "pd.set_option('max_columns', 100)\n",
    "pd.set_option('max_rows', 100)"
   ]
  },
  {
   "cell_type": "code",
   "execution_count": 3,
   "metadata": {},
   "outputs": [
    {
     "data": {
      "text/plain": [
       "'/Users/alvastrand/Documents/OU/Research/notebooks/calculate_arrival_date/archive'"
      ]
     },
     "execution_count": 3,
     "metadata": {},
     "output_type": "execute_result"
    }
   ],
   "source": [
    "os.getcwd()"
   ]
  },
  {
   "cell_type": "code",
   "execution_count": 4,
   "metadata": {},
   "outputs": [],
   "source": [
    "path = '/Users/alvastrand/Documents/OU/Research/data/eBird/ebd_output/'\n",
    "# path = '/Users/alvastrand/'\n",
    "# Change current working directory\n",
    "os.chdir(path)"
   ]
  },
  {
   "cell_type": "code",
   "execution_count": 5,
   "metadata": {},
   "outputs": [
    {
     "data": {
      "text/plain": [
       "'/Users/alvastrand/Documents/OU/Research/data/eBird/ebd_output'"
      ]
     },
     "execution_count": 5,
     "metadata": {},
     "output_type": "execute_result"
    }
   ],
   "source": [
    "os.getcwd()"
   ]
  },
  {
   "cell_type": "code",
   "execution_count": 6,
   "metadata": {},
   "outputs": [
    {
     "name": "stderr",
     "output_type": "stream",
     "text": [
      "/Users/alvastrand/opt/anaconda3/lib/python3.7/site-packages/IPython/core/interactiveshell.py:3058: DtypeWarning: Columns (11,29) have mixed types. Specify dtype option on import or set low_memory=False.\n",
      "  interactivity=interactivity, compiler=compiler, result=result)\n"
     ]
    }
   ],
   "source": [
    "species = 'purmar'\n",
    "country = 'US'\n",
    "states_string = '_states_east_Mississippi'\n",
    "start_date = '0101'\n",
    "end_date = '0731'\n",
    "month = 'Apr'\n",
    "year = '2020'\n",
    "\n",
    "filename = 'ebd_' + country + states_string + '_' + species + '_' + start_date + '_' + end_date + \\\n",
    "'_complete_zerofilled_rel' + month + '-' + year + '.csv'\n",
    "# filename = 'ebd_US_barswa_201001_202001_zerofilled_relJan-2020_v2.csv'\n",
    "# filename = 'ebd_US_barswa_201001_202001_zerofilled_relJan-2020.csv'\n",
    "\n",
    "df = pd.read_csv(filename)"
   ]
  },
  {
   "cell_type": "code",
   "execution_count": 7,
   "metadata": {},
   "outputs": [
    {
     "data": {
      "text/plain": [
       "(8351771, 34)"
      ]
     },
     "execution_count": 7,
     "metadata": {},
     "output_type": "execute_result"
    }
   ],
   "source": [
    "df.shape\n",
    "# (7459806, 34)"
   ]
  },
  {
   "cell_type": "code",
   "execution_count": 8,
   "metadata": {},
   "outputs": [
    {
     "data": {
      "text/html": [
       "<div>\n",
       "<style scoped>\n",
       "    .dataframe tbody tr th:only-of-type {\n",
       "        vertical-align: middle;\n",
       "    }\n",
       "\n",
       "    .dataframe tbody tr th {\n",
       "        vertical-align: top;\n",
       "    }\n",
       "\n",
       "    .dataframe thead th {\n",
       "        text-align: right;\n",
       "    }\n",
       "</style>\n",
       "<table border=\"1\" class=\"dataframe\">\n",
       "  <thead>\n",
       "    <tr style=\"text-align: right;\">\n",
       "      <th></th>\n",
       "      <th>checklist_id</th>\n",
       "      <th>last_edited_date</th>\n",
       "      <th>country</th>\n",
       "      <th>country_code</th>\n",
       "      <th>state</th>\n",
       "      <th>state_code</th>\n",
       "      <th>county</th>\n",
       "      <th>county_code</th>\n",
       "      <th>iba_code</th>\n",
       "      <th>bcr_code</th>\n",
       "      <th>usfws_code</th>\n",
       "      <th>atlas_block</th>\n",
       "      <th>locality</th>\n",
       "      <th>locality_id</th>\n",
       "      <th>locality_type</th>\n",
       "      <th>latitude</th>\n",
       "      <th>longitude</th>\n",
       "      <th>observation_date</th>\n",
       "      <th>time_observations_started</th>\n",
       "      <th>observer_id</th>\n",
       "      <th>sampling_event_identifier</th>\n",
       "      <th>protocol_type</th>\n",
       "      <th>protocol_code</th>\n",
       "      <th>project_code</th>\n",
       "      <th>duration_minutes</th>\n",
       "      <th>effort_distance_km</th>\n",
       "      <th>effort_area_ha</th>\n",
       "      <th>number_observers</th>\n",
       "      <th>all_species_reported</th>\n",
       "      <th>group_identifier</th>\n",
       "      <th>trip_comments</th>\n",
       "      <th>scientific_name</th>\n",
       "      <th>observation_count</th>\n",
       "      <th>species_observed</th>\n",
       "    </tr>\n",
       "  </thead>\n",
       "  <tbody>\n",
       "    <tr>\n",
       "      <td>0</td>\n",
       "      <td>S949828</td>\n",
       "      <td>2018-01-02 18:33:08</td>\n",
       "      <td>United States</td>\n",
       "      <td>US</td>\n",
       "      <td>Florida</td>\n",
       "      <td>US-FL</td>\n",
       "      <td>Pasco</td>\n",
       "      <td>US-FL-101</td>\n",
       "      <td>US-FL_62</td>\n",
       "      <td>NaN</td>\n",
       "      <td>NaN</td>\n",
       "      <td>NaN</td>\n",
       "      <td>Robert K. Rees Memorial Park</td>\n",
       "      <td>L127314</td>\n",
       "      <td>H</td>\n",
       "      <td>28.253300</td>\n",
       "      <td>-82.755500</td>\n",
       "      <td>2001-05-12</td>\n",
       "      <td>08:00:00</td>\n",
       "      <td>obs18841</td>\n",
       "      <td>S949828</td>\n",
       "      <td>Stationary</td>\n",
       "      <td>P21</td>\n",
       "      <td>EBIRD</td>\n",
       "      <td>5</td>\n",
       "      <td>NaN</td>\n",
       "      <td>NaN</td>\n",
       "      <td>2</td>\n",
       "      <td>True</td>\n",
       "      <td>NaN</td>\n",
       "      <td>NaN</td>\n",
       "      <td>Progne subis</td>\n",
       "      <td>0</td>\n",
       "      <td>False</td>\n",
       "    </tr>\n",
       "    <tr>\n",
       "      <td>1</td>\n",
       "      <td>S1018111</td>\n",
       "      <td>2013-09-23 08:41:34</td>\n",
       "      <td>United States</td>\n",
       "      <td>US</td>\n",
       "      <td>Ohio</td>\n",
       "      <td>US-OH</td>\n",
       "      <td>Portage</td>\n",
       "      <td>US-OH-133</td>\n",
       "      <td>NaN</td>\n",
       "      <td>13.0</td>\n",
       "      <td>NaN</td>\n",
       "      <td>NaN</td>\n",
       "      <td>Mogadore Res - Sunnybrook Rd</td>\n",
       "      <td>L140837</td>\n",
       "      <td>P</td>\n",
       "      <td>41.063328</td>\n",
       "      <td>-81.373825</td>\n",
       "      <td>2003-01-04</td>\n",
       "      <td>14:15:00</td>\n",
       "      <td>obs18443</td>\n",
       "      <td>S1018111</td>\n",
       "      <td>Traveling</td>\n",
       "      <td>P22</td>\n",
       "      <td>EBIRD</td>\n",
       "      <td>30</td>\n",
       "      <td>0.402</td>\n",
       "      <td>NaN</td>\n",
       "      <td>1</td>\n",
       "      <td>True</td>\n",
       "      <td>NaN</td>\n",
       "      <td>NaN</td>\n",
       "      <td>Progne subis</td>\n",
       "      <td>0</td>\n",
       "      <td>False</td>\n",
       "    </tr>\n",
       "  </tbody>\n",
       "</table>\n",
       "</div>"
      ],
      "text/plain": [
       "  checklist_id     last_edited_date        country country_code    state  \\\n",
       "0      S949828  2018-01-02 18:33:08  United States           US  Florida   \n",
       "1     S1018111  2013-09-23 08:41:34  United States           US     Ohio   \n",
       "\n",
       "  state_code   county county_code  iba_code  bcr_code usfws_code atlas_block  \\\n",
       "0      US-FL    Pasco   US-FL-101  US-FL_62       NaN        NaN         NaN   \n",
       "1      US-OH  Portage   US-OH-133       NaN      13.0        NaN         NaN   \n",
       "\n",
       "                       locality locality_id locality_type   latitude  \\\n",
       "0  Robert K. Rees Memorial Park     L127314             H  28.253300   \n",
       "1  Mogadore Res - Sunnybrook Rd     L140837             P  41.063328   \n",
       "\n",
       "   longitude observation_date time_observations_started observer_id  \\\n",
       "0 -82.755500       2001-05-12                  08:00:00    obs18841   \n",
       "1 -81.373825       2003-01-04                  14:15:00    obs18443   \n",
       "\n",
       "  sampling_event_identifier protocol_type protocol_code project_code  \\\n",
       "0                   S949828    Stationary           P21        EBIRD   \n",
       "1                  S1018111     Traveling           P22        EBIRD   \n",
       "\n",
       "   duration_minutes  effort_distance_km  effort_area_ha  number_observers  \\\n",
       "0                 5                 NaN             NaN                 2   \n",
       "1                30               0.402             NaN                 1   \n",
       "\n",
       "   all_species_reported group_identifier trip_comments scientific_name  \\\n",
       "0                  True              NaN           NaN    Progne subis   \n",
       "1                  True              NaN           NaN    Progne subis   \n",
       "\n",
       "  observation_count  species_observed  \n",
       "0                 0             False  \n",
       "1                 0             False  "
      ]
     },
     "execution_count": 8,
     "metadata": {},
     "output_type": "execute_result"
    }
   ],
   "source": [
    "df.head(2)"
   ]
  },
  {
   "cell_type": "code",
   "execution_count": null,
   "metadata": {},
   "outputs": [],
   "source": [
    "min_lat = math.floor(23.88817)\n",
    "print(min_lat)\n",
    "# 23\n",
    "\n",
    "max_lat = math.ceil(48.2235)\n",
    "print(max_lat)\n",
    "# 49\n",
    "\n",
    "min_lon = math.floor(-92.88799)\n",
    "print(min_lon)\n",
    "# -93\n",
    "\n",
    "max_lon = math.ceil(-66.94957) + 1\n",
    "# -66.9502\n",
    "print(max_lon)\n",
    "# -65"
   ]
  },
  {
   "cell_type": "code",
   "execution_count": null,
   "metadata": {},
   "outputs": [],
   "source": [
    "# Create list of latitudes\n",
    "list_lat = range(min_lat, max_lat, 2)\n",
    "print(list_lat)\n",
    "# range(23, 49, 2)\n",
    "# Get length of the list\n",
    "print(len(list_lat))\n",
    "# 13\n",
    "\n",
    "# Create list of longitudes\n",
    "list_lon = range(min_lon, max_lon, 2)\n",
    "print(list_lon)\n",
    "# range(-93, -65, 2)\n",
    "# Get length of the list\n",
    "print(len(list_lon))\n",
    "# 14"
   ]
  },
  {
   "cell_type": "code",
   "execution_count": null,
   "metadata": {},
   "outputs": [],
   "source": [
    "df['grid_cell'] = np.nan"
   ]
  },
  {
   "cell_type": "code",
   "execution_count": null,
   "metadata": {},
   "outputs": [],
   "source": [
    "df.shape\n",
    "# (7459806, 35)"
   ]
  },
  {
   "cell_type": "code",
   "execution_count": null,
   "metadata": {},
   "outputs": [],
   "source": [
    "df.head(2)"
   ]
  },
  {
   "cell_type": "code",
   "execution_count": null,
   "metadata": {
    "scrolled": true
   },
   "outputs": [],
   "source": [
    "num = 0\n",
    "for i in range(len(list_lat)):\n",
    "    for j in range(len(list_lon)):\n",
    "        # If we've reached the index of the last element of the list of latitudes\n",
    "        if i == len(list_lat) - 1:\n",
    "            bounding_lat = list_lat[i] + 2\n",
    "        else:\n",
    "            bounding_lat = list_lat[i+1]\n",
    "        # If we've reached the index of the last element of the list of longitudes\n",
    "        if j == len(list_lon) - 1:\n",
    "            bounding_lon = list_lon[j] + 2\n",
    "        else:\n",
    "            bounding_lon = list_lon[j+1]\n",
    "        # Assign the number num to the grid_cell column on rows that meet conditions\n",
    "        df.loc[(df['latitude'] > list_lat[i]) & \n",
    "               (df['latitude'] <= bounding_lat) & \n",
    "               (df['longitude'] > list_lon[j]) & \n",
    "               (df['longitude'] <= bounding_lon), 'grid_cell'] = num\n",
    "        print(num)\n",
    "        print(list_lat[i], bounding_lat)\n",
    "        print(list_lon[j], bounding_lon)\n",
    "        # Update num by adding 1 to it\n",
    "        num += 1"
   ]
  },
  {
   "cell_type": "code",
   "execution_count": null,
   "metadata": {},
   "outputs": [],
   "source": [
    "list_grid_cell_ids = []\n",
    "list_min_lat = []\n",
    "list_max_lat = []\n",
    "list_min_lon = []\n",
    "list_max_lon = []\n",
    "\n",
    "ID = 0\n",
    "for i in range(len(list_lat)):\n",
    "    for j in range(len(list_lon)):\n",
    "        # If we've reached the index of the last element of the list of latitudes\n",
    "        if i == len(list_lat) - 1:\n",
    "            bounding_lat = list_lat[i] + 2\n",
    "        else:\n",
    "            bounding_lat = list_lat[i+1]\n",
    "        # If we've reached the index of the last element of the list of longitudes\n",
    "        if j == len(list_lon) - 1:\n",
    "            bounding_lon = list_lon[j] + 2\n",
    "        else:\n",
    "            bounding_lon = list_lon[j+1]\n",
    "        list_grid_cell_ids.append(ID)\n",
    "        list_min_lat.append(list_lat[i])\n",
    "        list_max_lat.append(bounding_lat)\n",
    "        list_min_lon.append(list_lon[j])\n",
    "        list_max_lon.append(bounding_lon)\n",
    "        ID += 1"
   ]
  },
  {
   "cell_type": "code",
   "execution_count": null,
   "metadata": {},
   "outputs": [],
   "source": [
    "df_ids = pd.DataFrame(data={'grid_cell': list_grid_cell_ids, 'min_lat': list_min_lat, 'max_lat': list_max_lat, \n",
    "                            'min_lon': list_min_lon, 'max_lon': list_max_lon})"
   ]
  },
  {
   "cell_type": "code",
   "execution_count": null,
   "metadata": {},
   "outputs": [],
   "source": [
    "df_ids.shape"
   ]
  },
  {
   "cell_type": "code",
   "execution_count": null,
   "metadata": {},
   "outputs": [],
   "source": [
    "df_ids.head(2)"
   ]
  },
  {
   "cell_type": "code",
   "execution_count": null,
   "metadata": {},
   "outputs": [],
   "source": [
    "# filename = 'ebd_US_barswa_201001_202001_relJan-2020_grid_cell_ids_v2.csv'\n",
    "# df_ids.to_csv(filename, index=False)"
   ]
  },
  {
   "cell_type": "code",
   "execution_count": null,
   "metadata": {},
   "outputs": [],
   "source": []
  },
  {
   "cell_type": "code",
   "execution_count": null,
   "metadata": {},
   "outputs": [],
   "source": [
    "df['grid_cell'] = df['grid_cell'].astype(int)"
   ]
  },
  {
   "cell_type": "code",
   "execution_count": null,
   "metadata": {},
   "outputs": [],
   "source": [
    "df.shape\n",
    "# (7459806, 35)"
   ]
  },
  {
   "cell_type": "code",
   "execution_count": null,
   "metadata": {},
   "outputs": [],
   "source": [
    "df.head(2)"
   ]
  },
  {
   "cell_type": "code",
   "execution_count": null,
   "metadata": {},
   "outputs": [],
   "source": [
    "print(df['grid_cell'].min())\n",
    "# 4\n",
    "print(df['grid_cell'].max())\n",
    "# 180\n",
    "# Get number of unique grid cells\n",
    "print(len(df['grid_cell'].unique()))\n",
    "# 108"
   ]
  },
  {
   "cell_type": "code",
   "execution_count": null,
   "metadata": {},
   "outputs": [],
   "source": [
    "# filename = 'ebd_US_barswa_201001_202001_zerofilled_blocks_relJan-2020_v2.csv'\n",
    "# # filename = 'ebd_US_barswa_201001_202001_zerofilled_blocks_relJan-2020.csv'\n",
    "# df.to_csv(filename, index=False)"
   ]
  }
 ],
 "metadata": {
  "kernelspec": {
   "display_name": "Python 3",
   "language": "python",
   "name": "python3"
  },
  "language_info": {
   "codemirror_mode": {
    "name": "ipython",
    "version": 3
   },
   "file_extension": ".py",
   "mimetype": "text/x-python",
   "name": "python",
   "nbconvert_exporter": "python",
   "pygments_lexer": "ipython3",
   "version": "3.7.7"
  }
 },
 "nbformat": 4,
 "nbformat_minor": 2
}
