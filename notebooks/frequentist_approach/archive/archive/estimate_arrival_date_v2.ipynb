{
 "cells": [
  {
   "cell_type": "markdown",
   "metadata": {},
   "source": [
    "# Description\n",
    "Estimate the first-of-season date using a rolling window and mean arrival date using the logistic growth function."
   ]
  },
  {
   "cell_type": "code",
   "execution_count": 1,
   "metadata": {},
   "outputs": [],
   "source": [
    "import os\n",
    "import pandas as pd\n",
    "from datetime import datetime\n",
    "import numpy as np\n",
    "import matplotlib.pyplot as plt\n",
    "import math\n",
    "from statsmodels.stats.weightstats import DescrStatsW\n",
    "from scipy.stats import t\n",
    "import scipy.optimize as optim\n",
    "import random"
   ]
  },
  {
   "cell_type": "code",
   "execution_count": 2,
   "metadata": {},
   "outputs": [],
   "source": [
    "pd.set_option('max_columns', 100)\n",
    "pd.set_option('max_rows', 100)"
   ]
  },
  {
   "cell_type": "code",
   "execution_count": 3,
   "metadata": {},
   "outputs": [
    {
     "data": {
      "text/plain": [
       "'/Users/alvastrand/Documents/OU/Research/notebooks/calculate_arrival_date'"
      ]
     },
     "execution_count": 3,
     "metadata": {},
     "output_type": "execute_result"
    }
   ],
   "source": [
    "os.getcwd()"
   ]
  },
  {
   "cell_type": "code",
   "execution_count": 4,
   "metadata": {},
   "outputs": [],
   "source": [
    "path = '/Users/alvastrand/'\n",
    "os.chdir(path)"
   ]
  },
  {
   "cell_type": "code",
   "execution_count": 5,
   "metadata": {},
   "outputs": [
    {
     "data": {
      "text/plain": [
       "'/Users/alvastrand'"
      ]
     },
     "execution_count": 5,
     "metadata": {},
     "output_type": "execute_result"
    }
   ],
   "source": [
    "os.getcwd()"
   ]
  },
  {
   "cell_type": "code",
   "execution_count": 6,
   "metadata": {},
   "outputs": [],
   "source": [
    "grid_cell = 136\n",
    "year = 2014"
   ]
  },
  {
   "cell_type": "code",
   "execution_count": 7,
   "metadata": {},
   "outputs": [],
   "source": [
    "filename = 'ebd_US_barswa_201001_202001_zerofilled_block_' + str(grid_cell) + '_year_' + str(year) + \\\n",
    "'_prop_relJan-2020_v2.csv'\n",
    "# filename = 'ebd_US_barswa_201001_202001_zerofilled_block_' + str(grid_cell) + '_year_' + str(year) + \\\n",
    "# '_prop_relJan-2020.csv'\n",
    "df_block_year = pd.read_csv(filename)"
   ]
  },
  {
   "cell_type": "code",
   "execution_count": 8,
   "metadata": {},
   "outputs": [],
   "source": [
    "df_block_year['observation_date_dt'] = pd.to_datetime(df_block_year['observation_date'])"
   ]
  },
  {
   "cell_type": "code",
   "execution_count": 9,
   "metadata": {},
   "outputs": [
    {
     "data": {
      "text/plain": [
       "(211, 7)"
      ]
     },
     "execution_count": 9,
     "metadata": {},
     "output_type": "execute_result"
    }
   ],
   "source": [
    "df_block_year.shape\n",
    "# (102, 7)"
   ]
  },
  {
   "cell_type": "code",
   "execution_count": 10,
   "metadata": {},
   "outputs": [
    {
     "data": {
      "text/html": [
       "<div>\n",
       "<style scoped>\n",
       "    .dataframe tbody tr th:only-of-type {\n",
       "        vertical-align: middle;\n",
       "    }\n",
       "\n",
       "    .dataframe tbody tr th {\n",
       "        vertical-align: top;\n",
       "    }\n",
       "\n",
       "    .dataframe thead th {\n",
       "        text-align: right;\n",
       "    }\n",
       "</style>\n",
       "<table border=\"1\" class=\"dataframe\">\n",
       "  <thead>\n",
       "    <tr style=\"text-align: right;\">\n",
       "      <th></th>\n",
       "      <th>grid_cell</th>\n",
       "      <th>observation_date</th>\n",
       "      <th>nb_checklists</th>\n",
       "      <th>nb_checklists_species</th>\n",
       "      <th>prop</th>\n",
       "      <th>year</th>\n",
       "      <th>observation_date_dt</th>\n",
       "    </tr>\n",
       "  </thead>\n",
       "  <tbody>\n",
       "    <tr>\n",
       "      <td>0</td>\n",
       "      <td>136</td>\n",
       "      <td>2014-01-01</td>\n",
       "      <td>501</td>\n",
       "      <td>0.0</td>\n",
       "      <td>0.0</td>\n",
       "      <td>2014</td>\n",
       "      <td>2014-01-01</td>\n",
       "    </tr>\n",
       "    <tr>\n",
       "      <td>1</td>\n",
       "      <td>136</td>\n",
       "      <td>2014-01-02</td>\n",
       "      <td>162</td>\n",
       "      <td>0.0</td>\n",
       "      <td>0.0</td>\n",
       "      <td>2014</td>\n",
       "      <td>2014-01-02</td>\n",
       "    </tr>\n",
       "  </tbody>\n",
       "</table>\n",
       "</div>"
      ],
      "text/plain": [
       "   grid_cell observation_date  nb_checklists  nb_checklists_species  prop  \\\n",
       "0        136       2014-01-01            501                    0.0   0.0   \n",
       "1        136       2014-01-02            162                    0.0   0.0   \n",
       "\n",
       "   year observation_date_dt  \n",
       "0  2014          2014-01-01  \n",
       "1  2014          2014-01-02  "
      ]
     },
     "execution_count": 10,
     "metadata": {},
     "output_type": "execute_result"
    }
   ],
   "source": [
    "df_block_year.head(2)"
   ]
  },
  {
   "cell_type": "code",
   "execution_count": 11,
   "metadata": {},
   "outputs": [
    {
     "name": "stdout",
     "output_type": "stream",
     "text": [
      "2014-01-01 00:00:00\n",
      "2014-07-30 00:00:00\n"
     ]
    }
   ],
   "source": [
    "print(min(df_block_year['observation_date_dt']))\n",
    "print(max(df_block_year['observation_date_dt']))"
   ]
  },
  {
   "cell_type": "code",
   "execution_count": 12,
   "metadata": {},
   "outputs": [],
   "source": [
    "# df_block_year = df_block_year.head(2)"
   ]
  },
  {
   "cell_type": "code",
   "execution_count": 13,
   "metadata": {},
   "outputs": [],
   "source": [
    "if filename == 'ebd_US_barswa_201001_202001_zerofilled_block_' + str(grid_cell) + '_year_' + str(year) + \\\n",
    "'_prop_relJan-2020_v2.csv':\n",
    "    \n",
    "    start_month = 1\n",
    "    start_day = 1\n",
    "\n",
    "    end_month = 7\n",
    "    end_day = 30\n",
    "    \n",
    "elif filename == 'ebd_US_barswa_201001_202001_zerofilled_block_' + str(grid_cell) + '_year_' + str(year) + \\\n",
    "'_prop_relJan-2020.csv':\n",
    "    \n",
    "    start_month = 3\n",
    "    start_day = 20\n",
    "\n",
    "    end_month = 6\n",
    "    end_day = 29\n",
    "\n",
    "start_date = datetime(year, start_month, start_day)\n",
    "end_date = datetime(year, end_month, end_day)"
   ]
  },
  {
   "cell_type": "code",
   "execution_count": 14,
   "metadata": {},
   "outputs": [],
   "source": [
    "date_range = pd.date_range(start_date, end_date)"
   ]
  },
  {
   "cell_type": "code",
   "execution_count": 15,
   "metadata": {},
   "outputs": [],
   "source": [
    "date_range_str = date_range.strftime('%Y-%m-%d')"
   ]
  },
  {
   "cell_type": "code",
   "execution_count": 16,
   "metadata": {},
   "outputs": [],
   "source": [
    "df_date_range = pd.DataFrame({'grid_cell': grid_cell, 'year': year, 'observation_date': date_range_str, \n",
    "                              'observation_date_dt': date_range})"
   ]
  },
  {
   "cell_type": "code",
   "execution_count": 17,
   "metadata": {},
   "outputs": [
    {
     "data": {
      "text/plain": [
       "(211, 4)"
      ]
     },
     "execution_count": 17,
     "metadata": {},
     "output_type": "execute_result"
    }
   ],
   "source": [
    "df_date_range.shape\n",
    "# (102, 4)"
   ]
  },
  {
   "cell_type": "code",
   "execution_count": 18,
   "metadata": {},
   "outputs": [
    {
     "data": {
      "text/html": [
       "<div>\n",
       "<style scoped>\n",
       "    .dataframe tbody tr th:only-of-type {\n",
       "        vertical-align: middle;\n",
       "    }\n",
       "\n",
       "    .dataframe tbody tr th {\n",
       "        vertical-align: top;\n",
       "    }\n",
       "\n",
       "    .dataframe thead th {\n",
       "        text-align: right;\n",
       "    }\n",
       "</style>\n",
       "<table border=\"1\" class=\"dataframe\">\n",
       "  <thead>\n",
       "    <tr style=\"text-align: right;\">\n",
       "      <th></th>\n",
       "      <th>grid_cell</th>\n",
       "      <th>year</th>\n",
       "      <th>observation_date</th>\n",
       "      <th>observation_date_dt</th>\n",
       "    </tr>\n",
       "  </thead>\n",
       "  <tbody>\n",
       "    <tr>\n",
       "      <td>0</td>\n",
       "      <td>136</td>\n",
       "      <td>2014</td>\n",
       "      <td>2014-01-01</td>\n",
       "      <td>2014-01-01</td>\n",
       "    </tr>\n",
       "    <tr>\n",
       "      <td>1</td>\n",
       "      <td>136</td>\n",
       "      <td>2014</td>\n",
       "      <td>2014-01-02</td>\n",
       "      <td>2014-01-02</td>\n",
       "    </tr>\n",
       "  </tbody>\n",
       "</table>\n",
       "</div>"
      ],
      "text/plain": [
       "   grid_cell  year observation_date observation_date_dt\n",
       "0        136  2014       2014-01-01          2014-01-01\n",
       "1        136  2014       2014-01-02          2014-01-02"
      ]
     },
     "execution_count": 18,
     "metadata": {},
     "output_type": "execute_result"
    }
   ],
   "source": [
    "df_date_range.head(2)"
   ]
  },
  {
   "cell_type": "code",
   "execution_count": 19,
   "metadata": {},
   "outputs": [],
   "source": [
    "df_block_year = df_date_range.merge(df_block_year, how='left', on=['grid_cell', 'year', 'observation_date', \n",
    "                                                                   'observation_date_dt'])"
   ]
  },
  {
   "cell_type": "code",
   "execution_count": 20,
   "metadata": {},
   "outputs": [
    {
     "data": {
      "text/plain": [
       "(211, 7)"
      ]
     },
     "execution_count": 20,
     "metadata": {},
     "output_type": "execute_result"
    }
   ],
   "source": [
    "df_block_year.shape\n",
    "# (102, 7)"
   ]
  },
  {
   "cell_type": "code",
   "execution_count": 21,
   "metadata": {},
   "outputs": [
    {
     "data": {
      "text/html": [
       "<div>\n",
       "<style scoped>\n",
       "    .dataframe tbody tr th:only-of-type {\n",
       "        vertical-align: middle;\n",
       "    }\n",
       "\n",
       "    .dataframe tbody tr th {\n",
       "        vertical-align: top;\n",
       "    }\n",
       "\n",
       "    .dataframe thead th {\n",
       "        text-align: right;\n",
       "    }\n",
       "</style>\n",
       "<table border=\"1\" class=\"dataframe\">\n",
       "  <thead>\n",
       "    <tr style=\"text-align: right;\">\n",
       "      <th></th>\n",
       "      <th>grid_cell</th>\n",
       "      <th>year</th>\n",
       "      <th>observation_date</th>\n",
       "      <th>observation_date_dt</th>\n",
       "      <th>nb_checklists</th>\n",
       "      <th>nb_checklists_species</th>\n",
       "      <th>prop</th>\n",
       "    </tr>\n",
       "  </thead>\n",
       "  <tbody>\n",
       "    <tr>\n",
       "      <td>0</td>\n",
       "      <td>136</td>\n",
       "      <td>2014</td>\n",
       "      <td>2014-01-01</td>\n",
       "      <td>2014-01-01</td>\n",
       "      <td>501</td>\n",
       "      <td>0.0</td>\n",
       "      <td>0.0</td>\n",
       "    </tr>\n",
       "    <tr>\n",
       "      <td>1</td>\n",
       "      <td>136</td>\n",
       "      <td>2014</td>\n",
       "      <td>2014-01-02</td>\n",
       "      <td>2014-01-02</td>\n",
       "      <td>162</td>\n",
       "      <td>0.0</td>\n",
       "      <td>0.0</td>\n",
       "    </tr>\n",
       "  </tbody>\n",
       "</table>\n",
       "</div>"
      ],
      "text/plain": [
       "   grid_cell  year observation_date observation_date_dt  nb_checklists  \\\n",
       "0        136  2014       2014-01-01          2014-01-01            501   \n",
       "1        136  2014       2014-01-02          2014-01-02            162   \n",
       "\n",
       "   nb_checklists_species  prop  \n",
       "0                    0.0   0.0  \n",
       "1                    0.0   0.0  "
      ]
     },
     "execution_count": 21,
     "metadata": {},
     "output_type": "execute_result"
    }
   ],
   "source": [
    "df_block_year.head(2)"
   ]
  },
  {
   "cell_type": "code",
   "execution_count": null,
   "metadata": {},
   "outputs": [],
   "source": []
  },
  {
   "cell_type": "code",
   "execution_count": 22,
   "metadata": {},
   "outputs": [],
   "source": [
    "# Perform arcsine transformation on the proportions\n",
    "df_block_year['prop_arcsine'] = df_block_year['prop'].apply(lambda x: np.arcsin(math.sqrt(x)))"
   ]
  },
  {
   "cell_type": "code",
   "execution_count": 23,
   "metadata": {},
   "outputs": [
    {
     "data": {
      "text/plain": [
       "(211, 8)"
      ]
     },
     "execution_count": 23,
     "metadata": {},
     "output_type": "execute_result"
    }
   ],
   "source": [
    "df_block_year.shape\n",
    "# (102, 8)"
   ]
  },
  {
   "cell_type": "code",
   "execution_count": 24,
   "metadata": {},
   "outputs": [
    {
     "data": {
      "text/html": [
       "<div>\n",
       "<style scoped>\n",
       "    .dataframe tbody tr th:only-of-type {\n",
       "        vertical-align: middle;\n",
       "    }\n",
       "\n",
       "    .dataframe tbody tr th {\n",
       "        vertical-align: top;\n",
       "    }\n",
       "\n",
       "    .dataframe thead th {\n",
       "        text-align: right;\n",
       "    }\n",
       "</style>\n",
       "<table border=\"1\" class=\"dataframe\">\n",
       "  <thead>\n",
       "    <tr style=\"text-align: right;\">\n",
       "      <th></th>\n",
       "      <th>grid_cell</th>\n",
       "      <th>year</th>\n",
       "      <th>observation_date</th>\n",
       "      <th>observation_date_dt</th>\n",
       "      <th>nb_checklists</th>\n",
       "      <th>nb_checklists_species</th>\n",
       "      <th>prop</th>\n",
       "      <th>prop_arcsine</th>\n",
       "    </tr>\n",
       "  </thead>\n",
       "  <tbody>\n",
       "    <tr>\n",
       "      <td>0</td>\n",
       "      <td>136</td>\n",
       "      <td>2014</td>\n",
       "      <td>2014-01-01</td>\n",
       "      <td>2014-01-01</td>\n",
       "      <td>501</td>\n",
       "      <td>0.0</td>\n",
       "      <td>0.0</td>\n",
       "      <td>0.0</td>\n",
       "    </tr>\n",
       "    <tr>\n",
       "      <td>1</td>\n",
       "      <td>136</td>\n",
       "      <td>2014</td>\n",
       "      <td>2014-01-02</td>\n",
       "      <td>2014-01-02</td>\n",
       "      <td>162</td>\n",
       "      <td>0.0</td>\n",
       "      <td>0.0</td>\n",
       "      <td>0.0</td>\n",
       "    </tr>\n",
       "  </tbody>\n",
       "</table>\n",
       "</div>"
      ],
      "text/plain": [
       "   grid_cell  year observation_date observation_date_dt  nb_checklists  \\\n",
       "0        136  2014       2014-01-01          2014-01-01            501   \n",
       "1        136  2014       2014-01-02          2014-01-02            162   \n",
       "\n",
       "   nb_checklists_species  prop  prop_arcsine  \n",
       "0                    0.0   0.0           0.0  \n",
       "1                    0.0   0.0           0.0  "
      ]
     },
     "execution_count": 24,
     "metadata": {},
     "output_type": "execute_result"
    }
   ],
   "source": [
    "df_block_year.head(2)"
   ]
  },
  {
   "cell_type": "code",
   "execution_count": 25,
   "metadata": {},
   "outputs": [
    {
     "data": {
      "text/plain": [
       "False"
      ]
     },
     "execution_count": 25,
     "metadata": {},
     "output_type": "execute_result"
    }
   ],
   "source": [
    "df_block_year['prop_arcsine'].isnull().values.any()"
   ]
  },
  {
   "cell_type": "code",
   "execution_count": 26,
   "metadata": {},
   "outputs": [
    {
     "data": {
      "image/png": "[encoded data removed]",
      "text/plain": [
       "<Figure size 432x288 with 1 Axes>"
      ]
     },
     "metadata": {
      "needs_background": "light"
     },
     "output_type": "display_data"
    }
   ],
   "source": [
    "df_block_year['prop'].hist()\n",
    "plt.show()"
   ]
  },
  {
   "cell_type": "code",
   "execution_count": 27,
   "metadata": {},
   "outputs": [
    {
     "data": {
      "image/png": "[encoded data removed]",
      "text/plain": [
       "<Figure size 432x288 with 1 Axes>"
      ]
     },
     "metadata": {
      "needs_background": "light"
     },
     "output_type": "display_data"
    }
   ],
   "source": [
    "df_block_year['prop_arcsine'].hist()\n",
    "plt.show()"
   ]
  },
  {
   "cell_type": "code",
   "execution_count": 28,
   "metadata": {},
   "outputs": [
    {
     "data": {
      "image/png": "[encoded data removed]",
      "text/plain": [
       "<Figure size 432x288 with 1 Axes>"
      ]
     },
     "metadata": {
      "needs_background": "light"
     },
     "output_type": "display_data"
    }
   ],
   "source": [
    "df_block_year['nb_checklists'].hist()\n",
    "plt.show()"
   ]
  },
  {
   "cell_type": "code",
   "execution_count": null,
   "metadata": {},
   "outputs": [],
   "source": []
  },
  {
   "cell_type": "code",
   "execution_count": 29,
   "metadata": {},
   "outputs": [],
   "source": [
    "# Rolling window approach"
   ]
  },
  {
   "cell_type": "code",
   "execution_count": 30,
   "metadata": {},
   "outputs": [
    {
     "name": "stdout",
     "output_type": "stream",
     "text": [
      "205\n",
      "---\n",
      "0\n",
      "7\n",
      "---\n",
      "1\n",
      "8\n",
      "---\n",
      "2\n",
      "9\n",
      "---\n",
      "3\n",
      "10\n",
      "---\n",
      "4\n",
      "11\n",
      "---\n",
      "5\n",
      "12\n",
      "---\n",
      "6\n",
      "13\n",
      "---\n",
      "7\n",
      "14\n",
      "---\n",
      "8\n",
      "15\n",
      "---\n",
      "9\n",
      "16\n",
      "---\n",
      "10\n",
      "17\n",
      "---\n",
      "11\n",
      "18\n",
      "---\n",
      "12\n",
      "19\n",
      "---\n",
      "13\n",
      "20\n",
      "---\n",
      "14\n",
      "21\n",
      "---\n",
      "15\n",
      "22\n",
      "---\n",
      "16\n",
      "23\n",
      "---\n",
      "17\n",
      "24\n",
      "---\n",
      "18\n",
      "25\n",
      "---\n",
      "19\n",
      "26\n",
      "---\n",
      "20\n",
      "27\n",
      "---\n",
      "21\n",
      "28\n",
      "---\n",
      "22\n",
      "29\n",
      "---\n",
      "23\n",
      "30\n",
      "---\n",
      "24\n",
      "31\n",
      "---\n",
      "25\n",
      "32\n",
      "---\n",
      "26\n",
      "33\n",
      "---\n",
      "27\n",
      "34\n",
      "---\n",
      "28\n",
      "35\n",
      "---\n",
      "29\n",
      "36\n",
      "---\n",
      "30\n",
      "37\n",
      "---\n",
      "31\n",
      "38\n",
      "---\n",
      "32\n",
      "39\n",
      "---\n",
      "33\n",
      "40\n",
      "---\n",
      "34\n",
      "41\n",
      "---\n",
      "35\n",
      "42\n",
      "---\n",
      "36\n",
      "43\n",
      "---\n",
      "37\n",
      "44\n",
      "---\n",
      "38\n",
      "45\n",
      "---\n",
      "39\n",
      "46\n",
      "---\n",
      "40\n",
      "47\n",
      "---\n",
      "41\n",
      "48\n",
      "---\n",
      "42\n",
      "49\n",
      "---\n",
      "43\n",
      "50\n",
      "---\n",
      "44\n",
      "51\n",
      "---\n",
      "45\n",
      "52\n",
      "---\n",
      "46\n",
      "53\n",
      "---\n",
      "47\n",
      "54\n",
      "---\n",
      "48\n",
      "55\n",
      "---\n",
      "49\n",
      "56\n",
      "---\n",
      "50\n",
      "57\n",
      "---\n",
      "51\n",
      "58\n",
      "---\n",
      "52\n",
      "59\n",
      "---\n",
      "53\n",
      "60\n",
      "---\n",
      "54\n",
      "61\n",
      "---\n",
      "55\n",
      "62\n",
      "---\n",
      "56\n",
      "63\n",
      "---\n",
      "57\n",
      "64\n",
      "---\n",
      "58\n",
      "65\n",
      "---\n",
      "59\n",
      "66\n",
      "---\n",
      "60\n",
      "67\n",
      "---\n",
      "61\n",
      "68\n",
      "---\n",
      "62\n",
      "69\n",
      "---\n",
      "63\n",
      "70\n",
      "---\n",
      "64\n",
      "71\n",
      "---\n",
      "65\n",
      "72\n",
      "---\n",
      "66\n",
      "73\n",
      "---\n",
      "67\n",
      "74\n",
      "---\n",
      "68\n",
      "75\n",
      "---\n",
      "69\n",
      "76\n",
      "---\n",
      "70\n",
      "77\n",
      "---\n",
      "71\n",
      "78\n",
      "---\n",
      "72\n",
      "79\n",
      "---\n",
      "73\n",
      "80\n",
      "---\n",
      "74\n",
      "81\n",
      "---\n",
      "75\n",
      "82\n",
      "---\n",
      "76\n",
      "83\n",
      "---\n",
      "77\n",
      "84\n",
      "---\n",
      "78\n",
      "85\n",
      "---\n",
      "79\n",
      "86\n",
      "---\n",
      "80\n",
      "87\n",
      "---\n",
      "81\n",
      "88\n",
      "---\n",
      "82\n",
      "89\n",
      "---\n",
      "83\n",
      "90\n",
      "---\n",
      "84\n",
      "91\n",
      "---\n",
      "85\n",
      "92\n",
      "---\n",
      "86\n",
      "93\n",
      "---\n",
      "87\n",
      "94\n",
      "---\n",
      "88\n",
      "95\n",
      "---\n",
      "89\n",
      "96\n",
      "---\n",
      "90\n",
      "97\n",
      "---\n",
      "91\n",
      "98\n",
      "---\n",
      "92\n",
      "99\n",
      "---\n",
      "93\n",
      "100\n",
      "---\n",
      "94\n",
      "101\n",
      "---\n",
      "95\n",
      "102\n",
      "---\n",
      "96\n",
      "103\n",
      "---\n",
      "97\n",
      "104\n",
      "---\n",
      "98\n",
      "105\n",
      "---\n",
      "99\n",
      "106\n",
      "---\n",
      "100\n",
      "107\n",
      "---\n",
      "101\n",
      "108\n",
      "---\n",
      "102\n",
      "109\n",
      "---\n",
      "103\n",
      "110\n",
      "---\n",
      "104\n",
      "111\n",
      "---\n",
      "105\n",
      "112\n",
      "---\n",
      "106\n",
      "113\n",
      "---\n",
      "107\n",
      "114\n",
      "---\n",
      "108\n",
      "115\n",
      "---\n",
      "109\n",
      "116\n",
      "---\n",
      "110\n",
      "117\n",
      "---\n",
      "111\n",
      "118\n",
      "---\n",
      "112\n",
      "119\n",
      "---\n",
      "113\n",
      "120\n",
      "---\n",
      "114\n",
      "121\n",
      "---\n",
      "115\n",
      "122\n",
      "---\n",
      "116\n",
      "123\n",
      "---\n",
      "117\n",
      "124\n",
      "---\n",
      "118\n",
      "125\n",
      "---\n",
      "119\n",
      "126\n",
      "---\n",
      "120\n",
      "127\n",
      "---\n",
      "121\n",
      "128\n",
      "---\n",
      "122\n",
      "129\n",
      "---\n",
      "123\n",
      "130\n",
      "---\n",
      "124\n",
      "131\n",
      "---\n",
      "125\n",
      "132\n",
      "---\n",
      "126\n",
      "133\n",
      "---\n",
      "127\n",
      "134\n",
      "---\n",
      "128\n",
      "135\n",
      "---\n",
      "129\n",
      "136\n",
      "---\n",
      "130\n",
      "137\n",
      "---\n",
      "131\n",
      "138\n",
      "---\n",
      "132\n",
      "139\n",
      "---\n",
      "133\n",
      "140\n",
      "---\n",
      "134\n",
      "141\n",
      "---\n",
      "135\n",
      "142\n",
      "---\n",
      "136\n",
      "143\n",
      "---\n",
      "137\n",
      "144\n",
      "---\n",
      "138\n",
      "145\n",
      "---\n",
      "139\n",
      "146\n",
      "---\n",
      "140\n",
      "147\n",
      "---\n",
      "141\n",
      "148\n",
      "---\n",
      "142\n",
      "149\n",
      "---\n",
      "143\n",
      "150\n",
      "---\n",
      "144\n",
      "151\n",
      "---\n",
      "145\n",
      "152\n",
      "---\n",
      "146\n",
      "153\n",
      "---\n",
      "147\n",
      "154\n",
      "---\n",
      "148\n",
      "155\n",
      "---\n",
      "149\n",
      "156\n",
      "---\n",
      "150\n",
      "157\n",
      "---\n",
      "151\n",
      "158\n",
      "---\n",
      "152\n",
      "159\n",
      "---\n",
      "153\n",
      "160\n",
      "---\n",
      "154\n",
      "161\n",
      "---\n",
      "155\n",
      "162\n",
      "---\n",
      "156\n",
      "163\n",
      "---\n",
      "157\n",
      "164\n",
      "---\n",
      "158\n",
      "165\n",
      "---\n",
      "159\n",
      "166\n",
      "---\n",
      "160\n",
      "167\n",
      "---\n",
      "161\n",
      "168\n",
      "---\n",
      "162\n",
      "169\n",
      "---\n",
      "163\n",
      "170\n",
      "---\n",
      "164\n",
      "171\n",
      "---\n",
      "165\n",
      "172\n",
      "---\n",
      "166\n",
      "173\n",
      "---\n",
      "167\n",
      "174\n",
      "---\n",
      "168\n",
      "175\n",
      "---\n",
      "169\n",
      "176\n",
      "---\n",
      "170\n",
      "177\n",
      "---\n",
      "171\n",
      "178\n",
      "---\n",
      "172\n",
      "179\n",
      "---\n",
      "173\n",
      "180\n",
      "---\n",
      "174\n",
      "181\n",
      "---\n",
      "175\n",
      "182\n",
      "---\n",
      "176\n",
      "183\n",
      "---\n",
      "177\n",
      "184\n",
      "---\n",
      "178\n",
      "185\n",
      "---\n",
      "179\n",
      "186\n",
      "---\n",
      "180\n",
      "187\n",
      "---\n",
      "181\n",
      "188\n",
      "---\n",
      "182\n",
      "189\n",
      "---\n",
      "183\n",
      "190\n",
      "---\n",
      "184\n",
      "191\n",
      "---\n",
      "185\n",
      "192\n",
      "---\n",
      "186\n",
      "193\n",
      "---\n",
      "187\n",
      "194\n",
      "---\n",
      "188\n",
      "195\n",
      "---\n",
      "189\n",
      "196\n",
      "---\n",
      "190\n",
      "197\n",
      "---\n",
      "191\n",
      "198\n",
      "---\n",
      "192\n",
      "199\n",
      "---\n",
      "193\n",
      "200\n",
      "---\n",
      "194\n",
      "201\n",
      "---\n",
      "195\n",
      "202\n",
      "---\n",
      "196\n",
      "203\n",
      "---\n",
      "197\n",
      "204\n",
      "---\n",
      "198\n",
      "205\n",
      "---\n",
      "199\n",
      "206\n",
      "---\n",
      "200\n",
      "207\n",
      "---\n",
      "201\n",
      "208\n",
      "---\n",
      "202\n",
      "209\n",
      "---\n",
      "203\n",
      "210\n",
      "---\n",
      "204\n",
      "211\n"
     ]
    }
   ],
   "source": [
    "window_size = 7\n",
    "# ?\n",
    "confidence = 0.95\n",
    "\n",
    "means = []\n",
    "sems = []\n",
    "hs = []\n",
    "lower_bounds = []\n",
    "upper_bounds = []\n",
    "\n",
    "start_index = 0\n",
    "end_index = window_size\n",
    "\n",
    "print(len(df_block_year) - window_size + 1)\n",
    "\n",
    "for i in range(len(df_block_year) - window_size + 1):\n",
    "    \n",
    "#     if start_index == 11:\n",
    "#         break\n",
    "\n",
    "    print('---')\n",
    "    \n",
    "    print(start_index)\n",
    "    print(end_index)\n",
    "    \n",
    "    df_sample = df_block_year.iloc[range(start_index, end_index)]\n",
    "    df_sample = df_sample.dropna()\n",
    "    \n",
    "    weights = df_sample['nb_checklists']\n",
    "\n",
    "    dof = len(df_sample) - 1\n",
    "    # dof = 0\n",
    "#     print(dof)\n",
    "    # ?\n",
    "\n",
    "    weighted_stats = DescrStatsW(df_sample['prop_arcsine'], weights=weights, ddof=dof)\n",
    "\n",
    "    mean = weighted_stats.mean\n",
    "    means.append(mean)\n",
    "#     print(mean)\n",
    "\n",
    "    sem = weighted_stats.std_mean\n",
    "    sems.append(sem)\n",
    "#     print(sem)\n",
    "\n",
    "    h = sem * t.ppf((1 + confidence) / 2, len(df_sample) - 1)\n",
    "    hs.append(h)\n",
    "#     print(h)\n",
    "\n",
    "    lower_bound = mean - h\n",
    "    lower_bounds.append(lower_bound)\n",
    "#     print(lower_bound)\n",
    "\n",
    "    upper_bound = mean + h\n",
    "    upper_bounds.append(upper_bound)\n",
    "#     print(upper_bound)\n",
    "    \n",
    "    start_index += 1\n",
    "    end_index += 1"
   ]
  },
  {
   "cell_type": "code",
   "execution_count": 31,
   "metadata": {
    "scrolled": true
   },
   "outputs": [
    {
     "name": "stdout",
     "output_type": "stream",
     "text": [
      "[0.0, 0.0, 0.0, 0.0, 0.0, 0.0, 0.0, 0.0, 0.0, 0.0, 0.0, 0.0, 0.0, 0.0, 0.0, 0.0, 0.0, 0.0, 0.0, 0.0, 0.0, 0.0, 0.0, 0.0, 0.0, 0.0, 0.0, 0.0, 0.0, 0.0, 0.0, 0.0, 0.0, 0.0, 0.0, 0.0, 0.0, 0.0, 0.0, 0.0, 0.0, 0.0, 0.0, 0.0, 0.0, 0.0, 0.0, 0.0, 0.0, 0.0, 0.0, 0.0, 0.0, 0.0, 0.0, 0.0, 0.0, 0.0, 0.0, 0.0, 0.0, 0.0, 0.0, 0.0, 0.0, 0.0, 0.0, 0.0, 0.0, 0.0, 0.0, 0.0, 0.0, 0.0, 0.0, 0.0, 0.0, 0.0, 0.0, 0.0, 0.0, 0.0, 0.0, 0.0, 0.0, 0.009812340187924724, 0.019241842860848794, 0.03246531007489688, 0.04934838836875509, 0.06665328496342131, 0.07619343153467302, 0.0873221874015934, 0.09296723423405827, 0.10023208351368398, 0.1093731781822805, 0.12448849681244072, 0.15044025717552403, 0.15463861378458996, 0.1633029918777843, 0.19016574265418118, 0.207545646311038, 0.2234232977134697, 0.24206981521782805, 0.22929782677361663, 0.23026658559858143, 0.22388014722645727, 0.21213771591367267, 0.21014738605029928, 0.20836705437624914, 0.2297070772544713, 0.27611740534039586, 0.3023363183431495, 0.3417473063270416, 0.3582652603934835, 0.372034690483435, 0.41434725303037095, 0.4100299048740171, 0.41479951315388863, 0.4168469305770496, 0.4120033266984465, 0.4100078583015577, 0.4145726917186168, 0.4134653057086273, 0.4228039475675727, 0.4154643368155707, 0.4097202039436447, 0.40778752893705705, 0.4086759594987354, 0.40219911128535246, 0.40074856942825404, 0.4117162501619128, 0.41884665441540986, 0.42629250175178657, 0.4324818832252862, 0.44254922429994914, 0.4572609825003918, 0.4637484221914878, 0.4640036772358178, 0.47467878236569744, 0.4950612065690676, 0.5019871918573592, 0.5030371157764025, 0.5104976025329985, 0.5044204654928416, 0.4953783482611467, 0.49170228773026786, 0.4852317326075143, 0.47634489535929064, 0.47494501060227484, 0.45662250442728847, 0.445422387186011, 0.4452830713695794, 0.4332291198493256, 0.41716210179185437, 0.44167404494200424, 0.45307312688653345, 0.45406376908393586, 0.4585673563552883, 0.45118608328236376, 0.45112663345181503, 0.46923731353149106, 0.4575471855431354, 0.45088969768854575, 0.4466394812124751, 0.46322857363022085, 0.4737675643346744, 0.4923006152225511, 0.47727589691466626, 0.47920359604493984, 0.4763584478180223, 0.4863390008397306, 0.4963439112489912, 0.4765060923407956, 0.47805605880916724, 0.4951962740994262, 0.4902158956346345, 0.49260323608672063, 0.5144883542856572, 0.5077056609847621, 0.5333060223205457, 0.5361299343293519, 0.5248107967631614, 0.5293716152773887, 0.5283725408812988, 0.5313445677865146, 0.516886087060985, 0.5057466368194987, 0.5060316168324299, 0.5194459958536027, 0.5182909754938438, 0.5225100050030603, 0.528854977798396, 0.5455694146251725, 0.5597776423972806, 0.5413733181673577, 0.5183477189316591, 0.5153063358140335, 0.5118281474790909, 0.48966179679260763, 0.4729391188899944, 0.4590943235588163, 0.4747637507319559, 0.49271806011989333, 0.516840500189506, 0.5227862294948836]\n"
     ]
    }
   ],
   "source": [
    "print(means)"
   ]
  },
  {
   "cell_type": "code",
   "execution_count": 32,
   "metadata": {
    "scrolled": true
   },
   "outputs": [
    {
     "name": "stdout",
     "output_type": "stream",
     "text": [
      "[0.0, 0.0, 0.0, 0.0, 0.0, 0.0, 0.0, 0.0, 0.0, 0.0, 0.0, 0.0, 0.0, 0.0, 0.0, 0.0, 0.0, 0.0, 0.0, 0.0, 0.0, 0.0, 0.0, 0.0, 0.0, 0.0, 0.0, 0.0, 0.0, 0.0, 0.0, 0.0, 0.0, 0.0, 0.0, 0.0, 0.0, 0.0, 0.0, 0.0, 0.0, 0.0, 0.0, 0.0, 0.0, 0.0, 0.0, 0.0, 0.0, 0.0, 0.0, 0.0, 0.0, 0.0, 0.0, 0.0, 0.0, 0.0, 0.0, 0.0, 0.0, 0.0, 0.0, 0.0, 0.0, 0.0, 0.0, 0.0, 0.0, 0.0, 0.0, 0.0, 0.0, 0.0, 0.0, 0.0, 0.0, 0.0, 0.0, 0.0, 0.0, 0.0, 0.0, 0.0, 0.0, 0.011214758089086277, 0.02105042476184889, 0.03485352970751613, 0.05182649667946562, 0.0689802330495821, 0.07824816247874453, 0.08837002365812507, 0.09388764447326357, 0.10098422531099366, 0.11094756380815675, 0.12630994335069995, 0.15379138861042868, 0.15783742327206454, 0.16615624054156605, 0.19426050876046638, 0.2112963263111318, 0.22722349273730513, 0.24539186849755606, 0.2329886410924308, 0.23373707091454649, 0.22740838806794336, 0.21485204242101105, 0.21291212462096695, 0.21088747862319965, 0.23481818981247135, 0.2827042347815513, 0.3086173942605873, 0.3471983403362909, 0.36332026251591765, 0.37606363969970097, 0.4167333899628007, 0.4122772592339822, 0.417044190036576, 0.4187433269074127, 0.4137756345470666, 0.41160449420605894, 0.4158992322416272, 0.41481905873024943, 0.42412029124300665, 0.41671773363785114, 0.4112662445419666, 0.409361370822352, 0.41023723263473016, 0.40392192722520365, 0.40238839185784314, 0.4142852416695654, 0.4215734492742712, 0.4288930782719353, 0.4350214962500811, 0.4451720691948049, 0.45932008623631737, 0.46614481580458744, 0.46696669604572655, 0.4779045049010319, 0.4978749571290221, 0.5045532869881076, 0.5059418758832283, 0.5132045672562642, 0.507238110028528, 0.49771916874964434, 0.49402701861619125, 0.48728527443485303, 0.4799324917486303, 0.4785466395742898, 0.46092637794021885, 0.4500233851107171, 0.4500748057681042, 0.43787809608241574, 0.42164257800595306, 0.44618305865922714, 0.4579931596774861, 0.45883566739076964, 0.46350560784948136, 0.4560911144766894, 0.4559394201820792, 0.47373609772690745, 0.46188107417249463, 0.454946805555988, 0.4511997651519885, 0.4681327380438289, 0.4790489322606429, 0.49782275838722384, 0.48362221188208315, 0.4858125702660702, 0.4831222894040288, 0.49259448464704175, 0.5039442952408631, 0.4841756668702049, 0.48602494691594317, 0.502263560897786, 0.4977887426858203, 0.5001701059545364, 0.5209479985434214, 0.5135394902493589, 0.5391013089575067, 0.5421859327399267, 0.5315115938278149, 0.5348496420364, 0.5336612008992331, 0.5364172562749132, 0.5218432152406398, 0.5099442277576254, 0.5104313813199135, 0.5237982727541028, 0.5230568511649804, 0.5272273666075318, 0.5346186195800089, 0.55097364673982, 0.5649914911398596, 0.5471911595616293, 0.5249369552460954, 0.5220402721001025, 0.5185496071207872, 0.49545437516385527, 0.477832638183425, 0.4617863665635357, 0.4793998510932962, 0.49732860540084517, 0.5212572333142543, 0.5269114441348026]\n"
     ]
    }
   ],
   "source": [
    "print(upper_bounds)"
   ]
  },
  {
   "cell_type": "code",
   "execution_count": 33,
   "metadata": {},
   "outputs": [
    {
     "name": "stderr",
     "output_type": "stream",
     "text": [
      "/Users/alvastrand/opt/anaconda3/lib/python3.7/site-packages/pandas/plotting/_matplotlib/converter.py:103: FutureWarning: Using an implicitly registered datetime converter for a matplotlib plotting method. The converter was registered by pandas on import. Future versions of pandas will require you to explicitly register matplotlib converters.\n",
      "\n",
      "To register the converters:\n",
      "\t>>> from pandas.plotting import register_matplotlib_converters\n",
      "\t>>> register_matplotlib_converters()\n",
      "  warnings.warn(msg, FutureWarning)\n"
     ]
    },
    {
     "data": {
      "image/png": "[encoded data removed]",
      "text/plain": [
       "<Figure size 864x288 with 1 Axes>"
      ]
     },
     "metadata": {
      "needs_background": "light"
     },
     "output_type": "display_data"
    }
   ],
   "source": [
    "plt.figure(figsize=(12.0, 4.0))\n",
    "plt.scatter(df_block_year.iloc[range(len(df_block_year) - window_size + 1)]['observation_date_dt'], means)\n",
    "# plt.scatter(df_block_year.iloc[range(len(df_block_year) - window_size + 1)]['observation_date_dt'], upper_bounds)\n",
    "plt.show()"
   ]
  },
  {
   "cell_type": "code",
   "execution_count": 34,
   "metadata": {},
   "outputs": [
    {
     "data": {
      "image/png": "[encoded data removed]",
      "text/plain": [
       "<Figure size 864x288 with 1 Axes>"
      ]
     },
     "metadata": {
      "needs_background": "light"
     },
     "output_type": "display_data"
    }
   ],
   "source": [
    "plt.figure(figsize=(12.0, 4.0))\n",
    "plt.scatter(df_block_year['observation_date_dt'], df_block_year['prop'])\n",
    "plt.show()"
   ]
  },
  {
   "cell_type": "code",
   "execution_count": 35,
   "metadata": {},
   "outputs": [
    {
     "data": {
      "image/png": "[encoded data removed]",
      "text/plain": [
       "<Figure size 864x288 with 1 Axes>"
      ]
     },
     "metadata": {
      "needs_background": "light"
     },
     "output_type": "display_data"
    }
   ],
   "source": [
    "plt.figure(figsize=(12.0, 4.0))\n",
    "plt.scatter(df_block_year['observation_date_dt'], df_block_year['prop_arcsine'])\n",
    "plt.show()"
   ]
  },
  {
   "cell_type": "code",
   "execution_count": null,
   "metadata": {},
   "outputs": [],
   "source": []
  },
  {
   "cell_type": "code",
   "execution_count": 36,
   "metadata": {},
   "outputs": [],
   "source": [
    "# Logistic growth function approach"
   ]
  },
  {
   "cell_type": "code",
   "execution_count": 37,
   "metadata": {},
   "outputs": [],
   "source": [
    "def logistic_function(t, a, b, c):\n",
    "    return c/(1 + a*np.exp(-b*t))"
   ]
  },
  {
   "cell_type": "code",
   "execution_count": 38,
   "metadata": {},
   "outputs": [],
   "source": [
    "df_block_year_logistic = df_block_year.reset_index()"
   ]
  },
  {
   "cell_type": "code",
   "execution_count": 39,
   "metadata": {},
   "outputs": [],
   "source": [
    "df_block_year_logistic.rename(columns={'index': 't'}, inplace=True)"
   ]
  },
  {
   "cell_type": "code",
   "execution_count": 40,
   "metadata": {},
   "outputs": [],
   "source": [
    "df_block_year_logistic['t'] = df_block_year_logistic['t'] + 1"
   ]
  },
  {
   "cell_type": "code",
   "execution_count": 41,
   "metadata": {},
   "outputs": [
    {
     "data": {
      "text/html": [
       "<div>\n",
       "<style scoped>\n",
       "    .dataframe tbody tr th:only-of-type {\n",
       "        vertical-align: middle;\n",
       "    }\n",
       "\n",
       "    .dataframe tbody tr th {\n",
       "        vertical-align: top;\n",
       "    }\n",
       "\n",
       "    .dataframe thead th {\n",
       "        text-align: right;\n",
       "    }\n",
       "</style>\n",
       "<table border=\"1\" class=\"dataframe\">\n",
       "  <thead>\n",
       "    <tr style=\"text-align: right;\">\n",
       "      <th></th>\n",
       "      <th>t</th>\n",
       "      <th>grid_cell</th>\n",
       "      <th>year</th>\n",
       "      <th>observation_date</th>\n",
       "      <th>observation_date_dt</th>\n",
       "      <th>nb_checklists</th>\n",
       "      <th>nb_checklists_species</th>\n",
       "      <th>prop</th>\n",
       "      <th>prop_arcsine</th>\n",
       "    </tr>\n",
       "  </thead>\n",
       "  <tbody>\n",
       "    <tr>\n",
       "      <td>0</td>\n",
       "      <td>1</td>\n",
       "      <td>136</td>\n",
       "      <td>2014</td>\n",
       "      <td>2014-01-01</td>\n",
       "      <td>2014-01-01</td>\n",
       "      <td>501</td>\n",
       "      <td>0.0</td>\n",
       "      <td>0.0</td>\n",
       "      <td>0.0</td>\n",
       "    </tr>\n",
       "    <tr>\n",
       "      <td>1</td>\n",
       "      <td>2</td>\n",
       "      <td>136</td>\n",
       "      <td>2014</td>\n",
       "      <td>2014-01-02</td>\n",
       "      <td>2014-01-02</td>\n",
       "      <td>162</td>\n",
       "      <td>0.0</td>\n",
       "      <td>0.0</td>\n",
       "      <td>0.0</td>\n",
       "    </tr>\n",
       "  </tbody>\n",
       "</table>\n",
       "</div>"
      ],
      "text/plain": [
       "   t  grid_cell  year observation_date observation_date_dt  nb_checklists  \\\n",
       "0  1        136  2014       2014-01-01          2014-01-01            501   \n",
       "1  2        136  2014       2014-01-02          2014-01-02            162   \n",
       "\n",
       "   nb_checklists_species  prop  prop_arcsine  \n",
       "0                    0.0   0.0           0.0  \n",
       "1                    0.0   0.0           0.0  "
      ]
     },
     "execution_count": 41,
     "metadata": {},
     "output_type": "execute_result"
    }
   ],
   "source": [
    "df_block_year_logistic.head(2)"
   ]
  },
  {
   "cell_type": "code",
   "execution_count": 42,
   "metadata": {
    "scrolled": true
   },
   "outputs": [
    {
     "name": "stdout",
     "output_type": "stream",
     "text": [
      "[0.9274453684758169, 0.5720439290907612, 0.8535482015835305]\n"
     ]
    }
   ],
   "source": [
    "p0 = []\n",
    "for i in range(3):\n",
    "    p0.append(random.uniform(0, 1))\n",
    "print(p0)"
   ]
  },
  {
   "cell_type": "code",
   "execution_count": 43,
   "metadata": {},
   "outputs": [],
   "source": [
    "bounds = (0, [100000, 100, 1])"
   ]
  },
  {
   "cell_type": "code",
   "execution_count": 44,
   "metadata": {},
   "outputs": [],
   "source": [
    "x = df_block_year_logistic['t']\n",
    "y = df_block_year_logistic['prop']"
   ]
  },
  {
   "cell_type": "code",
   "execution_count": 45,
   "metadata": {},
   "outputs": [],
   "source": [
    "# Nonlinear least squares optimization\n",
    "popt, pcov = optim.curve_fit(logistic_function, x, y, bounds=bounds, p0=p0)"
   ]
  },
  {
   "cell_type": "code",
   "execution_count": 46,
   "metadata": {},
   "outputs": [
    {
     "name": "stdout",
     "output_type": "stream",
     "text": [
      "99999.99999992017 0.09705093024968776 0.22445799119663873\n"
     ]
    }
   ],
   "source": [
    "a_optim, b_optim, c_optim = popt\n",
    "print(a_optim, b_optim, c_optim)\n",
    "# 217.64014510384544 0.1438554152218848 0.20068378491939712"
   ]
  },
  {
   "cell_type": "code",
   "execution_count": 47,
   "metadata": {},
   "outputs": [
    {
     "data": {
      "image/png": "[encoded data removed]",
      "text/plain": [
       "<Figure size 864x288 with 1 Axes>"
      ]
     },
     "metadata": {
      "needs_background": "light"
     },
     "output_type": "display_data"
    }
   ],
   "source": [
    "plt.figure(figsize=(12.0, 4.0))\n",
    "plt.scatter(df_block_year_logistic['observation_date_dt'], y)\n",
    "plt.plot(df_block_year_logistic['observation_date_dt'], logistic_function(x, a_optim, b_optim, c_optim))\n",
    "plt.show()"
   ]
  },
  {
   "cell_type": "code",
   "execution_count": 49,
   "metadata": {
    "scrolled": true
   },
   "outputs": [
    {
     "data": {
      "text/html": [
       "<div>\n",
       "<style scoped>\n",
       "    .dataframe tbody tr th:only-of-type {\n",
       "        vertical-align: middle;\n",
       "    }\n",
       "\n",
       "    .dataframe tbody tr th {\n",
       "        vertical-align: top;\n",
       "    }\n",
       "\n",
       "    .dataframe thead th {\n",
       "        text-align: right;\n",
       "    }\n",
       "</style>\n",
       "<table border=\"1\" class=\"dataframe\">\n",
       "  <thead>\n",
       "    <tr style=\"text-align: right;\">\n",
       "      <th></th>\n",
       "      <th>t</th>\n",
       "      <th>grid_cell</th>\n",
       "      <th>year</th>\n",
       "      <th>observation_date</th>\n",
       "      <th>observation_date_dt</th>\n",
       "      <th>nb_checklists</th>\n",
       "      <th>nb_checklists_species</th>\n",
       "      <th>prop</th>\n",
       "      <th>prop_arcsine</th>\n",
       "    </tr>\n",
       "  </thead>\n",
       "  <tbody>\n",
       "    <tr>\n",
       "      <td>0</td>\n",
       "      <td>1</td>\n",
       "      <td>136</td>\n",
       "      <td>2014</td>\n",
       "      <td>2014-01-01</td>\n",
       "      <td>2014-01-01</td>\n",
       "      <td>501</td>\n",
       "      <td>0.0</td>\n",
       "      <td>0.0</td>\n",
       "      <td>0.0</td>\n",
       "    </tr>\n",
       "    <tr>\n",
       "      <td>1</td>\n",
       "      <td>2</td>\n",
       "      <td>136</td>\n",
       "      <td>2014</td>\n",
       "      <td>2014-01-02</td>\n",
       "      <td>2014-01-02</td>\n",
       "      <td>162</td>\n",
       "      <td>0.0</td>\n",
       "      <td>0.0</td>\n",
       "      <td>0.0</td>\n",
       "    </tr>\n",
       "  </tbody>\n",
       "</table>\n",
       "</div>"
      ],
      "text/plain": [
       "   t  grid_cell  year observation_date observation_date_dt  nb_checklists  \\\n",
       "0  1        136  2014       2014-01-01          2014-01-01            501   \n",
       "1  2        136  2014       2014-01-02          2014-01-02            162   \n",
       "\n",
       "   nb_checklists_species  prop  prop_arcsine  \n",
       "0                    0.0   0.0           0.0  \n",
       "1                    0.0   0.0           0.0  "
      ]
     },
     "execution_count": 49,
     "metadata": {},
     "output_type": "execute_result"
    }
   ],
   "source": [
    "df_block_year_logistic.head(2)"
   ]
  },
  {
   "cell_type": "code",
   "execution_count": 51,
   "metadata": {},
   "outputs": [],
   "source": [
    "import matplotlib as mpl"
   ]
  },
  {
   "cell_type": "code",
   "execution_count": 54,
   "metadata": {},
   "outputs": [],
   "source": [
    "mpl.rcParams['font.size'] = 12"
   ]
  },
  {
   "cell_type": "code",
   "execution_count": 56,
   "metadata": {},
   "outputs": [
    {
     "data": {
      "image/png": "[encoded data removed]",
      "text/plain": [
       "<Figure size 864x288 with 1 Axes>"
      ]
     },
     "metadata": {
      "needs_background": "light"
     },
     "output_type": "display_data"
    }
   ],
   "source": [
    "plt.figure(figsize=(12.0, 4.0))\n",
    "plt.scatter(df_block_year_logistic['t'], y)\n",
    "plt.plot(df_block_year_logistic['t'], logistic_function(x, a_optim, b_optim, c_optim), c='red')\n",
    "plt.xlabel('Julian day')\n",
    "plt.ylabel('Proportion of checklists')\n",
    "plt.title('Proportion of checklists with at least one Barn Swallow observation as a function of time')\n",
    "plt.show()"
   ]
  },
  {
   "cell_type": "code",
   "execution_count": null,
   "metadata": {},
   "outputs": [],
   "source": [
    "# Time step for mean arrival date\n",
    "mad = np.log(a_optim) / b_optim\n",
    "print(mad)\n",
    "# 118.62766764840377"
   ]
  },
  {
   "cell_type": "code",
   "execution_count": null,
   "metadata": {},
   "outputs": [],
   "source": [
    "# Time step for mean arrival date, rounded down\n",
    "print(math.floor(mad))\n",
    "# 118\n",
    "# Time step for mean arrival date, rounded up\n",
    "print(math.ceil(mad))\n",
    "# 119"
   ]
  },
  {
   "cell_type": "code",
   "execution_count": null,
   "metadata": {},
   "outputs": [],
   "source": [
    "# Mean arrival date, rounded down\n",
    "print(df_block_year_logistic[df_block_year_logistic['t'] == math.floor(mad)]['observation_date'])\n",
    "# 2014-04-25\n",
    "# 2014-04-28\n",
    "# Mean arrival date, rounded up\n",
    "print(df_block_year_logistic[df_block_year_logistic['t'] == math.ceil(mad)]['observation_date'])\n",
    "# 2014-04-26\n",
    "# 2014-04-29"
   ]
  },
  {
   "cell_type": "code",
   "execution_count": null,
   "metadata": {},
   "outputs": [],
   "source": [
    "lower_bound_c = (2.5 / 100) * c_optim\n",
    "print(lower_bound_c)\n",
    "\n",
    "upper_bound_c = (97.5 / 100) * c_optim\n",
    "print(upper_bound_c)"
   ]
  },
  {
   "cell_type": "code",
   "execution_count": null,
   "metadata": {},
   "outputs": [],
   "source": [
    "lower_bound_t = -np.log((1 / a_optim)*(c_optim / lower_bound_c - 1)) / b_optim\n",
    "print(lower_bound_t)\n",
    "\n",
    "upper_bound_t = -np.log((1 / a_optim)*(c_optim / upper_bound_c - 1)) / b_optim\n",
    "print(upper_bound_t)\n",
    "\n",
    "print(upper_bound_t - lower_bound_t)"
   ]
  },
  {
   "cell_type": "code",
   "execution_count": null,
   "metadata": {},
   "outputs": [],
   "source": [
    "lower_bound_date = df_block_year_logistic[df_block_year_logistic['prop'] >= \n",
    "                                          lower_bound_c]['observation_date_dt'].min()\n",
    "print(lower_bound_date)\n",
    "\n",
    "upper_bound_date = df_block_year_logistic[df_block_year_logistic['prop'] <= \n",
    "                                          upper_bound_c]['observation_date_dt'].max()\n",
    "print(upper_bound_date)"
   ]
  },
  {
   "cell_type": "code",
   "execution_count": null,
   "metadata": {},
   "outputs": [],
   "source": [
    "residuals = y - logistic_function(x, a_optim, b_optim, c_optim)\n",
    "ss_res = np.sum(residuals**2)\n",
    "ss_tot = np.sum((y - np.mean(y))**2)\n",
    "r_squared = 1 - (ss_res / ss_tot)\n",
    "# R-squared\n",
    "print(r_squared)"
   ]
  }
 ],
 "metadata": {
  "kernelspec": {
   "display_name": "Python 3",
   "language": "python",
   "name": "python3"
  },
  "language_info": {
   "codemirror_mode": {
    "name": "ipython",
    "version": 3
   },
   "file_extension": ".py",
   "mimetype": "text/x-python",
   "name": "python",
   "nbconvert_exporter": "python",
   "pygments_lexer": "ipython3",
   "version": "3.7.4"
  }
 },
 "nbformat": 4,
 "nbformat_minor": 2
}
