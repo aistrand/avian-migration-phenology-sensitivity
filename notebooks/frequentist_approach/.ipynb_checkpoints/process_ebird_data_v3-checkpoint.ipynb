{
 "cells": [
  {
   "cell_type": "markdown",
   "metadata": {},
   "source": [
    "# Description\n",
    "Calculate the proportion of checklists with at least Barn Swallow observation for each grid cell and year."
   ]
  },
  {
   "cell_type": "code",
   "execution_count": 1,
   "metadata": {},
   "outputs": [],
   "source": [
    "import os\n",
    "import pandas as pd\n",
    "import numpy as np\n",
    "import matplotlib.pyplot as plt"
   ]
  },
  {
   "cell_type": "code",
   "execution_count": 2,
   "metadata": {},
   "outputs": [],
   "source": [
    "pd.set_option('max_columns', 100)\n",
    "pd.set_option('max_rows', 100)"
   ]
  },
  {
   "cell_type": "code",
   "execution_count": 3,
   "metadata": {},
   "outputs": [
    {
     "data": {
      "text/plain": [
       "'/Users/alvastrand/Documents/OU/Research/notebooks/calculate_arrival_date'"
      ]
     },
     "execution_count": 3,
     "metadata": {},
     "output_type": "execute_result"
    }
   ],
   "source": [
    "os.getcwd()"
   ]
  },
  {
   "cell_type": "code",
   "execution_count": 4,
   "metadata": {},
   "outputs": [],
   "source": [
    "path = '/Users/alvastrand/'\n",
    "os.chdir(path)"
   ]
  },
  {
   "cell_type": "code",
   "execution_count": 5,
   "metadata": {},
   "outputs": [
    {
     "data": {
      "text/plain": [
       "'/Users/alvastrand'"
      ]
     },
     "execution_count": 5,
     "metadata": {},
     "output_type": "execute_result"
    }
   ],
   "source": [
    "os.getcwd()"
   ]
  },
  {
   "cell_type": "code",
   "execution_count": 6,
   "metadata": {},
   "outputs": [
    {
     "name": "stderr",
     "output_type": "stream",
     "text": [
      "/Users/alvastrand/opt/anaconda3/lib/python3.7/site-packages/IPython/core/interactiveshell.py:3058: DtypeWarning: Columns (11,29,32) have mixed types. Specify dtype option on import or set low_memory=False.\n",
      "  interactivity=interactivity, compiler=compiler, result=result)\n"
     ]
    }
   ],
   "source": [
    "filename = 'ebd_US_barswa_201001_202001_zerofilled_blocks_relJan-2020_v2.csv'\n",
    "# filename = 'ebd_US_barswa_201001_202001_zerofilled_blocks_relJan-2020.csv'\n",
    "df = pd.read_csv(filename)"
   ]
  },
  {
   "cell_type": "code",
   "execution_count": 7,
   "metadata": {},
   "outputs": [
    {
     "data": {
      "text/plain": [
       "False    6657547\n",
       "True      802259\n",
       "Name: species_observed, dtype: int64"
      ]
     },
     "execution_count": 7,
     "metadata": {},
     "output_type": "execute_result"
    }
   ],
   "source": [
    "df['species_observed'].value_counts()\n",
    "# False: 6,657,547 checklists that do not have a Barn Swallow observation.\n",
    "# True: 802,259 checklists that have at least one Barn Swallow observation."
   ]
  },
  {
   "cell_type": "code",
   "execution_count": 8,
   "metadata": {},
   "outputs": [],
   "source": [
    "df['species_observed_binary_values'] = np.where(df['species_observed'] == True, 1.0, 0.0)"
   ]
  },
  {
   "cell_type": "code",
   "execution_count": 9,
   "metadata": {},
   "outputs": [
    {
     "data": {
      "text/plain": [
       "(7459806, 36)"
      ]
     },
     "execution_count": 9,
     "metadata": {},
     "output_type": "execute_result"
    }
   ],
   "source": [
    "df.shape\n",
    "# (7,459,806, 36)"
   ]
  },
  {
   "cell_type": "code",
   "execution_count": 10,
   "metadata": {},
   "outputs": [
    {
     "data": {
      "text/html": [
       "<div>\n",
       "<style scoped>\n",
       "    .dataframe tbody tr th:only-of-type {\n",
       "        vertical-align: middle;\n",
       "    }\n",
       "\n",
       "    .dataframe tbody tr th {\n",
       "        vertical-align: top;\n",
       "    }\n",
       "\n",
       "    .dataframe thead th {\n",
       "        text-align: right;\n",
       "    }\n",
       "</style>\n",
       "<table border=\"1\" class=\"dataframe\">\n",
       "  <thead>\n",
       "    <tr style=\"text-align: right;\">\n",
       "      <th></th>\n",
       "      <th>checklist_id</th>\n",
       "      <th>last_edited_date</th>\n",
       "      <th>country</th>\n",
       "      <th>country_code</th>\n",
       "      <th>state</th>\n",
       "      <th>state_code</th>\n",
       "      <th>county</th>\n",
       "      <th>county_code</th>\n",
       "      <th>iba_code</th>\n",
       "      <th>bcr_code</th>\n",
       "      <th>usfws_code</th>\n",
       "      <th>atlas_block</th>\n",
       "      <th>locality</th>\n",
       "      <th>locality_id</th>\n",
       "      <th>locality_type</th>\n",
       "      <th>latitude</th>\n",
       "      <th>longitude</th>\n",
       "      <th>observation_date</th>\n",
       "      <th>time_observations_started</th>\n",
       "      <th>observer_id</th>\n",
       "      <th>sampling_event_identifier</th>\n",
       "      <th>protocol_type</th>\n",
       "      <th>protocol_code</th>\n",
       "      <th>project_code</th>\n",
       "      <th>duration_minutes</th>\n",
       "      <th>effort_distance_km</th>\n",
       "      <th>effort_area_ha</th>\n",
       "      <th>number_observers</th>\n",
       "      <th>all_species_reported</th>\n",
       "      <th>group_identifier</th>\n",
       "      <th>trip_comments</th>\n",
       "      <th>scientific_name</th>\n",
       "      <th>observation_count</th>\n",
       "      <th>species_observed</th>\n",
       "      <th>grid_cell</th>\n",
       "      <th>species_observed_binary_values</th>\n",
       "    </tr>\n",
       "  </thead>\n",
       "  <tbody>\n",
       "    <tr>\n",
       "      <td>0</td>\n",
       "      <td>S921844</td>\n",
       "      <td>2009-02-26 17:21:28</td>\n",
       "      <td>United States</td>\n",
       "      <td>US</td>\n",
       "      <td>Connecticut</td>\n",
       "      <td>US-CT</td>\n",
       "      <td>Litchfield</td>\n",
       "      <td>US-CT-005</td>\n",
       "      <td>NaN</td>\n",
       "      <td>30.0</td>\n",
       "      <td>NaN</td>\n",
       "      <td>NaN</td>\n",
       "      <td>06763 Morris</td>\n",
       "      <td>L122425</td>\n",
       "      <td>PC</td>\n",
       "      <td>41.68865</td>\n",
       "      <td>-73.18764</td>\n",
       "      <td>2002-05-14</td>\n",
       "      <td>18:30:00</td>\n",
       "      <td>obs16599</td>\n",
       "      <td>S921844</td>\n",
       "      <td>Stationary</td>\n",
       "      <td>P21</td>\n",
       "      <td>EBIRD</td>\n",
       "      <td>90</td>\n",
       "      <td>NaN</td>\n",
       "      <td>NaN</td>\n",
       "      <td>2</td>\n",
       "      <td>True</td>\n",
       "      <td>NaN</td>\n",
       "      <td>NaN</td>\n",
       "      <td>Hirundo rustica</td>\n",
       "      <td>0</td>\n",
       "      <td>False</td>\n",
       "      <td>135</td>\n",
       "      <td>0.0</td>\n",
       "    </tr>\n",
       "    <tr>\n",
       "      <td>1</td>\n",
       "      <td>S925230</td>\n",
       "      <td>2015-02-25 21:42:53</td>\n",
       "      <td>United States</td>\n",
       "      <td>US</td>\n",
       "      <td>North Carolina</td>\n",
       "      <td>US-NC</td>\n",
       "      <td>Buncombe</td>\n",
       "      <td>US-NC-021</td>\n",
       "      <td>NaN</td>\n",
       "      <td>28.0</td>\n",
       "      <td>NaN</td>\n",
       "      <td>NaN</td>\n",
       "      <td>60 Miller Cove Road</td>\n",
       "      <td>L2226869</td>\n",
       "      <td>P</td>\n",
       "      <td>35.57091</td>\n",
       "      <td>-82.30535</td>\n",
       "      <td>2002-06-07</td>\n",
       "      <td>08:00:00</td>\n",
       "      <td>obs11483</td>\n",
       "      <td>S925230</td>\n",
       "      <td>Stationary</td>\n",
       "      <td>P21</td>\n",
       "      <td>EBIRD</td>\n",
       "      <td>60</td>\n",
       "      <td>NaN</td>\n",
       "      <td>NaN</td>\n",
       "      <td>1</td>\n",
       "      <td>True</td>\n",
       "      <td>NaN</td>\n",
       "      <td>NaN</td>\n",
       "      <td>Hirundo rustica</td>\n",
       "      <td>0</td>\n",
       "      <td>False</td>\n",
       "      <td>89</td>\n",
       "      <td>0.0</td>\n",
       "    </tr>\n",
       "  </tbody>\n",
       "</table>\n",
       "</div>"
      ],
      "text/plain": [
       "  checklist_id     last_edited_date        country country_code  \\\n",
       "0      S921844  2009-02-26 17:21:28  United States           US   \n",
       "1      S925230  2015-02-25 21:42:53  United States           US   \n",
       "\n",
       "            state state_code      county county_code iba_code  bcr_code  \\\n",
       "0     Connecticut      US-CT  Litchfield   US-CT-005      NaN      30.0   \n",
       "1  North Carolina      US-NC    Buncombe   US-NC-021      NaN      28.0   \n",
       "\n",
       "  usfws_code atlas_block             locality locality_id locality_type  \\\n",
       "0        NaN         NaN         06763 Morris     L122425            PC   \n",
       "1        NaN         NaN  60 Miller Cove Road    L2226869             P   \n",
       "\n",
       "   latitude  longitude observation_date time_observations_started observer_id  \\\n",
       "0  41.68865  -73.18764       2002-05-14                  18:30:00    obs16599   \n",
       "1  35.57091  -82.30535       2002-06-07                  08:00:00    obs11483   \n",
       "\n",
       "  sampling_event_identifier protocol_type protocol_code project_code  \\\n",
       "0                   S921844    Stationary           P21        EBIRD   \n",
       "1                   S925230    Stationary           P21        EBIRD   \n",
       "\n",
       "   duration_minutes  effort_distance_km  effort_area_ha  number_observers  \\\n",
       "0                90                 NaN             NaN                 2   \n",
       "1                60                 NaN             NaN                 1   \n",
       "\n",
       "   all_species_reported group_identifier trip_comments  scientific_name  \\\n",
       "0                  True              NaN           NaN  Hirundo rustica   \n",
       "1                  True              NaN           NaN  Hirundo rustica   \n",
       "\n",
       "  observation_count  species_observed  grid_cell  \\\n",
       "0                 0             False        135   \n",
       "1                 0             False         89   \n",
       "\n",
       "   species_observed_binary_values  \n",
       "0                             0.0  \n",
       "1                             0.0  "
      ]
     },
     "execution_count": 10,
     "metadata": {},
     "output_type": "execute_result"
    }
   ],
   "source": [
    "df.head(2)"
   ]
  },
  {
   "cell_type": "code",
   "execution_count": 11,
   "metadata": {},
   "outputs": [],
   "source": [
    "# df['grid_cell'].isnull().values.any()"
   ]
  },
  {
   "cell_type": "code",
   "execution_count": 12,
   "metadata": {},
   "outputs": [],
   "source": [
    "# Calculate the total number of checklists for each grid cell and date\n",
    "df_cnt = df[['checklist_id', 'grid_cell', 'observation_date']].groupby(['grid_cell', 'observation_date']).count()"
   ]
  },
  {
   "cell_type": "code",
   "execution_count": 13,
   "metadata": {},
   "outputs": [],
   "source": [
    "df_cnt.rename(columns={'checklist_id': 'nb_checklists'}, inplace=True)"
   ]
  },
  {
   "cell_type": "code",
   "execution_count": 14,
   "metadata": {},
   "outputs": [
    {
     "data": {
      "text/plain": [
       "(272264, 1)"
      ]
     },
     "execution_count": 14,
     "metadata": {},
     "output_type": "execute_result"
    }
   ],
   "source": [
    "df_cnt.shape\n",
    "# (272,264, 1)"
   ]
  },
  {
   "cell_type": "code",
   "execution_count": 15,
   "metadata": {},
   "outputs": [
    {
     "data": {
      "text/html": [
       "<div>\n",
       "<style scoped>\n",
       "    .dataframe tbody tr th:only-of-type {\n",
       "        vertical-align: middle;\n",
       "    }\n",
       "\n",
       "    .dataframe tbody tr th {\n",
       "        vertical-align: top;\n",
       "    }\n",
       "\n",
       "    .dataframe thead th {\n",
       "        text-align: right;\n",
       "    }\n",
       "</style>\n",
       "<table border=\"1\" class=\"dataframe\">\n",
       "  <thead>\n",
       "    <tr style=\"text-align: right;\">\n",
       "      <th></th>\n",
       "      <th></th>\n",
       "      <th>nb_checklists</th>\n",
       "    </tr>\n",
       "    <tr>\n",
       "      <th>grid_cell</th>\n",
       "      <th>observation_date</th>\n",
       "      <th></th>\n",
       "    </tr>\n",
       "  </thead>\n",
       "  <tbody>\n",
       "    <tr>\n",
       "      <td rowspan=\"2\" valign=\"top\">4</td>\n",
       "      <td>2013-02-02</td>\n",
       "      <td>1</td>\n",
       "    </tr>\n",
       "    <tr>\n",
       "      <td>2013-02-03</td>\n",
       "      <td>1</td>\n",
       "    </tr>\n",
       "  </tbody>\n",
       "</table>\n",
       "</div>"
      ],
      "text/plain": [
       "                            nb_checklists\n",
       "grid_cell observation_date               \n",
       "4         2013-02-02                    1\n",
       "          2013-02-03                    1"
      ]
     },
     "execution_count": 15,
     "metadata": {},
     "output_type": "execute_result"
    }
   ],
   "source": [
    "df_cnt.head(2)"
   ]
  },
  {
   "cell_type": "code",
   "execution_count": 16,
   "metadata": {},
   "outputs": [],
   "source": [
    "# Calculate the number of checklists with at least one Barn Swallow observation for each grid cell and date\n",
    "df_sum = df[['species_observed_binary_values', 'grid_cell', 'observation_date']].groupby(['grid_cell', \n",
    "                                                                                         'observation_date']).sum()"
   ]
  },
  {
   "cell_type": "code",
   "execution_count": 17,
   "metadata": {},
   "outputs": [],
   "source": [
    "df_sum.rename(columns={'species_observed_binary_values': 'nb_checklists_species'}, inplace=True)"
   ]
  },
  {
   "cell_type": "code",
   "execution_count": 18,
   "metadata": {},
   "outputs": [
    {
     "data": {
      "text/plain": [
       "(272264, 1)"
      ]
     },
     "execution_count": 18,
     "metadata": {},
     "output_type": "execute_result"
    }
   ],
   "source": [
    "df_sum.shape\n",
    "# (272,264, 1)"
   ]
  },
  {
   "cell_type": "code",
   "execution_count": 19,
   "metadata": {},
   "outputs": [
    {
     "data": {
      "text/html": [
       "<div>\n",
       "<style scoped>\n",
       "    .dataframe tbody tr th:only-of-type {\n",
       "        vertical-align: middle;\n",
       "    }\n",
       "\n",
       "    .dataframe tbody tr th {\n",
       "        vertical-align: top;\n",
       "    }\n",
       "\n",
       "    .dataframe thead th {\n",
       "        text-align: right;\n",
       "    }\n",
       "</style>\n",
       "<table border=\"1\" class=\"dataframe\">\n",
       "  <thead>\n",
       "    <tr style=\"text-align: right;\">\n",
       "      <th></th>\n",
       "      <th></th>\n",
       "      <th>nb_checklists_species</th>\n",
       "    </tr>\n",
       "    <tr>\n",
       "      <th>grid_cell</th>\n",
       "      <th>observation_date</th>\n",
       "      <th></th>\n",
       "    </tr>\n",
       "  </thead>\n",
       "  <tbody>\n",
       "    <tr>\n",
       "      <td rowspan=\"2\" valign=\"top\">4</td>\n",
       "      <td>2013-02-02</td>\n",
       "      <td>0.0</td>\n",
       "    </tr>\n",
       "    <tr>\n",
       "      <td>2013-02-03</td>\n",
       "      <td>0.0</td>\n",
       "    </tr>\n",
       "  </tbody>\n",
       "</table>\n",
       "</div>"
      ],
      "text/plain": [
       "                            nb_checklists_species\n",
       "grid_cell observation_date                       \n",
       "4         2013-02-02                          0.0\n",
       "          2013-02-03                          0.0"
      ]
     },
     "execution_count": 19,
     "metadata": {},
     "output_type": "execute_result"
    }
   ],
   "source": [
    "df_sum.head(2)"
   ]
  },
  {
   "cell_type": "code",
   "execution_count": 20,
   "metadata": {},
   "outputs": [],
   "source": [
    "df_grp = df_cnt.merge(df_sum, left_index=True, right_index=True)"
   ]
  },
  {
   "cell_type": "code",
   "execution_count": 21,
   "metadata": {},
   "outputs": [
    {
     "data": {
      "text/plain": [
       "(272264, 2)"
      ]
     },
     "execution_count": 21,
     "metadata": {},
     "output_type": "execute_result"
    }
   ],
   "source": [
    "df_grp.shape\n",
    "# (272,264, 2)"
   ]
  },
  {
   "cell_type": "code",
   "execution_count": 22,
   "metadata": {},
   "outputs": [
    {
     "data": {
      "text/html": [
       "<div>\n",
       "<style scoped>\n",
       "    .dataframe tbody tr th:only-of-type {\n",
       "        vertical-align: middle;\n",
       "    }\n",
       "\n",
       "    .dataframe tbody tr th {\n",
       "        vertical-align: top;\n",
       "    }\n",
       "\n",
       "    .dataframe thead th {\n",
       "        text-align: right;\n",
       "    }\n",
       "</style>\n",
       "<table border=\"1\" class=\"dataframe\">\n",
       "  <thead>\n",
       "    <tr style=\"text-align: right;\">\n",
       "      <th></th>\n",
       "      <th></th>\n",
       "      <th>nb_checklists</th>\n",
       "      <th>nb_checklists_species</th>\n",
       "    </tr>\n",
       "    <tr>\n",
       "      <th>grid_cell</th>\n",
       "      <th>observation_date</th>\n",
       "      <th></th>\n",
       "      <th></th>\n",
       "    </tr>\n",
       "  </thead>\n",
       "  <tbody>\n",
       "    <tr>\n",
       "      <td rowspan=\"2\" valign=\"top\">4</td>\n",
       "      <td>2013-02-02</td>\n",
       "      <td>1</td>\n",
       "      <td>0.0</td>\n",
       "    </tr>\n",
       "    <tr>\n",
       "      <td>2013-02-03</td>\n",
       "      <td>1</td>\n",
       "      <td>0.0</td>\n",
       "    </tr>\n",
       "  </tbody>\n",
       "</table>\n",
       "</div>"
      ],
      "text/plain": [
       "                            nb_checklists  nb_checklists_species\n",
       "grid_cell observation_date                                      \n",
       "4         2013-02-02                    1                    0.0\n",
       "          2013-02-03                    1                    0.0"
      ]
     },
     "execution_count": 22,
     "metadata": {},
     "output_type": "execute_result"
    }
   ],
   "source": [
    "df_grp.head(2)"
   ]
  },
  {
   "cell_type": "code",
   "execution_count": 23,
   "metadata": {},
   "outputs": [],
   "source": [
    "# Calculate the proportion of checklists with at least one Barn Swallow observation for each grid cell and date\n",
    "df_grp['prop'] = df_grp['nb_checklists_species']/df_grp['nb_checklists']"
   ]
  },
  {
   "cell_type": "code",
   "execution_count": 24,
   "metadata": {},
   "outputs": [],
   "source": [
    "df_grp.reset_index(inplace=True)"
   ]
  },
  {
   "cell_type": "code",
   "execution_count": 25,
   "metadata": {},
   "outputs": [
    {
     "data": {
      "text/plain": [
       "(272264, 5)"
      ]
     },
     "execution_count": 25,
     "metadata": {},
     "output_type": "execute_result"
    }
   ],
   "source": [
    "df_grp.shape\n",
    "# (272,264, 5)"
   ]
  },
  {
   "cell_type": "code",
   "execution_count": 26,
   "metadata": {},
   "outputs": [
    {
     "data": {
      "text/html": [
       "<div>\n",
       "<style scoped>\n",
       "    .dataframe tbody tr th:only-of-type {\n",
       "        vertical-align: middle;\n",
       "    }\n",
       "\n",
       "    .dataframe tbody tr th {\n",
       "        vertical-align: top;\n",
       "    }\n",
       "\n",
       "    .dataframe thead th {\n",
       "        text-align: right;\n",
       "    }\n",
       "</style>\n",
       "<table border=\"1\" class=\"dataframe\">\n",
       "  <thead>\n",
       "    <tr style=\"text-align: right;\">\n",
       "      <th></th>\n",
       "      <th>grid_cell</th>\n",
       "      <th>observation_date</th>\n",
       "      <th>nb_checklists</th>\n",
       "      <th>nb_checklists_species</th>\n",
       "      <th>prop</th>\n",
       "    </tr>\n",
       "  </thead>\n",
       "  <tbody>\n",
       "    <tr>\n",
       "      <td>0</td>\n",
       "      <td>4</td>\n",
       "      <td>2013-02-02</td>\n",
       "      <td>1</td>\n",
       "      <td>0.0</td>\n",
       "      <td>0.0</td>\n",
       "    </tr>\n",
       "    <tr>\n",
       "      <td>1</td>\n",
       "      <td>4</td>\n",
       "      <td>2013-02-03</td>\n",
       "      <td>1</td>\n",
       "      <td>0.0</td>\n",
       "      <td>0.0</td>\n",
       "    </tr>\n",
       "  </tbody>\n",
       "</table>\n",
       "</div>"
      ],
      "text/plain": [
       "   grid_cell observation_date  nb_checklists  nb_checklists_species  prop\n",
       "0          4       2013-02-02              1                    0.0   0.0\n",
       "1          4       2013-02-03              1                    0.0   0.0"
      ]
     },
     "execution_count": 26,
     "metadata": {},
     "output_type": "execute_result"
    }
   ],
   "source": [
    "df_grp.head(2)"
   ]
  },
  {
   "cell_type": "code",
   "execution_count": 27,
   "metadata": {},
   "outputs": [
    {
     "name": "stdout",
     "output_type": "stream",
     "text": [
      "195710\n",
      "76554\n"
     ]
    }
   ],
   "source": [
    "# Number of combinations of grid cells and dates that have a proportion equal to 0\n",
    "print(len(df_grp[df_grp['prop'] == 0]))\n",
    "# 195,710\n",
    "# Number of combinations of grid cells and dates that have a proportion greater than 0\n",
    "print(len(df_grp[df_grp['prop'] > 0]))\n",
    "# 76,554"
   ]
  },
  {
   "cell_type": "code",
   "execution_count": 28,
   "metadata": {},
   "outputs": [],
   "source": [
    "df_grp['observation_date_dt'] = pd.to_datetime(df_grp['observation_date'])"
   ]
  },
  {
   "cell_type": "code",
   "execution_count": 29,
   "metadata": {},
   "outputs": [],
   "source": [
    "df_grp['year'] = df_grp['observation_date'].astype(str).str[:4]"
   ]
  },
  {
   "cell_type": "code",
   "execution_count": 30,
   "metadata": {},
   "outputs": [
    {
     "data": {
      "text/plain": [
       "(272264, 7)"
      ]
     },
     "execution_count": 30,
     "metadata": {},
     "output_type": "execute_result"
    }
   ],
   "source": [
    "df_grp.shape\n",
    "# (272,264, 7)"
   ]
  },
  {
   "cell_type": "code",
   "execution_count": 31,
   "metadata": {},
   "outputs": [
    {
     "data": {
      "text/html": [
       "<div>\n",
       "<style scoped>\n",
       "    .dataframe tbody tr th:only-of-type {\n",
       "        vertical-align: middle;\n",
       "    }\n",
       "\n",
       "    .dataframe tbody tr th {\n",
       "        vertical-align: top;\n",
       "    }\n",
       "\n",
       "    .dataframe thead th {\n",
       "        text-align: right;\n",
       "    }\n",
       "</style>\n",
       "<table border=\"1\" class=\"dataframe\">\n",
       "  <thead>\n",
       "    <tr style=\"text-align: right;\">\n",
       "      <th></th>\n",
       "      <th>grid_cell</th>\n",
       "      <th>observation_date</th>\n",
       "      <th>nb_checklists</th>\n",
       "      <th>nb_checklists_species</th>\n",
       "      <th>prop</th>\n",
       "      <th>observation_date_dt</th>\n",
       "      <th>year</th>\n",
       "    </tr>\n",
       "  </thead>\n",
       "  <tbody>\n",
       "    <tr>\n",
       "      <td>0</td>\n",
       "      <td>4</td>\n",
       "      <td>2013-02-02</td>\n",
       "      <td>1</td>\n",
       "      <td>0.0</td>\n",
       "      <td>0.0</td>\n",
       "      <td>2013-02-02</td>\n",
       "      <td>2013</td>\n",
       "    </tr>\n",
       "    <tr>\n",
       "      <td>1</td>\n",
       "      <td>4</td>\n",
       "      <td>2013-02-03</td>\n",
       "      <td>1</td>\n",
       "      <td>0.0</td>\n",
       "      <td>0.0</td>\n",
       "      <td>2013-02-03</td>\n",
       "      <td>2013</td>\n",
       "    </tr>\n",
       "  </tbody>\n",
       "</table>\n",
       "</div>"
      ],
      "text/plain": [
       "   grid_cell observation_date  nb_checklists  nb_checklists_species  prop  \\\n",
       "0          4       2013-02-02              1                    0.0   0.0   \n",
       "1          4       2013-02-03              1                    0.0   0.0   \n",
       "\n",
       "  observation_date_dt  year  \n",
       "0          2013-02-02  2013  \n",
       "1          2013-02-03  2013  "
      ]
     },
     "execution_count": 31,
     "metadata": {},
     "output_type": "execute_result"
    }
   ],
   "source": [
    "df_grp.head(2)"
   ]
  },
  {
   "cell_type": "code",
   "execution_count": 32,
   "metadata": {},
   "outputs": [],
   "source": [
    "df_prop_greater_than = df_grp[df_grp['prop'] > 0]"
   ]
  },
  {
   "cell_type": "code",
   "execution_count": 33,
   "metadata": {},
   "outputs": [
    {
     "data": {
      "text/plain": [
       "94"
      ]
     },
     "execution_count": 33,
     "metadata": {},
     "output_type": "execute_result"
    }
   ],
   "source": [
    "# Number of grid cells that have at least one proportion that is greater than 0\n",
    "len(df_prop_greater_than['grid_cell'].unique())\n",
    "# 94"
   ]
  },
  {
   "cell_type": "code",
   "execution_count": 34,
   "metadata": {},
   "outputs": [
    {
     "data": {
      "text/plain": [
       "(76554, 7)"
      ]
     },
     "execution_count": 34,
     "metadata": {},
     "output_type": "execute_result"
    }
   ],
   "source": [
    "df_prop_greater_than.shape\n",
    "# (76,554, 7)\n",
    "# 76,554 combinations of grid cells and dates have a proportion that is greater than 0."
   ]
  },
  {
   "cell_type": "code",
   "execution_count": 35,
   "metadata": {},
   "outputs": [
    {
     "data": {
      "text/html": [
       "<div>\n",
       "<style scoped>\n",
       "    .dataframe tbody tr th:only-of-type {\n",
       "        vertical-align: middle;\n",
       "    }\n",
       "\n",
       "    .dataframe tbody tr th {\n",
       "        vertical-align: top;\n",
       "    }\n",
       "\n",
       "    .dataframe thead th {\n",
       "        text-align: right;\n",
       "    }\n",
       "</style>\n",
       "<table border=\"1\" class=\"dataframe\">\n",
       "  <thead>\n",
       "    <tr style=\"text-align: right;\">\n",
       "      <th></th>\n",
       "      <th>grid_cell</th>\n",
       "      <th>observation_date</th>\n",
       "      <th>nb_checklists</th>\n",
       "      <th>nb_checklists_species</th>\n",
       "      <th>prop</th>\n",
       "      <th>observation_date_dt</th>\n",
       "      <th>year</th>\n",
       "    </tr>\n",
       "  </thead>\n",
       "  <tbody>\n",
       "    <tr>\n",
       "      <td>400</td>\n",
       "      <td>5</td>\n",
       "      <td>2010-03-31</td>\n",
       "      <td>2</td>\n",
       "      <td>2.0</td>\n",
       "      <td>1.0</td>\n",
       "      <td>2010-03-31</td>\n",
       "      <td>2010</td>\n",
       "    </tr>\n",
       "    <tr>\n",
       "      <td>401</td>\n",
       "      <td>5</td>\n",
       "      <td>2010-04-01</td>\n",
       "      <td>1</td>\n",
       "      <td>1.0</td>\n",
       "      <td>1.0</td>\n",
       "      <td>2010-04-01</td>\n",
       "      <td>2010</td>\n",
       "    </tr>\n",
       "  </tbody>\n",
       "</table>\n",
       "</div>"
      ],
      "text/plain": [
       "     grid_cell observation_date  nb_checklists  nb_checklists_species  prop  \\\n",
       "400          5       2010-03-31              2                    2.0   1.0   \n",
       "401          5       2010-04-01              1                    1.0   1.0   \n",
       "\n",
       "    observation_date_dt  year  \n",
       "400          2010-03-31  2010  \n",
       "401          2010-04-01  2010  "
      ]
     },
     "execution_count": 35,
     "metadata": {},
     "output_type": "execute_result"
    }
   ],
   "source": [
    "df_prop_greater_than.head(2)"
   ]
  },
  {
   "cell_type": "code",
   "execution_count": 36,
   "metadata": {},
   "outputs": [],
   "source": [
    "# Calculate the number of proportions greater than 0 for each grid cell and date\n",
    "df_prop_greater_than_cnt = df_prop_greater_than[['grid_cell', 'year', 'prop']].groupby(['grid_cell', 'year']).count()"
   ]
  },
  {
   "cell_type": "code",
   "execution_count": 37,
   "metadata": {},
   "outputs": [],
   "source": [
    "df_prop_greater_than_cnt.reset_index(inplace=True)"
   ]
  },
  {
   "cell_type": "code",
   "execution_count": 38,
   "metadata": {},
   "outputs": [],
   "source": [
    "df_prop_greater_than_cnt.rename(columns={'prop': 'nb_prop'}, inplace=True)"
   ]
  },
  {
   "cell_type": "code",
   "execution_count": 39,
   "metadata": {},
   "outputs": [
    {
     "data": {
      "text/plain": [
       "(918, 3)"
      ]
     },
     "execution_count": 39,
     "metadata": {},
     "output_type": "execute_result"
    }
   ],
   "source": [
    "df_prop_greater_than_cnt.shape\n",
    "# (918, 3)\n",
    "# 918 combinations of grid cells and years have at least one proportion that is greater than 0."
   ]
  },
  {
   "cell_type": "code",
   "execution_count": 40,
   "metadata": {},
   "outputs": [
    {
     "data": {
      "text/html": [
       "<div>\n",
       "<style scoped>\n",
       "    .dataframe tbody tr th:only-of-type {\n",
       "        vertical-align: middle;\n",
       "    }\n",
       "\n",
       "    .dataframe tbody tr th {\n",
       "        vertical-align: top;\n",
       "    }\n",
       "\n",
       "    .dataframe thead th {\n",
       "        text-align: right;\n",
       "    }\n",
       "</style>\n",
       "<table border=\"1\" class=\"dataframe\">\n",
       "  <thead>\n",
       "    <tr style=\"text-align: right;\">\n",
       "      <th></th>\n",
       "      <th>grid_cell</th>\n",
       "      <th>year</th>\n",
       "      <th>nb_prop</th>\n",
       "    </tr>\n",
       "  </thead>\n",
       "  <tbody>\n",
       "    <tr>\n",
       "      <td>0</td>\n",
       "      <td>5</td>\n",
       "      <td>2010</td>\n",
       "      <td>19</td>\n",
       "    </tr>\n",
       "    <tr>\n",
       "      <td>1</td>\n",
       "      <td>5</td>\n",
       "      <td>2011</td>\n",
       "      <td>21</td>\n",
       "    </tr>\n",
       "  </tbody>\n",
       "</table>\n",
       "</div>"
      ],
      "text/plain": [
       "   grid_cell  year  nb_prop\n",
       "0          5  2010       19\n",
       "1          5  2011       21"
      ]
     },
     "execution_count": 40,
     "metadata": {},
     "output_type": "execute_result"
    }
   ],
   "source": [
    "df_prop_greater_than_cnt.head(2)"
   ]
  },
  {
   "cell_type": "code",
   "execution_count": 41,
   "metadata": {},
   "outputs": [],
   "source": [
    "df_nb_prop = df_prop_greater_than_cnt['nb_prop'].value_counts().to_frame().reset_index()"
   ]
  },
  {
   "cell_type": "code",
   "execution_count": 42,
   "metadata": {},
   "outputs": [],
   "source": [
    "df_nb_prop.rename(columns={'index': 'nb_prop', 'nb_prop': 'count'}, inplace=True)"
   ]
  },
  {
   "cell_type": "code",
   "execution_count": 43,
   "metadata": {},
   "outputs": [
    {
     "data": {
      "text/html": [
       "<div>\n",
       "<style scoped>\n",
       "    .dataframe tbody tr th:only-of-type {\n",
       "        vertical-align: middle;\n",
       "    }\n",
       "\n",
       "    .dataframe tbody tr th {\n",
       "        vertical-align: top;\n",
       "    }\n",
       "\n",
       "    .dataframe thead th {\n",
       "        text-align: right;\n",
       "    }\n",
       "</style>\n",
       "<table border=\"1\" class=\"dataframe\">\n",
       "  <thead>\n",
       "    <tr style=\"text-align: right;\">\n",
       "      <th></th>\n",
       "      <th>nb_prop</th>\n",
       "      <th>count</th>\n",
       "    </tr>\n",
       "  </thead>\n",
       "  <tbody>\n",
       "    <tr>\n",
       "      <td>0</td>\n",
       "      <td>1</td>\n",
       "      <td>27</td>\n",
       "    </tr>\n",
       "    <tr>\n",
       "      <td>1</td>\n",
       "      <td>119</td>\n",
       "      <td>25</td>\n",
       "    </tr>\n",
       "  </tbody>\n",
       "</table>\n",
       "</div>"
      ],
      "text/plain": [
       "   nb_prop  count\n",
       "0        1     27\n",
       "1      119     25"
      ]
     },
     "execution_count": 43,
     "metadata": {},
     "output_type": "execute_result"
    }
   ],
   "source": [
    "df_nb_prop.head(2)\n",
    "# *-03-20 - *-06-29: 33 combinations of grid cells and years have 89 proportions greater than 0 (largest number of \n",
    "# combinations)"
   ]
  },
  {
   "cell_type": "code",
   "execution_count": 44,
   "metadata": {},
   "outputs": [
    {
     "name": "stdout",
     "output_type": "stream",
     "text": [
      "1\n",
      "151\n"
     ]
    }
   ],
   "source": [
    "# Smallest number of proportions greater than 0 encountered for a given grid cell and year\n",
    "print(min(df_nb_prop['nb_prop']))\n",
    "# 1\n",
    "# Largest number of proportions greater than 0 encountered for a given grid cell and year\n",
    "print(max(df_nb_prop['nb_prop']))\n",
    "# 151\n",
    "# *-03-20 - *-06-29: 102"
   ]
  },
  {
   "cell_type": "code",
   "execution_count": 45,
   "metadata": {
    "scrolled": true
   },
   "outputs": [],
   "source": [
    "# nb_prop_greater_than = 89\n",
    "\n",
    "# df_prop_greater_than_cnt[df_prop_greater_than_cnt['prop'] == nb_prop_greater_than]"
   ]
  },
  {
   "cell_type": "code",
   "execution_count": 46,
   "metadata": {},
   "outputs": [],
   "source": [
    "# df_prop_greater_than_cnt[(df_prop_greater_than_cnt['grid_cell'] == 136) & \n",
    "#                          (df_prop_greater_than_cnt['year'] == '2014')]"
   ]
  },
  {
   "cell_type": "code",
   "execution_count": null,
   "metadata": {},
   "outputs": [],
   "source": []
  },
  {
   "cell_type": "code",
   "execution_count": 47,
   "metadata": {},
   "outputs": [],
   "source": [
    "filename = 'ebd_US_barswa_201001_202001_zerofilled_blocks_prop_relJan-2020_v2.csv'\n",
    "# filename = 'ebd_US_barswa_201001_202001_zerofilled_blocks_prop_relJan-2020.csv'\n",
    "df_grp.to_csv(filename, index=False)"
   ]
  },
  {
   "cell_type": "code",
   "execution_count": null,
   "metadata": {},
   "outputs": [],
   "source": []
  },
  {
   "cell_type": "code",
   "execution_count": 48,
   "metadata": {},
   "outputs": [],
   "source": [
    "grid_cell = 136\n",
    "year = '2014'"
   ]
  },
  {
   "cell_type": "code",
   "execution_count": 49,
   "metadata": {},
   "outputs": [],
   "source": [
    "# Get data for a specific grid cell and year\n",
    "df_block_year = df_grp[(df_grp['grid_cell'] == grid_cell) & (df_grp['year'] == year)]"
   ]
  },
  {
   "cell_type": "code",
   "execution_count": 50,
   "metadata": {},
   "outputs": [],
   "source": [
    "df_block_year.reset_index(drop=True, inplace=True)"
   ]
  },
  {
   "cell_type": "code",
   "execution_count": 51,
   "metadata": {},
   "outputs": [
    {
     "name": "stderr",
     "output_type": "stream",
     "text": [
      "/Users/alvastrand/opt/anaconda3/lib/python3.7/site-packages/pandas/plotting/_matplotlib/converter.py:103: FutureWarning: Using an implicitly registered datetime converter for a matplotlib plotting method. The converter was registered by pandas on import. Future versions of pandas will require you to explicitly register matplotlib converters.\n",
      "\n",
      "To register the converters:\n",
      "\t>>> from pandas.plotting import register_matplotlib_converters\n",
      "\t>>> register_matplotlib_converters()\n",
      "  warnings.warn(msg, FutureWarning)\n"
     ]
    },
    {
     "data": {
      "image/png": "[encoded data removed]",
      "text/plain": [
       "<Figure size 864x288 with 1 Axes>"
      ]
     },
     "metadata": {
      "needs_background": "light"
     },
     "output_type": "display_data"
    }
   ],
   "source": [
    "plt.figure(figsize=(12.0, 4.0))\n",
    "plt.scatter(df_block_year['observation_date_dt'], df_block_year['prop'])\n",
    "plt.show()"
   ]
  },
  {
   "cell_type": "code",
   "execution_count": 52,
   "metadata": {},
   "outputs": [],
   "source": [
    "# plt.rcParams[\"figure.figsize\"]"
   ]
  },
  {
   "cell_type": "code",
   "execution_count": 53,
   "metadata": {},
   "outputs": [],
   "source": [
    "df_block_year = df_block_year.drop(columns=['observation_date_dt'])"
   ]
  },
  {
   "cell_type": "code",
   "execution_count": 54,
   "metadata": {},
   "outputs": [
    {
     "data": {
      "text/plain": [
       "(211, 6)"
      ]
     },
     "execution_count": 54,
     "metadata": {},
     "output_type": "execute_result"
    }
   ],
   "source": [
    "df_block_year.shape"
   ]
  },
  {
   "cell_type": "code",
   "execution_count": 55,
   "metadata": {},
   "outputs": [
    {
     "data": {
      "text/html": [
       "<div>\n",
       "<style scoped>\n",
       "    .dataframe tbody tr th:only-of-type {\n",
       "        vertical-align: middle;\n",
       "    }\n",
       "\n",
       "    .dataframe tbody tr th {\n",
       "        vertical-align: top;\n",
       "    }\n",
       "\n",
       "    .dataframe thead th {\n",
       "        text-align: right;\n",
       "    }\n",
       "</style>\n",
       "<table border=\"1\" class=\"dataframe\">\n",
       "  <thead>\n",
       "    <tr style=\"text-align: right;\">\n",
       "      <th></th>\n",
       "      <th>grid_cell</th>\n",
       "      <th>observation_date</th>\n",
       "      <th>nb_checklists</th>\n",
       "      <th>nb_checklists_species</th>\n",
       "      <th>prop</th>\n",
       "      <th>year</th>\n",
       "    </tr>\n",
       "  </thead>\n",
       "  <tbody>\n",
       "    <tr>\n",
       "      <td>0</td>\n",
       "      <td>136</td>\n",
       "      <td>2014-01-01</td>\n",
       "      <td>501</td>\n",
       "      <td>0.0</td>\n",
       "      <td>0.0</td>\n",
       "      <td>2014</td>\n",
       "    </tr>\n",
       "    <tr>\n",
       "      <td>1</td>\n",
       "      <td>136</td>\n",
       "      <td>2014-01-02</td>\n",
       "      <td>162</td>\n",
       "      <td>0.0</td>\n",
       "      <td>0.0</td>\n",
       "      <td>2014</td>\n",
       "    </tr>\n",
       "  </tbody>\n",
       "</table>\n",
       "</div>"
      ],
      "text/plain": [
       "   grid_cell observation_date  nb_checklists  nb_checklists_species  prop  \\\n",
       "0        136       2014-01-01            501                    0.0   0.0   \n",
       "1        136       2014-01-02            162                    0.0   0.0   \n",
       "\n",
       "   year  \n",
       "0  2014  \n",
       "1  2014  "
      ]
     },
     "execution_count": 55,
     "metadata": {},
     "output_type": "execute_result"
    }
   ],
   "source": [
    "df_block_year.head(2)"
   ]
  },
  {
   "cell_type": "code",
   "execution_count": 56,
   "metadata": {},
   "outputs": [],
   "source": [
    "filename = 'ebd_US_barswa_201001_202001_zerofilled_block_' + str(grid_cell) + '_year_' + year + \\\n",
    "'_prop_relJan-2020_v2.csv'\n",
    "# filename = 'ebd_US_barswa_201001_202001_zerofilled_block_' + str(grid_cell) + '_year_' + year + \\\n",
    "# '_prop_relJan-2020.csv'\n",
    "df_block_year.to_csv(filename, index=False)"
   ]
  }
 ],
 "metadata": {
  "kernelspec": {
   "display_name": "Python 3",
   "language": "python",
   "name": "python3"
  },
  "language_info": {
   "codemirror_mode": {
    "name": "ipython",
    "version": 3
   },
   "file_extension": ".py",
   "mimetype": "text/x-python",
   "name": "python",
   "nbconvert_exporter": "python",
   "pygments_lexer": "ipython3",
   "version": "3.7.4"
  }
 },
 "nbformat": 4,
 "nbformat_minor": 2
}
