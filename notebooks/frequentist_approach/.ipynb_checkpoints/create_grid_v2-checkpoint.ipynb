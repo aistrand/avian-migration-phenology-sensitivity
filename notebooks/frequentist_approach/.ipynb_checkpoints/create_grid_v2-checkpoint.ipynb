{
 "cells": [
  {
   "cell_type": "markdown",
   "metadata": {},
   "source": [
    "# Description:\n",
    "Create grid and assign eBird checklists to a cell in the grid."
   ]
  },
  {
   "cell_type": "code",
   "execution_count": null,
   "metadata": {},
   "outputs": [],
   "source": [
    "import os\n",
    "import pandas as pd\n",
    "import numpy as np\n",
    "import math\n",
    "import matplotlib.pyplot as plt"
   ]
  },
  {
   "cell_type": "code",
   "execution_count": null,
   "metadata": {},
   "outputs": [],
   "source": [
    "pd.set_option('max_columns', 100)\n",
    "pd.set_option('max_rows', 100)"
   ]
  },
  {
   "cell_type": "code",
   "execution_count": null,
   "metadata": {},
   "outputs": [],
   "source": [
    "os.getcwd()"
   ]
  },
  {
   "cell_type": "code",
   "execution_count": null,
   "metadata": {},
   "outputs": [],
   "source": [
    "path = '/Users/alvastrand/Documents/OU/Research/data/ebd_output/'\n",
    "# path = '/Users/alvastrand/'\n",
    "# Change current working directory\n",
    "os.chdir(path)"
   ]
  },
  {
   "cell_type": "code",
   "execution_count": null,
   "metadata": {},
   "outputs": [],
   "source": [
    "os.getcwd()"
   ]
  },
  {
   "cell_type": "code",
   "execution_count": null,
   "metadata": {},
   "outputs": [],
   "source": [
    "species = 'purmar'\n",
    "country = 'US'\n",
    "states_string = '_states_east_Mississippi'\n",
    "start_date = '0101'\n",
    "end_date = '0731'\n",
    "month = 'Apr'\n",
    "year = '2020'\n",
    "\n",
    "filename = 'ebd_' + country + states_string + '_' + species + '_' + start_date + '_' + end_date + \\\n",
    "'_complete_zerofilled_rel' + month '-' + year + '.csv'\n",
    "# filename = 'ebd_US_barswa_201001_202001_zerofilled_relJan-2020_v2.csv'\n",
    "# filename = 'ebd_US_barswa_201001_202001_zerofilled_relJan-2020.csv'\n",
    "\n",
    "df = pd.read_csv(filename)"
   ]
  },
  {
   "cell_type": "code",
   "execution_count": null,
   "metadata": {},
   "outputs": [],
   "source": [
    "df.shape\n",
    "# (7459806, 34)"
   ]
  },
  {
   "cell_type": "code",
   "execution_count": null,
   "metadata": {},
   "outputs": [],
   "source": [
    "df.head(2)"
   ]
  },
  {
   "cell_type": "code",
   "execution_count": null,
   "metadata": {},
   "outputs": [],
   "source": [
    "min_lat = math.floor(23.88817)\n",
    "print(min_lat)\n",
    "# 23\n",
    "\n",
    "max_lat = math.ceil(48.2235)\n",
    "print(max_lat)\n",
    "# 49\n",
    "\n",
    "min_lon = math.floor(-92.88799)\n",
    "print(min_lon)\n",
    "# -93\n",
    "\n",
    "max_lon = math.ceil(-66.94957) + 1\n",
    "# -66.9502\n",
    "print(max_lon)\n",
    "# -65"
   ]
  },
  {
   "cell_type": "code",
   "execution_count": null,
   "metadata": {},
   "outputs": [],
   "source": [
    "# Create list of latitudes\n",
    "list_lat = range(min_lat, max_lat, 2)\n",
    "print(list_lat)\n",
    "# range(23, 49, 2)\n",
    "# Get length of the list\n",
    "print(len(list_lat))\n",
    "# 13\n",
    "\n",
    "# Create list of longitudes\n",
    "list_lon = range(min_lon, max_lon, 2)\n",
    "print(list_lon)\n",
    "# range(-93, -65, 2)\n",
    "# Get length of the list\n",
    "print(len(list_lon))\n",
    "# 14"
   ]
  },
  {
   "cell_type": "code",
   "execution_count": null,
   "metadata": {},
   "outputs": [],
   "source": [
    "df['grid_cell'] = np.nan"
   ]
  },
  {
   "cell_type": "code",
   "execution_count": null,
   "metadata": {},
   "outputs": [],
   "source": [
    "df.shape\n",
    "# (7459806, 35)"
   ]
  },
  {
   "cell_type": "code",
   "execution_count": null,
   "metadata": {},
   "outputs": [],
   "source": [
    "df.head(2)"
   ]
  },
  {
   "cell_type": "code",
   "execution_count": null,
   "metadata": {
    "scrolled": true
   },
   "outputs": [],
   "source": [
    "num = 0\n",
    "for i in range(len(list_lat)):\n",
    "    for j in range(len(list_lon)):\n",
    "        # If we've reached the index of the last element of the list of latitudes\n",
    "        if i == len(list_lat) - 1:\n",
    "            bounding_lat = list_lat[i] + 2\n",
    "        else:\n",
    "            bounding_lat = list_lat[i+1]\n",
    "        # If we've reached the index of the last element of the list of longitudes\n",
    "        if j == len(list_lon) - 1:\n",
    "            bounding_lon = list_lon[j] + 2\n",
    "        else:\n",
    "            bounding_lon = list_lon[j+1]\n",
    "        # Assign the number num to the grid_cell column on rows that meet conditions\n",
    "        df.loc[(df['latitude'] > list_lat[i]) & \n",
    "               (df['latitude'] <= bounding_lat) & \n",
    "               (df['longitude'] > list_lon[j]) & \n",
    "               (df['longitude'] <= bounding_lon), 'grid_cell'] = num\n",
    "        print(num)\n",
    "        print(list_lat[i], bounding_lat)\n",
    "        print(list_lon[j], bounding_lon)\n",
    "        # Update num by adding 1 to it\n",
    "        num += 1"
   ]
  },
  {
   "cell_type": "code",
   "execution_count": null,
   "metadata": {},
   "outputs": [],
   "source": [
    "list_grid_cell_ids = []\n",
    "list_min_lat = []\n",
    "list_max_lat = []\n",
    "list_min_lon = []\n",
    "list_max_lon = []\n",
    "\n",
    "ID = 0\n",
    "for i in range(len(list_lat)):\n",
    "    for j in range(len(list_lon)):\n",
    "        # If we've reached the index of the last element of the list of latitudes\n",
    "        if i == len(list_lat) - 1:\n",
    "            bounding_lat = list_lat[i] + 2\n",
    "        else:\n",
    "            bounding_lat = list_lat[i+1]\n",
    "        # If we've reached the index of the last element of the list of longitudes\n",
    "        if j == len(list_lon) - 1:\n",
    "            bounding_lon = list_lon[j] + 2\n",
    "        else:\n",
    "            bounding_lon = list_lon[j+1]\n",
    "        list_grid_cell_ids.append(ID)\n",
    "        list_min_lat.append(list_lat[i])\n",
    "        list_max_lat.append(bounding_lat)\n",
    "        list_min_lon.append(list_lon[j])\n",
    "        list_max_lon.append(bounding_lon)\n",
    "        ID += 1"
   ]
  },
  {
   "cell_type": "code",
   "execution_count": null,
   "metadata": {},
   "outputs": [],
   "source": [
    "df_ids = pd.DataFrame(data={'grid_cell': list_grid_cell_ids, 'min_lat': list_min_lat, 'max_lat': list_max_lat, \n",
    "                            'min_lon': list_min_lon, 'max_lon': list_max_lon})"
   ]
  },
  {
   "cell_type": "code",
   "execution_count": null,
   "metadata": {},
   "outputs": [],
   "source": [
    "df_ids.shape"
   ]
  },
  {
   "cell_type": "code",
   "execution_count": null,
   "metadata": {},
   "outputs": [],
   "source": [
    "df_ids.head(2)"
   ]
  },
  {
   "cell_type": "code",
   "execution_count": null,
   "metadata": {},
   "outputs": [],
   "source": [
    "# filename = 'ebd_US_barswa_201001_202001_relJan-2020_grid_cell_ids_v2.csv'\n",
    "# df_ids.to_csv(filename, index=False)"
   ]
  },
  {
   "cell_type": "code",
   "execution_count": null,
   "metadata": {},
   "outputs": [],
   "source": []
  },
  {
   "cell_type": "code",
   "execution_count": null,
   "metadata": {},
   "outputs": [],
   "source": [
    "df['grid_cell'] = df['grid_cell'].astype(int)"
   ]
  },
  {
   "cell_type": "code",
   "execution_count": null,
   "metadata": {},
   "outputs": [],
   "source": [
    "df.shape\n",
    "# (7459806, 35)"
   ]
  },
  {
   "cell_type": "code",
   "execution_count": null,
   "metadata": {},
   "outputs": [],
   "source": [
    "df.head(2)"
   ]
  },
  {
   "cell_type": "code",
   "execution_count": null,
   "metadata": {},
   "outputs": [],
   "source": [
    "print(df['grid_cell'].min())\n",
    "# 4\n",
    "print(df['grid_cell'].max())\n",
    "# 180\n",
    "# Get number of unique grid cells\n",
    "print(len(df['grid_cell'].unique()))\n",
    "# 108"
   ]
  },
  {
   "cell_type": "code",
   "execution_count": null,
   "metadata": {},
   "outputs": [],
   "source": [
    "# filename = 'ebd_US_barswa_201001_202001_zerofilled_blocks_relJan-2020_v2.csv'\n",
    "# # filename = 'ebd_US_barswa_201001_202001_zerofilled_blocks_relJan-2020.csv'\n",
    "# df.to_csv(filename, index=False)"
   ]
  }
 ],
 "metadata": {
  "kernelspec": {
   "display_name": "Python 3",
   "language": "python",
   "name": "python3"
  },
  "language_info": {
   "codemirror_mode": {
    "name": "ipython",
    "version": 3
   },
   "file_extension": ".py",
   "mimetype": "text/x-python",
   "name": "python",
   "nbconvert_exporter": "python",
   "pygments_lexer": "ipython3",
   "version": "3.7.4"
  }
 },
 "nbformat": 4,
 "nbformat_minor": 2
}
