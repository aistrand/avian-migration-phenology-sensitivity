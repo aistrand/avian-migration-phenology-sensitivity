{
 "cells": [
  {
   "cell_type": "code",
   "execution_count": null,
   "id": "787486ed",
   "metadata": {},
   "outputs": [],
   "source": []
  },
  {
   "cell_type": "code",
   "execution_count": null,
   "id": "ef5eb52a",
   "metadata": {},
   "outputs": [],
   "source": [
    "ax = df_cell_t.plot.scatter(x='year', y='air_temp_degrees_celsius')\n",
    "\n",
    "abline_plot(model_results=res_ols, ax=ax, color='black')\n",
    "\n",
    "plt.rc('font', size=24)\n",
    "plt.rc('axes', titlesize=24)\n",
    "plt.rc('axes', labelsize=24)\n",
    "plt.rc('xtick', labelsize=24)\n",
    "plt.rc('ytick', labelsize=24)\n",
    "\n",
    "plt.xlabel('Year')\n",
    "\n",
    "plt.ylabel('Air temperature (°C)')\n",
    "\n",
    "plt.savefig('20220621_temperature_change.pdf', bbox_inches='tight')\n",
    "\n",
    "plt.show()"
   ]
  }
 ],
 "metadata": {
  "kernelspec": {
   "display_name": "Python 3 (ipykernel)",
   "language": "python",
   "name": "python3"
  },
  "language_info": {
   "codemirror_mode": {
    "name": "ipython",
    "version": 3
   },
   "file_extension": ".py",
   "mimetype": "text/x-python",
   "name": "python",
   "nbconvert_exporter": "python",
   "pygments_lexer": "ipython3",
   "version": "3.10.12"
  }
 },
 "nbformat": 4,
 "nbformat_minor": 5
}
