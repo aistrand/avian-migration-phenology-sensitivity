{
 "cells": [
  {
   "cell_type": "code",
   "execution_count": null,
   "metadata": {},
   "outputs": [],
   "source": [
    "import os\n",
    "import pandas as pd\n",
    "import numpy as np\n",
    "import statsmodels.formula.api as smf\n",
    "import matplotlib.pyplot as plt\n",
    "from statsmodels.graphics.regressionplots import abline_plot\n",
    "import matplotlib\n",
    "# import geopandas\n",
    "from scipy import stats\n",
    "from sklearn.decomposition import PCA"
   ]
  },
  {
   "cell_type": "code",
   "execution_count": null,
   "metadata": {},
   "outputs": [],
   "source": [
    "pd.options.display.max_columns = 100"
   ]
  },
  {
   "cell_type": "code",
   "execution_count": null,
   "metadata": {},
   "outputs": [],
   "source": [
    "os.getcwd()"
   ]
  },
  {
   "cell_type": "code",
   "execution_count": null,
   "metadata": {},
   "outputs": [],
   "source": [
    "path = '/Volumes/TOSHIBA EXT/Data/Processed/arrival_master_2022-05-13_5000/'\n",
    "\n",
    "os.chdir(path)"
   ]
  },
  {
   "cell_type": "code",
   "execution_count": null,
   "metadata": {},
   "outputs": [],
   "source": [
    "os.getcwd()"
   ]
  },
  {
   "cell_type": "code",
   "execution_count": null,
   "metadata": {},
   "outputs": [],
   "source": [
    "filename = 'arrival_master_2022-05-13.csv'\n",
    "\n",
    "df = pd.read_csv(filename)\n",
    "print(df.shape)\n",
    "\n",
    "df.head(2)"
   ]
  },
  {
   "cell_type": "code",
   "execution_count": null,
   "metadata": {},
   "outputs": [],
   "source": [
    "df = df.rename(columns={'cell_lat': 'lat', 'cell_lng': 'lon'})\n",
    "\n",
    "df = df.sort_values(by=['species', 'cell', 'year'])\n",
    "\n",
    "df = df.reset_index(drop=True)\n",
    "\n",
    "print(df.shape)\n",
    "\n",
    "df.head(2)"
   ]
  },
  {
   "cell_type": "code",
   "execution_count": null,
   "metadata": {},
   "outputs": [],
   "source": []
  },
  {
   "cell_type": "code",
   "execution_count": null,
   "metadata": {},
   "outputs": [],
   "source": [
    "os.getcwd()"
   ]
  },
  {
   "cell_type": "code",
   "execution_count": null,
   "metadata": {},
   "outputs": [],
   "source": [
    "path = '/Users/alvastrand/Library/Mobile Documents/com~apple~CloudDocs/Documents/OU/Research/data/output/'\n",
    "\n",
    "os.chdir(path)"
   ]
  },
  {
   "cell_type": "code",
   "execution_count": null,
   "metadata": {},
   "outputs": [],
   "source": [
    "os.getcwd()"
   ]
  },
  {
   "cell_type": "code",
   "execution_count": null,
   "metadata": {},
   "outputs": [],
   "source": [
    "filename = 'ncep_narr_air_2m_ebd_US_states_east_Mississippi_0101_0731_complete_zerofilled_grid_cell_ids_2002_2019_relApr-2020_Casey_lats_lons.csv'\n",
    "\n",
    "df_t = pd.read_csv(filename)\n",
    "print(df_t.shape)\n",
    "\n",
    "df_t.head(2)"
   ]
  },
  {
   "cell_type": "code",
   "execution_count": null,
   "metadata": {},
   "outputs": [],
   "source": [
    "df_t = df_t.rename(columns={'gr_mn': 'air_temp_degrees_celsius', 'cell_lat': 'lat', 'cell_lng': 'lon'})\n",
    "\n",
    "df_t = df_t[['cell', 'lat', 'lon', 'year', 'air_temp_kelvin', 'air_temp_degrees_celsius']]\n",
    "\n",
    "df_t = df_t.sort_values(by=['cell', 'year'])\n",
    "\n",
    "df_t = df_t.reset_index(drop=True)\n",
    "\n",
    "print(df_t.shape)\n",
    "\n",
    "df_t.head(2)"
   ]
  },
  {
   "cell_type": "code",
   "execution_count": null,
   "metadata": {},
   "outputs": [],
   "source": []
  },
  {
   "cell_type": "code",
   "execution_count": null,
   "metadata": {
    "scrolled": true
   },
   "outputs": [],
   "source": [
    "df_t[df_t['cell'] == 44]"
   ]
  },
  {
   "cell_type": "markdown",
   "metadata": {},
   "source": [
    "Change in temperature as a function of time"
   ]
  },
  {
   "cell_type": "code",
   "execution_count": null,
   "metadata": {},
   "outputs": [],
   "source": [
    "list_cells_t = df_t['cell'].unique()\n",
    "print(len(list_cells_t))\n",
    "\n",
    "list_slopes = []\n",
    "list_intercepts = []\n",
    "list_r_squared = []\n",
    "list_p_values = []\n",
    "\n",
    "for cell in list_cells_t:\n",
    "    \n",
    "    df_cell_t = df_t[df_t['cell'] == cell]\n",
    "    \n",
    "    model_ols = smf.ols(formula='air_temp_degrees_celsius ~ year', data=df_cell_t)\n",
    "\n",
    "    res_ols = model_ols.fit()\n",
    "\n",
    "    # print(res_ols.summary())\n",
    "\n",
    "    list_slopes.append(res_ols.params[1])\n",
    "\n",
    "    list_intercepts.append(res_ols.params[0])\n",
    "\n",
    "    list_r_squared.append(res_ols.rsquared)\n",
    "\n",
    "    list_p_values.append(res_ols.pvalues[1])\n",
    "    \n",
    "    if cell == 44:\n",
    "        \n",
    "        print(res_ols.params[1])\n",
    "\n",
    "        print(res_ols.rsquared)\n",
    "\n",
    "        print(res_ols.pvalues[1])\n",
    "\n",
    "        ax = df_cell_t.plot.scatter(x='year', y='air_temp_degrees_celsius')\n",
    "\n",
    "        abline_plot(model_results=res_ols, ax=ax, color='black')\n",
    "\n",
    "        plt.rc('font', size=24)\n",
    "        plt.rc('axes', titlesize=24)\n",
    "        plt.rc('axes', labelsize=24)\n",
    "        plt.rc('xtick', labelsize=24)\n",
    "        plt.rc('ytick', labelsize=24)\n",
    "\n",
    "        plt.xlabel('Year')\n",
    "\n",
    "        plt.ylabel('Air temperature (°C)')\n",
    "\n",
    "        plt.savefig('20220621_temperature_change.pdf', bbox_inches='tight')\n",
    "\n",
    "        plt.show()\n",
    "    \n",
    "df_results_t = pd.DataFrame(data={'cell': list_cells_t, 'slope_temp_change_all_years': list_slopes, 'intercept_temp_change_all_years': list_intercepts, \n",
    "                                'r_squared_temp_change_all_years': list_r_squared, 'p_value_temp_change_all_years': list_p_values})\n",
    "print(df_results_t.shape)"
   ]
  },
  {
   "cell_type": "code",
   "execution_count": null,
   "metadata": {},
   "outputs": [],
   "source": [
    "df_results_t.head(2)"
   ]
  },
  {
   "cell_type": "markdown",
   "metadata": {},
   "source": [
    "Temperature variance?"
   ]
  },
  {
   "cell_type": "code",
   "execution_count": null,
   "metadata": {},
   "outputs": [],
   "source": [
    "df_merged = df.merge(df_t, on=['cell', 'year', 'lat', 'lon'])\n",
    "print(df_merged.shape)\n",
    "\n",
    "df_merged.head(2)"
   ]
  },
  {
   "cell_type": "code",
   "execution_count": null,
   "metadata": {},
   "outputs": [],
   "source": [
    "df_merged = df_merged.dropna(subset=['arr_GAM_mean'])\n",
    "print(df_merged.shape)\n",
    "\n",
    "df_merged.head(2)"
   ]
  },
  {
   "cell_type": "code",
   "execution_count": null,
   "metadata": {},
   "outputs": [],
   "source": [
    "df_merged = df_merged[df_merged['VALID_GAM'] == True]\n",
    "\n",
    "df_merged = df_merged.reset_index(drop=True)\n",
    "\n",
    "print(df_merged.shape)\n",
    "\n",
    "df_merged.head(2)"
   ]
  },
  {
   "cell_type": "code",
   "execution_count": null,
   "metadata": {},
   "outputs": [],
   "source": [
    "df_merged[(df_merged['species'] == 'Hirundo_rustica') & (df_merged['cell'] == 44)]"
   ]
  },
  {
   "cell_type": "code",
   "execution_count": null,
   "metadata": {},
   "outputs": [],
   "source": [
    "len(df_merged[(df_merged['species'] == 'Hirundo_rustica') & (df_merged['cell'] == 44)])"
   ]
  },
  {
   "cell_type": "code",
   "execution_count": null,
   "metadata": {
    "scrolled": true
   },
   "outputs": [],
   "source": [
    "list_sci_names = sorted(df_merged['species'].unique())\n",
    "print(len(list_sci_names))"
   ]
  },
  {
   "cell_type": "code",
   "execution_count": null,
   "metadata": {},
   "outputs": [],
   "source": []
  },
  {
   "cell_type": "code",
   "execution_count": null,
   "metadata": {},
   "outputs": [],
   "source": [
    "def get_change_in_temp(species, df_species, list_cells):\n",
    "\n",
    "    list_slopes = []\n",
    "    list_intercepts = []\n",
    "    list_r_squared = []\n",
    "    list_p_values = []\n",
    "\n",
    "    for cell in list_cells:\n",
    "\n",
    "        df_cell_t = df_species[df_species['cell'] == cell]\n",
    "\n",
    "        model_ols = smf.ols(formula='air_temp_degrees_celsius ~ year', data=df_cell_t)\n",
    "\n",
    "        res_ols = model_ols.fit()\n",
    "\n",
    "        # print(res_ols.summary())\n",
    "\n",
    "        list_slopes.append(res_ols.params[1])\n",
    "\n",
    "        list_intercepts.append(res_ols.params[0])\n",
    "\n",
    "        list_r_squared.append(res_ols.rsquared)\n",
    "\n",
    "        list_p_values.append(res_ols.pvalues[1])\n",
    "        \n",
    "        if cell == 44 and species == 'Hirundo_rustica':\n",
    "        \n",
    "            print(res_ols.rsquared)\n",
    "\n",
    "            print(res_ols.pvalues[1])\n",
    "\n",
    "            ax = df_cell_t.plot.scatter(x='year', y='air_temp_degrees_celsius')\n",
    "\n",
    "            abline_plot(model_results=res_ols, ax=ax, color='black')\n",
    "\n",
    "            plt.rc('font', size=24)\n",
    "            plt.rc('axes', titlesize=24)\n",
    "            plt.rc('axes', labelsize=24)\n",
    "            plt.rc('xtick', labelsize=24)\n",
    "            plt.rc('ytick', labelsize=24)\n",
    "\n",
    "            plt.xlabel('Year')\n",
    "\n",
    "            plt.ylabel('Air temperature (°C)')\n",
    "\n",
    "            plt.savefig('20220621_temperature_change.pdf', bbox_inches='tight')\n",
    "\n",
    "            plt.show()\n",
    "\n",
    "    df_results_t = pd.DataFrame(data={'cell': list_cells, 'slope_temp_change': list_slopes, 'intercept_temp_change': list_intercepts, \n",
    "                                    'r_squared_temp_change': list_r_squared, 'p_value_temp_change': list_p_values})\n",
    "    \n",
    "    return df_results_t"
   ]
  },
  {
   "cell_type": "code",
   "execution_count": null,
   "metadata": {},
   "outputs": [],
   "source": []
  },
  {
   "cell_type": "code",
   "execution_count": null,
   "metadata": {},
   "outputs": [],
   "source": [
    "df_speeds = df_merged[['species', 'beta_gamma_mean']].drop_duplicates()\n",
    "\n",
    "df_speeds = df_speeds.reset_index(drop=True)\n",
    "print(df_speeds.shape)\n",
    "\n",
    "df_speeds.head(2)"
   ]
  },
  {
   "cell_type": "code",
   "execution_count": null,
   "metadata": {},
   "outputs": [],
   "source": [
    "df_means = df_merged[['species', 'arr_IAR_mean']].groupby(['species']).mean()\n",
    "\n",
    "df_means = df_means.reset_index()\n",
    "\n",
    "df_means = df_means.rename(columns={'arr_IAR_mean': 'mean_arrival_day'})\n",
    "\n",
    "print(df_means.shape)\n",
    "\n",
    "df_means.head(2)"
   ]
  },
  {
   "cell_type": "code",
   "execution_count": null,
   "metadata": {},
   "outputs": [],
   "source": [
    "df_speeds_means = df_speeds.merge(df_means, on='species')\n",
    "\n",
    "df_speeds_means = df_speeds_means.rename(columns={'species': 'scientific_name'})\n",
    "\n",
    "df_speeds_means['scientific_name'] = df_speeds_means['scientific_name'].str.replace('_', ' ')\n",
    "\n",
    "print(df_speeds_means.shape)\n",
    "\n",
    "df_speeds_means.head(2)"
   ]
  },
  {
   "cell_type": "code",
   "execution_count": null,
   "metadata": {},
   "outputs": [],
   "source": []
  },
  {
   "cell_type": "code",
   "execution_count": null,
   "metadata": {},
   "outputs": [],
   "source": [
    "os.getcwd()"
   ]
  },
  {
   "cell_type": "code",
   "execution_count": null,
   "metadata": {},
   "outputs": [],
   "source": [
    "path = '/Users/alvastrand/Downloads/states_21basic/'\n",
    "\n",
    "os.chdir(path)"
   ]
  },
  {
   "cell_type": "code",
   "execution_count": null,
   "metadata": {},
   "outputs": [],
   "source": [
    "os.getcwd()"
   ]
  },
  {
   "cell_type": "code",
   "execution_count": null,
   "metadata": {},
   "outputs": [],
   "source": [
    "# df_usa = geopandas.read_file('states.shp')\n",
    "# print(df_usa.shape)\n",
    "\n",
    "# df_usa.head(2)"
   ]
  },
  {
   "cell_type": "code",
   "execution_count": null,
   "metadata": {},
   "outputs": [],
   "source": [
    "# df_usa_c = df_usa[(df_usa['STATE_NAME'] == 'Alabama') | (df_usa['STATE_NAME'] == 'Connecticut') | \n",
    "#                   (df_usa['STATE_NAME'] == 'Delaware') | (df_usa['STATE_NAME'] == 'Florida') | \n",
    "#                   (df_usa['STATE_NAME'] == 'Georgia') | (df_usa['STATE_NAME'] == 'Illinois') | \n",
    "#                   (df_usa['STATE_NAME'] == 'Indiana') | (df_usa['STATE_NAME'] == 'Kentucky') | \n",
    "#                   (df_usa['STATE_NAME'] == 'Maine') | (df_usa['STATE_NAME'] == 'Maryland') | \n",
    "#                   (df_usa['STATE_NAME'] == 'Massachusetts') | (df_usa['STATE_NAME'] == 'Michigan') | \n",
    "#                   (df_usa['STATE_NAME'] == 'Missouri') | (df_usa['STATE_NAME'] == 'New Hampshire') | \n",
    "#                   (df_usa['STATE_NAME'] == 'New Jersey') | (df_usa['STATE_NAME'] == 'New York') | \n",
    "#                   (df_usa['STATE_NAME'] == 'North Carolina') | (df_usa['STATE_NAME'] == 'Ohio') | \n",
    "#                   (df_usa['STATE_NAME'] == 'Pennsylvania') | (df_usa['STATE_NAME'] == 'Rhode Island') | \n",
    "#                   (df_usa['STATE_NAME'] == 'South Carolina') | (df_usa['STATE_NAME'] == 'Tennessee') | \n",
    "#                   (df_usa['STATE_NAME'] == 'Vermont') | (df_usa['STATE_NAME'] == 'Virginia') | \n",
    "#                   (df_usa['STATE_NAME'] == 'West Virginia') | (df_usa['STATE_NAME'] == 'Wisconsin')]\n",
    "\n",
    "# df_usa_c = df_usa_c.reset_index(drop=True)\n",
    "\n",
    "# print(df_usa_c.shape)\n",
    "\n",
    "# df_usa_c.head(2)"
   ]
  },
  {
   "cell_type": "code",
   "execution_count": null,
   "metadata": {},
   "outputs": [],
   "source": []
  },
  {
   "cell_type": "code",
   "execution_count": null,
   "metadata": {},
   "outputs": [],
   "source": [
    "number_of_years = 5\n",
    "\n",
    "# number_of_years = 3"
   ]
  },
  {
   "cell_type": "code",
   "execution_count": null,
   "metadata": {},
   "outputs": [],
   "source": [
    "# predictor_variable = 'year'\n",
    "\n",
    "predictor_variable = 'air_temp_degrees_celsius'"
   ]
  },
  {
   "cell_type": "code",
   "execution_count": null,
   "metadata": {},
   "outputs": [],
   "source": []
  },
  {
   "cell_type": "code",
   "execution_count": null,
   "metadata": {},
   "outputs": [],
   "source": [
    "def name_of_function(species, predictor_variable):\n",
    "\n",
    "    df_species = df_merged[df_merged['species'] == species]\n",
    "    \n",
    "    df_species = df_species.drop(columns='air_temp_kelvin')\n",
    "\n",
    "    print(df_species.shape)\n",
    "\n",
    "    # print(df_species.head(2))\n",
    "    \n",
    "    # !\n",
    "    \n",
    "    # model_mixed = smf.mixedlm(\"arr_IAR_mean ~ air_temp_degrees_celsius\", df_species, groups=df_species['lat'])\n",
    "\n",
    "    # fit_mixed = model_mixed.fit()\n",
    "\n",
    "    # print(fit_mixed.summary())\n",
    "    \n",
    "    # model_ols = smf.ols(formula='arr_IAR_mean ~ air_temp_degrees_celsius', data=df_species)\n",
    "\n",
    "    # res_ols = model_ols.fit()\n",
    "    \n",
    "    # print(res_ols.summary())\n",
    "\n",
    "    df_cnt = df_species[['cell', 'year']].groupby(['cell']).count()\n",
    "\n",
    "    df_cnt = df_cnt.reset_index()\n",
    "\n",
    "    df_cnt = df_cnt.rename(columns={'year': 'number_of_years'})\n",
    "\n",
    "    print(df_cnt.shape)\n",
    "\n",
    "    # print(df_cnt.head(2))\n",
    "\n",
    "    list_cells = list(df_cnt[df_cnt['number_of_years'] >= number_of_years]['cell'])\n",
    "    print(len(list_cells))\n",
    "\n",
    "    print(len(list(df_cnt[df_cnt['number_of_years'] >= 3]['cell'])))\n",
    "\n",
    "    df_species = df_species[df_species['cell'].isin(list_cells)]\n",
    "    print(df_species.shape)\n",
    "\n",
    "    list_slopes = []\n",
    "    list_intercepts = []\n",
    "    list_r_squared = []\n",
    "    list_p_values = []\n",
    "\n",
    "    for cell in list_cells:\n",
    "\n",
    "        df_cell = df_species[df_species['cell'] == cell]\n",
    "\n",
    "        model_ols = smf.ols(formula='arr_IAR_mean' + ' ~ ' + predictor_variable, data=df_cell)\n",
    "\n",
    "        res_ols = model_ols.fit()\n",
    "\n",
    "        # print(res_ols.summary())\n",
    "\n",
    "        list_slopes.append(res_ols.params[1])\n",
    "\n",
    "        list_intercepts.append(res_ols.params[0])\n",
    "\n",
    "        list_r_squared.append(res_ols.rsquared)\n",
    "\n",
    "        list_p_values.append(res_ols.pvalues[1])\n",
    "        \n",
    "        if (species == 'Hirundo_rustica') & (res_ols.params[1] < -0.8):\n",
    "\n",
    "            print(cell)\n",
    "            \n",
    "            print(res_ols.params[1])\n",
    "\n",
    "            print(res_ols.rsquared)\n",
    "            \n",
    "            print(res_ols.pvalues[1])\n",
    "\n",
    "            ax = df_cell.plot.scatter(x=predictor_variable, y='arr_IAR_mean')\n",
    "\n",
    "            abline_plot(model_results=res_ols, ax=ax, color='black')\n",
    "\n",
    "            plt.rc('font', size=24)\n",
    "            plt.rc('axes', titlesize=24)\n",
    "            plt.rc('axes', labelsize=24)\n",
    "            plt.rc('xtick', labelsize=24)\n",
    "            plt.rc('ytick', labelsize=24)\n",
    "\n",
    "            plt.xlabel('Mean minimum daily spring air temperature (°C)')\n",
    "            \n",
    "            plt.ylabel('Mean arrival day')\n",
    "            \n",
    "#             plt.savefig('20220621_temperature.pdf', bbox_inches='tight')\n",
    "\n",
    "            plt.show()\n",
    "\n",
    "    df_results = pd.DataFrame(data={'cell': list_cells, 'slope': list_slopes, 'intercept': list_intercepts, \n",
    "                                    'r_squared': list_r_squared, 'p_value': list_p_values})\n",
    "    print(df_results.shape)\n",
    "\n",
    "    # print(df_results.head(2))\n",
    "\n",
    "    # Quality control?\n",
    "\n",
    "    df_lat_lon = df_t[['cell', 'lat', 'lon']].drop_duplicates()\n",
    "\n",
    "    # print(df_lat_lon.shape)\n",
    "\n",
    "    # print(df_lat_lon.head(2))\n",
    "\n",
    "    df_results = df_results.merge(df_lat_lon, on='cell')\n",
    "\n",
    "    df_results['scientific_name'] = species\n",
    "\n",
    "    print(df_results.shape)\n",
    "\n",
    "    # print(df_results.head(2))\n",
    "    \n",
    "    # Latitude\n",
    "\n",
    "    predictor_variable = 'lat'\n",
    "\n",
    "    model_ols = smf.ols(formula='slope' + ' ~ ' + predictor_variable, data=df_results)\n",
    "\n",
    "    res_ols = model_ols.fit()\n",
    "\n",
    "    slope_lat = res_ols.params[1]\n",
    "    # print(slope_lat)\n",
    "    \n",
    "#     if species == 'Hirundo_rustica':\n",
    "        \n",
    "#         print(res_ols.rsquared)\n",
    "\n",
    "#         print(res_ols.pvalues[1])\n",
    "\n",
    "#         ax = df_results.plot.scatter(x=predictor_variable, y='slope')\n",
    "\n",
    "#         abline_plot(model_results=res_ols, ax=ax, color='black')\n",
    "\n",
    "#         plt.rc('font', size=24)\n",
    "#         plt.rc('axes', titlesize=24)\n",
    "#         plt.rc('axes', labelsize=24)\n",
    "#         plt.rc('xtick', labelsize=24)\n",
    "#         plt.rc('ytick', labelsize=24)\n",
    "\n",
    "#         plt.xlabel('Latitude')\n",
    "\n",
    "#         plt.ylabel('Sensitivity (days/°C)')\n",
    "\n",
    "#         plt.savefig('20220621_latitude.pdf', bbox_inches='tight')\n",
    "\n",
    "#         plt.show()\n",
    "    \n",
    "    # Change in temperature as a function of time\n",
    "    \n",
    "    df_results_t_species = get_change_in_temp(species, df_species, list_cells)\n",
    "    print(df_results_t_species.shape)\n",
    "    \n",
    "    # print(df_results_t_species.head(2))\n",
    "    \n",
    "    df_results = df_results.merge(df_results_t_species, on='cell')\n",
    "    print(df_results.shape)\n",
    "\n",
    "    # print(df_results.head(2))\n",
    "\n",
    "    model_ols = smf.ols(formula='slope ~ slope_temp_change', data=df_results)\n",
    "\n",
    "    res_ols = model_ols.fit()\n",
    "\n",
    "    slope_temp_change = res_ols.params[1]\n",
    "    # print(slope_temp_change)\n",
    "        \n",
    "    r_squared_temp_change = res_ols.rsquared\n",
    "    # print(r_squared_temp_change)\n",
    "\n",
    "    p_value_temp_change = res_ols.pvalues[1]\n",
    "    # print(p_value_temp_change)\n",
    "    \n",
    "    err_temp_change = slope_temp_change - res_ols.conf_int()[0]['slope_temp_change']\n",
    "    # print(err_temp_change)\n",
    "    \n",
    "    if species == 'Hirundo_rustica':\n",
    "\n",
    "        ax = df_results.plot.scatter(x='slope_temp_change', y='slope')\n",
    "\n",
    "        abline_plot(model_results=res_ols, ax=ax, color='black')\n",
    "        \n",
    "        plt.axhline(y=0, color='grey', linestyle='--')\n",
    "        \n",
    "        plt.axvline(x=0, color='grey', linestyle='--')\n",
    "\n",
    "        plt.rc('font', size=24)\n",
    "        plt.rc('axes', titlesize=24)\n",
    "        plt.rc('axes', labelsize=24)\n",
    "        plt.rc('xtick', labelsize=24)\n",
    "        plt.rc('ytick', labelsize=24)\n",
    "\n",
    "        plt.xlabel('Air temperature change over time (°C/year)')\n",
    "\n",
    "        plt.ylabel('Sensitivity (days/°C)')\n",
    "\n",
    "#         plt.savefig('20220621_sens_temperature_change.pdf', bbox_inches='tight')\n",
    "\n",
    "        plt.show()\n",
    "    \n",
    "    # All of the years\n",
    "    \n",
    "    df_results = df_results.merge(df_results_t, on='cell')\n",
    "    print(df_results.shape)\n",
    "\n",
    "    # print(df_results.head(2))\n",
    "\n",
    "    model_ols = smf.ols(formula='slope ~ slope_temp_change_all_years', data=df_results)\n",
    "\n",
    "    res_ols = model_ols.fit()\n",
    "\n",
    "    slope_temp_change_all_years = res_ols.params[1]\n",
    "    print(slope_temp_change_all_years)\n",
    "        \n",
    "    r_squared_temp_change_all_years = res_ols.rsquared\n",
    "    print(r_squared_temp_change_all_years)\n",
    "\n",
    "    p_value_temp_change_all_years = res_ols.pvalues[1]\n",
    "    print(p_value_temp_change_all_years)\n",
    "    \n",
    "    err_temp_change_all_years = slope_temp_change_all_years - res_ols.conf_int()[0]['slope_temp_change_all_years']\n",
    "    print(err_temp_change_all_years)\n",
    "    \n",
    "    if species == 'Hirundo_rustica':\n",
    "\n",
    "        ax = df_results.plot.scatter(x='slope_temp_change_all_years', y='slope')\n",
    "\n",
    "        abline_plot(model_results=res_ols, ax=ax, color='black')\n",
    "        \n",
    "        plt.axhline(y=0, color='grey', linestyle='--')\n",
    "        \n",
    "        plt.axvline(x=0, color='grey', linestyle='--')\n",
    "\n",
    "        plt.rc('font', size=24)\n",
    "        plt.rc('axes', titlesize=24)\n",
    "        plt.rc('axes', labelsize=24)\n",
    "        plt.rc('xtick', labelsize=24)\n",
    "        plt.rc('ytick', labelsize=24)\n",
    "\n",
    "        plt.xlabel('Air temperature change over time (°C/year)')\n",
    "\n",
    "        plt.ylabel('Sensitivity (days/°C)')\n",
    "\n",
    "        plt.savefig('20220621_sens_temperature_change.pdf', bbox_inches='tight')\n",
    "\n",
    "        plt.show()\n",
    "    \n",
    "    # Heat map\n",
    "    \n",
    "#     if species == 'Hirundo_rustica':\n",
    "    \n",
    "#         # print(df_results['slope'].min())\n",
    "#         # print(np.floor(df_results['slope'].min()))\n",
    "#         # print(df_results['slope'].max())\n",
    "#         # print(np.ceil(df_results['slope'].max()))\n",
    "\n",
    "#         abs_floor_min_slope = np.absolute(np.floor(df_results['slope'].min()))\n",
    "\n",
    "#         abs_ceil_max_slope = np.absolute(np.ceil(df_results['slope'].max()))\n",
    "\n",
    "#         greatest_abs = max([abs_floor_min_slope, abs_ceil_max_slope])\n",
    "\n",
    "#         v_min = -greatest_abs\n",
    "\n",
    "#         v_max = greatest_abs\n",
    "\n",
    "#         norm = matplotlib.colors.Normalize(vmin=v_min, vmax=v_max)\n",
    "\n",
    "#         df_g = geopandas.GeoDataFrame(df_results, geometry=geopandas.points_from_xy(df_results['lon'], \n",
    "#                                                                                     df_results['lat']))\n",
    "#         print(df_g.shape)\n",
    "\n",
    "#         df_g.head(2)\n",
    "\n",
    "#         df_usa_c.plot(color='white', edgecolor='grey', figsize=(10, 10))\n",
    "\n",
    "#         sc = plt.scatter('lon', 'lat', s=1080, c='slope', alpha=0.8, cmap='viridis', data=df_g, \n",
    "#                          norm=norm, edgecolor='black', marker='s')\n",
    "        \n",
    "#         # cmap='RdBu_r'\n",
    "\n",
    "#         cbar = plt.colorbar(sc, fraction=0.0241, pad=0.015)\n",
    "\n",
    "#         cbar.set_label('Sensitivity (days/°C)')\n",
    "\n",
    "#         plt.rc('font', size=24)\n",
    "#         plt.rc('axes', titlesize=24)\n",
    "#         plt.rc('axes', labelsize=24)\n",
    "#         plt.rc('xtick', labelsize=24)\n",
    "#         plt.rc('ytick', labelsize=24)\n",
    "\n",
    "#         plt.savefig('20220621.pdf', bbox_inches='tight')\n",
    "\n",
    "#         plt.show()\n",
    "    \n",
    "    return df_results, slope_lat, slope_temp_change, r_squared_temp_change, p_value_temp_change, err_temp_change, \\\n",
    "slope_temp_change_all_years, r_squared_temp_change_all_years, p_value_temp_change_all_years, err_temp_change_all_years"
   ]
  },
  {
   "cell_type": "code",
   "execution_count": null,
   "metadata": {
    "scrolled": true
   },
   "outputs": [],
   "source": [
    "df_results_all_species = pd.DataFrame()\n",
    "\n",
    "list_slopes_lat = []\n",
    "\n",
    "list_slopes_temp_change = []\n",
    "list_r_squared_temp_change = []\n",
    "list_p_values_temp_change = []\n",
    "list_err_temp_change = []\n",
    "\n",
    "list_slopes_temp_change_all_years = []\n",
    "list_r_squared_temp_change_all_years = []\n",
    "list_p_values_temp_change_all_years = []\n",
    "list_err_temp_change_all_years = []\n",
    "\n",
    "for species in list_sci_names:\n",
    "\n",
    "    print(species)\n",
    "\n",
    "    df_results_species, slope_lat, slope_temp_change, r_squared_temp_change, p_value_temp_change, err_temp_change, \\\n",
    "    slope_temp_change_all_years, r_squared_temp_change_all_years, p_value_temp_change_all_years, \\\n",
    "    err_temp_change_all_years = name_of_function(\n",
    "        species, predictor_variable)\n",
    "\n",
    "    df_results_all_species = df_results_all_species.append(df_results_species)\n",
    "    \n",
    "    list_slopes_lat.append(slope_lat)\n",
    "    \n",
    "    list_slopes_temp_change.append(slope_temp_change)\n",
    "    list_r_squared_temp_change.append(r_squared_temp_change)\n",
    "    list_p_values_temp_change.append(p_value_temp_change)\n",
    "    list_err_temp_change.append(err_temp_change)\n",
    "    \n",
    "    list_slopes_temp_change_all_years.append(slope_temp_change_all_years)\n",
    "    list_r_squared_temp_change_all_years.append(r_squared_temp_change_all_years)\n",
    "    list_p_values_temp_change_all_years.append(p_value_temp_change_all_years)\n",
    "    list_err_temp_change_all_years.append(err_temp_change_all_years)"
   ]
  },
  {
   "cell_type": "code",
   "execution_count": null,
   "metadata": {},
   "outputs": [],
   "source": [
    "df_results_all_species['scientific_name'] = df_results_all_species['scientific_name'].str.replace('_', ' ')\n",
    "print(df_results_all_species.shape)\n",
    "\n",
    "df_results_all_species.head(2)"
   ]
  },
  {
   "cell_type": "code",
   "execution_count": null,
   "metadata": {},
   "outputs": [],
   "source": [
    "df_slopes_lat = pd.DataFrame(data={'scientific_name': list_sci_names, 'slope': list_slopes_lat})\n",
    "\n",
    "df_slopes_lat['scientific_name'] = df_slopes_lat['scientific_name'].str.replace('_', ' ')\n",
    "\n",
    "print(df_slopes_lat.shape)\n",
    "\n",
    "# df_slopes_lat.head(2)"
   ]
  },
  {
   "cell_type": "code",
   "execution_count": null,
   "metadata": {
    "scrolled": true
   },
   "outputs": [],
   "source": [
    "df_slopes_temp_change = pd.DataFrame(data={'scientific_name': list_sci_names, 'slope': list_slopes_temp_change, \n",
    "                                           'r_squared': list_r_squared_temp_change, \n",
    "                                           'p_value': list_p_values_temp_change, \n",
    "                                           'err': list_err_temp_change})\n",
    "\n",
    "df_slopes_temp_change['scientific_name'] = df_slopes_temp_change['scientific_name'].str.replace('_', ' ')\n",
    "\n",
    "print(df_slopes_temp_change.shape)\n",
    "\n",
    "df_slopes_temp_change"
   ]
  },
  {
   "cell_type": "code",
   "execution_count": null,
   "metadata": {},
   "outputs": [],
   "source": [
    "df_slopes_temp_change_all_years = pd.DataFrame(data={'scientific_name': list_sci_names, \n",
    "                                                     'slope': list_slopes_temp_change_all_years, \n",
    "                                                     'r_squared': list_r_squared_temp_change_all_years, \n",
    "                                                     'p_value': list_p_values_temp_change_all_years, \n",
    "                                                     'err': list_err_temp_change_all_years})\n",
    "\n",
    "df_slopes_temp_change_all_years['scientific_name'] = df_slopes_temp_change_all_years['scientific_name'].str.replace('_', ' ')\n",
    "\n",
    "print(df_slopes_temp_change_all_years.shape)\n",
    "\n",
    "df_slopes_temp_change_all_years"
   ]
  },
  {
   "cell_type": "code",
   "execution_count": null,
   "metadata": {},
   "outputs": [],
   "source": []
  },
  {
   "cell_type": "code",
   "execution_count": null,
   "metadata": {},
   "outputs": [],
   "source": [
    "os.getcwd()"
   ]
  },
  {
   "cell_type": "code",
   "execution_count": null,
   "metadata": {},
   "outputs": [],
   "source": [
    "path = '/Users/alvastrand/Library/Mobile Documents/com~apple~CloudDocs/Documents/OU/Research/data/output/'\n",
    "\n",
    "os.chdir(path)"
   ]
  },
  {
   "cell_type": "code",
   "execution_count": null,
   "metadata": {},
   "outputs": [],
   "source": [
    "os.getcwd()"
   ]
  },
  {
   "cell_type": "code",
   "execution_count": null,
   "metadata": {},
   "outputs": [],
   "source": [
    "filename = 'aerial_insectivores_migration_distances_mean_weighted_body_masses.csv'\n",
    "\n",
    "df_masses_dist = pd.read_csv(filename)\n",
    "print(df_masses_dist.shape)\n",
    "\n",
    "df_masses_dist.head(2)"
   ]
  },
  {
   "cell_type": "code",
   "execution_count": null,
   "metadata": {},
   "outputs": [],
   "source": [
    "df_masses_dist = df_masses_dist[['scientific_name', 'common_name', 'body_mass', 'distance']]\n",
    "print(df_masses_dist.shape)\n",
    "\n",
    "df_masses_dist.head(2)"
   ]
  },
  {
   "cell_type": "code",
   "execution_count": null,
   "metadata": {},
   "outputs": [],
   "source": []
  },
  {
   "cell_type": "code",
   "execution_count": null,
   "metadata": {},
   "outputs": [],
   "source": [
    "# # 06/27/2023\n",
    "\n",
    "# df_dist = df_masses_dist[['scientific_name', 'common_name', 'distance']]\n",
    "# print(df_dist.shape)\n",
    "\n",
    "# df_dist.head(2)"
   ]
  },
  {
   "cell_type": "code",
   "execution_count": null,
   "metadata": {},
   "outputs": [],
   "source": [
    "# df_dist['scientific_name'] = df_dist['scientific_name'].replace(' ', '_', regex=True)\n",
    "# print(df_dist.shape)\n",
    "\n",
    "# df_dist.head(2)"
   ]
  },
  {
   "cell_type": "code",
   "execution_count": null,
   "metadata": {},
   "outputs": [],
   "source": [
    "# df_dist = df_dist.rename(columns={'scientific_name': 'species'})\n",
    "# print(df_dist.shape)\n",
    "\n",
    "# df_dist.head(2)"
   ]
  },
  {
   "cell_type": "code",
   "execution_count": null,
   "metadata": {},
   "outputs": [],
   "source": [
    "# df_merged_dist = df_merged[['species', 'cell', 'lat', 'lon', 'year', 'arr_IAR_mean', 'air_temp_degrees_celsius']].merge(\n",
    "#     df_dist, on='species')\n",
    "# print(df_merged_dist.shape)\n",
    "\n",
    "# df_merged_dist.head(2)"
   ]
  },
  {
   "cell_type": "code",
   "execution_count": null,
   "metadata": {},
   "outputs": [],
   "source": [
    "# df_merged_dist = df_merged_dist.rename(columns={'species': 'scientific_name', 'arr_IAR_mean': 'mean_arrival_day'})\n",
    "\n",
    "# df_merged_dist = df_merged_dist[['scientific_name', 'common_name', 'distance', 'cell', 'lat', 'lon', 'year', 'air_temp_degrees_celsius', 'mean_arrival_day']]\n",
    "\n",
    "# print(df_merged_dist.shape)\n",
    "\n",
    "# df_merged_dist.head(2)"
   ]
  },
  {
   "cell_type": "code",
   "execution_count": null,
   "metadata": {},
   "outputs": [],
   "source": [
    "# df_merged_dist.to_csv('aerial_insectivores_migration_distances_mean_arrival_days_temperatures_20230627.csv', index=False)"
   ]
  },
  {
   "cell_type": "code",
   "execution_count": null,
   "metadata": {},
   "outputs": [],
   "source": []
  },
  {
   "cell_type": "code",
   "execution_count": null,
   "metadata": {},
   "outputs": [],
   "source": [
    "df_masses_dist_speeds_means = df_masses_dist.merge(df_speeds_means, on='scientific_name')\n",
    "print(df_masses_dist_speeds_means.shape)\n",
    "\n",
    "df_masses_dist_speeds_means.head(2)"
   ]
  },
  {
   "cell_type": "code",
   "execution_count": null,
   "metadata": {},
   "outputs": [],
   "source": [
    "list(df_masses_dist_speeds_means['common_name'])"
   ]
  },
  {
   "cell_type": "code",
   "execution_count": null,
   "metadata": {},
   "outputs": [],
   "source": [
    "list_species_codes = ['CWWI', 'EWPW', 'CHSW', 'CONI', 'BARS', 'CLSW', 'PUMA', 'BANS', 'NRWS', 'TRES']\n",
    "print(len(list_species_codes))"
   ]
  },
  {
   "cell_type": "code",
   "execution_count": null,
   "metadata": {},
   "outputs": [],
   "source": [
    "df_masses_dist_speeds_means['species_code'] = list_species_codes\n",
    "print(df_masses_dist_speeds_means.shape)\n",
    "\n",
    "df_masses_dist_speeds_means.head(2)"
   ]
  },
  {
   "cell_type": "code",
   "execution_count": null,
   "metadata": {},
   "outputs": [],
   "source": []
  },
  {
   "cell_type": "code",
   "execution_count": null,
   "metadata": {},
   "outputs": [],
   "source": [
    "stats.pearsonr(df_masses_dist_speeds_means['body_mass'], df_masses_dist_speeds_means['mean_arrival_day'])"
   ]
  },
  {
   "cell_type": "code",
   "execution_count": null,
   "metadata": {},
   "outputs": [],
   "source": [
    "stats.pearsonr(df_masses_dist_speeds_means['body_mass'], df_masses_dist_speeds_means['distance'])"
   ]
  },
  {
   "cell_type": "code",
   "execution_count": null,
   "metadata": {},
   "outputs": [],
   "source": [
    "stats.pearsonr(df_masses_dist_speeds_means['body_mass'], df_masses_dist_speeds_means['beta_gamma_mean'])"
   ]
  },
  {
   "cell_type": "code",
   "execution_count": null,
   "metadata": {},
   "outputs": [],
   "source": [
    "stats.pearsonr(df_masses_dist_speeds_means['mean_arrival_day'], df_masses_dist_speeds_means['distance'])"
   ]
  },
  {
   "cell_type": "code",
   "execution_count": null,
   "metadata": {},
   "outputs": [],
   "source": [
    "stats.pearsonr(df_masses_dist_speeds_means['mean_arrival_day'], df_masses_dist_speeds_means['beta_gamma_mean'])"
   ]
  },
  {
   "cell_type": "code",
   "execution_count": null,
   "metadata": {},
   "outputs": [],
   "source": [
    "stats.pearsonr(df_masses_dist_speeds_means['distance'], df_masses_dist_speeds_means['beta_gamma_mean'])"
   ]
  },
  {
   "cell_type": "code",
   "execution_count": null,
   "metadata": {},
   "outputs": [],
   "source": []
  },
  {
   "cell_type": "code",
   "execution_count": null,
   "metadata": {
    "scrolled": false
   },
   "outputs": [],
   "source": [
    "def make_plot(df):\n",
    "\n",
    "    df_results_all_species_masses_dist = df.merge(df_masses_dist, on='scientific_name')\n",
    "\n",
    "    df_results_all_species_masses_dist['body_mass_mg'] = df_results_all_species_masses_dist['body_mass']*1000\n",
    "\n",
    "    df_results_all_species_masses_dist['log_body_mass_mg'] = np.log(\n",
    "        df_results_all_species_masses_dist['body_mass_mg'])\n",
    "\n",
    "    color_values = matplotlib.cm.rainbow(\n",
    "        np.linspace(0, 1, len(df_results_all_species_masses_dist['common_name'].unique())))\n",
    "\n",
    "    colors = dict(zip(df_results_all_species_masses_dist['common_name'].unique(), color_values))\n",
    "\n",
    "    field_name = 'log_body_mass_mg'\n",
    "\n",
    "#     field_name = 'distance'\n",
    "\n",
    "    fig, ax = plt.subplots()\n",
    "\n",
    "    for species in list(df_results_all_species_masses_dist['common_name'].unique()):\n",
    "\n",
    "        df_subset = df_results_all_species_masses_dist[df_results_all_species_masses_dist['common_name'] == species]\n",
    "\n",
    "        df_subset.plot(ax=ax, kind='scatter', x=field_name, y='slope', label=species, \n",
    "                       color=colors[species], figsize=(10,10), s=50)\n",
    "\n",
    "    plt.rc('font', size=24)\n",
    "    plt.rc('axes', titlesize=24)\n",
    "    plt.rc('axes', labelsize=24)\n",
    "    plt.rc('xtick', labelsize=24)\n",
    "    plt.rc('ytick', labelsize=24)\n",
    "    plt.rc('legend', fontsize=11)\n",
    "\n",
    "    plt.legend(loc='best')\n",
    "\n",
    "    plt.axhline(y=0, color='grey', linestyle='--')\n",
    "\n",
    "    if field_name == 'log_body_mass_mg':\n",
    "\n",
    "        plt.xlabel('Natural logarithm of body mass (mg)')\n",
    "    \n",
    "    plt.ylabel('Sensitivity (days/°C)')\n",
    "    \n",
    "#     plt.savefig('sensitivity_body_mass_20220621.pdf', bbox_inches='tight')\n",
    "\n",
    "    plt.show()\n",
    "    \n",
    "    return df_results_all_species_masses_dist"
   ]
  },
  {
   "cell_type": "code",
   "execution_count": null,
   "metadata": {
    "scrolled": true
   },
   "outputs": [],
   "source": [
    "df_results_all_species_masses_dist = make_plot(df_results_all_species)\n",
    "print(df_results_all_species_masses_dist.shape)\n",
    "\n",
    "df_results_all_species_masses_dist.head(2)"
   ]
  },
  {
   "cell_type": "code",
   "execution_count": null,
   "metadata": {
    "scrolled": true
   },
   "outputs": [],
   "source": [
    "df_slopes_lat_masses_dist = make_plot(df_slopes_lat)\n",
    "print(df_slopes_lat_masses_dist.shape)\n",
    "\n",
    "df_slopes_lat_masses_dist.head(2)"
   ]
  },
  {
   "cell_type": "code",
   "execution_count": null,
   "metadata": {
    "scrolled": true
   },
   "outputs": [],
   "source": [
    "df_slopes_temp_change_masses_dist = make_plot(df_slopes_temp_change)\n",
    "print(df_slopes_temp_change_masses_dist.shape)\n",
    "\n",
    "df_slopes_temp_change_masses_dist.head(2)"
   ]
  },
  {
   "cell_type": "code",
   "execution_count": null,
   "metadata": {
    "scrolled": true
   },
   "outputs": [],
   "source": [
    "df_slopes_temp_change_all_years_masses_dist = make_plot(df_slopes_temp_change_all_years)\n",
    "print(df_slopes_temp_change_all_years_masses_dist.shape)\n",
    "\n",
    "df_slopes_temp_change_all_years_masses_dist.head(2)"
   ]
  },
  {
   "cell_type": "code",
   "execution_count": null,
   "metadata": {},
   "outputs": [],
   "source": []
  },
  {
   "cell_type": "code",
   "execution_count": null,
   "metadata": {
    "scrolled": true
   },
   "outputs": [],
   "source": [
    "model_ols = smf.ols(formula='slope ~ body_mass', data=df_results_all_species_masses_dist)\n",
    "\n",
    "res_ols = model_ols.fit()\n",
    "\n",
    "print(res_ols.summary())\n",
    "\n",
    "ax = df_results_all_species_masses_dist.plot.scatter(x='body_mass', y='slope')\n",
    "\n",
    "abline_plot(model_results=res_ols, ax=ax)\n",
    "\n",
    "plt.show()"
   ]
  },
  {
   "cell_type": "code",
   "execution_count": null,
   "metadata": {
    "scrolled": true
   },
   "outputs": [],
   "source": [
    "# model_ols = smf.ols(formula='slope ~ log_body_mass_mg', data=df_results_all_species_masses_dist)\n",
    "\n",
    "# res_ols = model_ols.fit()\n",
    "\n",
    "# print(res_ols.summary())\n",
    "\n",
    "# ax = df_results_all_species_masses_dist.plot.scatter(x='log_body_mass_mg', y='slope')\n",
    "\n",
    "# abline_plot(model_results=res_ols, ax=ax)\n",
    "\n",
    "# plt.show()"
   ]
  },
  {
   "cell_type": "code",
   "execution_count": null,
   "metadata": {
    "scrolled": true
   },
   "outputs": [],
   "source": [
    "model_ols = smf.ols(formula='slope ~ body_mass + distance', data=df_results_all_species_masses_dist)\n",
    "\n",
    "res_ols = model_ols.fit()\n",
    "\n",
    "print(res_ols.summary())"
   ]
  },
  {
   "cell_type": "code",
   "execution_count": null,
   "metadata": {
    "scrolled": true
   },
   "outputs": [],
   "source": [
    "# model_ols = smf.ols(formula='slope ~ body_mass * distance', data=df_results_all_species_masses_dist)\n",
    "\n",
    "# res_ols = model_ols.fit()\n",
    "\n",
    "# print(res_ols.summary())"
   ]
  },
  {
   "cell_type": "code",
   "execution_count": null,
   "metadata": {},
   "outputs": [],
   "source": []
  },
  {
   "cell_type": "code",
   "execution_count": null,
   "metadata": {
    "scrolled": true
   },
   "outputs": [],
   "source": [
    "model_ols = smf.ols(formula='slope ~ body_mass', data=df_slopes_lat_masses_dist)\n",
    "\n",
    "res_ols = model_ols.fit()\n",
    "\n",
    "print(res_ols.summary())\n",
    "\n",
    "ax = df_slopes_lat_masses_dist.plot.scatter(x='body_mass', y='slope')\n",
    "\n",
    "abline_plot(model_results=res_ols, ax=ax)\n",
    "\n",
    "plt.show()"
   ]
  },
  {
   "cell_type": "code",
   "execution_count": null,
   "metadata": {
    "scrolled": true
   },
   "outputs": [],
   "source": [
    "# model_ols = smf.ols(formula='slope ~ log_body_mass_mg', data=df_slopes_lat_masses_dist)\n",
    "\n",
    "# res_ols = model_ols.fit()\n",
    "\n",
    "# print(res_ols.summary())\n",
    "\n",
    "# ax = df_slopes_lat_masses_dist.plot.scatter(x='log_body_mass_mg', y='slope')\n",
    "\n",
    "# abline_plot(model_results=res_ols, ax=ax)\n",
    "\n",
    "# plt.show()"
   ]
  },
  {
   "cell_type": "code",
   "execution_count": null,
   "metadata": {
    "scrolled": true
   },
   "outputs": [],
   "source": [
    "# model_ols = smf.ols(formula='slope ~ body_mass + distance', data=df_slopes_lat_masses_dist)\n",
    "\n",
    "# res_ols = model_ols.fit()\n",
    "\n",
    "# print(res_ols.summary())"
   ]
  },
  {
   "cell_type": "code",
   "execution_count": null,
   "metadata": {
    "scrolled": true
   },
   "outputs": [],
   "source": [
    "# model_ols = smf.ols(formula='slope ~ body_mass * distance', data=df_slopes_lat_masses_dist)\n",
    "\n",
    "# res_ols = model_ols.fit()\n",
    "\n",
    "# print(res_ols.summary())"
   ]
  },
  {
   "cell_type": "code",
   "execution_count": null,
   "metadata": {},
   "outputs": [],
   "source": []
  },
  {
   "cell_type": "code",
   "execution_count": null,
   "metadata": {},
   "outputs": [],
   "source": [
    "df_results_all_species_masses_dist_speeds_means = df_results_all_species_masses_dist.merge(\n",
    "    df_speeds_means, on='scientific_name')\n",
    "print(df_results_all_species_masses_dist_speeds_means.shape)\n",
    "\n",
    "df_results_all_species_masses_dist_speeds_means.head(2)"
   ]
  },
  {
   "cell_type": "code",
   "execution_count": null,
   "metadata": {
    "scrolled": true
   },
   "outputs": [],
   "source": [
    "model_ols = smf.ols(formula='slope ~ mean_arrival_day', data=df_results_all_species_masses_dist_speeds_means)\n",
    "\n",
    "res_ols = model_ols.fit()\n",
    "\n",
    "print(res_ols.summary())\n",
    "\n",
    "ax = df_results_all_species_masses_dist_speeds_means.plot.scatter(x='mean_arrival_day', y='slope')\n",
    "\n",
    "abline_plot(model_results=res_ols, ax=ax)\n",
    "\n",
    "plt.show()"
   ]
  },
  {
   "cell_type": "code",
   "execution_count": null,
   "metadata": {
    "scrolled": true
   },
   "outputs": [],
   "source": [
    "model_ols = smf.ols(formula='slope ~ distance', data=df_results_all_species_masses_dist_speeds_means)\n",
    "\n",
    "res_ols = model_ols.fit()\n",
    "\n",
    "print(res_ols.summary())\n",
    "\n",
    "ax = df_results_all_species_masses_dist_speeds_means.plot.scatter(x='distance', y='slope')\n",
    "\n",
    "abline_plot(model_results=res_ols, ax=ax)\n",
    "\n",
    "plt.show()"
   ]
  },
  {
   "cell_type": "code",
   "execution_count": null,
   "metadata": {
    "scrolled": true
   },
   "outputs": [],
   "source": [
    "model_ols = smf.ols(formula='slope ~ beta_gamma_mean', data=df_results_all_species_masses_dist_speeds_means)\n",
    "\n",
    "res_ols = model_ols.fit()\n",
    "\n",
    "print(res_ols.summary())\n",
    "\n",
    "ax = df_results_all_species_masses_dist_speeds_means.plot.scatter(x='beta_gamma_mean', y='slope')\n",
    "\n",
    "abline_plot(model_results=res_ols, ax=ax)\n",
    "\n",
    "plt.show()"
   ]
  },
  {
   "cell_type": "code",
   "execution_count": null,
   "metadata": {
    "scrolled": true
   },
   "outputs": [],
   "source": [
    "model_ols = smf.ols(formula='slope ~  body_mass + beta_gamma_mean', \n",
    "                    data=df_results_all_species_masses_dist_speeds_means)\n",
    "\n",
    "res_ols = model_ols.fit()\n",
    "\n",
    "print(res_ols.summary())"
   ]
  },
  {
   "cell_type": "code",
   "execution_count": null,
   "metadata": {
    "scrolled": true
   },
   "outputs": [],
   "source": [
    "# model_ols = smf.ols(formula='slope ~  body_mass * beta_gamma_mean', \n",
    "#                     data=df_results_all_species_masses_dist_speeds_means)\n",
    "\n",
    "# res_ols = model_ols.fit()\n",
    "\n",
    "# print(res_ols.summary())"
   ]
  },
  {
   "cell_type": "code",
   "execution_count": null,
   "metadata": {
    "scrolled": true
   },
   "outputs": [],
   "source": [
    "model_ols = smf.ols(formula='slope ~  body_mass + mean_arrival_day', \n",
    "                    data=df_results_all_species_masses_dist_speeds_means)\n",
    "\n",
    "res_ols = model_ols.fit()\n",
    "\n",
    "print(res_ols.summary())"
   ]
  },
  {
   "cell_type": "code",
   "execution_count": null,
   "metadata": {
    "scrolled": true
   },
   "outputs": [],
   "source": [
    "# model_ols = smf.ols(formula='slope ~  body_mass * mean_arrival_day', \n",
    "#                     data=df_results_all_species_masses_dist_speeds_means)\n",
    "\n",
    "# res_ols = model_ols.fit()\n",
    "\n",
    "# print(res_ols.summary())"
   ]
  },
  {
   "cell_type": "code",
   "execution_count": null,
   "metadata": {},
   "outputs": [],
   "source": []
  },
  {
   "cell_type": "code",
   "execution_count": null,
   "metadata": {},
   "outputs": [],
   "source": [
    "def run_ols_regression(df, predictor_variable):\n",
    "\n",
    "    model_ols = smf.ols(formula='slope ~ ' + predictor_variable, data=df)\n",
    "\n",
    "    res_ols = model_ols.fit()\n",
    "\n",
    "    print(res_ols.summary())\n",
    "\n",
    "    ax = df.plot.scatter(x=predictor_variable, y='slope')\n",
    "\n",
    "    abline_plot(model_results=res_ols, ax=ax)\n",
    "\n",
    "    plt.show()"
   ]
  },
  {
   "cell_type": "code",
   "execution_count": null,
   "metadata": {},
   "outputs": [],
   "source": [
    "def model_contribution_traits(df_slopes_masses_dist):\n",
    "\n",
    "    df_slopes_masses_dist_speeds_means = df_slopes_masses_dist.merge(\n",
    "        df_speeds_means, on='scientific_name')\n",
    "    print(df_slopes_masses_dist_speeds_means.shape)\n",
    "\n",
    "    df_slopes_masses_dist_speeds_means.head(2)\n",
    "    \n",
    "    predictor_variable = 'body_mass'\n",
    "\n",
    "    run_ols_regression(df_slopes_masses_dist_speeds_means, predictor_variable)\n",
    "\n",
    "    predictor_variable = 'distance'\n",
    "\n",
    "    run_ols_regression(df_slopes_masses_dist_speeds_means, predictor_variable)\n",
    "\n",
    "    predictor_variable = 'beta_gamma_mean'\n",
    "\n",
    "    run_ols_regression(df_slopes_masses_dist_speeds_means, predictor_variable)\n",
    "\n",
    "    predictor_variable = 'mean_arrival_day'\n",
    "\n",
    "    run_ols_regression(df_slopes_masses_dist_speeds_means, predictor_variable)\n",
    "    \n",
    "    return df_slopes_masses_dist_speeds_means"
   ]
  },
  {
   "cell_type": "code",
   "execution_count": null,
   "metadata": {},
   "outputs": [],
   "source": [
    "df_slopes_lat_masses_dist_speeds_means = model_contribution_traits(df_slopes_lat_masses_dist)\n",
    "\n",
    "df_slopes_lat_masses_dist_speeds_means.head(2)"
   ]
  },
  {
   "cell_type": "code",
   "execution_count": null,
   "metadata": {},
   "outputs": [],
   "source": [
    "df_slopes_temp_change_masses_dist_speeds_means = model_contribution_traits(df_slopes_temp_change_masses_dist)\n",
    "\n",
    "df_slopes_temp_change_masses_dist_speeds_means.head(2)"
   ]
  },
  {
   "cell_type": "code",
   "execution_count": null,
   "metadata": {},
   "outputs": [],
   "source": [
    "df_slopes_temp_change_all_years_masses_dist_speeds_means = model_contribution_traits(\n",
    "    df_slopes_temp_change_all_years_masses_dist)\n",
    "\n",
    "df_slopes_temp_change_all_years_masses_dist_speeds_means.head(2)"
   ]
  },
  {
   "cell_type": "code",
   "execution_count": null,
   "metadata": {},
   "outputs": [],
   "source": []
  },
  {
   "cell_type": "code",
   "execution_count": null,
   "metadata": {},
   "outputs": [],
   "source": [
    "def make_plot_other_traits(df, field_name, y):\n",
    "\n",
    "    df_results_all_species_masses_dist = df.merge(df_masses_dist_speeds_means, on='scientific_name')\n",
    "\n",
    "    color_values = matplotlib.cm.tab10(\n",
    "        np.linspace(0, 1, len(df_results_all_species_masses_dist['species_code'].unique())))\n",
    "\n",
    "    colors = dict(zip(df_results_all_species_masses_dist['species_code'].unique(), color_values))\n",
    "\n",
    "    fig, ax = plt.subplots()\n",
    "    \n",
    "    if y == 'sensitivity':\n",
    "        \n",
    "        marker_size = 50\n",
    "        \n",
    "    else:\n",
    "        \n",
    "        marker_size = 100\n",
    "        \n",
    "    if y == 'sensitivity':\n",
    "\n",
    "        for species in list(df_results_all_species_masses_dist['species_code'].unique()):\n",
    "\n",
    "            df_subset = df_results_all_species_masses_dist[df_results_all_species_masses_dist['species_code'] == species]\n",
    "\n",
    "            df_subset.plot.scatter(ax=ax, x=field_name, y='slope', label=species, \n",
    "                       color=colors[species], figsize=(10,10), s=marker_size)\n",
    "    \n",
    "    else:\n",
    "        \n",
    "        fig, ax = plt.subplots(figsize=(10, 10))\n",
    "\n",
    "        ax.errorbar(df_results_all_species_masses_dist['distance'], df_results_all_species_masses_dist['slope'], \n",
    "                    df_results_all_species_masses_dist['err'], color='none', \n",
    "                    ecolor=df_results_all_species_masses_dist['species_code'].map(colors), linewidth=1)\n",
    "\n",
    "        ax.scatter(df_results_all_species_masses_dist['distance'], df_results_all_species_masses_dist['slope'], \n",
    "                   marker='_', linewidth=3, color=df_results_all_species_masses_dist['species_code'].map(colors), \n",
    "                   s=1000)\n",
    "\n",
    "        for species in np.unique(df_results_all_species_masses_dist['species_code']):\n",
    "\n",
    "            color = colors[species]\n",
    "\n",
    "            df_subset = df_results_all_species_masses_dist[df_results_all_species_masses_dist['species_code'] == species]\n",
    "\n",
    "            ax.errorbar(df_subset['distance'], df_subset['slope'], df_subset['err'], color=color, marker='_', ms=30, \n",
    "                        linewidth=3, label=species)\n",
    "\n",
    "    plt.rc('font', size=24)\n",
    "    plt.rc('axes', titlesize=24)\n",
    "    plt.rc('axes', labelsize=24)\n",
    "    plt.rc('xtick', labelsize=24)\n",
    "    plt.rc('ytick', labelsize=24)\n",
    "\n",
    "    plt.axhline(y=0, color='grey', linestyle='--')\n",
    "    \n",
    "    model_ols = smf.ols(formula='slope ~ ' + field_name, data=df_results_all_species_masses_dist)\n",
    "\n",
    "    res_ols = model_ols.fit()\n",
    "\n",
    "    abline_plot(model_results=res_ols, ax=ax, color='black')\n",
    "\n",
    "    if field_name == 'mean_arrival_day':\n",
    "        \n",
    "        plt.rc('legend', fontsize=12)\n",
    "        \n",
    "        plt.legend(loc='best', bbox_to_anchor=(0.5, 0., 0.5, 0.5))\n",
    "\n",
    "        plt.xlabel('Mean arrival day')\n",
    "        \n",
    "        plt.ylabel('Sensitivity (days/°C)')\n",
    "        \n",
    "    elif field_name == 'distance' and y == 'sensitivity':\n",
    "        \n",
    "        plt.rc('legend', fontsize=12)\n",
    "        \n",
    "        plt.legend(loc='best')\n",
    "\n",
    "        plt.xlabel('Migration distance (km)')\n",
    "        \n",
    "        plt.ylabel('Sensitivity (days/°C)')\n",
    "        \n",
    "    elif field_name == 'beta_gamma_mean' and y == 'sensitivity':\n",
    "        \n",
    "        plt.rc('legend', fontsize=12)\n",
    "        \n",
    "        plt.legend(loc='best')\n",
    "\n",
    "        plt.xlabel('Migration speed (days/°latitude)')\n",
    "        \n",
    "        plt.ylabel('Sensitivity (days/°C)')\n",
    "        \n",
    "    elif field_name == 'distance' and y == 'sensitivity_latitude':\n",
    "        \n",
    "        plt.rc('legend', fontsize=20)\n",
    "        \n",
    "        plt.legend(loc='best')\n",
    "        \n",
    "        plt.xlabel('Migration distance (km)')\n",
    "        \n",
    "        plt.ylabel('Change in sensitivity with latitude')\n",
    "        \n",
    "    elif field_name == 'distance' and y == 'sensitivity_temp_change':\n",
    "        \n",
    "        plt.rc('legend', fontsize=16)\n",
    "        \n",
    "        plt.legend(loc='best')\n",
    "        \n",
    "        plt.xlabel('Migration distance (km)')\n",
    "        \n",
    "        plt.ylabel('Change in sensitivity with air temperature change over time')\n",
    "        \n",
    "    plt.savefig('sensitivity_' + y + '_' + field_name + '_20220621.pdf', bbox_inches='tight')\n",
    "\n",
    "    plt.show()\n",
    "    \n",
    "    return df_results_all_species_masses_dist"
   ]
  },
  {
   "cell_type": "code",
   "execution_count": null,
   "metadata": {
    "scrolled": true
   },
   "outputs": [],
   "source": [
    "df_results_all_species_masses_dist = make_plot_other_traits(df_results_all_species, 'mean_arrival_day', 'sensitivity')\n",
    "print(df_results_all_species_masses_dist.shape)\n",
    "\n",
    "df_results_all_species_masses_dist.head(2)"
   ]
  },
  {
   "cell_type": "code",
   "execution_count": null,
   "metadata": {
    "scrolled": true
   },
   "outputs": [],
   "source": [
    "df_results_all_species_masses_dist = make_plot_other_traits(df_results_all_species, 'distance', 'sensitivity')\n",
    "print(df_results_all_species_masses_dist.shape)\n",
    "\n",
    "df_results_all_species_masses_dist.head(2)"
   ]
  },
  {
   "cell_type": "code",
   "execution_count": null,
   "metadata": {
    "scrolled": true
   },
   "outputs": [],
   "source": [
    "df_results_all_species_masses_dist = make_plot_other_traits(df_results_all_species, 'beta_gamma_mean', 'sensitivity')\n",
    "print(df_results_all_species_masses_dist.shape)\n",
    "\n",
    "df_results_all_species_masses_dist.head(2)"
   ]
  },
  {
   "cell_type": "code",
   "execution_count": null,
   "metadata": {},
   "outputs": [],
   "source": [
    "df_results_all_species_masses_dist.head()"
   ]
  },
  {
   "cell_type": "code",
   "execution_count": null,
   "metadata": {},
   "outputs": [],
   "source": []
  },
  {
   "cell_type": "code",
   "execution_count": null,
   "metadata": {},
   "outputs": [],
   "source": [
    "# df_slopes_lat.head(2)"
   ]
  },
  {
   "cell_type": "code",
   "execution_count": null,
   "metadata": {
    "scrolled": true
   },
   "outputs": [],
   "source": [
    "# df_slopes_lat_masses_dist = make_plot_other_traits(df_slopes_lat, 'distance', 'sensitivity_latitude')\n",
    "# print(df_slopes_lat_masses_dist.shape)\n",
    "\n",
    "# df_slopes_lat_masses_dist.head(2)"
   ]
  },
  {
   "cell_type": "code",
   "execution_count": null,
   "metadata": {},
   "outputs": [],
   "source": []
  },
  {
   "cell_type": "code",
   "execution_count": null,
   "metadata": {
    "scrolled": true
   },
   "outputs": [],
   "source": [
    "df_slopes_temp_change_masses_dist_traits = make_plot_other_traits(\n",
    "    df_slopes_temp_change, 'distance', 'sensitivity_temp_change')\n",
    "print(df_slopes_temp_change_masses_dist_traits.shape)\n",
    "\n",
    "df_slopes_temp_change_masses_dist_traits.head(2)"
   ]
  },
  {
   "cell_type": "code",
   "execution_count": null,
   "metadata": {
    "scrolled": true
   },
   "outputs": [],
   "source": [
    "# \n",
    "\n",
    "df_slopes_temp_change_all_year_masses_dist_traits = make_plot_other_traits(\n",
    "    df_slopes_temp_change_all_years, 'distance', 'sensitivity_temp_change')\n",
    "print(df_slopes_temp_change_all_year_masses_dist_traits.shape)\n",
    "\n",
    "df_slopes_temp_change_all_year_masses_dist_traits.head(2)"
   ]
  },
  {
   "cell_type": "code",
   "execution_count": null,
   "metadata": {},
   "outputs": [],
   "source": []
  }
 ],
 "metadata": {
  "kernelspec": {
   "display_name": "Python 3 (ipykernel)",
   "language": "python",
   "name": "python3"
  },
  "language_info": {
   "codemirror_mode": {
    "name": "ipython",
    "version": 3
   },
   "file_extension": ".py",
   "mimetype": "text/x-python",
   "name": "python",
   "nbconvert_exporter": "python",
   "pygments_lexer": "ipython3",
   "version": "3.10.12"
  }
 },
 "nbformat": 4,
 "nbformat_minor": 4
}
