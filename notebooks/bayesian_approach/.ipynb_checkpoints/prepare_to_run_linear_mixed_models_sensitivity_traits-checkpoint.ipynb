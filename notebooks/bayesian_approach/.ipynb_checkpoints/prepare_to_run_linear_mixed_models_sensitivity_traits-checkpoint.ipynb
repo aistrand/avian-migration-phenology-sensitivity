{
 "cells": [
  {
   "cell_type": "code",
   "execution_count": null,
   "id": "c7c36a56",
   "metadata": {},
   "outputs": [],
   "source": [
    "import os\n",
    "import pandas as pd\n",
    "import numpy as np\n",
    "import statsmodels.formula.api as smf\n",
    "import matplotlib.pyplot as plt\n",
    "from statsmodels.graphics.regressionplots import abline_plot\n",
    "import matplotlib\n",
    "import geopandas\n",
    "from scipy import statspd.options.display.max_columns = 100"
   ]
  },
  {
   "cell_type": "code",
   "execution_count": 2,
   "id": "6c059443",
   "metadata": {},
   "outputs": [],
   "source": [
    "pd.options.display.max_columns = 100"
   ]
  },
  {
   "cell_type": "code",
   "execution_count": 3,
   "id": "cfc02d85",
   "metadata": {},
   "outputs": [
    {
     "data": {
      "text/plain": [
       "'/Users/alvastrand/Library/Mobile Documents/com~apple~CloudDocs/Documents/OU/Research/notebooks/Casey'"
      ]
     },
     "execution_count": 3,
     "metadata": {},
     "output_type": "execute_result"
    }
   ],
   "source": [
    "os.getcwd()"
   ]
  },
  {
   "cell_type": "code",
   "execution_count": 4,
   "id": "ac5a5a6b",
   "metadata": {},
   "outputs": [],
   "source": [
    "path = '/Users/alvastrand/Downloads/linear_mixed_modeling/mean_arrival_day_temperature/coefficients/'\n",
    "\n",
    "os.chdir(path)"
   ]
  },
  {
   "cell_type": "code",
   "execution_count": 5,
   "id": "8a2670f1",
   "metadata": {},
   "outputs": [
    {
     "data": {
      "text/plain": [
       "'/Users/alvastrand/Downloads'"
      ]
     },
     "execution_count": 5,
     "metadata": {},
     "output_type": "execute_result"
    }
   ],
   "source": [
    "os.getcwd()"
   ]
  },
  {
   "cell_type": "code",
   "execution_count": 7,
   "id": "3c7d166d",
   "metadata": {},
   "outputs": [
    {
     "name": "stdout",
     "output_type": "stream",
     "text": [
      "(450, 4)\n"
     ]
    },
    {
     "data": {
      "text/html": [
       "<div>\n",
       "<style scoped>\n",
       "    .dataframe tbody tr th:only-of-type {\n",
       "        vertical-align: middle;\n",
       "    }\n",
       "\n",
       "    .dataframe tbody tr th {\n",
       "        vertical-align: top;\n",
       "    }\n",
       "\n",
       "    .dataframe thead th {\n",
       "        text-align: right;\n",
       "    }\n",
       "</style>\n",
       "<table border=\"1\" class=\"dataframe\">\n",
       "  <thead>\n",
       "    <tr style=\"text-align: right;\">\n",
       "      <th></th>\n",
       "      <th>species</th>\n",
       "      <th>cell</th>\n",
       "      <th>slope</th>\n",
       "      <th>intercept</th>\n",
       "    </tr>\n",
       "  </thead>\n",
       "  <tbody>\n",
       "    <tr>\n",
       "      <th>0</th>\n",
       "      <td>Antrostomus_carolinensis</td>\n",
       "      <td>19</td>\n",
       "      <td>-1.749315</td>\n",
       "      <td>101.853281</td>\n",
       "    </tr>\n",
       "    <tr>\n",
       "      <th>1</th>\n",
       "      <td>Antrostomus_carolinensis</td>\n",
       "      <td>45</td>\n",
       "      <td>-0.959714</td>\n",
       "      <td>105.110310</td>\n",
       "    </tr>\n",
       "  </tbody>\n",
       "</table>\n",
       "</div>"
      ],
      "text/plain": [
       "                    species  cell     slope   intercept\n",
       "0  Antrostomus_carolinensis    19 -1.749315  101.853281\n",
       "1  Antrostomus_carolinensis    45 -0.959714  105.110310"
      ]
     },
     "execution_count": 7,
     "metadata": {},
     "output_type": "execute_result"
    }
   ],
   "source": [
    "filename = 'coefficients_mean_arrival_day_temperature.csv'\n",
    "\n",
    "df_coeffs_lmer = pd.read_csv(filename)\n",
    "print(df_coeffs_lmer.shape)\n",
    "\n",
    "df_coeffs_lmer.head(2)"
   ]
  },
  {
   "cell_type": "code",
   "execution_count": 8,
   "id": "1d3571b8",
   "metadata": {},
   "outputs": [
    {
     "name": "stdout",
     "output_type": "stream",
     "text": [
      "(450, 4)\n"
     ]
    },
    {
     "data": {
      "text/html": [
       "<div>\n",
       "<style scoped>\n",
       "    .dataframe tbody tr th:only-of-type {\n",
       "        vertical-align: middle;\n",
       "    }\n",
       "\n",
       "    .dataframe tbody tr th {\n",
       "        vertical-align: top;\n",
       "    }\n",
       "\n",
       "    .dataframe thead th {\n",
       "        text-align: right;\n",
       "    }\n",
       "</style>\n",
       "<table border=\"1\" class=\"dataframe\">\n",
       "  <thead>\n",
       "    <tr style=\"text-align: right;\">\n",
       "      <th></th>\n",
       "      <th>scientific_name</th>\n",
       "      <th>cell</th>\n",
       "      <th>slope_lmer</th>\n",
       "      <th>intercept_lmer</th>\n",
       "    </tr>\n",
       "  </thead>\n",
       "  <tbody>\n",
       "    <tr>\n",
       "      <th>0</th>\n",
       "      <td>Antrostomus carolinensis</td>\n",
       "      <td>19</td>\n",
       "      <td>-1.749315</td>\n",
       "      <td>101.853281</td>\n",
       "    </tr>\n",
       "    <tr>\n",
       "      <th>1</th>\n",
       "      <td>Antrostomus carolinensis</td>\n",
       "      <td>45</td>\n",
       "      <td>-0.959714</td>\n",
       "      <td>105.110310</td>\n",
       "    </tr>\n",
       "  </tbody>\n",
       "</table>\n",
       "</div>"
      ],
      "text/plain": [
       "            scientific_name  cell  slope_lmer  intercept_lmer\n",
       "0  Antrostomus carolinensis    19   -1.749315      101.853281\n",
       "1  Antrostomus carolinensis    45   -0.959714      105.110310"
      ]
     },
     "execution_count": 8,
     "metadata": {},
     "output_type": "execute_result"
    }
   ],
   "source": [
    "df_coeffs_lmer = df_coeffs_lmer.rename(columns={'species': 'scientific_name', 'slope': 'slope_lmer', 'intercept': 'intercept_lmer'})\n",
    "\n",
    "df_coeffs_lmer['scientific_name'] = df_coeffs_lmer['scientific_name'].str.replace('_', ' ')\n",
    "\n",
    "print(df_coeffs_lmer.shape)\n",
    "\n",
    "df_coeffs_lmer.head(2)"
   ]
  },
  {
   "cell_type": "code",
   "execution_count": null,
   "id": "4f8ec6ac",
   "metadata": {},
   "outputs": [],
   "source": []
  },
  {
   "cell_type": "code",
   "execution_count": 3,
   "id": "90911085",
   "metadata": {},
   "outputs": [
    {
     "data": {
      "text/plain": [
       "'/Users/alvastrand/Library/Mobile Documents/com~apple~CloudDocs/Documents/OU/Research/notebooks/Casey'"
      ]
     },
     "execution_count": 3,
     "metadata": {},
     "output_type": "execute_result"
    }
   ],
   "source": [
    "os.getcwd()"
   ]
  },
  {
   "cell_type": "code",
   "execution_count": 4,
   "id": "5f3ff9f3",
   "metadata": {},
   "outputs": [],
   "source": [
    "path = '/Users/alvastrand/Library/Mobile Documents/com~apple~CloudDocs/Documents/OU/Research/data/output/'\n",
    "\n",
    "os.chdir(path)"
   ]
  },
  {
   "cell_type": "code",
   "execution_count": 5,
   "id": "645fe9dd",
   "metadata": {},
   "outputs": [
    {
     "data": {
      "text/plain": [
       "'/Users/alvastrand/Downloads'"
      ]
     },
     "execution_count": 5,
     "metadata": {},
     "output_type": "execute_result"
    }
   ],
   "source": [
    "os.getcwd()"
   ]
  },
  {
   "cell_type": "code",
   "execution_count": 7,
   "id": "9e2e96d9",
   "metadata": {},
   "outputs": [
    {
     "name": "stdout",
     "output_type": "stream",
     "text": [
      "(450, 4)\n"
     ]
    },
    {
     "data": {
      "text/html": [
       "<div>\n",
       "<style scoped>\n",
       "    .dataframe tbody tr th:only-of-type {\n",
       "        vertical-align: middle;\n",
       "    }\n",
       "\n",
       "    .dataframe tbody tr th {\n",
       "        vertical-align: top;\n",
       "    }\n",
       "\n",
       "    .dataframe thead th {\n",
       "        text-align: right;\n",
       "    }\n",
       "</style>\n",
       "<table border=\"1\" class=\"dataframe\">\n",
       "  <thead>\n",
       "    <tr style=\"text-align: right;\">\n",
       "      <th></th>\n",
       "      <th>species</th>\n",
       "      <th>cell</th>\n",
       "      <th>slope</th>\n",
       "      <th>intercept</th>\n",
       "    </tr>\n",
       "  </thead>\n",
       "  <tbody>\n",
       "    <tr>\n",
       "      <th>0</th>\n",
       "      <td>Antrostomus_carolinensis</td>\n",
       "      <td>19</td>\n",
       "      <td>-1.749315</td>\n",
       "      <td>101.853281</td>\n",
       "    </tr>\n",
       "    <tr>\n",
       "      <th>1</th>\n",
       "      <td>Antrostomus_carolinensis</td>\n",
       "      <td>45</td>\n",
       "      <td>-0.959714</td>\n",
       "      <td>105.110310</td>\n",
       "    </tr>\n",
       "  </tbody>\n",
       "</table>\n",
       "</div>"
      ],
      "text/plain": [
       "                    species  cell     slope   intercept\n",
       "0  Antrostomus_carolinensis    19 -1.749315  101.853281\n",
       "1  Antrostomus_carolinensis    45 -0.959714  105.110310"
      ]
     },
     "execution_count": 7,
     "metadata": {},
     "output_type": "execute_result"
    }
   ],
   "source": [
    "filename = 'aerial_insectivores_speeds_mean_arrival_days.csv'\n",
    "\n",
    "df_speeds_means = pd.read_csv(filename)\n",
    "print(df_speeds_means.shape)\n",
    "\n",
    "df_speeds_means.head(2)"
   ]
  },
  {
   "cell_type": "code",
   "execution_count": null,
   "id": "6a6bc4b4",
   "metadata": {},
   "outputs": [],
   "source": [
    "filename = 'aerial_insectivores_migration_distances_mean_weighted_body_masses.csv'\n",
    "\n",
    "df_masses_dist = pd.read_csv(filename)\n",
    "print(df_masses_dist.shape)\n",
    "\n",
    "df_masses_dist.head(2)"
   ]
  },
  {
   "cell_type": "code",
   "execution_count": null,
   "id": "cd4bd237",
   "metadata": {},
   "outputs": [],
   "source": [
    "df_masses_dist = df_masses_dist[['scientific_name', 'common_name', 'body_mass', 'distance']]\n",
    "print(df_masses_dist.shape)\n",
    "\n",
    "df_masses_dist.head(2)"
   ]
  },
  {
   "cell_type": "code",
   "execution_count": null,
   "id": "21f06ad1",
   "metadata": {},
   "outputs": [],
   "source": [
    "df_masses_dist_speeds_means = df_masses_dist.merge(df_speeds_means, on='scientific_name')\n",
    "print(df_masses_dist_speeds_means.shape)\n",
    "\n",
    "df_masses_dist_speeds_means.head(2)"
   ]
  },
  {
   "cell_type": "code",
   "execution_count": null,
   "id": "66c38279",
   "metadata": {},
   "outputs": [],
   "source": [
    "list(df_masses_dist_speeds_means['common_name'])"
   ]
  },
  {
   "cell_type": "code",
   "execution_count": null,
   "id": "dad76556",
   "metadata": {},
   "outputs": [],
   "source": [
    "list_species_codes = ['CWWI', 'EWPW', 'CHSW', 'CONI', 'BARS', 'CLSW', 'PUMA', 'BANS', 'NRWS', 'TRES']\n",
    "print(len(list_species_codes))"
   ]
  },
  {
   "cell_type": "code",
   "execution_count": null,
   "id": "1c9715e0",
   "metadata": {},
   "outputs": [],
   "source": [
    "df_masses_dist_speeds_means['species_code'] = list_species_codes\n",
    "print(df_masses_dist_speeds_means.shape)\n",
    "\n",
    "df_masses_dist_speeds_means.head(2)"
   ]
  },
  {
   "cell_type": "code",
   "execution_count": null,
   "id": "cc22b14f",
   "metadata": {},
   "outputs": [],
   "source": []
  },
  {
   "cell_type": "code",
   "execution_count": null,
   "id": "7b21a7ed",
   "metadata": {},
   "outputs": [],
   "source": [
    "df_coeffs_lmer_traits = df_coeffs_lmer.merge(df_masses_dist_speeds_means, on='scientific_name')\n",
    "\n",
    "df_coeffs_lmer_traits['body_mass_mg'] = df_coeffs_lmer_traits['body_mass']*1000\n",
    "\n",
    "df_coeffs_lmer_traits['log_body_mass_mg'] = np.log(df_coeffs_lmer_traits['body_mass_mg'])"
   ]
  }
 ],
 "metadata": {
  "kernelspec": {
   "display_name": "Python 3 (ipykernel)",
   "language": "python",
   "name": "python3"
  },
  "language_info": {
   "codemirror_mode": {
    "name": "ipython",
    "version": 3
   },
   "file_extension": ".py",
   "mimetype": "text/x-python",
   "name": "python",
   "nbconvert_exporter": "python",
   "pygments_lexer": "ipython3",
   "version": "3.10.12"
  }
 },
 "nbformat": 4,
 "nbformat_minor": 5
}
