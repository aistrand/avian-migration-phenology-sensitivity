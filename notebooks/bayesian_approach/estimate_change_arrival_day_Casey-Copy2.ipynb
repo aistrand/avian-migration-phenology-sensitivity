{
 "cells": [
  {
   "cell_type": "code",
   "execution_count": 1,
   "metadata": {},
   "outputs": [],
   "source": [
    "import os\n",
    "import pandas as pd\n",
    "import numpy as np\n",
    "import statsmodels.formula.api as smf\n",
    "import matplotlib.pyplot as plt\n",
    "from statsmodels.graphics.regressionplots import abline_plot\n",
    "import matplotlib\n",
    "import geopandas\n",
    "from scipy import stats\n",
    "from sklearn.decomposition import PCA"
   ]
  },
  {
   "cell_type": "code",
   "execution_count": 2,
   "metadata": {},
   "outputs": [],
   "source": [
    "pd.options.display.max_columns = 100"
   ]
  },
  {
   "cell_type": "code",
   "execution_count": 3,
   "metadata": {},
   "outputs": [
    {
     "data": {
      "text/plain": [
       "'/Users/alvastrand/Library/Mobile Documents/com~apple~CloudDocs/Documents/OU/Research/notebooks/Casey'"
      ]
     },
     "execution_count": 3,
     "metadata": {},
     "output_type": "execute_result"
    }
   ],
   "source": [
    "os.getcwd()"
   ]
  },
  {
   "cell_type": "code",
   "execution_count": 4,
   "metadata": {},
   "outputs": [],
   "source": [
    "# path = '/Volumes/TOSHIBA EXT/Data/Processed/arrival_master_2022-05-13_5000/'\n",
    "\n",
    "path = '/Users/alvastrand/Downloads/'\n",
    "\n",
    "os.chdir(path)"
   ]
  },
  {
   "cell_type": "code",
   "execution_count": 5,
   "metadata": {},
   "outputs": [
    {
     "data": {
      "text/plain": [
       "'/Users/alvastrand/Downloads'"
      ]
     },
     "execution_count": 5,
     "metadata": {},
     "output_type": "execute_result"
    }
   ],
   "source": [
    "os.getcwd()"
   ]
  },
  {
   "cell_type": "code",
   "execution_count": 6,
   "metadata": {},
   "outputs": [
    {
     "name": "stdout",
     "output_type": "stream",
     "text": [
      "(15012, 18)\n"
     ]
    },
    {
     "data": {
      "text/html": [
       "<div>\n",
       "<style scoped>\n",
       "    .dataframe tbody tr th:only-of-type {\n",
       "        vertical-align: middle;\n",
       "    }\n",
       "\n",
       "    .dataframe tbody tr th {\n",
       "        vertical-align: top;\n",
       "    }\n",
       "\n",
       "    .dataframe thead th {\n",
       "        text-align: right;\n",
       "    }\n",
       "</style>\n",
       "<table border=\"1\" class=\"dataframe\">\n",
       "  <thead>\n",
       "    <tr style=\"text-align: right;\">\n",
       "      <th></th>\n",
       "      <th>species</th>\n",
       "      <th>cell</th>\n",
       "      <th>cell_lat</th>\n",
       "      <th>cell_lng</th>\n",
       "      <th>year</th>\n",
       "      <th>arr_GAM_mean</th>\n",
       "      <th>arr_GAM_sd</th>\n",
       "      <th>VALID_GAM</th>\n",
       "      <th>arr_IAR_mean</th>\n",
       "      <th>arr_IAR_sd</th>\n",
       "      <th>sigma_beta0_mean</th>\n",
       "      <th>sigma_beta0_sd</th>\n",
       "      <th>beta_gamma_mean</th>\n",
       "      <th>beta_gamma_sd</th>\n",
       "      <th>plmax</th>\n",
       "      <th>num_diverge</th>\n",
       "      <th>max_Rhat</th>\n",
       "      <th>min_neff</th>\n",
       "    </tr>\n",
       "  </thead>\n",
       "  <tbody>\n",
       "    <tr>\n",
       "      <th>0</th>\n",
       "      <td>Chaetura_pelagica</td>\n",
       "      <td>4</td>\n",
       "      <td>24</td>\n",
       "      <td>-84</td>\n",
       "      <td>2002</td>\n",
       "      <td>NaN</td>\n",
       "      <td>NaN</td>\n",
       "      <td>False</td>\n",
       "      <td>90.909590</td>\n",
       "      <td>5.920687</td>\n",
       "      <td>2.021079</td>\n",
       "      <td>0.468736</td>\n",
       "      <td>1.776108</td>\n",
       "      <td>0.105277</td>\n",
       "      <td>NaN</td>\n",
       "      <td>0</td>\n",
       "      <td>1.0</td>\n",
       "      <td>910</td>\n",
       "    </tr>\n",
       "    <tr>\n",
       "      <th>1</th>\n",
       "      <td>Chaetura_pelagica</td>\n",
       "      <td>5</td>\n",
       "      <td>24</td>\n",
       "      <td>-82</td>\n",
       "      <td>2002</td>\n",
       "      <td>NaN</td>\n",
       "      <td>NaN</td>\n",
       "      <td>False</td>\n",
       "      <td>93.301279</td>\n",
       "      <td>5.457043</td>\n",
       "      <td>2.021079</td>\n",
       "      <td>0.468736</td>\n",
       "      <td>1.776108</td>\n",
       "      <td>0.105277</td>\n",
       "      <td>NaN</td>\n",
       "      <td>0</td>\n",
       "      <td>1.0</td>\n",
       "      <td>910</td>\n",
       "    </tr>\n",
       "  </tbody>\n",
       "</table>\n",
       "</div>"
      ],
      "text/plain": [
       "             species  cell  cell_lat  cell_lng  year  arr_GAM_mean  \\\n",
       "0  Chaetura_pelagica     4        24       -84  2002           NaN   \n",
       "1  Chaetura_pelagica     5        24       -82  2002           NaN   \n",
       "\n",
       "   arr_GAM_sd  VALID_GAM  arr_IAR_mean  arr_IAR_sd  sigma_beta0_mean  \\\n",
       "0         NaN      False     90.909590    5.920687          2.021079   \n",
       "1         NaN      False     93.301279    5.457043          2.021079   \n",
       "\n",
       "   sigma_beta0_sd  beta_gamma_mean  beta_gamma_sd  plmax  num_diverge  \\\n",
       "0        0.468736         1.776108       0.105277    NaN            0   \n",
       "1        0.468736         1.776108       0.105277    NaN            0   \n",
       "\n",
       "   max_Rhat  min_neff  \n",
       "0       1.0       910  \n",
       "1       1.0       910  "
      ]
     },
     "execution_count": 6,
     "metadata": {},
     "output_type": "execute_result"
    }
   ],
   "source": [
    "filename = 'arrival_master_2022-05-13.csv'\n",
    "\n",
    "df = pd.read_csv(filename)\n",
    "print(df.shape)\n",
    "\n",
    "df.head(2)"
   ]
  },
  {
   "cell_type": "code",
   "execution_count": 7,
   "metadata": {},
   "outputs": [
    {
     "name": "stdout",
     "output_type": "stream",
     "text": [
      "(15012, 18)\n"
     ]
    },
    {
     "data": {
      "text/html": [
       "<div>\n",
       "<style scoped>\n",
       "    .dataframe tbody tr th:only-of-type {\n",
       "        vertical-align: middle;\n",
       "    }\n",
       "\n",
       "    .dataframe tbody tr th {\n",
       "        vertical-align: top;\n",
       "    }\n",
       "\n",
       "    .dataframe thead th {\n",
       "        text-align: right;\n",
       "    }\n",
       "</style>\n",
       "<table border=\"1\" class=\"dataframe\">\n",
       "  <thead>\n",
       "    <tr style=\"text-align: right;\">\n",
       "      <th></th>\n",
       "      <th>species</th>\n",
       "      <th>cell</th>\n",
       "      <th>lat</th>\n",
       "      <th>lon</th>\n",
       "      <th>year</th>\n",
       "      <th>arr_GAM_mean</th>\n",
       "      <th>arr_GAM_sd</th>\n",
       "      <th>VALID_GAM</th>\n",
       "      <th>arr_IAR_mean</th>\n",
       "      <th>arr_IAR_sd</th>\n",
       "      <th>sigma_beta0_mean</th>\n",
       "      <th>sigma_beta0_sd</th>\n",
       "      <th>beta_gamma_mean</th>\n",
       "      <th>beta_gamma_sd</th>\n",
       "      <th>plmax</th>\n",
       "      <th>num_diverge</th>\n",
       "      <th>max_Rhat</th>\n",
       "      <th>min_neff</th>\n",
       "    </tr>\n",
       "  </thead>\n",
       "  <tbody>\n",
       "    <tr>\n",
       "      <th>0</th>\n",
       "      <td>Antrostomus_carolinensis</td>\n",
       "      <td>4</td>\n",
       "      <td>24</td>\n",
       "      <td>-84</td>\n",
       "      <td>2010</td>\n",
       "      <td>NaN</td>\n",
       "      <td>NaN</td>\n",
       "      <td>False</td>\n",
       "      <td>75.560371</td>\n",
       "      <td>9.075519</td>\n",
       "      <td>2.981226</td>\n",
       "      <td>1.211438</td>\n",
       "      <td>3.501294</td>\n",
       "      <td>0.263926</td>\n",
       "      <td>NaN</td>\n",
       "      <td>0</td>\n",
       "      <td>1.01</td>\n",
       "      <td>716</td>\n",
       "    </tr>\n",
       "    <tr>\n",
       "      <th>1</th>\n",
       "      <td>Antrostomus_carolinensis</td>\n",
       "      <td>4</td>\n",
       "      <td>24</td>\n",
       "      <td>-84</td>\n",
       "      <td>2011</td>\n",
       "      <td>NaN</td>\n",
       "      <td>NaN</td>\n",
       "      <td>False</td>\n",
       "      <td>69.553227</td>\n",
       "      <td>9.223410</td>\n",
       "      <td>2.981226</td>\n",
       "      <td>1.211438</td>\n",
       "      <td>3.501294</td>\n",
       "      <td>0.263926</td>\n",
       "      <td>NaN</td>\n",
       "      <td>0</td>\n",
       "      <td>1.01</td>\n",
       "      <td>716</td>\n",
       "    </tr>\n",
       "  </tbody>\n",
       "</table>\n",
       "</div>"
      ],
      "text/plain": [
       "                    species  cell  lat  lon  year  arr_GAM_mean  arr_GAM_sd  \\\n",
       "0  Antrostomus_carolinensis     4   24  -84  2010           NaN         NaN   \n",
       "1  Antrostomus_carolinensis     4   24  -84  2011           NaN         NaN   \n",
       "\n",
       "   VALID_GAM  arr_IAR_mean  arr_IAR_sd  sigma_beta0_mean  sigma_beta0_sd  \\\n",
       "0      False     75.560371    9.075519          2.981226        1.211438   \n",
       "1      False     69.553227    9.223410          2.981226        1.211438   \n",
       "\n",
       "   beta_gamma_mean  beta_gamma_sd  plmax  num_diverge  max_Rhat  min_neff  \n",
       "0         3.501294       0.263926    NaN            0      1.01       716  \n",
       "1         3.501294       0.263926    NaN            0      1.01       716  "
      ]
     },
     "execution_count": 7,
     "metadata": {},
     "output_type": "execute_result"
    }
   ],
   "source": [
    "df = df.rename(columns={'cell_lat': 'lat', 'cell_lng': 'lon'})\n",
    "\n",
    "df = df.sort_values(by=['species', 'cell', 'year'])\n",
    "\n",
    "df = df.reset_index(drop=True)\n",
    "\n",
    "print(df.shape)\n",
    "\n",
    "df.head(2)"
   ]
  },
  {
   "cell_type": "code",
   "execution_count": null,
   "metadata": {},
   "outputs": [],
   "source": []
  },
  {
   "cell_type": "code",
   "execution_count": 8,
   "metadata": {},
   "outputs": [
    {
     "data": {
      "text/plain": [
       "'/Users/alvastrand/Downloads'"
      ]
     },
     "execution_count": 8,
     "metadata": {},
     "output_type": "execute_result"
    }
   ],
   "source": [
    "os.getcwd()"
   ]
  },
  {
   "cell_type": "code",
   "execution_count": 9,
   "metadata": {},
   "outputs": [],
   "source": [
    "path = '/Users/alvastrand/Library/Mobile Documents/com~apple~CloudDocs/Documents/OU/Research/data/output/'\n",
    "\n",
    "os.chdir(path)"
   ]
  },
  {
   "cell_type": "code",
   "execution_count": 10,
   "metadata": {},
   "outputs": [
    {
     "data": {
      "text/plain": [
       "'/Users/alvastrand/Library/Mobile Documents/com~apple~CloudDocs/Documents/OU/Research/data/output'"
      ]
     },
     "execution_count": 10,
     "metadata": {},
     "output_type": "execute_result"
    }
   ],
   "source": [
    "os.getcwd()"
   ]
  },
  {
   "cell_type": "code",
   "execution_count": 11,
   "metadata": {},
   "outputs": [
    {
     "name": "stdout",
     "output_type": "stream",
     "text": [
      "(3276, 6)\n"
     ]
    },
    {
     "data": {
      "text/html": [
       "<div>\n",
       "<style scoped>\n",
       "    .dataframe tbody tr th:only-of-type {\n",
       "        vertical-align: middle;\n",
       "    }\n",
       "\n",
       "    .dataframe tbody tr th {\n",
       "        vertical-align: top;\n",
       "    }\n",
       "\n",
       "    .dataframe thead th {\n",
       "        text-align: right;\n",
       "    }\n",
       "</style>\n",
       "<table border=\"1\" class=\"dataframe\">\n",
       "  <thead>\n",
       "    <tr style=\"text-align: right;\">\n",
       "      <th></th>\n",
       "      <th>cell</th>\n",
       "      <th>year</th>\n",
       "      <th>air_temp_kelvin</th>\n",
       "      <th>gr_mn</th>\n",
       "      <th>cell_lat</th>\n",
       "      <th>cell_lng</th>\n",
       "    </tr>\n",
       "  </thead>\n",
       "  <tbody>\n",
       "    <tr>\n",
       "      <th>0</th>\n",
       "      <td>0</td>\n",
       "      <td>2002</td>\n",
       "      <td>294.254356</td>\n",
       "      <td>21.104356</td>\n",
       "      <td>24.0</td>\n",
       "      <td>-92.0</td>\n",
       "    </tr>\n",
       "    <tr>\n",
       "      <th>1</th>\n",
       "      <td>0</td>\n",
       "      <td>2003</td>\n",
       "      <td>293.627635</td>\n",
       "      <td>20.477635</td>\n",
       "      <td>24.0</td>\n",
       "      <td>-92.0</td>\n",
       "    </tr>\n",
       "  </tbody>\n",
       "</table>\n",
       "</div>"
      ],
      "text/plain": [
       "   cell  year  air_temp_kelvin      gr_mn  cell_lat  cell_lng\n",
       "0     0  2002       294.254356  21.104356      24.0     -92.0\n",
       "1     0  2003       293.627635  20.477635      24.0     -92.0"
      ]
     },
     "execution_count": 11,
     "metadata": {},
     "output_type": "execute_result"
    }
   ],
   "source": [
    "filename = 'ncep_narr_air_2m_ebd_US_states_east_Mississippi_0101_0731_complete_zerofilled_grid_cell_ids_2002_2019_relApr-2020_Casey_lats_lons.csv'\n",
    "\n",
    "df_t = pd.read_csv(filename)\n",
    "print(df_t.shape)\n",
    "\n",
    "df_t.head(2)"
   ]
  },
  {
   "cell_type": "code",
   "execution_count": 12,
   "metadata": {},
   "outputs": [
    {
     "name": "stdout",
     "output_type": "stream",
     "text": [
      "(3276, 6)\n"
     ]
    },
    {
     "data": {
      "text/html": [
       "<div>\n",
       "<style scoped>\n",
       "    .dataframe tbody tr th:only-of-type {\n",
       "        vertical-align: middle;\n",
       "    }\n",
       "\n",
       "    .dataframe tbody tr th {\n",
       "        vertical-align: top;\n",
       "    }\n",
       "\n",
       "    .dataframe thead th {\n",
       "        text-align: right;\n",
       "    }\n",
       "</style>\n",
       "<table border=\"1\" class=\"dataframe\">\n",
       "  <thead>\n",
       "    <tr style=\"text-align: right;\">\n",
       "      <th></th>\n",
       "      <th>cell</th>\n",
       "      <th>lat</th>\n",
       "      <th>lon</th>\n",
       "      <th>year</th>\n",
       "      <th>air_temp_kelvin</th>\n",
       "      <th>air_temp_degrees_celsius</th>\n",
       "    </tr>\n",
       "  </thead>\n",
       "  <tbody>\n",
       "    <tr>\n",
       "      <th>0</th>\n",
       "      <td>0</td>\n",
       "      <td>24.0</td>\n",
       "      <td>-92.0</td>\n",
       "      <td>2002</td>\n",
       "      <td>294.254356</td>\n",
       "      <td>21.104356</td>\n",
       "    </tr>\n",
       "    <tr>\n",
       "      <th>1</th>\n",
       "      <td>0</td>\n",
       "      <td>24.0</td>\n",
       "      <td>-92.0</td>\n",
       "      <td>2003</td>\n",
       "      <td>293.627635</td>\n",
       "      <td>20.477635</td>\n",
       "    </tr>\n",
       "  </tbody>\n",
       "</table>\n",
       "</div>"
      ],
      "text/plain": [
       "   cell   lat   lon  year  air_temp_kelvin  air_temp_degrees_celsius\n",
       "0     0  24.0 -92.0  2002       294.254356                 21.104356\n",
       "1     0  24.0 -92.0  2003       293.627635                 20.477635"
      ]
     },
     "execution_count": 12,
     "metadata": {},
     "output_type": "execute_result"
    }
   ],
   "source": [
    "df_t = df_t.rename(columns={'gr_mn': 'air_temp_degrees_celsius', 'cell_lat': 'lat', 'cell_lng': 'lon'})\n",
    "\n",
    "df_t = df_t[['cell', 'lat', 'lon', 'year', 'air_temp_kelvin', 'air_temp_degrees_celsius']]\n",
    "\n",
    "df_t = df_t.sort_values(by=['cell', 'year'])\n",
    "\n",
    "df_t = df_t.reset_index(drop=True)\n",
    "\n",
    "print(df_t.shape)\n",
    "\n",
    "df_t.head(2)"
   ]
  },
  {
   "cell_type": "code",
   "execution_count": 13,
   "metadata": {},
   "outputs": [
    {
     "name": "stdout",
     "output_type": "stream",
     "text": [
      "(3276, 5)\n"
     ]
    },
    {
     "data": {
      "text/html": [
       "<div>\n",
       "<style scoped>\n",
       "    .dataframe tbody tr th:only-of-type {\n",
       "        vertical-align: middle;\n",
       "    }\n",
       "\n",
       "    .dataframe tbody tr th {\n",
       "        vertical-align: top;\n",
       "    }\n",
       "\n",
       "    .dataframe thead th {\n",
       "        text-align: right;\n",
       "    }\n",
       "</style>\n",
       "<table border=\"1\" class=\"dataframe\">\n",
       "  <thead>\n",
       "    <tr style=\"text-align: right;\">\n",
       "      <th></th>\n",
       "      <th>cell</th>\n",
       "      <th>lat</th>\n",
       "      <th>lon</th>\n",
       "      <th>year</th>\n",
       "      <th>air_temp_degrees_celsius</th>\n",
       "    </tr>\n",
       "  </thead>\n",
       "  <tbody>\n",
       "    <tr>\n",
       "      <th>0</th>\n",
       "      <td>0</td>\n",
       "      <td>24.0</td>\n",
       "      <td>-92.0</td>\n",
       "      <td>2002</td>\n",
       "      <td>21.104356</td>\n",
       "    </tr>\n",
       "    <tr>\n",
       "      <th>1</th>\n",
       "      <td>0</td>\n",
       "      <td>24.0</td>\n",
       "      <td>-92.0</td>\n",
       "      <td>2003</td>\n",
       "      <td>20.477635</td>\n",
       "    </tr>\n",
       "  </tbody>\n",
       "</table>\n",
       "</div>"
      ],
      "text/plain": [
       "   cell   lat   lon  year  air_temp_degrees_celsius\n",
       "0     0  24.0 -92.0  2002                 21.104356\n",
       "1     0  24.0 -92.0  2003                 20.477635"
      ]
     },
     "execution_count": 13,
     "metadata": {},
     "output_type": "execute_result"
    }
   ],
   "source": [
    "# Linear mixed modeling\n",
    "\n",
    "# Prepare data\n",
    "\n",
    "df_t_out = df_t.drop(columns='air_temp_kelvin')\n",
    "print(df_t_out.shape)\n",
    "\n",
    "df_t_out.head(2)"
   ]
  },
  {
   "cell_type": "code",
   "execution_count": 14,
   "metadata": {},
   "outputs": [
    {
     "data": {
      "text/plain": [
       "'/Users/alvastrand/Library/Mobile Documents/com~apple~CloudDocs/Documents/OU/Research/data/output'"
      ]
     },
     "execution_count": 14,
     "metadata": {},
     "output_type": "execute_result"
    }
   ],
   "source": [
    "os.getcwd()"
   ]
  },
  {
   "cell_type": "code",
   "execution_count": 15,
   "metadata": {},
   "outputs": [],
   "source": [
    "# df_t_out.to_csv('temperatures_all_cells_all_years_prepared.csv', index=False)"
   ]
  },
  {
   "cell_type": "code",
   "execution_count": 16,
   "metadata": {
    "scrolled": true
   },
   "outputs": [],
   "source": [
    "# df_t[df_t['cell'] == 44]"
   ]
  },
  {
   "cell_type": "markdown",
   "metadata": {},
   "source": [
    "Temperature ~ Year\n",
    "\n",
    "2002-2019"
   ]
  },
  {
   "cell_type": "code",
   "execution_count": 17,
   "metadata": {},
   "outputs": [
    {
     "name": "stdout",
     "output_type": "stream",
     "text": [
      "182\n",
      "0.08921993921552289\n",
      "0.13533384076496136\n",
      "0.13310334200220994\n"
     ]
    },
    {
     "data": {
      "image/png": "[encoded data removed]",
      "text/plain": [
       "<Figure size 640x480 with 1 Axes>"
      ]
     },
     "metadata": {},
     "output_type": "display_data"
    },
    {
     "name": "stdout",
     "output_type": "stream",
     "text": [
      "(182, 8)\n"
     ]
    }
   ],
   "source": [
    "list_cells_t = df_t['cell'].unique()\n",
    "print(len(list_cells_t))\n",
    "\n",
    "list_slopes = []\n",
    "list_standard_errors = []\n",
    "list_intercepts = []\n",
    "list_p_values = []\n",
    "list_r_squared = []\n",
    "list_lower_conf_ints = []\n",
    "list_upper_conf_ints = []\n",
    "\n",
    "for cell in list_cells_t:\n",
    "    \n",
    "    df_cell_t = df_t[df_t['cell'] == cell]\n",
    "    \n",
    "    model_ols = smf.ols(formula='air_temp_degrees_celsius ~ year', data=df_cell_t)\n",
    "\n",
    "    res_ols = model_ols.fit()\n",
    "\n",
    "    # print(res_ols.summary())\n",
    "\n",
    "    list_slopes.append(res_ols.params[1])\n",
    "    \n",
    "    standard_error = res_ols.bse.iloc[1]\n",
    "    \n",
    "    list_standard_errors.append(standard_error)\n",
    "\n",
    "    list_intercepts.append(res_ols.params[0])\n",
    "    \n",
    "    list_p_values.append(res_ols.pvalues[1])\n",
    "\n",
    "    list_r_squared.append(res_ols.rsquared)\n",
    "        \n",
    "    conf_int = [res_ols.conf_int().iloc[1].iloc[0], res_ols.conf_int().iloc[1].iloc[1]]\n",
    "    \n",
    "    list_lower_conf_ints.append(conf_int[0])\n",
    "    \n",
    "    list_upper_conf_ints.append(conf_int[1])\n",
    "    \n",
    "    if cell == 44:\n",
    "        \n",
    "        print(res_ols.params[1])\n",
    "\n",
    "        print(res_ols.rsquared)\n",
    "\n",
    "        print(res_ols.pvalues[1])\n",
    "\n",
    "        ax = df_cell_t.plot.scatter(x='year', y='air_temp_degrees_celsius')\n",
    "\n",
    "        abline_plot(model_results=res_ols, ax=ax, color='black')\n",
    "\n",
    "        plt.rc('font', size=24)\n",
    "        plt.rc('axes', titlesize=24)\n",
    "        plt.rc('axes', labelsize=24)\n",
    "        plt.rc('xtick', labelsize=24)\n",
    "        plt.rc('ytick', labelsize=24)\n",
    "\n",
    "        plt.xlabel('Year')\n",
    "\n",
    "        plt.ylabel('Air temperature (°C)')\n",
    "\n",
    "        plt.savefig('20220621_temperature_change.pdf', bbox_inches='tight')\n",
    "\n",
    "        plt.show()\n",
    "    \n",
    "df_results_t = pd.DataFrame(data={'cell': list_cells_t, 'slope_temp_change_all_years': list_slopes, \n",
    "                                  'standard_error_temp_change_all_years': list_standard_errors, \n",
    "                                  'intercept_temp_change_all_years': list_intercepts, \n",
    "                                  'p_value_temp_change_all_years': list_p_values, \n",
    "                                  'r_squared_temp_change_all_years': list_r_squared, \n",
    "                                  'lower_conf_int_temp_change_all_years': list_lower_conf_ints, \n",
    "                                  'upper_conf_int_temp_change_all_years': list_upper_conf_ints})\n",
    "print(df_results_t.shape)"
   ]
  },
  {
   "cell_type": "code",
   "execution_count": 18,
   "metadata": {},
   "outputs": [
    {
     "data": {
      "text/html": [
       "<div>\n",
       "<style scoped>\n",
       "    .dataframe tbody tr th:only-of-type {\n",
       "        vertical-align: middle;\n",
       "    }\n",
       "\n",
       "    .dataframe tbody tr th {\n",
       "        vertical-align: top;\n",
       "    }\n",
       "\n",
       "    .dataframe thead th {\n",
       "        text-align: right;\n",
       "    }\n",
       "</style>\n",
       "<table border=\"1\" class=\"dataframe\">\n",
       "  <thead>\n",
       "    <tr style=\"text-align: right;\">\n",
       "      <th></th>\n",
       "      <th>cell</th>\n",
       "      <th>slope_temp_change_all_years</th>\n",
       "      <th>standard_error_temp_change_all_years</th>\n",
       "      <th>intercept_temp_change_all_years</th>\n",
       "      <th>p_value_temp_change_all_years</th>\n",
       "      <th>r_squared_temp_change_all_years</th>\n",
       "      <th>lower_conf_int_temp_change_all_years</th>\n",
       "      <th>upper_conf_int_temp_change_all_years</th>\n",
       "    </tr>\n",
       "  </thead>\n",
       "  <tbody>\n",
       "    <tr>\n",
       "      <th>0</th>\n",
       "      <td>0</td>\n",
       "      <td>0.047530</td>\n",
       "      <td>0.039869</td>\n",
       "      <td>-74.496379</td>\n",
       "      <td>0.250578</td>\n",
       "      <td>0.081582</td>\n",
       "      <td>-0.036988</td>\n",
       "      <td>0.132049</td>\n",
       "    </tr>\n",
       "    <tr>\n",
       "      <th>1</th>\n",
       "      <td>1</td>\n",
       "      <td>0.050006</td>\n",
       "      <td>0.037956</td>\n",
       "      <td>-79.129506</td>\n",
       "      <td>0.206236</td>\n",
       "      <td>0.097866</td>\n",
       "      <td>-0.030457</td>\n",
       "      <td>0.130469</td>\n",
       "    </tr>\n",
       "  </tbody>\n",
       "</table>\n",
       "</div>"
      ],
      "text/plain": [
       "   cell  slope_temp_change_all_years  standard_error_temp_change_all_years  \\\n",
       "0     0                     0.047530                              0.039869   \n",
       "1     1                     0.050006                              0.037956   \n",
       "\n",
       "   intercept_temp_change_all_years  p_value_temp_change_all_years  \\\n",
       "0                       -74.496379                       0.250578   \n",
       "1                       -79.129506                       0.206236   \n",
       "\n",
       "   r_squared_temp_change_all_years  lower_conf_int_temp_change_all_years  \\\n",
       "0                         0.081582                             -0.036988   \n",
       "1                         0.097866                             -0.030457   \n",
       "\n",
       "   upper_conf_int_temp_change_all_years  \n",
       "0                              0.132049  \n",
       "1                              0.130469  "
      ]
     },
     "execution_count": 18,
     "metadata": {},
     "output_type": "execute_result"
    }
   ],
   "source": [
    "df_results_t.head(2)"
   ]
  },
  {
   "cell_type": "code",
   "execution_count": 19,
   "metadata": {},
   "outputs": [
    {
     "name": "stdout",
     "output_type": "stream",
     "text": [
      "/Users/alvastrand/Library/Mobile Documents/com~apple~CloudDocs/Documents/OU/Research/data/output\n"
     ]
    }
   ],
   "source": [
    "# Prepare data\n",
    "\n",
    "print(os.getcwd())"
   ]
  },
  {
   "cell_type": "code",
   "execution_count": 20,
   "metadata": {},
   "outputs": [],
   "source": [
    "# df_results_t.to_csv('betas_temperature_year_ols.csv', index=False)"
   ]
  },
  {
   "cell_type": "markdown",
   "metadata": {},
   "source": [
    "Temperature variance?"
   ]
  },
  {
   "cell_type": "code",
   "execution_count": 21,
   "metadata": {},
   "outputs": [
    {
     "name": "stdout",
     "output_type": "stream",
     "text": [
      "(15012, 20)\n"
     ]
    },
    {
     "data": {
      "text/html": [
       "<div>\n",
       "<style scoped>\n",
       "    .dataframe tbody tr th:only-of-type {\n",
       "        vertical-align: middle;\n",
       "    }\n",
       "\n",
       "    .dataframe tbody tr th {\n",
       "        vertical-align: top;\n",
       "    }\n",
       "\n",
       "    .dataframe thead th {\n",
       "        text-align: right;\n",
       "    }\n",
       "</style>\n",
       "<table border=\"1\" class=\"dataframe\">\n",
       "  <thead>\n",
       "    <tr style=\"text-align: right;\">\n",
       "      <th></th>\n",
       "      <th>species</th>\n",
       "      <th>cell</th>\n",
       "      <th>lat</th>\n",
       "      <th>lon</th>\n",
       "      <th>year</th>\n",
       "      <th>arr_GAM_mean</th>\n",
       "      <th>arr_GAM_sd</th>\n",
       "      <th>VALID_GAM</th>\n",
       "      <th>arr_IAR_mean</th>\n",
       "      <th>arr_IAR_sd</th>\n",
       "      <th>sigma_beta0_mean</th>\n",
       "      <th>sigma_beta0_sd</th>\n",
       "      <th>beta_gamma_mean</th>\n",
       "      <th>beta_gamma_sd</th>\n",
       "      <th>plmax</th>\n",
       "      <th>num_diverge</th>\n",
       "      <th>max_Rhat</th>\n",
       "      <th>min_neff</th>\n",
       "      <th>air_temp_kelvin</th>\n",
       "      <th>air_temp_degrees_celsius</th>\n",
       "    </tr>\n",
       "  </thead>\n",
       "  <tbody>\n",
       "    <tr>\n",
       "      <th>0</th>\n",
       "      <td>Antrostomus_carolinensis</td>\n",
       "      <td>4</td>\n",
       "      <td>24</td>\n",
       "      <td>-84</td>\n",
       "      <td>2010</td>\n",
       "      <td>NaN</td>\n",
       "      <td>NaN</td>\n",
       "      <td>False</td>\n",
       "      <td>75.560371</td>\n",
       "      <td>9.075519</td>\n",
       "      <td>2.981226</td>\n",
       "      <td>1.211438</td>\n",
       "      <td>3.501294</td>\n",
       "      <td>0.263926</td>\n",
       "      <td>NaN</td>\n",
       "      <td>0</td>\n",
       "      <td>1.01</td>\n",
       "      <td>716</td>\n",
       "      <td>292.121459</td>\n",
       "      <td>18.971459</td>\n",
       "    </tr>\n",
       "    <tr>\n",
       "      <th>1</th>\n",
       "      <td>Antrostomus_vociferus</td>\n",
       "      <td>4</td>\n",
       "      <td>24</td>\n",
       "      <td>-84</td>\n",
       "      <td>2010</td>\n",
       "      <td>NaN</td>\n",
       "      <td>NaN</td>\n",
       "      <td>False</td>\n",
       "      <td>58.827179</td>\n",
       "      <td>7.212024</td>\n",
       "      <td>0.998877</td>\n",
       "      <td>0.743532</td>\n",
       "      <td>3.464462</td>\n",
       "      <td>0.242849</td>\n",
       "      <td>NaN</td>\n",
       "      <td>0</td>\n",
       "      <td>1.00</td>\n",
       "      <td>886</td>\n",
       "      <td>292.121459</td>\n",
       "      <td>18.971459</td>\n",
       "    </tr>\n",
       "  </tbody>\n",
       "</table>\n",
       "</div>"
      ],
      "text/plain": [
       "                    species  cell  lat  lon  year  arr_GAM_mean  arr_GAM_sd  \\\n",
       "0  Antrostomus_carolinensis     4   24  -84  2010           NaN         NaN   \n",
       "1     Antrostomus_vociferus     4   24  -84  2010           NaN         NaN   \n",
       "\n",
       "   VALID_GAM  arr_IAR_mean  arr_IAR_sd  sigma_beta0_mean  sigma_beta0_sd  \\\n",
       "0      False     75.560371    9.075519          2.981226        1.211438   \n",
       "1      False     58.827179    7.212024          0.998877        0.743532   \n",
       "\n",
       "   beta_gamma_mean  beta_gamma_sd  plmax  num_diverge  max_Rhat  min_neff  \\\n",
       "0         3.501294       0.263926    NaN            0      1.01       716   \n",
       "1         3.464462       0.242849    NaN            0      1.00       886   \n",
       "\n",
       "   air_temp_kelvin  air_temp_degrees_celsius  \n",
       "0       292.121459                 18.971459  \n",
       "1       292.121459                 18.971459  "
      ]
     },
     "execution_count": 21,
     "metadata": {},
     "output_type": "execute_result"
    }
   ],
   "source": [
    "df_merged = df.merge(df_t, on=['cell', 'year', 'lat', 'lon'])\n",
    "print(df_merged.shape)\n",
    "\n",
    "df_merged.head(2)"
   ]
  },
  {
   "cell_type": "code",
   "execution_count": 22,
   "metadata": {},
   "outputs": [
    {
     "name": "stdout",
     "output_type": "stream",
     "text": [
      "(6016, 20)\n"
     ]
    },
    {
     "data": {
      "text/html": [
       "<div>\n",
       "<style scoped>\n",
       "    .dataframe tbody tr th:only-of-type {\n",
       "        vertical-align: middle;\n",
       "    }\n",
       "\n",
       "    .dataframe tbody tr th {\n",
       "        vertical-align: top;\n",
       "    }\n",
       "\n",
       "    .dataframe thead th {\n",
       "        text-align: right;\n",
       "    }\n",
       "</style>\n",
       "<table border=\"1\" class=\"dataframe\">\n",
       "  <thead>\n",
       "    <tr style=\"text-align: right;\">\n",
       "      <th></th>\n",
       "      <th>species</th>\n",
       "      <th>cell</th>\n",
       "      <th>lat</th>\n",
       "      <th>lon</th>\n",
       "      <th>year</th>\n",
       "      <th>arr_GAM_mean</th>\n",
       "      <th>arr_GAM_sd</th>\n",
       "      <th>VALID_GAM</th>\n",
       "      <th>arr_IAR_mean</th>\n",
       "      <th>arr_IAR_sd</th>\n",
       "      <th>sigma_beta0_mean</th>\n",
       "      <th>sigma_beta0_sd</th>\n",
       "      <th>beta_gamma_mean</th>\n",
       "      <th>beta_gamma_sd</th>\n",
       "      <th>plmax</th>\n",
       "      <th>num_diverge</th>\n",
       "      <th>max_Rhat</th>\n",
       "      <th>min_neff</th>\n",
       "      <th>air_temp_kelvin</th>\n",
       "      <th>air_temp_degrees_celsius</th>\n",
       "    </tr>\n",
       "  </thead>\n",
       "  <tbody>\n",
       "    <tr>\n",
       "      <th>104</th>\n",
       "      <td>Hirundo_rustica</td>\n",
       "      <td>5</td>\n",
       "      <td>24</td>\n",
       "      <td>-82</td>\n",
       "      <td>2010</td>\n",
       "      <td>88.097333</td>\n",
       "      <td>8.149519</td>\n",
       "      <td>True</td>\n",
       "      <td>83.163503</td>\n",
       "      <td>3.758457</td>\n",
       "      <td>2.85316</td>\n",
       "      <td>0.633302</td>\n",
       "      <td>2.053789</td>\n",
       "      <td>0.098024</td>\n",
       "      <td>0.997</td>\n",
       "      <td>0</td>\n",
       "      <td>1.0</td>\n",
       "      <td>945</td>\n",
       "      <td>290.741547</td>\n",
       "      <td>17.591547</td>\n",
       "    </tr>\n",
       "    <tr>\n",
       "      <th>114</th>\n",
       "      <td>Hirundo_rustica</td>\n",
       "      <td>5</td>\n",
       "      <td>24</td>\n",
       "      <td>-82</td>\n",
       "      <td>2011</td>\n",
       "      <td>77.195000</td>\n",
       "      <td>15.197718</td>\n",
       "      <td>False</td>\n",
       "      <td>80.224858</td>\n",
       "      <td>4.138189</td>\n",
       "      <td>2.85316</td>\n",
       "      <td>0.633302</td>\n",
       "      <td>2.053789</td>\n",
       "      <td>0.098024</td>\n",
       "      <td>0.999</td>\n",
       "      <td>0</td>\n",
       "      <td>1.0</td>\n",
       "      <td>945</td>\n",
       "      <td>293.115626</td>\n",
       "      <td>19.965626</td>\n",
       "    </tr>\n",
       "  </tbody>\n",
       "</table>\n",
       "</div>"
      ],
      "text/plain": [
       "             species  cell  lat  lon  year  arr_GAM_mean  arr_GAM_sd  \\\n",
       "104  Hirundo_rustica     5   24  -82  2010     88.097333    8.149519   \n",
       "114  Hirundo_rustica     5   24  -82  2011     77.195000   15.197718   \n",
       "\n",
       "     VALID_GAM  arr_IAR_mean  arr_IAR_sd  sigma_beta0_mean  sigma_beta0_sd  \\\n",
       "104       True     83.163503    3.758457           2.85316        0.633302   \n",
       "114      False     80.224858    4.138189           2.85316        0.633302   \n",
       "\n",
       "     beta_gamma_mean  beta_gamma_sd  plmax  num_diverge  max_Rhat  min_neff  \\\n",
       "104         2.053789       0.098024  0.997            0       1.0       945   \n",
       "114         2.053789       0.098024  0.999            0       1.0       945   \n",
       "\n",
       "     air_temp_kelvin  air_temp_degrees_celsius  \n",
       "104       290.741547                 17.591547  \n",
       "114       293.115626                 19.965626  "
      ]
     },
     "execution_count": 22,
     "metadata": {},
     "output_type": "execute_result"
    }
   ],
   "source": [
    "df_merged = df_merged.dropna(subset=['arr_GAM_mean'])\n",
    "print(df_merged.shape)\n",
    "\n",
    "df_merged.head(2)"
   ]
  },
  {
   "cell_type": "code",
   "execution_count": 23,
   "metadata": {},
   "outputs": [
    {
     "name": "stdout",
     "output_type": "stream",
     "text": [
      "(4724, 20)\n"
     ]
    },
    {
     "data": {
      "text/html": [
       "<div>\n",
       "<style scoped>\n",
       "    .dataframe tbody tr th:only-of-type {\n",
       "        vertical-align: middle;\n",
       "    }\n",
       "\n",
       "    .dataframe tbody tr th {\n",
       "        vertical-align: top;\n",
       "    }\n",
       "\n",
       "    .dataframe thead th {\n",
       "        text-align: right;\n",
       "    }\n",
       "</style>\n",
       "<table border=\"1\" class=\"dataframe\">\n",
       "  <thead>\n",
       "    <tr style=\"text-align: right;\">\n",
       "      <th></th>\n",
       "      <th>species</th>\n",
       "      <th>cell</th>\n",
       "      <th>lat</th>\n",
       "      <th>lon</th>\n",
       "      <th>year</th>\n",
       "      <th>arr_GAM_mean</th>\n",
       "      <th>arr_GAM_sd</th>\n",
       "      <th>VALID_GAM</th>\n",
       "      <th>arr_IAR_mean</th>\n",
       "      <th>arr_IAR_sd</th>\n",
       "      <th>sigma_beta0_mean</th>\n",
       "      <th>sigma_beta0_sd</th>\n",
       "      <th>beta_gamma_mean</th>\n",
       "      <th>beta_gamma_sd</th>\n",
       "      <th>plmax</th>\n",
       "      <th>num_diverge</th>\n",
       "      <th>max_Rhat</th>\n",
       "      <th>min_neff</th>\n",
       "      <th>air_temp_kelvin</th>\n",
       "      <th>air_temp_degrees_celsius</th>\n",
       "    </tr>\n",
       "  </thead>\n",
       "  <tbody>\n",
       "    <tr>\n",
       "      <th>0</th>\n",
       "      <td>Hirundo_rustica</td>\n",
       "      <td>5</td>\n",
       "      <td>24</td>\n",
       "      <td>-82</td>\n",
       "      <td>2010</td>\n",
       "      <td>88.097333</td>\n",
       "      <td>8.149519</td>\n",
       "      <td>True</td>\n",
       "      <td>83.163503</td>\n",
       "      <td>3.758457</td>\n",
       "      <td>2.85316</td>\n",
       "      <td>0.633302</td>\n",
       "      <td>2.053789</td>\n",
       "      <td>0.098024</td>\n",
       "      <td>0.997</td>\n",
       "      <td>0</td>\n",
       "      <td>1.0</td>\n",
       "      <td>945</td>\n",
       "      <td>290.741547</td>\n",
       "      <td>17.591547</td>\n",
       "    </tr>\n",
       "    <tr>\n",
       "      <th>1</th>\n",
       "      <td>Hirundo_rustica</td>\n",
       "      <td>5</td>\n",
       "      <td>24</td>\n",
       "      <td>-82</td>\n",
       "      <td>2012</td>\n",
       "      <td>84.357667</td>\n",
       "      <td>13.455486</td>\n",
       "      <td>True</td>\n",
       "      <td>82.674423</td>\n",
       "      <td>3.737352</td>\n",
       "      <td>2.85316</td>\n",
       "      <td>0.633302</td>\n",
       "      <td>2.053789</td>\n",
       "      <td>0.098024</td>\n",
       "      <td>1.000</td>\n",
       "      <td>0</td>\n",
       "      <td>1.0</td>\n",
       "      <td>945</td>\n",
       "      <td>293.728819</td>\n",
       "      <td>20.578819</td>\n",
       "    </tr>\n",
       "  </tbody>\n",
       "</table>\n",
       "</div>"
      ],
      "text/plain": [
       "           species  cell  lat  lon  year  arr_GAM_mean  arr_GAM_sd  VALID_GAM  \\\n",
       "0  Hirundo_rustica     5   24  -82  2010     88.097333    8.149519       True   \n",
       "1  Hirundo_rustica     5   24  -82  2012     84.357667   13.455486       True   \n",
       "\n",
       "   arr_IAR_mean  arr_IAR_sd  sigma_beta0_mean  sigma_beta0_sd  \\\n",
       "0     83.163503    3.758457           2.85316        0.633302   \n",
       "1     82.674423    3.737352           2.85316        0.633302   \n",
       "\n",
       "   beta_gamma_mean  beta_gamma_sd  plmax  num_diverge  max_Rhat  min_neff  \\\n",
       "0         2.053789       0.098024  0.997            0       1.0       945   \n",
       "1         2.053789       0.098024  1.000            0       1.0       945   \n",
       "\n",
       "   air_temp_kelvin  air_temp_degrees_celsius  \n",
       "0       290.741547                 17.591547  \n",
       "1       293.728819                 20.578819  "
      ]
     },
     "execution_count": 23,
     "metadata": {},
     "output_type": "execute_result"
    }
   ],
   "source": [
    "df_merged = df_merged[df_merged['VALID_GAM'] == True]\n",
    "\n",
    "df_merged = df_merged.reset_index(drop=True)\n",
    "\n",
    "print(df_merged.shape)\n",
    "\n",
    "df_merged.head(2)"
   ]
  },
  {
   "cell_type": "code",
   "execution_count": 24,
   "metadata": {},
   "outputs": [],
   "source": [
    "# df_merged[(df_merged['species'] == 'Hirundo_rustica') & (df_merged['cell'] == 44)]"
   ]
  },
  {
   "cell_type": "code",
   "execution_count": 25,
   "metadata": {},
   "outputs": [
    {
     "data": {
      "text/plain": [
       "12"
      ]
     },
     "execution_count": 25,
     "metadata": {},
     "output_type": "execute_result"
    }
   ],
   "source": [
    "len(df_merged[(df_merged['species'] == 'Hirundo_rustica') & (df_merged['cell'] == 44)])"
   ]
  },
  {
   "cell_type": "code",
   "execution_count": 26,
   "metadata": {
    "scrolled": true
   },
   "outputs": [
    {
     "name": "stdout",
     "output_type": "stream",
     "text": [
      "10\n"
     ]
    }
   ],
   "source": [
    "list_sci_names = sorted(df_merged['species'].unique())\n",
    "print(len(list_sci_names))"
   ]
  },
  {
   "cell_type": "markdown",
   "metadata": {},
   "source": [
    "Temperature ~ Year\n",
    "\n",
    "Years with day data for species-cells"
   ]
  },
  {
   "cell_type": "code",
   "execution_count": 27,
   "metadata": {},
   "outputs": [],
   "source": [
    "def get_change_in_temp(species, df_species, list_cells):\n",
    "\n",
    "    list_slopes = []\n",
    "    list_intercepts = []\n",
    "    list_r_squared = []\n",
    "    list_p_values = []\n",
    "\n",
    "    for cell in list_cells:\n",
    "\n",
    "        df_cell_t = df_species[df_species['cell'] == cell]\n",
    "\n",
    "        model_ols = smf.ols(formula='air_temp_degrees_celsius ~ year', data=df_cell_t)\n",
    "\n",
    "        res_ols = model_ols.fit()\n",
    "\n",
    "        # print(res_ols.summary())\n",
    "\n",
    "        list_slopes.append(res_ols.params[1])\n",
    "\n",
    "        list_intercepts.append(res_ols.params[0])\n",
    "\n",
    "        list_r_squared.append(res_ols.rsquared)\n",
    "\n",
    "        list_p_values.append(res_ols.pvalues[1])\n",
    "        \n",
    "        if cell == 44 and species == 'Hirundo_rustica':\n",
    "        \n",
    "            print(res_ols.rsquared)\n",
    "\n",
    "            print(res_ols.pvalues[1])\n",
    "\n",
    "            ax = df_cell_t.plot.scatter(x='year', y='air_temp_degrees_celsius')\n",
    "\n",
    "            abline_plot(model_results=res_ols, ax=ax, color='black')\n",
    "\n",
    "            plt.rc('font', size=24)\n",
    "            plt.rc('axes', titlesize=24)\n",
    "            plt.rc('axes', labelsize=24)\n",
    "            plt.rc('xtick', labelsize=24)\n",
    "            plt.rc('ytick', labelsize=24)\n",
    "\n",
    "            plt.xlabel('Year')\n",
    "\n",
    "            plt.ylabel('Air temperature (°C)')\n",
    "\n",
    "            plt.savefig('20220621_temperature_change.pdf', bbox_inches='tight')\n",
    "\n",
    "            plt.show()\n",
    "\n",
    "    df_results_t = pd.DataFrame(data={'cell': list_cells, 'slope_temp_change': list_slopes, 'intercept_temp_change': list_intercepts, \n",
    "                                    'r_squared_temp_change': list_r_squared, 'p_value_temp_change': list_p_values})\n",
    "    \n",
    "    return df_results_t"
   ]
  },
  {
   "cell_type": "code",
   "execution_count": null,
   "metadata": {},
   "outputs": [],
   "source": []
  },
  {
   "cell_type": "code",
   "execution_count": 28,
   "metadata": {},
   "outputs": [
    {
     "name": "stdout",
     "output_type": "stream",
     "text": [
      "(10, 2)\n"
     ]
    },
    {
     "data": {
      "text/html": [
       "<div>\n",
       "<style scoped>\n",
       "    .dataframe tbody tr th:only-of-type {\n",
       "        vertical-align: middle;\n",
       "    }\n",
       "\n",
       "    .dataframe tbody tr th {\n",
       "        vertical-align: top;\n",
       "    }\n",
       "\n",
       "    .dataframe thead th {\n",
       "        text-align: right;\n",
       "    }\n",
       "</style>\n",
       "<table border=\"1\" class=\"dataframe\">\n",
       "  <thead>\n",
       "    <tr style=\"text-align: right;\">\n",
       "      <th></th>\n",
       "      <th>species</th>\n",
       "      <th>beta_gamma_mean</th>\n",
       "    </tr>\n",
       "  </thead>\n",
       "  <tbody>\n",
       "    <tr>\n",
       "      <th>0</th>\n",
       "      <td>Hirundo_rustica</td>\n",
       "      <td>2.053789</td>\n",
       "    </tr>\n",
       "    <tr>\n",
       "      <th>1</th>\n",
       "      <td>Chordeiles_minor</td>\n",
       "      <td>1.363545</td>\n",
       "    </tr>\n",
       "  </tbody>\n",
       "</table>\n",
       "</div>"
      ],
      "text/plain": [
       "            species  beta_gamma_mean\n",
       "0   Hirundo_rustica         2.053789\n",
       "1  Chordeiles_minor         1.363545"
      ]
     },
     "execution_count": 28,
     "metadata": {},
     "output_type": "execute_result"
    }
   ],
   "source": [
    "df_speeds = df_merged[['species', 'beta_gamma_mean']].drop_duplicates()\n",
    "\n",
    "df_speeds = df_speeds.reset_index(drop=True)\n",
    "print(df_speeds.shape)\n",
    "\n",
    "df_speeds.head(2)"
   ]
  },
  {
   "cell_type": "code",
   "execution_count": 29,
   "metadata": {},
   "outputs": [
    {
     "name": "stdout",
     "output_type": "stream",
     "text": [
      "(10, 2)\n"
     ]
    },
    {
     "data": {
      "text/html": [
       "<div>\n",
       "<style scoped>\n",
       "    .dataframe tbody tr th:only-of-type {\n",
       "        vertical-align: middle;\n",
       "    }\n",
       "\n",
       "    .dataframe tbody tr th {\n",
       "        vertical-align: top;\n",
       "    }\n",
       "\n",
       "    .dataframe thead th {\n",
       "        text-align: right;\n",
       "    }\n",
       "</style>\n",
       "<table border=\"1\" class=\"dataframe\">\n",
       "  <thead>\n",
       "    <tr style=\"text-align: right;\">\n",
       "      <th></th>\n",
       "      <th>species</th>\n",
       "      <th>mean_arrival_day</th>\n",
       "    </tr>\n",
       "  </thead>\n",
       "  <tbody>\n",
       "    <tr>\n",
       "      <th>0</th>\n",
       "      <td>Antrostomus_carolinensis</td>\n",
       "      <td>108.002908</td>\n",
       "    </tr>\n",
       "    <tr>\n",
       "      <th>1</th>\n",
       "      <td>Antrostomus_vociferus</td>\n",
       "      <td>114.550493</td>\n",
       "    </tr>\n",
       "  </tbody>\n",
       "</table>\n",
       "</div>"
      ],
      "text/plain": [
       "                    species  mean_arrival_day\n",
       "0  Antrostomus_carolinensis        108.002908\n",
       "1     Antrostomus_vociferus        114.550493"
      ]
     },
     "execution_count": 29,
     "metadata": {},
     "output_type": "execute_result"
    }
   ],
   "source": [
    "df_means = df_merged[['species', 'arr_IAR_mean']].groupby(['species']).mean()\n",
    "\n",
    "df_means = df_means.reset_index()\n",
    "\n",
    "df_means = df_means.rename(columns={'arr_IAR_mean': 'mean_arrival_day'})\n",
    "\n",
    "print(df_means.shape)\n",
    "\n",
    "df_means.head(2)"
   ]
  },
  {
   "cell_type": "code",
   "execution_count": 30,
   "metadata": {},
   "outputs": [
    {
     "name": "stdout",
     "output_type": "stream",
     "text": [
      "(10, 3)\n"
     ]
    },
    {
     "data": {
      "text/html": [
       "<div>\n",
       "<style scoped>\n",
       "    .dataframe tbody tr th:only-of-type {\n",
       "        vertical-align: middle;\n",
       "    }\n",
       "\n",
       "    .dataframe tbody tr th {\n",
       "        vertical-align: top;\n",
       "    }\n",
       "\n",
       "    .dataframe thead th {\n",
       "        text-align: right;\n",
       "    }\n",
       "</style>\n",
       "<table border=\"1\" class=\"dataframe\">\n",
       "  <thead>\n",
       "    <tr style=\"text-align: right;\">\n",
       "      <th></th>\n",
       "      <th>scientific_name</th>\n",
       "      <th>beta_gamma_mean</th>\n",
       "      <th>mean_arrival_day</th>\n",
       "    </tr>\n",
       "  </thead>\n",
       "  <tbody>\n",
       "    <tr>\n",
       "      <th>0</th>\n",
       "      <td>Hirundo rustica</td>\n",
       "      <td>2.053789</td>\n",
       "      <td>105.614979</td>\n",
       "    </tr>\n",
       "    <tr>\n",
       "      <th>1</th>\n",
       "      <td>Chordeiles minor</td>\n",
       "      <td>1.363545</td>\n",
       "      <td>125.892520</td>\n",
       "    </tr>\n",
       "  </tbody>\n",
       "</table>\n",
       "</div>"
      ],
      "text/plain": [
       "    scientific_name  beta_gamma_mean  mean_arrival_day\n",
       "0   Hirundo rustica         2.053789        105.614979\n",
       "1  Chordeiles minor         1.363545        125.892520"
      ]
     },
     "execution_count": 30,
     "metadata": {},
     "output_type": "execute_result"
    }
   ],
   "source": [
    "df_speeds_means = df_speeds.merge(df_means, on='species')\n",
    "\n",
    "df_speeds_means = df_speeds_means.rename(columns={'species': 'scientific_name'})\n",
    "\n",
    "df_speeds_means['scientific_name'] = df_speeds_means['scientific_name'].str.replace('_', ' ')\n",
    "\n",
    "print(df_speeds_means.shape)\n",
    "\n",
    "df_speeds_means.head(2)"
   ]
  },
  {
   "cell_type": "code",
   "execution_count": 31,
   "metadata": {},
   "outputs": [
    {
     "name": "stdout",
     "output_type": "stream",
     "text": [
      "/Users/alvastrand/Library/Mobile Documents/com~apple~CloudDocs/Documents/OU/Research/data/output\n"
     ]
    }
   ],
   "source": [
    "# Linear mixed modeling\n",
    "\n",
    "# Prepare data\n",
    "\n",
    "print(os.getcwd())"
   ]
  },
  {
   "cell_type": "code",
   "execution_count": 32,
   "metadata": {},
   "outputs": [],
   "source": [
    "# df_speeds_means.to_csv('aerial_insectivores_speeds_mean_arrival_days.csv', index=False)"
   ]
  },
  {
   "cell_type": "code",
   "execution_count": null,
   "metadata": {},
   "outputs": [],
   "source": []
  },
  {
   "cell_type": "code",
   "execution_count": 33,
   "metadata": {},
   "outputs": [
    {
     "data": {
      "text/plain": [
       "'/Users/alvastrand/Library/Mobile Documents/com~apple~CloudDocs/Documents/OU/Research/data/output'"
      ]
     },
     "execution_count": 33,
     "metadata": {},
     "output_type": "execute_result"
    }
   ],
   "source": [
    "os.getcwd()"
   ]
  },
  {
   "cell_type": "code",
   "execution_count": 34,
   "metadata": {},
   "outputs": [],
   "source": [
    "path = '/Users/alvastrand/Downloads/states_21basic/'\n",
    "\n",
    "os.chdir(path)"
   ]
  },
  {
   "cell_type": "code",
   "execution_count": 35,
   "metadata": {},
   "outputs": [
    {
     "data": {
      "text/plain": [
       "'/Users/alvastrand/Downloads/states_21basic'"
      ]
     },
     "execution_count": 35,
     "metadata": {},
     "output_type": "execute_result"
    }
   ],
   "source": [
    "os.getcwd()"
   ]
  },
  {
   "cell_type": "code",
   "execution_count": 36,
   "metadata": {},
   "outputs": [
    {
     "name": "stdout",
     "output_type": "stream",
     "text": [
      "(51, 6)\n"
     ]
    },
    {
     "data": {
      "text/html": [
       "<div>\n",
       "<style scoped>\n",
       "    .dataframe tbody tr th:only-of-type {\n",
       "        vertical-align: middle;\n",
       "    }\n",
       "\n",
       "    .dataframe tbody tr th {\n",
       "        vertical-align: top;\n",
       "    }\n",
       "\n",
       "    .dataframe thead th {\n",
       "        text-align: right;\n",
       "    }\n",
       "</style>\n",
       "<table border=\"1\" class=\"dataframe\">\n",
       "  <thead>\n",
       "    <tr style=\"text-align: right;\">\n",
       "      <th></th>\n",
       "      <th>STATE_NAME</th>\n",
       "      <th>DRAWSEQ</th>\n",
       "      <th>STATE_FIPS</th>\n",
       "      <th>SUB_REGION</th>\n",
       "      <th>STATE_ABBR</th>\n",
       "      <th>geometry</th>\n",
       "    </tr>\n",
       "  </thead>\n",
       "  <tbody>\n",
       "    <tr>\n",
       "      <th>0</th>\n",
       "      <td>Hawaii</td>\n",
       "      <td>1</td>\n",
       "      <td>15</td>\n",
       "      <td>Pacific</td>\n",
       "      <td>HI</td>\n",
       "      <td>MULTIPOLYGON (((-160.07380 22.00418, -160.0497...</td>\n",
       "    </tr>\n",
       "    <tr>\n",
       "      <th>1</th>\n",
       "      <td>Washington</td>\n",
       "      <td>2</td>\n",
       "      <td>53</td>\n",
       "      <td>Pacific</td>\n",
       "      <td>WA</td>\n",
       "      <td>MULTIPOLYGON (((-122.40202 48.22522, -122.4628...</td>\n",
       "    </tr>\n",
       "  </tbody>\n",
       "</table>\n",
       "</div>"
      ],
      "text/plain": [
       "   STATE_NAME  DRAWSEQ STATE_FIPS SUB_REGION STATE_ABBR  \\\n",
       "0      Hawaii        1         15    Pacific         HI   \n",
       "1  Washington        2         53    Pacific         WA   \n",
       "\n",
       "                                            geometry  \n",
       "0  MULTIPOLYGON (((-160.07380 22.00418, -160.0497...  \n",
       "1  MULTIPOLYGON (((-122.40202 48.22522, -122.4628...  "
      ]
     },
     "execution_count": 36,
     "metadata": {},
     "output_type": "execute_result"
    }
   ],
   "source": [
    "df_usa = geopandas.read_file('states.shp')\n",
    "print(df_usa.shape)\n",
    "\n",
    "df_usa.head(2)"
   ]
  },
  {
   "cell_type": "code",
   "execution_count": 37,
   "metadata": {},
   "outputs": [
    {
     "name": "stdout",
     "output_type": "stream",
     "text": [
      "(26, 6)\n"
     ]
    },
    {
     "data": {
      "text/html": [
       "<div>\n",
       "<style scoped>\n",
       "    .dataframe tbody tr th:only-of-type {\n",
       "        vertical-align: middle;\n",
       "    }\n",
       "\n",
       "    .dataframe tbody tr th {\n",
       "        vertical-align: top;\n",
       "    }\n",
       "\n",
       "    .dataframe thead th {\n",
       "        text-align: right;\n",
       "    }\n",
       "</style>\n",
       "<table border=\"1\" class=\"dataframe\">\n",
       "  <thead>\n",
       "    <tr style=\"text-align: right;\">\n",
       "      <th></th>\n",
       "      <th>STATE_NAME</th>\n",
       "      <th>DRAWSEQ</th>\n",
       "      <th>STATE_FIPS</th>\n",
       "      <th>SUB_REGION</th>\n",
       "      <th>STATE_ABBR</th>\n",
       "      <th>geometry</th>\n",
       "    </tr>\n",
       "  </thead>\n",
       "  <tbody>\n",
       "    <tr>\n",
       "      <th>0</th>\n",
       "      <td>Maine</td>\n",
       "      <td>4</td>\n",
       "      <td>23</td>\n",
       "      <td>New England</td>\n",
       "      <td>ME</td>\n",
       "      <td>MULTIPOLYGON (((-69.77728 44.07415, -69.85993 ...</td>\n",
       "    </tr>\n",
       "    <tr>\n",
       "      <th>1</th>\n",
       "      <td>Wisconsin</td>\n",
       "      <td>8</td>\n",
       "      <td>55</td>\n",
       "      <td>East North Central</td>\n",
       "      <td>WI</td>\n",
       "      <td>MULTIPOLYGON (((-87.74856 44.96162, -87.83999 ...</td>\n",
       "    </tr>\n",
       "  </tbody>\n",
       "</table>\n",
       "</div>"
      ],
      "text/plain": [
       "  STATE_NAME  DRAWSEQ STATE_FIPS          SUB_REGION STATE_ABBR  \\\n",
       "0      Maine        4         23         New England         ME   \n",
       "1  Wisconsin        8         55  East North Central         WI   \n",
       "\n",
       "                                            geometry  \n",
       "0  MULTIPOLYGON (((-69.77728 44.07415, -69.85993 ...  \n",
       "1  MULTIPOLYGON (((-87.74856 44.96162, -87.83999 ...  "
      ]
     },
     "execution_count": 37,
     "metadata": {},
     "output_type": "execute_result"
    }
   ],
   "source": [
    "df_usa_c = df_usa[(df_usa['STATE_NAME'] == 'Alabama') | (df_usa['STATE_NAME'] == 'Connecticut') | \n",
    "                  (df_usa['STATE_NAME'] == 'Delaware') | (df_usa['STATE_NAME'] == 'Florida') | \n",
    "                  (df_usa['STATE_NAME'] == 'Georgia') | (df_usa['STATE_NAME'] == 'Illinois') | \n",
    "                  (df_usa['STATE_NAME'] == 'Indiana') | (df_usa['STATE_NAME'] == 'Kentucky') | \n",
    "                  (df_usa['STATE_NAME'] == 'Maine') | (df_usa['STATE_NAME'] == 'Maryland') | \n",
    "                  (df_usa['STATE_NAME'] == 'Massachusetts') | (df_usa['STATE_NAME'] == 'Michigan') | \n",
    "                  (df_usa['STATE_NAME'] == 'Missouri') | (df_usa['STATE_NAME'] == 'New Hampshire') | \n",
    "                  (df_usa['STATE_NAME'] == 'New Jersey') | (df_usa['STATE_NAME'] == 'New York') | \n",
    "                  (df_usa['STATE_NAME'] == 'North Carolina') | (df_usa['STATE_NAME'] == 'Ohio') | \n",
    "                  (df_usa['STATE_NAME'] == 'Pennsylvania') | (df_usa['STATE_NAME'] == 'Rhode Island') | \n",
    "                  (df_usa['STATE_NAME'] == 'South Carolina') | (df_usa['STATE_NAME'] == 'Tennessee') | \n",
    "                  (df_usa['STATE_NAME'] == 'Vermont') | (df_usa['STATE_NAME'] == 'Virginia') | \n",
    "                  (df_usa['STATE_NAME'] == 'West Virginia') | (df_usa['STATE_NAME'] == 'Wisconsin')]\n",
    "\n",
    "df_usa_c = df_usa_c.reset_index(drop=True)\n",
    "\n",
    "print(df_usa_c.shape)\n",
    "\n",
    "df_usa_c.head(2)"
   ]
  },
  {
   "cell_type": "code",
   "execution_count": null,
   "metadata": {},
   "outputs": [],
   "source": []
  },
  {
   "cell_type": "code",
   "execution_count": 38,
   "metadata": {},
   "outputs": [],
   "source": [
    "number_of_years = 5\n",
    "\n",
    "# number_of_years = 3"
   ]
  },
  {
   "cell_type": "code",
   "execution_count": 39,
   "metadata": {},
   "outputs": [],
   "source": [
    "# predictor_variable = 'year'\n",
    "\n",
    "predictor_variable = 'air_temp_degrees_celsius'"
   ]
  },
  {
   "cell_type": "code",
   "execution_count": null,
   "metadata": {},
   "outputs": [],
   "source": []
  },
  {
   "cell_type": "code",
   "execution_count": 40,
   "metadata": {},
   "outputs": [
    {
     "name": "stdout",
     "output_type": "stream",
     "text": [
      "(4724, 19)\n"
     ]
    },
    {
     "data": {
      "text/html": [
       "<div>\n",
       "<style scoped>\n",
       "    .dataframe tbody tr th:only-of-type {\n",
       "        vertical-align: middle;\n",
       "    }\n",
       "\n",
       "    .dataframe tbody tr th {\n",
       "        vertical-align: top;\n",
       "    }\n",
       "\n",
       "    .dataframe thead th {\n",
       "        text-align: right;\n",
       "    }\n",
       "</style>\n",
       "<table border=\"1\" class=\"dataframe\">\n",
       "  <thead>\n",
       "    <tr style=\"text-align: right;\">\n",
       "      <th></th>\n",
       "      <th>species</th>\n",
       "      <th>cell</th>\n",
       "      <th>lat</th>\n",
       "      <th>lon</th>\n",
       "      <th>year</th>\n",
       "      <th>arr_GAM_mean</th>\n",
       "      <th>arr_GAM_sd</th>\n",
       "      <th>VALID_GAM</th>\n",
       "      <th>arr_IAR_mean</th>\n",
       "      <th>arr_IAR_sd</th>\n",
       "      <th>sigma_beta0_mean</th>\n",
       "      <th>sigma_beta0_sd</th>\n",
       "      <th>beta_gamma_mean</th>\n",
       "      <th>beta_gamma_sd</th>\n",
       "      <th>plmax</th>\n",
       "      <th>num_diverge</th>\n",
       "      <th>max_Rhat</th>\n",
       "      <th>min_neff</th>\n",
       "      <th>air_temp_degrees_celsius</th>\n",
       "    </tr>\n",
       "  </thead>\n",
       "  <tbody>\n",
       "    <tr>\n",
       "      <th>0</th>\n",
       "      <td>Hirundo_rustica</td>\n",
       "      <td>5</td>\n",
       "      <td>24</td>\n",
       "      <td>-82</td>\n",
       "      <td>2010</td>\n",
       "      <td>88.097333</td>\n",
       "      <td>8.149519</td>\n",
       "      <td>True</td>\n",
       "      <td>83.163503</td>\n",
       "      <td>3.758457</td>\n",
       "      <td>2.85316</td>\n",
       "      <td>0.633302</td>\n",
       "      <td>2.053789</td>\n",
       "      <td>0.098024</td>\n",
       "      <td>0.997</td>\n",
       "      <td>0</td>\n",
       "      <td>1.0</td>\n",
       "      <td>945</td>\n",
       "      <td>17.591547</td>\n",
       "    </tr>\n",
       "    <tr>\n",
       "      <th>1</th>\n",
       "      <td>Hirundo_rustica</td>\n",
       "      <td>5</td>\n",
       "      <td>24</td>\n",
       "      <td>-82</td>\n",
       "      <td>2012</td>\n",
       "      <td>84.357667</td>\n",
       "      <td>13.455486</td>\n",
       "      <td>True</td>\n",
       "      <td>82.674423</td>\n",
       "      <td>3.737352</td>\n",
       "      <td>2.85316</td>\n",
       "      <td>0.633302</td>\n",
       "      <td>2.053789</td>\n",
       "      <td>0.098024</td>\n",
       "      <td>1.000</td>\n",
       "      <td>0</td>\n",
       "      <td>1.0</td>\n",
       "      <td>945</td>\n",
       "      <td>20.578819</td>\n",
       "    </tr>\n",
       "  </tbody>\n",
       "</table>\n",
       "</div>"
      ],
      "text/plain": [
       "           species  cell  lat  lon  year  arr_GAM_mean  arr_GAM_sd  VALID_GAM  \\\n",
       "0  Hirundo_rustica     5   24  -82  2010     88.097333    8.149519       True   \n",
       "1  Hirundo_rustica     5   24  -82  2012     84.357667   13.455486       True   \n",
       "\n",
       "   arr_IAR_mean  arr_IAR_sd  sigma_beta0_mean  sigma_beta0_sd  \\\n",
       "0     83.163503    3.758457           2.85316        0.633302   \n",
       "1     82.674423    3.737352           2.85316        0.633302   \n",
       "\n",
       "   beta_gamma_mean  beta_gamma_sd  plmax  num_diverge  max_Rhat  min_neff  \\\n",
       "0         2.053789       0.098024  0.997            0       1.0       945   \n",
       "1         2.053789       0.098024  1.000            0       1.0       945   \n",
       "\n",
       "   air_temp_degrees_celsius  \n",
       "0                 17.591547  \n",
       "1                 20.578819  "
      ]
     },
     "execution_count": 40,
     "metadata": {},
     "output_type": "execute_result"
    }
   ],
   "source": [
    "# Linear mixed modeling\n",
    "\n",
    "# Prepare data\n",
    "\n",
    "df_merged = df_merged.drop(columns='air_temp_kelvin')\n",
    "print(df_merged.shape)\n",
    "\n",
    "df_merged.head(2)"
   ]
  },
  {
   "cell_type": "code",
   "execution_count": 41,
   "metadata": {},
   "outputs": [
    {
     "name": "stdout",
     "output_type": "stream",
     "text": [
      "/Users/alvastrand/Downloads/states_21basic\n"
     ]
    }
   ],
   "source": [
    "print(os.getcwd())"
   ]
  },
  {
   "cell_type": "code",
   "execution_count": 42,
   "metadata": {},
   "outputs": [],
   "source": [
    "# df_merged.to_csv('aerial_insectivores_mean_arrival_days_prepared_all_cells.csv', index=False)"
   ]
  },
  {
   "cell_type": "code",
   "execution_count": 43,
   "metadata": {},
   "outputs": [
    {
     "name": "stdout",
     "output_type": "stream",
     "text": [
      "(629, 3)\n"
     ]
    },
    {
     "data": {
      "text/html": [
       "<div>\n",
       "<style scoped>\n",
       "    .dataframe tbody tr th:only-of-type {\n",
       "        vertical-align: middle;\n",
       "    }\n",
       "\n",
       "    .dataframe tbody tr th {\n",
       "        vertical-align: top;\n",
       "    }\n",
       "\n",
       "    .dataframe thead th {\n",
       "        text-align: right;\n",
       "    }\n",
       "</style>\n",
       "<table border=\"1\" class=\"dataframe\">\n",
       "  <thead>\n",
       "    <tr style=\"text-align: right;\">\n",
       "      <th></th>\n",
       "      <th>species</th>\n",
       "      <th>cell</th>\n",
       "      <th>number_of_years</th>\n",
       "    </tr>\n",
       "  </thead>\n",
       "  <tbody>\n",
       "    <tr>\n",
       "      <th>0</th>\n",
       "      <td>Antrostomus_carolinensis</td>\n",
       "      <td>19</td>\n",
       "      <td>7</td>\n",
       "    </tr>\n",
       "    <tr>\n",
       "      <th>1</th>\n",
       "      <td>Antrostomus_carolinensis</td>\n",
       "      <td>33</td>\n",
       "      <td>3</td>\n",
       "    </tr>\n",
       "  </tbody>\n",
       "</table>\n",
       "</div>"
      ],
      "text/plain": [
       "                    species  cell  number_of_years\n",
       "0  Antrostomus_carolinensis    19                7\n",
       "1  Antrostomus_carolinensis    33                3"
      ]
     },
     "execution_count": 43,
     "metadata": {},
     "output_type": "execute_result"
    }
   ],
   "source": [
    "df_cnt = df_merged[['species', 'cell', 'year']].groupby(['species', 'cell']).count()\n",
    "\n",
    "df_cnt = df_cnt.reset_index()\n",
    "\n",
    "df_cnt = df_cnt.rename(columns={'year': 'number_of_years'})\n",
    "\n",
    "print(df_cnt.shape)\n",
    "\n",
    "df_cnt.head(2)"
   ]
  },
  {
   "cell_type": "code",
   "execution_count": 44,
   "metadata": {},
   "outputs": [
    {
     "name": "stdout",
     "output_type": "stream",
     "text": [
      "(450, 3)\n"
     ]
    },
    {
     "data": {
      "text/html": [
       "<div>\n",
       "<style scoped>\n",
       "    .dataframe tbody tr th:only-of-type {\n",
       "        vertical-align: middle;\n",
       "    }\n",
       "\n",
       "    .dataframe tbody tr th {\n",
       "        vertical-align: top;\n",
       "    }\n",
       "\n",
       "    .dataframe thead th {\n",
       "        text-align: right;\n",
       "    }\n",
       "</style>\n",
       "<table border=\"1\" class=\"dataframe\">\n",
       "  <thead>\n",
       "    <tr style=\"text-align: right;\">\n",
       "      <th></th>\n",
       "      <th>species</th>\n",
       "      <th>cell</th>\n",
       "      <th>number_of_years</th>\n",
       "    </tr>\n",
       "  </thead>\n",
       "  <tbody>\n",
       "    <tr>\n",
       "      <th>0</th>\n",
       "      <td>Antrostomus_carolinensis</td>\n",
       "      <td>19</td>\n",
       "      <td>7</td>\n",
       "    </tr>\n",
       "    <tr>\n",
       "      <th>4</th>\n",
       "      <td>Antrostomus_carolinensis</td>\n",
       "      <td>45</td>\n",
       "      <td>6</td>\n",
       "    </tr>\n",
       "  </tbody>\n",
       "</table>\n",
       "</div>"
      ],
      "text/plain": [
       "                    species  cell  number_of_years\n",
       "0  Antrostomus_carolinensis    19                7\n",
       "4  Antrostomus_carolinensis    45                6"
      ]
     },
     "execution_count": 44,
     "metadata": {},
     "output_type": "execute_result"
    }
   ],
   "source": [
    "df_cnt = df_cnt[df_cnt['number_of_years'] >= number_of_years]\n",
    "print(df_cnt.shape)\n",
    "\n",
    "df_cnt.head(2)"
   ]
  },
  {
   "cell_type": "code",
   "execution_count": 45,
   "metadata": {},
   "outputs": [
    {
     "name": "stdout",
     "output_type": "stream",
     "text": [
      "(4281, 19)\n"
     ]
    },
    {
     "data": {
      "text/html": [
       "<div>\n",
       "<style scoped>\n",
       "    .dataframe tbody tr th:only-of-type {\n",
       "        vertical-align: middle;\n",
       "    }\n",
       "\n",
       "    .dataframe tbody tr th {\n",
       "        vertical-align: top;\n",
       "    }\n",
       "\n",
       "    .dataframe thead th {\n",
       "        text-align: right;\n",
       "    }\n",
       "</style>\n",
       "<table border=\"1\" class=\"dataframe\">\n",
       "  <thead>\n",
       "    <tr style=\"text-align: right;\">\n",
       "      <th></th>\n",
       "      <th>species</th>\n",
       "      <th>cell</th>\n",
       "      <th>lat</th>\n",
       "      <th>lon</th>\n",
       "      <th>year</th>\n",
       "      <th>arr_GAM_mean</th>\n",
       "      <th>arr_GAM_sd</th>\n",
       "      <th>VALID_GAM</th>\n",
       "      <th>arr_IAR_mean</th>\n",
       "      <th>arr_IAR_sd</th>\n",
       "      <th>sigma_beta0_mean</th>\n",
       "      <th>sigma_beta0_sd</th>\n",
       "      <th>beta_gamma_mean</th>\n",
       "      <th>beta_gamma_sd</th>\n",
       "      <th>plmax</th>\n",
       "      <th>num_diverge</th>\n",
       "      <th>max_Rhat</th>\n",
       "      <th>min_neff</th>\n",
       "      <th>air_temp_degrees_celsius</th>\n",
       "    </tr>\n",
       "  </thead>\n",
       "  <tbody>\n",
       "    <tr>\n",
       "      <th>0</th>\n",
       "      <td>Hirundo_rustica</td>\n",
       "      <td>5</td>\n",
       "      <td>24</td>\n",
       "      <td>-82</td>\n",
       "      <td>2010</td>\n",
       "      <td>88.097333</td>\n",
       "      <td>8.149519</td>\n",
       "      <td>True</td>\n",
       "      <td>83.163503</td>\n",
       "      <td>3.758457</td>\n",
       "      <td>2.85316</td>\n",
       "      <td>0.633302</td>\n",
       "      <td>2.053789</td>\n",
       "      <td>0.098024</td>\n",
       "      <td>0.997</td>\n",
       "      <td>0</td>\n",
       "      <td>1.0</td>\n",
       "      <td>945</td>\n",
       "      <td>17.591547</td>\n",
       "    </tr>\n",
       "    <tr>\n",
       "      <th>1</th>\n",
       "      <td>Hirundo_rustica</td>\n",
       "      <td>5</td>\n",
       "      <td>24</td>\n",
       "      <td>-82</td>\n",
       "      <td>2012</td>\n",
       "      <td>84.357667</td>\n",
       "      <td>13.455486</td>\n",
       "      <td>True</td>\n",
       "      <td>82.674423</td>\n",
       "      <td>3.737352</td>\n",
       "      <td>2.85316</td>\n",
       "      <td>0.633302</td>\n",
       "      <td>2.053789</td>\n",
       "      <td>0.098024</td>\n",
       "      <td>1.000</td>\n",
       "      <td>0</td>\n",
       "      <td>1.0</td>\n",
       "      <td>945</td>\n",
       "      <td>20.578819</td>\n",
       "    </tr>\n",
       "  </tbody>\n",
       "</table>\n",
       "</div>"
      ],
      "text/plain": [
       "           species  cell  lat  lon  year  arr_GAM_mean  arr_GAM_sd  VALID_GAM  \\\n",
       "0  Hirundo_rustica     5   24  -82  2010     88.097333    8.149519       True   \n",
       "1  Hirundo_rustica     5   24  -82  2012     84.357667   13.455486       True   \n",
       "\n",
       "   arr_IAR_mean  arr_IAR_sd  sigma_beta0_mean  sigma_beta0_sd  \\\n",
       "0     83.163503    3.758457           2.85316        0.633302   \n",
       "1     82.674423    3.737352           2.85316        0.633302   \n",
       "\n",
       "   beta_gamma_mean  beta_gamma_sd  plmax  num_diverge  max_Rhat  min_neff  \\\n",
       "0         2.053789       0.098024  0.997            0       1.0       945   \n",
       "1         2.053789       0.098024  1.000            0       1.0       945   \n",
       "\n",
       "   air_temp_degrees_celsius  \n",
       "0                 17.591547  \n",
       "1                 20.578819  "
      ]
     },
     "execution_count": 45,
     "metadata": {},
     "output_type": "execute_result"
    }
   ],
   "source": [
    "df_merged = df_merged.merge(df_cnt[['species', 'cell']], on=['species', 'cell'])\n",
    "print(df_merged.shape)\n",
    "\n",
    "df_merged.head(2)"
   ]
  },
  {
   "cell_type": "code",
   "execution_count": 46,
   "metadata": {},
   "outputs": [
    {
     "name": "stdout",
     "output_type": "stream",
     "text": [
      "/Users/alvastrand/Downloads/states_21basic\n"
     ]
    }
   ],
   "source": [
    "print(os.getcwd())"
   ]
  },
  {
   "cell_type": "code",
   "execution_count": 47,
   "metadata": {},
   "outputs": [],
   "source": [
    "# df_merged.to_csv('aerial_insectivores_mean_arrival_days_prepared.csv', index=False)"
   ]
  },
  {
   "cell_type": "code",
   "execution_count": null,
   "metadata": {},
   "outputs": [],
   "source": []
  },
  {
   "cell_type": "code",
   "execution_count": 48,
   "metadata": {},
   "outputs": [
    {
     "name": "stdout",
     "output_type": "stream",
     "text": [
      "(450, 3)\n"
     ]
    },
    {
     "data": {
      "text/html": [
       "<div>\n",
       "<style scoped>\n",
       "    .dataframe tbody tr th:only-of-type {\n",
       "        vertical-align: middle;\n",
       "    }\n",
       "\n",
       "    .dataframe tbody tr th {\n",
       "        vertical-align: top;\n",
       "    }\n",
       "\n",
       "    .dataframe thead th {\n",
       "        text-align: right;\n",
       "    }\n",
       "</style>\n",
       "<table border=\"1\" class=\"dataframe\">\n",
       "  <thead>\n",
       "    <tr style=\"text-align: right;\">\n",
       "      <th></th>\n",
       "      <th>species</th>\n",
       "      <th>cell</th>\n",
       "      <th>earliest_year</th>\n",
       "    </tr>\n",
       "  </thead>\n",
       "  <tbody>\n",
       "    <tr>\n",
       "      <th>0</th>\n",
       "      <td>Antrostomus_carolinensis</td>\n",
       "      <td>19</td>\n",
       "      <td>2010</td>\n",
       "    </tr>\n",
       "    <tr>\n",
       "      <th>1</th>\n",
       "      <td>Antrostomus_carolinensis</td>\n",
       "      <td>45</td>\n",
       "      <td>2014</td>\n",
       "    </tr>\n",
       "  </tbody>\n",
       "</table>\n",
       "</div>"
      ],
      "text/plain": [
       "                    species  cell  earliest_year\n",
       "0  Antrostomus_carolinensis    19           2010\n",
       "1  Antrostomus_carolinensis    45           2014"
      ]
     },
     "execution_count": 48,
     "metadata": {},
     "output_type": "execute_result"
    }
   ],
   "source": [
    "df_cnt_earliest_year = df_merged[['species', 'cell', 'year']].groupby(['species', 'cell']).min()\n",
    "\n",
    "df_cnt_earliest_year = df_cnt_earliest_year.reset_index()\n",
    "\n",
    "df_cnt_earliest_year = df_cnt_earliest_year.rename(columns={'year': 'earliest_year'})\n",
    "\n",
    "print(df_cnt_earliest_year.shape)\n",
    "\n",
    "df_cnt_earliest_year.head(2)"
   ]
  },
  {
   "cell_type": "code",
   "execution_count": 49,
   "metadata": {},
   "outputs": [
    {
     "name": "stdout",
     "output_type": "stream",
     "text": [
      "(450, 3)\n"
     ]
    },
    {
     "data": {
      "text/html": [
       "<div>\n",
       "<style scoped>\n",
       "    .dataframe tbody tr th:only-of-type {\n",
       "        vertical-align: middle;\n",
       "    }\n",
       "\n",
       "    .dataframe tbody tr th {\n",
       "        vertical-align: top;\n",
       "    }\n",
       "\n",
       "    .dataframe thead th {\n",
       "        text-align: right;\n",
       "    }\n",
       "</style>\n",
       "<table border=\"1\" class=\"dataframe\">\n",
       "  <thead>\n",
       "    <tr style=\"text-align: right;\">\n",
       "      <th></th>\n",
       "      <th>species</th>\n",
       "      <th>cell</th>\n",
       "      <th>latest_year</th>\n",
       "    </tr>\n",
       "  </thead>\n",
       "  <tbody>\n",
       "    <tr>\n",
       "      <th>0</th>\n",
       "      <td>Antrostomus_carolinensis</td>\n",
       "      <td>19</td>\n",
       "      <td>2017</td>\n",
       "    </tr>\n",
       "    <tr>\n",
       "      <th>1</th>\n",
       "      <td>Antrostomus_carolinensis</td>\n",
       "      <td>45</td>\n",
       "      <td>2019</td>\n",
       "    </tr>\n",
       "  </tbody>\n",
       "</table>\n",
       "</div>"
      ],
      "text/plain": [
       "                    species  cell  latest_year\n",
       "0  Antrostomus_carolinensis    19         2017\n",
       "1  Antrostomus_carolinensis    45         2019"
      ]
     },
     "execution_count": 49,
     "metadata": {},
     "output_type": "execute_result"
    }
   ],
   "source": [
    "df_cnt_latest_year = df_merged[['species', 'cell', 'year']].groupby(['species', 'cell']).max()\n",
    "\n",
    "df_cnt_latest_year = df_cnt_latest_year.reset_index()\n",
    "\n",
    "df_cnt_latest_year = df_cnt_latest_year.rename(columns={'year': 'latest_year'})\n",
    "\n",
    "print(df_cnt_latest_year.shape)\n",
    "\n",
    "df_cnt_latest_year.head(2)"
   ]
  },
  {
   "cell_type": "code",
   "execution_count": 50,
   "metadata": {},
   "outputs": [
    {
     "name": "stdout",
     "output_type": "stream",
     "text": [
      "(450, 4)\n"
     ]
    },
    {
     "data": {
      "text/html": [
       "<div>\n",
       "<style scoped>\n",
       "    .dataframe tbody tr th:only-of-type {\n",
       "        vertical-align: middle;\n",
       "    }\n",
       "\n",
       "    .dataframe tbody tr th {\n",
       "        vertical-align: top;\n",
       "    }\n",
       "\n",
       "    .dataframe thead th {\n",
       "        text-align: right;\n",
       "    }\n",
       "</style>\n",
       "<table border=\"1\" class=\"dataframe\">\n",
       "  <thead>\n",
       "    <tr style=\"text-align: right;\">\n",
       "      <th></th>\n",
       "      <th>species</th>\n",
       "      <th>cell</th>\n",
       "      <th>earliest_year</th>\n",
       "      <th>latest_year</th>\n",
       "    </tr>\n",
       "  </thead>\n",
       "  <tbody>\n",
       "    <tr>\n",
       "      <th>0</th>\n",
       "      <td>Antrostomus_carolinensis</td>\n",
       "      <td>19</td>\n",
       "      <td>2010</td>\n",
       "      <td>2017</td>\n",
       "    </tr>\n",
       "    <tr>\n",
       "      <th>1</th>\n",
       "      <td>Antrostomus_carolinensis</td>\n",
       "      <td>45</td>\n",
       "      <td>2014</td>\n",
       "      <td>2019</td>\n",
       "    </tr>\n",
       "  </tbody>\n",
       "</table>\n",
       "</div>"
      ],
      "text/plain": [
       "                    species  cell  earliest_year  latest_year\n",
       "0  Antrostomus_carolinensis    19           2010         2017\n",
       "1  Antrostomus_carolinensis    45           2014         2019"
      ]
     },
     "execution_count": 50,
     "metadata": {},
     "output_type": "execute_result"
    }
   ],
   "source": [
    "df_cnt_years = df_cnt_earliest_year.merge(df_cnt_latest_year, on=['species', 'cell'])\n",
    "print(df_cnt_years.shape)\n",
    "\n",
    "df_cnt_years.head(2)"
   ]
  },
  {
   "cell_type": "code",
   "execution_count": 51,
   "metadata": {},
   "outputs": [],
   "source": [
    "list_mean_temperatures = []\n",
    "list_slopes = []\n",
    "list_standard_errors = []\n",
    "list_intercepts = []\n",
    "list_p_values = []\n",
    "list_r_squared = []\n",
    "list_lower_conf_ints = []\n",
    "list_upper_conf_ints = []\n",
    "\n",
    "for i in range(len(df_cnt_years)):\n",
    "    \n",
    "    cell = df_cnt_years['cell'].iloc[i]\n",
    "#     print(cell)\n",
    "    \n",
    "    earliest_year = df_cnt_years['earliest_year'].iloc[i]\n",
    "#     print(earliest_year)\n",
    "    \n",
    "    latest_year = df_cnt_years['latest_year'].iloc[i]\n",
    "#     print(latest_year)\n",
    "    \n",
    "    df_t_cell = df_t_out[df_t_out['cell'] == cell]\n",
    "#     print(df_t_cell.shape)\n",
    "    \n",
    "#     print(df_t_cell.head(2))\n",
    "    \n",
    "    df_t_cell_years = df_t_cell[(df_t_cell['year'] >= earliest_year) & (df_t_cell['year'] <= latest_year)]\n",
    "#     print(df_t_cell_years.shape)\n",
    "    \n",
    "#     print(df_t_cell_years.head(2))\n",
    "    \n",
    "    mean_temperature = df_t_cell_years['air_temp_degrees_celsius'].mean()\n",
    "#     print(mean_temperature)\n",
    "    \n",
    "    list_mean_temperatures.append(mean_temperature)\n",
    "\n",
    "    model_ols = smf.ols(formula='air_temp_degrees_celsius ~ year', data=df_t_cell_years)\n",
    "\n",
    "    res_ols = model_ols.fit()\n",
    "\n",
    "#     print(res_ols.summary())\n",
    "\n",
    "    list_slopes.append(res_ols.params[1])\n",
    "    \n",
    "    standard_error = res_ols.bse.iloc[1]\n",
    "    \n",
    "    list_standard_errors.append(standard_error)\n",
    "\n",
    "    list_intercepts.append(res_ols.params[0])\n",
    "    \n",
    "    list_p_values.append(res_ols.pvalues[1])\n",
    "\n",
    "    list_r_squared.append(res_ols.rsquared)\n",
    "        \n",
    "    conf_int = [res_ols.conf_int().iloc[1].iloc[0], res_ols.conf_int().iloc[1].iloc[1]]\n",
    "    \n",
    "    list_lower_conf_ints.append(conf_int[0])\n",
    "    \n",
    "    list_upper_conf_ints.append(conf_int[1])"
   ]
  },
  {
   "cell_type": "code",
   "execution_count": 52,
   "metadata": {
    "scrolled": true
   },
   "outputs": [
    {
     "name": "stdout",
     "output_type": "stream",
     "text": [
      "(450, 11)\n"
     ]
    },
    {
     "data": {
      "text/html": [
       "<div>\n",
       "<style scoped>\n",
       "    .dataframe tbody tr th:only-of-type {\n",
       "        vertical-align: middle;\n",
       "    }\n",
       "\n",
       "    .dataframe tbody tr th {\n",
       "        vertical-align: top;\n",
       "    }\n",
       "\n",
       "    .dataframe thead th {\n",
       "        text-align: right;\n",
       "    }\n",
       "</style>\n",
       "<table border=\"1\" class=\"dataframe\">\n",
       "  <thead>\n",
       "    <tr style=\"text-align: right;\">\n",
       "      <th></th>\n",
       "      <th>species</th>\n",
       "      <th>cell</th>\n",
       "      <th>earliest_year</th>\n",
       "      <th>latest_year</th>\n",
       "      <th>slope_temp_year_years</th>\n",
       "      <th>standard_error_temp_year_years</th>\n",
       "      <th>intercept_temp_year_years</th>\n",
       "      <th>p_value_temp_year_years</th>\n",
       "      <th>r_squared_temp_year_years</th>\n",
       "      <th>lower_conf_int_temp_year_years</th>\n",
       "      <th>upper_conf_int_temp_year_years</th>\n",
       "    </tr>\n",
       "  </thead>\n",
       "  <tbody>\n",
       "    <tr>\n",
       "      <th>0</th>\n",
       "      <td>Antrostomus_carolinensis</td>\n",
       "      <td>19</td>\n",
       "      <td>2010</td>\n",
       "      <td>2017</td>\n",
       "      <td>0.310525</td>\n",
       "      <td>0.185129</td>\n",
       "      <td>-610.402682</td>\n",
       "      <td>0.144486</td>\n",
       "      <td>0.319225</td>\n",
       "      <td>-0.142469</td>\n",
       "      <td>0.763518</td>\n",
       "    </tr>\n",
       "    <tr>\n",
       "      <th>1</th>\n",
       "      <td>Antrostomus_carolinensis</td>\n",
       "      <td>45</td>\n",
       "      <td>2014</td>\n",
       "      <td>2019</td>\n",
       "      <td>0.303084</td>\n",
       "      <td>0.143583</td>\n",
       "      <td>-600.626366</td>\n",
       "      <td>0.102391</td>\n",
       "      <td>0.526948</td>\n",
       "      <td>-0.095567</td>\n",
       "      <td>0.701736</td>\n",
       "    </tr>\n",
       "  </tbody>\n",
       "</table>\n",
       "</div>"
      ],
      "text/plain": [
       "                    species  cell  earliest_year  latest_year  \\\n",
       "0  Antrostomus_carolinensis    19           2010         2017   \n",
       "1  Antrostomus_carolinensis    45           2014         2019   \n",
       "\n",
       "   slope_temp_year_years  standard_error_temp_year_years  \\\n",
       "0               0.310525                        0.185129   \n",
       "1               0.303084                        0.143583   \n",
       "\n",
       "   intercept_temp_year_years  p_value_temp_year_years  \\\n",
       "0                -610.402682                 0.144486   \n",
       "1                -600.626366                 0.102391   \n",
       "\n",
       "   r_squared_temp_year_years  lower_conf_int_temp_year_years  \\\n",
       "0                   0.319225                       -0.142469   \n",
       "1                   0.526948                       -0.095567   \n",
       "\n",
       "   upper_conf_int_temp_year_years  \n",
       "0                        0.763518  \n",
       "1                        0.701736  "
      ]
     },
     "execution_count": 52,
     "metadata": {},
     "output_type": "execute_result"
    }
   ],
   "source": [
    "df_cnt_years['slope_temp_year_years'] = list_slopes\n",
    "\n",
    "df_cnt_years['standard_error_temp_year_years'] = list_standard_errors\n",
    "\n",
    "df_cnt_years['intercept_temp_year_years'] = list_intercepts\n",
    "\n",
    "df_cnt_years['p_value_temp_year_years'] = list_p_values\n",
    "\n",
    "df_cnt_years['r_squared_temp_year_years'] = list_r_squared\n",
    "\n",
    "df_cnt_years['lower_conf_int_temp_year_years'] = list_lower_conf_ints\n",
    "\n",
    "df_cnt_years['upper_conf_int_temp_year_years'] = list_upper_conf_ints\n",
    "\n",
    "print(df_cnt_years.shape)\n",
    "\n",
    "df_cnt_years.head(2)"
   ]
  },
  {
   "cell_type": "code",
   "execution_count": 53,
   "metadata": {},
   "outputs": [
    {
     "name": "stdout",
     "output_type": "stream",
     "text": [
      "/Users/alvastrand/Downloads/states_21basic\n"
     ]
    }
   ],
   "source": [
    "# Prepare data\n",
    "\n",
    "print(os.getcwd())"
   ]
  },
  {
   "cell_type": "code",
   "execution_count": 54,
   "metadata": {},
   "outputs": [],
   "source": [
    "# df_cnt_years.to_csv('aerial_insectivores_betas_temperature_year_years_ols.csv', index=False)"
   ]
  },
  {
   "cell_type": "code",
   "execution_count": 55,
   "metadata": {},
   "outputs": [
    {
     "name": "stdout",
     "output_type": "stream",
     "text": [
      "(450, 12)\n"
     ]
    },
    {
     "data": {
      "text/html": [
       "<div>\n",
       "<style scoped>\n",
       "    .dataframe tbody tr th:only-of-type {\n",
       "        vertical-align: middle;\n",
       "    }\n",
       "\n",
       "    .dataframe tbody tr th {\n",
       "        vertical-align: top;\n",
       "    }\n",
       "\n",
       "    .dataframe thead th {\n",
       "        text-align: right;\n",
       "    }\n",
       "</style>\n",
       "<table border=\"1\" class=\"dataframe\">\n",
       "  <thead>\n",
       "    <tr style=\"text-align: right;\">\n",
       "      <th></th>\n",
       "      <th>species</th>\n",
       "      <th>cell</th>\n",
       "      <th>earliest_year</th>\n",
       "      <th>latest_year</th>\n",
       "      <th>slope_temp_year_years</th>\n",
       "      <th>standard_error_temp_year_years</th>\n",
       "      <th>intercept_temp_year_years</th>\n",
       "      <th>p_value_temp_year_years</th>\n",
       "      <th>r_squared_temp_year_years</th>\n",
       "      <th>lower_conf_int_temp_year_years</th>\n",
       "      <th>upper_conf_int_temp_year_years</th>\n",
       "      <th>mean_air_temperature_degrees_celsius</th>\n",
       "    </tr>\n",
       "  </thead>\n",
       "  <tbody>\n",
       "    <tr>\n",
       "      <th>0</th>\n",
       "      <td>Antrostomus_carolinensis</td>\n",
       "      <td>19</td>\n",
       "      <td>2010</td>\n",
       "      <td>2017</td>\n",
       "      <td>0.310525</td>\n",
       "      <td>0.185129</td>\n",
       "      <td>-610.402682</td>\n",
       "      <td>0.144486</td>\n",
       "      <td>0.319225</td>\n",
       "      <td>-0.142469</td>\n",
       "      <td>0.763518</td>\n",
       "      <td>14.838697</td>\n",
       "    </tr>\n",
       "    <tr>\n",
       "      <th>1</th>\n",
       "      <td>Antrostomus_carolinensis</td>\n",
       "      <td>45</td>\n",
       "      <td>2014</td>\n",
       "      <td>2019</td>\n",
       "      <td>0.303084</td>\n",
       "      <td>0.143583</td>\n",
       "      <td>-600.626366</td>\n",
       "      <td>0.102391</td>\n",
       "      <td>0.526948</td>\n",
       "      <td>-0.095567</td>\n",
       "      <td>0.701736</td>\n",
       "      <td>10.543323</td>\n",
       "    </tr>\n",
       "  </tbody>\n",
       "</table>\n",
       "</div>"
      ],
      "text/plain": [
       "                    species  cell  earliest_year  latest_year  \\\n",
       "0  Antrostomus_carolinensis    19           2010         2017   \n",
       "1  Antrostomus_carolinensis    45           2014         2019   \n",
       "\n",
       "   slope_temp_year_years  standard_error_temp_year_years  \\\n",
       "0               0.310525                        0.185129   \n",
       "1               0.303084                        0.143583   \n",
       "\n",
       "   intercept_temp_year_years  p_value_temp_year_years  \\\n",
       "0                -610.402682                 0.144486   \n",
       "1                -600.626366                 0.102391   \n",
       "\n",
       "   r_squared_temp_year_years  lower_conf_int_temp_year_years  \\\n",
       "0                   0.319225                       -0.142469   \n",
       "1                   0.526948                       -0.095567   \n",
       "\n",
       "   upper_conf_int_temp_year_years  mean_air_temperature_degrees_celsius  \n",
       "0                        0.763518                             14.838697  \n",
       "1                        0.701736                             10.543323  "
      ]
     },
     "execution_count": 55,
     "metadata": {},
     "output_type": "execute_result"
    }
   ],
   "source": [
    "df_cnt_years['mean_air_temperature_degrees_celsius'] = list_mean_temperatures\n",
    "print(df_cnt_years.shape)\n",
    "\n",
    "df_cnt_years.head(2)"
   ]
  },
  {
   "cell_type": "code",
   "execution_count": 56,
   "metadata": {},
   "outputs": [],
   "source": [
    "list_mean_days = []\n",
    "\n",
    "for i in range(len(df_cnt_years)):\n",
    "    \n",
    "    species = df_cnt_years['species'].iloc[i]\n",
    "#     print(species)\n",
    "    \n",
    "    cell = df_cnt_years['cell'].iloc[i]\n",
    "#     print(cell)\n",
    "    \n",
    "    df_species_cell = df_merged[(df_merged['species'] == species) & (df_merged['cell'] == cell)]\n",
    "#     print(df_species_cell.shape)\n",
    "    \n",
    "#     print(df_species_cell.head(2))\n",
    "    \n",
    "    mean_day = df_species_cell['arr_IAR_mean'].mean()\n",
    "#     print(mean_day)\n",
    "    \n",
    "    list_mean_days.append(mean_day)\n",
    "#     print(list_mean_days)"
   ]
  },
  {
   "cell_type": "code",
   "execution_count": 57,
   "metadata": {},
   "outputs": [
    {
     "name": "stdout",
     "output_type": "stream",
     "text": [
      "(450, 13)\n"
     ]
    },
    {
     "data": {
      "text/html": [
       "<div>\n",
       "<style scoped>\n",
       "    .dataframe tbody tr th:only-of-type {\n",
       "        vertical-align: middle;\n",
       "    }\n",
       "\n",
       "    .dataframe tbody tr th {\n",
       "        vertical-align: top;\n",
       "    }\n",
       "\n",
       "    .dataframe thead th {\n",
       "        text-align: right;\n",
       "    }\n",
       "</style>\n",
       "<table border=\"1\" class=\"dataframe\">\n",
       "  <thead>\n",
       "    <tr style=\"text-align: right;\">\n",
       "      <th></th>\n",
       "      <th>species</th>\n",
       "      <th>cell</th>\n",
       "      <th>earliest_year</th>\n",
       "      <th>latest_year</th>\n",
       "      <th>slope_temp_year_years</th>\n",
       "      <th>standard_error_temp_year_years</th>\n",
       "      <th>intercept_temp_year_years</th>\n",
       "      <th>p_value_temp_year_years</th>\n",
       "      <th>r_squared_temp_year_years</th>\n",
       "      <th>lower_conf_int_temp_year_years</th>\n",
       "      <th>upper_conf_int_temp_year_years</th>\n",
       "      <th>mean_air_temperature_degrees_celsius</th>\n",
       "      <th>mean_day</th>\n",
       "    </tr>\n",
       "  </thead>\n",
       "  <tbody>\n",
       "    <tr>\n",
       "      <th>0</th>\n",
       "      <td>Antrostomus_carolinensis</td>\n",
       "      <td>19</td>\n",
       "      <td>2010</td>\n",
       "      <td>2017</td>\n",
       "      <td>0.310525</td>\n",
       "      <td>0.185129</td>\n",
       "      <td>-610.402682</td>\n",
       "      <td>0.144486</td>\n",
       "      <td>0.319225</td>\n",
       "      <td>-0.142469</td>\n",
       "      <td>0.763518</td>\n",
       "      <td>14.838697</td>\n",
       "      <td>75.839651</td>\n",
       "    </tr>\n",
       "    <tr>\n",
       "      <th>1</th>\n",
       "      <td>Antrostomus_carolinensis</td>\n",
       "      <td>45</td>\n",
       "      <td>2014</td>\n",
       "      <td>2019</td>\n",
       "      <td>0.303084</td>\n",
       "      <td>0.143583</td>\n",
       "      <td>-600.626366</td>\n",
       "      <td>0.102391</td>\n",
       "      <td>0.526948</td>\n",
       "      <td>-0.095567</td>\n",
       "      <td>0.701736</td>\n",
       "      <td>10.543323</td>\n",
       "      <td>94.921542</td>\n",
       "    </tr>\n",
       "  </tbody>\n",
       "</table>\n",
       "</div>"
      ],
      "text/plain": [
       "                    species  cell  earliest_year  latest_year  \\\n",
       "0  Antrostomus_carolinensis    19           2010         2017   \n",
       "1  Antrostomus_carolinensis    45           2014         2019   \n",
       "\n",
       "   slope_temp_year_years  standard_error_temp_year_years  \\\n",
       "0               0.310525                        0.185129   \n",
       "1               0.303084                        0.143583   \n",
       "\n",
       "   intercept_temp_year_years  p_value_temp_year_years  \\\n",
       "0                -610.402682                 0.144486   \n",
       "1                -600.626366                 0.102391   \n",
       "\n",
       "   r_squared_temp_year_years  lower_conf_int_temp_year_years  \\\n",
       "0                   0.319225                       -0.142469   \n",
       "1                   0.526948                       -0.095567   \n",
       "\n",
       "   upper_conf_int_temp_year_years  mean_air_temperature_degrees_celsius  \\\n",
       "0                        0.763518                             14.838697   \n",
       "1                        0.701736                             10.543323   \n",
       "\n",
       "    mean_day  \n",
       "0  75.839651  \n",
       "1  94.921542  "
      ]
     },
     "execution_count": 57,
     "metadata": {},
     "output_type": "execute_result"
    }
   ],
   "source": [
    "df_cnt_years['mean_day'] = list_mean_days\n",
    "print(df_cnt_years.shape)\n",
    "\n",
    "df_cnt_years.head(2)"
   ]
  },
  {
   "cell_type": "code",
   "execution_count": 58,
   "metadata": {},
   "outputs": [
    {
     "name": "stdout",
     "output_type": "stream",
     "text": [
      "(4281, 21)\n"
     ]
    },
    {
     "data": {
      "text/html": [
       "<div>\n",
       "<style scoped>\n",
       "    .dataframe tbody tr th:only-of-type {\n",
       "        vertical-align: middle;\n",
       "    }\n",
       "\n",
       "    .dataframe tbody tr th {\n",
       "        vertical-align: top;\n",
       "    }\n",
       "\n",
       "    .dataframe thead th {\n",
       "        text-align: right;\n",
       "    }\n",
       "</style>\n",
       "<table border=\"1\" class=\"dataframe\">\n",
       "  <thead>\n",
       "    <tr style=\"text-align: right;\">\n",
       "      <th></th>\n",
       "      <th>species</th>\n",
       "      <th>cell</th>\n",
       "      <th>lat</th>\n",
       "      <th>lon</th>\n",
       "      <th>year</th>\n",
       "      <th>arr_GAM_mean</th>\n",
       "      <th>arr_GAM_sd</th>\n",
       "      <th>VALID_GAM</th>\n",
       "      <th>arr_IAR_mean</th>\n",
       "      <th>arr_IAR_sd</th>\n",
       "      <th>sigma_beta0_mean</th>\n",
       "      <th>sigma_beta0_sd</th>\n",
       "      <th>beta_gamma_mean</th>\n",
       "      <th>beta_gamma_sd</th>\n",
       "      <th>plmax</th>\n",
       "      <th>num_diverge</th>\n",
       "      <th>max_Rhat</th>\n",
       "      <th>min_neff</th>\n",
       "      <th>air_temp_degrees_celsius</th>\n",
       "      <th>mean_air_temperature_degrees_celsius</th>\n",
       "      <th>mean_day</th>\n",
       "    </tr>\n",
       "  </thead>\n",
       "  <tbody>\n",
       "    <tr>\n",
       "      <th>0</th>\n",
       "      <td>Hirundo_rustica</td>\n",
       "      <td>5</td>\n",
       "      <td>24</td>\n",
       "      <td>-82</td>\n",
       "      <td>2010</td>\n",
       "      <td>88.097333</td>\n",
       "      <td>8.149519</td>\n",
       "      <td>True</td>\n",
       "      <td>83.163503</td>\n",
       "      <td>3.758457</td>\n",
       "      <td>2.85316</td>\n",
       "      <td>0.633302</td>\n",
       "      <td>2.053789</td>\n",
       "      <td>0.098024</td>\n",
       "      <td>0.997</td>\n",
       "      <td>0</td>\n",
       "      <td>1.0</td>\n",
       "      <td>945</td>\n",
       "      <td>17.591547</td>\n",
       "      <td>19.95252</td>\n",
       "      <td>81.042522</td>\n",
       "    </tr>\n",
       "    <tr>\n",
       "      <th>1</th>\n",
       "      <td>Hirundo_rustica</td>\n",
       "      <td>5</td>\n",
       "      <td>24</td>\n",
       "      <td>-82</td>\n",
       "      <td>2012</td>\n",
       "      <td>84.357667</td>\n",
       "      <td>13.455486</td>\n",
       "      <td>True</td>\n",
       "      <td>82.674423</td>\n",
       "      <td>3.737352</td>\n",
       "      <td>2.85316</td>\n",
       "      <td>0.633302</td>\n",
       "      <td>2.053789</td>\n",
       "      <td>0.098024</td>\n",
       "      <td>1.000</td>\n",
       "      <td>0</td>\n",
       "      <td>1.0</td>\n",
       "      <td>945</td>\n",
       "      <td>20.578819</td>\n",
       "      <td>19.95252</td>\n",
       "      <td>81.042522</td>\n",
       "    </tr>\n",
       "  </tbody>\n",
       "</table>\n",
       "</div>"
      ],
      "text/plain": [
       "           species  cell  lat  lon  year  arr_GAM_mean  arr_GAM_sd  VALID_GAM  \\\n",
       "0  Hirundo_rustica     5   24  -82  2010     88.097333    8.149519       True   \n",
       "1  Hirundo_rustica     5   24  -82  2012     84.357667   13.455486       True   \n",
       "\n",
       "   arr_IAR_mean  arr_IAR_sd  sigma_beta0_mean  sigma_beta0_sd  \\\n",
       "0     83.163503    3.758457           2.85316        0.633302   \n",
       "1     82.674423    3.737352           2.85316        0.633302   \n",
       "\n",
       "   beta_gamma_mean  beta_gamma_sd  plmax  num_diverge  max_Rhat  min_neff  \\\n",
       "0         2.053789       0.098024  0.997            0       1.0       945   \n",
       "1         2.053789       0.098024  1.000            0       1.0       945   \n",
       "\n",
       "   air_temp_degrees_celsius  mean_air_temperature_degrees_celsius   mean_day  \n",
       "0                 17.591547                              19.95252  81.042522  \n",
       "1                 20.578819                              19.95252  81.042522  "
      ]
     },
     "execution_count": 58,
     "metadata": {},
     "output_type": "execute_result"
    }
   ],
   "source": [
    "df_merged = df_merged.merge(df_cnt_years[['species', 'cell', 'mean_air_temperature_degrees_celsius', 'mean_day']], \n",
    "                            on=['species', 'cell'])\n",
    "print(df_merged.shape)\n",
    "\n",
    "df_merged.head(2)"
   ]
  },
  {
   "cell_type": "code",
   "execution_count": 59,
   "metadata": {},
   "outputs": [
    {
     "name": "stdout",
     "output_type": "stream",
     "text": [
      "(4281, 23)\n"
     ]
    },
    {
     "data": {
      "text/html": [
       "<div>\n",
       "<style scoped>\n",
       "    .dataframe tbody tr th:only-of-type {\n",
       "        vertical-align: middle;\n",
       "    }\n",
       "\n",
       "    .dataframe tbody tr th {\n",
       "        vertical-align: top;\n",
       "    }\n",
       "\n",
       "    .dataframe thead th {\n",
       "        text-align: right;\n",
       "    }\n",
       "</style>\n",
       "<table border=\"1\" class=\"dataframe\">\n",
       "  <thead>\n",
       "    <tr style=\"text-align: right;\">\n",
       "      <th></th>\n",
       "      <th>species</th>\n",
       "      <th>cell</th>\n",
       "      <th>lat</th>\n",
       "      <th>lon</th>\n",
       "      <th>year</th>\n",
       "      <th>arr_GAM_mean</th>\n",
       "      <th>arr_GAM_sd</th>\n",
       "      <th>VALID_GAM</th>\n",
       "      <th>arr_IAR_mean</th>\n",
       "      <th>arr_IAR_sd</th>\n",
       "      <th>sigma_beta0_mean</th>\n",
       "      <th>sigma_beta0_sd</th>\n",
       "      <th>beta_gamma_mean</th>\n",
       "      <th>beta_gamma_sd</th>\n",
       "      <th>plmax</th>\n",
       "      <th>num_diverge</th>\n",
       "      <th>max_Rhat</th>\n",
       "      <th>min_neff</th>\n",
       "      <th>air_temp_degrees_celsius</th>\n",
       "      <th>mean_air_temperature_degrees_celsius</th>\n",
       "      <th>mean_day</th>\n",
       "      <th>difference_air_temp_degrees_celsius</th>\n",
       "      <th>difference_days</th>\n",
       "    </tr>\n",
       "  </thead>\n",
       "  <tbody>\n",
       "    <tr>\n",
       "      <th>0</th>\n",
       "      <td>Hirundo_rustica</td>\n",
       "      <td>5</td>\n",
       "      <td>24</td>\n",
       "      <td>-82</td>\n",
       "      <td>2010</td>\n",
       "      <td>88.097333</td>\n",
       "      <td>8.149519</td>\n",
       "      <td>True</td>\n",
       "      <td>83.163503</td>\n",
       "      <td>3.758457</td>\n",
       "      <td>2.85316</td>\n",
       "      <td>0.633302</td>\n",
       "      <td>2.053789</td>\n",
       "      <td>0.098024</td>\n",
       "      <td>0.997</td>\n",
       "      <td>0</td>\n",
       "      <td>1.0</td>\n",
       "      <td>945</td>\n",
       "      <td>17.591547</td>\n",
       "      <td>19.95252</td>\n",
       "      <td>81.042522</td>\n",
       "      <td>-2.360973</td>\n",
       "      <td>2.120981</td>\n",
       "    </tr>\n",
       "    <tr>\n",
       "      <th>1</th>\n",
       "      <td>Hirundo_rustica</td>\n",
       "      <td>5</td>\n",
       "      <td>24</td>\n",
       "      <td>-82</td>\n",
       "      <td>2012</td>\n",
       "      <td>84.357667</td>\n",
       "      <td>13.455486</td>\n",
       "      <td>True</td>\n",
       "      <td>82.674423</td>\n",
       "      <td>3.737352</td>\n",
       "      <td>2.85316</td>\n",
       "      <td>0.633302</td>\n",
       "      <td>2.053789</td>\n",
       "      <td>0.098024</td>\n",
       "      <td>1.000</td>\n",
       "      <td>0</td>\n",
       "      <td>1.0</td>\n",
       "      <td>945</td>\n",
       "      <td>20.578819</td>\n",
       "      <td>19.95252</td>\n",
       "      <td>81.042522</td>\n",
       "      <td>0.626299</td>\n",
       "      <td>1.631901</td>\n",
       "    </tr>\n",
       "  </tbody>\n",
       "</table>\n",
       "</div>"
      ],
      "text/plain": [
       "           species  cell  lat  lon  year  arr_GAM_mean  arr_GAM_sd  VALID_GAM  \\\n",
       "0  Hirundo_rustica     5   24  -82  2010     88.097333    8.149519       True   \n",
       "1  Hirundo_rustica     5   24  -82  2012     84.357667   13.455486       True   \n",
       "\n",
       "   arr_IAR_mean  arr_IAR_sd  sigma_beta0_mean  sigma_beta0_sd  \\\n",
       "0     83.163503    3.758457           2.85316        0.633302   \n",
       "1     82.674423    3.737352           2.85316        0.633302   \n",
       "\n",
       "   beta_gamma_mean  beta_gamma_sd  plmax  num_diverge  max_Rhat  min_neff  \\\n",
       "0         2.053789       0.098024  0.997            0       1.0       945   \n",
       "1         2.053789       0.098024  1.000            0       1.0       945   \n",
       "\n",
       "   air_temp_degrees_celsius  mean_air_temperature_degrees_celsius   mean_day  \\\n",
       "0                 17.591547                              19.95252  81.042522   \n",
       "1                 20.578819                              19.95252  81.042522   \n",
       "\n",
       "   difference_air_temp_degrees_celsius  difference_days  \n",
       "0                            -2.360973         2.120981  \n",
       "1                             0.626299         1.631901  "
      ]
     },
     "execution_count": 59,
     "metadata": {},
     "output_type": "execute_result"
    }
   ],
   "source": [
    "df_merged['difference_air_temp_degrees_celsius'] = df_merged['air_temp_degrees_celsius'] - df_merged['mean_air_temperature_degrees_celsius']\n",
    "\n",
    "df_merged['difference_days'] = df_merged['arr_IAR_mean'] - df_merged['mean_day']\n",
    "\n",
    "print(df_merged.shape)\n",
    "\n",
    "df_merged.head(2)"
   ]
  },
  {
   "cell_type": "code",
   "execution_count": 60,
   "metadata": {},
   "outputs": [
    {
     "name": "stdout",
     "output_type": "stream",
     "text": [
      "/Users/alvastrand/Downloads/states_21basic\n"
     ]
    }
   ],
   "source": [
    "# Linear mixed modeling\n",
    "\n",
    "# Prepare data\n",
    "\n",
    "print(os.getcwd())"
   ]
  },
  {
   "cell_type": "code",
   "execution_count": 61,
   "metadata": {},
   "outputs": [],
   "source": [
    "# df_merged.to_csv('aerial_insectivores_mean_arrival_days_differences_for_modeling.csv', index=False)"
   ]
  },
  {
   "cell_type": "code",
   "execution_count": null,
   "metadata": {},
   "outputs": [],
   "source": []
  },
  {
   "cell_type": "code",
   "execution_count": 62,
   "metadata": {},
   "outputs": [],
   "source": [
    "def model_day_anomaly_temp_anomaly(species):\n",
    "\n",
    "    df_species = df_merged[df_merged['species'] == species]\n",
    "    print(df_species.shape)\n",
    "\n",
    "    # print(df_species.head(2))\n",
    "    \n",
    "    list_cells = list(df_species['cell'].unique())\n",
    "    print(len(list_cells))\n",
    "    \n",
    "    model_ols = smf.ols(formula='difference_days ~ difference_air_temp_degrees_celsius', data=df_species)\n",
    "\n",
    "    res_ols = model_ols.fit()\n",
    "\n",
    "    print(res_ols.summary())\n",
    "\n",
    "    slope_species = res_ols.params[1]\n",
    "    \n",
    "    standard_error_species = res_ols.bse.iloc[1]\n",
    "\n",
    "    intercept_species = res_ols.params[0]\n",
    "    \n",
    "    p_value_species = res_ols.pvalues[1]\n",
    "\n",
    "    r_squared_species = res_ols.rsquared\n",
    "    \n",
    "    conf_int_species = [res_ols.conf_int().iloc[1].iloc[0], res_ols.conf_int().iloc[1].iloc[1]]\n",
    "    \n",
    "    list_slopes = []\n",
    "    list_intercepts = []\n",
    "    list_r_squared = []\n",
    "    list_p_values = []\n",
    "\n",
    "    for cell in list_cells:\n",
    "        \n",
    "#         print(cell)\n",
    "\n",
    "        df_cell = df_species[df_species['cell'] == cell]\n",
    "#         print(df_cell.shape)\n",
    "\n",
    "        model_ols = smf.ols(formula='difference_days ~ difference_air_temp_degrees_celsius', data=df_cell)\n",
    "        \n",
    "        res_ols = model_ols.fit()\n",
    "\n",
    "#         print(res_ols.summary())\n",
    "\n",
    "        list_slopes.append(res_ols.params[1])\n",
    "\n",
    "        # Standard error?\n",
    "\n",
    "        list_intercepts.append(res_ols.params[0])\n",
    "        \n",
    "        list_p_values.append(res_ols.pvalues[1])\n",
    "\n",
    "        list_r_squared.append(res_ols.rsquared)\n",
    "        \n",
    "        # 95% confidence interval?\n",
    "        \n",
    "    df_results = pd.DataFrame(data={'cell': list_cells, 'slope': list_slopes, 'intercept': list_intercepts, \n",
    "                                    'p_value': list_p_values, 'r_squared': list_r_squared})\n",
    "#     print(df_results.shape)\n",
    "\n",
    "    # print(df_results.head(2))\n",
    "    \n",
    "    df_lat_lon = df_t[['cell', 'lat', 'lon']].drop_duplicates()\n",
    "    # print(df_lat_lon.shape)\n",
    "\n",
    "    # print(df_lat_lon.head(2))\n",
    "\n",
    "    df_results = df_results.merge(df_lat_lon, on='cell')\n",
    "\n",
    "    df_results['scientific_name'] = species\n",
    "\n",
    "    print(df_results.shape)\n",
    "\n",
    "    # print(df_results.head(2))\n",
    "    \n",
    "    return df_results, slope_species, standard_error_species, intercept_species, p_value_species, r_squared_species, \\\n",
    "conf_int_species"
   ]
  },
  {
   "cell_type": "code",
   "execution_count": 63,
   "metadata": {
    "scrolled": true
   },
   "outputs": [
    {
     "name": "stdout",
     "output_type": "stream",
     "text": [
      "Antrostomus_carolinensis\n",
      "(132, 23)\n",
      "21\n",
      "                            OLS Regression Results                            \n",
      "==============================================================================\n",
      "Dep. Variable:        difference_days   R-squared:                       0.002\n",
      "Model:                            OLS   Adj. R-squared:                 -0.006\n",
      "Method:                 Least Squares   F-statistic:                    0.1984\n",
      "Date:                Sun, 16 Jul 2023   Prob (F-statistic):              0.657\n",
      "Time:                        23:47:44   Log-Likelihood:                -329.65\n",
      "No. Observations:                 132   AIC:                             663.3\n",
      "Df Residuals:                     130   BIC:                             669.1\n",
      "Df Model:                           1                                         \n",
      "Covariance Type:            nonrobust                                         \n",
      "=======================================================================================================\n",
      "                                          coef    std err          t      P>|t|      [0.025      0.975]\n",
      "-------------------------------------------------------------------------------------------------------\n",
      "Intercept                              -0.0014      0.258     -0.005      0.996      -0.512       0.509\n",
      "difference_air_temp_degrees_celsius     0.0794      0.178      0.445      0.657      -0.273       0.432\n",
      "==============================================================================\n",
      "Omnibus:                       25.409   Durbin-Watson:                   2.289\n",
      "Prob(Omnibus):                  0.000   Jarque-Bera (JB):               73.799\n",
      "Skew:                          -0.667   Prob(JB):                     9.43e-17\n",
      "Kurtosis:                       6.411   Cond. No.                         1.45\n",
      "==============================================================================\n",
      "\n",
      "Notes:\n",
      "[1] Standard Errors assume that the covariance matrix of the errors is correctly specified.\n",
      "(21, 8)\n",
      "Antrostomus_vociferus\n",
      "(168, 23)\n",
      "24\n",
      "                            OLS Regression Results                            \n",
      "==============================================================================\n",
      "Dep. Variable:        difference_days   R-squared:                       0.008\n",
      "Model:                            OLS   Adj. R-squared:                  0.002\n",
      "Method:                 Least Squares   F-statistic:                     1.370\n",
      "Date:                Sun, 16 Jul 2023   Prob (F-statistic):              0.244\n",
      "Time:                        23:47:44   Log-Likelihood:                -338.38\n",
      "No. Observations:                 168   AIC:                             680.8\n",
      "Df Residuals:                     166   BIC:                             687.0\n",
      "Df Model:                           1                                         \n",
      "Covariance Type:            nonrobust                                         \n",
      "=======================================================================================================\n",
      "                                          coef    std err          t      P>|t|      [0.025      0.975]\n",
      "-------------------------------------------------------------------------------------------------------\n",
      "Intercept                               0.0022      0.141      0.015      0.988      -0.276       0.280\n",
      "difference_air_temp_degrees_celsius    -0.0841      0.072     -1.170      0.244      -0.226       0.058\n",
      "==============================================================================\n",
      "Omnibus:                       13.538   Durbin-Watson:                   2.300\n",
      "Prob(Omnibus):                  0.001   Jarque-Bera (JB):               38.795\n",
      "Skew:                           0.088   Prob(JB):                     3.76e-09\n",
      "Kurtosis:                       5.348   Cond. No.                         1.96\n",
      "==============================================================================\n",
      "\n",
      "Notes:\n",
      "[1] Standard Errors assume that the covariance matrix of the errors is correctly specified.\n",
      "(24, 8)\n",
      "Chaetura_pelagica\n",
      "(793, 23)\n",
      "70\n",
      "                            OLS Regression Results                            \n",
      "==============================================================================\n",
      "Dep. Variable:        difference_days   R-squared:                       0.001\n",
      "Model:                            OLS   Adj. R-squared:                 -0.001\n",
      "Method:                 Least Squares   F-statistic:                    0.4042\n",
      "Date:                Sun, 16 Jul 2023   Prob (F-statistic):              0.525\n",
      "Time:                        23:47:44   Log-Likelihood:                -1718.7\n",
      "No. Observations:                 793   AIC:                             3441.\n",
      "Df Residuals:                     791   BIC:                             3451.\n",
      "Df Model:                           1                                         \n",
      "Covariance Type:            nonrobust                                         \n",
      "=======================================================================================================\n",
      "                                          coef    std err          t      P>|t|      [0.025      0.975]\n",
      "-------------------------------------------------------------------------------------------------------\n",
      "Intercept                               0.0004      0.075      0.005      0.996      -0.147       0.148\n",
      "difference_air_temp_degrees_celsius     0.0274      0.043      0.636      0.525      -0.057       0.112\n",
      "==============================================================================\n",
      "Omnibus:                       10.187   Durbin-Watson:                   1.707\n",
      "Prob(Omnibus):                  0.006   Jarque-Bera (JB):               10.016\n",
      "Skew:                           0.247   Prob(JB):                      0.00668\n",
      "Kurtosis:                       2.755   Cond. No.                         1.74\n",
      "==============================================================================\n",
      "\n",
      "Notes:\n",
      "[1] Standard Errors assume that the covariance matrix of the errors is correctly specified.\n"
     ]
    },
    {
     "name": "stderr",
     "output_type": "stream",
     "text": [
      "/var/folders/94/vmb3wczd7g1fpr9_16m011tw0000gn/T/ipykernel_61939/1659253907.py:18: FutureWarning: The frame.append method is deprecated and will be removed from pandas in a future version. Use pandas.concat instead.\n",
      "  df_results_all_anomalies = df_results_all_anomalies.append(df_results_anomalies)\n",
      "/var/folders/94/vmb3wczd7g1fpr9_16m011tw0000gn/T/ipykernel_61939/1659253907.py:18: FutureWarning: The frame.append method is deprecated and will be removed from pandas in a future version. Use pandas.concat instead.\n",
      "  df_results_all_anomalies = df_results_all_anomalies.append(df_results_anomalies)\n"
     ]
    },
    {
     "name": "stdout",
     "output_type": "stream",
     "text": [
      "(70, 8)\n",
      "Chordeiles_minor\n",
      "(261, 23)\n",
      "36\n",
      "                            OLS Regression Results                            \n",
      "==============================================================================\n",
      "Dep. Variable:        difference_days   R-squared:                       0.083\n",
      "Model:                            OLS   Adj. R-squared:                  0.080\n",
      "Method:                 Least Squares   F-statistic:                     23.58\n",
      "Date:                Sun, 16 Jul 2023   Prob (F-statistic):           2.07e-06\n",
      "Time:                        23:47:44   Log-Likelihood:                -494.38\n",
      "No. Observations:                 261   AIC:                             992.8\n",
      "Df Residuals:                     259   BIC:                             999.9\n",
      "Df Model:                           1                                         \n",
      "Covariance Type:            nonrobust                                         \n",
      "=======================================================================================================\n",
      "                                          coef    std err          t      P>|t|      [0.025      0.975]\n",
      "-------------------------------------------------------------------------------------------------------\n",
      "Intercept                              -0.0029      0.100     -0.029      0.977      -0.200       0.194\n",
      "difference_air_temp_degrees_celsius     0.2462      0.051      4.856      0.000       0.146       0.346\n",
      "==============================================================================\n",
      "Omnibus:                        0.882   Durbin-Watson:                   2.138\n",
      "Prob(Omnibus):                  0.643   Jarque-Bera (JB):                0.600\n",
      "Skew:                           0.011   Prob(JB):                        0.741\n",
      "Kurtosis:                       3.234   Cond. No.                         1.97\n",
      "==============================================================================\n",
      "\n",
      "Notes:\n",
      "[1] Standard Errors assume that the covariance matrix of the errors is correctly specified.\n",
      "(36, 8)\n",
      "Hirundo_rustica\n",
      "(775, 23)\n",
      "73\n",
      "                            OLS Regression Results                            \n",
      "==============================================================================\n",
      "Dep. Variable:        difference_days   R-squared:                       0.006\n",
      "Model:                            OLS   Adj. R-squared:                  0.005\n",
      "Method:                 Least Squares   F-statistic:                     4.943\n",
      "Date:                Sun, 16 Jul 2023   Prob (F-statistic):             0.0265\n",
      "Time:                        23:47:45   Log-Likelihood:                -1887.7\n",
      "No. Observations:                 775   AIC:                             3779.\n",
      "Df Residuals:                     773   BIC:                             3789.\n",
      "Df Model:                           1                                         \n",
      "Covariance Type:            nonrobust                                         \n",
      "=======================================================================================================\n",
      "                                          coef    std err          t      P>|t|      [0.025      0.975]\n",
      "-------------------------------------------------------------------------------------------------------\n",
      "Intercept                              -0.0009      0.099     -0.009      0.993      -0.196       0.194\n",
      "difference_air_temp_degrees_celsius    -0.1211      0.054     -2.223      0.026      -0.228      -0.014\n",
      "==============================================================================\n",
      "Omnibus:                        6.893   Durbin-Watson:                   1.537\n",
      "Prob(Omnibus):                  0.032   Jarque-Bera (JB):                5.501\n",
      "Skew:                          -0.111   Prob(JB):                       0.0639\n",
      "Kurtosis:                       2.652   Cond. No.                         1.83\n",
      "==============================================================================\n",
      "\n",
      "Notes:\n",
      "[1] Standard Errors assume that the covariance matrix of the errors is correctly specified.\n"
     ]
    },
    {
     "name": "stderr",
     "output_type": "stream",
     "text": [
      "/var/folders/94/vmb3wczd7g1fpr9_16m011tw0000gn/T/ipykernel_61939/1659253907.py:18: FutureWarning: The frame.append method is deprecated and will be removed from pandas in a future version. Use pandas.concat instead.\n",
      "  df_results_all_anomalies = df_results_all_anomalies.append(df_results_anomalies)\n",
      "/var/folders/94/vmb3wczd7g1fpr9_16m011tw0000gn/T/ipykernel_61939/1659253907.py:18: FutureWarning: The frame.append method is deprecated and will be removed from pandas in a future version. Use pandas.concat instead.\n",
      "  df_results_all_anomalies = df_results_all_anomalies.append(df_results_anomalies)\n"
     ]
    },
    {
     "name": "stdout",
     "output_type": "stream",
     "text": [
      "(73, 8)\n",
      "Petrochelidon_pyrrhonota\n",
      "(326, 23)\n",
      "43\n",
      "                            OLS Regression Results                            \n",
      "==============================================================================\n",
      "Dep. Variable:        difference_days   R-squared:                       0.014\n",
      "Model:                            OLS   Adj. R-squared:                  0.011\n",
      "Method:                 Least Squares   F-statistic:                     4.544\n",
      "Date:                Sun, 16 Jul 2023   Prob (F-statistic):             0.0338\n",
      "Time:                        23:47:45   Log-Likelihood:                -733.43\n",
      "No. Observations:                 326   AIC:                             1471.\n",
      "Df Residuals:                     324   BIC:                             1478.\n",
      "Df Model:                           1                                         \n",
      "Covariance Type:            nonrobust                                         \n",
      "=======================================================================================================\n",
      "                                          coef    std err          t      P>|t|      [0.025      0.975]\n",
      "-------------------------------------------------------------------------------------------------------\n",
      "Intercept                              -0.0038      0.128     -0.030      0.976      -0.255       0.247\n",
      "difference_air_temp_degrees_celsius    -0.1367      0.064     -2.132      0.034      -0.263      -0.011\n",
      "==============================================================================\n",
      "Omnibus:                        2.224   Durbin-Watson:                   2.582\n",
      "Prob(Omnibus):                  0.329   Jarque-Bera (JB):                2.134\n",
      "Skew:                          -0.198   Prob(JB):                        0.344\n",
      "Kurtosis:                       2.999   Cond. No.                         1.99\n",
      "==============================================================================\n",
      "\n",
      "Notes:\n",
      "[1] Standard Errors assume that the covariance matrix of the errors is correctly specified.\n",
      "(43, 8)\n",
      "Progne_subis\n",
      "(261, 23)\n",
      "35\n",
      "                            OLS Regression Results                            \n",
      "==============================================================================\n",
      "Dep. Variable:        difference_days   R-squared:                       0.008\n",
      "Model:                            OLS   Adj. R-squared:                  0.004\n",
      "Method:                 Least Squares   F-statistic:                     1.962\n",
      "Date:                Sun, 16 Jul 2023   Prob (F-statistic):              0.162\n",
      "Time:                        23:47:45   Log-Likelihood:                -688.52\n",
      "No. Observations:                 261   AIC:                             1381.\n",
      "Df Residuals:                     259   BIC:                             1388.\n",
      "Df Model:                           1                                         \n",
      "Covariance Type:            nonrobust                                         \n",
      "=======================================================================================================\n",
      "                                          coef    std err          t      P>|t|      [0.025      0.975]\n",
      "-------------------------------------------------------------------------------------------------------\n",
      "Intercept                              -0.0010      0.210     -0.005      0.996      -0.415       0.413\n",
      "difference_air_temp_degrees_celsius     0.1482      0.106      1.401      0.162      -0.060       0.357\n",
      "==============================================================================\n",
      "Omnibus:                        2.913   Durbin-Watson:                   2.585\n",
      "Prob(Omnibus):                  0.233   Jarque-Bera (JB):                3.098\n",
      "Skew:                           0.062   Prob(JB):                        0.212\n",
      "Kurtosis:                       3.519   Cond. No.                         1.99\n",
      "==============================================================================\n",
      "\n",
      "Notes:\n",
      "[1] Standard Errors assume that the covariance matrix of the errors is correctly specified.\n"
     ]
    },
    {
     "name": "stderr",
     "output_type": "stream",
     "text": [
      "/var/folders/94/vmb3wczd7g1fpr9_16m011tw0000gn/T/ipykernel_61939/1659253907.py:18: FutureWarning: The frame.append method is deprecated and will be removed from pandas in a future version. Use pandas.concat instead.\n",
      "  df_results_all_anomalies = df_results_all_anomalies.append(df_results_anomalies)\n",
      "/var/folders/94/vmb3wczd7g1fpr9_16m011tw0000gn/T/ipykernel_61939/1659253907.py:18: FutureWarning: The frame.append method is deprecated and will be removed from pandas in a future version. Use pandas.concat instead.\n",
      "  df_results_all_anomalies = df_results_all_anomalies.append(df_results_anomalies)\n"
     ]
    },
    {
     "name": "stdout",
     "output_type": "stream",
     "text": [
      "(35, 8)\n",
      "Riparia_riparia\n",
      "(231, 23)\n",
      "29\n",
      "                            OLS Regression Results                            \n",
      "==============================================================================\n",
      "Dep. Variable:        difference_days   R-squared:                       0.001\n",
      "Model:                            OLS   Adj. R-squared:                 -0.004\n",
      "Method:                 Least Squares   F-statistic:                    0.1528\n",
      "Date:                Sun, 16 Jul 2023   Prob (F-statistic):              0.696\n",
      "Time:                        23:47:45   Log-Likelihood:                -514.41\n",
      "No. Observations:                 231   AIC:                             1033.\n",
      "Df Residuals:                     229   BIC:                             1040.\n",
      "Df Model:                           1                                         \n",
      "Covariance Type:            nonrobust                                         \n",
      "=======================================================================================================\n",
      "                                          coef    std err          t      P>|t|      [0.025      0.975]\n",
      "-------------------------------------------------------------------------------------------------------\n",
      "Intercept                              -0.0011      0.148     -0.007      0.994      -0.293       0.291\n",
      "difference_air_temp_degrees_celsius    -0.0271      0.069     -0.391      0.696      -0.164       0.109\n",
      "==============================================================================\n",
      "Omnibus:                        2.254   Durbin-Watson:                   2.566\n",
      "Prob(Omnibus):                  0.324   Jarque-Bera (JB):                2.182\n",
      "Skew:                           0.038   Prob(JB):                        0.336\n",
      "Kurtosis:                       3.470   Cond. No.                         2.14\n",
      "==============================================================================\n",
      "\n",
      "Notes:\n",
      "[1] Standard Errors assume that the covariance matrix of the errors is correctly specified.\n",
      "(29, 8)\n",
      "Stelgidopteryx_serripennis\n",
      "(688, 23)\n",
      "65\n",
      "                            OLS Regression Results                            \n",
      "==============================================================================\n",
      "Dep. Variable:        difference_days   R-squared:                       0.091\n",
      "Model:                            OLS   Adj. R-squared:                  0.090\n",
      "Method:                 Least Squares   F-statistic:                     68.70\n",
      "Date:                Sun, 16 Jul 2023   Prob (F-statistic):           6.05e-16\n",
      "Time:                        23:47:45   Log-Likelihood:                -1438.1\n",
      "No. Observations:                 688   AIC:                             2880.\n",
      "Df Residuals:                     686   BIC:                             2889.\n",
      "Df Model:                           1                                         \n",
      "Covariance Type:            nonrobust                                         \n",
      "=======================================================================================================\n",
      "                                          coef    std err          t      P>|t|      [0.025      0.975]\n",
      "-------------------------------------------------------------------------------------------------------\n",
      "Intercept                               0.0051      0.075      0.068      0.946      -0.142       0.152\n",
      "difference_air_temp_degrees_celsius    -0.3392      0.041     -8.288      0.000      -0.420      -0.259\n",
      "==============================================================================\n",
      "Omnibus:                       10.929   Durbin-Watson:                   1.655\n",
      "Prob(Omnibus):                  0.004   Jarque-Bera (JB):                8.744\n",
      "Skew:                          -0.188   Prob(JB):                       0.0126\n",
      "Kurtosis:                       2.596   Cond. No.                         1.83\n",
      "==============================================================================\n",
      "\n",
      "Notes:\n",
      "[1] Standard Errors assume that the covariance matrix of the errors is correctly specified.\n"
     ]
    },
    {
     "name": "stderr",
     "output_type": "stream",
     "text": [
      "/var/folders/94/vmb3wczd7g1fpr9_16m011tw0000gn/T/ipykernel_61939/1659253907.py:18: FutureWarning: The frame.append method is deprecated and will be removed from pandas in a future version. Use pandas.concat instead.\n",
      "  df_results_all_anomalies = df_results_all_anomalies.append(df_results_anomalies)\n",
      "/var/folders/94/vmb3wczd7g1fpr9_16m011tw0000gn/T/ipykernel_61939/1659253907.py:18: FutureWarning: The frame.append method is deprecated and will be removed from pandas in a future version. Use pandas.concat instead.\n",
      "  df_results_all_anomalies = df_results_all_anomalies.append(df_results_anomalies)\n"
     ]
    },
    {
     "name": "stdout",
     "output_type": "stream",
     "text": [
      "(65, 8)\n",
      "Tachycineta_bicolor\n",
      "(646, 23)\n",
      "54\n",
      "                            OLS Regression Results                            \n",
      "==============================================================================\n",
      "Dep. Variable:        difference_days   R-squared:                       0.268\n",
      "Model:                            OLS   Adj. R-squared:                  0.267\n",
      "Method:                 Least Squares   F-statistic:                     235.5\n",
      "Date:                Sun, 16 Jul 2023   Prob (F-statistic):           1.60e-45\n",
      "Time:                        23:47:46   Log-Likelihood:                -1610.2\n",
      "No. Observations:                 646   AIC:                             3224.\n",
      "Df Residuals:                     644   BIC:                             3233.\n",
      "Df Model:                           1                                         \n",
      "Covariance Type:            nonrobust                                         \n",
      "=======================================================================================================\n",
      "                                          coef    std err          t      P>|t|      [0.025      0.975]\n",
      "-------------------------------------------------------------------------------------------------------\n",
      "Intercept                               0.0134      0.115      0.116      0.907      -0.213       0.240\n",
      "difference_air_temp_degrees_celsius    -0.8934      0.058    -15.345      0.000      -1.008      -0.779\n",
      "==============================================================================\n",
      "Omnibus:                        8.411   Durbin-Watson:                   2.013\n",
      "Prob(Omnibus):                  0.015   Jarque-Bera (JB):               10.451\n",
      "Skew:                           0.152   Prob(JB):                      0.00538\n",
      "Kurtosis:                       3.544   Cond. No.                         1.98\n",
      "==============================================================================\n",
      "\n",
      "Notes:\n",
      "[1] Standard Errors assume that the covariance matrix of the errors is correctly specified.\n",
      "(54, 8)\n"
     ]
    },
    {
     "name": "stderr",
     "output_type": "stream",
     "text": [
      "/var/folders/94/vmb3wczd7g1fpr9_16m011tw0000gn/T/ipykernel_61939/1659253907.py:18: FutureWarning: The frame.append method is deprecated and will be removed from pandas in a future version. Use pandas.concat instead.\n",
      "  df_results_all_anomalies = df_results_all_anomalies.append(df_results_anomalies)\n",
      "/var/folders/94/vmb3wczd7g1fpr9_16m011tw0000gn/T/ipykernel_61939/1659253907.py:18: FutureWarning: The frame.append method is deprecated and will be removed from pandas in a future version. Use pandas.concat instead.\n",
      "  df_results_all_anomalies = df_results_all_anomalies.append(df_results_anomalies)\n"
     ]
    }
   ],
   "source": [
    "df_results_all_anomalies = pd.DataFrame()\n",
    "\n",
    "list_slopes_anomalies_species = []\n",
    "list_standard_errors_anomalies_species = []\n",
    "list_intercepts_anomalies_species = []\n",
    "list_p_values_anomalies_species = []\n",
    "list_r_squared_anomalies_species = []\n",
    "list_lower_conf_ints_anomalies_species = []\n",
    "list_upper_conf_ints_anomalies_species = []\n",
    "\n",
    "for species in list_sci_names:\n",
    "\n",
    "    print(species)\n",
    "\n",
    "    df_results_anomalies, slope_anomalies_species, standard_error_anomalies_species, intercept_anomalies_species, \\\n",
    "    p_value_anomalies_species, r_squared_anomalies_species, conf_int_anomalies_species = model_day_anomaly_temp_anomaly(species)\n",
    "\n",
    "    df_results_all_anomalies = df_results_all_anomalies.append(df_results_anomalies)\n",
    "    \n",
    "    list_slopes_anomalies_species.append(slope_anomalies_species)\n",
    "    list_standard_errors_anomalies_species.append(standard_error_anomalies_species)\n",
    "    list_intercepts_anomalies_species.append(intercept_anomalies_species)\n",
    "    list_p_values_anomalies_species.append(p_value_anomalies_species)\n",
    "    list_r_squared_anomalies_species.append(r_squared_anomalies_species)\n",
    "    list_lower_conf_ints_anomalies_species.append(conf_int_anomalies_species[0])\n",
    "    list_upper_conf_ints_anomalies_species.append(conf_int_anomalies_species[1])"
   ]
  },
  {
   "cell_type": "code",
   "execution_count": 64,
   "metadata": {},
   "outputs": [
    {
     "name": "stdout",
     "output_type": "stream",
     "text": [
      "(450, 8)\n"
     ]
    },
    {
     "data": {
      "text/html": [
       "<div>\n",
       "<style scoped>\n",
       "    .dataframe tbody tr th:only-of-type {\n",
       "        vertical-align: middle;\n",
       "    }\n",
       "\n",
       "    .dataframe tbody tr th {\n",
       "        vertical-align: top;\n",
       "    }\n",
       "\n",
       "    .dataframe thead th {\n",
       "        text-align: right;\n",
       "    }\n",
       "</style>\n",
       "<table border=\"1\" class=\"dataframe\">\n",
       "  <thead>\n",
       "    <tr style=\"text-align: right;\">\n",
       "      <th></th>\n",
       "      <th>cell</th>\n",
       "      <th>slope</th>\n",
       "      <th>intercept</th>\n",
       "      <th>p_value</th>\n",
       "      <th>r_squared</th>\n",
       "      <th>lat</th>\n",
       "      <th>lon</th>\n",
       "      <th>scientific_name</th>\n",
       "    </tr>\n",
       "  </thead>\n",
       "  <tbody>\n",
       "    <tr>\n",
       "      <th>0</th>\n",
       "      <td>19</td>\n",
       "      <td>-3.208961</td>\n",
       "      <td>1.217619e-01</td>\n",
       "      <td>0.064863</td>\n",
       "      <td>0.526652</td>\n",
       "      <td>26.0</td>\n",
       "      <td>-82.0</td>\n",
       "      <td>Antrostomus carolinensis</td>\n",
       "    </tr>\n",
       "    <tr>\n",
       "      <th>1</th>\n",
       "      <td>45</td>\n",
       "      <td>-0.671713</td>\n",
       "      <td>7.105427e-15</td>\n",
       "      <td>0.693882</td>\n",
       "      <td>0.042864</td>\n",
       "      <td>30.0</td>\n",
       "      <td>-86.0</td>\n",
       "      <td>Antrostomus carolinensis</td>\n",
       "    </tr>\n",
       "  </tbody>\n",
       "</table>\n",
       "</div>"
      ],
      "text/plain": [
       "   cell     slope     intercept   p_value  r_squared   lat   lon  \\\n",
       "0    19 -3.208961  1.217619e-01  0.064863   0.526652  26.0 -82.0   \n",
       "1    45 -0.671713  7.105427e-15  0.693882   0.042864  30.0 -86.0   \n",
       "\n",
       "            scientific_name  \n",
       "0  Antrostomus carolinensis  \n",
       "1  Antrostomus carolinensis  "
      ]
     },
     "execution_count": 64,
     "metadata": {},
     "output_type": "execute_result"
    }
   ],
   "source": [
    "df_results_all_anomalies['scientific_name'] = df_results_all_anomalies['scientific_name'].str.replace('_', ' ')\n",
    "print(df_results_all_anomalies.shape)\n",
    "\n",
    "df_results_all_anomalies.head(2)"
   ]
  },
  {
   "cell_type": "code",
   "execution_count": 65,
   "metadata": {},
   "outputs": [
    {
     "name": "stdout",
     "output_type": "stream",
     "text": [
      "/Users/alvastrand/Downloads/states_21basic\n"
     ]
    }
   ],
   "source": [
    "print(os.getcwd())"
   ]
  },
  {
   "cell_type": "code",
   "execution_count": 66,
   "metadata": {},
   "outputs": [],
   "source": [
    "# df_results_all_anomalies.to_csv('aerial_insectivores_betas_day_anomaly_temp_anomaly_per_cell.csv', index=False)"
   ]
  },
  {
   "cell_type": "code",
   "execution_count": 67,
   "metadata": {
    "scrolled": true
   },
   "outputs": [
    {
     "name": "stdout",
     "output_type": "stream",
     "text": [
      "(10, 8)\n"
     ]
    },
    {
     "data": {
      "text/html": [
       "<div>\n",
       "<style scoped>\n",
       "    .dataframe tbody tr th:only-of-type {\n",
       "        vertical-align: middle;\n",
       "    }\n",
       "\n",
       "    .dataframe tbody tr th {\n",
       "        vertical-align: top;\n",
       "    }\n",
       "\n",
       "    .dataframe thead th {\n",
       "        text-align: right;\n",
       "    }\n",
       "</style>\n",
       "<table border=\"1\" class=\"dataframe\">\n",
       "  <thead>\n",
       "    <tr style=\"text-align: right;\">\n",
       "      <th></th>\n",
       "      <th>scientific_name</th>\n",
       "      <th>slope</th>\n",
       "      <th>standard_error</th>\n",
       "      <th>intercept</th>\n",
       "      <th>p_value</th>\n",
       "      <th>r_squared</th>\n",
       "      <th>lower_conf_int</th>\n",
       "      <th>upper_conf_int</th>\n",
       "    </tr>\n",
       "  </thead>\n",
       "  <tbody>\n",
       "    <tr>\n",
       "      <th>0</th>\n",
       "      <td>Antrostomus carolinensis</td>\n",
       "      <td>0.079411</td>\n",
       "      <td>0.178268</td>\n",
       "      <td>-0.001398</td>\n",
       "      <td>6.567288e-01</td>\n",
       "      <td>0.001524</td>\n",
       "      <td>-0.273270</td>\n",
       "      <td>0.432092</td>\n",
       "    </tr>\n",
       "    <tr>\n",
       "      <th>1</th>\n",
       "      <td>Antrostomus vociferus</td>\n",
       "      <td>-0.084139</td>\n",
       "      <td>0.071891</td>\n",
       "      <td>0.002150</td>\n",
       "      <td>2.435283e-01</td>\n",
       "      <td>0.008184</td>\n",
       "      <td>-0.226077</td>\n",
       "      <td>0.057799</td>\n",
       "    </tr>\n",
       "    <tr>\n",
       "      <th>2</th>\n",
       "      <td>Chaetura pelagica</td>\n",
       "      <td>0.027426</td>\n",
       "      <td>0.043137</td>\n",
       "      <td>0.000395</td>\n",
       "      <td>5.251069e-01</td>\n",
       "      <td>0.000511</td>\n",
       "      <td>-0.057251</td>\n",
       "      <td>0.112102</td>\n",
       "    </tr>\n",
       "    <tr>\n",
       "      <th>3</th>\n",
       "      <td>Chordeiles minor</td>\n",
       "      <td>0.246233</td>\n",
       "      <td>0.050702</td>\n",
       "      <td>-0.002914</td>\n",
       "      <td>2.069988e-06</td>\n",
       "      <td>0.083462</td>\n",
       "      <td>0.146392</td>\n",
       "      <td>0.346075</td>\n",
       "    </tr>\n",
       "    <tr>\n",
       "      <th>4</th>\n",
       "      <td>Hirundo rustica</td>\n",
       "      <td>-0.121068</td>\n",
       "      <td>0.054453</td>\n",
       "      <td>-0.000911</td>\n",
       "      <td>2.647992e-02</td>\n",
       "      <td>0.006354</td>\n",
       "      <td>-0.227961</td>\n",
       "      <td>-0.014175</td>\n",
       "    </tr>\n",
       "    <tr>\n",
       "      <th>5</th>\n",
       "      <td>Petrochelidon pyrrhonota</td>\n",
       "      <td>-0.136671</td>\n",
       "      <td>0.064112</td>\n",
       "      <td>-0.003796</td>\n",
       "      <td>3.377846e-02</td>\n",
       "      <td>0.013832</td>\n",
       "      <td>-0.262798</td>\n",
       "      <td>-0.010543</td>\n",
       "    </tr>\n",
       "    <tr>\n",
       "      <th>6</th>\n",
       "      <td>Progne subis</td>\n",
       "      <td>0.148223</td>\n",
       "      <td>0.105817</td>\n",
       "      <td>-0.001023</td>\n",
       "      <td>1.624865e-01</td>\n",
       "      <td>0.007519</td>\n",
       "      <td>-0.060148</td>\n",
       "      <td>0.356595</td>\n",
       "    </tr>\n",
       "    <tr>\n",
       "      <th>7</th>\n",
       "      <td>Riparia riparia</td>\n",
       "      <td>-0.027070</td>\n",
       "      <td>0.069252</td>\n",
       "      <td>-0.001080</td>\n",
       "      <td>6.962393e-01</td>\n",
       "      <td>0.000667</td>\n",
       "      <td>-0.163522</td>\n",
       "      <td>0.109382</td>\n",
       "    </tr>\n",
       "    <tr>\n",
       "      <th>8</th>\n",
       "      <td>Stelgidopteryx serripennis</td>\n",
       "      <td>-0.339194</td>\n",
       "      <td>0.040925</td>\n",
       "      <td>0.005062</td>\n",
       "      <td>6.046284e-16</td>\n",
       "      <td>0.091024</td>\n",
       "      <td>-0.419547</td>\n",
       "      <td>-0.258841</td>\n",
       "    </tr>\n",
       "    <tr>\n",
       "      <th>9</th>\n",
       "      <td>Tachycineta bicolor</td>\n",
       "      <td>-0.893414</td>\n",
       "      <td>0.058222</td>\n",
       "      <td>0.013433</td>\n",
       "      <td>1.598823e-45</td>\n",
       "      <td>0.267740</td>\n",
       "      <td>-1.007742</td>\n",
       "      <td>-0.779087</td>\n",
       "    </tr>\n",
       "  </tbody>\n",
       "</table>\n",
       "</div>"
      ],
      "text/plain": [
       "              scientific_name     slope  standard_error  intercept  \\\n",
       "0    Antrostomus carolinensis  0.079411        0.178268  -0.001398   \n",
       "1       Antrostomus vociferus -0.084139        0.071891   0.002150   \n",
       "2           Chaetura pelagica  0.027426        0.043137   0.000395   \n",
       "3            Chordeiles minor  0.246233        0.050702  -0.002914   \n",
       "4             Hirundo rustica -0.121068        0.054453  -0.000911   \n",
       "5    Petrochelidon pyrrhonota -0.136671        0.064112  -0.003796   \n",
       "6                Progne subis  0.148223        0.105817  -0.001023   \n",
       "7             Riparia riparia -0.027070        0.069252  -0.001080   \n",
       "8  Stelgidopteryx serripennis -0.339194        0.040925   0.005062   \n",
       "9         Tachycineta bicolor -0.893414        0.058222   0.013433   \n",
       "\n",
       "        p_value  r_squared  lower_conf_int  upper_conf_int  \n",
       "0  6.567288e-01   0.001524       -0.273270        0.432092  \n",
       "1  2.435283e-01   0.008184       -0.226077        0.057799  \n",
       "2  5.251069e-01   0.000511       -0.057251        0.112102  \n",
       "3  2.069988e-06   0.083462        0.146392        0.346075  \n",
       "4  2.647992e-02   0.006354       -0.227961       -0.014175  \n",
       "5  3.377846e-02   0.013832       -0.262798       -0.010543  \n",
       "6  1.624865e-01   0.007519       -0.060148        0.356595  \n",
       "7  6.962393e-01   0.000667       -0.163522        0.109382  \n",
       "8  6.046284e-16   0.091024       -0.419547       -0.258841  \n",
       "9  1.598823e-45   0.267740       -1.007742       -0.779087  "
      ]
     },
     "execution_count": 67,
     "metadata": {},
     "output_type": "execute_result"
    }
   ],
   "source": [
    "df_slopes_anomalies_species = pd.DataFrame(data={'scientific_name': list_sci_names, \n",
    "                                                 'slope': list_slopes_anomalies_species, \n",
    "                                                 'standard_error': list_standard_errors_anomalies_species, \n",
    "                                                 'intercept': list_intercepts_anomalies_species, \n",
    "                                                 'p_value': list_p_values_anomalies_species, \n",
    "                                                 'r_squared': list_r_squared_anomalies_species, \n",
    "                                                 'lower_conf_int': list_lower_conf_ints_anomalies_species, \n",
    "                                                 'upper_conf_int': list_upper_conf_ints_anomalies_species})\n",
    "\n",
    "df_slopes_anomalies_species['scientific_name'] = df_slopes_anomalies_species['scientific_name'].str.replace('_', ' ')\n",
    "\n",
    "print(df_slopes_anomalies_species.shape)\n",
    "\n",
    "df_slopes_anomalies_species"
   ]
  },
  {
   "cell_type": "code",
   "execution_count": 68,
   "metadata": {},
   "outputs": [
    {
     "name": "stdout",
     "output_type": "stream",
     "text": [
      "/Users/alvastrand/Downloads/states_21basic\n"
     ]
    }
   ],
   "source": [
    "print(os.getcwd())"
   ]
  },
  {
   "cell_type": "code",
   "execution_count": 69,
   "metadata": {},
   "outputs": [],
   "source": [
    "# df_slopes_anomalies_species.to_csv('aerial_insectivores_betas_day_anomaly_temp_anomaly_per_species.csv', index=False)"
   ]
  },
  {
   "cell_type": "code",
   "execution_count": null,
   "metadata": {},
   "outputs": [],
   "source": []
  },
  {
   "cell_type": "code",
   "execution_count": null,
   "metadata": {},
   "outputs": [],
   "source": [
    "def name_of_function(species, predictor_variable):\n",
    "\n",
    "    df_species = df_merged[df_merged['species'] == species]\n",
    "    print(df_species.shape)\n",
    "\n",
    "    # print(df_species.head(2))\n",
    "    \n",
    "    \n",
    "    \n",
    "    df_cnt = df_species[['cell', 'year']].groupby(['cell']).count()\n",
    "\n",
    "    df_cnt = df_cnt.reset_index()\n",
    "\n",
    "    df_cnt = df_cnt.rename(columns={'year': 'number_of_years'})\n",
    "\n",
    "    print(df_cnt.shape)\n",
    "\n",
    "    # print(df_cnt.head(2))\n",
    "\n",
    "    list_cells = list(df_cnt[df_cnt['number_of_years'] >= number_of_years]['cell'])\n",
    "    print(len(list_cells))\n",
    "\n",
    "    # print(len(list(df_cnt[df_cnt['number_of_years'] >= 3]['cell'])))\n",
    "\n",
    "    df_species = df_species[df_species['cell'].isin(list_cells)]\n",
    "    print(df_species.shape)\n",
    "    \n",
    "    \n",
    "    \n",
    "    list_slopes = []\n",
    "    list_intercepts = []\n",
    "    list_r_squared = []\n",
    "    list_p_values = []\n",
    "\n",
    "    for cell in list_cells:\n",
    "\n",
    "        df_cell = df_species[df_species['cell'] == cell]\n",
    "\n",
    "        model_ols = smf.ols(formula='arr_IAR_mean' + ' ~ ' + predictor_variable, data=df_cell)\n",
    "\n",
    "        res_ols = model_ols.fit()\n",
    "\n",
    "        # print(res_ols.summary())\n",
    "\n",
    "        list_slopes.append(res_ols.params[1])\n",
    "\n",
    "        list_intercepts.append(res_ols.params[0])\n",
    "\n",
    "        list_r_squared.append(res_ols.rsquared)\n",
    "\n",
    "        list_p_values.append(res_ols.pvalues[1])\n",
    "        \n",
    "        if (species == 'Hirundo_rustica') & (res_ols.params[1] < -0.8):\n",
    "\n",
    "            print(cell)\n",
    "            \n",
    "            print(res_ols.params[1])\n",
    "\n",
    "            print(res_ols.rsquared)\n",
    "            \n",
    "            print(res_ols.pvalues[1])\n",
    "\n",
    "            ax = df_cell.plot.scatter(x=predictor_variable, y='arr_IAR_mean')\n",
    "\n",
    "            abline_plot(model_results=res_ols, ax=ax, color='black')\n",
    "\n",
    "            plt.rc('font', size=24)\n",
    "            plt.rc('axes', titlesize=24)\n",
    "            plt.rc('axes', labelsize=24)\n",
    "            plt.rc('xtick', labelsize=24)\n",
    "            plt.rc('ytick', labelsize=24)\n",
    "\n",
    "            plt.xlabel('Mean minimum daily spring air temperature (°C)')\n",
    "            \n",
    "            plt.ylabel('Mean arrival day')\n",
    "            \n",
    "#             plt.savefig('20220621_temperature.pdf', bbox_inches='tight')\n",
    "\n",
    "            plt.show()\n",
    "\n",
    "    df_results = pd.DataFrame(data={'cell': list_cells, 'slope': list_slopes, 'intercept': list_intercepts, \n",
    "                                    'r_squared': list_r_squared, 'p_value': list_p_values})\n",
    "    print(df_results.shape)\n",
    "\n",
    "    # print(df_results.head(2))\n",
    "\n",
    "    # Quality control?\n",
    "    \n",
    "    \n",
    "\n",
    "    df_lat_lon = df_t[['cell', 'lat', 'lon']].drop_duplicates()\n",
    "    # print(df_lat_lon.shape)\n",
    "\n",
    "    # print(df_lat_lon.head(2))\n",
    "\n",
    "    df_results = df_results.merge(df_lat_lon, on='cell')\n",
    "\n",
    "    df_results['scientific_name'] = species\n",
    "\n",
    "    print(df_results.shape)\n",
    "\n",
    "    # print(df_results.head(2))\n",
    "    \n",
    "    \n",
    "    \n",
    "#     # Latitude\n",
    "\n",
    "#     predictor_variable = 'lat'\n",
    "\n",
    "#     model_ols = smf.ols(formula='slope' + ' ~ ' + predictor_variable, data=df_results)\n",
    "\n",
    "#     res_ols = model_ols.fit()\n",
    "\n",
    "#     slope_lat = res_ols.params[1]\n",
    "#     # print(slope_lat)\n",
    "    \n",
    "#     if species == 'Hirundo_rustica':\n",
    "        \n",
    "#         print(res_ols.rsquared)\n",
    "\n",
    "#         print(res_ols.pvalues[1])\n",
    "\n",
    "#         ax = df_results.plot.scatter(x=predictor_variable, y='slope')\n",
    "\n",
    "#         abline_plot(model_results=res_ols, ax=ax, color='black')\n",
    "\n",
    "#         plt.rc('font', size=24)\n",
    "#         plt.rc('axes', titlesize=24)\n",
    "#         plt.rc('axes', labelsize=24)\n",
    "#         plt.rc('xtick', labelsize=24)\n",
    "#         plt.rc('ytick', labelsize=24)\n",
    "\n",
    "#         plt.xlabel('Latitude')\n",
    "\n",
    "#         plt.ylabel('Sensitivity (days/°C)')\n",
    "\n",
    "#         plt.savefig('20220621_latitude.pdf', bbox_inches='tight')\n",
    "\n",
    "#         plt.show()\n",
    "\n",
    "\n",
    "    \n",
    "    # Change in temperature as a function of time\n",
    "    \n",
    "    df_results_t_species = get_change_in_temp(species, df_species, list_cells)\n",
    "    print(df_results_t_species.shape)\n",
    "    \n",
    "    # print(df_results_t_species.head(2))\n",
    "    \n",
    "    df_results = df_results.merge(df_results_t_species, on='cell')\n",
    "    print(df_results.shape)\n",
    "\n",
    "    # print(df_results.head(2))\n",
    "\n",
    "    model_ols = smf.ols(formula='slope ~ slope_temp_change', data=df_results)\n",
    "\n",
    "    res_ols = model_ols.fit()\n",
    "\n",
    "    slope_temp_change = res_ols.params[1]\n",
    "    # print(slope_temp_change)\n",
    "        \n",
    "    r_squared_temp_change = res_ols.rsquared\n",
    "    # print(r_squared_temp_change)\n",
    "\n",
    "    p_value_temp_change = res_ols.pvalues[1]\n",
    "    # print(p_value_temp_change)\n",
    "    \n",
    "    err_temp_change = slope_temp_change - res_ols.conf_int()[0]['slope_temp_change']\n",
    "    # print(err_temp_change)\n",
    "    \n",
    "    if species == 'Hirundo_rustica':\n",
    "\n",
    "        ax = df_results.plot.scatter(x='slope_temp_change', y='slope')\n",
    "\n",
    "        abline_plot(model_results=res_ols, ax=ax, color='black')\n",
    "        \n",
    "        plt.axhline(y=0, color='grey', linestyle='--')\n",
    "        \n",
    "        plt.axvline(x=0, color='grey', linestyle='--')\n",
    "\n",
    "        plt.rc('font', size=24)\n",
    "        plt.rc('axes', titlesize=24)\n",
    "        plt.rc('axes', labelsize=24)\n",
    "        plt.rc('xtick', labelsize=24)\n",
    "        plt.rc('ytick', labelsize=24)\n",
    "\n",
    "        plt.xlabel('Air temperature change over time (°C/year)')\n",
    "\n",
    "        plt.ylabel('Sensitivity (days/°C)')\n",
    "\n",
    "#         plt.savefig('20220621_sens_temperature_change.pdf', bbox_inches='tight')\n",
    "\n",
    "        plt.show()\n",
    "    \n",
    "    # All of the years\n",
    "    \n",
    "    df_results = df_results.merge(df_results_t, on='cell')\n",
    "    print(df_results.shape)\n",
    "\n",
    "    # print(df_results.head(2))\n",
    "\n",
    "    model_ols = smf.ols(formula='slope ~ slope_temp_change_all_years', data=df_results)\n",
    "\n",
    "    res_ols = model_ols.fit()\n",
    "\n",
    "    slope_temp_change_all_years = res_ols.params[1]\n",
    "    print(slope_temp_change_all_years)\n",
    "        \n",
    "    r_squared_temp_change_all_years = res_ols.rsquared\n",
    "    print(r_squared_temp_change_all_years)\n",
    "\n",
    "    p_value_temp_change_all_years = res_ols.pvalues[1]\n",
    "    print(p_value_temp_change_all_years)\n",
    "    \n",
    "    err_temp_change_all_years = slope_temp_change_all_years - res_ols.conf_int()[0]['slope_temp_change_all_years']\n",
    "    print(err_temp_change_all_years)\n",
    "    \n",
    "    if species == 'Hirundo_rustica':\n",
    "\n",
    "        ax = df_results.plot.scatter(x='slope_temp_change_all_years', y='slope')\n",
    "\n",
    "        abline_plot(model_results=res_ols, ax=ax, color='black')\n",
    "        \n",
    "        plt.axhline(y=0, color='grey', linestyle='--')\n",
    "        \n",
    "        plt.axvline(x=0, color='grey', linestyle='--')\n",
    "\n",
    "        plt.rc('font', size=24)\n",
    "        plt.rc('axes', titlesize=24)\n",
    "        plt.rc('axes', labelsize=24)\n",
    "        plt.rc('xtick', labelsize=24)\n",
    "        plt.rc('ytick', labelsize=24)\n",
    "\n",
    "        plt.xlabel('Air temperature change over time (°C/year)')\n",
    "\n",
    "        plt.ylabel('Sensitivity (days/°C)')\n",
    "\n",
    "        plt.savefig('20220621_sens_temperature_change.pdf', bbox_inches='tight')\n",
    "\n",
    "        plt.show()\n",
    "    \n",
    "    # Heat map\n",
    "    \n",
    "    if species == 'Hirundo_rustica':\n",
    "    \n",
    "        # print(df_results['slope'].min())\n",
    "        # print(np.floor(df_results['slope'].min()))\n",
    "        # print(df_results['slope'].max())\n",
    "        # print(np.ceil(df_results['slope'].max()))\n",
    "\n",
    "        abs_floor_min_slope = np.absolute(np.floor(df_results['slope'].min()))\n",
    "\n",
    "        abs_ceil_max_slope = np.absolute(np.ceil(df_results['slope'].max()))\n",
    "\n",
    "        greatest_abs = max([abs_floor_min_slope, abs_ceil_max_slope])\n",
    "\n",
    "        v_min = -greatest_abs\n",
    "\n",
    "        v_max = greatest_abs\n",
    "\n",
    "        norm = matplotlib.colors.Normalize(vmin=v_min, vmax=v_max)\n",
    "\n",
    "        df_g = geopandas.GeoDataFrame(df_results, geometry=geopandas.points_from_xy(df_results['lon'], \n",
    "                                                                                    df_results['lat']))\n",
    "        print(df_g.shape)\n",
    "\n",
    "        df_g.head(2)\n",
    "\n",
    "        df_usa_c.plot(color='white', edgecolor='grey', figsize=(10, 10))\n",
    "\n",
    "        sc = plt.scatter('lon', 'lat', s=1080, c='slope', alpha=0.8, cmap='viridis', data=df_g, \n",
    "                         norm=norm, edgecolor='black', marker='s')\n",
    "        \n",
    "        # cmap='RdBu_r'\n",
    "\n",
    "        cbar = plt.colorbar(sc, fraction=0.0241, pad=0.015)\n",
    "\n",
    "        cbar.set_label('Sensitivity (days/°C)')\n",
    "\n",
    "        plt.rc('font', size=24)\n",
    "        plt.rc('axes', titlesize=24)\n",
    "        plt.rc('axes', labelsize=24)\n",
    "        plt.rc('xtick', labelsize=24)\n",
    "        plt.rc('ytick', labelsize=24)\n",
    "\n",
    "        plt.savefig('20220621.pdf', bbox_inches='tight')\n",
    "\n",
    "        plt.show()\n",
    "    \n",
    "    return df_results, slope_lat, slope_temp_change, r_squared_temp_change, p_value_temp_change, err_temp_change, \\\n",
    "slope_temp_change_all_years, r_squared_temp_change_all_years, p_value_temp_change_all_years, err_temp_change_all_years"
   ]
  },
  {
   "cell_type": "code",
   "execution_count": null,
   "metadata": {
    "scrolled": true
   },
   "outputs": [],
   "source": [
    "df_results_all_species = pd.DataFrame()\n",
    "\n",
    "list_slopes_lat = []\n",
    "\n",
    "list_slopes_temp_change = []\n",
    "list_r_squared_temp_change = []\n",
    "list_p_values_temp_change = []\n",
    "list_err_temp_change = []\n",
    "\n",
    "list_slopes_temp_change_all_years = []\n",
    "list_r_squared_temp_change_all_years = []\n",
    "list_p_values_temp_change_all_years = []\n",
    "list_err_temp_change_all_years = []\n",
    "\n",
    "for species in list_sci_names:\n",
    "\n",
    "    print(species)\n",
    "\n",
    "    df_results_species, slope_lat, slope_temp_change, r_squared_temp_change, p_value_temp_change, err_temp_change, \\\n",
    "    slope_temp_change_all_years, r_squared_temp_change_all_years, p_value_temp_change_all_years, \\\n",
    "    err_temp_change_all_years = name_of_function(\n",
    "        species, predictor_variable)\n",
    "\n",
    "    df_results_all_species = df_results_all_species.append(df_results_species)\n",
    "    \n",
    "    list_slopes_lat.append(slope_lat)\n",
    "    \n",
    "    list_slopes_temp_change.append(slope_temp_change)\n",
    "    list_r_squared_temp_change.append(r_squared_temp_change)\n",
    "    list_p_values_temp_change.append(p_value_temp_change)\n",
    "    list_err_temp_change.append(err_temp_change)\n",
    "    \n",
    "    list_slopes_temp_change_all_years.append(slope_temp_change_all_years)\n",
    "    list_r_squared_temp_change_all_years.append(r_squared_temp_change_all_years)\n",
    "    list_p_values_temp_change_all_years.append(p_value_temp_change_all_years)\n",
    "    list_err_temp_change_all_years.append(err_temp_change_all_years)"
   ]
  },
  {
   "cell_type": "code",
   "execution_count": null,
   "metadata": {},
   "outputs": [],
   "source": [
    "df_results_all_species['scientific_name'] = df_results_all_species['scientific_name'].str.replace('_', ' ')\n",
    "print(df_results_all_species.shape)\n",
    "\n",
    "df_results_all_species.head(2)"
   ]
  },
  {
   "cell_type": "code",
   "execution_count": null,
   "metadata": {},
   "outputs": [],
   "source": [
    "df_slopes_lat = pd.DataFrame(data={'scientific_name': list_sci_names, 'slope': list_slopes_lat})\n",
    "\n",
    "df_slopes_lat['scientific_name'] = df_slopes_lat['scientific_name'].str.replace('_', ' ')\n",
    "\n",
    "print(df_slopes_lat.shape)\n",
    "\n",
    "# df_slopes_lat.head(2)"
   ]
  },
  {
   "cell_type": "code",
   "execution_count": null,
   "metadata": {
    "scrolled": true
   },
   "outputs": [],
   "source": [
    "df_slopes_temp_change = pd.DataFrame(data={'scientific_name': list_sci_names, 'slope': list_slopes_temp_change, \n",
    "                                           'r_squared': list_r_squared_temp_change, \n",
    "                                           'p_value': list_p_values_temp_change, \n",
    "                                           'err': list_err_temp_change})\n",
    "\n",
    "df_slopes_temp_change['scientific_name'] = df_slopes_temp_change['scientific_name'].str.replace('_', ' ')\n",
    "\n",
    "print(df_slopes_temp_change.shape)\n",
    "\n",
    "df_slopes_temp_change"
   ]
  },
  {
   "cell_type": "code",
   "execution_count": null,
   "metadata": {},
   "outputs": [],
   "source": [
    "df_slopes_temp_change_all_years = pd.DataFrame(data={'scientific_name': list_sci_names, \n",
    "                                                     'slope': list_slopes_temp_change_all_years, \n",
    "                                                     'r_squared': list_r_squared_temp_change_all_years, \n",
    "                                                     'p_value': list_p_values_temp_change_all_years, \n",
    "                                                     'err': list_err_temp_change_all_years})\n",
    "\n",
    "df_slopes_temp_change_all_years['scientific_name'] = df_slopes_temp_change_all_years['scientific_name'].str.replace('_', ' ')\n",
    "\n",
    "print(df_slopes_temp_change_all_years.shape)\n",
    "\n",
    "df_slopes_temp_change_all_years"
   ]
  },
  {
   "cell_type": "code",
   "execution_count": null,
   "metadata": {},
   "outputs": [],
   "source": []
  },
  {
   "cell_type": "code",
   "execution_count": null,
   "metadata": {},
   "outputs": [],
   "source": [
    "os.getcwd()"
   ]
  },
  {
   "cell_type": "code",
   "execution_count": null,
   "metadata": {},
   "outputs": [],
   "source": [
    "path = '/Users/alvastrand/Library/Mobile Documents/com~apple~CloudDocs/Documents/OU/Research/data/output/'\n",
    "\n",
    "os.chdir(path)"
   ]
  },
  {
   "cell_type": "code",
   "execution_count": null,
   "metadata": {},
   "outputs": [],
   "source": [
    "os.getcwd()"
   ]
  },
  {
   "cell_type": "code",
   "execution_count": null,
   "metadata": {},
   "outputs": [],
   "source": [
    "filename = 'aerial_insectivores_migration_distances_mean_weighted_body_masses.csv'\n",
    "\n",
    "df_masses_dist = pd.read_csv(filename)\n",
    "print(df_masses_dist.shape)\n",
    "\n",
    "df_masses_dist.head(2)"
   ]
  },
  {
   "cell_type": "code",
   "execution_count": null,
   "metadata": {},
   "outputs": [],
   "source": [
    "df_masses_dist = df_masses_dist[['scientific_name', 'common_name', 'body_mass', 'distance']]\n",
    "print(df_masses_dist.shape)\n",
    "\n",
    "df_masses_dist.head(2)"
   ]
  },
  {
   "cell_type": "code",
   "execution_count": null,
   "metadata": {},
   "outputs": [],
   "source": []
  },
  {
   "cell_type": "code",
   "execution_count": null,
   "metadata": {},
   "outputs": [],
   "source": [
    "# # 06/27/2023\n",
    "\n",
    "# df_dist = df_masses_dist[['scientific_name', 'common_name', 'distance']]\n",
    "# print(df_dist.shape)\n",
    "\n",
    "# df_dist.head(2)"
   ]
  },
  {
   "cell_type": "code",
   "execution_count": null,
   "metadata": {},
   "outputs": [],
   "source": [
    "# df_dist['scientific_name'] = df_dist['scientific_name'].replace(' ', '_', regex=True)\n",
    "# print(df_dist.shape)\n",
    "\n",
    "# df_dist.head(2)"
   ]
  },
  {
   "cell_type": "code",
   "execution_count": null,
   "metadata": {},
   "outputs": [],
   "source": [
    "# df_dist = df_dist.rename(columns={'scientific_name': 'species'})\n",
    "# print(df_dist.shape)\n",
    "\n",
    "# df_dist.head(2)"
   ]
  },
  {
   "cell_type": "code",
   "execution_count": null,
   "metadata": {},
   "outputs": [],
   "source": [
    "# df_merged_dist = df_merged[['species', 'cell', 'lat', 'lon', 'year', 'arr_IAR_mean', 'air_temp_degrees_celsius']].merge(\n",
    "#     df_dist, on='species')\n",
    "# print(df_merged_dist.shape)\n",
    "\n",
    "# df_merged_dist.head(2)"
   ]
  },
  {
   "cell_type": "code",
   "execution_count": null,
   "metadata": {},
   "outputs": [],
   "source": [
    "# df_merged_dist = df_merged_dist.rename(columns={'species': 'scientific_name', 'arr_IAR_mean': 'mean_arrival_day'})\n",
    "\n",
    "# df_merged_dist = df_merged_dist[['scientific_name', 'common_name', 'distance', 'cell', 'lat', 'lon', 'year', 'air_temp_degrees_celsius', 'mean_arrival_day']]\n",
    "\n",
    "# print(df_merged_dist.shape)\n",
    "\n",
    "# df_merged_dist.head(2)"
   ]
  },
  {
   "cell_type": "code",
   "execution_count": null,
   "metadata": {},
   "outputs": [],
   "source": [
    "# df_merged_dist.to_csv('aerial_insectivores_migration_distances_mean_arrival_days_temperatures_20230627.csv', index=False)"
   ]
  },
  {
   "cell_type": "code",
   "execution_count": null,
   "metadata": {},
   "outputs": [],
   "source": []
  },
  {
   "cell_type": "code",
   "execution_count": null,
   "metadata": {},
   "outputs": [],
   "source": [
    "df_masses_dist_speeds_means = df_masses_dist.merge(df_speeds_means, on='scientific_name')\n",
    "print(df_masses_dist_speeds_means.shape)\n",
    "\n",
    "df_masses_dist_speeds_means.head(2)"
   ]
  },
  {
   "cell_type": "code",
   "execution_count": null,
   "metadata": {},
   "outputs": [],
   "source": [
    "list(df_masses_dist_speeds_means['common_name'])"
   ]
  },
  {
   "cell_type": "code",
   "execution_count": null,
   "metadata": {},
   "outputs": [],
   "source": [
    "list_species_codes = ['CWWI', 'EWPW', 'CHSW', 'CONI', 'BARS', 'CLSW', 'PUMA', 'BANS', 'NRWS', 'TRES']\n",
    "print(len(list_species_codes))"
   ]
  },
  {
   "cell_type": "code",
   "execution_count": null,
   "metadata": {},
   "outputs": [],
   "source": [
    "df_masses_dist_speeds_means['species_code'] = list_species_codes\n",
    "print(df_masses_dist_speeds_means.shape)\n",
    "\n",
    "df_masses_dist_speeds_means.head(2)"
   ]
  },
  {
   "cell_type": "code",
   "execution_count": null,
   "metadata": {},
   "outputs": [],
   "source": []
  },
  {
   "cell_type": "code",
   "execution_count": null,
   "metadata": {},
   "outputs": [],
   "source": [
    "stats.pearsonr(df_masses_dist_speeds_means['body_mass'], df_masses_dist_speeds_means['mean_arrival_day'])"
   ]
  },
  {
   "cell_type": "code",
   "execution_count": null,
   "metadata": {},
   "outputs": [],
   "source": [
    "stats.pearsonr(df_masses_dist_speeds_means['body_mass'], df_masses_dist_speeds_means['distance'])"
   ]
  },
  {
   "cell_type": "code",
   "execution_count": null,
   "metadata": {},
   "outputs": [],
   "source": [
    "stats.pearsonr(df_masses_dist_speeds_means['body_mass'], df_masses_dist_speeds_means['beta_gamma_mean'])"
   ]
  },
  {
   "cell_type": "code",
   "execution_count": null,
   "metadata": {},
   "outputs": [],
   "source": [
    "stats.pearsonr(df_masses_dist_speeds_means['mean_arrival_day'], df_masses_dist_speeds_means['distance'])"
   ]
  },
  {
   "cell_type": "code",
   "execution_count": null,
   "metadata": {},
   "outputs": [],
   "source": [
    "stats.pearsonr(df_masses_dist_speeds_means['mean_arrival_day'], df_masses_dist_speeds_means['beta_gamma_mean'])"
   ]
  },
  {
   "cell_type": "code",
   "execution_count": null,
   "metadata": {},
   "outputs": [],
   "source": [
    "stats.pearsonr(df_masses_dist_speeds_means['distance'], df_masses_dist_speeds_means['beta_gamma_mean'])"
   ]
  },
  {
   "cell_type": "code",
   "execution_count": null,
   "metadata": {},
   "outputs": [],
   "source": []
  },
  {
   "cell_type": "code",
   "execution_count": null,
   "metadata": {
    "scrolled": false
   },
   "outputs": [],
   "source": [
    "def make_plot(df):\n",
    "\n",
    "    df_results_all_species_masses_dist = df.merge(df_masses_dist, on='scientific_name')\n",
    "\n",
    "    df_results_all_species_masses_dist['body_mass_mg'] = df_results_all_species_masses_dist['body_mass']*1000\n",
    "\n",
    "    df_results_all_species_masses_dist['log_body_mass_mg'] = np.log(\n",
    "        df_results_all_species_masses_dist['body_mass_mg'])\n",
    "\n",
    "    color_values = matplotlib.cm.rainbow(\n",
    "        np.linspace(0, 1, len(df_results_all_species_masses_dist['common_name'].unique())))\n",
    "\n",
    "    colors = dict(zip(df_results_all_species_masses_dist['common_name'].unique(), color_values))\n",
    "\n",
    "    field_name = 'log_body_mass_mg'\n",
    "\n",
    "#     field_name = 'distance'\n",
    "\n",
    "    fig, ax = plt.subplots()\n",
    "\n",
    "    for species in list(df_results_all_species_masses_dist['common_name'].unique()):\n",
    "\n",
    "        df_subset = df_results_all_species_masses_dist[df_results_all_species_masses_dist['common_name'] == species]\n",
    "\n",
    "        df_subset.plot(ax=ax, kind='scatter', x=field_name, y='slope', label=species, \n",
    "                       color=colors[species], figsize=(10,10), s=50)\n",
    "\n",
    "    plt.rc('font', size=24)\n",
    "    plt.rc('axes', titlesize=24)\n",
    "    plt.rc('axes', labelsize=24)\n",
    "    plt.rc('xtick', labelsize=24)\n",
    "    plt.rc('ytick', labelsize=24)\n",
    "    plt.rc('legend', fontsize=11)\n",
    "\n",
    "    plt.legend(loc='best')\n",
    "\n",
    "    plt.axhline(y=0, color='grey', linestyle='--')\n",
    "\n",
    "    if field_name == 'log_body_mass_mg':\n",
    "\n",
    "        plt.xlabel('Natural logarithm of body mass (mg)')\n",
    "    \n",
    "    plt.ylabel('Sensitivity (days/°C)')\n",
    "    \n",
    "#     plt.savefig('sensitivity_body_mass_20220621.pdf', bbox_inches='tight')\n",
    "\n",
    "    plt.show()\n",
    "    \n",
    "    return df_results_all_species_masses_dist"
   ]
  },
  {
   "cell_type": "code",
   "execution_count": null,
   "metadata": {
    "scrolled": true
   },
   "outputs": [],
   "source": [
    "df_results_all_species_masses_dist = make_plot(df_results_all_species)\n",
    "print(df_results_all_species_masses_dist.shape)\n",
    "\n",
    "df_results_all_species_masses_dist.head(2)"
   ]
  },
  {
   "cell_type": "code",
   "execution_count": null,
   "metadata": {
    "scrolled": true
   },
   "outputs": [],
   "source": [
    "df_slopes_lat_masses_dist = make_plot(df_slopes_lat)\n",
    "print(df_slopes_lat_masses_dist.shape)\n",
    "\n",
    "df_slopes_lat_masses_dist.head(2)"
   ]
  },
  {
   "cell_type": "code",
   "execution_count": null,
   "metadata": {
    "scrolled": true
   },
   "outputs": [],
   "source": [
    "df_slopes_temp_change_masses_dist = make_plot(df_slopes_temp_change)\n",
    "print(df_slopes_temp_change_masses_dist.shape)\n",
    "\n",
    "df_slopes_temp_change_masses_dist.head(2)"
   ]
  },
  {
   "cell_type": "code",
   "execution_count": null,
   "metadata": {
    "scrolled": true
   },
   "outputs": [],
   "source": [
    "df_slopes_temp_change_all_years_masses_dist = make_plot(df_slopes_temp_change_all_years)\n",
    "print(df_slopes_temp_change_all_years_masses_dist.shape)\n",
    "\n",
    "df_slopes_temp_change_all_years_masses_dist.head(2)"
   ]
  },
  {
   "cell_type": "code",
   "execution_count": null,
   "metadata": {},
   "outputs": [],
   "source": []
  },
  {
   "cell_type": "code",
   "execution_count": null,
   "metadata": {
    "scrolled": true
   },
   "outputs": [],
   "source": [
    "model_ols = smf.ols(formula='slope ~ body_mass', data=df_results_all_species_masses_dist)\n",
    "\n",
    "res_ols = model_ols.fit()\n",
    "\n",
    "print(res_ols.summary())\n",
    "\n",
    "ax = df_results_all_species_masses_dist.plot.scatter(x='body_mass', y='slope')\n",
    "\n",
    "abline_plot(model_results=res_ols, ax=ax)\n",
    "\n",
    "plt.show()"
   ]
  },
  {
   "cell_type": "code",
   "execution_count": null,
   "metadata": {
    "scrolled": true
   },
   "outputs": [],
   "source": [
    "# model_ols = smf.ols(formula='slope ~ log_body_mass_mg', data=df_results_all_species_masses_dist)\n",
    "\n",
    "# res_ols = model_ols.fit()\n",
    "\n",
    "# print(res_ols.summary())\n",
    "\n",
    "# ax = df_results_all_species_masses_dist.plot.scatter(x='log_body_mass_mg', y='slope')\n",
    "\n",
    "# abline_plot(model_results=res_ols, ax=ax)\n",
    "\n",
    "# plt.show()"
   ]
  },
  {
   "cell_type": "code",
   "execution_count": null,
   "metadata": {
    "scrolled": true
   },
   "outputs": [],
   "source": [
    "model_ols = smf.ols(formula='slope ~ body_mass + distance', data=df_results_all_species_masses_dist)\n",
    "\n",
    "res_ols = model_ols.fit()\n",
    "\n",
    "print(res_ols.summary())"
   ]
  },
  {
   "cell_type": "code",
   "execution_count": null,
   "metadata": {
    "scrolled": true
   },
   "outputs": [],
   "source": [
    "# model_ols = smf.ols(formula='slope ~ body_mass * distance', data=df_results_all_species_masses_dist)\n",
    "\n",
    "# res_ols = model_ols.fit()\n",
    "\n",
    "# print(res_ols.summary())"
   ]
  },
  {
   "cell_type": "code",
   "execution_count": null,
   "metadata": {},
   "outputs": [],
   "source": []
  },
  {
   "cell_type": "code",
   "execution_count": null,
   "metadata": {
    "scrolled": true
   },
   "outputs": [],
   "source": [
    "# Traits. Sensitivity ~ Latitude.\n",
    "\n",
    "model_ols = smf.ols(formula='slope ~ body_mass', data=df_slopes_lat_masses_dist)\n",
    "\n",
    "res_ols = model_ols.fit()\n",
    "\n",
    "print(res_ols.summary())\n",
    "\n",
    "ax = df_slopes_lat_masses_dist.plot.scatter(x='body_mass', y='slope')\n",
    "\n",
    "abline_plot(model_results=res_ols, ax=ax)\n",
    "\n",
    "plt.show()"
   ]
  },
  {
   "cell_type": "code",
   "execution_count": null,
   "metadata": {
    "scrolled": true
   },
   "outputs": [],
   "source": [
    "# model_ols = smf.ols(formula='slope ~ log_body_mass_mg', data=df_slopes_lat_masses_dist)\n",
    "\n",
    "# res_ols = model_ols.fit()\n",
    "\n",
    "# print(res_ols.summary())\n",
    "\n",
    "# ax = df_slopes_lat_masses_dist.plot.scatter(x='log_body_mass_mg', y='slope')\n",
    "\n",
    "# abline_plot(model_results=res_ols, ax=ax)\n",
    "\n",
    "# plt.show()"
   ]
  },
  {
   "cell_type": "code",
   "execution_count": null,
   "metadata": {
    "scrolled": true
   },
   "outputs": [],
   "source": [
    "# model_ols = smf.ols(formula='slope ~ body_mass + distance', data=df_slopes_lat_masses_dist)\n",
    "\n",
    "# res_ols = model_ols.fit()\n",
    "\n",
    "# print(res_ols.summary())"
   ]
  },
  {
   "cell_type": "code",
   "execution_count": null,
   "metadata": {
    "scrolled": true
   },
   "outputs": [],
   "source": [
    "# model_ols = smf.ols(formula='slope ~ body_mass * distance', data=df_slopes_lat_masses_dist)\n",
    "\n",
    "# res_ols = model_ols.fit()\n",
    "\n",
    "# print(res_ols.summary())"
   ]
  },
  {
   "cell_type": "code",
   "execution_count": null,
   "metadata": {},
   "outputs": [],
   "source": []
  },
  {
   "cell_type": "code",
   "execution_count": null,
   "metadata": {},
   "outputs": [],
   "source": [
    "df_results_all_species_masses_dist_speeds_means = df_results_all_species_masses_dist.merge(\n",
    "    df_speeds_means, on='scientific_name')\n",
    "print(df_results_all_species_masses_dist_speeds_means.shape)\n",
    "\n",
    "df_results_all_species_masses_dist_speeds_means.head(2)"
   ]
  },
  {
   "cell_type": "code",
   "execution_count": null,
   "metadata": {
    "scrolled": true
   },
   "outputs": [],
   "source": [
    "model_ols = smf.ols(formula='slope ~ mean_arrival_day', data=df_results_all_species_masses_dist_speeds_means)\n",
    "\n",
    "res_ols = model_ols.fit()\n",
    "\n",
    "print(res_ols.summary())\n",
    "\n",
    "ax = df_results_all_species_masses_dist_speeds_means.plot.scatter(x='mean_arrival_day', y='slope')\n",
    "\n",
    "abline_plot(model_results=res_ols, ax=ax)\n",
    "\n",
    "plt.show()"
   ]
  },
  {
   "cell_type": "code",
   "execution_count": null,
   "metadata": {
    "scrolled": true
   },
   "outputs": [],
   "source": [
    "model_ols = smf.ols(formula='slope ~ distance', data=df_results_all_species_masses_dist_speeds_means)\n",
    "\n",
    "res_ols = model_ols.fit()\n",
    "\n",
    "print(res_ols.summary())\n",
    "\n",
    "ax = df_results_all_species_masses_dist_speeds_means.plot.scatter(x='distance', y='slope')\n",
    "\n",
    "abline_plot(model_results=res_ols, ax=ax)\n",
    "\n",
    "plt.show()"
   ]
  },
  {
   "cell_type": "code",
   "execution_count": null,
   "metadata": {
    "scrolled": true
   },
   "outputs": [],
   "source": [
    "model_ols = smf.ols(formula='slope ~ beta_gamma_mean', data=df_results_all_species_masses_dist_speeds_means)\n",
    "\n",
    "res_ols = model_ols.fit()\n",
    "\n",
    "print(res_ols.summary())\n",
    "\n",
    "ax = df_results_all_species_masses_dist_speeds_means.plot.scatter(x='beta_gamma_mean', y='slope')\n",
    "\n",
    "abline_plot(model_results=res_ols, ax=ax)\n",
    "\n",
    "plt.show()"
   ]
  },
  {
   "cell_type": "code",
   "execution_count": null,
   "metadata": {
    "scrolled": true
   },
   "outputs": [],
   "source": [
    "model_ols = smf.ols(formula='slope ~  body_mass + beta_gamma_mean', \n",
    "                    data=df_results_all_species_masses_dist_speeds_means)\n",
    "\n",
    "res_ols = model_ols.fit()\n",
    "\n",
    "print(res_ols.summary())"
   ]
  },
  {
   "cell_type": "code",
   "execution_count": null,
   "metadata": {
    "scrolled": true
   },
   "outputs": [],
   "source": [
    "# model_ols = smf.ols(formula='slope ~  body_mass * beta_gamma_mean', \n",
    "#                     data=df_results_all_species_masses_dist_speeds_means)\n",
    "\n",
    "# res_ols = model_ols.fit()\n",
    "\n",
    "# print(res_ols.summary())"
   ]
  },
  {
   "cell_type": "code",
   "execution_count": null,
   "metadata": {
    "scrolled": true
   },
   "outputs": [],
   "source": [
    "model_ols = smf.ols(formula='slope ~  body_mass + mean_arrival_day', \n",
    "                    data=df_results_all_species_masses_dist_speeds_means)\n",
    "\n",
    "res_ols = model_ols.fit()\n",
    "\n",
    "print(res_ols.summary())"
   ]
  },
  {
   "cell_type": "code",
   "execution_count": null,
   "metadata": {
    "scrolled": true
   },
   "outputs": [],
   "source": [
    "# model_ols = smf.ols(formula='slope ~  body_mass * mean_arrival_day', \n",
    "#                     data=df_results_all_species_masses_dist_speeds_means)\n",
    "\n",
    "# res_ols = model_ols.fit()\n",
    "\n",
    "# print(res_ols.summary())"
   ]
  },
  {
   "cell_type": "code",
   "execution_count": null,
   "metadata": {},
   "outputs": [],
   "source": []
  },
  {
   "cell_type": "code",
   "execution_count": null,
   "metadata": {},
   "outputs": [],
   "source": [
    "def run_ols_regression(df, predictor_variable):\n",
    "\n",
    "    model_ols = smf.ols(formula='slope ~ ' + predictor_variable, data=df)\n",
    "\n",
    "    res_ols = model_ols.fit()\n",
    "\n",
    "    print(res_ols.summary())\n",
    "\n",
    "    ax = df.plot.scatter(x=predictor_variable, y='slope')\n",
    "\n",
    "    abline_plot(model_results=res_ols, ax=ax)\n",
    "\n",
    "    plt.show()"
   ]
  },
  {
   "cell_type": "code",
   "execution_count": null,
   "metadata": {},
   "outputs": [],
   "source": [
    "def model_contribution_traits(df_slopes_masses_dist):\n",
    "\n",
    "    df_slopes_masses_dist_speeds_means = df_slopes_masses_dist.merge(\n",
    "        df_speeds_means, on='scientific_name')\n",
    "    print(df_slopes_masses_dist_speeds_means.shape)\n",
    "\n",
    "    df_slopes_masses_dist_speeds_means.head(2)\n",
    "    \n",
    "    predictor_variable = 'body_mass'\n",
    "\n",
    "    run_ols_regression(df_slopes_masses_dist_speeds_means, predictor_variable)\n",
    "\n",
    "    predictor_variable = 'distance'\n",
    "\n",
    "    run_ols_regression(df_slopes_masses_dist_speeds_means, predictor_variable)\n",
    "\n",
    "    predictor_variable = 'beta_gamma_mean'\n",
    "\n",
    "    run_ols_regression(df_slopes_masses_dist_speeds_means, predictor_variable)\n",
    "\n",
    "    predictor_variable = 'mean_arrival_day'\n",
    "\n",
    "    run_ols_regression(df_slopes_masses_dist_speeds_means, predictor_variable)\n",
    "    \n",
    "    return df_slopes_masses_dist_speeds_means"
   ]
  },
  {
   "cell_type": "code",
   "execution_count": null,
   "metadata": {},
   "outputs": [],
   "source": [
    "df_slopes_lat_masses_dist_speeds_means = model_contribution_traits(df_slopes_lat_masses_dist)\n",
    "\n",
    "df_slopes_lat_masses_dist_speeds_means.head(2)"
   ]
  },
  {
   "cell_type": "code",
   "execution_count": null,
   "metadata": {},
   "outputs": [],
   "source": [
    "df_slopes_temp_change_masses_dist_speeds_means = model_contribution_traits(df_slopes_temp_change_masses_dist)\n",
    "\n",
    "df_slopes_temp_change_masses_dist_speeds_means.head(2)"
   ]
  },
  {
   "cell_type": "code",
   "execution_count": null,
   "metadata": {},
   "outputs": [],
   "source": [
    "df_slopes_temp_change_all_years_masses_dist_speeds_means = model_contribution_traits(\n",
    "    df_slopes_temp_change_all_years_masses_dist)\n",
    "\n",
    "df_slopes_temp_change_all_years_masses_dist_speeds_means.head(2)"
   ]
  },
  {
   "cell_type": "code",
   "execution_count": null,
   "metadata": {},
   "outputs": [],
   "source": []
  },
  {
   "cell_type": "code",
   "execution_count": null,
   "metadata": {},
   "outputs": [],
   "source": [
    "def make_plot_other_traits(df, field_name, y):\n",
    "\n",
    "    df_results_all_species_masses_dist = df.merge(df_masses_dist_speeds_means, on='scientific_name')\n",
    "\n",
    "    color_values = matplotlib.cm.tab10(\n",
    "        np.linspace(0, 1, len(df_results_all_species_masses_dist['species_code'].unique())))\n",
    "\n",
    "    colors = dict(zip(df_results_all_species_masses_dist['species_code'].unique(), color_values))\n",
    "\n",
    "    fig, ax = plt.subplots()\n",
    "    \n",
    "    if y == 'sensitivity':\n",
    "        \n",
    "        marker_size = 50\n",
    "        \n",
    "    else:\n",
    "        \n",
    "        marker_size = 100\n",
    "        \n",
    "    if y == 'sensitivity':\n",
    "\n",
    "        for species in list(df_results_all_species_masses_dist['species_code'].unique()):\n",
    "\n",
    "            df_subset = df_results_all_species_masses_dist[df_results_all_species_masses_dist['species_code'] == species]\n",
    "\n",
    "            df_subset.plot.scatter(ax=ax, x=field_name, y='slope', label=species, \n",
    "                       color=colors[species], figsize=(10,10), s=marker_size)\n",
    "    \n",
    "    else:\n",
    "        \n",
    "        fig, ax = plt.subplots(figsize=(10, 10))\n",
    "\n",
    "        ax.errorbar(df_results_all_species_masses_dist['distance'], df_results_all_species_masses_dist['slope'], \n",
    "                    df_results_all_species_masses_dist['err'], color='none', \n",
    "                    ecolor=df_results_all_species_masses_dist['species_code'].map(colors), linewidth=1)\n",
    "\n",
    "        ax.scatter(df_results_all_species_masses_dist['distance'], df_results_all_species_masses_dist['slope'], \n",
    "                   marker='_', linewidth=3, color=df_results_all_species_masses_dist['species_code'].map(colors), \n",
    "                   s=1000)\n",
    "\n",
    "        for species in np.unique(df_results_all_species_masses_dist['species_code']):\n",
    "\n",
    "            color = colors[species]\n",
    "\n",
    "            df_subset = df_results_all_species_masses_dist[df_results_all_species_masses_dist['species_code'] == species]\n",
    "\n",
    "            ax.errorbar(df_subset['distance'], df_subset['slope'], df_subset['err'], color=color, marker='_', ms=30, \n",
    "                        linewidth=3, label=species)\n",
    "\n",
    "    plt.rc('font', size=24)\n",
    "    plt.rc('axes', titlesize=24)\n",
    "    plt.rc('axes', labelsize=24)\n",
    "    plt.rc('xtick', labelsize=24)\n",
    "    plt.rc('ytick', labelsize=24)\n",
    "\n",
    "    plt.axhline(y=0, color='grey', linestyle='--')\n",
    "    \n",
    "    model_ols = smf.ols(formula='slope ~ ' + field_name, data=df_results_all_species_masses_dist)\n",
    "\n",
    "    res_ols = model_ols.fit()\n",
    "\n",
    "    abline_plot(model_results=res_ols, ax=ax, color='black')\n",
    "\n",
    "    if field_name == 'mean_arrival_day':\n",
    "        \n",
    "        plt.rc('legend', fontsize=12)\n",
    "        \n",
    "        plt.legend(loc='best', bbox_to_anchor=(0.5, 0., 0.5, 0.5))\n",
    "\n",
    "        plt.xlabel('Mean arrival day')\n",
    "        \n",
    "        plt.ylabel('Sensitivity (days/°C)')\n",
    "        \n",
    "    elif field_name == 'distance' and y == 'sensitivity':\n",
    "        \n",
    "        plt.rc('legend', fontsize=12)\n",
    "        \n",
    "        plt.legend(loc='best')\n",
    "\n",
    "        plt.xlabel('Migration distance (km)')\n",
    "        \n",
    "        plt.ylabel('Sensitivity (days/°C)')\n",
    "        \n",
    "    elif field_name == 'beta_gamma_mean' and y == 'sensitivity':\n",
    "        \n",
    "        plt.rc('legend', fontsize=12)\n",
    "        \n",
    "        plt.legend(loc='best')\n",
    "\n",
    "        plt.xlabel('Migration speed (days/°latitude)')\n",
    "        \n",
    "        plt.ylabel('Sensitivity (days/°C)')\n",
    "        \n",
    "    elif field_name == 'distance' and y == 'sensitivity_latitude':\n",
    "        \n",
    "        plt.rc('legend', fontsize=20)\n",
    "        \n",
    "        plt.legend(loc='best')\n",
    "        \n",
    "        plt.xlabel('Migration distance (km)')\n",
    "        \n",
    "        plt.ylabel('Change in sensitivity with latitude')\n",
    "        \n",
    "    elif field_name == 'distance' and y == 'sensitivity_temp_change':\n",
    "        \n",
    "        plt.rc('legend', fontsize=16)\n",
    "        \n",
    "        plt.legend(loc='best')\n",
    "        \n",
    "        plt.xlabel('Migration distance (km)')\n",
    "        \n",
    "        plt.ylabel('Change in sensitivity with air temperature change over time')\n",
    "        \n",
    "    plt.savefig('sensitivity_' + y + '_' + field_name + '_20220621.pdf', bbox_inches='tight')\n",
    "\n",
    "    plt.show()\n",
    "    \n",
    "    return df_results_all_species_masses_dist"
   ]
  },
  {
   "cell_type": "code",
   "execution_count": null,
   "metadata": {
    "scrolled": true
   },
   "outputs": [],
   "source": [
    "df_results_all_species_masses_dist = make_plot_other_traits(df_results_all_species, 'mean_arrival_day', 'sensitivity')\n",
    "print(df_results_all_species_masses_dist.shape)\n",
    "\n",
    "df_results_all_species_masses_dist.head(2)"
   ]
  },
  {
   "cell_type": "code",
   "execution_count": null,
   "metadata": {
    "scrolled": true
   },
   "outputs": [],
   "source": [
    "df_results_all_species_masses_dist = make_plot_other_traits(df_results_all_species, 'distance', 'sensitivity')\n",
    "print(df_results_all_species_masses_dist.shape)\n",
    "\n",
    "df_results_all_species_masses_dist.head(2)"
   ]
  },
  {
   "cell_type": "code",
   "execution_count": null,
   "metadata": {
    "scrolled": true
   },
   "outputs": [],
   "source": [
    "df_results_all_species_masses_dist = make_plot_other_traits(df_results_all_species, 'beta_gamma_mean', 'sensitivity')\n",
    "print(df_results_all_species_masses_dist.shape)\n",
    "\n",
    "df_results_all_species_masses_dist.head(2)"
   ]
  },
  {
   "cell_type": "code",
   "execution_count": null,
   "metadata": {},
   "outputs": [],
   "source": [
    "df_results_all_species_masses_dist.head()"
   ]
  },
  {
   "cell_type": "code",
   "execution_count": null,
   "metadata": {},
   "outputs": [],
   "source": []
  },
  {
   "cell_type": "code",
   "execution_count": null,
   "metadata": {},
   "outputs": [],
   "source": [
    "# df_slopes_lat.head(2)"
   ]
  },
  {
   "cell_type": "code",
   "execution_count": null,
   "metadata": {
    "scrolled": true
   },
   "outputs": [],
   "source": [
    "# df_slopes_lat_masses_dist = make_plot_other_traits(df_slopes_lat, 'distance', 'sensitivity_latitude')\n",
    "# print(df_slopes_lat_masses_dist.shape)\n",
    "\n",
    "# df_slopes_lat_masses_dist.head(2)"
   ]
  },
  {
   "cell_type": "code",
   "execution_count": null,
   "metadata": {},
   "outputs": [],
   "source": []
  },
  {
   "cell_type": "code",
   "execution_count": null,
   "metadata": {
    "scrolled": true
   },
   "outputs": [],
   "source": [
    "df_slopes_temp_change_masses_dist_traits = make_plot_other_traits(\n",
    "    df_slopes_temp_change, 'distance', 'sensitivity_temp_change')\n",
    "print(df_slopes_temp_change_masses_dist_traits.shape)\n",
    "\n",
    "df_slopes_temp_change_masses_dist_traits.head(2)"
   ]
  },
  {
   "cell_type": "code",
   "execution_count": null,
   "metadata": {
    "scrolled": true
   },
   "outputs": [],
   "source": [
    "# \n",
    "\n",
    "df_slopes_temp_change_all_year_masses_dist_traits = make_plot_other_traits(\n",
    "    df_slopes_temp_change_all_years, 'distance', 'sensitivity_temp_change')\n",
    "print(df_slopes_temp_change_all_year_masses_dist_traits.shape)\n",
    "\n",
    "df_slopes_temp_change_all_year_masses_dist_traits.head(2)"
   ]
  },
  {
   "cell_type": "code",
   "execution_count": null,
   "metadata": {},
   "outputs": [],
   "source": []
  }
 ],
 "metadata": {
  "kernelspec": {
   "display_name": "Python 3 (ipykernel)",
   "language": "python",
   "name": "python3"
  },
  "language_info": {
   "codemirror_mode": {
    "name": "ipython",
    "version": 3
   },
   "file_extension": ".py",
   "mimetype": "text/x-python",
   "name": "python",
   "nbconvert_exporter": "python",
   "pygments_lexer": "ipython3",
   "version": "3.10.12"
  }
 },
 "nbformat": 4,
 "nbformat_minor": 4
}
