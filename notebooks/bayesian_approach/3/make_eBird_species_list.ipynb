{
 "cells": [
  {
   "cell_type": "code",
   "execution_count": null,
   "metadata": {},
   "outputs": [],
   "source": [
    "import os\n",
    "import pandas as pd\n",
    "import csv"
   ]
  },
  {
   "cell_type": "code",
   "execution_count": null,
   "metadata": {},
   "outputs": [],
   "source": [
    "os.getcwd()"
   ]
  },
  {
   "cell_type": "code",
   "execution_count": null,
   "metadata": {},
   "outputs": [],
   "source": [
    "path = '/Users/alvastrand/Bird_Phenology/Data/'\n",
    "\n",
    "os.chdir(path)"
   ]
  },
  {
   "cell_type": "code",
   "execution_count": null,
   "metadata": {},
   "outputs": [],
   "source": [
    "os.getcwd()"
   ]
  },
  {
   "cell_type": "code",
   "execution_count": null,
   "metadata": {},
   "outputs": [],
   "source": [
    "filename = 'all_species_barswa_banswa_cells_years.txt'\n",
    "\n",
    "df_species = pd.read_csv(filename, header=None)\n",
    "\n",
    "print(len(df_species))\n",
    "\n",
    "df_species.head(2)"
   ]
  },
  {
   "cell_type": "code",
   "execution_count": null,
   "metadata": {},
   "outputs": [],
   "source": [
    "df_scientific = df_species[1].to_frame()\n",
    "\n",
    "print(len(df_scientific))\n",
    "\n",
    "df_scientific.head(2)"
   ]
  },
  {
   "cell_type": "code",
   "execution_count": null,
   "metadata": {},
   "outputs": [],
   "source": [
    "df_scientific = df_scientific.drop_duplicates()\n",
    "\n",
    "print(len(df_scientific))\n",
    "\n",
    "df_scientific.head(2)"
   ]
  },
  {
   "cell_type": "code",
   "execution_count": null,
   "metadata": {},
   "outputs": [],
   "source": [
    "df_remaining = pd.DataFrame(data={1: ['Hirundo_rustica', 'Riparia_riparia']})\n",
    "\n",
    "print(len(df_remaining))\n",
    "\n",
    "df_remaining.head(2)"
   ]
  },
  {
   "cell_type": "code",
   "execution_count": null,
   "metadata": {},
   "outputs": [],
   "source": [
    "df_scientific = pd.concat([df_scientific, df_remaining])\n",
    "\n",
    "print(len(df_scientific))\n",
    "\n",
    "df_scientific.head(2)"
   ]
  },
  {
   "cell_type": "code",
   "execution_count": null,
   "metadata": {},
   "outputs": [],
   "source": [
    "df_scientific = df_scientific.sort_values(by=[1])\n",
    "\n",
    "print(len(df_scientific))\n",
    "\n",
    "df_scientific"
   ]
  },
  {
   "cell_type": "code",
   "execution_count": null,
   "metadata": {},
   "outputs": [],
   "source": [
    "df_scientific = df_scientific.reset_index(drop=True)\n",
    "\n",
    "print(len(df_scientific))\n",
    "\n",
    "df_scientific.head(2)"
   ]
  },
  {
   "cell_type": "code",
   "execution_count": null,
   "metadata": {},
   "outputs": [],
   "source": [
    "# df_scientific[1] = '\"' + df_scientific[1] + '\"'\n",
    "\n",
    "# print(len(df_scientific))\n",
    "\n",
    "# df_scientific.head(2)"
   ]
  },
  {
   "cell_type": "code",
   "execution_count": null,
   "metadata": {},
   "outputs": [],
   "source": [
    "filename = 'eBird_species_list_Alva.txt'\n",
    "\n",
    "df_scientific.to_csv(filename, header=False, index=False, quoting=csv.QUOTE_NONNUMERIC)"
   ]
  }
 ],
 "metadata": {
  "kernelspec": {
   "display_name": "Python 3",
   "language": "python",
   "name": "python3"
  },
  "language_info": {
   "codemirror_mode": {
    "name": "ipython",
    "version": 3
   },
   "file_extension": ".py",
   "mimetype": "text/x-python",
   "name": "python",
   "nbconvert_exporter": "python",
   "pygments_lexer": "ipython3",
   "version": "3.7.7"
  }
 },
 "nbformat": 4,
 "nbformat_minor": 4
}
