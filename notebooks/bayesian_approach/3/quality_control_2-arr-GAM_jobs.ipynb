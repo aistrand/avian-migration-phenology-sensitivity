{
 "cells": [
  {
   "cell_type": "code",
   "execution_count": null,
   "metadata": {},
   "outputs": [],
   "source": [
    "import os"
   ]
  },
  {
   "cell_type": "code",
   "execution_count": null,
   "metadata": {},
   "outputs": [],
   "source": [
    "# Get the current working directory\n",
    "os.getcwd()"
   ]
  },
  {
   "cell_type": "code",
   "execution_count": null,
   "metadata": {},
   "outputs": [],
   "source": [
    "path = '/Users/alvastrand/Bird_Phenology/20220107/Data/'\n",
    "\n",
    "# Change the current working directory to the directory specified by the path\n",
    "os.chdir(path)"
   ]
  },
  {
   "cell_type": "code",
   "execution_count": null,
   "metadata": {},
   "outputs": [],
   "source": [
    "os.getcwd()"
   ]
  },
  {
   "cell_type": "code",
   "execution_count": null,
   "metadata": {},
   "outputs": [],
   "source": [
    "# directory = 'arrival_GAM_2021-11-04_1500/'\n",
    "directory = 'arrival_GAM_2021-11-16_1500/'\n",
    "\n",
    "print(len([i for i in os.walk(directory)]))"
   ]
  },
  {
   "cell_type": "code",
   "execution_count": null,
   "metadata": {
    "scrolled": true
   },
   "outputs": [],
   "source": [
    "print([i for i in os.walk(directory)][0])"
   ]
  },
  {
   "cell_type": "code",
   "execution_count": null,
   "metadata": {
    "scrolled": true
   },
   "outputs": [],
   "source": [
    "print([i for i in os.walk(directory)][1])"
   ]
  },
  {
   "cell_type": "code",
   "execution_count": null,
   "metadata": {
    "scrolled": true
   },
   "outputs": [],
   "source": [
    "print([i for i in os.walk(directory)][2])"
   ]
  },
  {
   "cell_type": "code",
   "execution_count": null,
   "metadata": {},
   "outputs": [],
   "source": []
  },
  {
   "cell_type": "code",
   "execution_count": null,
   "metadata": {},
   "outputs": [],
   "source": [
    "# directory = 'arrival_GAM_2021-11-04_1500/'\n",
    "\n",
    "print(len([i for i in os.walk(directory)][2]))"
   ]
  },
  {
   "cell_type": "code",
   "execution_count": null,
   "metadata": {},
   "outputs": [],
   "source": [
    "print([i for i in os.walk(directory)][2][0])"
   ]
  },
  {
   "cell_type": "code",
   "execution_count": null,
   "metadata": {},
   "outputs": [],
   "source": [
    "print([i for i in os.walk(directory)][2][1])"
   ]
  },
  {
   "cell_type": "code",
   "execution_count": null,
   "metadata": {
    "scrolled": true
   },
   "outputs": [],
   "source": [
    "print(len([i for i in os.walk(directory)][2][2]))\n",
    "\n",
    "print([i for i in os.walk(directory)][2][2])"
   ]
  },
  {
   "cell_type": "code",
   "execution_count": null,
   "metadata": {},
   "outputs": [],
   "source": [
    "subdirectory = [i for i in os.walk(directory)][2][0]\n",
    "\n",
    "list_output_files = [i for i in os.walk(directory)][2][2]\n",
    "    \n",
    "print(len(list_output_files))\n",
    "\n",
    "for filename in list_output_files:\n",
    "\n",
    "    with open(subdirectory + '/' + filename) as f:\n",
    "\n",
    "        if '\"I completed!\"' not in f.read():\n",
    "\n",
    "            print('Did not complete')\n",
    "            print(subdirectory + '/' + filename)"
   ]
  },
  {
   "cell_type": "code",
   "execution_count": null,
   "metadata": {},
   "outputs": [],
   "source": []
  },
  {
   "cell_type": "code",
   "execution_count": null,
   "metadata": {},
   "outputs": [],
   "source": [
    "# directory = 'arrival_GAM_2021-11-16_1500/'\n",
    "\n",
    "print(len([i for i in os.walk(directory)][0]))"
   ]
  },
  {
   "cell_type": "code",
   "execution_count": null,
   "metadata": {},
   "outputs": [],
   "source": [
    "print([i for i in os.walk(directory)][0][0])"
   ]
  },
  {
   "cell_type": "code",
   "execution_count": null,
   "metadata": {},
   "outputs": [],
   "source": [
    "print([i for i in os.walk(directory)][0][1])"
   ]
  },
  {
   "cell_type": "code",
   "execution_count": null,
   "metadata": {
    "scrolled": true
   },
   "outputs": [],
   "source": [
    "print(len([i for i in os.walk(directory)][0][2]))\n",
    "\n",
    "print([i for i in os.walk(directory)][0][2])"
   ]
  },
  {
   "cell_type": "code",
   "execution_count": null,
   "metadata": {},
   "outputs": [],
   "source": [
    "list_output_files = [j for j in [i for i in os.walk(directory)][0][2] if '.out' in j]\n",
    "    \n",
    "print(len(list_output_files))\n",
    "\n",
    "for filename in list_output_files:\n",
    "\n",
    "    with open(directory + filename) as f:\n",
    "\n",
    "        if '\"I completed!\"' not in f.read():\n",
    "\n",
    "            print('Did not complete')"
   ]
  },
  {
   "cell_type": "code",
   "execution_count": null,
   "metadata": {},
   "outputs": [],
   "source": []
  },
  {
   "cell_type": "code",
   "execution_count": null,
   "metadata": {},
   "outputs": [],
   "source": [
    "# Get the current working directory\n",
    "os.getcwd()"
   ]
  },
  {
   "cell_type": "code",
   "execution_count": null,
   "metadata": {},
   "outputs": [],
   "source": [
    "path = '/Volumes/TOSHIBA EXT/Data/Processed/'\n",
    "\n",
    "# Change the current working directory to the directory specified by the path\n",
    "os.chdir(path)"
   ]
  },
  {
   "cell_type": "code",
   "execution_count": null,
   "metadata": {},
   "outputs": [],
   "source": [
    "os.getcwd()"
   ]
  },
  {
   "cell_type": "code",
   "execution_count": null,
   "metadata": {},
   "outputs": [],
   "source": [
    "# directory = 'arrival_GAM_2022-01-28_1500/'\n",
    "# directory = 'arrival_GAM_2022-02-02_1500/'\n",
    "# directory = 'arrival_GAM_2022-02-03_1500/'\n",
    "# directory = 'arrival_GAM_2022-02-05_1500/'\n",
    "\n",
    "# os.listdir(directory)\n",
    "\n",
    "print(len([i for i in os.walk(directory)]))"
   ]
  },
  {
   "cell_type": "code",
   "execution_count": null,
   "metadata": {},
   "outputs": [],
   "source": [
    "print([i for i in os.walk(directory)][0])"
   ]
  },
  {
   "cell_type": "code",
   "execution_count": null,
   "metadata": {},
   "outputs": [],
   "source": []
  },
  {
   "cell_type": "code",
   "execution_count": null,
   "metadata": {},
   "outputs": [],
   "source": [
    "# directory = 'arrival_GAM_2022-01-28_1500/'\n",
    "# directory = 'arrival_GAM_2022-02-02_1500/'\n",
    "\n",
    "print([i for i in os.walk(directory)][1])"
   ]
  },
  {
   "cell_type": "code",
   "execution_count": null,
   "metadata": {},
   "outputs": [],
   "source": [
    "print([i for i in os.walk(directory)][2])"
   ]
  },
  {
   "cell_type": "code",
   "execution_count": null,
   "metadata": {},
   "outputs": [],
   "source": [
    "print(len([i for i in os.walk(directory)][0]))"
   ]
  },
  {
   "cell_type": "code",
   "execution_count": null,
   "metadata": {},
   "outputs": [],
   "source": [
    "print([i for i in os.walk(directory)][0][0])"
   ]
  },
  {
   "cell_type": "code",
   "execution_count": null,
   "metadata": {},
   "outputs": [],
   "source": [
    "print([i for i in os.walk(directory)][0][1])"
   ]
  },
  {
   "cell_type": "code",
   "execution_count": null,
   "metadata": {},
   "outputs": [],
   "source": [
    "print(len([i for i in os.walk(directory)][0][2]))\n",
    "\n",
    "print([i for i in os.walk(directory)][0][2])"
   ]
  },
  {
   "cell_type": "code",
   "execution_count": null,
   "metadata": {},
   "outputs": [],
   "source": [
    "if directory == 'arrival_GAM_2022-01-28_1500/':\n",
    "\n",
    "    list_output_files = [j for j in [i for i in os.walk(directory)][0][2] if '.out' in j and '._' not in j]\n",
    "    \n",
    "elif directory == 'arrival_GAM_2022-02-02_1500/':\n",
    "    \n",
    "    list_output_files = [j for j in [i for i in os.walk(directory)][0][2] if '.out' in j and 'Riparia_riparia_' in j]\n",
    "    \n",
    "print(len(list_output_files))\n",
    "\n",
    "for filename in list_output_files:\n",
    "\n",
    "    with open(directory + filename) as f:\n",
    "\n",
    "        if '\"I completed!\"' not in f.read():\n",
    "\n",
    "            print('Did not complete')"
   ]
  },
  {
   "cell_type": "code",
   "execution_count": null,
   "metadata": {},
   "outputs": [],
   "source": []
  },
  {
   "cell_type": "code",
   "execution_count": null,
   "metadata": {},
   "outputs": [],
   "source": [
    "# directory = 'arrival_GAM_2022-02-03_1500/'\n",
    "# directory = 'arrival_GAM_2022-02-05_1500/'\n",
    "\n",
    "print(len([i for i in os.walk(directory)][0][1]))\n",
    "\n",
    "[i for i in os.walk(directory)][0][1]"
   ]
  },
  {
   "cell_type": "code",
   "execution_count": null,
   "metadata": {},
   "outputs": [],
   "source": [
    "for k in range(1, len([i for i in os.walk(directory)][0][1]) + 1):\n",
    "\n",
    "    species_directory = [i[0] for i in os.walk(directory)][k]\n",
    "    \n",
    "    print(species_directory)\n",
    "\n",
    "    list_output_files = [j for j in [i[2] for i in os.walk(directory)][k] if '.out' in j]\n",
    "    \n",
    "    print(len(list_output_files))\n",
    "\n",
    "    for filename in list_output_files:\n",
    "        \n",
    "        with open(species_directory + '/' + filename) as f:\n",
    "            \n",
    "            if '\"I completed!\"' not in f.read():\n",
    "                \n",
    "                print('Did not complete')"
   ]
  },
  {
   "cell_type": "code",
   "execution_count": null,
   "metadata": {},
   "outputs": [],
   "source": [
    "# print([i for i in os.walk(directory)][1])\n",
    "\n",
    "# print([i[0] for i in os.walk(directory)][1])\n",
    "\n",
    "# print([i[1] for i in os.walk(directory)][1])\n",
    "\n",
    "# print(len([i[2] for i in os.walk(directory)][1]))\n",
    "\n",
    "# print([i[2] for i in os.walk(directory)][1][0:2])\n",
    "\n",
    "# species_directory = [i[0] for i in os.walk(directory)][1]\n",
    "\n",
    "# print(species_directory)\n",
    "\n",
    "# list_output_files = [j for j in [i[2] for i in os.walk(directory)][1] if '.out' in j]\n",
    "\n",
    "# print(len(list_output_files))\n",
    "\n",
    "# print(list_output_files[0:2])\n",
    "\n",
    "# for i in list_output_files:\n",
    "    \n",
    "#     with open(species_directory + '/' + i) as f:\n",
    "        \n",
    "#         if '\"I completed!\"' not in f.read():\n",
    "            \n",
    "#             print('Did not complete')"
   ]
  }
 ],
 "metadata": {
  "kernelspec": {
   "display_name": "Python 3",
   "language": "python",
   "name": "python3"
  },
  "language_info": {
   "codemirror_mode": {
    "name": "ipython",
    "version": 3
   },
   "file_extension": ".py",
   "mimetype": "text/x-python",
   "name": "python",
   "nbconvert_exporter": "python",
   "pygments_lexer": "ipython3",
   "version": "3.7.7"
  }
 },
 "nbformat": 4,
 "nbformat_minor": 4
}
