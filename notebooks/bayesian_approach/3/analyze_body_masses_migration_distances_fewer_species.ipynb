{
 "cells": [
  {
   "cell_type": "code",
   "execution_count": null,
   "metadata": {},
   "outputs": [],
   "source": [
    "import os\n",
    "import pandas as pd\n",
    "import matplotlib.pyplot as plt"
   ]
  },
  {
   "cell_type": "code",
   "execution_count": null,
   "metadata": {},
   "outputs": [],
   "source": [
    "pd.set_option('max_columns', 30)"
   ]
  },
  {
   "cell_type": "code",
   "execution_count": null,
   "metadata": {},
   "outputs": [],
   "source": [
    "# print(plt.rcParams[\"figure.figsize\"])"
   ]
  },
  {
   "cell_type": "code",
   "execution_count": null,
   "metadata": {},
   "outputs": [],
   "source": [
    "os.getcwd()"
   ]
  },
  {
   "cell_type": "code",
   "execution_count": null,
   "metadata": {},
   "outputs": [],
   "source": [
    "path = '/Users/alvastrand/Library/Mobile Documents/com~apple~CloudDocs/Documents/OU/Research/data/output/'\n",
    "\n",
    "os.chdir(path)"
   ]
  },
  {
   "cell_type": "code",
   "execution_count": null,
   "metadata": {},
   "outputs": [],
   "source": [
    "os.getcwd()"
   ]
  },
  {
   "cell_type": "code",
   "execution_count": null,
   "metadata": {},
   "outputs": [],
   "source": [
    "scientific_list = ['Chaetura pelagica', 'Chordeiles minor', 'Hirundo rustica', 'Petrochelidon pyrrhonota', \n",
    "                   'Progne subis', 'Stelgidopteryx serripennis', 'Tachycineta bicolor', 'Antrostomus carolinensis', \n",
    "                   'Antrostomus vociferus', 'Riparia riparia']"
   ]
  },
  {
   "cell_type": "code",
   "execution_count": null,
   "metadata": {},
   "outputs": [],
   "source": [
    "filename = 'aerial_insectivores_migration_distances_mean_weighted_body_masses.csv'\n",
    "\n",
    "df = pd.read_csv(filename)\n",
    "\n",
    "print(len(df))\n",
    "\n",
    "df.head(2)"
   ]
  },
  {
   "cell_type": "code",
   "execution_count": null,
   "metadata": {},
   "outputs": [],
   "source": [
    "df_fewer = df[df['scientific_name'].isin(scientific_list)]\n",
    "\n",
    "print(len(df_fewer))\n",
    "\n",
    "df_fewer.head(2)"
   ]
  },
  {
   "cell_type": "code",
   "execution_count": null,
   "metadata": {},
   "outputs": [],
   "source": [
    "df_even_fewer = df[df['scientific_name'].isin(scientific_list[0:7])]\n",
    "\n",
    "print(len(df_even_fewer))\n",
    "\n",
    "df_even_fewer.head(2)"
   ]
  },
  {
   "cell_type": "code",
   "execution_count": null,
   "metadata": {},
   "outputs": [],
   "source": [
    "def plot_dist_lat_masses(df):\n",
    "    \n",
    "    # Plot histogram of body masses.\n",
    "    \n",
    "#     df[body_mass_field_name].hist()\n",
    "\n",
    "#     plt.title('Histogram of body masses')\n",
    "\n",
    "#     plt.show()\n",
    "\n",
    "    # Plot migration distance as a function of body mass.\n",
    "    \n",
    "    marker_size = 40\n",
    "    \n",
    "    df.plot.scatter('body_mass', 'distance', s=marker_size)\n",
    "    \n",
    "    font_size = 15\n",
    "    smaller_font_size = 12\n",
    "\n",
    "    plt.rc('font', size=font_size)\n",
    "    plt.rc('axes', labelsize=font_size)\n",
    "    plt.rc('xtick', labelsize=smaller_font_size)\n",
    "    plt.rc('ytick', labelsize=smaller_font_size)\n",
    "    \n",
    "    plt.xlabel('Body mass (g)')\n",
    "    plt.ylabel('Migration distance (km)')\n",
    "#     plt.title('Migration distance as a function of body mass')\n",
    "    \n",
    "    plt.show()\n",
    "    \n",
    "    # Plot migration distance as a function of the latitude of the centroid of the wintering range.\n",
    "    \n",
    "#     df.plot.scatter('LAT.nb', 'distance', s=50, c='body_mass', colormap='viridis', sharex=False)\n",
    "\n",
    "    viridis = plt.cm.get_cmap('viridis', 10)\n",
    "    \n",
    "    sc = plt.scatter(df['LAT.nb'], df['distance'], s=marker_size, c=df['body_mass'], cmap=viridis)\n",
    "    \n",
    "    cb = plt.colorbar(sc)\n",
    "    cb.set_label('Body mass (g)')\n",
    "\n",
    "    plt.rc('font', size=font_size)\n",
    "#     plt.rc('axes', labelsize=font_size)\n",
    "    plt.rc('xtick', labelsize=smaller_font_size)\n",
    "    plt.rc('ytick', labelsize=smaller_font_size)\n",
    "    \n",
    "    plt.xlabel('Latitude of centroid of wintering range')\n",
    "    plt.ylabel('Migration distance (km)')\n",
    "#     plt.title('Migration distance as a function of the latitude of the centroid of the wintering range')\n",
    "    \n",
    "    plt.show()"
   ]
  },
  {
   "cell_type": "code",
   "execution_count": null,
   "metadata": {
    "scrolled": true
   },
   "outputs": [],
   "source": [
    "plot_dist_lat_masses(df)"
   ]
  },
  {
   "cell_type": "code",
   "execution_count": null,
   "metadata": {
    "scrolled": true
   },
   "outputs": [],
   "source": [
    "plot_dist_lat_masses(df_fewer)"
   ]
  },
  {
   "cell_type": "code",
   "execution_count": null,
   "metadata": {
    "scrolled": true
   },
   "outputs": [],
   "source": [
    "plot_dist_lat_masses(df_even_fewer)"
   ]
  },
  {
   "cell_type": "code",
   "execution_count": null,
   "metadata": {
    "scrolled": true
   },
   "outputs": [],
   "source": [
    "df_fewer.sort_values(by=['body_mass']).reset_index(drop=True)"
   ]
  }
 ],
 "metadata": {
  "kernelspec": {
   "display_name": "Python 3",
   "language": "python",
   "name": "python3"
  },
  "language_info": {
   "codemirror_mode": {
    "name": "ipython",
    "version": 3
   },
   "file_extension": ".py",
   "mimetype": "text/x-python",
   "name": "python",
   "nbconvert_exporter": "python",
   "pygments_lexer": "ipython3",
   "version": "3.7.7"
  }
 },
 "nbformat": 4,
 "nbformat_minor": 4
}
