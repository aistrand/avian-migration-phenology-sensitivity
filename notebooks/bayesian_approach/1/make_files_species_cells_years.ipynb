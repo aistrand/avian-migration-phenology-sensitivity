{
 "cells": [
  {
   "cell_type": "code",
   "execution_count": null,
   "metadata": {},
   "outputs": [],
   "source": [
    "import os\n",
    "import pandas as pd"
   ]
  },
  {
   "cell_type": "code",
   "execution_count": null,
   "metadata": {},
   "outputs": [],
   "source": [
    "os.getcwd()"
   ]
  },
  {
   "cell_type": "code",
   "execution_count": null,
   "metadata": {},
   "outputs": [],
   "source": [
    "path = '/Users/alvastrand/Documents/OU/Research/data/'\n",
    "\n",
    "os.chdir(path)"
   ]
  },
  {
   "cell_type": "code",
   "execution_count": null,
   "metadata": {},
   "outputs": [],
   "source": [
    "os.getcwd()"
   ]
  },
  {
   "cell_type": "code",
   "execution_count": null,
   "metadata": {},
   "outputs": [],
   "source": [
    "pd.set_option('max_columns', 100)"
   ]
  },
  {
   "cell_type": "code",
   "execution_count": null,
   "metadata": {},
   "outputs": [],
   "source": []
  },
  {
   "cell_type": "code",
   "execution_count": null,
   "metadata": {},
   "outputs": [],
   "source": [
    "path_to_file = 'output/'\n",
    "\n",
    "filename = 'obligate_aerial_insectivores_ebird_species_codes.csv'\n",
    "\n",
    "df_species = pd.read_csv(path_to_file + filename)\n",
    "\n",
    "print(len(df_species))\n",
    "\n",
    "# df_species.head(2)\n",
    "\n",
    "df_species\n",
    "\n",
    "# report_as?"
   ]
  },
  {
   "cell_type": "code",
   "execution_count": null,
   "metadata": {},
   "outputs": [],
   "source": []
  },
  {
   "cell_type": "code",
   "execution_count": null,
   "metadata": {},
   "outputs": [],
   "source": [
    "def make_files(species):\n",
    "\n",
    "    path = '/Users/alvastrand/Documents/OU/Research/data/'\n",
    "\n",
    "    os.chdir(path)\n",
    "\n",
    "    print(os.getcwd())\n",
    "\n",
    "    path_to_file = 'eBird/ebd_output/'\n",
    "\n",
    "    filename = 'ebd_US_states_east_Mississippi_' + species + \\\n",
    "    '_0101_0731_complete_zerofilled_grid_cells_relApr-2020_Casey.csv'\n",
    "\n",
    "    df_processed = pd.read_csv(path_to_file + filename)\n",
    "\n",
    "    print(len(df_processed)) #\n",
    "\n",
    "    # print(df_processed.head(2)) #\n",
    "\n",
    "    df_years_cells = df_processed[['year', 'cell']].drop_duplicates().sort_values(by=['year', 'cell']).reset_index(\n",
    "        drop=True)\n",
    "\n",
    "    print(len(df_years_cells)) #\n",
    "\n",
    "    # print(df_years_cells.head(2)) #\n",
    "\n",
    "    path = '/Users/alvastrand/Bird_Phenology/Data/input_data/'\n",
    "\n",
    "    os.chdir(path)\n",
    "\n",
    "    print(os.getcwd())\n",
    "\n",
    "    for i in range(len(df_years_cells)):\n",
    "\n",
    "    # for i in range(1):\n",
    "\n",
    "        year = df_years_cells.iloc[i]['year']\n",
    "\n",
    "        cell = df_years_cells.iloc[i]['cell']\n",
    "\n",
    "    #     print(year, cell) #\n",
    "\n",
    "        df_chunk = df_processed[(df_processed['year'] == year) & (df_processed['cell'] ==  cell)]\n",
    "\n",
    "    #     print(len(df_chunk)) #\n",
    "\n",
    "        filename = 'ebd_US_states_east_Mississippi_' + species + \\\n",
    "        '_0101_0731_complete_zerofilled_grid_cells_relApr-2020_Casey_' + str(year) + '_' + str(cell) + '.csv'\n",
    "\n",
    "        df_chunk.to_csv(filename, index=False)"
   ]
  },
  {
   "cell_type": "code",
   "execution_count": null,
   "metadata": {
    "scrolled": true
   },
   "outputs": [],
   "source": [
    "for i in range(len(df_species)):\n",
    "    \n",
    "    # species = 'barswa'\n",
    "    \n",
    "    species = df_species['species_code'][i]\n",
    "    \n",
    "    print(species)\n",
    "    \n",
    "#     if ((species != 'barswa') & (species != 'blkswi') & (species != 'bucnig') & (species != 'compoo') & \n",
    "#         (species != 'souwpw1') & (species != 'whtswi')):\n",
    "        \n",
    "        make_files(species)"
   ]
  },
  {
   "cell_type": "code",
   "execution_count": null,
   "metadata": {},
   "outputs": [],
   "source": []
  },
  {
   "cell_type": "code",
   "execution_count": null,
   "metadata": {},
   "outputs": [],
   "source": [
    "df_species['scientific_name_underscore'] = df_species['scientific_name'].replace(' ', '_', regex=True)\n",
    "\n",
    "df_species.head(2)"
   ]
  },
  {
   "cell_type": "code",
   "execution_count": null,
   "metadata": {},
   "outputs": [],
   "source": [
    "# # species = 'cavswa'\n",
    "# # i = 12\n",
    "\n",
    "# # species = 'comnig'\n",
    "# # i = 5\n",
    "\n",
    "# # species = 'vigswa'\n",
    "# # i = 18\n",
    "\n",
    "# # species = 'treswa'\n",
    "# # i = 17\n",
    "\n",
    "# # species = 'nrwswa'\n",
    "# # i = 16\n",
    "\n",
    "# # species = 'purmar'\n",
    "# # i = 14\n",
    "\n",
    "# # species = 'cliswa'\n",
    "# # i = 13\n",
    "\n",
    "# # species = 'vauswi'\n",
    "# # i = 9\n",
    "\n",
    "# # species = 'chiswi'\n",
    "# # i = 8\n",
    "\n",
    "# # species = 'lesnig'\n",
    "# # i = 4\n",
    "\n",
    "# # species = 'whip-p1'\n",
    "# # i = 3\n",
    "\n",
    "# species = 'chwwid'\n",
    "# i = 1\n",
    "\n",
    "# scientific_name = df_species[df_species['species_code'] == species]['scientific_name_underscore'][i]\n",
    "\n",
    "# print(scientific_name)\n",
    "\n",
    "# # path = '/Users/alvastrand/Documents/OU/Research/data/'\n",
    "\n",
    "# path = '/Users/alvastrand/Downloads/'\n",
    "\n",
    "# #\n",
    "\n",
    "# os.chdir(path)\n",
    "\n",
    "# print(os.getcwd())\n",
    "\n",
    "# path_to_file = 'eBird/ebd_output/'\n",
    "\n",
    "# filename = 'ebd_US_states_east_Mississippi_' + species + \\\n",
    "# '_0101_0731_complete_zerofilled_grid_cells_relApr-2020_Casey.csv'\n",
    "\n",
    "# # df_processed = pd.read_csv(path_to_file + filename)\n",
    "\n",
    "# df_processed = pd.read_csv(filename)\n",
    "\n",
    "# #\n",
    "\n",
    "# print(len(df_processed)) #\n",
    "\n",
    "# # print(df_processed.head(2)) #\n",
    "\n",
    "# df_years_cells = df_processed[['year', 'cell']].drop_duplicates().sort_values(by=['year', 'cell']).reset_index(\n",
    "#     drop=True)\n",
    "\n",
    "# print(len(df_years_cells)) #\n",
    "\n",
    "# # print(df_years_cells.head(2)) #\n",
    "\n",
    "# df_cells_years_script = df_years_cells.copy()\n",
    "\n",
    "# df_cells_years_script = df_cells_years_script.rename(columns={'cell': 'cells', 'year': 'years'})\n",
    "\n",
    "# df_cells_years_script['species'] = species\n",
    "\n",
    "# df_cells_years_script['scientific_name'] = scientific_name\n",
    "\n",
    "# df_cells_years_script = df_cells_years_script[['species', 'scientific_name', 'cells', 'years']]\n",
    "\n",
    "# print(len(df_cells_years_script)) #\n",
    "\n",
    "# print(df_cells_years_script.head(1)) #\n",
    "\n",
    "# # 0, 1\n",
    "\n",
    "# path = '/Users/alvastrand/Bird_Phenology/Data/'\n",
    "\n",
    "# os.chdir(path)\n",
    "\n",
    "# print(os.getcwd())\n",
    "\n",
    "# filename = species + '_cells_years.txt'\n",
    "\n",
    "# df_cells_years_script.to_csv(filename, header=False, index=False)"
   ]
  },
  {
   "cell_type": "code",
   "execution_count": null,
   "metadata": {},
   "outputs": [],
   "source": []
  },
  {
   "cell_type": "code",
   "execution_count": null,
   "metadata": {},
   "outputs": [],
   "source": [
    "path = '/Users/alvastrand/Bird_Phenology/Data/'\n",
    "\n",
    "os.chdir(path)\n",
    "\n",
    "print(os.getcwd())\n",
    "\n",
    "cnt = 0\n",
    "\n",
    "df_all = pd.DataFrame()\n",
    "\n",
    "for i in range(len(df_species)):\n",
    "    \n",
    "    species = df_species['species_code'][i]\n",
    "    \n",
    "    print(species)\n",
    "    \n",
    "    if ((species != 'barswa') & (species != 'banswa') & (species != 'blkswi') & (species != 'bucnig') & \n",
    "        (species != 'compoo') & (species != 'souwpw1') & (species != 'whtswi')):\n",
    "        \n",
    "        print(cnt)\n",
    "        \n",
    "        filename = species + '_cells_years.txt'\n",
    "\n",
    "        df = pd.read_csv(filename, names=['species', 'scientific_name', 'cells', 'years'])\n",
    "\n",
    "        print(len(df)) #\n",
    "\n",
    "        # print(df.head(2)) #\n",
    "        \n",
    "        if cnt == 0:\n",
    "            \n",
    "            df_all = df\n",
    "            \n",
    "        else:\n",
    "            \n",
    "            df_all = df_all.append(df)\n",
    "        \n",
    "        cnt += 1\n",
    "        \n",
    "print(len(df_all))\n",
    "\n",
    "df_all.head(2)"
   ]
  },
  {
   "cell_type": "code",
   "execution_count": null,
   "metadata": {},
   "outputs": [],
   "source": [
    "filename = 'all_species_barswa_banswa_cells_years.txt'\n",
    "\n",
    "df_all.to_csv(filename, header=False, index=False)"
   ]
  },
  {
   "cell_type": "code",
   "execution_count": null,
   "metadata": {},
   "outputs": [],
   "source": []
  },
  {
   "cell_type": "code",
   "execution_count": null,
   "metadata": {},
   "outputs": [],
   "source": [
    "species = 'cavswa'\n",
    "\n",
    "path = '/Users/alvastrand/Bird_Phenology/Data/'\n",
    "\n",
    "os.chdir(path)\n",
    "\n",
    "print(os.getcwd())\n",
    "\n",
    "filename = species + '_cells_years.txt'\n",
    "\n",
    "df = pd.read_csv(filename, names=['species', 'scientific_name', 'cells', 'years'])\n",
    "\n",
    "print(len(df))\n",
    "\n",
    "df.head(2)"
   ]
  },
  {
   "cell_type": "code",
   "execution_count": null,
   "metadata": {},
   "outputs": [],
   "source": []
  },
  {
   "cell_type": "code",
   "execution_count": null,
   "metadata": {},
   "outputs": [],
   "source": [
    "# species = 'barswa'\n",
    "\n",
    "species = 'banswa'\n",
    "\n",
    "# scientific_name = 'Hirundo_rustica'\n",
    "\n",
    "# !\n",
    "\n",
    "# scientific_name = df_species[df_species['species_code'] == species]['scientific_name'][15]\n",
    "\n",
    "scientific_name = 'Riparia_riparia'\n",
    "\n",
    "print(scientific_name)\n",
    "\n",
    "path = '/Users/alvastrand/Documents/OU/Research/data/'\n",
    "\n",
    "os.chdir(path)\n",
    "\n",
    "print(os.getcwd())\n",
    "\n",
    "path_to_file = 'eBird/ebd_output/'\n",
    "\n",
    "filename = 'ebd_US_states_east_Mississippi_' + species + \\\n",
    "'_0101_0731_complete_zerofilled_grid_cells_relApr-2020_Casey.csv'\n",
    "\n",
    "df_processed = pd.read_csv(path_to_file + filename)\n",
    "\n",
    "print(len(df_processed)) #\n",
    "\n",
    "# print(df_processed.head(2)) #\n",
    "\n",
    "df_years_cells = df_processed[['year', 'cell']].drop_duplicates().sort_values(by=['year', 'cell']).reset_index(\n",
    "    drop=True)\n",
    "\n",
    "print(len(df_years_cells)) #\n",
    "\n",
    "# print(df_years_cells.head(2)) #\n",
    "\n",
    "df_cells_years_script = df_years_cells.copy()\n",
    "\n",
    "df_cells_years_script = df_cells_years_script.rename(columns={'cell': 'cells', 'year': 'years'})\n",
    "\n",
    "df_cells_years_script['species'] = species\n",
    "\n",
    "df_cells_years_script['scientific_name'] = scientific_name\n",
    "\n",
    "df_cells_years_script = df_cells_years_script[['species', 'scientific_name', 'cells', 'years']]\n",
    "\n",
    "print(len(df_cells_years_script)) #\n",
    "\n",
    "print(df_cells_years_script.head(2)) #\n",
    "\n",
    "# 0, 1\n",
    "\n",
    "path = '/Users/alvastrand/Bird_Phenology/Data/'\n",
    "\n",
    "os.chdir(path)\n",
    "\n",
    "print(os.getcwd())\n",
    "\n",
    "# filename = species + '_cells_years.txt'\n",
    "\n",
    "# df_cells_years_script.to_csv(filename, header=False, index=False)"
   ]
  },
  {
   "cell_type": "code",
   "execution_count": null,
   "metadata": {},
   "outputs": [],
   "source": [
    "filename = species + '_cells_years_first_1500.txt'\n",
    "\n",
    "df_cells_years_script.head(1500).to_csv(filename, header=False, index=False)"
   ]
  },
  {
   "cell_type": "code",
   "execution_count": null,
   "metadata": {},
   "outputs": [],
   "source": [
    "filename = species + '_cells_years_last_178.txt'\n",
    "\n",
    "df_chunk = df_cells_years_script.iloc[1500:1678]\n",
    "\n",
    "print(len(df_chunk)) #\n",
    "\n",
    "df_chunk.head(2) #"
   ]
  },
  {
   "cell_type": "code",
   "execution_count": null,
   "metadata": {},
   "outputs": [],
   "source": [
    "df_chunk.tail(2) #"
   ]
  },
  {
   "cell_type": "code",
   "execution_count": null,
   "metadata": {},
   "outputs": [],
   "source": [
    "df_chunk.to_csv(filename, header=False, index=False)"
   ]
  },
  {
   "cell_type": "code",
   "execution_count": null,
   "metadata": {},
   "outputs": [],
   "source": []
  },
  {
   "cell_type": "code",
   "execution_count": null,
   "metadata": {},
   "outputs": [],
   "source": [
    "# filename = species + '_cells_years_2.txt'\n",
    "\n",
    "# df_cells_years_script.head(2).to_csv(filename, header=False, index=False)"
   ]
  },
  {
   "cell_type": "code",
   "execution_count": null,
   "metadata": {},
   "outputs": [],
   "source": []
  },
  {
   "cell_type": "code",
   "execution_count": null,
   "metadata": {},
   "outputs": [],
   "source": [
    "# filename = species + '_cells_years_100_excluding_2.txt'\n",
    "\n",
    "# df_chunk = df_cells_years_script.iloc[2:102]\n",
    "\n",
    "# print(len(df_chunk)) #\n",
    "\n",
    "# df_chunk.head(2) #\n",
    "\n",
    "# # 2, 3"
   ]
  },
  {
   "cell_type": "code",
   "execution_count": null,
   "metadata": {},
   "outputs": [],
   "source": [
    "# df_chunk.tail(2) #\n",
    "\n",
    "# # 100, 101"
   ]
  },
  {
   "cell_type": "code",
   "execution_count": null,
   "metadata": {},
   "outputs": [],
   "source": [
    "# df_chunk.to_csv(filename, header=False, index=False)"
   ]
  },
  {
   "cell_type": "code",
   "execution_count": null,
   "metadata": {},
   "outputs": [],
   "source": []
  },
  {
   "cell_type": "code",
   "execution_count": null,
   "metadata": {},
   "outputs": [],
   "source": [
    "# filename = species + '_cells_years_last_100_excluding_1.txt'\n",
    "\n",
    "# df_chunk = df_cells_years_script.tail(100) #\n",
    "\n",
    "# # Drop row (year 2019, cell number 120)\n",
    "\n",
    "# df_chunk = df_chunk.drop(df_chunk[(df_chunk['cells'] == 120) & (df_chunk['years'] == 2019)].index)\n",
    "\n",
    "# print(len(df_chunk)) #\n",
    "\n",
    "# df_chunk.head(2) #\n",
    "\n",
    "# # 1578, 1579"
   ]
  },
  {
   "cell_type": "code",
   "execution_count": null,
   "metadata": {},
   "outputs": [],
   "source": [
    "# df_chunk.tail(2) #\n",
    "\n",
    "# # 1676, 1677"
   ]
  },
  {
   "cell_type": "code",
   "execution_count": null,
   "metadata": {},
   "outputs": [],
   "source": [
    "# df_chunk.to_csv(filename, header=False, index=False)"
   ]
  },
  {
   "cell_type": "code",
   "execution_count": null,
   "metadata": {},
   "outputs": [],
   "source": []
  },
  {
   "cell_type": "code",
   "execution_count": null,
   "metadata": {},
   "outputs": [],
   "source": [
    "# filename = species + '_cells_years_remaining_1476.txt'\n",
    "\n",
    "# # 1678 - 202\n",
    "\n",
    "# df_chunk = df_cells_years_script.iloc[102:1578]\n",
    "\n",
    "# print(len(df_chunk)) #\n",
    "\n",
    "# df_chunk.head(2) #"
   ]
  },
  {
   "cell_type": "code",
   "execution_count": null,
   "metadata": {},
   "outputs": [],
   "source": [
    "# df_chunk.tail(2) #"
   ]
  },
  {
   "cell_type": "code",
   "execution_count": null,
   "metadata": {},
   "outputs": [],
   "source": [
    "# df_chunk.to_csv(filename, header=False, index=False)"
   ]
  },
  {
   "cell_type": "code",
   "execution_count": null,
   "metadata": {},
   "outputs": [],
   "source": []
  },
  {
   "cell_type": "code",
   "execution_count": null,
   "metadata": {},
   "outputs": [],
   "source": [
    "# filename = species + '_cells_years_1500.txt'\n",
    "\n",
    "# df_cells_years_script.head(1500).to_csv(filename, header=False, index=False)"
   ]
  },
  {
   "cell_type": "code",
   "execution_count": null,
   "metadata": {},
   "outputs": [],
   "source": []
  },
  {
   "cell_type": "code",
   "execution_count": null,
   "metadata": {},
   "outputs": [],
   "source": [
    "# # species = 'barswa'\n",
    "\n",
    "# # path_to_file = 'eBird/ebd_output/'\n",
    "\n",
    "# # filename = 'ebd_US_states_east_Mississippi_' + species + \\\n",
    "# # '_0101_0731_complete_zerofilled_grid_cells_relApr-2020_Casey_snippet.csv'\n",
    "\n",
    "# # df_processed_snippet = pd.read_csv(path_to_file + filename)\n",
    "\n",
    "# # print(len(df_processed_snippet))\n",
    "\n",
    "# # df_processed_snippet.head(2)"
   ]
  }
 ],
 "metadata": {
  "kernelspec": {
   "display_name": "Python 3",
   "language": "python",
   "name": "python3"
  },
  "language_info": {
   "codemirror_mode": {
    "name": "ipython",
    "version": 3
   },
   "file_extension": ".py",
   "mimetype": "text/x-python",
   "name": "python",
   "nbconvert_exporter": "python",
   "pygments_lexer": "ipython3",
   "version": "3.7.7"
  }
 },
 "nbformat": 4,
 "nbformat_minor": 4
}
