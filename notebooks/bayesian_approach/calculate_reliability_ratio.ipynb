{
 "cells": [
  {
   "cell_type": "code",
   "execution_count": null,
   "id": "4bd205d1",
   "metadata": {},
   "outputs": [],
   "source": [
    "# Air temperature change over time (°C/year)"
   ]
  },
  {
   "cell_type": "code",
   "execution_count": null,
   "id": "37da0520",
   "metadata": {},
   "outputs": [],
   "source": [
    "# Per species:\n",
    "# Temperature ~ Year + (Year | Cell)\n",
    "# Range of years?"
   ]
  },
  {
   "cell_type": "code",
   "execution_count": null,
   "id": "895a350e",
   "metadata": {},
   "outputs": [],
   "source": [
    "path = '/Users/alvastrand/Downloads/linear_mixed_modeling/temperature_year/coefficients/'\n",
    "\n",
    "os.chdir(path)"
   ]
  },
  {
   "cell_type": "code",
   "execution_count": null,
   "id": "43f70d6d",
   "metadata": {},
   "outputs": [],
   "source": [
    "os.getcwd()"
   ]
  },
  {
   "cell_type": "code",
   "execution_count": null,
   "id": "0552716f",
   "metadata": {},
   "outputs": [],
   "source": [
    "filename = 'coefficients_temperature_year.csv'\n",
    "\n",
    "df_temp_change_lmer = pd.read_csv(filename)\n",
    "\n",
    "print(df_temp_change_lmer.shape)\n",
    "\n",
    "df_temp_change_lmer.head(2)"
   ]
  },
  {
   "cell_type": "code",
   "execution_count": null,
   "id": "f69c7b03",
   "metadata": {},
   "outputs": [],
   "source": []
  }
 ],
 "metadata": {
  "kernelspec": {
   "display_name": "Python 3 (ipykernel)",
   "language": "python",
   "name": "python3"
  },
  "language_info": {
   "codemirror_mode": {
    "name": "ipython",
    "version": 3
   },
   "file_extension": ".py",
   "mimetype": "text/x-python",
   "name": "python",
   "nbconvert_exporter": "python",
   "pygments_lexer": "ipython3",
   "version": "3.10.12"
  }
 },
 "nbformat": 4,
 "nbformat_minor": 5
}
