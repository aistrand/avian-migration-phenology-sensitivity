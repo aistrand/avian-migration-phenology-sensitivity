{
 "cells": [
  {
   "cell_type": "code",
   "execution_count": 1,
   "metadata": {},
   "outputs": [],
   "source": [
    "import os\n",
    "import pandas as pd\n",
    "import numpy as np\n",
    "import statsmodels.formula.api as smf\n",
    "import matplotlib.pyplot as plt\n",
    "from statsmodels.graphics.regressionplots import abline_plot\n",
    "import matplotlib\n",
    "import geopandas\n",
    "from sklearn.decomposition import PCA"
   ]
  },
  {
   "cell_type": "code",
   "execution_count": 2,
   "metadata": {},
   "outputs": [],
   "source": [
    "pd.set_option('max_columns', 100)"
   ]
  },
  {
   "cell_type": "code",
   "execution_count": 3,
   "metadata": {},
   "outputs": [
    {
     "data": {
      "text/plain": [
       "'/Users/alvastrand/Library/Mobile Documents/com~apple~CloudDocs/Documents/OU/Research/notebooks/Casey'"
      ]
     },
     "execution_count": 3,
     "metadata": {},
     "output_type": "execute_result"
    }
   ],
   "source": [
    "os.getcwd()"
   ]
  },
  {
   "cell_type": "code",
   "execution_count": 4,
   "metadata": {},
   "outputs": [
    {
     "ename": "FileNotFoundError",
     "evalue": "[Errno 2] No such file or directory: '/Volumes/TOSHIBA EXT/Data/Processed/arrival_master_2022-05-13_5000/'",
     "output_type": "error",
     "traceback": [
      "\u001b[0;31m---------------------------------------------------------------------------\u001b[0m",
      "\u001b[0;31mFileNotFoundError\u001b[0m                         Traceback (most recent call last)",
      "\u001b[0;32m<ipython-input-4-e8168142a56e>\u001b[0m in \u001b[0;36m<module>\u001b[0;34m\u001b[0m\n\u001b[1;32m      1\u001b[0m \u001b[0mpath\u001b[0m \u001b[0;34m=\u001b[0m \u001b[0;34m'/Volumes/TOSHIBA EXT/Data/Processed/arrival_master_2022-05-13_5000/'\u001b[0m\u001b[0;34m\u001b[0m\u001b[0;34m\u001b[0m\u001b[0m\n\u001b[1;32m      2\u001b[0m \u001b[0;34m\u001b[0m\u001b[0m\n\u001b[0;32m----> 3\u001b[0;31m \u001b[0mos\u001b[0m\u001b[0;34m.\u001b[0m\u001b[0mchdir\u001b[0m\u001b[0;34m(\u001b[0m\u001b[0mpath\u001b[0m\u001b[0;34m)\u001b[0m\u001b[0;34m\u001b[0m\u001b[0;34m\u001b[0m\u001b[0m\n\u001b[0m",
      "\u001b[0;31mFileNotFoundError\u001b[0m: [Errno 2] No such file or directory: '/Volumes/TOSHIBA EXT/Data/Processed/arrival_master_2022-05-13_5000/'"
     ]
    }
   ],
   "source": [
    "path = '/Volumes/TOSHIBA EXT/Data/Processed/arrival_master_2022-05-13_5000/'\n",
    "\n",
    "os.chdir(path)"
   ]
  },
  {
   "cell_type": "code",
   "execution_count": null,
   "metadata": {},
   "outputs": [],
   "source": [
    "os.getcwd()"
   ]
  },
  {
   "cell_type": "code",
   "execution_count": null,
   "metadata": {},
   "outputs": [],
   "source": [
    "filename = 'arrival_master_2022-05-13.csv'\n",
    "\n",
    "df = pd.read_csv(filename)\n",
    "print(df.shape)\n",
    "\n",
    "df.head(2)"
   ]
  },
  {
   "cell_type": "code",
   "execution_count": null,
   "metadata": {},
   "outputs": [],
   "source": [
    "df = df.rename(columns={'cell_lat': 'lat', 'cell_lng': 'lon'})\n",
    "\n",
    "df = df.sort_values(by=['species', 'cell', 'year'])\n",
    "\n",
    "df = df.reset_index(drop=True)\n",
    "\n",
    "print(df.shape)\n",
    "\n",
    "df.head(2)"
   ]
  },
  {
   "cell_type": "code",
   "execution_count": null,
   "metadata": {},
   "outputs": [],
   "source": []
  },
  {
   "cell_type": "code",
   "execution_count": null,
   "metadata": {},
   "outputs": [],
   "source": [
    "os.getcwd()"
   ]
  },
  {
   "cell_type": "code",
   "execution_count": null,
   "metadata": {},
   "outputs": [],
   "source": [
    "path = '/Users/alvastrand/Library/Mobile Documents/com~apple~CloudDocs/Documents/OU/Research/data/output/'\n",
    "\n",
    "os.chdir(path)"
   ]
  },
  {
   "cell_type": "code",
   "execution_count": null,
   "metadata": {},
   "outputs": [],
   "source": [
    "os.getcwd()"
   ]
  },
  {
   "cell_type": "code",
   "execution_count": null,
   "metadata": {},
   "outputs": [],
   "source": [
    "filename = 'ncep_narr_air_2m_ebd_US_states_east_Mississippi_0101_0731_complete_zerofilled_grid_cell_ids_2002_2019_relApr-2020_Casey_lats_lons.csv'\n",
    "\n",
    "df_t = pd.read_csv(filename)\n",
    "print(df_t.shape)\n",
    "\n",
    "df_t.head(2)"
   ]
  },
  {
   "cell_type": "code",
   "execution_count": null,
   "metadata": {},
   "outputs": [],
   "source": [
    "df_t = df_t.rename(columns={'gr_mn': 'air_temp_degrees_celsius', 'cell_lat': 'lat', 'cell_lng': 'lon'})\n",
    "\n",
    "df_t = df_t[['cell', 'lat', 'lon', 'year', 'air_temp_kelvin', 'air_temp_degrees_celsius']]\n",
    "\n",
    "df_t = df_t.sort_values(by=['cell', 'year'])\n",
    "\n",
    "df_t = df_t.reset_index(drop=True)\n",
    "\n",
    "print(df_t.shape)\n",
    "\n",
    "df_t.head(2)"
   ]
  },
  {
   "cell_type": "code",
   "execution_count": null,
   "metadata": {},
   "outputs": [],
   "source": []
  },
  {
   "cell_type": "code",
   "execution_count": null,
   "metadata": {},
   "outputs": [],
   "source": [
    "df_merged = df.merge(df_t, on=['cell', 'year', 'lat', 'lon'])\n",
    "print(df_merged.shape)\n",
    "\n",
    "df_merged.head(2)"
   ]
  },
  {
   "cell_type": "code",
   "execution_count": null,
   "metadata": {},
   "outputs": [],
   "source": [
    "df_merged = df_merged.dropna(subset=['arr_GAM_mean'])\n",
    "print(df_merged.shape)\n",
    "\n",
    "df_merged.head(2)"
   ]
  },
  {
   "cell_type": "code",
   "execution_count": null,
   "metadata": {},
   "outputs": [],
   "source": [
    "df_merged = df_merged[df_merged['VALID_GAM'] == True]\n",
    "\n",
    "df_merged = df_merged.reset_index(drop=True)\n",
    "\n",
    "print(df_merged.shape)\n",
    "\n",
    "df_merged.head(2)"
   ]
  },
  {
   "cell_type": "code",
   "execution_count": null,
   "metadata": {
    "scrolled": true
   },
   "outputs": [],
   "source": [
    "list_sci_names = sorted(df_merged['species'].unique())\n",
    "print(len(list_sci_names))"
   ]
  },
  {
   "cell_type": "code",
   "execution_count": null,
   "metadata": {},
   "outputs": [],
   "source": [
    "df_speeds = df_merged[['species', 'beta_gamma_mean']].drop_duplicates()\n",
    "\n",
    "df_speeds = df_speeds.reset_index(drop=True)\n",
    "print(df_speeds.shape)\n",
    "\n",
    "df_speeds.head(2)"
   ]
  },
  {
   "cell_type": "code",
   "execution_count": null,
   "metadata": {},
   "outputs": [],
   "source": [
    "df_means = df_merged[['species', 'arr_IAR_mean']].groupby(['species']).mean()\n",
    "\n",
    "df_means = df_means.reset_index()\n",
    "\n",
    "df_means = df_means.rename(columns={'arr_IAR_mean': 'mean_arrival_day'})\n",
    "\n",
    "print(df_means.shape)\n",
    "\n",
    "df_means.head(2)"
   ]
  },
  {
   "cell_type": "code",
   "execution_count": null,
   "metadata": {},
   "outputs": [],
   "source": [
    "df_speeds_means = df_speeds.merge(df_means, on='species')\n",
    "\n",
    "df_speeds_means = df_speeds_means.rename(columns={'species': 'scientific_name'})\n",
    "\n",
    "df_speeds_means['scientific_name'] = df_speeds_means['scientific_name'].str.replace('_', ' ')\n",
    "\n",
    "print(df_speeds_means.shape)\n",
    "\n",
    "df_speeds_means.head(2)"
   ]
  },
  {
   "cell_type": "code",
   "execution_count": null,
   "metadata": {},
   "outputs": [],
   "source": []
  },
  {
   "cell_type": "code",
   "execution_count": null,
   "metadata": {},
   "outputs": [],
   "source": [
    "os.getcwd()"
   ]
  },
  {
   "cell_type": "code",
   "execution_count": null,
   "metadata": {},
   "outputs": [],
   "source": [
    "path = '/Users/alvastrand/Downloads/states_21basic/'\n",
    "\n",
    "os.chdir(path)"
   ]
  },
  {
   "cell_type": "code",
   "execution_count": null,
   "metadata": {},
   "outputs": [],
   "source": [
    "os.getcwd()"
   ]
  },
  {
   "cell_type": "code",
   "execution_count": null,
   "metadata": {},
   "outputs": [],
   "source": [
    "df_usa = geopandas.read_file('states.shp')\n",
    "print(df_usa.shape)\n",
    "\n",
    "df_usa.head(2)"
   ]
  },
  {
   "cell_type": "code",
   "execution_count": null,
   "metadata": {},
   "outputs": [],
   "source": [
    "df_usa_c = df_usa[(df_usa['STATE_NAME'] == 'Alabama') | (df_usa['STATE_NAME'] == 'Connecticut') | \n",
    "                  (df_usa['STATE_NAME'] == 'Delaware') | (df_usa['STATE_NAME'] == 'Florida') | \n",
    "                  (df_usa['STATE_NAME'] == 'Georgia') | (df_usa['STATE_NAME'] == 'Illinois') | \n",
    "                  (df_usa['STATE_NAME'] == 'Indiana') | (df_usa['STATE_NAME'] == 'Kentucky') | \n",
    "                  (df_usa['STATE_NAME'] == 'Maine') | (df_usa['STATE_NAME'] == 'Maryland') | \n",
    "                  (df_usa['STATE_NAME'] == 'Massachusetts') | (df_usa['STATE_NAME'] == 'Michigan') | \n",
    "                  (df_usa['STATE_NAME'] == 'Missouri') | (df_usa['STATE_NAME'] == 'New Hampshire') | \n",
    "                  (df_usa['STATE_NAME'] == 'New Jersey') | (df_usa['STATE_NAME'] == 'New York') | \n",
    "                  (df_usa['STATE_NAME'] == 'North Carolina') | (df_usa['STATE_NAME'] == 'Ohio') | \n",
    "                  (df_usa['STATE_NAME'] == 'Pennsylvania') | (df_usa['STATE_NAME'] == 'Rhode Island') | \n",
    "                  (df_usa['STATE_NAME'] == 'South Carolina') | (df_usa['STATE_NAME'] == 'Tennessee') | \n",
    "                  (df_usa['STATE_NAME'] == 'Vermont') | (df_usa['STATE_NAME'] == 'Virginia') | \n",
    "                  (df_usa['STATE_NAME'] == 'West Virginia') | (df_usa['STATE_NAME'] == 'Wisconsin')]\n",
    "\n",
    "df_usa_c = df_usa_c.reset_index(drop=True)\n",
    "\n",
    "print(df_usa_c.shape)\n",
    "\n",
    "df_usa_c.head(2)"
   ]
  },
  {
   "cell_type": "code",
   "execution_count": null,
   "metadata": {},
   "outputs": [],
   "source": []
  },
  {
   "cell_type": "code",
   "execution_count": null,
   "metadata": {},
   "outputs": [],
   "source": [
    "number_of_years = 5\n",
    "\n",
    "# number_of_years = 3"
   ]
  },
  {
   "cell_type": "code",
   "execution_count": null,
   "metadata": {},
   "outputs": [],
   "source": [
    "# predictor_variable = 'year'\n",
    "\n",
    "predictor_variable = 'air_temp_degrees_celsius'"
   ]
  },
  {
   "cell_type": "code",
   "execution_count": null,
   "metadata": {},
   "outputs": [],
   "source": []
  },
  {
   "cell_type": "code",
   "execution_count": null,
   "metadata": {},
   "outputs": [],
   "source": [
    "def name_of_function(species, predictor_variable):\n",
    "\n",
    "    df_species = df_merged[df_merged['species'] == species]\n",
    "    \n",
    "    df_species = df_species.drop(columns='air_temp_kelvin')\n",
    "\n",
    "    print(df_species.shape)\n",
    "\n",
    "    # print(df_species.head(2))\n",
    "    \n",
    "    # model_mixed = smf.mixedlm(\"arr_IAR_mean ~ air_temp_degrees_celsius\", df_species, groups=df_species['lat'])\n",
    "\n",
    "    # fit_mixed = model_mixed.fit()\n",
    "\n",
    "    # print(fit_mixed.summary())\n",
    "    \n",
    "    model_ols = smf.ols(formula='arr_IAR_mean ~ air_temp_degrees_celsius', data=df_species)\n",
    "\n",
    "    res_ols = model_ols.fit()\n",
    "    \n",
    "    print(res_ols.summary())\n",
    "\n",
    "    df_cnt = df_species[['cell', 'year']].groupby(['cell']).count()\n",
    "\n",
    "    df_cnt = df_cnt.reset_index()\n",
    "\n",
    "    df_cnt = df_cnt.rename(columns={'year': 'number_of_years'})\n",
    "\n",
    "    print(df_cnt.shape)\n",
    "\n",
    "    # print(df_cnt.head(2))\n",
    "\n",
    "    list_cells = list(df_cnt[df_cnt['number_of_years'] >= number_of_years]['cell'])\n",
    "    print(len(list_cells))\n",
    "\n",
    "    print(len(list(df_cnt[df_cnt['number_of_years'] >= 3]['cell'])))\n",
    "\n",
    "    df_species = df_species[df_species['cell'].isin(list_cells)]\n",
    "    print(df_species.shape)\n",
    "\n",
    "    list_slopes = []\n",
    "    list_intercepts = []\n",
    "    list_r_squared = []\n",
    "    list_p_values = []\n",
    "\n",
    "    for cell in list_cells:\n",
    "\n",
    "        df_cell = df_species[df_species['cell'] == cell]\n",
    "        # print(df_cell.shape)\n",
    "\n",
    "        model_ols = smf.ols(formula='arr_IAR_mean' + ' ~ ' + predictor_variable, data=df_cell)\n",
    "\n",
    "        res_ols = model_ols.fit()\n",
    "\n",
    "        # print(res_ols.summary())\n",
    "\n",
    "        list_slopes.append(res_ols.params[1])\n",
    "\n",
    "        list_intercepts.append(res_ols.params[0])\n",
    "\n",
    "        list_r_squared.append(res_ols.rsquared)\n",
    "\n",
    "        list_p_values.append(res_ols.pvalues[1])\n",
    "\n",
    "        # ax = df_cell.plot.scatter(x=predictor_variable, y='arr_IAR_mean')\n",
    "\n",
    "        # abline_plot(model_results=res_ols, ax=ax)\n",
    "\n",
    "        # plt.show()\n",
    "\n",
    "    df_results = pd.DataFrame(data={'cell': list_cells, 'slope': list_slopes, 'intercept': list_intercepts, \n",
    "                                    'r_squared': list_r_squared, 'p_value': list_p_values})\n",
    "    print(df_results.shape)\n",
    "\n",
    "    # print(df_results.head(2))\n",
    "\n",
    "    # Quality control?\n",
    "\n",
    "    df_lat_lon = df_t[['cell', 'lat', 'lon']].drop_duplicates()\n",
    "\n",
    "    # print(df_lat_lon.shape)\n",
    "\n",
    "    # print(df_lat_lon.head(2))\n",
    "\n",
    "    df_results = df_results.merge(df_lat_lon, on='cell')\n",
    "\n",
    "    df_results['scientific_name'] = species\n",
    "\n",
    "    print(df_results.shape)\n",
    "\n",
    "    # print(df_results.head(2))\n",
    "    \n",
    "    # Latitude\n",
    "\n",
    "    predictor_variable = 'lat'\n",
    "\n",
    "    model_ols = smf.ols(formula='slope' + ' ~ ' + predictor_variable, data=df_results)\n",
    "\n",
    "    res_ols = model_ols.fit()\n",
    "\n",
    "    slope_lat = res_ols.params[1]\n",
    "\n",
    "    ax = df_results.plot.scatter(x=predictor_variable, y='slope')\n",
    "\n",
    "    abline_plot(model_results=res_ols, ax=ax)\n",
    "\n",
    "    plt.show()\n",
    "    \n",
    "    # Longitude\n",
    "\n",
    "    # predictor_variable = 'lon'\n",
    "\n",
    "    # model_ols = smf.ols(formula='slope' + ' ~ ' + predictor_variable, data=df_results)\n",
    "\n",
    "    # res_ols = model_ols.fit()\n",
    "\n",
    "    # print(res_ols.params[1])\n",
    "\n",
    "    # ax = df_results.plot.scatter(x=predictor_variable, y='slope')\n",
    "\n",
    "    # abline_plot(model_results=res_ols, ax=ax)\n",
    "\n",
    "    # plt.show()\n",
    "    \n",
    "    # print(df_results['slope'].min())\n",
    "    # print(np.floor(df_results['slope'].min()))\n",
    "    # print(df_results['slope'].max())\n",
    "    # print(np.ceil(df_results['slope'].max()))\n",
    "\n",
    "    abs_floor_min_slope = np.absolute(np.floor(df_results['slope'].min()))\n",
    "\n",
    "    abs_ceil_max_slope = np.absolute(np.ceil(df_results['slope'].max()))\n",
    "\n",
    "    greatest_abs = max([abs_floor_min_slope, abs_ceil_max_slope])\n",
    "\n",
    "    v_min = -greatest_abs\n",
    "\n",
    "    v_max = greatest_abs\n",
    "\n",
    "    norm = matplotlib.colors.Normalize(vmin=v_min, vmax=v_max)\n",
    "    \n",
    "    df_g = geopandas.GeoDataFrame(df_results, geometry=geopandas.points_from_xy(df_results['lon'], \n",
    "                                                                                df_results['lat']))\n",
    "    print(df_g.shape)\n",
    "\n",
    "    df_g.head(2)\n",
    "    \n",
    "    df_usa_c.plot(color='white', edgecolor='grey', figsize=(10, 10))\n",
    "\n",
    "    sc = plt.scatter('lon', 'lat', s=1080, c='slope', alpha=0.8, cmap='RdBu_r', data=df_g, \n",
    "                     norm=norm, edgecolor='black', marker='s')\n",
    "\n",
    "    cbar = plt.colorbar(sc, fraction=0.0241, pad=0.015)\n",
    "    \n",
    "    cbar.set_label('Sensitivity (days/°C)')\n",
    "\n",
    "#     plt.xlabel('Longitude')\n",
    "\n",
    "#     plt.ylabel('Latitude')\n",
    "\n",
    "    size_small = 24\n",
    "    size_medium = 24\n",
    "\n",
    "    plt.rc('font', size=size_small)\n",
    "    plt.rc('axes', titlesize=size_small)\n",
    "    plt.rc('axes', labelsize=size_medium)\n",
    "    plt.rc('xtick', labelsize=size_small)\n",
    "    plt.rc('ytick', labelsize=size_small)\n",
    "    \n",
    "    if species == 'Hirundo_rustica':\n",
    "        \n",
    "        plt.savefig('20220621.png', bbox_inches='tight')\n",
    "\n",
    "    plt.show()\n",
    "    \n",
    "    return df_results, slope_lat"
   ]
  },
  {
   "cell_type": "code",
   "execution_count": null,
   "metadata": {
    "scrolled": true
   },
   "outputs": [],
   "source": [
    "df_results_all_species = pd.DataFrame()\n",
    "\n",
    "list_slopes_lat = []\n",
    "\n",
    "for species in list_sci_names:\n",
    "\n",
    "    print(species)\n",
    "\n",
    "    df_results_species, slope_lat = name_of_function(species, predictor_variable)\n",
    "\n",
    "    df_results_all_species = df_results_all_species.append(df_results_species)\n",
    "    \n",
    "    list_slopes_lat.append(slope_lat)"
   ]
  },
  {
   "cell_type": "code",
   "execution_count": null,
   "metadata": {},
   "outputs": [],
   "source": [
    "df_results_all_species['scientific_name'] = df_results_all_species['scientific_name'].str.replace('_', ' ')\n",
    "print(df_results_all_species.shape)\n",
    "\n",
    "df_results_all_species.head(2)"
   ]
  },
  {
   "cell_type": "code",
   "execution_count": null,
   "metadata": {},
   "outputs": [],
   "source": [
    "df_slopes_lat = pd.DataFrame(data={'scientific_name': list_sci_names, 'slope': list_slopes_lat})\n",
    "\n",
    "df_slopes_lat['scientific_name'] = df_slopes_lat['scientific_name'].str.replace('_', ' ')\n",
    "\n",
    "print(df_slopes_lat.shape)\n",
    "\n",
    "df_slopes_lat.head(2)"
   ]
  },
  {
   "cell_type": "code",
   "execution_count": null,
   "metadata": {},
   "outputs": [],
   "source": []
  },
  {
   "cell_type": "code",
   "execution_count": null,
   "metadata": {},
   "outputs": [],
   "source": [
    "os.getcwd()"
   ]
  },
  {
   "cell_type": "code",
   "execution_count": null,
   "metadata": {},
   "outputs": [],
   "source": [
    "path = '/Users/alvastrand/Library/Mobile Documents/com~apple~CloudDocs/Documents/OU/Research/data/output/'\n",
    "\n",
    "os.chdir(path)"
   ]
  },
  {
   "cell_type": "code",
   "execution_count": null,
   "metadata": {},
   "outputs": [],
   "source": [
    "os.getcwd()"
   ]
  },
  {
   "cell_type": "code",
   "execution_count": null,
   "metadata": {},
   "outputs": [],
   "source": [
    "filename = 'aerial_insectivores_migration_distances_mean_weighted_body_masses.csv'\n",
    "\n",
    "df_masses_dist = pd.read_csv(filename)\n",
    "print(df_masses_dist.shape)\n",
    "\n",
    "df_masses_dist.head(2)"
   ]
  },
  {
   "cell_type": "code",
   "execution_count": null,
   "metadata": {},
   "outputs": [],
   "source": [
    "df_masses_dist = df_masses_dist[['scientific_name', 'common_name', 'body_mass', 'distance']]\n",
    "print(df_masses_dist.shape)\n",
    "\n",
    "df_masses_dist.head(2)"
   ]
  },
  {
   "cell_type": "code",
   "execution_count": null,
   "metadata": {},
   "outputs": [],
   "source": [
    "print(plt.rcParams['lines.markersize'])"
   ]
  },
  {
   "cell_type": "code",
   "execution_count": null,
   "metadata": {
    "scrolled": false
   },
   "outputs": [],
   "source": [
    "def make_plot(df):\n",
    "\n",
    "    df_results_all_species_masses_dist = df.merge(df_masses_dist, on='scientific_name')\n",
    "\n",
    "    df_results_all_species_masses_dist['body_mass_mg'] = df_results_all_species_masses_dist['body_mass']*1000\n",
    "\n",
    "    df_results_all_species_masses_dist['log_body_mass_mg'] = np.log(\n",
    "        df_results_all_species_masses_dist['body_mass_mg'])\n",
    "\n",
    "    color_values = matplotlib.cm.rainbow(\n",
    "        np.linspace(0, 1, len(df_results_all_species_masses_dist['common_name'].unique())))\n",
    "\n",
    "    colors = dict(zip(df_results_all_species_masses_dist['common_name'].unique(), color_values))\n",
    "\n",
    "    field_name = 'log_body_mass_mg'\n",
    "\n",
    "#     field_name = 'distance'\n",
    "\n",
    "    fig, ax = plt.subplots()\n",
    "\n",
    "    for species in list(df_results_all_species_masses_dist['common_name'].unique()):\n",
    "\n",
    "        df_subset = df_results_all_species_masses_dist[df_results_all_species_masses_dist['common_name'] == species]\n",
    "\n",
    "        df_subset.plot(ax=ax, kind='scatter', x=field_name, y='slope', label=species, \n",
    "                       color=colors[species], figsize=(10,10), s=50)\n",
    "\n",
    "    plt.rc('font', size=24)\n",
    "    plt.rc('axes', titlesize=24)\n",
    "    plt.rc('axes', labelsize=24)\n",
    "    plt.rc('xtick', labelsize=24)\n",
    "    plt.rc('ytick', labelsize=24)\n",
    "    plt.rc('legend', fontsize=11)\n",
    "\n",
    "    plt.legend(loc='best')\n",
    "\n",
    "    plt.axhline(y=0, color='grey', linestyle='--')\n",
    "\n",
    "    if field_name == 'log_body_mass_mg':\n",
    "\n",
    "        plt.xlabel('Natural logarithm of body mass (mg)')\n",
    "    \n",
    "    plt.ylabel('Sensitivity (days/°C)')\n",
    "    \n",
    "    plt.savefig('sensitivity_body_mass_20220621.png', bbox_inches='tight')\n",
    "\n",
    "    plt.show()\n",
    "    \n",
    "    return df_results_all_species_masses_dist"
   ]
  },
  {
   "cell_type": "code",
   "execution_count": null,
   "metadata": {
    "scrolled": true
   },
   "outputs": [],
   "source": [
    "df_results_all_species_masses_dist = make_plot(df_results_all_species)\n",
    "print(df_results_all_species_masses_dist.shape)\n",
    "\n",
    "df_results_all_species_masses_dist.head(2)"
   ]
  },
  {
   "cell_type": "code",
   "execution_count": null,
   "metadata": {
    "scrolled": true
   },
   "outputs": [],
   "source": [
    "df_slopes_lat_masses_dist = make_plot(df_slopes_lat)\n",
    "print(df_slopes_lat_masses_dist.shape)\n",
    "\n",
    "df_slopes_lat_masses_dist.head(2)"
   ]
  },
  {
   "cell_type": "code",
   "execution_count": null,
   "metadata": {
    "scrolled": true
   },
   "outputs": [],
   "source": [
    "model_ols = smf.ols(formula='slope ~ body_mass', data=df_results_all_species_masses_dist)\n",
    "\n",
    "res_ols = model_ols.fit()\n",
    "\n",
    "print(res_ols.summary())\n",
    "\n",
    "ax = df_results_all_species_masses_dist.plot.scatter(x='body_mass', y='slope')\n",
    "\n",
    "abline_plot(model_results=res_ols, ax=ax)\n",
    "\n",
    "plt.show()"
   ]
  },
  {
   "cell_type": "code",
   "execution_count": null,
   "metadata": {},
   "outputs": [],
   "source": [
    "model_ols = smf.ols(formula='slope ~ log_body_mass_mg', data=df_results_all_species_masses_dist)\n",
    "\n",
    "res_ols = model_ols.fit()\n",
    "\n",
    "print(res_ols.summary())\n",
    "\n",
    "ax = df_results_all_species_masses_dist.plot.scatter(x='log_body_mass_mg', y='slope')\n",
    "\n",
    "abline_plot(model_results=res_ols, ax=ax)\n",
    "\n",
    "plt.show()"
   ]
  },
  {
   "cell_type": "code",
   "execution_count": null,
   "metadata": {
    "scrolled": true
   },
   "outputs": [],
   "source": [
    "# model_ols = smf.ols(formula='slope ~ body_mass * distance', data=df_results_all_species_masses_dist)\n",
    "\n",
    "# res_ols = model_ols.fit()\n",
    "\n",
    "# print(res_ols.summary())"
   ]
  },
  {
   "cell_type": "code",
   "execution_count": null,
   "metadata": {
    "scrolled": true
   },
   "outputs": [],
   "source": [
    "model_ols = smf.ols(formula='slope ~ body_mass', data=df_slopes_lat_masses_dist)\n",
    "\n",
    "res_ols = model_ols.fit()\n",
    "\n",
    "print(res_ols.summary())\n",
    "\n",
    "ax = df_slopes_lat_masses_dist.plot.scatter(x='body_mass', y='slope')\n",
    "\n",
    "abline_plot(model_results=res_ols, ax=ax)\n",
    "\n",
    "plt.show()"
   ]
  },
  {
   "cell_type": "code",
   "execution_count": null,
   "metadata": {
    "scrolled": true
   },
   "outputs": [],
   "source": [
    "# model_ols = smf.ols(formula='slope ~ body_mass * distance', data=df_slopes_lat_masses_dist)\n",
    "\n",
    "# res_ols = model_ols.fit()\n",
    "\n",
    "# print(res_ols.summary())"
   ]
  },
  {
   "cell_type": "code",
   "execution_count": null,
   "metadata": {},
   "outputs": [],
   "source": []
  },
  {
   "cell_type": "code",
   "execution_count": null,
   "metadata": {},
   "outputs": [],
   "source": [
    "df_results_all_species_masses_dist_speeds_means = df_results_all_species_masses_dist.merge(\n",
    "    df_speeds_means, on='scientific_name')\n",
    "print(df_results_all_species_masses_dist_speeds_means.shape)\n",
    "\n",
    "df_results_all_species_masses_dist_speeds_means.head(2)"
   ]
  },
  {
   "cell_type": "code",
   "execution_count": null,
   "metadata": {
    "scrolled": true
   },
   "outputs": [],
   "source": [
    "model_ols = smf.ols(formula='slope ~ beta_gamma_mean', data=df_results_all_species_masses_dist_speeds_means)\n",
    "\n",
    "res_ols = model_ols.fit()\n",
    "\n",
    "print(res_ols.summary())\n",
    "\n",
    "ax = df_results_all_species_masses_dist_speeds_means.plot.scatter(x='beta_gamma_mean', y='slope')\n",
    "\n",
    "abline_plot(model_results=res_ols, ax=ax)\n",
    "\n",
    "plt.show()"
   ]
  },
  {
   "cell_type": "code",
   "execution_count": null,
   "metadata": {
    "scrolled": true
   },
   "outputs": [],
   "source": [
    "model_ols = smf.ols(formula='slope ~ mean_arrival_day', data=df_results_all_species_masses_dist_speeds_means)\n",
    "\n",
    "res_ols = model_ols.fit()\n",
    "\n",
    "print(res_ols.summary())\n",
    "\n",
    "ax = df_results_all_species_masses_dist_speeds_means.plot.scatter(x='mean_arrival_day', y='slope')\n",
    "\n",
    "abline_plot(model_results=res_ols, ax=ax)\n",
    "\n",
    "plt.show()"
   ]
  },
  {
   "cell_type": "code",
   "execution_count": null,
   "metadata": {
    "scrolled": true
   },
   "outputs": [],
   "source": [
    "model_ols = smf.ols(formula='slope ~ distance', data=df_results_all_species_masses_dist_speeds_means)\n",
    "\n",
    "res_ols = model_ols.fit()\n",
    "\n",
    "print(res_ols.summary())\n",
    "\n",
    "ax = df_results_all_species_masses_dist_speeds_means.plot.scatter(x='distance', y='slope')\n",
    "\n",
    "abline_plot(model_results=res_ols, ax=ax)\n",
    "\n",
    "plt.show()"
   ]
  },
  {
   "cell_type": "code",
   "execution_count": null,
   "metadata": {
    "scrolled": true
   },
   "outputs": [],
   "source": [
    "# model_ols = smf.ols(formula='slope ~  body_mass * distance * beta_gamma_mean * mean_arrival_day', \n",
    "#                     data=df_results_all_species_masses_dist_speeds_means)\n",
    "\n",
    "# res_ols = model_ols.fit()\n",
    "\n",
    "# print(res_ols.summary())"
   ]
  },
  {
   "cell_type": "code",
   "execution_count": null,
   "metadata": {},
   "outputs": [],
   "source": []
  },
  {
   "cell_type": "code",
   "execution_count": null,
   "metadata": {},
   "outputs": [],
   "source": [
    "df_slopes_means = df_results_all_species_masses_dist[['scientific_name', 'slope']].groupby(['scientific_name']).mean()\n",
    "\n",
    "df_slopes_means = df_slopes_means.reset_index()\n",
    "\n",
    "df_slopes_means = df_slopes_means.rename(columns={'slope': 'mean_slope'})\n",
    "\n",
    "print(df_slopes_means.shape)\n",
    "\n",
    "df_slopes_means.head(2)"
   ]
  },
  {
   "cell_type": "code",
   "execution_count": null,
   "metadata": {},
   "outputs": [],
   "source": [
    "df_slopes_medians = df_results_all_species_masses_dist[\n",
    "    ['scientific_name', 'slope']].groupby(['scientific_name']).median()\n",
    "\n",
    "df_slopes_medians = df_slopes_medians.reset_index()\n",
    "\n",
    "df_slopes_medians = df_slopes_medians.rename(columns={'slope': 'median_slope'})\n",
    "\n",
    "print(df_slopes_medians.shape)\n",
    "\n",
    "df_slopes_medians.head(2)"
   ]
  },
  {
   "cell_type": "code",
   "execution_count": null,
   "metadata": {},
   "outputs": [],
   "source": [
    "df_slopes_means_medians = df_slopes_means.merge(df_slopes_medians, on='scientific_name')\n",
    "print(df_slopes_means_medians.shape)\n",
    "\n",
    "df_slopes_means_medians.head(2)"
   ]
  },
  {
   "cell_type": "code",
   "execution_count": null,
   "metadata": {},
   "outputs": [],
   "source": [
    "df_slopes_means_medians = df_slopes_means_medians.merge(df_masses_dist, on='scientific_name')\n",
    "print(df_slopes_means_medians.shape)\n",
    "\n",
    "df_slopes_means_medians.head(2)"
   ]
  },
  {
   "cell_type": "code",
   "execution_count": null,
   "metadata": {},
   "outputs": [],
   "source": [
    "df_slopes_means_medians = df_slopes_means_medians.merge(df_speeds_means, on='scientific_name')\n",
    "print(df_slopes_means_medians.shape)\n",
    "\n",
    "df_slopes_means_medians.head(2)"
   ]
  },
  {
   "cell_type": "code",
   "execution_count": null,
   "metadata": {
    "scrolled": true
   },
   "outputs": [],
   "source": [
    "model_ols = smf.ols(formula='mean_slope ~ body_mass', data=df_slopes_means_medians)\n",
    "\n",
    "res_ols = model_ols.fit()\n",
    "\n",
    "print(res_ols.summary())\n",
    "\n",
    "ax = df_slopes_means_medians.plot.scatter(x='body_mass', y='mean_slope')\n",
    "\n",
    "abline_plot(model_results=res_ols, ax=ax)\n",
    "\n",
    "plt.show()"
   ]
  },
  {
   "cell_type": "code",
   "execution_count": null,
   "metadata": {
    "scrolled": true
   },
   "outputs": [],
   "source": [
    "model_ols = smf.ols(formula='median_slope ~ body_mass', data=df_slopes_means_medians)\n",
    "\n",
    "res_ols = model_ols.fit()\n",
    "\n",
    "print(res_ols.summary())\n",
    "\n",
    "ax = df_slopes_means_medians.plot.scatter(x='body_mass', y='median_slope')\n",
    "\n",
    "abline_plot(model_results=res_ols, ax=ax)\n",
    "\n",
    "plt.show()"
   ]
  },
  {
   "cell_type": "code",
   "execution_count": null,
   "metadata": {
    "scrolled": true
   },
   "outputs": [],
   "source": [
    "model_ols = smf.ols(formula='mean_slope ~ body_mass * distance', data=df_slopes_means_medians)\n",
    "\n",
    "res_ols = model_ols.fit()\n",
    "\n",
    "print(res_ols.summary())"
   ]
  },
  {
   "cell_type": "code",
   "execution_count": null,
   "metadata": {},
   "outputs": [],
   "source": []
  },
  {
   "cell_type": "code",
   "execution_count": null,
   "metadata": {},
   "outputs": [],
   "source": [
    "filename = 'all_obligate_aerial_insectivores_ebirdst_weighted_mean_body_masses.csv'\n",
    "\n",
    "df_species_codes = pd.read_csv(filename)\n",
    "print(df_species_codes.shape)\n",
    "\n",
    "df_species_codes.head(2)"
   ]
  },
  {
   "cell_type": "code",
   "execution_count": null,
   "metadata": {
    "scrolled": true
   },
   "outputs": [],
   "source": [
    "df_results_all_species_masses_dist_codes = df_results_all_species_masses_dist.merge(\n",
    "    df_species_codes, on=['scientific_name', 'common_name', 'body_mass'])\n",
    "\n",
    "df_results_all_species_masses_dist_codes = df_results_all_species_masses_dist_codes.sort_values(by='body_mass')\n",
    "\n",
    "df_results_all_species_masses_dist_codes = df_results_all_species_masses_dist_codes.reset_index(drop=True)\n",
    "\n",
    "print(df_results_all_species_masses_dist_codes.shape)\n",
    "\n",
    "# print(df_results_all_species_masses_dist_codes.head(2))\n",
    "\n",
    "cnt = 0\n",
    "\n",
    "for species in list(df_results_all_species_masses_dist_codes['species_code'].unique()):\n",
    "    \n",
    "#     print(species)\n",
    "\n",
    "    df_species_slopes = df_results_all_species_masses_dist_codes[\n",
    "        df_results_all_species_masses_dist_codes['species_code'] == species]\n",
    "    \n",
    "    df_species_slopes = df_species_slopes[['slope']]\n",
    "    \n",
    "    df_species_slopes = df_species_slopes.rename(columns={'slope': species})\n",
    "    \n",
    "    df_species_slopes = df_species_slopes.reset_index(drop=True)\n",
    "\n",
    "#     print(df_species_slopes.shape)\n",
    "    \n",
    "    if cnt == 0:\n",
    "\n",
    "        df_species_slopes_merged = df_species_slopes\n",
    "\n",
    "    else:\n",
    "\n",
    "        df_species_slopes_merged = df_species_slopes_merged.merge(\n",
    "            df_species_slopes, how='outer', left_index=True, right_index=True)\n",
    "\n",
    "    cnt += 1\n",
    "    \n",
    "print(df_species_slopes_merged.shape)\n",
    "    \n",
    "# print(df_species_slopes_merged.head(2))\n",
    "\n",
    "df_species_slopes_merged.boxplot(column=list(df_species_slopes_merged.columns), figsize=(10,6))\n",
    "\n",
    "size_small = 14\n",
    "size_medium = 14\n",
    "size_large = 16\n",
    "\n",
    "plt.rc('font', size=size_small)\n",
    "plt.rc('axes', titlesize=size_small)\n",
    "plt.rc('axes', labelsize=size_small)\n",
    "plt.rc('xtick', labelsize=size_small)\n",
    "plt.rc('ytick', labelsize=size_small)\n",
    "\n",
    "plt.show()"
   ]
  }
 ],
 "metadata": {
  "kernelspec": {
   "display_name": "Python 3",
   "language": "python",
   "name": "python3"
  },
  "language_info": {
   "codemirror_mode": {
    "name": "ipython",
    "version": 3
   },
   "file_extension": ".py",
   "mimetype": "text/x-python",
   "name": "python",
   "nbconvert_exporter": "python",
   "pygments_lexer": "ipython3",
   "version": "3.7.7"
  }
 },
 "nbformat": 4,
 "nbformat_minor": 4
}
