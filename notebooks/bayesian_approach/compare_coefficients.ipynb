{
 "cells": [
  {
   "cell_type": "code",
   "execution_count": null,
   "id": "ddd12e35",
   "metadata": {},
   "outputs": [],
   "source": [
    "import os\n",
    "import pandas as pd\n",
    "import matplotlib.pyplot as plt"
   ]
  },
  {
   "cell_type": "code",
   "execution_count": null,
   "id": "6c059443",
   "metadata": {},
   "outputs": [],
   "source": [
    "pd.options.display.max_columns = 100"
   ]
  },
  {
   "cell_type": "code",
   "execution_count": null,
   "id": "cfc02d85",
   "metadata": {},
   "outputs": [],
   "source": [
    "os.getcwd()"
   ]
  },
  {
   "cell_type": "code",
   "execution_count": null,
   "id": "640694a0",
   "metadata": {},
   "outputs": [],
   "source": []
  },
  {
   "cell_type": "code",
   "execution_count": null,
   "id": "b3204929",
   "metadata": {},
   "outputs": [],
   "source": [
    "# Per cell:\n",
    "# Day ~ Temperature"
   ]
  },
  {
   "cell_type": "code",
   "execution_count": null,
   "id": "ac5a5a6b",
   "metadata": {},
   "outputs": [],
   "source": [
    "path = '/Users/alvastrand/Downloads/'\n",
    "\n",
    "os.chdir(path)"
   ]
  },
  {
   "cell_type": "code",
   "execution_count": null,
   "id": "8a2670f1",
   "metadata": {},
   "outputs": [],
   "source": [
    "os.getcwd()"
   ]
  },
  {
   "cell_type": "code",
   "execution_count": null,
   "id": "591f4c14",
   "metadata": {},
   "outputs": [],
   "source": [
    "path_to_file = 'states_21basic/aerial_insectivores_coefficients_ols.csv'\n",
    "\n",
    "df_ols = pd.read_csv(path_to_file)\n",
    "print(df_ols.shape)\n",
    "\n",
    "df_ols.head(2)"
   ]
  },
  {
   "cell_type": "code",
   "execution_count": null,
   "id": "0acaa4dc",
   "metadata": {},
   "outputs": [],
   "source": []
  },
  {
   "cell_type": "code",
   "execution_count": null,
   "id": "f602c29f",
   "metadata": {},
   "outputs": [],
   "source": [
    "# Per cell:\n",
    "# Day Anomaly ~ Temperature Anomaly"
   ]
  },
  {
   "cell_type": "code",
   "execution_count": null,
   "id": "39fe0780",
   "metadata": {},
   "outputs": [],
   "source": [
    "path_to_file = 'states_21basic/aerial_insectivores_betas_day_anomaly_temp_anomaly_per_cell.csv'\n",
    "\n",
    "df_ols_anomalies_cell = pd.read_csv(path_to_file)\n",
    "print(df_ols_anomalies_cell.shape)\n",
    "\n",
    "df_ols_anomalies_cell.head(2)"
   ]
  },
  {
   "cell_type": "code",
   "execution_count": null,
   "id": "88e9b6e2",
   "metadata": {},
   "outputs": [],
   "source": [
    "df_ols_anomalies_cell = df_ols_anomalies_cell.rename(columns={'slope': 'slope_anomalies', \n",
    "                                                              'intercept': 'intercept_anomalies', \n",
    "                                                              'p_value': 'p_value_anomalies', \n",
    "                                                              'r_squared': 'r_squared_anomalies',})\n",
    "print(df_ols_anomalies_cell.shape)\n",
    "\n",
    "df_ols_anomalies_cell.head(2)"
   ]
  },
  {
   "cell_type": "code",
   "execution_count": null,
   "id": "c9f7f01c",
   "metadata": {},
   "outputs": [],
   "source": []
  },
  {
   "cell_type": "code",
   "execution_count": null,
   "id": "5f7b861f",
   "metadata": {},
   "outputs": [],
   "source": [
    "df = df_ols.merge(df_ols_anomalies_cell, on=['scientific_name', 'cell', 'lat', 'lon'])\n",
    "print(df.shape)\n",
    "\n",
    "df.head(2)"
   ]
  },
  {
   "cell_type": "code",
   "execution_count": null,
   "id": "6bb5bdfd",
   "metadata": {},
   "outputs": [],
   "source": [
    "fig, ax = plt.subplots(figsize=(6, 6))\n",
    "\n",
    "df.plot.scatter(x='slope', y='slope_anomalies', ax=ax)\n",
    "\n",
    "low_x, high_x = ax.get_xlim()\n",
    "# print(low_x, high_x)\n",
    "\n",
    "low_y, high_y = ax.get_ylim()\n",
    "# print(low_y, high_y)\n",
    "\n",
    "low = min(low_x, low_y)\n",
    "print(low)\n",
    "\n",
    "high = max(high_x, high_y)\n",
    "print(high)\n",
    "\n",
    "ax.set_xlim(low, high)\n",
    "ax.set_ylim(low, high)\n",
    "\n",
    "ax.plot([0, 1], [0, 1], linestyle='dashed', transform=ax.transAxes)\n",
    "\n",
    "plt.show()"
   ]
  },
  {
   "cell_type": "code",
   "execution_count": null,
   "id": "f6818bbf",
   "metadata": {},
   "outputs": [],
   "source": [
    "fig, ax = plt.subplots(figsize=(6, 6))\n",
    "\n",
    "df.plot.scatter(x='intercept', y='intercept_anomalies', ax=ax)\n",
    "\n",
    "low_x, high_x = ax.get_xlim()\n",
    "# print(low_x, high_x)\n",
    "\n",
    "low_y, high_y = ax.get_ylim()\n",
    "# print(low_y, high_y)\n",
    "\n",
    "low = min(low_x, low_y)\n",
    "print(low)\n",
    "\n",
    "high = max(high_x, high_y)\n",
    "print(high)\n",
    "\n",
    "ax.set_xlim(low, high)\n",
    "ax.set_ylim(low, high)\n",
    "\n",
    "ax.plot([0, 1], [0, 1], linestyle='dashed', transform=ax.transAxes)\n",
    "\n",
    "plt.show()"
   ]
  },
  {
   "cell_type": "code",
   "execution_count": null,
   "id": "b0658350",
   "metadata": {},
   "outputs": [],
   "source": []
  },
  {
   "cell_type": "code",
   "execution_count": null,
   "id": "44dd8f5b",
   "metadata": {},
   "outputs": [],
   "source": [
    "# Coefficients for each cell:\n",
    "# Day ~ Temperature + (Temperature | Cell)"
   ]
  },
  {
   "cell_type": "code",
   "execution_count": null,
   "id": "3c7d166d",
   "metadata": {},
   "outputs": [],
   "source": [
    "path_to_file = 'linear_mixed_modeling/mean_arrival_day_temperature/coefficients/coefficients_mean_arrival_day_temperature.csv'\n",
    "\n",
    "df_lmer = pd.read_csv(path_to_file)\n",
    "print(df_lmer.shape)\n",
    "\n",
    "df_lmer.head(2)"
   ]
  },
  {
   "cell_type": "code",
   "execution_count": null,
   "id": "1d3571b8",
   "metadata": {},
   "outputs": [],
   "source": [
    "df_lmer = df_lmer.rename(columns={'species': 'scientific_name', 'slope': 'slope_lmer', 'intercept': 'intercept_lmer'})\n",
    "\n",
    "df_lmer['scientific_name'] = df_lmer['scientific_name'].str.replace('_', ' ')\n",
    "\n",
    "print(df_lmer.shape)\n",
    "\n",
    "df_lmer.head(2)"
   ]
  },
  {
   "cell_type": "code",
   "execution_count": null,
   "id": "0cc93244",
   "metadata": {},
   "outputs": [],
   "source": []
  },
  {
   "cell_type": "code",
   "execution_count": null,
   "id": "465f9d2d",
   "metadata": {},
   "outputs": [],
   "source": [
    "df = df_ols.merge(df_lmer, on=['scientific_name', 'cell'])\n",
    "print(df.shape)\n",
    "\n",
    "df.head(2)"
   ]
  },
  {
   "cell_type": "code",
   "execution_count": null,
   "id": "4a6f2a58",
   "metadata": {},
   "outputs": [],
   "source": [
    "fig, ax = plt.subplots(figsize=(6, 6))\n",
    "\n",
    "df.plot.scatter(x='slope', y='slope_lmer', ax=ax)\n",
    "\n",
    "low_x, high_x = ax.get_xlim()\n",
    "# print(low_x, high_x)\n",
    "\n",
    "low_y, high_y = ax.get_ylim()\n",
    "# print(low_y, high_y)\n",
    "\n",
    "low = min(low_x, low_y)\n",
    "print(low)\n",
    "\n",
    "high = max(high_x, high_y)\n",
    "print(high)\n",
    "\n",
    "ax.set_xlim(low, high)\n",
    "ax.set_ylim(low, high)\n",
    "\n",
    "ax.plot([0, 1], [0, 1], linestyle='dashed', transform=ax.transAxes)\n",
    "\n",
    "plt.show()"
   ]
  },
  {
   "cell_type": "code",
   "execution_count": null,
   "id": "02a00b87",
   "metadata": {},
   "outputs": [],
   "source": [
    "fig, ax = plt.subplots(figsize=(6, 6))\n",
    "\n",
    "df.plot.scatter(x='intercept', y='intercept_lmer', ax=ax)\n",
    "\n",
    "low_x, high_x = ax.get_xlim()\n",
    "# print(low_x, high_x)\n",
    "\n",
    "low_y, high_y = ax.get_ylim()\n",
    "# print(low_y, high_y)\n",
    "\n",
    "low = min(low_x, low_y)\n",
    "print(low)\n",
    "\n",
    "high = max(high_x, high_y)\n",
    "print(high)\n",
    "\n",
    "ax.set_xlim(low, high)\n",
    "ax.set_ylim(low, high)\n",
    "\n",
    "ax.plot([0, 1], [0, 1], linestyle='dashed', transform=ax.transAxes)\n",
    "\n",
    "plt.show()"
   ]
  },
  {
   "cell_type": "code",
   "execution_count": null,
   "id": "b72ac46c",
   "metadata": {},
   "outputs": [],
   "source": []
  }
 ],
 "metadata": {
  "kernelspec": {
   "display_name": "Python 3 (ipykernel)",
   "language": "python",
   "name": "python3"
  },
  "language_info": {
   "codemirror_mode": {
    "name": "ipython",
    "version": 3
   },
   "file_extension": ".py",
   "mimetype": "text/x-python",
   "name": "python",
   "nbconvert_exporter": "python",
   "pygments_lexer": "ipython3",
   "version": "3.10.12"
  }
 },
 "nbformat": 4,
 "nbformat_minor": 5
}
