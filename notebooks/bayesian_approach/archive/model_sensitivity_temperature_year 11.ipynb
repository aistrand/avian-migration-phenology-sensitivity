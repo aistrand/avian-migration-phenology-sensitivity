{
 "cells": [
  {
   "cell_type": "code",
   "execution_count": 1,
   "id": "ef7cab47",
   "metadata": {},
   "outputs": [],
   "source": [
    "import os\n",
    "import pandas as pd\n",
    "import numpy as np\n",
    "import statsmodels.formula.api as smf\n",
    "import matplotlib.pyplot as plt\n",
    "from statsmodels.graphics.regressionplots import abline_plot\n",
    "import matplotlib\n",
    "import geopandas\n",
    "from scipy import stats\n",
    "import seaborn as sns\n",
    "import matplotlib.patches as mpl_patches\n",
    "import matplotlib as mpl"
   ]
  },
  {
   "cell_type": "code",
   "execution_count": 2,
   "id": "d8b5477e",
   "metadata": {},
   "outputs": [
    {
     "data": {
      "text/plain": [
       "'medium'"
      ]
     },
     "execution_count": 2,
     "metadata": {},
     "output_type": "execute_result"
    }
   ],
   "source": [
    "mpl.rcParams['axes.labelsize']"
   ]
  },
  {
   "cell_type": "code",
   "execution_count": 3,
   "id": "aeb8a8ec",
   "metadata": {},
   "outputs": [],
   "source": [
    "pd.options.display.max_columns = 100"
   ]
  },
  {
   "cell_type": "code",
   "execution_count": 4,
   "id": "9124397a",
   "metadata": {},
   "outputs": [
    {
     "data": {
      "text/plain": [
       "'/Users/alvastrand/Library/Mobile Documents/com~apple~CloudDocs/Documents/OU/Research/notebooks/Casey'"
      ]
     },
     "execution_count": 4,
     "metadata": {},
     "output_type": "execute_result"
    }
   ],
   "source": [
    "os.getcwd()"
   ]
  },
  {
   "cell_type": "code",
   "execution_count": null,
   "id": "2314d76e",
   "metadata": {},
   "outputs": [],
   "source": []
  },
  {
   "cell_type": "code",
   "execution_count": 5,
   "id": "88e0c50a",
   "metadata": {},
   "outputs": [],
   "source": [
    "# Per species:\n",
    "# Day ~ Temperature + (Temperature | Cell)"
   ]
  },
  {
   "cell_type": "code",
   "execution_count": 6,
   "id": "f386ca69",
   "metadata": {},
   "outputs": [],
   "source": [
    "path = '/Users/alvastrand/Downloads/linear_mixed_modeling/mean_arrival_day_temperature/coefficients/'\n",
    "\n",
    "os.chdir(path)"
   ]
  },
  {
   "cell_type": "code",
   "execution_count": 7,
   "id": "3ebccbed",
   "metadata": {},
   "outputs": [
    {
     "data": {
      "text/plain": [
       "'/Users/alvastrand/Downloads/linear_mixed_modeling/mean_arrival_day_temperature/coefficients'"
      ]
     },
     "execution_count": 7,
     "metadata": {},
     "output_type": "execute_result"
    }
   ],
   "source": [
    "os.getcwd()"
   ]
  },
  {
   "cell_type": "code",
   "execution_count": 8,
   "id": "e0ca5cce",
   "metadata": {},
   "outputs": [
    {
     "name": "stdout",
     "output_type": "stream",
     "text": [
      "(450, 4)\n"
     ]
    },
    {
     "data": {
      "text/html": [
       "<div>\n",
       "<style scoped>\n",
       "    .dataframe tbody tr th:only-of-type {\n",
       "        vertical-align: middle;\n",
       "    }\n",
       "\n",
       "    .dataframe tbody tr th {\n",
       "        vertical-align: top;\n",
       "    }\n",
       "\n",
       "    .dataframe thead th {\n",
       "        text-align: right;\n",
       "    }\n",
       "</style>\n",
       "<table border=\"1\" class=\"dataframe\">\n",
       "  <thead>\n",
       "    <tr style=\"text-align: right;\">\n",
       "      <th></th>\n",
       "      <th>species</th>\n",
       "      <th>cell</th>\n",
       "      <th>slope</th>\n",
       "      <th>intercept</th>\n",
       "    </tr>\n",
       "  </thead>\n",
       "  <tbody>\n",
       "    <tr>\n",
       "      <th>0</th>\n",
       "      <td>Antrostomus_carolinensis</td>\n",
       "      <td>19</td>\n",
       "      <td>-1.749315</td>\n",
       "      <td>101.853281</td>\n",
       "    </tr>\n",
       "    <tr>\n",
       "      <th>1</th>\n",
       "      <td>Antrostomus_carolinensis</td>\n",
       "      <td>45</td>\n",
       "      <td>-0.959714</td>\n",
       "      <td>105.110310</td>\n",
       "    </tr>\n",
       "  </tbody>\n",
       "</table>\n",
       "</div>"
      ],
      "text/plain": [
       "                    species  cell     slope   intercept\n",
       "0  Antrostomus_carolinensis    19 -1.749315  101.853281\n",
       "1  Antrostomus_carolinensis    45 -0.959714  105.110310"
      ]
     },
     "execution_count": 8,
     "metadata": {},
     "output_type": "execute_result"
    }
   ],
   "source": [
    "filename = 'coefficients_mean_arrival_day_temperature.csv'\n",
    "\n",
    "df_coeffs_lmer = pd.read_csv(filename)\n",
    "print(df_coeffs_lmer.shape)\n",
    "\n",
    "df_coeffs_lmer.head(2)"
   ]
  },
  {
   "cell_type": "code",
   "execution_count": null,
   "id": "32019466",
   "metadata": {},
   "outputs": [],
   "source": []
  },
  {
   "cell_type": "code",
   "execution_count": null,
   "id": "dc26e66d",
   "metadata": {},
   "outputs": [],
   "source": [
    "os.getcwd()"
   ]
  },
  {
   "cell_type": "code",
   "execution_count": null,
   "id": "cd120888",
   "metadata": {},
   "outputs": [],
   "source": [
    "path = '/Users/alvastrand/Library/Mobile Documents/com~apple~CloudDocs/Documents/OU/Research/data/output/'\n",
    "\n",
    "os.chdir(path)"
   ]
  },
  {
   "cell_type": "code",
   "execution_count": null,
   "id": "9b9e536d",
   "metadata": {},
   "outputs": [],
   "source": [
    "os.getcwd()"
   ]
  },
  {
   "cell_type": "code",
   "execution_count": null,
   "id": "9f977a58",
   "metadata": {},
   "outputs": [],
   "source": [
    "filename = 'aerial_insectivores_migration_distances_mean_weighted_body_masses.csv'\n",
    "\n",
    "df_common_names = pd.read_csv(filename)\n",
    "print(df_common_names.shape)\n",
    "\n",
    "df_common_names.head(2)"
   ]
  },
  {
   "cell_type": "code",
   "execution_count": null,
   "id": "66ab6859",
   "metadata": {},
   "outputs": [],
   "source": [
    "df_common_names = df_common_names[['scientific_name', 'common_name']]\n",
    "print(df_common_names.shape)\n",
    "\n",
    "df_common_names.head(2)"
   ]
  },
  {
   "cell_type": "code",
   "execution_count": null,
   "id": "18797621",
   "metadata": {},
   "outputs": [],
   "source": []
  },
  {
   "cell_type": "code",
   "execution_count": null,
   "id": "ecbb414d",
   "metadata": {},
   "outputs": [],
   "source": []
  },
  {
   "cell_type": "code",
   "execution_count": null,
   "id": "7ba534a6",
   "metadata": {},
   "outputs": [],
   "source": [
    "# Per cell:\n",
    "# Temperature ~ Year"
   ]
  },
  {
   "cell_type": "code",
   "execution_count": null,
   "id": "fd57f60c",
   "metadata": {},
   "outputs": [],
   "source": [
    "path = '/Users/alvastrand/Library/Mobile Documents/com~apple~CloudDocs/Documents/OU/Research/data/output/'\n",
    "\n",
    "os.chdir(path)"
   ]
  },
  {
   "cell_type": "code",
   "execution_count": null,
   "id": "0739ea65",
   "metadata": {},
   "outputs": [],
   "source": [
    "os.getcwd()"
   ]
  },
  {
   "cell_type": "code",
   "execution_count": null,
   "id": "b993d651",
   "metadata": {},
   "outputs": [],
   "source": [
    "filename = 'betas_temperature_year_ols.csv'\n",
    "\n",
    "df_temp_change = pd.read_csv(filename)\n",
    "print(df_temp_change.shape)\n",
    "\n",
    "df_temp_change.head(2)"
   ]
  },
  {
   "cell_type": "code",
   "execution_count": null,
   "id": "1c784b03",
   "metadata": {},
   "outputs": [],
   "source": []
  },
  {
   "cell_type": "code",
   "execution_count": null,
   "id": "0c6f3df7",
   "metadata": {},
   "outputs": [],
   "source": [
    "# Per cell:\n",
    "# Temperature ~ Year\n",
    "# Range of years"
   ]
  },
  {
   "cell_type": "code",
   "execution_count": null,
   "id": "346e2c2d",
   "metadata": {},
   "outputs": [],
   "source": [
    "path = '/Users/alvastrand/Downloads/states_21basic/'\n",
    "\n",
    "os.chdir(path)"
   ]
  },
  {
   "cell_type": "code",
   "execution_count": null,
   "id": "fc6501a3",
   "metadata": {},
   "outputs": [],
   "source": [
    "os.getcwd()"
   ]
  },
  {
   "cell_type": "code",
   "execution_count": null,
   "id": "2d6c1382",
   "metadata": {},
   "outputs": [],
   "source": [
    "filename = 'aerial_insectivores_betas_temperature_year_years_ols.csv'\n",
    "\n",
    "df_temp_change_years = pd.read_csv(filename)\n",
    "print(df_temp_change_years.shape)\n",
    "\n",
    "df_temp_change_years.head(2)"
   ]
  },
  {
   "cell_type": "code",
   "execution_count": null,
   "id": "9c2694c8",
   "metadata": {},
   "outputs": [],
   "source": []
  },
  {
   "cell_type": "code",
   "execution_count": null,
   "id": "b84fddaf",
   "metadata": {},
   "outputs": [],
   "source": [
    "# Per species:\n",
    "# Temperature ~ Year + (Year | Cell)\n",
    "# Range of years?"
   ]
  },
  {
   "cell_type": "code",
   "execution_count": null,
   "id": "dadc9c77",
   "metadata": {},
   "outputs": [],
   "source": [
    "path = '/Users/alvastrand/Downloads/linear_mixed_modeling/temperature_year/coefficients/'\n",
    "\n",
    "os.chdir(path)"
   ]
  },
  {
   "cell_type": "code",
   "execution_count": null,
   "id": "dfb1171f",
   "metadata": {},
   "outputs": [],
   "source": [
    "os.getcwd()"
   ]
  },
  {
   "cell_type": "code",
   "execution_count": null,
   "id": "73dd9378",
   "metadata": {},
   "outputs": [],
   "source": [
    "filename = 'coefficients_temperature_year.csv'\n",
    "\n",
    "df_temp_change_lmer = pd.read_csv(filename)\n",
    "\n",
    "print(df_temp_change_lmer.shape)\n",
    "\n",
    "df_temp_change_lmer.head(2)"
   ]
  },
  {
   "cell_type": "code",
   "execution_count": null,
   "id": "73b33ed0",
   "metadata": {},
   "outputs": [],
   "source": [
    "df_temp_change_lmer = df_temp_change_lmer.rename(columns={'slope': 'slope_temp_change_lmer', \n",
    "                                                     'intercept': 'intercept_temp_change_lmer'})\n",
    "print(df_temp_change_lmer.shape)\n",
    "\n",
    "df_temp_change_lmer.head(2)"
   ]
  },
  {
   "cell_type": "code",
   "execution_count": null,
   "id": "b0eddf24",
   "metadata": {},
   "outputs": [],
   "source": []
  },
  {
   "cell_type": "code",
   "execution_count": null,
   "id": "089a73c2",
   "metadata": {},
   "outputs": [],
   "source": [
    "df_comparison = df_temp_change.merge(df_temp_change_lmer, on='cell')\n",
    "print(df_comparison.shape)\n",
    "\n",
    "df_comparison.head(2)"
   ]
  },
  {
   "cell_type": "code",
   "execution_count": null,
   "id": "be9eb92c",
   "metadata": {},
   "outputs": [],
   "source": [
    "fig, ax = plt.subplots(figsize=(6, 6))\n",
    "\n",
    "df_comparison.plot.scatter(x='slope_temp_change_all_years', y='slope_temp_change_lmer', ax=ax)\n",
    "\n",
    "low_x, high_x = ax.get_xlim()\n",
    "# print(low_x, high_x)\n",
    "\n",
    "low_y, high_y = ax.get_ylim()\n",
    "# print(low_y, high_y)\n",
    "\n",
    "low = min(low_x, low_y)\n",
    "print(low)\n",
    "\n",
    "high = max(high_x, high_y)\n",
    "print(high)\n",
    "\n",
    "ax.set_xlim(low, high)\n",
    "ax.set_ylim(low, high)\n",
    "\n",
    "ax.plot([0, 1], [0, 1], linestyle='dashed', transform=ax.transAxes)\n",
    "\n",
    "plt.show()"
   ]
  },
  {
   "cell_type": "code",
   "execution_count": null,
   "id": "295f7842",
   "metadata": {},
   "outputs": [],
   "source": [
    "fig, ax = plt.subplots(figsize=(6, 6))\n",
    "\n",
    "df_comparison.plot.scatter(x='intercept_temp_change_all_years', y='intercept_temp_change_lmer', ax=ax)\n",
    "\n",
    "low_x, high_x = ax.get_xlim()\n",
    "# print(low_x, high_x)\n",
    "\n",
    "low_y, high_y = ax.get_ylim()\n",
    "# print(low_y, high_y)\n",
    "\n",
    "low = min(low_x, low_y)\n",
    "print(low)\n",
    "\n",
    "high = max(high_x, high_y)\n",
    "print(high)\n",
    "\n",
    "ax.set_xlim(low, high)\n",
    "ax.set_ylim(low, high)\n",
    "\n",
    "ax.plot([0, 1], [0, 1], linestyle='dashed', transform=ax.transAxes)\n",
    "\n",
    "plt.show()"
   ]
  },
  {
   "cell_type": "code",
   "execution_count": null,
   "id": "a603fb85",
   "metadata": {},
   "outputs": [],
   "source": []
  },
  {
   "cell_type": "code",
   "execution_count": null,
   "id": "cd295992",
   "metadata": {},
   "outputs": [],
   "source": [
    "df_sens_temp_change = df_coeffs_lmer.merge(df_temp_change, on='cell')\n",
    "print(df_sens_temp_change.shape)\n",
    "\n",
    "df_sens_temp_change.head(2)"
   ]
  },
  {
   "cell_type": "code",
   "execution_count": null,
   "id": "de11a2cd",
   "metadata": {},
   "outputs": [],
   "source": [
    "df_sens_temp_change = df_sens_temp_change.rename(columns={'species': 'scientific_name'})\n",
    "\n",
    "df_sens_temp_change['scientific_name'] = df_sens_temp_change['scientific_name'].str.replace('_', ' ')\n",
    "\n",
    "print(df_sens_temp_change.shape)\n",
    "\n",
    "df_sens_temp_change.head(2)"
   ]
  },
  {
   "cell_type": "code",
   "execution_count": null,
   "id": "521a577b",
   "metadata": {},
   "outputs": [],
   "source": [
    "df_sens_temp_change = df_sens_temp_change.merge(df_common_names, on='scientific_name')\n",
    "print(df_sens_temp_change.shape)\n",
    "\n",
    "df_sens_temp_change.head(2)"
   ]
  },
  {
   "cell_type": "code",
   "execution_count": null,
   "id": "d80ffd18",
   "metadata": {},
   "outputs": [],
   "source": []
  },
  {
   "cell_type": "code",
   "execution_count": null,
   "id": "a1cb8bc1",
   "metadata": {},
   "outputs": [],
   "source": [
    "df_sens_temp_change_years = df_coeffs_lmer.merge(df_temp_change_years, on=['species', 'cell'])\n",
    "print(df_sens_temp_change_years.shape)\n",
    "\n",
    "df_sens_temp_change_years.head(2)"
   ]
  },
  {
   "cell_type": "code",
   "execution_count": null,
   "id": "6fbf2eab",
   "metadata": {},
   "outputs": [],
   "source": [
    "df_sens_temp_change_years = df_sens_temp_change_years.rename(columns={'species': 'scientific_name'})\n",
    "\n",
    "df_sens_temp_change_years['scientific_name'] = df_sens_temp_change_years['scientific_name'].str.replace('_', ' ')\n",
    "\n",
    "print(df_sens_temp_change_years.shape)\n",
    "\n",
    "df_sens_temp_change_years.head(2)"
   ]
  },
  {
   "cell_type": "code",
   "execution_count": null,
   "id": "e0ddcdd6",
   "metadata": {},
   "outputs": [],
   "source": [
    "df_sens_temp_change_years = df_sens_temp_change_years.merge(df_common_names, on='scientific_name')\n",
    "print(df_sens_temp_change_years.shape)\n",
    "\n",
    "df_sens_temp_change_years.head(2)"
   ]
  },
  {
   "cell_type": "code",
   "execution_count": null,
   "id": "2c69aaa5",
   "metadata": {},
   "outputs": [],
   "source": []
  },
  {
   "cell_type": "code",
   "execution_count": null,
   "id": "f57a5d14",
   "metadata": {},
   "outputs": [],
   "source": [
    "df_temp_change_lmer.head(2)"
   ]
  },
  {
   "cell_type": "code",
   "execution_count": null,
   "id": "44860718",
   "metadata": {},
   "outputs": [],
   "source": [
    "df_sens_temp_change_lmer = df_coeffs_lmer.merge(df_temp_change_lmer, on='cell')\n",
    "print(df_sens_temp_change_lmer.shape)\n",
    "\n",
    "df_sens_temp_change_lmer.head(2)"
   ]
  },
  {
   "cell_type": "code",
   "execution_count": null,
   "id": "712c0862",
   "metadata": {},
   "outputs": [],
   "source": [
    "df_sens_temp_change_lmer = df_sens_temp_change_lmer.rename(columns={'species': 'scientific_name'})\n",
    "\n",
    "df_sens_temp_change_lmer['scientific_name'] = df_sens_temp_change_lmer['scientific_name'].str.replace('_', ' ')\n",
    "\n",
    "print(df_sens_temp_change_lmer.shape)\n",
    "\n",
    "df_sens_temp_change_lmer.head(2)"
   ]
  },
  {
   "cell_type": "code",
   "execution_count": null,
   "id": "604b1543",
   "metadata": {},
   "outputs": [],
   "source": [
    "df_sens_temp_change_lmer = df_sens_temp_change_lmer.merge(df_common_names, on='scientific_name')\n",
    "print(df_sens_temp_change_lmer.shape)\n",
    "\n",
    "df_sens_temp_change_lmer.head(2)"
   ]
  },
  {
   "cell_type": "code",
   "execution_count": null,
   "id": "841b798c",
   "metadata": {},
   "outputs": [],
   "source": []
  },
  {
   "cell_type": "code",
   "execution_count": null,
   "id": "a9467d49",
   "metadata": {},
   "outputs": [],
   "source": [
    "list_species_names = list(sorted(df_sens_temp_change['scientific_name'].unique()))\n",
    "print(len(list_species_names))\n",
    "print(list_species_names)"
   ]
  },
  {
   "cell_type": "code",
   "execution_count": null,
   "id": "06e4a42c",
   "metadata": {},
   "outputs": [],
   "source": []
  },
  {
   "cell_type": "code",
   "execution_count": null,
   "id": "2e01e317",
   "metadata": {},
   "outputs": [],
   "source": [
    "def run_ols_regression(df, predictor_variable, column_name, species, left_xlim, right_xlim, left_ylim, right_ylim):\n",
    "    \n",
    "    common_name = df['common_name'].unique()[0]\n",
    "\n",
    "    model_ols = smf.ols(formula=column_name + ' ~ ' + predictor_variable, data=df)\n",
    "\n",
    "    res_ols = model_ols.fit()\n",
    "    \n",
    "    print(res_ols.summary())\n",
    "    \n",
    "    slope = res_ols.params[1]\n",
    "#     print(slope)\n",
    "\n",
    "    standard_error = res_ols.bse.iloc[1]\n",
    "    \n",
    "    intercept = res_ols.params[0]\n",
    "#     print(intercept)\n",
    "\n",
    "    r_squared = res_ols.rsquared\n",
    "#     print(r_squared)\n",
    "\n",
    "    p_value = res_ols.pvalues[1]\n",
    "#     print(p_value)\n",
    "    \n",
    "    conf_int = [res_ols.conf_int().iloc[1].iloc[0], res_ols.conf_int().iloc[1].iloc[1]]\n",
    "    \n",
    "    lower_conf_int = conf_int[0]\n",
    "    \n",
    "    upper_conf_int = conf_int[1]\n",
    "    \n",
    "    g = sns.lmplot(data=df, x=predictor_variable, y=column_name)\n",
    "    \n",
    "#     line_kws={'label':\"y={0:.1f}x+{1:.1f}\".format(slope, intercept)}\n",
    "        \n",
    "    for ax in g.axes.flat:\n",
    "        \n",
    "        print(ax.get_xlim())\n",
    "        print(ax.get_ylim())\n",
    "        \n",
    "#     g.set(ylim=(left_ylim, right_ylim))\n",
    "        \n",
    "    g.set(xlim=(left_xlim, right_xlim), ylim=(left_ylim, right_ylim))\n",
    "    \n",
    "    for ax in g.axes.flat:\n",
    "        \n",
    "        print(ax.get_xlim())\n",
    "        print(ax.get_ylim())\n",
    "        \n",
    "    plt.axhline(y=0, color='0.8', linestyle='--')\n",
    "    \n",
    "    handles = [mpl_patches.Rectangle((0, 0), 1, 1, fc=\"white\", ec=\"white\", \n",
    "                                 lw=0, alpha=0)] * 3\n",
    "    \n",
    "    labels = []\n",
    "    \n",
    "    labels.append('beta = {0:.3g} \\u00B1 {1:.3g}'.format(slope, standard_error))\n",
    "    \n",
    "    if p_value < 0.001:\n",
    "        labels.append(\"P < 0.001\")\n",
    "    else:\n",
    "        labels.append(\"P = {0:.3g}\".format(p_value))\n",
    "        \n",
    "    labels.append(\"R^2 = {0:.3g}\".format(r_squared))\n",
    "    \n",
    "    plt.legend(handles, labels, loc='best', \n",
    "          fancybox=True, framealpha=0.7, \n",
    "          handlelength=0, handletextpad=0)\n",
    "        \n",
    "#     fontsize\n",
    "                \n",
    "    plt.xlabel('Air temperature change over time (°C/year)')\n",
    "    \n",
    "    plt.ylabel('Sensitivity (Julian days/°C)')\n",
    "    \n",
    "#     plt.title(common_name)\n",
    "    \n",
    "#     plt.show()\n",
    "\n",
    "    print(g.figure.get_size_inches())\n",
    "    \n",
    "    plt.savefig('/Users/alvastrand/Downloads/AOS_2023/Figures/sensitivity_temperature_year/' + common_name + '.pdf', \n",
    "                bbox_inches='tight')\n",
    "    \n",
    "    return common_name, slope, p_value, lower_conf_int, upper_conf_int"
   ]
  },
  {
   "cell_type": "code",
   "execution_count": null,
   "id": "a827a143",
   "metadata": {},
   "outputs": [],
   "source": [
    "def test_function(df, predictor_variable, column_name, species, left_xlim, right_xlim, left_ylim, right_ylim):\n",
    "    \n",
    "    common_name = df['common_name'].unique()[0]\n",
    "\n",
    "    model_ols = smf.ols(formula=column_name + ' ~ ' + predictor_variable, data=df)\n",
    "\n",
    "    res_ols = model_ols.fit()\n",
    "    \n",
    "    print(res_ols.summary())\n",
    "    \n",
    "    slope = res_ols.params[1]\n",
    "#     print(slope)\n",
    "\n",
    "    standard_error = res_ols.bse.iloc[1]\n",
    "    \n",
    "    intercept = res_ols.params[0]\n",
    "#     print(intercept)\n",
    "\n",
    "    r_squared = res_ols.rsquared\n",
    "#     print(r_squared)\n",
    "\n",
    "    p_value = res_ols.pvalues[1]\n",
    "#     print(p_value)\n",
    "    \n",
    "    conf_int = [res_ols.conf_int().iloc[1].iloc[0], res_ols.conf_int().iloc[1].iloc[1]]\n",
    "    \n",
    "    lower_conf_int = conf_int[0]\n",
    "    \n",
    "    upper_conf_int = conf_int[1]\n",
    "    \n",
    "    fig, ax = plt.subplots(figsize=(4.76*1.5, 4.76))\n",
    "    \n",
    "    plt.subplots_adjust(right=0.8)\n",
    "    \n",
    "    sns.regplot(data=df, x=predictor_variable, y=column_name, ax=ax)\n",
    "    \n",
    "    plt.tick_params(labelsize=16)\n",
    "    \n",
    "#     line_kws={'label':\"y={0:.1f}x+{1:.1f}\".format(slope, intercept)}\n",
    "        \n",
    "#     for ax in g.axes.flat:\n",
    "        \n",
    "#         print(ax.get_xlim())\n",
    "#         print(ax.get_ylim())\n",
    "    \n",
    "    ax.set_xlim(left_xlim, right_xlim)\n",
    "    ax.set_ylim(left_ylim, right_ylim)\n",
    "    \n",
    "#     for ax in g.axes.flat:\n",
    "        \n",
    "#         print(ax.get_xlim())\n",
    "#         print(ax.get_ylim())\n",
    "        \n",
    "    plt.axhline(y=0, color='0.8', linestyle='--')\n",
    "    \n",
    "    plt.axvline(x=0, color='0.8', linestyle='--')\n",
    "    \n",
    "    handles = [mpl_patches.Rectangle((0, 0), 1, 1, fc=\"white\", ec=\"white\", \n",
    "                                 lw=0, alpha=0)] * 3\n",
    "    \n",
    "    labels = []\n",
    "    \n",
    "    labels.append('$\\u03B2$ = {0:.3g} \\u00B1 {1:.3g}'.format(slope, standard_error))\n",
    "    \n",
    "    if p_value < 0.001:\n",
    "        labels.append(\"$P$ < 0.001\")\n",
    "    else:\n",
    "        labels.append(\"$P$ = {0:.3g}\".format(p_value))\n",
    "        \n",
    "    labels.append(\"$R^2$ = {0:.3g}\".format(r_squared))\n",
    "    \n",
    "    plt.legend(handles, labels, loc='best', \n",
    "          fancybox=True, framealpha=0.8, \n",
    "          handlelength=0, handletextpad=0, fontsize=16)\n",
    "        \n",
    "#     fontsize\n",
    "\n",
    "    plt.xticks([-0.05, 0, 0.05])\n",
    "                \n",
    "    plt.xlabel('Air temperature change over time (°C/year)', fontsize=16)\n",
    "    \n",
    "    plt.ylabel('Sensitivity (Julian days/°C)', fontsize=16)\n",
    "    \n",
    "    plt.title(common_name, fontsize=18)\n",
    "    \n",
    "#     plt.tight_layout()\n",
    "    \n",
    "    plt.show()\n",
    "    \n",
    "#     print(g.figure.get_size_inches())\n",
    "    \n",
    "    plt.savefig('/Users/alvastrand/Downloads/AOS_2023/Figures/sensitivity_temperature_year/' + common_name + '_test' + '.pdf', \n",
    "                bbox_inches='tight')\n",
    "    \n",
    "#     plt.savefig('/Users/alvastrand/Downloads/AOS_2023/Figures/sensitivity_temperature_year/' + common_name + '_test' + '.svg', \n",
    "#                 bbox_inches='tight')\n",
    "    \n",
    "    return common_name, slope, p_value, r_squared, lower_conf_int, upper_conf_int"
   ]
  },
  {
   "cell_type": "code",
   "execution_count": null,
   "id": "20ef54ef",
   "metadata": {},
   "outputs": [],
   "source": [
    "# for species in list_species_names:\n",
    "    \n",
    "#     print(species)\n",
    "    \n",
    "#     left_ylim = df_sens_temp_change['slope'].min()\n",
    "# #     print(left_ylim)\n",
    "\n",
    "#     right_ylim = df_sens_temp_change['slope'].max()\n",
    "# #     print(right_ylim)\n",
    "    \n",
    "#     df_species = df_sens_temp_change[df_sens_temp_change['scientific_name'] == species]\n",
    "    \n",
    "#     predictor_variable = 'slope_temp_change_all_years'\n",
    "\n",
    "#     column_name = 'slope'\n",
    "\n",
    "#     run_ols_regression(df_species, predictor_variable, column_name, species, left_ylim, right_ylim)"
   ]
  },
  {
   "cell_type": "code",
   "execution_count": null,
   "id": "6be8ed57",
   "metadata": {},
   "outputs": [],
   "source": [
    "left_ylim = df_sens_temp_change_lmer['slope'].min()\n",
    "print(left_ylim)\n",
    "\n",
    "right_ylim = df_sens_temp_change_lmer['slope'].max()\n",
    "print(right_ylim)\n",
    "\n",
    "left_xlim = df_sens_temp_change_lmer['slope_temp_change_lmer'].min()\n",
    "print(left_xlim)\n",
    "\n",
    "right_xlim = df_sens_temp_change_lmer['slope_temp_change_lmer'].max()\n",
    "print(right_xlim)"
   ]
  },
  {
   "cell_type": "code",
   "execution_count": null,
   "id": "d9611a2e",
   "metadata": {},
   "outputs": [],
   "source": [
    "# list_common_names = []\n",
    "# list_slopes = []\n",
    "# list_p_values = []\n",
    "# list_lower_conf_ints = []\n",
    "# list_upper_conf_ints = []\n",
    "\n",
    "# for species in list_species_names:\n",
    "    \n",
    "#     print(species)\n",
    "    \n",
    "#     df_species = df_sens_temp_change_lmer[df_sens_temp_change_lmer['scientific_name'] == species]\n",
    "    \n",
    "# #     print(df_species['slope'].min())\n",
    "# #     print(df_species['slope'].max())\n",
    "    \n",
    "#     print(df_species['slope_temp_change_lmer'].min())\n",
    "#     print(df_species['slope_temp_change_lmer'].max())\n",
    "    \n",
    "#     # Tree Swallow\n",
    "#     left_xlim = 0.023949626088802505\n",
    "    \n",
    "#     # Barn Swallow\n",
    "#     right_xlim = 0.03820387900887928\n",
    "    \n",
    "#     # Space?\n",
    "    \n",
    "#     left_ylim = -2.343200965850084\n",
    "#     right_ylim = 1.2239472945261858\n",
    "\n",
    "#     predictor_variable = 'slope_temp_change_lmer'\n",
    "\n",
    "#     column_name = 'slope'\n",
    "\n",
    "#     common_name, slope, p_value, lower_conf_int, upper_conf_int = run_ols_regression(df_species, \n",
    "#                                                                                      predictor_variable, \n",
    "#                                                                                      column_name, \n",
    "#                                                                                      species, \n",
    "#                                                                                      left_xlim, \n",
    "#                                                                                      right_xlim, \n",
    "#                                                                                      left_ylim, \n",
    "#                                                                                      right_ylim)\n",
    "    \n",
    "#     list_common_names.append(common_name)\n",
    "#     list_slopes.append(slope)\n",
    "#     list_p_values.append(p_value)\n",
    "#     list_lower_conf_ints.append(lower_conf_int)\n",
    "#     list_upper_conf_ints.append(upper_conf_int)"
   ]
  },
  {
   "cell_type": "code",
   "execution_count": null,
   "id": "a0015c21",
   "metadata": {},
   "outputs": [],
   "source": []
  },
  {
   "cell_type": "code",
   "execution_count": null,
   "id": "7f6c65df",
   "metadata": {},
   "outputs": [],
   "source": [
    "# list_common_names = []\n",
    "# list_slopes = []\n",
    "# list_p_values = []\n",
    "# list_r_squared = []\n",
    "# list_lower_conf_ints = []\n",
    "# list_upper_conf_ints = []\n",
    "\n",
    "# for species in list_species_names:\n",
    "    \n",
    "#     print(species)\n",
    "    \n",
    "#     df_species = df_sens_temp_change_lmer[df_sens_temp_change_lmer['scientific_name'] == species]\n",
    "    \n",
    "# #     print(df_species['slope'].min())\n",
    "# #     print(df_species['slope'].max())\n",
    "    \n",
    "#     print(df_species['slope_temp_change_lmer'].min())\n",
    "#     print(df_species['slope_temp_change_lmer'].max())\n",
    "    \n",
    "#     # Tree Swallow\n",
    "#     left_xlim = 0.023949626088802505\n",
    "    \n",
    "#     # Barn Swallow\n",
    "#     right_xlim = 0.03820387900887928\n",
    "    \n",
    "#     # Space?\n",
    "    \n",
    "#     left_ylim = -2.343200965850084\n",
    "#     right_ylim = 1.2239472945261858\n",
    "\n",
    "#     predictor_variable = 'slope_temp_change_lmer'\n",
    "\n",
    "#     column_name = 'slope'\n",
    "\n",
    "#     common_name, slope, p_value, r_squared, lower_conf_int, upper_conf_int = test_function(df_species, \n",
    "#                                                                                      predictor_variable, \n",
    "#                                                                                      column_name, \n",
    "#                                                                                      species, \n",
    "#                                                                                      left_xlim, \n",
    "#                                                                                      right_xlim, \n",
    "#                                                                                      left_ylim, \n",
    "#                                                                                      right_ylim)\n",
    "    \n",
    "#     list_common_names.append(common_name)\n",
    "#     list_slopes.append(slope)\n",
    "#     list_p_values.append(p_value)\n",
    "#     list_r_squared.append(r_squared)\n",
    "#     list_lower_conf_ints.append(lower_conf_int)\n",
    "#     list_upper_conf_ints.append(upper_conf_int)"
   ]
  },
  {
   "cell_type": "code",
   "execution_count": null,
   "id": "64c54048",
   "metadata": {},
   "outputs": [],
   "source": []
  },
  {
   "cell_type": "code",
   "execution_count": null,
   "id": "0df818f9",
   "metadata": {},
   "outputs": [],
   "source": [
    "list_common_names = []\n",
    "list_slopes = []\n",
    "list_p_values = []\n",
    "list_r_squared = []\n",
    "list_lower_conf_ints = []\n",
    "list_upper_conf_ints = []\n",
    "\n",
    "for species in list_species_names:\n",
    "    \n",
    "    print(species)\n",
    "    \n",
    "    df_species = df_sens_temp_change[df_sens_temp_change['scientific_name'] == species]\n",
    "    \n",
    "    print(df_species['slope'].min())\n",
    "    print(df_species['slope'].max())\n",
    "    \n",
    "    print(df_species['slope_temp_change_all_years'].min())\n",
    "    print(df_species['slope_temp_change_all_years'].max())\n",
    "\n",
    "    left_xlim = df_sens_temp_change['slope_temp_change_all_years'].min()\n",
    "    print(left_xlim)\n",
    "\n",
    "    right_xlim = df_sens_temp_change['slope_temp_change_all_years'].max()\n",
    "    print(right_xlim)\n",
    "    \n",
    "    left_ylim = df_sens_temp_change['slope'].min()\n",
    "    print(left_ylim)\n",
    "\n",
    "    right_ylim = df_sens_temp_change['slope'].max()\n",
    "    print(right_ylim)\n",
    "\n",
    "    predictor_variable = 'slope_temp_change_all_years'\n",
    "\n",
    "    column_name = 'slope'\n",
    "\n",
    "    common_name, slope, p_value, r_squared, lower_conf_int, upper_conf_int = test_function(df_species, \n",
    "                                                                                     predictor_variable, \n",
    "                                                                                     column_name, \n",
    "                                                                                     species, \n",
    "                                                                                     left_xlim, \n",
    "                                                                                     right_xlim, \n",
    "                                                                                     left_ylim, \n",
    "                                                                                     right_ylim)\n",
    "    \n",
    "    list_common_names.append(common_name)\n",
    "    list_slopes.append(slope)\n",
    "    list_p_values.append(p_value)\n",
    "    list_r_squared.append(r_squared)\n",
    "    list_lower_conf_ints.append(lower_conf_int)\n",
    "    list_upper_conf_ints.append(upper_conf_int)"
   ]
  },
  {
   "cell_type": "code",
   "execution_count": null,
   "id": "5e50e0e4",
   "metadata": {},
   "outputs": [],
   "source": [
    "df_betas_sens_temp = pd.DataFrame(data={'scientific_name': list_species_names, 'common_name': list_common_names, \n",
    "                                        'slope': list_slopes, 'p_value': list_p_values, 'r_squared': list_r_squared, \n",
    "                                        'lower_conf_int': list_lower_conf_ints, \n",
    "                                        'upper_conf_int': list_upper_conf_ints})\n",
    "print(df_betas_sens_temp.shape)\n",
    "\n",
    "df_betas_sens_temp"
   ]
  },
  {
   "cell_type": "code",
   "execution_count": null,
   "id": "a5174d78",
   "metadata": {},
   "outputs": [],
   "source": [
    "df_betas_sens_temp_sorted = df_betas_sens_temp.sort_values(by='slope')\n",
    "print(df_betas_sens_temp_sorted.shape)\n",
    "\n",
    "df_betas_sens_temp_sorted"
   ]
  },
  {
   "cell_type": "code",
   "execution_count": null,
   "id": "9c506161",
   "metadata": {},
   "outputs": [],
   "source": [
    "df_betas_sens_temp_sorted['rank'] = range(1, len(df_betas_sens_temp_sorted) + 1)\n",
    "print(df_betas_sens_temp_sorted.shape)\n",
    "\n",
    "df_betas_sens_temp_sorted"
   ]
  },
  {
   "cell_type": "code",
   "execution_count": null,
   "id": "7ef9d4a4",
   "metadata": {},
   "outputs": [],
   "source": [
    "df_betas_sens_temp = df_betas_sens_temp.merge(df_betas_sens_temp_sorted[['scientific_name', 'rank']], on='scientific_name')\n",
    "print(df_betas_sens_temp.shape)\n",
    "\n",
    "df_betas_sens_temp"
   ]
  },
  {
   "cell_type": "code",
   "execution_count": null,
   "id": "7ac69218",
   "metadata": {},
   "outputs": [],
   "source": [
    "df_betas_sens_temp.sort_values(by='r_squared')"
   ]
  },
  {
   "cell_type": "code",
   "execution_count": null,
   "id": "f361f325",
   "metadata": {},
   "outputs": [],
   "source": [
    "df_betas_sens_temp['species_code'] = ['CWWI', 'EWPW', 'CHSW', 'CONI', 'BARS', 'CLSW', 'PUMA', 'BANS', 'NRWS', 'TRES']\n",
    "print(df_betas_sens_temp.shape)\n",
    "\n",
    "df_betas_sens_temp"
   ]
  },
  {
   "cell_type": "code",
   "execution_count": null,
   "id": "3a1255a4",
   "metadata": {},
   "outputs": [],
   "source": [
    "df_betas_sens_temp['code_common_name'] = df_betas_sens_temp['species_code'] + ' (' + df_betas_sens_temp['common_name'] + ')' \n",
    "print(df_betas_sens_temp.shape)\n",
    "\n",
    "df_betas_sens_temp"
   ]
  },
  {
   "cell_type": "code",
   "execution_count": null,
   "id": "154f4645",
   "metadata": {},
   "outputs": [],
   "source": [
    "df_betas_sens_temp = df_betas_sens_temp.sort_values(by='common_name')\n",
    "print(df_betas_sens_temp.shape)\n",
    "\n",
    "df_betas_sens_temp"
   ]
  },
  {
   "cell_type": "code",
   "execution_count": null,
   "id": "08bc1954",
   "metadata": {},
   "outputs": [],
   "source": [
    "# sns.set(rc={'figure.figsize':(8.3325*2, 5)})\n",
    "\n",
    "predictor_variable = 'rank'\n",
    "\n",
    "column_name = 'slope'\n",
    "\n",
    "column_name_lower_conf_int = 'lower_conf_int'\n",
    "\n",
    "column_name_upper_conf_int = 'upper_conf_int'\n",
    "\n",
    "g = sns.lmplot(data=df_betas_sens_temp, x=predictor_variable, y=column_name, hue='code_common_name', fit_reg=False, \n",
    "                palette='colorblind', height=4.76, aspect=1.5)\n",
    "\n",
    "g.set(xlabel=None)\n",
    "\n",
    "g._legend.set_title('Code (Common name)')\n",
    "\n",
    "plt.setp(g._legend.get_title(), fontsize=18)\n",
    "\n",
    "# plt.setp(g._legend.get_texts(), fontsize=12)\n",
    "\n",
    "sns.move_legend(g, 'center right', bbox_to_anchor=(1.2, 0.5), fontsize=16, alignment='left')\n",
    "\n",
    "g.tick_params(bottom=False, labelbottom=False, labelsize=16)\n",
    "\n",
    "# plt.tick_params(labelsize=16)\n",
    "\n",
    "plt.axhline(y=0, color='0.8', linestyle='--')\n",
    "\n",
    "right = df_betas_sens_temp[column_name_upper_conf_int] - df_betas_sens_temp[column_name]\n",
    "\n",
    "plt.errorbar(x=df_betas_sens_temp[predictor_variable], y=df_betas_sens_temp[column_name], \n",
    "             yerr=[df_betas_sens_temp[column_name] - df_betas_sens_temp[column_name_lower_conf_int], right], \n",
    "             linestyle='', \n",
    "             ecolor=sns.color_palette('colorblind').as_hex())\n",
    "\n",
    "for i, code in enumerate(df_betas_sens_temp['species_code']):\n",
    "    plt.annotate(code, (df_betas_sens_temp['rank'].iloc[i], df_betas_sens_temp['upper_conf_int'].iloc[i]), \n",
    "                 ha='center', fontsize=12) #  + 0.4\n",
    "\n",
    "# plt.ylabel('Change\\nin\\nsensitivity\\nwith\\ntemperature\\nchange\\nover\\ntime', rotation=0, ha='right')\n",
    "\n",
    "g.set(ylabel=None)\n",
    "\n",
    "# plt.annotate('', xy=(-0.25, 0), xycoords='axes fraction', xytext=(-0.25, 1), \n",
    "#         arrowprops=dict(arrowstyle='<->', color=sns.color_palette('colorblind').as_hex()[3]))\n",
    "\n",
    "\n",
    "# plt.annotate('', xy=(4, 0), xycoords='axes points', xytext=(4, 20), \n",
    "#         arrowprops=dict(arrowstyle='<->', color=sns.color_palette('colorblind').as_hex()[3]))\n",
    "\n",
    "# ax.annotate('pixel offset from axes fraction',\n",
    "#             xy=(1, 0), xycoords='axes fraction',\n",
    "#             xytext=(-20, 20), textcoords='offset pixels',\n",
    "#             horizontalalignment='right',\n",
    "#             verticalalignment='bottom')\n",
    "\n",
    "\n",
    "# plt.annotate('More sensitive in warmer places', xy=(-0.25, 0), xycoords='axes fraction', \n",
    "#              xytext=(-0.25, -0.1), \n",
    "#              ha='left', color=sns.color_palette('colorblind').as_hex()[3], fontsize=18)\n",
    "\n",
    "# plt.annotate('Less sensitive in warmer places', xy=(-0.25, 1), xycoords='axes fraction', \n",
    "#              xytext=(-0.25, 1.1), ha='left', \n",
    "#              color=sns.color_palette('colorblind').as_hex()[3], fontsize=18)\n",
    "\n",
    "print(g.figure.get_size_inches())\n",
    "\n",
    "plt.savefig('/Users/alvastrand/Downloads/AOS_2023/Figures/sensitivity_temperature.pdf', bbox_inches='tight')"
   ]
  },
  {
   "cell_type": "code",
   "execution_count": null,
   "id": "e824434e",
   "metadata": {},
   "outputs": [],
   "source": []
  },
  {
   "cell_type": "code",
   "execution_count": null,
   "id": "8fcbb46d",
   "metadata": {},
   "outputs": [],
   "source": [
    "plt.plot([0, 1], [1, 0])\n",
    "plt.xticks([])\n",
    "plt.yticks([])\n",
    "plt.xlabel('Spring air temperature index (°C)', fontsize=15)\n",
    "plt.ylabel('Mean arrival day (Julian day)', fontsize=15)\n",
    "plt.text(0, -0.3, 'Lower', fontsize=15)\n",
    "# , bbox=dict(boxstyle='square'))\n",
    "plt.text(1, -0.3, 'Higher', horizontalalignment='right', fontsize=15)\n",
    "# , bbox=dict(boxstyle='square'))\n",
    "plt.text(-0.2, 0, 'Earlier', horizontalalignment='right', fontsize=15)\n",
    "plt.text(-0.2, 1, 'Later', horizontalalignment='right', fontsize=15)\n",
    "plt.show()"
   ]
  },
  {
   "cell_type": "code",
   "execution_count": null,
   "id": "9e7736e9",
   "metadata": {},
   "outputs": [],
   "source": [
    "line = plt.plot([0, 1], [-1, 1])\n",
    "line = line.pop(0)\n",
    "line.remove()\n",
    "plt.xticks([])\n",
    "plt.yticks([])\n",
    "plt.xlabel('Year', fontsize=20)\n",
    "plt.ylabel('Spring air temperature index (°C)', fontsize=15)\n",
    "plt.text(-0.3, 1, 'Higher', horizontalalignment='right', fontsize=15)\n",
    "plt.text(-0.3, -1, 'Lower', horizontalalignment='right', fontsize=15)\n",
    "plt.text(0, -1.3, 'Earlier', fontsize=15)\n",
    "plt.text(1, -1.3, 'Later', horizontalalignment='right', fontsize=15)\n",
    "plt.show()"
   ]
  },
  {
   "cell_type": "code",
   "execution_count": null,
   "id": "076254f2",
   "metadata": {},
   "outputs": [],
   "source": [
    "line = plt.plot([0, 1], [-1, 1])\n",
    "line = line.pop(0)\n",
    "line.remove()\n",
    "plt.xticks([])\n",
    "plt.yticks([])\n",
    "plt.xlabel('Air temperature change over time (°C/year)', fontsize=15)\n",
    "plt.ylabel('Sensitivity (Julian day/°C)', fontsize=15)\n",
    "plt.text(-0.3, 1, 'Lower', horizontalalignment='right', fontsize=15)\n",
    "plt.text(-0.3, -1, 'Higher', horizontalalignment='right', fontsize=15)\n",
    "plt.text(0, -1.5, 'Cooler', fontsize=15)\n",
    "plt.text(1, -1.5, 'Warmer', horizontalalignment='right', fontsize=15)\n",
    "plt.show()"
   ]
  },
  {
   "cell_type": "code",
   "execution_count": null,
   "id": "1db137a7",
   "metadata": {},
   "outputs": [],
   "source": [
    "fig, ax = plt.subplots(figsize=(6, 6))\n",
    "\n",
    "line = plt.plot([0, 1], [-1, 1])\n",
    "line = line.pop(0)\n",
    "line.remove()\n",
    "\n",
    "line.spines['right'].set_visible(False)\n",
    "\n",
    "plt.xticks([])\n",
    "plt.yticks([])\n",
    "plt.xlabel('Functional trait', fontsize=18)\n",
    "plt.ylabel('Sensitivity (Julian day/°C)', fontsize=18)\n",
    "# plt.text(-0.3, 1, 'Lower', horizontalalignment='right', fontsize=15)\n",
    "# plt.text(-0.3, -1, 'Higher', horizontalalignment='right', fontsize=15)\n",
    "plt.show()"
   ]
  },
  {
   "cell_type": "code",
   "execution_count": null,
   "id": "5c5c7258",
   "metadata": {},
   "outputs": [],
   "source": []
  }
 ],
 "metadata": {
  "kernelspec": {
   "display_name": "Python 3 (ipykernel)",
   "language": "python",
   "name": "python3"
  },
  "language_info": {
   "codemirror_mode": {
    "name": "ipython",
    "version": 3
   },
   "file_extension": ".py",
   "mimetype": "text/x-python",
   "name": "python",
   "nbconvert_exporter": "python",
   "pygments_lexer": "ipython3",
   "version": "3.10.12"
  }
 },
 "nbformat": 4,
 "nbformat_minor": 5
}
