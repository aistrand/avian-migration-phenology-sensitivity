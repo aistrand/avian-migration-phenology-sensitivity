{
 "cells": [
  {
   "cell_type": "code",
   "execution_count": 42,
   "metadata": {},
   "outputs": [],
   "source": [
    "import os\n",
    "import pandas as pd\n",
    "import statsmodels.formula.api as smf\n",
    "import matplotlib.pyplot as plt\n",
    "from statsmodels.graphics.regressionplots import abline_plot\n",
    "from sklearn.decomposition import PCA"
   ]
  },
  {
   "cell_type": "code",
   "execution_count": 2,
   "metadata": {},
   "outputs": [],
   "source": [
    "pd.set_option('max_columns', 20)"
   ]
  },
  {
   "cell_type": "code",
   "execution_count": 3,
   "metadata": {},
   "outputs": [
    {
     "data": {
      "text/plain": [
       "'/Users/alvastrand/Library/Mobile Documents/com~apple~CloudDocs/Documents/OU/Research/notebooks/Casey'"
      ]
     },
     "execution_count": 3,
     "metadata": {},
     "output_type": "execute_result"
    }
   ],
   "source": [
    "os.getcwd()"
   ]
  },
  {
   "cell_type": "code",
   "execution_count": 4,
   "metadata": {},
   "outputs": [],
   "source": [
    "path = '/Users/alvastrand/Downloads/'\n",
    "\n",
    "os.chdir(path)"
   ]
  },
  {
   "cell_type": "code",
   "execution_count": 5,
   "metadata": {},
   "outputs": [
    {
     "data": {
      "text/plain": [
       "'/Users/alvastrand/Downloads'"
      ]
     },
     "execution_count": 5,
     "metadata": {},
     "output_type": "execute_result"
    }
   ],
   "source": [
    "os.getcwd()"
   ]
  },
  {
   "cell_type": "code",
   "execution_count": 6,
   "metadata": {},
   "outputs": [
    {
     "name": "stdout",
     "output_type": "stream",
     "text": [
      "(56320, 19)\n"
     ]
    },
    {
     "data": {
      "text/html": [
       "<div>\n",
       "<style scoped>\n",
       "    .dataframe tbody tr th:only-of-type {\n",
       "        vertical-align: middle;\n",
       "    }\n",
       "\n",
       "    .dataframe tbody tr th {\n",
       "        vertical-align: top;\n",
       "    }\n",
       "\n",
       "    .dataframe thead th {\n",
       "        text-align: right;\n",
       "    }\n",
       "</style>\n",
       "<table border=\"1\" class=\"dataframe\">\n",
       "  <thead>\n",
       "    <tr style=\"text-align: right;\">\n",
       "      <th></th>\n",
       "      <th>sci_name</th>\n",
       "      <th>cell</th>\n",
       "      <th>mig_cell</th>\n",
       "      <th>breed_cell</th>\n",
       "      <th>cell_lat</th>\n",
       "      <th>cell_lng</th>\n",
       "      <th>year</th>\n",
       "      <th>arr_GAM_mean</th>\n",
       "      <th>arr_GAM_sd</th>\n",
       "      <th>arr_IAR_mean</th>\n",
       "      <th>arr_IAR_sd</th>\n",
       "      <th>per_ovr</th>\n",
       "      <th>gr_mn</th>\n",
       "      <th>gr_ncell</th>\n",
       "      <th>gr_type</th>\n",
       "      <th>mb_lat_4326</th>\n",
       "      <th>mb_lng_4326</th>\n",
       "      <th>cell_type</th>\n",
       "      <th>species</th>\n",
       "    </tr>\n",
       "  </thead>\n",
       "  <tbody>\n",
       "    <tr>\n",
       "      <th>0</th>\n",
       "      <td>Archilochus_colubris</td>\n",
       "      <td>452</td>\n",
       "      <td>False</td>\n",
       "      <td>True</td>\n",
       "      <td>52.48</td>\n",
       "      <td>-94.42</td>\n",
       "      <td>2002</td>\n",
       "      <td>NaN</td>\n",
       "      <td>NaN</td>\n",
       "      <td>NaN</td>\n",
       "      <td>NaN</td>\n",
       "      <td>1.0</td>\n",
       "      <td>NaN</td>\n",
       "      <td>NaN</td>\n",
       "      <td>MidGreenup</td>\n",
       "      <td>40.113622</td>\n",
       "      <td>-83.080644</td>\n",
       "      <td>2</td>\n",
       "      <td>Ruby-throated Hummingbird</td>\n",
       "    </tr>\n",
       "    <tr>\n",
       "      <th>1</th>\n",
       "      <td>Archilochus_colubris</td>\n",
       "      <td>480</td>\n",
       "      <td>False</td>\n",
       "      <td>True</td>\n",
       "      <td>50.79</td>\n",
       "      <td>-91.68</td>\n",
       "      <td>2002</td>\n",
       "      <td>NaN</td>\n",
       "      <td>NaN</td>\n",
       "      <td>NaN</td>\n",
       "      <td>NaN</td>\n",
       "      <td>1.0</td>\n",
       "      <td>NaN</td>\n",
       "      <td>NaN</td>\n",
       "      <td>MidGreenup</td>\n",
       "      <td>40.113622</td>\n",
       "      <td>-83.080644</td>\n",
       "      <td>2</td>\n",
       "      <td>Ruby-throated Hummingbird</td>\n",
       "    </tr>\n",
       "  </tbody>\n",
       "</table>\n",
       "</div>"
      ],
      "text/plain": [
       "               sci_name  cell  mig_cell  breed_cell  cell_lat  cell_lng  year  \\\n",
       "0  Archilochus_colubris   452     False        True     52.48    -94.42  2002   \n",
       "1  Archilochus_colubris   480     False        True     50.79    -91.68  2002   \n",
       "\n",
       "   arr_GAM_mean  arr_GAM_sd  arr_IAR_mean  arr_IAR_sd  per_ovr  gr_mn  \\\n",
       "0           NaN         NaN           NaN         NaN      1.0    NaN   \n",
       "1           NaN         NaN           NaN         NaN      1.0    NaN   \n",
       "\n",
       "   gr_ncell     gr_type  mb_lat_4326  mb_lng_4326  cell_type  \\\n",
       "0       NaN  MidGreenup    40.113622   -83.080644          2   \n",
       "1       NaN  MidGreenup    40.113622   -83.080644          2   \n",
       "\n",
       "                     species  \n",
       "0  Ruby-throated Hummingbird  \n",
       "1  Ruby-throated Hummingbird  "
      ]
     },
     "execution_count": 6,
     "metadata": {},
     "output_type": "execute_result"
    }
   ],
   "source": [
    "filename = 'data_arr.csv'\n",
    "\n",
    "df = pd.read_csv(filename)\n",
    "print(df.shape)\n",
    "\n",
    "df.head(2)"
   ]
  },
  {
   "cell_type": "code",
   "execution_count": 7,
   "metadata": {},
   "outputs": [
    {
     "name": "stdout",
     "output_type": "stream",
     "text": [
      "(56320, 19)\n"
     ]
    },
    {
     "data": {
      "text/html": [
       "<div>\n",
       "<style scoped>\n",
       "    .dataframe tbody tr th:only-of-type {\n",
       "        vertical-align: middle;\n",
       "    }\n",
       "\n",
       "    .dataframe tbody tr th {\n",
       "        vertical-align: top;\n",
       "    }\n",
       "\n",
       "    .dataframe thead th {\n",
       "        text-align: right;\n",
       "    }\n",
       "</style>\n",
       "<table border=\"1\" class=\"dataframe\">\n",
       "  <thead>\n",
       "    <tr style=\"text-align: right;\">\n",
       "      <th></th>\n",
       "      <th>sci_name</th>\n",
       "      <th>cell</th>\n",
       "      <th>mig_cell</th>\n",
       "      <th>breed_cell</th>\n",
       "      <th>cell_lat</th>\n",
       "      <th>cell_lng</th>\n",
       "      <th>year</th>\n",
       "      <th>arr_GAM_mean</th>\n",
       "      <th>arr_GAM_sd</th>\n",
       "      <th>arr_IAR_mean</th>\n",
       "      <th>arr_IAR_sd</th>\n",
       "      <th>per_ovr</th>\n",
       "      <th>gr_mn</th>\n",
       "      <th>gr_ncell</th>\n",
       "      <th>gr_type</th>\n",
       "      <th>mb_lat_4326</th>\n",
       "      <th>mb_lng_4326</th>\n",
       "      <th>cell_type</th>\n",
       "      <th>species</th>\n",
       "    </tr>\n",
       "  </thead>\n",
       "  <tbody>\n",
       "    <tr>\n",
       "      <th>0</th>\n",
       "      <td>Archilochus colubris</td>\n",
       "      <td>452</td>\n",
       "      <td>False</td>\n",
       "      <td>True</td>\n",
       "      <td>52.48</td>\n",
       "      <td>-94.42</td>\n",
       "      <td>2002</td>\n",
       "      <td>NaN</td>\n",
       "      <td>NaN</td>\n",
       "      <td>NaN</td>\n",
       "      <td>NaN</td>\n",
       "      <td>1.0</td>\n",
       "      <td>NaN</td>\n",
       "      <td>NaN</td>\n",
       "      <td>MidGreenup</td>\n",
       "      <td>40.113622</td>\n",
       "      <td>-83.080644</td>\n",
       "      <td>2</td>\n",
       "      <td>Ruby-throated Hummingbird</td>\n",
       "    </tr>\n",
       "    <tr>\n",
       "      <th>1</th>\n",
       "      <td>Archilochus colubris</td>\n",
       "      <td>480</td>\n",
       "      <td>False</td>\n",
       "      <td>True</td>\n",
       "      <td>50.79</td>\n",
       "      <td>-91.68</td>\n",
       "      <td>2002</td>\n",
       "      <td>NaN</td>\n",
       "      <td>NaN</td>\n",
       "      <td>NaN</td>\n",
       "      <td>NaN</td>\n",
       "      <td>1.0</td>\n",
       "      <td>NaN</td>\n",
       "      <td>NaN</td>\n",
       "      <td>MidGreenup</td>\n",
       "      <td>40.113622</td>\n",
       "      <td>-83.080644</td>\n",
       "      <td>2</td>\n",
       "      <td>Ruby-throated Hummingbird</td>\n",
       "    </tr>\n",
       "  </tbody>\n",
       "</table>\n",
       "</div>"
      ],
      "text/plain": [
       "               sci_name  cell  mig_cell  breed_cell  cell_lat  cell_lng  year  \\\n",
       "0  Archilochus colubris   452     False        True     52.48    -94.42  2002   \n",
       "1  Archilochus colubris   480     False        True     50.79    -91.68  2002   \n",
       "\n",
       "   arr_GAM_mean  arr_GAM_sd  arr_IAR_mean  arr_IAR_sd  per_ovr  gr_mn  \\\n",
       "0           NaN         NaN           NaN         NaN      1.0    NaN   \n",
       "1           NaN         NaN           NaN         NaN      1.0    NaN   \n",
       "\n",
       "   gr_ncell     gr_type  mb_lat_4326  mb_lng_4326  cell_type  \\\n",
       "0       NaN  MidGreenup    40.113622   -83.080644          2   \n",
       "1       NaN  MidGreenup    40.113622   -83.080644          2   \n",
       "\n",
       "                     species  \n",
       "0  Ruby-throated Hummingbird  \n",
       "1  Ruby-throated Hummingbird  "
      ]
     },
     "execution_count": 7,
     "metadata": {},
     "output_type": "execute_result"
    }
   ],
   "source": [
    "df['sci_name'] = df['sci_name'].str.replace('_', ' ')\n",
    "print(df.shape)\n",
    "\n",
    "df.head(2)"
   ]
  },
  {
   "cell_type": "code",
   "execution_count": 8,
   "metadata": {},
   "outputs": [
    {
     "name": "stdout",
     "output_type": "stream",
     "text": [
      "(3520, 2)\n"
     ]
    },
    {
     "data": {
      "text/html": [
       "<div>\n",
       "<style scoped>\n",
       "    .dataframe tbody tr th:only-of-type {\n",
       "        vertical-align: middle;\n",
       "    }\n",
       "\n",
       "    .dataframe tbody tr th {\n",
       "        vertical-align: top;\n",
       "    }\n",
       "\n",
       "    .dataframe thead th {\n",
       "        text-align: right;\n",
       "    }\n",
       "</style>\n",
       "<table border=\"1\" class=\"dataframe\">\n",
       "  <thead>\n",
       "    <tr style=\"text-align: right;\">\n",
       "      <th></th>\n",
       "      <th>sci_name</th>\n",
       "      <th>cell</th>\n",
       "    </tr>\n",
       "  </thead>\n",
       "  <tbody>\n",
       "    <tr>\n",
       "      <th>0</th>\n",
       "      <td>Archilochus colubris</td>\n",
       "      <td>452</td>\n",
       "    </tr>\n",
       "    <tr>\n",
       "      <th>1</th>\n",
       "      <td>Archilochus colubris</td>\n",
       "      <td>480</td>\n",
       "    </tr>\n",
       "  </tbody>\n",
       "</table>\n",
       "</div>"
      ],
      "text/plain": [
       "               sci_name  cell\n",
       "0  Archilochus colubris   452\n",
       "1  Archilochus colubris   480"
      ]
     },
     "execution_count": 8,
     "metadata": {},
     "output_type": "execute_result"
    }
   ],
   "source": [
    "df_sci_names_cells = df[['sci_name', 'cell']].drop_duplicates()\n",
    "\n",
    "df_sci_names_cells = df_sci_names_cells.sort_values(by=['sci_name', 'cell'])\n",
    "\n",
    "df_sci_names_cells = df_sci_names_cells.reset_index(drop=True)\n",
    "\n",
    "print(df_sci_names_cells.shape)\n",
    "\n",
    "df_sci_names_cells.head(2)"
   ]
  },
  {
   "cell_type": "code",
   "execution_count": 9,
   "metadata": {},
   "outputs": [
    {
     "name": "stdout",
     "output_type": "stream",
     "text": [
      "(20576, 19)\n"
     ]
    },
    {
     "data": {
      "text/html": [
       "<div>\n",
       "<style scoped>\n",
       "    .dataframe tbody tr th:only-of-type {\n",
       "        vertical-align: middle;\n",
       "    }\n",
       "\n",
       "    .dataframe tbody tr th {\n",
       "        vertical-align: top;\n",
       "    }\n",
       "\n",
       "    .dataframe thead th {\n",
       "        text-align: right;\n",
       "    }\n",
       "</style>\n",
       "<table border=\"1\" class=\"dataframe\">\n",
       "  <thead>\n",
       "    <tr style=\"text-align: right;\">\n",
       "      <th></th>\n",
       "      <th>sci_name</th>\n",
       "      <th>cell</th>\n",
       "      <th>mig_cell</th>\n",
       "      <th>breed_cell</th>\n",
       "      <th>lat</th>\n",
       "      <th>lon</th>\n",
       "      <th>year</th>\n",
       "      <th>arr_GAM_mean</th>\n",
       "      <th>arr_GAM_sd</th>\n",
       "      <th>arr_IAR_mean</th>\n",
       "      <th>arr_IAR_sd</th>\n",
       "      <th>per_ovr</th>\n",
       "      <th>gr_mn</th>\n",
       "      <th>gr_ncell</th>\n",
       "      <th>gr_type</th>\n",
       "      <th>mb_lat_4326</th>\n",
       "      <th>mb_lng_4326</th>\n",
       "      <th>cell_type</th>\n",
       "      <th>species</th>\n",
       "    </tr>\n",
       "  </thead>\n",
       "  <tbody>\n",
       "    <tr>\n",
       "      <th>0</th>\n",
       "      <td>Archilochus colubris</td>\n",
       "      <td>513</td>\n",
       "      <td>False</td>\n",
       "      <td>True</td>\n",
       "      <td>49.07</td>\n",
       "      <td>-68.37</td>\n",
       "      <td>2014</td>\n",
       "      <td>145.870667</td>\n",
       "      <td>2.800694</td>\n",
       "      <td>145.519872</td>\n",
       "      <td>1.840508</td>\n",
       "      <td>0.8</td>\n",
       "      <td>148.34</td>\n",
       "      <td>360671.0</td>\n",
       "      <td>MidGreenup</td>\n",
       "      <td>40.113622</td>\n",
       "      <td>-83.080644</td>\n",
       "      <td>2</td>\n",
       "      <td>Ruby-throated Hummingbird</td>\n",
       "    </tr>\n",
       "    <tr>\n",
       "      <th>1</th>\n",
       "      <td>Archilochus colubris</td>\n",
       "      <td>513</td>\n",
       "      <td>False</td>\n",
       "      <td>True</td>\n",
       "      <td>49.07</td>\n",
       "      <td>-68.37</td>\n",
       "      <td>2015</td>\n",
       "      <td>143.959667</td>\n",
       "      <td>2.789020</td>\n",
       "      <td>141.535480</td>\n",
       "      <td>1.832606</td>\n",
       "      <td>0.8</td>\n",
       "      <td>146.65</td>\n",
       "      <td>357013.0</td>\n",
       "      <td>MidGreenup</td>\n",
       "      <td>40.113622</td>\n",
       "      <td>-83.080644</td>\n",
       "      <td>2</td>\n",
       "      <td>Ruby-throated Hummingbird</td>\n",
       "    </tr>\n",
       "  </tbody>\n",
       "</table>\n",
       "</div>"
      ],
      "text/plain": [
       "               sci_name  cell  mig_cell  breed_cell    lat    lon  year  \\\n",
       "0  Archilochus colubris   513     False        True  49.07 -68.37  2014   \n",
       "1  Archilochus colubris   513     False        True  49.07 -68.37  2015   \n",
       "\n",
       "   arr_GAM_mean  arr_GAM_sd  arr_IAR_mean  arr_IAR_sd  per_ovr   gr_mn  \\\n",
       "0    145.870667    2.800694    145.519872    1.840508      0.8  148.34   \n",
       "1    143.959667    2.789020    141.535480    1.832606      0.8  146.65   \n",
       "\n",
       "   gr_ncell     gr_type  mb_lat_4326  mb_lng_4326  cell_type  \\\n",
       "0  360671.0  MidGreenup    40.113622   -83.080644          2   \n",
       "1  357013.0  MidGreenup    40.113622   -83.080644          2   \n",
       "\n",
       "                     species  \n",
       "0  Ruby-throated Hummingbird  \n",
       "1  Ruby-throated Hummingbird  "
      ]
     },
     "execution_count": 9,
     "metadata": {},
     "output_type": "execute_result"
    }
   ],
   "source": [
    "df = df.dropna(subset=['arr_GAM_mean'])\n",
    "\n",
    "df = df.rename(columns={'cell_lat': 'lat', 'cell_lng': 'lon'})\n",
    "\n",
    "df = df.sort_values(by=['sci_name', 'cell', 'year'])\n",
    "\n",
    "df = df.reset_index(drop=True)\n",
    "\n",
    "print(df.shape)\n",
    "\n",
    "df.head(2)"
   ]
  },
  {
   "cell_type": "code",
   "execution_count": 10,
   "metadata": {},
   "outputs": [
    {
     "name": "stdout",
     "output_type": "stream",
     "text": [
      "56\n"
     ]
    }
   ],
   "source": [
    "list_sci_names = list(df['sci_name'].unique())\n",
    "print(len(list_sci_names))"
   ]
  },
  {
   "cell_type": "code",
   "execution_count": 11,
   "metadata": {},
   "outputs": [
    {
     "name": "stdout",
     "output_type": "stream",
     "text": [
      "56\n"
     ]
    }
   ],
   "source": [
    "list_common_names = list(df['species'].unique())\n",
    "print(len(list_common_names))"
   ]
  },
  {
   "cell_type": "code",
   "execution_count": 12,
   "metadata": {},
   "outputs": [
    {
     "name": "stdout",
     "output_type": "stream",
     "text": [
      "(2550, 2)\n"
     ]
    },
    {
     "data": {
      "text/html": [
       "<div>\n",
       "<style scoped>\n",
       "    .dataframe tbody tr th:only-of-type {\n",
       "        vertical-align: middle;\n",
       "    }\n",
       "\n",
       "    .dataframe tbody tr th {\n",
       "        vertical-align: top;\n",
       "    }\n",
       "\n",
       "    .dataframe thead th {\n",
       "        text-align: right;\n",
       "    }\n",
       "</style>\n",
       "<table border=\"1\" class=\"dataframe\">\n",
       "  <thead>\n",
       "    <tr style=\"text-align: right;\">\n",
       "      <th></th>\n",
       "      <th>sci_name</th>\n",
       "      <th>cell</th>\n",
       "    </tr>\n",
       "  </thead>\n",
       "  <tbody>\n",
       "    <tr>\n",
       "      <th>0</th>\n",
       "      <td>Archilochus colubris</td>\n",
       "      <td>513</td>\n",
       "    </tr>\n",
       "    <tr>\n",
       "      <th>1</th>\n",
       "      <td>Archilochus colubris</td>\n",
       "      <td>514</td>\n",
       "    </tr>\n",
       "  </tbody>\n",
       "</table>\n",
       "</div>"
      ],
      "text/plain": [
       "               sci_name  cell\n",
       "0  Archilochus colubris   513\n",
       "1  Archilochus colubris   514"
      ]
     },
     "execution_count": 12,
     "metadata": {},
     "output_type": "execute_result"
    }
   ],
   "source": [
    "df_sci_names_cells = df[['sci_name', 'cell']].drop_duplicates()\n",
    "\n",
    "df_sci_names_cells = df_sci_names_cells.reset_index(drop=True)\n",
    "\n",
    "print(df_sci_names_cells.shape)\n",
    "\n",
    "df_sci_names_cells.head(2)"
   ]
  },
  {
   "cell_type": "code",
   "execution_count": null,
   "metadata": {},
   "outputs": [],
   "source": []
  },
  {
   "cell_type": "code",
   "execution_count": 13,
   "metadata": {},
   "outputs": [
    {
     "name": "stdout",
     "output_type": "stream",
     "text": [
      "(3520, 11)\n"
     ]
    },
    {
     "data": {
      "text/html": [
       "<div>\n",
       "<style scoped>\n",
       "    .dataframe tbody tr th:only-of-type {\n",
       "        vertical-align: middle;\n",
       "    }\n",
       "\n",
       "    .dataframe tbody tr th {\n",
       "        vertical-align: top;\n",
       "    }\n",
       "\n",
       "    .dataframe thead th {\n",
       "        text-align: right;\n",
       "    }\n",
       "</style>\n",
       "<table border=\"1\" class=\"dataframe\">\n",
       "  <thead>\n",
       "    <tr style=\"text-align: right;\">\n",
       "      <th></th>\n",
       "      <th>sci_name</th>\n",
       "      <th>species</th>\n",
       "      <th>cell</th>\n",
       "      <th>cell_lat</th>\n",
       "      <th>cell_lng</th>\n",
       "      <th>beta_mean</th>\n",
       "      <th>beta_sd</th>\n",
       "      <th>xi_mean</th>\n",
       "      <th>xi_sd</th>\n",
       "      <th>gamma_mean</th>\n",
       "      <th>gamma_sd</th>\n",
       "    </tr>\n",
       "  </thead>\n",
       "  <tbody>\n",
       "    <tr>\n",
       "      <th>0</th>\n",
       "      <td>Archilochus_colubris</td>\n",
       "      <td>Ruby-throated Hummingbird</td>\n",
       "      <td>452</td>\n",
       "      <td>52.48</td>\n",
       "      <td>-94.42</td>\n",
       "      <td>0.137649</td>\n",
       "      <td>0.086264</td>\n",
       "      <td>0.004206</td>\n",
       "      <td>0.022077</td>\n",
       "      <td>0.011857</td>\n",
       "      <td>0.004675</td>\n",
       "    </tr>\n",
       "    <tr>\n",
       "      <th>1</th>\n",
       "      <td>Archilochus_colubris</td>\n",
       "      <td>Ruby-throated Hummingbird</td>\n",
       "      <td>480</td>\n",
       "      <td>50.79</td>\n",
       "      <td>-91.68</td>\n",
       "      <td>0.116928</td>\n",
       "      <td>0.067593</td>\n",
       "      <td>0.004206</td>\n",
       "      <td>0.022077</td>\n",
       "      <td>0.011857</td>\n",
       "      <td>0.004675</td>\n",
       "    </tr>\n",
       "  </tbody>\n",
       "</table>\n",
       "</div>"
      ],
      "text/plain": [
       "               sci_name                    species  cell  cell_lat  cell_lng  \\\n",
       "0  Archilochus_colubris  Ruby-throated Hummingbird   452     52.48    -94.42   \n",
       "1  Archilochus_colubris  Ruby-throated Hummingbird   480     50.79    -91.68   \n",
       "\n",
       "   beta_mean   beta_sd   xi_mean     xi_sd  gamma_mean  gamma_sd  \n",
       "0   0.137649  0.086264  0.004206  0.022077    0.011857  0.004675  \n",
       "1   0.116928  0.067593  0.004206  0.022077    0.011857  0.004675  "
      ]
     },
     "execution_count": 13,
     "metadata": {},
     "output_type": "execute_result"
    }
   ],
   "source": [
    "filename = 'data_sensi.csv'\n",
    "\n",
    "df_s = pd.read_csv(filename)\n",
    "print(df_s.shape)\n",
    "\n",
    "#\n",
    "\n",
    "df_s.head(2)"
   ]
  },
  {
   "cell_type": "code",
   "execution_count": 14,
   "metadata": {},
   "outputs": [
    {
     "name": "stdout",
     "output_type": "stream",
     "text": [
      "(3520, 11)\n"
     ]
    },
    {
     "data": {
      "text/html": [
       "<div>\n",
       "<style scoped>\n",
       "    .dataframe tbody tr th:only-of-type {\n",
       "        vertical-align: middle;\n",
       "    }\n",
       "\n",
       "    .dataframe tbody tr th {\n",
       "        vertical-align: top;\n",
       "    }\n",
       "\n",
       "    .dataframe thead th {\n",
       "        text-align: right;\n",
       "    }\n",
       "</style>\n",
       "<table border=\"1\" class=\"dataframe\">\n",
       "  <thead>\n",
       "    <tr style=\"text-align: right;\">\n",
       "      <th></th>\n",
       "      <th>sci_name</th>\n",
       "      <th>species</th>\n",
       "      <th>cell</th>\n",
       "      <th>lat</th>\n",
       "      <th>lon</th>\n",
       "      <th>beta_mean</th>\n",
       "      <th>beta_sd</th>\n",
       "      <th>xi_mean</th>\n",
       "      <th>xi_sd</th>\n",
       "      <th>gamma_mean</th>\n",
       "      <th>gamma_sd</th>\n",
       "    </tr>\n",
       "  </thead>\n",
       "  <tbody>\n",
       "    <tr>\n",
       "      <th>0</th>\n",
       "      <td>Archilochus colubris</td>\n",
       "      <td>Ruby-throated Hummingbird</td>\n",
       "      <td>452</td>\n",
       "      <td>52.48</td>\n",
       "      <td>-94.42</td>\n",
       "      <td>0.137649</td>\n",
       "      <td>0.086264</td>\n",
       "      <td>0.004206</td>\n",
       "      <td>0.022077</td>\n",
       "      <td>0.011857</td>\n",
       "      <td>0.004675</td>\n",
       "    </tr>\n",
       "    <tr>\n",
       "      <th>1</th>\n",
       "      <td>Archilochus colubris</td>\n",
       "      <td>Ruby-throated Hummingbird</td>\n",
       "      <td>480</td>\n",
       "      <td>50.79</td>\n",
       "      <td>-91.68</td>\n",
       "      <td>0.116928</td>\n",
       "      <td>0.067593</td>\n",
       "      <td>0.004206</td>\n",
       "      <td>0.022077</td>\n",
       "      <td>0.011857</td>\n",
       "      <td>0.004675</td>\n",
       "    </tr>\n",
       "  </tbody>\n",
       "</table>\n",
       "</div>"
      ],
      "text/plain": [
       "               sci_name                    species  cell    lat    lon  \\\n",
       "0  Archilochus colubris  Ruby-throated Hummingbird   452  52.48 -94.42   \n",
       "1  Archilochus colubris  Ruby-throated Hummingbird   480  50.79 -91.68   \n",
       "\n",
       "   beta_mean   beta_sd   xi_mean     xi_sd  gamma_mean  gamma_sd  \n",
       "0   0.137649  0.086264  0.004206  0.022077    0.011857  0.004675  \n",
       "1   0.116928  0.067593  0.004206  0.022077    0.011857  0.004675  "
      ]
     },
     "execution_count": 14,
     "metadata": {},
     "output_type": "execute_result"
    }
   ],
   "source": [
    "df_s['sci_name'] = df_s['sci_name'].str.replace('_', ' ')\n",
    "\n",
    "df_s = df_s.rename(columns={'cell_lat': 'lat', 'cell_lng': 'lon'})\n",
    "\n",
    "df_s = df_s.sort_values(by=['sci_name', 'cell'])\n",
    "\n",
    "df_s = df_s.reset_index(drop=True)\n",
    "\n",
    "print(df_s.shape)\n",
    "\n",
    "df_s.head(2)"
   ]
  },
  {
   "cell_type": "code",
   "execution_count": null,
   "metadata": {},
   "outputs": [],
   "source": []
  },
  {
   "cell_type": "code",
   "execution_count": 15,
   "metadata": {},
   "outputs": [
    {
     "name": "stdout",
     "output_type": "stream",
     "text": [
      "(14352, 13)\n"
     ]
    },
    {
     "data": {
      "text/html": [
       "<div>\n",
       "<style scoped>\n",
       "    .dataframe tbody tr th:only-of-type {\n",
       "        vertical-align: middle;\n",
       "    }\n",
       "\n",
       "    .dataframe tbody tr th {\n",
       "        vertical-align: top;\n",
       "    }\n",
       "\n",
       "    .dataframe thead th {\n",
       "        text-align: right;\n",
       "    }\n",
       "</style>\n",
       "<table border=\"1\" class=\"dataframe\">\n",
       "  <thead>\n",
       "    <tr style=\"text-align: right;\">\n",
       "      <th></th>\n",
       "      <th>Family</th>\n",
       "      <th>Species Name</th>\n",
       "      <th>Common Name</th>\n",
       "      <th>Sex</th>\n",
       "      <th>N</th>\n",
       "      <th>Mean</th>\n",
       "      <th>S.D.</th>\n",
       "      <th>Min</th>\n",
       "      <th>Max</th>\n",
       "      <th>Season</th>\n",
       "      <th>Location</th>\n",
       "      <th>Source #</th>\n",
       "      <th>Comments</th>\n",
       "    </tr>\n",
       "  </thead>\n",
       "  <tbody>\n",
       "    <tr>\n",
       "      <th>0</th>\n",
       "      <td>Rheidae</td>\n",
       "      <td>Rhea pennata</td>\n",
       "      <td>Lesser Rhea</td>\n",
       "      <td>M</td>\n",
       "      <td>3</td>\n",
       "      <td>23900.0</td>\n",
       "      <td>NaN</td>\n",
       "      <td>19100</td>\n",
       "      <td>28600</td>\n",
       "      <td>NaN</td>\n",
       "      <td>NaN</td>\n",
       "      <td>256</td>\n",
       "      <td>NaN</td>\n",
       "    </tr>\n",
       "    <tr>\n",
       "      <th>1</th>\n",
       "      <td>Casuariidae</td>\n",
       "      <td>Casuarius bennetti</td>\n",
       "      <td>Dwarf Cassowary</td>\n",
       "      <td>U</td>\n",
       "      <td>NaN</td>\n",
       "      <td>35000.0</td>\n",
       "      <td>NaN</td>\n",
       "      <td>NaN</td>\n",
       "      <td>NaN</td>\n",
       "      <td>NaN</td>\n",
       "      <td>NaN</td>\n",
       "      <td>291</td>\n",
       "      <td>NaN</td>\n",
       "    </tr>\n",
       "  </tbody>\n",
       "</table>\n",
       "</div>"
      ],
      "text/plain": [
       "        Family       Species Name       Common Name Sex    N     Mean  S.D.  \\\n",
       "0      Rheidae        Rhea pennata      Lesser Rhea   M    3   23900.0  NaN   \n",
       "1  Casuariidae  Casuarius bennetti  Dwarf Cassowary   U  NaN   35000.0  NaN   \n",
       "\n",
       "     Min    Max Season              Location     Source # Comments  \n",
       "0  19100  28600    NaN                   NaN          256      NaN  \n",
       "1    NaN    NaN    NaN                   NaN          291      NaN  "
      ]
     },
     "execution_count": 15,
     "metadata": {},
     "output_type": "execute_result"
    }
   ],
   "source": [
    "# Body mass data\n",
    "\n",
    "filename = 'WTH_COMBO2.csv'\n",
    "\n",
    "df_masses = pd.read_csv(filename)\n",
    "print(df_masses.shape)\n",
    "\n",
    "df_masses.head(2)"
   ]
  },
  {
   "cell_type": "code",
   "execution_count": 16,
   "metadata": {},
   "outputs": [
    {
     "name": "stdout",
     "output_type": "stream",
     "text": [
      "(108, 13)\n"
     ]
    },
    {
     "data": {
      "text/html": [
       "<div>\n",
       "<style scoped>\n",
       "    .dataframe tbody tr th:only-of-type {\n",
       "        vertical-align: middle;\n",
       "    }\n",
       "\n",
       "    .dataframe tbody tr th {\n",
       "        vertical-align: top;\n",
       "    }\n",
       "\n",
       "    .dataframe thead th {\n",
       "        text-align: right;\n",
       "    }\n",
       "</style>\n",
       "<table border=\"1\" class=\"dataframe\">\n",
       "  <thead>\n",
       "    <tr style=\"text-align: right;\">\n",
       "      <th></th>\n",
       "      <th>Family</th>\n",
       "      <th>Species Name</th>\n",
       "      <th>Common Name</th>\n",
       "      <th>Sex</th>\n",
       "      <th>N</th>\n",
       "      <th>Mean</th>\n",
       "      <th>S.D.</th>\n",
       "      <th>Min</th>\n",
       "      <th>Max</th>\n",
       "      <th>Season</th>\n",
       "      <th>Location</th>\n",
       "      <th>Source #</th>\n",
       "      <th>Comments</th>\n",
       "    </tr>\n",
       "  </thead>\n",
       "  <tbody>\n",
       "    <tr>\n",
       "      <th>0</th>\n",
       "      <td>Trochilidae</td>\n",
       "      <td>Archilochus colubris</td>\n",
       "      <td>Ruby-throated Hummingbird</td>\n",
       "      <td>M</td>\n",
       "      <td>121</td>\n",
       "      <td>2.9</td>\n",
       "      <td>0.2</td>\n",
       "      <td>2.4</td>\n",
       "      <td>3.7</td>\n",
       "      <td>NaN</td>\n",
       "      <td>Pennsylvania, USA</td>\n",
       "      <td>828</td>\n",
       "      <td>NaN</td>\n",
       "    </tr>\n",
       "    <tr>\n",
       "      <th>1</th>\n",
       "      <td>Trochilidae</td>\n",
       "      <td>Archilochus colubris</td>\n",
       "      <td>Ruby-throated Hummingbird</td>\n",
       "      <td>F</td>\n",
       "      <td>463</td>\n",
       "      <td>3.3</td>\n",
       "      <td>0.3</td>\n",
       "      <td>2.6</td>\n",
       "      <td>4.1</td>\n",
       "      <td>NaN</td>\n",
       "      <td>NaN</td>\n",
       "      <td>NaN</td>\n",
       "      <td>NaN</td>\n",
       "    </tr>\n",
       "  </tbody>\n",
       "</table>\n",
       "</div>"
      ],
      "text/plain": [
       "        Family         Species Name                 Common Name Sex    N  \\\n",
       "0  Trochilidae  Archilochus colubris  Ruby-throated Hummingbird   M  121   \n",
       "1  Trochilidae  Archilochus colubris  Ruby-throated Hummingbird   F  463   \n",
       "\n",
       "      Mean  S.D.  Min  Max Season              Location     Source # Comments  \n",
       "0       2.9  0.2  2.4  3.7    NaN     Pennsylvania, USA          828      NaN  \n",
       "1       3.3  0.3  2.6  4.1    NaN                   NaN          NaN      NaN  "
      ]
     },
     "execution_count": 16,
     "metadata": {},
     "output_type": "execute_result"
    }
   ],
   "source": [
    "df_masses = df_masses[df_masses['Common Name'].isin(list_common_names)]\n",
    "\n",
    "df_masses = df_masses.dropna(subset=['N'])\n",
    "\n",
    "df_masses['N'] = pd.to_numeric(df_masses['N'])\n",
    "\n",
    "df_masses = df_masses.sort_values(by='Species Name ')\n",
    "\n",
    "df_masses = df_masses.reset_index(drop=True)\n",
    "\n",
    "print(df_masses.shape)\n",
    "\n",
    "df_masses.head(2)"
   ]
  },
  {
   "cell_type": "code",
   "execution_count": 17,
   "metadata": {},
   "outputs": [
    {
     "data": {
      "text/plain": [
       "54"
      ]
     },
     "execution_count": 17,
     "metadata": {},
     "output_type": "execute_result"
    }
   ],
   "source": [
    "len(df_masses['Common Name'].unique())"
   ]
  },
  {
   "cell_type": "code",
   "execution_count": 18,
   "metadata": {},
   "outputs": [
    {
     "data": {
      "text/plain": [
       "{'Blue-winged Warbler', 'Gray Catbird'}"
      ]
     },
     "execution_count": 18,
     "metadata": {},
     "output_type": "execute_result"
    }
   ],
   "source": [
    "set(list_common_names) - set(df_masses['Common Name'].unique())"
   ]
  },
  {
   "cell_type": "code",
   "execution_count": 19,
   "metadata": {},
   "outputs": [
    {
     "name": "stdout",
     "output_type": "stream",
     "text": [
      "(108, 14)\n"
     ]
    },
    {
     "data": {
      "text/html": [
       "<div>\n",
       "<style scoped>\n",
       "    .dataframe tbody tr th:only-of-type {\n",
       "        vertical-align: middle;\n",
       "    }\n",
       "\n",
       "    .dataframe tbody tr th {\n",
       "        vertical-align: top;\n",
       "    }\n",
       "\n",
       "    .dataframe thead th {\n",
       "        text-align: right;\n",
       "    }\n",
       "</style>\n",
       "<table border=\"1\" class=\"dataframe\">\n",
       "  <thead>\n",
       "    <tr style=\"text-align: right;\">\n",
       "      <th></th>\n",
       "      <th>Family</th>\n",
       "      <th>Species Name</th>\n",
       "      <th>Common Name</th>\n",
       "      <th>Sex</th>\n",
       "      <th>N</th>\n",
       "      <th>Mean</th>\n",
       "      <th>S.D.</th>\n",
       "      <th>Min</th>\n",
       "      <th>Max</th>\n",
       "      <th>Season</th>\n",
       "      <th>Location</th>\n",
       "      <th>Source #</th>\n",
       "      <th>Comments</th>\n",
       "      <th>product_n_mean</th>\n",
       "    </tr>\n",
       "  </thead>\n",
       "  <tbody>\n",
       "    <tr>\n",
       "      <th>0</th>\n",
       "      <td>Trochilidae</td>\n",
       "      <td>Archilochus colubris</td>\n",
       "      <td>Ruby-throated Hummingbird</td>\n",
       "      <td>M</td>\n",
       "      <td>121</td>\n",
       "      <td>2.9</td>\n",
       "      <td>0.2</td>\n",
       "      <td>2.4</td>\n",
       "      <td>3.7</td>\n",
       "      <td>NaN</td>\n",
       "      <td>Pennsylvania, USA</td>\n",
       "      <td>828</td>\n",
       "      <td>NaN</td>\n",
       "      <td>350.9</td>\n",
       "    </tr>\n",
       "    <tr>\n",
       "      <th>1</th>\n",
       "      <td>Trochilidae</td>\n",
       "      <td>Archilochus colubris</td>\n",
       "      <td>Ruby-throated Hummingbird</td>\n",
       "      <td>F</td>\n",
       "      <td>463</td>\n",
       "      <td>3.3</td>\n",
       "      <td>0.3</td>\n",
       "      <td>2.6</td>\n",
       "      <td>4.1</td>\n",
       "      <td>NaN</td>\n",
       "      <td>NaN</td>\n",
       "      <td>NaN</td>\n",
       "      <td>NaN</td>\n",
       "      <td>1527.9</td>\n",
       "    </tr>\n",
       "  </tbody>\n",
       "</table>\n",
       "</div>"
      ],
      "text/plain": [
       "        Family         Species Name                 Common Name Sex    N  \\\n",
       "0  Trochilidae  Archilochus colubris  Ruby-throated Hummingbird   M  121   \n",
       "1  Trochilidae  Archilochus colubris  Ruby-throated Hummingbird   F  463   \n",
       "\n",
       "      Mean  S.D.  Min  Max Season              Location     Source # Comments  \\\n",
       "0       2.9  0.2  2.4  3.7    NaN     Pennsylvania, USA          828      NaN   \n",
       "1       3.3  0.3  2.6  4.1    NaN                   NaN          NaN      NaN   \n",
       "\n",
       "   product_n_mean  \n",
       "0           350.9  \n",
       "1          1527.9  "
      ]
     },
     "execution_count": 19,
     "metadata": {},
     "output_type": "execute_result"
    }
   ],
   "source": [
    "df_masses['product_n_mean'] = df_masses['N'] * df_masses['   Mean ']\n",
    "print(df_masses.shape)\n",
    "\n",
    "df_masses.head(2)"
   ]
  },
  {
   "cell_type": "code",
   "execution_count": 20,
   "metadata": {},
   "outputs": [
    {
     "name": "stderr",
     "output_type": "stream",
     "text": [
      "/Users/alvastrand/opt/anaconda3/lib/python3.7/site-packages/ipykernel_launcher.py:13: RuntimeWarning: invalid value encountered in double_scalars\n",
      "  del sys.path[0]\n"
     ]
    }
   ],
   "source": [
    "list_weighted_masses = []\n",
    "\n",
    "for species in list_common_names:\n",
    "\n",
    "    df_masses_species = df_masses[df_masses['Common Name'] == species]\n",
    "\n",
    "    df_masses_species = df_masses_species.reset_index(drop=True)\n",
    "\n",
    "    # print(df_masses_species.shape)\n",
    "\n",
    "    # df_masses_species.head(2)\n",
    "\n",
    "    list_weighted_masses.append(df_masses_species['product_n_mean'].sum() / df_masses_species['N'].sum())"
   ]
  },
  {
   "cell_type": "code",
   "execution_count": 21,
   "metadata": {},
   "outputs": [
    {
     "name": "stdout",
     "output_type": "stream",
     "text": [
      "(54, 2)\n"
     ]
    },
    {
     "data": {
      "text/html": [
       "<div>\n",
       "<style scoped>\n",
       "    .dataframe tbody tr th:only-of-type {\n",
       "        vertical-align: middle;\n",
       "    }\n",
       "\n",
       "    .dataframe tbody tr th {\n",
       "        vertical-align: top;\n",
       "    }\n",
       "\n",
       "    .dataframe thead th {\n",
       "        text-align: right;\n",
       "    }\n",
       "</style>\n",
       "<table border=\"1\" class=\"dataframe\">\n",
       "  <thead>\n",
       "    <tr style=\"text-align: right;\">\n",
       "      <th></th>\n",
       "      <th>species</th>\n",
       "      <th>body_mass</th>\n",
       "    </tr>\n",
       "  </thead>\n",
       "  <tbody>\n",
       "    <tr>\n",
       "      <th>0</th>\n",
       "      <td>Ruby-throated Hummingbird</td>\n",
       "      <td>3.217123</td>\n",
       "    </tr>\n",
       "    <tr>\n",
       "      <th>1</th>\n",
       "      <td>Veery</td>\n",
       "      <td>31.900000</td>\n",
       "    </tr>\n",
       "  </tbody>\n",
       "</table>\n",
       "</div>"
      ],
      "text/plain": [
       "                     species  body_mass\n",
       "0  Ruby-throated Hummingbird   3.217123\n",
       "1                      Veery  31.900000"
      ]
     },
     "execution_count": 21,
     "metadata": {},
     "output_type": "execute_result"
    }
   ],
   "source": [
    "df_weighted = pd.DataFrame(data={'species': list_common_names, 'body_mass': list_weighted_masses})\n",
    "\n",
    "df_weighted = df_weighted.dropna(subset=['body_mass'])\n",
    "\n",
    "print(df_weighted.shape)\n",
    "\n",
    "df_weighted.head(2)"
   ]
  },
  {
   "cell_type": "code",
   "execution_count": null,
   "metadata": {},
   "outputs": [],
   "source": []
  },
  {
   "cell_type": "code",
   "execution_count": 23,
   "metadata": {},
   "outputs": [],
   "source": [
    "path = '/Users/alvastrand/Library/Mobile Documents/com~apple~CloudDocs/Documents/OU/Research/data/BirdLife/'\n",
    "\n",
    "os.chdir(path)"
   ]
  },
  {
   "cell_type": "code",
   "execution_count": 24,
   "metadata": {},
   "outputs": [
    {
     "data": {
      "text/plain": [
       "'/Users/alvastrand/Library/Mobile Documents/com~apple~CloudDocs/Documents/OU/Research/data/BirdLife'"
      ]
     },
     "execution_count": 24,
     "metadata": {},
     "output_type": "execute_result"
    }
   ],
   "source": [
    "os.getcwd()"
   ]
  },
  {
   "cell_type": "code",
   "execution_count": 25,
   "metadata": {
    "scrolled": true
   },
   "outputs": [
    {
     "name": "stdout",
     "output_type": "stream",
     "text": [
      "(4785, 8)\n"
     ]
    },
    {
     "data": {
      "text/html": [
       "<div>\n",
       "<style scoped>\n",
       "    .dataframe tbody tr th:only-of-type {\n",
       "        vertical-align: middle;\n",
       "    }\n",
       "\n",
       "    .dataframe tbody tr th {\n",
       "        vertical-align: top;\n",
       "    }\n",
       "\n",
       "    .dataframe thead th {\n",
       "        text-align: right;\n",
       "    }\n",
       "</style>\n",
       "<table border=\"1\" class=\"dataframe\">\n",
       "  <thead>\n",
       "    <tr style=\"text-align: right;\">\n",
       "      <th></th>\n",
       "      <th>scientific</th>\n",
       "      <th>LON.b</th>\n",
       "      <th>LAT.b</th>\n",
       "      <th>LON.nb</th>\n",
       "      <th>LAT.nb</th>\n",
       "      <th>MAX.LAT.nb</th>\n",
       "      <th>distance</th>\n",
       "      <th>intersect</th>\n",
       "    </tr>\n",
       "  </thead>\n",
       "  <tbody>\n",
       "    <tr>\n",
       "      <th>0</th>\n",
       "      <td>Abeillia abeillei</td>\n",
       "      <td>-90.500000</td>\n",
       "      <td>15.543646</td>\n",
       "      <td>-90.500000</td>\n",
       "      <td>15.543646</td>\n",
       "      <td>19.849085</td>\n",
       "      <td>0.0</td>\n",
       "      <td>1.0</td>\n",
       "    </tr>\n",
       "    <tr>\n",
       "      <th>1</th>\n",
       "      <td>Aburria aburri</td>\n",
       "      <td>-75.227941</td>\n",
       "      <td>-1.987264</td>\n",
       "      <td>-75.227941</td>\n",
       "      <td>-1.987264</td>\n",
       "      <td>11.022187</td>\n",
       "      <td>0.0</td>\n",
       "      <td>1.0</td>\n",
       "    </tr>\n",
       "  </tbody>\n",
       "</table>\n",
       "</div>"
      ],
      "text/plain": [
       "          scientific      LON.b      LAT.b     LON.nb     LAT.nb  MAX.LAT.nb  \\\n",
       "0  Abeillia abeillei -90.500000  15.543646 -90.500000  15.543646   19.849085   \n",
       "1     Aburria aburri -75.227941  -1.987264 -75.227941  -1.987264   11.022187   \n",
       "\n",
       "   distance  intersect  \n",
       "0       0.0        1.0  \n",
       "1       0.0        1.0  "
      ]
     },
     "execution_count": 25,
     "metadata": {},
     "output_type": "execute_result"
    }
   ],
   "source": [
    "filename = 'migration_distance_birdlife_west-hem.txt'\n",
    "\n",
    "df_distances = pd.read_csv(filename, sep='\\t')\n",
    "print(df_distances.shape)\n",
    "\n",
    "df_distances.head(2)"
   ]
  },
  {
   "cell_type": "code",
   "execution_count": 26,
   "metadata": {},
   "outputs": [
    {
     "name": "stdout",
     "output_type": "stream",
     "text": [
      "(56, 8)\n"
     ]
    },
    {
     "data": {
      "text/html": [
       "<div>\n",
       "<style scoped>\n",
       "    .dataframe tbody tr th:only-of-type {\n",
       "        vertical-align: middle;\n",
       "    }\n",
       "\n",
       "    .dataframe tbody tr th {\n",
       "        vertical-align: top;\n",
       "    }\n",
       "\n",
       "    .dataframe thead th {\n",
       "        text-align: right;\n",
       "    }\n",
       "</style>\n",
       "<table border=\"1\" class=\"dataframe\">\n",
       "  <thead>\n",
       "    <tr style=\"text-align: right;\">\n",
       "      <th></th>\n",
       "      <th>sci_name</th>\n",
       "      <th>LON.b</th>\n",
       "      <th>LAT.b</th>\n",
       "      <th>LON.nb</th>\n",
       "      <th>LAT.nb</th>\n",
       "      <th>MAX.LAT.nb</th>\n",
       "      <th>distance</th>\n",
       "      <th>intersect</th>\n",
       "    </tr>\n",
       "  </thead>\n",
       "  <tbody>\n",
       "    <tr>\n",
       "      <th>0</th>\n",
       "      <td>Archilochus colubris</td>\n",
       "      <td>-87.075715</td>\n",
       "      <td>41.493853</td>\n",
       "      <td>-91.025904</td>\n",
       "      <td>16.609263</td>\n",
       "      <td>26.935812</td>\n",
       "      <td>2784.239053</td>\n",
       "      <td>0.001712</td>\n",
       "    </tr>\n",
       "    <tr>\n",
       "      <th>1</th>\n",
       "      <td>Catharus fuscescens</td>\n",
       "      <td>-93.562222</td>\n",
       "      <td>46.620977</td>\n",
       "      <td>-52.924181</td>\n",
       "      <td>-14.012278</td>\n",
       "      <td>-6.057114</td>\n",
       "      <td>7846.937037</td>\n",
       "      <td>0.000000</td>\n",
       "    </tr>\n",
       "  </tbody>\n",
       "</table>\n",
       "</div>"
      ],
      "text/plain": [
       "               sci_name      LON.b      LAT.b     LON.nb     LAT.nb  \\\n",
       "0  Archilochus colubris -87.075715  41.493853 -91.025904  16.609263   \n",
       "1   Catharus fuscescens -93.562222  46.620977 -52.924181 -14.012278   \n",
       "\n",
       "   MAX.LAT.nb     distance  intersect  \n",
       "0   26.935812  2784.239053   0.001712  \n",
       "1   -6.057114  7846.937037   0.000000  "
      ]
     },
     "execution_count": 26,
     "metadata": {},
     "output_type": "execute_result"
    }
   ],
   "source": [
    "df_distances = df_distances.rename(columns={'scientific': 'sci_name'})\n",
    "\n",
    "df_distances = df_distances[df_distances['sci_name'].isin(list_sci_names)]\n",
    "\n",
    "df_distances = df_distances.sort_values(by='sci_name')\n",
    "\n",
    "df_distances = df_distances.reset_index(drop=True)\n",
    "\n",
    "print(df_distances.shape)\n",
    "\n",
    "df_distances.head(2)"
   ]
  },
  {
   "cell_type": "code",
   "execution_count": null,
   "metadata": {},
   "outputs": [],
   "source": []
  },
  {
   "cell_type": "code",
   "execution_count": 27,
   "metadata": {},
   "outputs": [
    {
     "name": "stdout",
     "output_type": "stream",
     "text": [
      "(3419, 12)\n"
     ]
    },
    {
     "data": {
      "text/html": [
       "<div>\n",
       "<style scoped>\n",
       "    .dataframe tbody tr th:only-of-type {\n",
       "        vertical-align: middle;\n",
       "    }\n",
       "\n",
       "    .dataframe tbody tr th {\n",
       "        vertical-align: top;\n",
       "    }\n",
       "\n",
       "    .dataframe thead th {\n",
       "        text-align: right;\n",
       "    }\n",
       "</style>\n",
       "<table border=\"1\" class=\"dataframe\">\n",
       "  <thead>\n",
       "    <tr style=\"text-align: right;\">\n",
       "      <th></th>\n",
       "      <th>sci_name</th>\n",
       "      <th>species</th>\n",
       "      <th>cell</th>\n",
       "      <th>lat</th>\n",
       "      <th>lon</th>\n",
       "      <th>beta_mean</th>\n",
       "      <th>beta_sd</th>\n",
       "      <th>xi_mean</th>\n",
       "      <th>xi_sd</th>\n",
       "      <th>gamma_mean</th>\n",
       "      <th>gamma_sd</th>\n",
       "      <th>body_mass</th>\n",
       "    </tr>\n",
       "  </thead>\n",
       "  <tbody>\n",
       "    <tr>\n",
       "      <th>0</th>\n",
       "      <td>Archilochus colubris</td>\n",
       "      <td>Ruby-throated Hummingbird</td>\n",
       "      <td>452</td>\n",
       "      <td>52.48</td>\n",
       "      <td>-94.42</td>\n",
       "      <td>0.137649</td>\n",
       "      <td>0.086264</td>\n",
       "      <td>0.004206</td>\n",
       "      <td>0.022077</td>\n",
       "      <td>0.011857</td>\n",
       "      <td>0.004675</td>\n",
       "      <td>3.217123</td>\n",
       "    </tr>\n",
       "    <tr>\n",
       "      <th>1</th>\n",
       "      <td>Archilochus colubris</td>\n",
       "      <td>Ruby-throated Hummingbird</td>\n",
       "      <td>480</td>\n",
       "      <td>50.79</td>\n",
       "      <td>-91.68</td>\n",
       "      <td>0.116928</td>\n",
       "      <td>0.067593</td>\n",
       "      <td>0.004206</td>\n",
       "      <td>0.022077</td>\n",
       "      <td>0.011857</td>\n",
       "      <td>0.004675</td>\n",
       "      <td>3.217123</td>\n",
       "    </tr>\n",
       "  </tbody>\n",
       "</table>\n",
       "</div>"
      ],
      "text/plain": [
       "               sci_name                    species  cell    lat    lon  \\\n",
       "0  Archilochus colubris  Ruby-throated Hummingbird   452  52.48 -94.42   \n",
       "1  Archilochus colubris  Ruby-throated Hummingbird   480  50.79 -91.68   \n",
       "\n",
       "   beta_mean   beta_sd   xi_mean     xi_sd  gamma_mean  gamma_sd  body_mass  \n",
       "0   0.137649  0.086264  0.004206  0.022077    0.011857  0.004675   3.217123  \n",
       "1   0.116928  0.067593  0.004206  0.022077    0.011857  0.004675   3.217123  "
      ]
     },
     "execution_count": 27,
     "metadata": {},
     "output_type": "execute_result"
    }
   ],
   "source": [
    "df_s_merged = df_s.merge(df_weighted, on='species')\n",
    "print(df_s_merged.shape)\n",
    "\n",
    "df_s_merged.head(2)"
   ]
  },
  {
   "cell_type": "code",
   "execution_count": 28,
   "metadata": {},
   "outputs": [
    {
     "name": "stdout",
     "output_type": "stream",
     "text": [
      "(3419, 19)\n"
     ]
    },
    {
     "data": {
      "text/html": [
       "<div>\n",
       "<style scoped>\n",
       "    .dataframe tbody tr th:only-of-type {\n",
       "        vertical-align: middle;\n",
       "    }\n",
       "\n",
       "    .dataframe tbody tr th {\n",
       "        vertical-align: top;\n",
       "    }\n",
       "\n",
       "    .dataframe thead th {\n",
       "        text-align: right;\n",
       "    }\n",
       "</style>\n",
       "<table border=\"1\" class=\"dataframe\">\n",
       "  <thead>\n",
       "    <tr style=\"text-align: right;\">\n",
       "      <th></th>\n",
       "      <th>sci_name</th>\n",
       "      <th>species</th>\n",
       "      <th>cell</th>\n",
       "      <th>lat</th>\n",
       "      <th>lon</th>\n",
       "      <th>beta_mean</th>\n",
       "      <th>beta_sd</th>\n",
       "      <th>xi_mean</th>\n",
       "      <th>xi_sd</th>\n",
       "      <th>gamma_mean</th>\n",
       "      <th>gamma_sd</th>\n",
       "      <th>body_mass</th>\n",
       "      <th>LON.b</th>\n",
       "      <th>LAT.b</th>\n",
       "      <th>LON.nb</th>\n",
       "      <th>LAT.nb</th>\n",
       "      <th>MAX.LAT.nb</th>\n",
       "      <th>distance</th>\n",
       "      <th>intersect</th>\n",
       "    </tr>\n",
       "  </thead>\n",
       "  <tbody>\n",
       "    <tr>\n",
       "      <th>0</th>\n",
       "      <td>Archilochus colubris</td>\n",
       "      <td>Ruby-throated Hummingbird</td>\n",
       "      <td>452</td>\n",
       "      <td>52.48</td>\n",
       "      <td>-94.42</td>\n",
       "      <td>0.137649</td>\n",
       "      <td>0.086264</td>\n",
       "      <td>0.004206</td>\n",
       "      <td>0.022077</td>\n",
       "      <td>0.011857</td>\n",
       "      <td>0.004675</td>\n",
       "      <td>3.217123</td>\n",
       "      <td>-87.075715</td>\n",
       "      <td>41.493853</td>\n",
       "      <td>-91.025904</td>\n",
       "      <td>16.609263</td>\n",
       "      <td>26.935812</td>\n",
       "      <td>2784.239053</td>\n",
       "      <td>0.001712</td>\n",
       "    </tr>\n",
       "    <tr>\n",
       "      <th>1</th>\n",
       "      <td>Archilochus colubris</td>\n",
       "      <td>Ruby-throated Hummingbird</td>\n",
       "      <td>480</td>\n",
       "      <td>50.79</td>\n",
       "      <td>-91.68</td>\n",
       "      <td>0.116928</td>\n",
       "      <td>0.067593</td>\n",
       "      <td>0.004206</td>\n",
       "      <td>0.022077</td>\n",
       "      <td>0.011857</td>\n",
       "      <td>0.004675</td>\n",
       "      <td>3.217123</td>\n",
       "      <td>-87.075715</td>\n",
       "      <td>41.493853</td>\n",
       "      <td>-91.025904</td>\n",
       "      <td>16.609263</td>\n",
       "      <td>26.935812</td>\n",
       "      <td>2784.239053</td>\n",
       "      <td>0.001712</td>\n",
       "    </tr>\n",
       "  </tbody>\n",
       "</table>\n",
       "</div>"
      ],
      "text/plain": [
       "               sci_name                    species  cell    lat    lon  \\\n",
       "0  Archilochus colubris  Ruby-throated Hummingbird   452  52.48 -94.42   \n",
       "1  Archilochus colubris  Ruby-throated Hummingbird   480  50.79 -91.68   \n",
       "\n",
       "   beta_mean   beta_sd   xi_mean     xi_sd  gamma_mean  gamma_sd  body_mass  \\\n",
       "0   0.137649  0.086264  0.004206  0.022077    0.011857  0.004675   3.217123   \n",
       "1   0.116928  0.067593  0.004206  0.022077    0.011857  0.004675   3.217123   \n",
       "\n",
       "       LON.b      LAT.b     LON.nb     LAT.nb  MAX.LAT.nb     distance  \\\n",
       "0 -87.075715  41.493853 -91.025904  16.609263   26.935812  2784.239053   \n",
       "1 -87.075715  41.493853 -91.025904  16.609263   26.935812  2784.239053   \n",
       "\n",
       "   intersect  \n",
       "0   0.001712  \n",
       "1   0.001712  "
      ]
     },
     "execution_count": 28,
     "metadata": {},
     "output_type": "execute_result"
    }
   ],
   "source": [
    "df_s_merged = df_s_merged.merge(df_distances, on='sci_name')\n",
    "print(df_s_merged.shape)\n",
    "\n",
    "df_s_merged.head(2)"
   ]
  },
  {
   "cell_type": "code",
   "execution_count": 45,
   "metadata": {
    "scrolled": true
   },
   "outputs": [
    {
     "name": "stdout",
     "output_type": "stream",
     "text": [
      "                            OLS Regression Results                            \n",
      "==============================================================================\n",
      "Dep. Variable:              beta_mean   R-squared:                       0.081\n",
      "Model:                            OLS   Adj. R-squared:                  0.081\n",
      "Method:                 Least Squares   F-statistic:                     100.9\n",
      "Date:                Sun, 19 Jun 2022   Prob (F-statistic):           1.37e-62\n",
      "Time:                        00:53:59   Log-Likelihood:                 2338.1\n",
      "No. Observations:                3419   AIC:                            -4668.\n",
      "Df Residuals:                    3415   BIC:                            -4644.\n",
      "Df Model:                           3                                         \n",
      "Covariance Type:            nonrobust                                         \n",
      "======================================================================================\n",
      "                         coef    std err          t      P>|t|      [0.025      0.975]\n",
      "--------------------------------------------------------------------------------------\n",
      "Intercept              0.1570      0.010     15.272      0.000       0.137       0.177\n",
      "body_mass              0.0027      0.001      5.183      0.000       0.002       0.004\n",
      "distance           -1.084e-05    2.5e-06     -4.339      0.000   -1.57e-05   -5.94e-06\n",
      "body_mass:distance -4.131e-07   1.07e-07     -3.851      0.000   -6.23e-07   -2.03e-07\n",
      "==============================================================================\n",
      "Omnibus:                      508.469   Durbin-Watson:                   0.221\n",
      "Prob(Omnibus):                  0.000   Jarque-Bera (JB):             1145.412\n",
      "Skew:                           0.865   Prob(JB):                    1.89e-249\n",
      "Kurtosis:                       5.247   Cond. No.                     5.16e+05\n",
      "==============================================================================\n",
      "\n",
      "Warnings:\n",
      "[1] Standard Errors assume that the covariance matrix of the errors is correctly specified.\n",
      "[2] The condition number is large, 5.16e+05. This might indicate that there are\n",
      "strong multicollinearity or other numerical problems.\n"
     ]
    }
   ],
   "source": [
    "model_ols = smf.ols(formula='beta_mean ~ body_mass * distance', data=df_s_merged)\n",
    "\n",
    "res_ols = model_ols.fit()\n",
    "\n",
    "print(res_ols.summary())"
   ]
  },
  {
   "cell_type": "code",
   "execution_count": 46,
   "metadata": {},
   "outputs": [
    {
     "data": {
      "image/png": "[encoded data removed]",
      "text/plain": [
       "<Figure size 432x288 with 1 Axes>"
      ]
     },
     "metadata": {
      "needs_background": "light"
     },
     "output_type": "display_data"
    }
   ],
   "source": [
    "ax = df_s_merged.plot.scatter(x='body_mass', y='beta_mean')\n",
    "\n",
    "plt.show()"
   ]
  },
  {
   "cell_type": "code",
   "execution_count": 36,
   "metadata": {},
   "outputs": [
    {
     "name": "stdout",
     "output_type": "stream",
     "text": [
      "(54, 14)\n"
     ]
    },
    {
     "data": {
      "text/html": [
       "<div>\n",
       "<style scoped>\n",
       "    .dataframe tbody tr th:only-of-type {\n",
       "        vertical-align: middle;\n",
       "    }\n",
       "\n",
       "    .dataframe tbody tr th {\n",
       "        vertical-align: top;\n",
       "    }\n",
       "\n",
       "    .dataframe thead th {\n",
       "        text-align: right;\n",
       "    }\n",
       "</style>\n",
       "<table border=\"1\" class=\"dataframe\">\n",
       "  <thead>\n",
       "    <tr style=\"text-align: right;\">\n",
       "      <th></th>\n",
       "      <th>sci_name</th>\n",
       "      <th>species</th>\n",
       "      <th>xi_mean</th>\n",
       "      <th>xi_sd</th>\n",
       "      <th>gamma_mean</th>\n",
       "      <th>gamma_sd</th>\n",
       "      <th>body_mass</th>\n",
       "      <th>LON.b</th>\n",
       "      <th>LAT.b</th>\n",
       "      <th>LON.nb</th>\n",
       "      <th>LAT.nb</th>\n",
       "      <th>MAX.LAT.nb</th>\n",
       "      <th>distance</th>\n",
       "      <th>intersect</th>\n",
       "    </tr>\n",
       "  </thead>\n",
       "  <tbody>\n",
       "    <tr>\n",
       "      <th>0</th>\n",
       "      <td>Archilochus colubris</td>\n",
       "      <td>Ruby-throated Hummingbird</td>\n",
       "      <td>0.004206</td>\n",
       "      <td>0.022077</td>\n",
       "      <td>0.011857</td>\n",
       "      <td>0.004675</td>\n",
       "      <td>3.217123</td>\n",
       "      <td>-87.075715</td>\n",
       "      <td>41.493853</td>\n",
       "      <td>-91.025904</td>\n",
       "      <td>16.609263</td>\n",
       "      <td>26.935812</td>\n",
       "      <td>2784.239053</td>\n",
       "      <td>0.001712</td>\n",
       "    </tr>\n",
       "    <tr>\n",
       "      <th>1</th>\n",
       "      <td>Catharus fuscescens</td>\n",
       "      <td>Veery</td>\n",
       "      <td>0.023148</td>\n",
       "      <td>0.024254</td>\n",
       "      <td>0.006405</td>\n",
       "      <td>0.004829</td>\n",
       "      <td>31.900000</td>\n",
       "      <td>-93.562222</td>\n",
       "      <td>46.620977</td>\n",
       "      <td>-52.924181</td>\n",
       "      <td>-14.012278</td>\n",
       "      <td>-6.057114</td>\n",
       "      <td>7846.937037</td>\n",
       "      <td>0.000000</td>\n",
       "    </tr>\n",
       "  </tbody>\n",
       "</table>\n",
       "</div>"
      ],
      "text/plain": [
       "               sci_name                    species   xi_mean     xi_sd  \\\n",
       "0  Archilochus colubris  Ruby-throated Hummingbird  0.004206  0.022077   \n",
       "1   Catharus fuscescens                      Veery  0.023148  0.024254   \n",
       "\n",
       "   gamma_mean  gamma_sd  body_mass      LON.b      LAT.b     LON.nb  \\\n",
       "0    0.011857  0.004675   3.217123 -87.075715  41.493853 -91.025904   \n",
       "1    0.006405  0.004829  31.900000 -93.562222  46.620977 -52.924181   \n",
       "\n",
       "      LAT.nb  MAX.LAT.nb     distance  intersect  \n",
       "0  16.609263   26.935812  2784.239053   0.001712  \n",
       "1 -14.012278   -6.057114  7846.937037   0.000000  "
      ]
     },
     "execution_count": 36,
     "metadata": {},
     "output_type": "execute_result"
    }
   ],
   "source": [
    "df_s_merged_means = df_s_merged[['sci_name', 'species', 'xi_mean', 'xi_sd', 'gamma_mean', 'gamma_sd', 'body_mass', \n",
    "                                 'LON.b', 'LAT.b', 'LON.nb', 'LAT.nb', 'MAX.LAT.nb', 'distance', 'intersect']].drop_duplicates()\n",
    "\n",
    "df_s_merged_means = df_s_merged_means.reset_index(drop=True)\n",
    "\n",
    "print(df_s_merged_means.shape)\n",
    "\n",
    "df_s_merged_means.head(2)"
   ]
  },
  {
   "cell_type": "code",
   "execution_count": 37,
   "metadata": {
    "scrolled": true
   },
   "outputs": [
    {
     "name": "stdout",
     "output_type": "stream",
     "text": [
      "                            OLS Regression Results                            \n",
      "==============================================================================\n",
      "Dep. Variable:                xi_mean   R-squared:                       0.136\n",
      "Model:                            OLS   Adj. R-squared:                  0.084\n",
      "Method:                 Least Squares   F-statistic:                     2.615\n",
      "Date:                Sun, 19 Jun 2022   Prob (F-statistic):             0.0613\n",
      "Time:                        00:47:23   Log-Likelihood:                 51.472\n",
      "No. Observations:                  54   AIC:                            -94.94\n",
      "Df Residuals:                      50   BIC:                            -86.99\n",
      "Df Model:                           3                                         \n",
      "Covariance Type:            nonrobust                                         \n",
      "======================================================================================\n",
      "                         coef    std err          t      P>|t|      [0.025      0.975]\n",
      "--------------------------------------------------------------------------------------\n",
      "Intercept              0.1760      0.058      3.032      0.004       0.059       0.293\n",
      "body_mass              0.0016      0.003      0.559      0.579      -0.004       0.007\n",
      "distance           -1.621e-05   1.51e-05     -1.071      0.289   -4.66e-05    1.42e-05\n",
      "body_mass:distance   -1.9e-07   6.12e-07     -0.310      0.758   -1.42e-06    1.04e-06\n",
      "==============================================================================\n",
      "Omnibus:                       14.726   Durbin-Watson:                   2.027\n",
      "Prob(Omnibus):                  0.001   Jarque-Bera (JB):               17.361\n",
      "Skew:                           1.071   Prob(JB):                     0.000170\n",
      "Kurtosis:                       4.769   Cond. No.                     4.40e+05\n",
      "==============================================================================\n",
      "\n",
      "Warnings:\n",
      "[1] Standard Errors assume that the covariance matrix of the errors is correctly specified.\n",
      "[2] The condition number is large, 4.4e+05. This might indicate that there are\n",
      "strong multicollinearity or other numerical problems.\n"
     ]
    }
   ],
   "source": [
    "model_ols = smf.ols(formula='xi_mean ~ body_mass * distance', data=df_s_merged_means)\n",
    "\n",
    "res_ols = model_ols.fit()\n",
    "\n",
    "print(res_ols.summary())"
   ]
  },
  {
   "cell_type": "code",
   "execution_count": 47,
   "metadata": {},
   "outputs": [
    {
     "data": {
      "image/png": "[encoded data removed]",
      "text/plain": [
       "<Figure size 432x288 with 1 Axes>"
      ]
     },
     "metadata": {
      "needs_background": "light"
     },
     "output_type": "display_data"
    }
   ],
   "source": [
    "ax = df_s_merged_means.plot.scatter(x='body_mass', y='xi_mean')\n",
    "\n",
    "plt.show()"
   ]
  },
  {
   "cell_type": "code",
   "execution_count": null,
   "metadata": {},
   "outputs": [],
   "source": []
  },
  {
   "cell_type": "code",
   "execution_count": null,
   "metadata": {},
   "outputs": [],
   "source": [
    "species = \n",
    "\n",
    "df_species = df[df['sci_name'] == species]\n",
    "\n",
    "df_species = df_species[['species', 'sci_name', 'cell', 'year', 'lat', 'lon', 'arr_IAR_mean']]\n",
    "\n",
    "df_species = df_species.reset_index(drop=True)\n",
    "\n",
    "print(df_species.shape)\n",
    "\n",
    "df_species.head(2)"
   ]
  },
  {
   "cell_type": "code",
   "execution_count": null,
   "metadata": {},
   "outputs": [],
   "source": [
    "df_cnt = df_species[['cell', 'year']].groupby(['cell']).count()\n",
    "\n",
    "df_cnt = df_cnt.reset_index()\n",
    "\n",
    "df_cnt = df_cnt.rename(columns={'year': 'number_of_years'})\n",
    "\n",
    "print(df_cnt.shape)\n",
    "\n",
    "df_cnt.head(2)"
   ]
  },
  {
   "cell_type": "code",
   "execution_count": null,
   "metadata": {},
   "outputs": [],
   "source": [
    "list_cells = list(df_cnt[df_cnt['number_of_years'] >= number_of_years]['cell'])\n",
    "print(len(list_cells))\n",
    "\n",
    "print(len(list(df_cnt[df_cnt['number_of_years'] >= 3]['cell'])))\n",
    "\n",
    "df_species = df_species[df_species['cell'].isin(list_cells)]\n",
    "print(df_species.shape)"
   ]
  },
  {
   "cell_type": "code",
   "execution_count": null,
   "metadata": {},
   "outputs": [],
   "source": [
    "list_slopes = []\n",
    "list_r_squared = []\n",
    "list_p_values = []\n",
    "\n",
    "for cell in list_cells:\n",
    "\n",
    "    df_cell = df_species[df_species['cell'] == cell]\n",
    "    \n",
    "    df_cell = df_cell.reset_index(drop=True)\n",
    "    \n",
    "    print(df_cell.shape)\n",
    "\n",
    "    model_ols = smf.ols(formula='arr_IAR_mean ~ year', data=df_cell)\n",
    "\n",
    "    res_ols = model_ols.fit()\n",
    "\n",
    "    # print(res_ols.summary())\n",
    "\n",
    "    list_slopes.append(res_ols.params[1])\n",
    "\n",
    "    list_intercepts.append(res_ols.params[0])\n",
    "\n",
    "    list_r_squared.append(res_ols.rsquared)\n",
    "\n",
    "    list_p_values.append(res_ols.pvalues[1])\n",
    "\n",
    "df_slopes = pd.DataFrame(data={'cell': list_cells, 'slope': list_slopes, 'r_squared': list_r_squared, \n",
    "                                'p_value': list_p_values})\n",
    "\n",
    "df_slopes['scientific_name'] = species\n",
    "\n",
    "print(df_slopes.shape)\n",
    "\n",
    "df_slopes.head(2)\n",
    "\n",
    "# Quality control?\n",
    "\n",
    "# Latitude\n",
    "\n",
    "model_ols = smf.ols(formula='slope ~ lat', data=df_slopes)\n",
    "\n",
    "res_ols = model_ols.fit()\n",
    "\n",
    "slope_lat = res_ols.params[1]"
   ]
  }
 ],
 "metadata": {
  "kernelspec": {
   "display_name": "Python 3",
   "language": "python",
   "name": "python3"
  },
  "language_info": {
   "codemirror_mode": {
    "name": "ipython",
    "version": 3
   },
   "file_extension": ".py",
   "mimetype": "text/x-python",
   "name": "python",
   "nbconvert_exporter": "python",
   "pygments_lexer": "ipython3",
   "version": "3.7.7"
  }
 },
 "nbformat": 4,
 "nbformat_minor": 4
}
