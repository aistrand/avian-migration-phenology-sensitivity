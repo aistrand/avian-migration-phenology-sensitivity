{
 "cells": [
  {
   "cell_type": "code",
   "execution_count": null,
   "metadata": {},
   "outputs": [],
   "source": [
    "import os\n",
    "import pandas as pd\n",
    "import matplotlib.pyplot as plt"
   ]
  },
  {
   "cell_type": "code",
   "execution_count": null,
   "metadata": {},
   "outputs": [],
   "source": [
    "os.getcwd()"
   ]
  },
  {
   "cell_type": "code",
   "execution_count": null,
   "metadata": {},
   "outputs": [],
   "source": [
    "path = '/Users/alvastrand/Documents/OU/Research/data/'\n",
    "# Change current working directory\n",
    "os.chdir(path)"
   ]
  },
  {
   "cell_type": "code",
   "execution_count": null,
   "metadata": {},
   "outputs": [],
   "source": [
    "os.getcwd()"
   ]
  },
  {
   "cell_type": "code",
   "execution_count": null,
   "metadata": {},
   "outputs": [],
   "source": [
    "pd.set_option('max_columns', 999)\n",
    "pd.set_option('max_rows', 999)"
   ]
  },
  {
   "cell_type": "code",
   "execution_count": null,
   "metadata": {},
   "outputs": [],
   "source": [
    "start_date = '0101'\n",
    "end_date = '0731'\n",
    "month = 'Apr'\n",
    "year = '2020'\n",
    "countries_states = 'US_states_east_Mississippi'"
   ]
  },
  {
   "cell_type": "code",
   "execution_count": null,
   "metadata": {},
   "outputs": [],
   "source": [
    "subdir = 'output/'\n",
    "filename = \"obligate_aerial_insectivores_ebird_species_codes.csv\"\n",
    "\n",
    "df_species_codes = pd.read_csv(subdir + filename)\n",
    "\n",
    "print(len(df_species_codes))"
   ]
  },
  {
   "cell_type": "code",
   "execution_count": null,
   "metadata": {},
   "outputs": [],
   "source": [
    "df_species_codes.head(2)"
   ]
  },
  {
   "cell_type": "code",
   "execution_count": null,
   "metadata": {},
   "outputs": [],
   "source": [
    "def name_of_function(start_date, end_date, month, year, *args):\n",
    "    \n",
    "    subdir = 'eBird/ebd_output/'\n",
    "    \n",
    "    if args != ():\n",
    "        \n",
    "        countries_states = args[0]\n",
    "\n",
    "        filename = 'ebd_' + countries_states + '_' + start_date + '_' + end_date + \\\n",
    "        '_complete_zerofilled_grid_cell_ids_rel' + month + '-' + year + '.csv'\n",
    "        print(filename)\n",
    "    \n",
    "    df_ids = pd.read_csv(subdir + filename)\n",
    "    \n",
    "    return df_ids"
   ]
  },
  {
   "cell_type": "code",
   "execution_count": null,
   "metadata": {},
   "outputs": [],
   "source": [
    "df_ids = name_of_function(start_date, end_date, month, year, countries_states)"
   ]
  },
  {
   "cell_type": "code",
   "execution_count": null,
   "metadata": {},
   "outputs": [],
   "source": [
    "df_ids.head(2)"
   ]
  }
 ],
 "metadata": {
  "kernelspec": {
   "display_name": "Python 3",
   "language": "python",
   "name": "python3"
  },
  "language_info": {
   "codemirror_mode": {
    "name": "ipython",
    "version": 3
   },
   "file_extension": ".py",
   "mimetype": "text/x-python",
   "name": "python",
   "nbconvert_exporter": "python",
   "pygments_lexer": "ipython3",
   "version": "3.7.7"
  }
 },
 "nbformat": 4,
 "nbformat_minor": 2
}
