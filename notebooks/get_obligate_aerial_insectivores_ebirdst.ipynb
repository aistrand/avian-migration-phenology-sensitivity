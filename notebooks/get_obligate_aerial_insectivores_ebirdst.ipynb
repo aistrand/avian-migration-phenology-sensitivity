{
 "cells": [
  {
   "cell_type": "code",
   "execution_count": 1,
   "metadata": {},
   "outputs": [],
   "source": [
    "import os\n",
    "import pandas as pd\n",
    "import numpy as np"
   ]
  },
  {
   "cell_type": "code",
   "execution_count": 2,
   "metadata": {},
   "outputs": [],
   "source": [
    "pd.set_option('max_columns', 100)\n",
    "pd.set_option('max_rows', 100)"
   ]
  },
  {
   "cell_type": "code",
   "execution_count": 3,
   "metadata": {},
   "outputs": [
    {
     "data": {
      "text/plain": [
       "'/Users/alvastrand/Documents/OU/Research/notebooks'"
      ]
     },
     "execution_count": 3,
     "metadata": {},
     "output_type": "execute_result"
    }
   ],
   "source": [
    "os.getcwd()"
   ]
  },
  {
   "cell_type": "code",
   "execution_count": 4,
   "metadata": {},
   "outputs": [],
   "source": [
    "path = '/Users/alvastrand/Documents/OU/Research/'\n",
    "os.chdir(path)"
   ]
  },
  {
   "cell_type": "code",
   "execution_count": 5,
   "metadata": {},
   "outputs": [
    {
     "data": {
      "text/plain": [
       "'/Users/alvastrand/Documents/OU/Research'"
      ]
     },
     "execution_count": 5,
     "metadata": {},
     "output_type": "execute_result"
    }
   ],
   "source": [
    "os.getcwd()"
   ]
  },
  {
   "cell_type": "code",
   "execution_count": 6,
   "metadata": {},
   "outputs": [],
   "source": [
    "# subdir = 'data/output/'\n",
    "# filename = 'obligate_aerial_insectivores_birdlife_nacc.csv'\n",
    "# df_a_i = pd.read_csv(subdir + filename)"
   ]
  },
  {
   "cell_type": "code",
   "execution_count": 7,
   "metadata": {},
   "outputs": [],
   "source": [
    "subdir = 'data/output/'\n",
    "filename = 'all_obligate_aerial_insectivores_birdlife_nacc_north_america.csv'\n",
    "df_a_i_na_all = pd.read_csv(subdir + filename)"
   ]
  },
  {
   "cell_type": "code",
   "execution_count": 8,
   "metadata": {},
   "outputs": [],
   "source": [
    "subdir = 'data/output/'\n",
    "filename = 'obligate_aerial_insectivores_birdlife_nacc_north_america.csv'\n",
    "df_a_i_na = pd.read_csv(subdir + filename)"
   ]
  },
  {
   "cell_type": "markdown",
   "metadata": {},
   "source": [
    "Tyrannidae."
   ]
  },
  {
   "cell_type": "code",
   "execution_count": 9,
   "metadata": {},
   "outputs": [],
   "source": [
    "subdir = 'data/eBird/'\n",
    "filename = 'ebirdst_run_names.csv'\n",
    "df_e = pd.read_csv(subdir + filename)"
   ]
  },
  {
   "cell_type": "code",
   "execution_count": 10,
   "metadata": {},
   "outputs": [
    {
     "name": "stdout",
     "output_type": "stream",
     "text": [
      "610\n"
     ]
    }
   ],
   "source": [
    "# print(len(df_a_i))\n",
    "\n",
    "# print(len(df_a_i_na_all))\n",
    "# print(len(df_a_i_na))\n",
    "\n",
    "print(len(df_e))"
   ]
  },
  {
   "cell_type": "code",
   "execution_count": null,
   "metadata": {},
   "outputs": [],
   "source": []
  },
  {
   "cell_type": "code",
   "execution_count": null,
   "metadata": {},
   "outputs": [],
   "source": [
    "df_a_i_na_all.head(2)"
   ]
  },
  {
   "cell_type": "code",
   "execution_count": null,
   "metadata": {},
   "outputs": [],
   "source": [
    "df_a_i_na.head(2)"
   ]
  },
  {
   "cell_type": "markdown",
   "metadata": {},
   "source": [
    "Tyrannidae."
   ]
  },
  {
   "cell_type": "code",
   "execution_count": 11,
   "metadata": {},
   "outputs": [
    {
     "data": {
      "text/html": [
       "<div>\n",
       "<style scoped>\n",
       "    .dataframe tbody tr th:only-of-type {\n",
       "        vertical-align: middle;\n",
       "    }\n",
       "\n",
       "    .dataframe tbody tr th {\n",
       "        vertical-align: top;\n",
       "    }\n",
       "\n",
       "    .dataframe thead th {\n",
       "        text-align: right;\n",
       "    }\n",
       "</style>\n",
       "<table border=\"1\" class=\"dataframe\">\n",
       "  <thead>\n",
       "    <tr style=\"text-align: right;\">\n",
       "      <th></th>\n",
       "      <th>species_code</th>\n",
       "      <th>run_name</th>\n",
       "      <th>scientific_name</th>\n",
       "      <th>common_name</th>\n",
       "      <th>breeding_start_dt</th>\n",
       "      <th>breeding_end_dt</th>\n",
       "      <th>nonbreeding_start_dt</th>\n",
       "      <th>nonbreeding_end_dt</th>\n",
       "      <th>postbreeding_migration_start_dt</th>\n",
       "      <th>postbreeding_migration_end_dt</th>\n",
       "      <th>prebreeding_migration_start_dt</th>\n",
       "      <th>prebreeding_migration_end_dt</th>\n",
       "      <th>year_round_start_dt</th>\n",
       "      <th>year_round_end_dt</th>\n",
       "    </tr>\n",
       "  </thead>\n",
       "  <tbody>\n",
       "    <tr>\n",
       "      <th>0</th>\n",
       "      <td>bbwduc</td>\n",
       "      <td>bbwduc-ERD2018-EBIRD_SCIENCE-20191105-dc3957b5</td>\n",
       "      <td>Dendrocygna autumnalis</td>\n",
       "      <td>Black-bellied Whistling-Duck</td>\n",
       "      <td>2018-05-24</td>\n",
       "      <td>2018-08-03</td>\n",
       "      <td>2018-01-18</td>\n",
       "      <td>2018-03-01</td>\n",
       "      <td>2018-08-10</td>\n",
       "      <td>2018-01-11</td>\n",
       "      <td>2018-03-08</td>\n",
       "      <td>2018-05-17</td>\n",
       "      <td>NaN</td>\n",
       "      <td>NaN</td>\n",
       "    </tr>\n",
       "    <tr>\n",
       "      <th>1</th>\n",
       "      <td>fuwduc</td>\n",
       "      <td>fuwduc-ERD2018-EBIRD_SCIENCE-20191108-754039df</td>\n",
       "      <td>Dendrocygna bicolor</td>\n",
       "      <td>Fulvous Whistling-Duck</td>\n",
       "      <td>2018-05-10</td>\n",
       "      <td>2018-08-17</td>\n",
       "      <td>2018-11-30</td>\n",
       "      <td>2018-02-15</td>\n",
       "      <td>2018-08-24</td>\n",
       "      <td>2018-11-23</td>\n",
       "      <td>2018-02-22</td>\n",
       "      <td>2018-05-03</td>\n",
       "      <td>NaN</td>\n",
       "      <td>NaN</td>\n",
       "    </tr>\n",
       "  </tbody>\n",
       "</table>\n",
       "</div>"
      ],
      "text/plain": [
       "  species_code                                        run_name  \\\n",
       "0       bbwduc  bbwduc-ERD2018-EBIRD_SCIENCE-20191105-dc3957b5   \n",
       "1       fuwduc  fuwduc-ERD2018-EBIRD_SCIENCE-20191108-754039df   \n",
       "\n",
       "          scientific_name                   common_name breeding_start_dt  \\\n",
       "0  Dendrocygna autumnalis  Black-bellied Whistling-Duck        2018-05-24   \n",
       "1     Dendrocygna bicolor        Fulvous Whistling-Duck        2018-05-10   \n",
       "\n",
       "  breeding_end_dt nonbreeding_start_dt nonbreeding_end_dt  \\\n",
       "0      2018-08-03           2018-01-18         2018-03-01   \n",
       "1      2018-08-17           2018-11-30         2018-02-15   \n",
       "\n",
       "  postbreeding_migration_start_dt postbreeding_migration_end_dt  \\\n",
       "0                      2018-08-10                    2018-01-11   \n",
       "1                      2018-08-24                    2018-11-23   \n",
       "\n",
       "  prebreeding_migration_start_dt prebreeding_migration_end_dt  \\\n",
       "0                     2018-03-08                   2018-05-17   \n",
       "1                     2018-02-22                   2018-05-03   \n",
       "\n",
       "  year_round_start_dt year_round_end_dt  \n",
       "0                 NaN               NaN  \n",
       "1                 NaN               NaN  "
      ]
     },
     "execution_count": 11,
     "metadata": {},
     "output_type": "execute_result"
    }
   ],
   "source": [
    "df_e.head(2)"
   ]
  },
  {
   "cell_type": "code",
   "execution_count": null,
   "metadata": {},
   "outputs": [],
   "source": []
  },
  {
   "cell_type": "code",
   "execution_count": null,
   "metadata": {
    "scrolled": false
   },
   "outputs": [],
   "source": [
    "df_a_i_na.columns.tolist()"
   ]
  },
  {
   "cell_type": "code",
   "execution_count": null,
   "metadata": {},
   "outputs": [],
   "source": [
    "df_e.columns.tolist()"
   ]
  },
  {
   "cell_type": "code",
   "execution_count": null,
   "metadata": {},
   "outputs": [],
   "source": [
    "[i for i in df_a_i_na.columns.tolist() if i in df_e.columns.tolist()]"
   ]
  },
  {
   "cell_type": "code",
   "execution_count": null,
   "metadata": {},
   "outputs": [],
   "source": [
    "[i for i in df_a_i_na.columns.tolist() if i not in df_e.columns.tolist()]"
   ]
  },
  {
   "cell_type": "code",
   "execution_count": null,
   "metadata": {},
   "outputs": [],
   "source": [
    "[i for i in df_e.columns.tolist() if i not in df_a_i_na.columns.tolist()]"
   ]
  },
  {
   "cell_type": "code",
   "execution_count": null,
   "metadata": {},
   "outputs": [],
   "source": []
  },
  {
   "cell_type": "code",
   "execution_count": null,
   "metadata": {},
   "outputs": [],
   "source": [
    "# assert(df_a_i.columns.tolist() == df_a_i_na.columns.tolist())"
   ]
  },
  {
   "cell_type": "code",
   "execution_count": null,
   "metadata": {},
   "outputs": [],
   "source": [
    "# print(len(df_a_i_na.merge(df_e, on='scientific_name')))\n",
    "# print(len(df_a_i_na.merge(df_e, on='common_name')))\n",
    "# print(len(df_a_i_na.merge(df_e, on=['scientific_name', 'common_name'])))"
   ]
  },
  {
   "cell_type": "code",
   "execution_count": null,
   "metadata": {},
   "outputs": [],
   "source": []
  },
  {
   "cell_type": "code",
   "execution_count": null,
   "metadata": {},
   "outputs": [],
   "source": [
    "df_a_i_na_e = df_a_i_na.merge(df_e, on=['scientific_name', 'common_name'])"
   ]
  },
  {
   "cell_type": "code",
   "execution_count": null,
   "metadata": {},
   "outputs": [],
   "source": [
    "len(df_a_i_na_e)\n",
    "# 17"
   ]
  },
  {
   "cell_type": "code",
   "execution_count": null,
   "metadata": {},
   "outputs": [],
   "source": [
    "df_a_i_na_e.head(2)"
   ]
  },
  {
   "cell_type": "code",
   "execution_count": null,
   "metadata": {},
   "outputs": [],
   "source": [
    "# df_a_i_na_e['common_name'].tolist()"
   ]
  },
  {
   "cell_type": "code",
   "execution_count": null,
   "metadata": {},
   "outputs": [],
   "source": [
    "list(set(df_a_i_na['common_name'].tolist()).difference(df_a_i_na_e['common_name'].tolist()))"
   ]
  },
  {
   "cell_type": "code",
   "execution_count": null,
   "metadata": {},
   "outputs": [],
   "source": []
  },
  {
   "cell_type": "code",
   "execution_count": null,
   "metadata": {},
   "outputs": [],
   "source": [
    "df_a_i_na_all_e = df_a_i_na_all.merge(df_e, on=['scientific_name', 'common_name'])"
   ]
  },
  {
   "cell_type": "code",
   "execution_count": null,
   "metadata": {},
   "outputs": [],
   "source": [
    "len(df_a_i_na_all_e)"
   ]
  },
  {
   "cell_type": "code",
   "execution_count": null,
   "metadata": {},
   "outputs": [],
   "source": [
    "df_a_i_na_all_e.head(2)"
   ]
  },
  {
   "cell_type": "code",
   "execution_count": null,
   "metadata": {},
   "outputs": [],
   "source": [
    "# df_a_i_na_all_e['common_name'].tolist()"
   ]
  },
  {
   "cell_type": "code",
   "execution_count": null,
   "metadata": {},
   "outputs": [],
   "source": [
    "list(set(df_a_i_na_all['common_name'].tolist()).difference(df_a_i_na_all_e['common_name'].tolist()))"
   ]
  },
  {
   "cell_type": "code",
   "execution_count": null,
   "metadata": {},
   "outputs": [],
   "source": [
    "# subdir = 'data/output/'\n",
    "# filename = 'all_obligate_aerial_insectivores_ebirdst.csv'\n",
    "# df_a_i_na_all_e[['species_code', 'scientific_name', 'common_name']].to_csv(subdir + filename, index=False)"
   ]
  },
  {
   "cell_type": "code",
   "execution_count": null,
   "metadata": {},
   "outputs": [],
   "source": []
  },
  {
   "cell_type": "markdown",
   "metadata": {},
   "source": [
    "Tyrannidae."
   ]
  },
  {
   "cell_type": "code",
   "execution_count": 12,
   "metadata": {},
   "outputs": [],
   "source": [
    "subdir = 'data/Birds_of_North_America/'\n",
    "filename = 'obligate_aerial_insectivores_tyrannidae_birds_of_north_america.csv'\n",
    "df_bna_t = pd.read_csv(subdir + filename)"
   ]
  },
  {
   "cell_type": "code",
   "execution_count": 13,
   "metadata": {},
   "outputs": [
    {
     "data": {
      "text/plain": [
       "55"
      ]
     },
     "execution_count": 13,
     "metadata": {},
     "output_type": "execute_result"
    }
   ],
   "source": [
    "len(df_bna_t)"
   ]
  },
  {
   "cell_type": "code",
   "execution_count": 14,
   "metadata": {},
   "outputs": [
    {
     "data": {
      "text/html": [
       "<div>\n",
       "<style scoped>\n",
       "    .dataframe tbody tr th:only-of-type {\n",
       "        vertical-align: middle;\n",
       "    }\n",
       "\n",
       "    .dataframe tbody tr th {\n",
       "        vertical-align: top;\n",
       "    }\n",
       "\n",
       "    .dataframe thead th {\n",
       "        text-align: right;\n",
       "    }\n",
       "</style>\n",
       "<table border=\"1\" class=\"dataframe\">\n",
       "  <thead>\n",
       "    <tr style=\"text-align: right;\">\n",
       "      <th></th>\n",
       "      <th>order</th>\n",
       "      <th>family</th>\n",
       "      <th>common_name</th>\n",
       "      <th>scientific_name</th>\n",
       "    </tr>\n",
       "  </thead>\n",
       "  <tbody>\n",
       "    <tr>\n",
       "      <th>0</th>\n",
       "      <td>Caprimulgiformes</td>\n",
       "      <td>Caprimulgidae</td>\n",
       "      <td>Lesser Nighthawk</td>\n",
       "      <td>Chordeiles acutipennis</td>\n",
       "    </tr>\n",
       "    <tr>\n",
       "      <th>1</th>\n",
       "      <td>Caprimulgiformes</td>\n",
       "      <td>Caprimulgidae</td>\n",
       "      <td>Common Nighthawk</td>\n",
       "      <td>Chordeiles minor</td>\n",
       "    </tr>\n",
       "  </tbody>\n",
       "</table>\n",
       "</div>"
      ],
      "text/plain": [
       "              order         family       common_name         scientific_name\n",
       "0  Caprimulgiformes  Caprimulgidae  Lesser Nighthawk  Chordeiles acutipennis\n",
       "1  Caprimulgiformes  Caprimulgidae  Common Nighthawk        Chordeiles minor"
      ]
     },
     "execution_count": 14,
     "metadata": {},
     "output_type": "execute_result"
    }
   ],
   "source": [
    "df_bna_t.head(2)"
   ]
  },
  {
   "cell_type": "code",
   "execution_count": 15,
   "metadata": {},
   "outputs": [
    {
     "data": {
      "text/plain": [
       "Passeriformes       42\n",
       "Caprimulgiformes    13\n",
       "Name: order, dtype: int64"
      ]
     },
     "execution_count": 15,
     "metadata": {},
     "output_type": "execute_result"
    }
   ],
   "source": [
    "df_bna_t['order'].value_counts()"
   ]
  },
  {
   "cell_type": "code",
   "execution_count": 16,
   "metadata": {},
   "outputs": [
    {
     "data": {
      "text/plain": [
       "Tyrannidae       34\n",
       "Caprimulgidae     9\n",
       "Hirundinidae      8\n",
       "Apodidae          4\n",
       "Name: family, dtype: int64"
      ]
     },
     "execution_count": 16,
     "metadata": {},
     "output_type": "execute_result"
    }
   ],
   "source": [
    "df_bna_t['family'].value_counts()"
   ]
  },
  {
   "cell_type": "code",
   "execution_count": 17,
   "metadata": {},
   "outputs": [],
   "source": [
    "df_bna_t['aerial_maneuver'] = np.where(df_bna_t['family'] == 'Tyrannidae', 'sally', 'screen')"
   ]
  },
  {
   "cell_type": "code",
   "execution_count": 18,
   "metadata": {},
   "outputs": [
    {
     "data": {
      "text/html": [
       "<div>\n",
       "<style scoped>\n",
       "    .dataframe tbody tr th:only-of-type {\n",
       "        vertical-align: middle;\n",
       "    }\n",
       "\n",
       "    .dataframe tbody tr th {\n",
       "        vertical-align: top;\n",
       "    }\n",
       "\n",
       "    .dataframe thead th {\n",
       "        text-align: right;\n",
       "    }\n",
       "</style>\n",
       "<table border=\"1\" class=\"dataframe\">\n",
       "  <thead>\n",
       "    <tr style=\"text-align: right;\">\n",
       "      <th></th>\n",
       "      <th>order</th>\n",
       "      <th>family</th>\n",
       "      <th>common_name</th>\n",
       "      <th>scientific_name</th>\n",
       "      <th>aerial_maneuver</th>\n",
       "    </tr>\n",
       "  </thead>\n",
       "  <tbody>\n",
       "    <tr>\n",
       "      <th>0</th>\n",
       "      <td>Caprimulgiformes</td>\n",
       "      <td>Caprimulgidae</td>\n",
       "      <td>Lesser Nighthawk</td>\n",
       "      <td>Chordeiles acutipennis</td>\n",
       "      <td>screen</td>\n",
       "    </tr>\n",
       "    <tr>\n",
       "      <th>1</th>\n",
       "      <td>Caprimulgiformes</td>\n",
       "      <td>Caprimulgidae</td>\n",
       "      <td>Common Nighthawk</td>\n",
       "      <td>Chordeiles minor</td>\n",
       "      <td>screen</td>\n",
       "    </tr>\n",
       "  </tbody>\n",
       "</table>\n",
       "</div>"
      ],
      "text/plain": [
       "              order         family       common_name         scientific_name  \\\n",
       "0  Caprimulgiformes  Caprimulgidae  Lesser Nighthawk  Chordeiles acutipennis   \n",
       "1  Caprimulgiformes  Caprimulgidae  Common Nighthawk        Chordeiles minor   \n",
       "\n",
       "  aerial_maneuver  \n",
       "0          screen  \n",
       "1          screen  "
      ]
     },
     "execution_count": 18,
     "metadata": {},
     "output_type": "execute_result"
    }
   ],
   "source": [
    "df_bna_t.head(2)"
   ]
  },
  {
   "cell_type": "code",
   "execution_count": 19,
   "metadata": {},
   "outputs": [],
   "source": [
    "df_bna_t_e = df_bna_t.merge(df_e, on=['scientific_name', 'common_name'])"
   ]
  },
  {
   "cell_type": "code",
   "execution_count": 20,
   "metadata": {},
   "outputs": [
    {
     "data": {
      "text/plain": [
       "53"
      ]
     },
     "execution_count": 20,
     "metadata": {},
     "output_type": "execute_result"
    }
   ],
   "source": [
    "len(df_bna_t_e)"
   ]
  },
  {
   "cell_type": "code",
   "execution_count": 21,
   "metadata": {},
   "outputs": [
    {
     "data": {
      "text/html": [
       "<div>\n",
       "<style scoped>\n",
       "    .dataframe tbody tr th:only-of-type {\n",
       "        vertical-align: middle;\n",
       "    }\n",
       "\n",
       "    .dataframe tbody tr th {\n",
       "        vertical-align: top;\n",
       "    }\n",
       "\n",
       "    .dataframe thead th {\n",
       "        text-align: right;\n",
       "    }\n",
       "</style>\n",
       "<table border=\"1\" class=\"dataframe\">\n",
       "  <thead>\n",
       "    <tr style=\"text-align: right;\">\n",
       "      <th></th>\n",
       "      <th>order</th>\n",
       "      <th>family</th>\n",
       "      <th>common_name</th>\n",
       "      <th>scientific_name</th>\n",
       "      <th>aerial_maneuver</th>\n",
       "      <th>species_code</th>\n",
       "      <th>run_name</th>\n",
       "      <th>breeding_start_dt</th>\n",
       "      <th>breeding_end_dt</th>\n",
       "      <th>nonbreeding_start_dt</th>\n",
       "      <th>nonbreeding_end_dt</th>\n",
       "      <th>postbreeding_migration_start_dt</th>\n",
       "      <th>postbreeding_migration_end_dt</th>\n",
       "      <th>prebreeding_migration_start_dt</th>\n",
       "      <th>prebreeding_migration_end_dt</th>\n",
       "      <th>year_round_start_dt</th>\n",
       "      <th>year_round_end_dt</th>\n",
       "    </tr>\n",
       "  </thead>\n",
       "  <tbody>\n",
       "    <tr>\n",
       "      <th>0</th>\n",
       "      <td>Caprimulgiformes</td>\n",
       "      <td>Caprimulgidae</td>\n",
       "      <td>Lesser Nighthawk</td>\n",
       "      <td>Chordeiles acutipennis</td>\n",
       "      <td>screen</td>\n",
       "      <td>lesnig</td>\n",
       "      <td>lesnig-ERD2018-EBIRD_SCIENCE-20191108-3d2d1383</td>\n",
       "      <td>2018-05-03</td>\n",
       "      <td>2018-08-03</td>\n",
       "      <td>2018-11-16</td>\n",
       "      <td>2018-03-08</td>\n",
       "      <td>2018-08-10</td>\n",
       "      <td>2018-11-09</td>\n",
       "      <td>2018-03-15</td>\n",
       "      <td>2018-04-26</td>\n",
       "      <td>NaN</td>\n",
       "      <td>NaN</td>\n",
       "    </tr>\n",
       "    <tr>\n",
       "      <th>1</th>\n",
       "      <td>Caprimulgiformes</td>\n",
       "      <td>Caprimulgidae</td>\n",
       "      <td>Common Nighthawk</td>\n",
       "      <td>Chordeiles minor</td>\n",
       "      <td>screen</td>\n",
       "      <td>comnig</td>\n",
       "      <td>comnig-ERD2018-EBIRD_SCIENCE-20191105-3cf8df7e</td>\n",
       "      <td>2018-06-21</td>\n",
       "      <td>2018-07-20</td>\n",
       "      <td>2018-11-16</td>\n",
       "      <td>2018-03-15</td>\n",
       "      <td>2018-07-27</td>\n",
       "      <td>2018-11-09</td>\n",
       "      <td>2018-03-22</td>\n",
       "      <td>2018-06-14</td>\n",
       "      <td>NaN</td>\n",
       "      <td>NaN</td>\n",
       "    </tr>\n",
       "  </tbody>\n",
       "</table>\n",
       "</div>"
      ],
      "text/plain": [
       "              order         family       common_name         scientific_name  \\\n",
       "0  Caprimulgiformes  Caprimulgidae  Lesser Nighthawk  Chordeiles acutipennis   \n",
       "1  Caprimulgiformes  Caprimulgidae  Common Nighthawk        Chordeiles minor   \n",
       "\n",
       "  aerial_maneuver species_code  \\\n",
       "0          screen       lesnig   \n",
       "1          screen       comnig   \n",
       "\n",
       "                                         run_name breeding_start_dt  \\\n",
       "0  lesnig-ERD2018-EBIRD_SCIENCE-20191108-3d2d1383        2018-05-03   \n",
       "1  comnig-ERD2018-EBIRD_SCIENCE-20191105-3cf8df7e        2018-06-21   \n",
       "\n",
       "  breeding_end_dt nonbreeding_start_dt nonbreeding_end_dt  \\\n",
       "0      2018-08-03           2018-11-16         2018-03-08   \n",
       "1      2018-07-20           2018-11-16         2018-03-15   \n",
       "\n",
       "  postbreeding_migration_start_dt postbreeding_migration_end_dt  \\\n",
       "0                      2018-08-10                    2018-11-09   \n",
       "1                      2018-07-27                    2018-11-09   \n",
       "\n",
       "  prebreeding_migration_start_dt prebreeding_migration_end_dt  \\\n",
       "0                     2018-03-15                   2018-04-26   \n",
       "1                     2018-03-22                   2018-06-14   \n",
       "\n",
       "  year_round_start_dt year_round_end_dt  \n",
       "0                 NaN               NaN  \n",
       "1                 NaN               NaN  "
      ]
     },
     "execution_count": 21,
     "metadata": {},
     "output_type": "execute_result"
    }
   ],
   "source": [
    "df_bna_t_e.head(2)"
   ]
  },
  {
   "cell_type": "code",
   "execution_count": 22,
   "metadata": {},
   "outputs": [
    {
     "data": {
      "text/plain": [
       "['Mexican Whip-poor-will', 'Buff-collared Nightjar']"
      ]
     },
     "execution_count": 22,
     "metadata": {},
     "output_type": "execute_result"
    }
   ],
   "source": [
    "list(set(df_bna_t['common_name'].tolist()).difference(df_bna_t_e['common_name'].tolist()))"
   ]
  },
  {
   "cell_type": "code",
   "execution_count": 23,
   "metadata": {},
   "outputs": [],
   "source": [
    "# subdir = 'data/output/'\n",
    "# filename = 'all_obligate_aerial_insectivores_tyrannidae_ebirdst.csv'\n",
    "# df_bna_t_e[['species_code', 'scientific_name', 'common_name']].to_csv(subdir + filename, index=False)"
   ]
  },
  {
   "cell_type": "code",
   "execution_count": 24,
   "metadata": {},
   "outputs": [],
   "source": [
    "subdir = 'data/output/'\n",
    "filename = 'all_obligate_aerial_insectivores_tyrannidae_ebirdst_order_family_aerial_maneuver.csv'\n",
    "df_bna_t_e[['species_code', 'scientific_name', 'common_name', 'order', 'family', 'aerial_maneuver']].to_csv(\n",
    "    subdir + filename, index=False)"
   ]
  },
  {
   "cell_type": "code",
   "execution_count": null,
   "metadata": {},
   "outputs": [],
   "source": []
  },
  {
   "cell_type": "code",
   "execution_count": null,
   "metadata": {},
   "outputs": [],
   "source": [
    "# df_a_i_e = df_a_i.merge(df_e, on=['scientific_name', 'common_name'])"
   ]
  },
  {
   "cell_type": "code",
   "execution_count": null,
   "metadata": {},
   "outputs": [],
   "source": [
    "# len(df_a_i_e)"
   ]
  },
  {
   "cell_type": "code",
   "execution_count": null,
   "metadata": {},
   "outputs": [],
   "source": [
    "# df_a_i_e.head(2)"
   ]
  },
  {
   "cell_type": "code",
   "execution_count": null,
   "metadata": {},
   "outputs": [],
   "source": [
    "# df_a_i_e['common_name'].tolist()"
   ]
  },
  {
   "cell_type": "code",
   "execution_count": null,
   "metadata": {},
   "outputs": [],
   "source": [
    "# list(set(df_a_i['common_name'].tolist()).difference(df_a_i_e['common_name'].tolist()))"
   ]
  },
  {
   "cell_type": "code",
   "execution_count": null,
   "metadata": {},
   "outputs": [],
   "source": []
  },
  {
   "cell_type": "code",
   "execution_count": null,
   "metadata": {},
   "outputs": [],
   "source": [
    "subdir = 'data/Handbook/'\n",
    "filename = 'migratory_species.csv'\n",
    "df_h = pd.read_csv(subdir + filename)"
   ]
  },
  {
   "cell_type": "code",
   "execution_count": null,
   "metadata": {},
   "outputs": [],
   "source": [
    "df_h = df_h.rename(columns={'Scientific': 'scientific_name'})"
   ]
  },
  {
   "cell_type": "code",
   "execution_count": null,
   "metadata": {},
   "outputs": [],
   "source": [
    "subdir = 'data/output/'\n",
    "filename = 'obligate_aerial_insectivores_birdlife_nacc_north_america_handbook_added.csv'\n",
    "df_a_i_na_h_added = pd.read_csv(subdir + filename)"
   ]
  },
  {
   "cell_type": "code",
   "execution_count": null,
   "metadata": {},
   "outputs": [],
   "source": [
    "print(len(df_h))\n",
    "print(len(df_a_i_na_h_added))"
   ]
  },
  {
   "cell_type": "code",
   "execution_count": null,
   "metadata": {},
   "outputs": [],
   "source": [
    "df_h.head(2)"
   ]
  },
  {
   "cell_type": "code",
   "execution_count": null,
   "metadata": {},
   "outputs": [],
   "source": [
    "df_a_i_na_h_added.head(2)"
   ]
  },
  {
   "cell_type": "code",
   "execution_count": null,
   "metadata": {},
   "outputs": [],
   "source": [
    "df_a_i_na_all_e_h = df_a_i_na_all_e.merge(df_h, on='scientific_name')"
   ]
  },
  {
   "cell_type": "code",
   "execution_count": null,
   "metadata": {},
   "outputs": [],
   "source": [
    "len(df_a_i_na_all_e_h)"
   ]
  },
  {
   "cell_type": "code",
   "execution_count": null,
   "metadata": {},
   "outputs": [],
   "source": [
    "df_a_i_na_all_e_h.head(2)"
   ]
  },
  {
   "cell_type": "code",
   "execution_count": null,
   "metadata": {},
   "outputs": [],
   "source": [
    "list(set(df_a_i_na_h_added['common_name'].tolist()).difference(df_a_i_na_all_e_h['common_name'].tolist()))"
   ]
  },
  {
   "cell_type": "code",
   "execution_count": null,
   "metadata": {},
   "outputs": [],
   "source": [
    "list(set(df_a_i_na_all_e['common_name'].tolist()).difference(df_a_i_na_h_added['common_name'].tolist()))"
   ]
  },
  {
   "cell_type": "code",
   "execution_count": null,
   "metadata": {},
   "outputs": [],
   "source": [
    "df_a_i_na_all_e[df_a_i_na_all_e['common_name'] == 'Common Pauraque']"
   ]
  },
  {
   "cell_type": "code",
   "execution_count": null,
   "metadata": {},
   "outputs": [],
   "source": [
    "df_a_i_na_all_e[df_a_i_na_all_e['common_name'] == 'Antillean Nighthawk']"
   ]
  },
  {
   "cell_type": "markdown",
   "metadata": {},
   "source": [
    "Nyctidromus albicollis/Pauraque: Sex: B, N=37, Mean=53.2\n",
    "\n",
    "Nyctidromus albicollis yucatanensis/Pauraque: Sex: B, N=16, Mean=62.9\n",
    "\n",
    "Chordeiles gundlachii/Antillean Nighthawk: Sex: U, Mean=50, Location: Estimated?"
   ]
  },
  {
   "cell_type": "code",
   "execution_count": null,
   "metadata": {},
   "outputs": [],
   "source": [
    "df_not_in_h = df_a_i_na_all[df_a_i_na_all['common_name'].isin(\n",
    "    list(set(df_a_i_na_all_e['common_name'].tolist()).difference(df_a_i_na_h_added['common_name'].tolist()))\n",
    ")]"
   ]
  },
  {
   "cell_type": "code",
   "execution_count": null,
   "metadata": {},
   "outputs": [],
   "source": [
    "df_not_in_h"
   ]
  },
  {
   "cell_type": "code",
   "execution_count": null,
   "metadata": {},
   "outputs": [],
   "source": [
    "list_masses_not_in_h = [50, 53.2]"
   ]
  },
  {
   "cell_type": "code",
   "execution_count": null,
   "metadata": {},
   "outputs": [],
   "source": [
    "df_not_in_h['BodyMass.Value'] = list_masses_not_in_h\n",
    "# SettingWithCopyWarning"
   ]
  },
  {
   "cell_type": "code",
   "execution_count": null,
   "metadata": {},
   "outputs": [],
   "source": [
    "df_not_in_h[['common_name', 'scientific_name', 'BodyMass.Value']]"
   ]
  },
  {
   "cell_type": "code",
   "execution_count": null,
   "metadata": {},
   "outputs": [],
   "source": [
    "df_a_i_na_e_h_added = df_a_i_na_h_added.merge(df_e[['scientific_name', 'common_name']], \n",
    "                                              on=['scientific_name', 'common_name'])"
   ]
  },
  {
   "cell_type": "code",
   "execution_count": null,
   "metadata": {},
   "outputs": [],
   "source": [
    "len(df_a_i_na_e_h_added)"
   ]
  },
  {
   "cell_type": "code",
   "execution_count": null,
   "metadata": {},
   "outputs": [],
   "source": [
    "df_a_i_na_e_h_added.head(2)"
   ]
  },
  {
   "cell_type": "code",
   "execution_count": null,
   "metadata": {},
   "outputs": [],
   "source": [
    "print(len(df_a_i_na_e_h_added.columns))\n",
    "print(len(df_not_in_h.columns))"
   ]
  },
  {
   "cell_type": "code",
   "execution_count": null,
   "metadata": {},
   "outputs": [],
   "source": [
    "df_a_i_na_e_h_added_non_migratory = df_a_i_na_e_h_added.append(df_not_in_h)"
   ]
  },
  {
   "cell_type": "code",
   "execution_count": null,
   "metadata": {},
   "outputs": [],
   "source": [
    "len(df_a_i_na_e_h_added_non_migratory)"
   ]
  },
  {
   "cell_type": "code",
   "execution_count": null,
   "metadata": {
    "scrolled": true
   },
   "outputs": [],
   "source": [
    "df_a_i_na_e_h_added_non_migratory[['common_name', 'BodyMass.Value']].sort_values(by='BodyMass.Value', \n",
    "                                                                                 ascending=False)"
   ]
  },
  {
   "cell_type": "code",
   "execution_count": null,
   "metadata": {},
   "outputs": [],
   "source": [
    "df_a_i_na_e_h_added_non_migratory = df_a_i_na_e_h_added_non_migratory.merge(\n",
    "    df_a_i_na_all_e[['species_code', 'scientific_name', 'common_name']], on=['scientific_name', 'common_name'])"
   ]
  },
  {
   "cell_type": "code",
   "execution_count": null,
   "metadata": {},
   "outputs": [],
   "source": [
    "len(df_a_i_na_e_h_added_non_migratory)"
   ]
  },
  {
   "cell_type": "code",
   "execution_count": null,
   "metadata": {},
   "outputs": [],
   "source": [
    "df_a_i_na_e_h_added_non_migratory.head(2)"
   ]
  },
  {
   "cell_type": "code",
   "execution_count": null,
   "metadata": {},
   "outputs": [],
   "source": [
    "df_a_i_na_e_h_added_non_migratory = df_a_i_na_e_h_added_non_migratory.rename(columns={'BodyMass.Value': 'body_mass'})"
   ]
  },
  {
   "cell_type": "code",
   "execution_count": null,
   "metadata": {},
   "outputs": [],
   "source": [
    "subdir = 'data/output/'\n",
    "filename = 'all_obligate_aerial_insectivores_ebirdst_handbook.csv'\n",
    "df_a_i_na_e_h_added_non_migratory[['species_code', 'scientific_name', 'common_name', 'body_mass']].to_csv(\n",
    "    subdir + filename, index=False)"
   ]
  }
 ],
 "metadata": {
  "kernelspec": {
   "display_name": "Python 3",
   "language": "python",
   "name": "python3"
  },
  "language_info": {
   "codemirror_mode": {
    "name": "ipython",
    "version": 3
   },
   "file_extension": ".py",
   "mimetype": "text/x-python",
   "name": "python",
   "nbconvert_exporter": "python",
   "pygments_lexer": "ipython3",
   "version": "3.7.7"
  }
 },
 "nbformat": 4,
 "nbformat_minor": 2
}
